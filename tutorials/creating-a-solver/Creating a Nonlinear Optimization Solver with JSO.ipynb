{
 "cells": [
  {
   "cell_type": "code",
   "execution_count": 1,
   "metadata": {},
   "outputs": [
    {
     "name": "stderr",
     "output_type": "stream",
     "text": [
      "\u001b[32m\u001b[1m Activating\u001b[22m\u001b[39m environment at `~/Documents/streaming/notebooks/tutorials/creating-a-solver/Project.toml`\n",
      "\u001b[32m\u001b[1m   Updating\u001b[22m\u001b[39m registry at `~/.julia/registries/General`\n"
     ]
    },
    {
     "name": "stdout",
     "output_type": "stream",
     "text": [
      "\u001b[?25l    "
     ]
    },
    {
     "name": "stderr",
     "output_type": "stream",
     "text": [
      "\u001b[32m\u001b[1m   Updating\u001b[22m\u001b[39m git-repo `https://github.com/JuliaRegistries/General.git`\n"
     ]
    },
    {
     "name": "stdout",
     "output_type": "stream",
     "text": [
      "\u001b[36m\u001b[1mFetching:\u001b[22m\u001b[39m [>                                        ]  0.0 %\r",
      "    \u001b[36m\u001b[1mFetching:\u001b[22m\u001b[39m [=>                                       ]  0.2 %\r",
      "    \u001b[36m\u001b[1mFetching:\u001b[22m\u001b[39m [=>                                       ]  0.3 %\r",
      "    \u001b[36m\u001b[1mFetching:\u001b[22m\u001b[39m [=>                                       ]  0.5 %\r",
      "    \u001b[36m\u001b[1mFetching:\u001b[22m\u001b[39m [=>                                       ]  0.6 %\r",
      "    \u001b[36m\u001b[1mFetching:\u001b[22m\u001b[39m [=>                                       ]  0.8 %\r",
      "    \u001b[36m\u001b[1mFetching:\u001b[22m\u001b[39m [=>                                       ]  0.9 %\r",
      "    \u001b[36m\u001b[1mFetching:\u001b[22m\u001b[39m [=>                                       ]  1.1 %\r",
      "    \u001b[36m\u001b[1mFetching:\u001b[22m\u001b[39m [=>                                       ]  1.2 %\r",
      "    \u001b[36m\u001b[1mFetching:\u001b[22m\u001b[39m [=>                                       ]  1.4 %\r",
      "    \u001b[36m\u001b[1mFetching:\u001b[22m\u001b[39m [=>                                       ]  1.5 %\r",
      "    \u001b[36m\u001b[1mFetching:\u001b[22m\u001b[39m [=>                                       ]  1.7 %\r",
      "    \u001b[36m\u001b[1mFetching:\u001b[22m\u001b[39m [=>                                       ]  1.8 %\r",
      "    \u001b[36m\u001b[1mFetching:\u001b[22m\u001b[39m [=>                                       ]  2.0 %\r",
      "    \u001b[36m\u001b[1mFetching:\u001b[22m\u001b[39m [=>                                       ]  2.1 %\r",
      "    \u001b[36m\u001b[1mFetching:\u001b[22m\u001b[39m [=>                                       ]  2.3 %\r",
      "    \u001b[36m\u001b[1mFetching:\u001b[22m\u001b[39m [=>                                       ]  2.4 %\r",
      "    \u001b[36m\u001b[1mFetching:\u001b[22m\u001b[39m [==>                                      ]  2.6 %\r",
      "    \u001b[36m\u001b[1mFetching:\u001b[22m\u001b[39m [==>                                      ]  2.7 %\r",
      "    \u001b[36m\u001b[1mFetching:\u001b[22m\u001b[39m [==>                                      ]  2.9 %\r",
      "    \u001b[36m\u001b[1mFetching:\u001b[22m\u001b[39m [==>                                      ]  3.0 %\r",
      "    \u001b[36m\u001b[1mFetching:\u001b[22m\u001b[39m [==>                                      ]  3.2 %\r",
      "    \u001b[36m\u001b[1mFetching:\u001b[22m\u001b[39m [==>                                      ]  3.3 %\r",
      "    \u001b[36m\u001b[1mFetching:\u001b[22m\u001b[39m [==>                                      ]  3.5 %\r",
      "    \u001b[36m\u001b[1mFetching:\u001b[22m\u001b[39m [==>                                      ]  3.6 %\r",
      "    \u001b[36m\u001b[1mFetching:\u001b[22m\u001b[39m [==>                                      ]  3.8 %\r",
      "    \u001b[36m\u001b[1mFetching:\u001b[22m\u001b[39m [==>                                      ]  3.9 %\r",
      "    \u001b[36m\u001b[1mFetching:\u001b[22m\u001b[39m [==>                                      ]  4.1 %\r",
      "    \u001b[36m\u001b[1mFetching:\u001b[22m\u001b[39m [==>                                      ]  4.2 %\r",
      "    \u001b[36m\u001b[1mFetching:\u001b[22m\u001b[39m [==>                                      ]  4.4 %\r",
      "    \u001b[36m\u001b[1mFetching:\u001b[22m\u001b[39m [==>                                      ]  4.5 %\r",
      "    \u001b[36m\u001b[1mFetching:\u001b[22m\u001b[39m [==>                                      ]  4.7 %\r",
      "    \u001b[36m\u001b[1mFetching:\u001b[22m\u001b[39m [==>                                      ]  4.8 %\r",
      "    \u001b[36m\u001b[1mFetching:\u001b[22m\u001b[39m [==>                                      ]  5.0 %\r",
      "    \u001b[36m\u001b[1mFetching:\u001b[22m\u001b[39m [===>                                     ]  5.2 %\r",
      "    \u001b[36m\u001b[1mFetching:\u001b[22m\u001b[39m [===>                                     ]  5.3 %\r",
      "    \u001b[36m\u001b[1mFetching:\u001b[22m\u001b[39m [===>                                     ]  5.5 %\r",
      "    \u001b[36m\u001b[1mFetching:\u001b[22m\u001b[39m [===>                                     ]  5.6 %\r",
      "    \u001b[36m\u001b[1mFetching:\u001b[22m\u001b[39m [===>                                     ]  5.8 %\r",
      "    \u001b[36m\u001b[1mFetching:\u001b[22m\u001b[39m [===>                                     ]  5.9 %\r",
      "    \u001b[36m\u001b[1mFetching:\u001b[22m\u001b[39m [===>                                     ]  6.1 %\r",
      "    \u001b[36m\u001b[1mFetching:\u001b[22m\u001b[39m [===>                                     ]  6.2 %\r",
      "    \u001b[36m\u001b[1mFetching:\u001b[22m\u001b[39m [===>                                     ]  6.4 %\r",
      "    \u001b[36m\u001b[1mFetching:\u001b[22m\u001b[39m [===>                                     ]  6.5 %\r",
      "    \u001b[36m\u001b[1mFetching:\u001b[22m\u001b[39m [===>                                     ]  6.7 %\r",
      "    \u001b[36m\u001b[1mFetching:\u001b[22m\u001b[39m [===>                                     ]  6.8 %\r",
      "    \u001b[36m\u001b[1mFetching:\u001b[22m\u001b[39m [===>                                     ]  7.0 %\r",
      "    \u001b[36m\u001b[1mFetching:\u001b[22m\u001b[39m [===>                                     ]  7.1 %\r",
      "    \u001b[36m\u001b[1mFetching:\u001b[22m\u001b[39m [===>                                     ]  7.3 %\r",
      "    \u001b[36m\u001b[1mFetching:\u001b[22m\u001b[39m [===>                                     ]  7.4 %\r",
      "    \u001b[36m\u001b[1mFetching:\u001b[22m\u001b[39m [====>                                    ]  7.6 %\r",
      "    \u001b[36m\u001b[1mFetching:\u001b[22m\u001b[39m [====>                                    ]  7.7 %\r",
      "    \u001b[36m\u001b[1mFetching:\u001b[22m\u001b[39m [====>                                    ]  7.9 %\r",
      "    \u001b[36m\u001b[1mFetching:\u001b[22m\u001b[39m [====>                                    ]  8.0 %\r",
      "    \u001b[36m\u001b[1mFetching:\u001b[22m\u001b[39m [====>                                    ]  8.2 %\r",
      "    \u001b[36m\u001b[1mFetching:\u001b[22m\u001b[39m [====>                                    ]  8.3 %\r",
      "    \u001b[36m\u001b[1mFetching:\u001b[22m\u001b[39m [====>                                    ]  8.5 %\r",
      "    \u001b[36m\u001b[1mFetching:\u001b[22m\u001b[39m [====>                                    ]  8.6 %\r",
      "    \u001b[36m\u001b[1mFetching:\u001b[22m\u001b[39m [====>                                    ]  8.8 %\r",
      "    \u001b[36m\u001b[1mFetching:\u001b[22m\u001b[39m [====>                                    ]  8.9 %\r",
      "    \u001b[36m\u001b[1mFetching:\u001b[22m\u001b[39m [====>                                    ]  9.1 %\r",
      "    \u001b[36m\u001b[1mFetching:\u001b[22m\u001b[39m [====>                                    ]  9.2 %\r",
      "    \u001b[36m\u001b[1mFetching:\u001b[22m\u001b[39m [====>                                    ]  9.4 %\r",
      "    \u001b[36m\u001b[1mFetching:\u001b[22m\u001b[39m [====>                                    ]  9.5 %\r",
      "    \u001b[36m\u001b[1mFetching:\u001b[22m\u001b[39m [====>                                    ]  9.7 %\r",
      "    \u001b[36m\u001b[1mFetching:\u001b[22m\u001b[39m [====>                                    ]  9.8 %\r",
      "    \u001b[36m\u001b[1mFetching:\u001b[22m\u001b[39m [====>                                    ]  10.0 %\r",
      "    \u001b[36m\u001b[1mFetching:\u001b[22m\u001b[39m [=====>                                   ]  10.2 %\r",
      "    \u001b[36m\u001b[1mFetching:\u001b[22m\u001b[39m [=====>                                   ]  10.3 %\r",
      "    \u001b[36m\u001b[1mFetching:\u001b[22m\u001b[39m [=====>                                   ]  10.5 %\r",
      "    \u001b[36m\u001b[1mFetching:\u001b[22m\u001b[39m [=====>                                   ]  10.6 %\r",
      "    \u001b[36m\u001b[1mFetching:\u001b[22m\u001b[39m [=====>                                   ]  10.8 %\r",
      "    \u001b[36m\u001b[1mFetching:\u001b[22m\u001b[39m [=====>                                   ]  10.9 %\r",
      "    \u001b[36m\u001b[1mFetching:\u001b[22m\u001b[39m [=====>                                   ]  11.1 %\r",
      "    \u001b[36m\u001b[1mFetching:\u001b[22m\u001b[39m [=====>                                   ]  11.2 %\r",
      "    \u001b[36m\u001b[1mFetching:\u001b[22m\u001b[39m [=====>                                   ]  11.4 %\r",
      "    \u001b[36m\u001b[1mFetching:\u001b[22m\u001b[39m [=====>                                   ]  11.5 %\r",
      "    \u001b[36m\u001b[1mFetching:\u001b[22m\u001b[39m [=====>                                   ]  11.7 %\r",
      "    \u001b[36m\u001b[1mFetching:\u001b[22m\u001b[39m [=====>                                   ]  11.8 %\r",
      "    \u001b[36m\u001b[1mFetching:\u001b[22m\u001b[39m [=====>                                   ]  12.0 %\r",
      "    \u001b[36m\u001b[1mFetching:\u001b[22m\u001b[39m [=====>                                   ]  12.1 %\r",
      "    \u001b[36m\u001b[1mFetching:\u001b[22m\u001b[39m [=====>                                   ]  12.3 %\r",
      "    \u001b[36m\u001b[1mFetching:\u001b[22m\u001b[39m [=====>                                   ]  12.4 %\r",
      "    \u001b[36m\u001b[1mFetching:\u001b[22m\u001b[39m [======>                                  ]  12.6 %\r",
      "    \u001b[36m\u001b[1mFetching:\u001b[22m\u001b[39m [======>                                  ]  12.7 %\r",
      "    \u001b[36m\u001b[1mFetching:\u001b[22m\u001b[39m [======>                                  ]  12.9 %\r",
      "    \u001b[36m\u001b[1mFetching:\u001b[22m\u001b[39m [======>                                  ]  13.0 %\r",
      "    \u001b[36m\u001b[1mFetching:\u001b[22m\u001b[39m [======>                                  ]  13.2 %\r",
      "    \u001b[36m\u001b[1mFetching:\u001b[22m\u001b[39m [======>                                  ]  13.3 %\r",
      "    \u001b[36m\u001b[1mFetching:\u001b[22m\u001b[39m [======>                                  ]  13.5 %\r",
      "    \u001b[36m\u001b[1mFetching:\u001b[22m\u001b[39m [======>                                  ]  13.6 %\r",
      "    \u001b[36m\u001b[1mFetching:\u001b[22m\u001b[39m [======>                                  ]  13.8 %\r",
      "    \u001b[36m\u001b[1mFetching:\u001b[22m\u001b[39m [======>                                  ]  13.9 %\r",
      "    \u001b[36m\u001b[1mFetching:\u001b[22m\u001b[39m [======>                                  ]  14.1 %\r",
      "    \u001b[36m\u001b[1mFetching:\u001b[22m\u001b[39m [======>                                  ]  14.2 %\r",
      "    \u001b[36m\u001b[1mFetching:\u001b[22m\u001b[39m [======>                                  ]  14.4 %\r",
      "    \u001b[36m\u001b[1mFetching:\u001b[22m\u001b[39m [======>                                  ]  14.5 %\r",
      "    \u001b[36m\u001b[1mFetching:\u001b[22m\u001b[39m [======>                                  ]  14.7 %\r",
      "    \u001b[36m\u001b[1mFetching:\u001b[22m\u001b[39m [======>                                  ]  14.8 %\r",
      "    \u001b[36m\u001b[1mFetching:\u001b[22m\u001b[39m [======>                                  ]  15.0 %\r",
      "    \u001b[36m\u001b[1mFetching:\u001b[22m\u001b[39m [=======>                                 ]  15.2 %\r",
      "    \u001b[36m\u001b[1mFetching:\u001b[22m\u001b[39m [=======>                                 ]  15.3 %\r",
      "    \u001b[36m\u001b[1mFetching:\u001b[22m\u001b[39m [=======>                                 ]  15.5 %\r",
      "    \u001b[36m\u001b[1mFetching:\u001b[22m\u001b[39m [=======>                                 ]  15.6 %\r",
      "    \u001b[36m\u001b[1mFetching:\u001b[22m\u001b[39m [=======>                                 ]  15.8 %\r",
      "    \u001b[36m\u001b[1mFetching:\u001b[22m\u001b[39m [=======>                                 ]  15.9 %\r",
      "    \u001b[36m\u001b[1mFetching:\u001b[22m\u001b[39m [=======>                                 ]  16.1 %\r",
      "    \u001b[36m\u001b[1mFetching:\u001b[22m\u001b[39m [=======>                                 ]  16.2 %\r",
      "    \u001b[36m\u001b[1mFetching:\u001b[22m\u001b[39m [=======>                                 ]  16.4 %\r",
      "    \u001b[36m\u001b[1mFetching:\u001b[22m\u001b[39m [=======>                                 ]  16.5 %\r",
      "    \u001b[36m\u001b[1mFetching:\u001b[22m\u001b[39m [=======>                                 ]  16.7 %\r",
      "    \u001b[36m\u001b[1mFetching:\u001b[22m\u001b[39m [=======>                                 ]  16.8 %\r",
      "    \u001b[36m\u001b[1mFetching:\u001b[22m\u001b[39m [=======>                                 ]  17.0 %\r",
      "    \u001b[36m\u001b[1mFetching:\u001b[22m\u001b[39m [=======>                                 ]  17.1 %\r",
      "    \u001b[36m\u001b[1mFetching:\u001b[22m\u001b[39m [=======>                                 ]  17.3 %\r",
      "    \u001b[36m\u001b[1mFetching:\u001b[22m\u001b[39m [=======>                                 ]  17.4 %\r",
      "    \u001b[36m\u001b[1mFetching:\u001b[22m\u001b[39m [========>                                ]  17.6 %\r",
      "    \u001b[36m\u001b[1mFetching:\u001b[22m\u001b[39m [========>                                ]  17.7 %\r",
      "    \u001b[36m\u001b[1mFetching:\u001b[22m\u001b[39m [========>                                ]  17.9 %\r",
      "    \u001b[36m\u001b[1mFetching:\u001b[22m\u001b[39m [========>                                ]  18.0 %\r",
      "    \u001b[36m\u001b[1mFetching:\u001b[22m\u001b[39m [========>                                ]  18.2 %\r",
      "    \u001b[36m\u001b[1mFetching:\u001b[22m\u001b[39m ["
     ]
    },
    {
     "name": "stdout",
     "output_type": "stream",
     "text": [
      "========>                                ]  18.3 %\r",
      "    \u001b[36m\u001b[1mFetching:\u001b[22m\u001b[39m [========>                                ]  18.5 %\r",
      "    \u001b[36m\u001b[1mFetching:\u001b[22m\u001b[39m [========>                                ]  18.6 %\r",
      "    \u001b[36m\u001b[1mFetching:\u001b[22m\u001b[39m [========>                                ]  18.8 %\r",
      "    \u001b[36m\u001b[1mFetching:\u001b[22m\u001b[39m [========>                                ]  18.9 %\r",
      "    \u001b[36m\u001b[1mFetching:\u001b[22m\u001b[39m [========>                                ]  19.1 %\r",
      "    \u001b[36m\u001b[1mFetching:\u001b[22m\u001b[39m [========>                                ]  19.2 %\r",
      "    \u001b[36m\u001b[1mFetching:\u001b[22m\u001b[39m [========>                                ]  19.4 %\r",
      "    \u001b[36m\u001b[1mFetching:\u001b[22m\u001b[39m [========>                                ]  19.5 %\r",
      "    \u001b[36m\u001b[1mFetching:\u001b[22m\u001b[39m [========>                                ]  19.7 %\r",
      "    \u001b[36m\u001b[1mFetching:\u001b[22m\u001b[39m [========>                                ]  19.8 %\r",
      "    \u001b[36m\u001b[1mFetching:\u001b[22m\u001b[39m [========>                                ]  20.0 %\r",
      "    \u001b[36m\u001b[1mFetching:\u001b[22m\u001b[39m [=========>                               ]  20.2 %\r",
      "    \u001b[36m\u001b[1mFetching:\u001b[22m\u001b[39m [=========>                               ]  20.3 %\r",
      "    \u001b[36m\u001b[1mFetching:\u001b[22m\u001b[39m [=========>                               ]  20.5 %\r",
      "    \u001b[36m\u001b[1mFetching:\u001b[22m\u001b[39m [=========>                               ]  20.6 %\r",
      "    \u001b[36m\u001b[1mFetching:\u001b[22m\u001b[39m [=========>                               ]  20.8 %\r",
      "    \u001b[36m\u001b[1mFetching:\u001b[22m\u001b[39m [=========>                               ]  20.9 %\r",
      "    \u001b[36m\u001b[1mFetching:\u001b[22m\u001b[39m [=========>                               ]  21.1 %\r",
      "    \u001b[36m\u001b[1mFetching:\u001b[22m\u001b[39m [=========>                               ]  21.2 %\r",
      "    \u001b[36m\u001b[1mFetching:\u001b[22m\u001b[39m [=========>                               ]  21.4 %\r",
      "    \u001b[36m\u001b[1mFetching:\u001b[22m\u001b[39m [=========>                               ]  21.5 %\r",
      "    \u001b[36m\u001b[1mFetching:\u001b[22m\u001b[39m [=========>                               ]  21.7 %\r",
      "    \u001b[36m\u001b[1mFetching:\u001b[22m\u001b[39m [=========>                               ]  21.8 %\r",
      "    \u001b[36m\u001b[1mFetching:\u001b[22m\u001b[39m [=========>                               ]  22.0 %\r",
      "    \u001b[36m\u001b[1mFetching:\u001b[22m\u001b[39m [=========>                               ]  22.1 %\r",
      "    \u001b[36m\u001b[1mFetching:\u001b[22m\u001b[39m [=========>                               ]  22.3 %\r",
      "    \u001b[36m\u001b[1mFetching:\u001b[22m\u001b[39m [=========>                               ]  22.4 %\r",
      "    \u001b[36m\u001b[1mFetching:\u001b[22m\u001b[39m [==========>                              ]  22.6 %\r",
      "    \u001b[36m\u001b[1mFetching:\u001b[22m\u001b[39m [==========>                              ]  22.7 %\r",
      "    \u001b[36m\u001b[1mFetching:\u001b[22m\u001b[39m [==========>                              ]  22.9 %\r",
      "    \u001b[36m\u001b[1mFetching:\u001b[22m\u001b[39m [==========>                              ]  23.0 %\r",
      "    \u001b[36m\u001b[1mFetching:\u001b[22m\u001b[39m [==========>                              ]  23.2 %\r",
      "    \u001b[36m\u001b[1mFetching:\u001b[22m\u001b[39m [==========>                              ]  23.3 %\r",
      "    \u001b[36m\u001b[1mFetching:\u001b[22m\u001b[39m [==========>                              ]  23.5 %\r",
      "    \u001b[36m\u001b[1mFetching:\u001b[22m\u001b[39m [==========>                              ]  23.6 %\r",
      "    \u001b[36m\u001b[1mFetching:\u001b[22m\u001b[39m [==========>                              ]  23.8 %\r",
      "    \u001b[36m\u001b[1mFetching:\u001b[22m\u001b[39m [==========>                              ]  23.9 %\r",
      "    \u001b[36m\u001b[1mFetching:\u001b[22m\u001b[39m [==========>                              ]  24.1 %\r",
      "    \u001b[36m\u001b[1mFetching:\u001b[22m\u001b[39m [==========>                              ]  24.2 %\r",
      "    \u001b[36m\u001b[1mFetching:\u001b[22m\u001b[39m [==========>                              ]  24.4 %\r",
      "    \u001b[36m\u001b[1mFetching:\u001b[22m\u001b[39m [==========>                              ]  24.5 %\r",
      "    \u001b[36m\u001b[1mFetching:\u001b[22m\u001b[39m [==========>                              ]  24.7 %\r",
      "    \u001b[36m\u001b[1mFetching:\u001b[22m\u001b[39m [==========>                              ]  24.8 %\r",
      "    \u001b[36m\u001b[1mFetching:\u001b[22m\u001b[39m [==========>                              ]  25.0 %\r",
      "    \u001b[36m\u001b[1mFetching:\u001b[22m\u001b[39m [===========>                             ]  25.2 %\r",
      "    \u001b[36m\u001b[1mFetching:\u001b[22m\u001b[39m [===========>                             ]  25.3 %\r",
      "    \u001b[36m\u001b[1mFetching:\u001b[22m\u001b[39m [===========>                             ]  25.5 %\r",
      "    \u001b[36m\u001b[1mFetching:\u001b[22m\u001b[39m [===========>                             ]  25.6 %\r",
      "    \u001b[36m\u001b[1mFetching:\u001b[22m\u001b[39m [===========>                             ]  25.8 %\r",
      "    \u001b[36m\u001b[1mFetching:\u001b[22m\u001b[39m [===========>                             ]  25.9 %\r",
      "    \u001b[36m\u001b[1mFetching:\u001b[22m\u001b[39m [===========>                             ]  26.1 %\r",
      "    \u001b[36m\u001b[1mFetching:\u001b[22m\u001b[39m [===========>                             ]  26.2 %\r",
      "    \u001b[36m\u001b[1mFetching:\u001b[22m\u001b[39m [===========>                             ]  26.4 %\r",
      "    \u001b[36m\u001b[1mFetching:\u001b[22m\u001b[39m [===========>                             ]  26.5 %\r",
      "    \u001b[36m\u001b[1mFetching:\u001b[22m\u001b[39m [===========>                             ]  26.7 %\r",
      "    \u001b[36m\u001b[1mFetching:\u001b[22m\u001b[39m [===========>                             ]  26.8 %\r",
      "    \u001b[36m\u001b[1mFetching:\u001b[22m\u001b[39m [===========>                             ]  27.0 %\r",
      "    \u001b[36m\u001b[1mFetching:\u001b[22m\u001b[39m [===========>                             ]  27.1 %\r",
      "    \u001b[36m\u001b[1mFetching:\u001b[22m\u001b[39m [===========>                             ]  27.3 %\r",
      "    \u001b[36m\u001b[1mFetching:\u001b[22m\u001b[39m [===========>                             ]  27.4 %\r",
      "    \u001b[36m\u001b[1mFetching:\u001b[22m\u001b[39m [============>                            ]  27.6 %\r",
      "    \u001b[36m\u001b[1mFetching:\u001b[22m\u001b[39m [============>                            ]  27.7 %\r",
      "    \u001b[36m\u001b[1mFetching:\u001b[22m\u001b[39m [============>                            ]  27.9 %\r",
      "    \u001b[36m\u001b[1mFetching:\u001b[22m\u001b[39m [============>                            ]  28.0 %\r",
      "    \u001b[36m\u001b[1mFetching:\u001b[22m\u001b[39m [============>                            ]  28.2 %\r",
      "    \u001b[36m\u001b[1mFetching:\u001b[22m\u001b[39m [============>                            ]  28.3 %\r",
      "    \u001b[36m\u001b[1mFetching:\u001b[22m\u001b[39m [============>                            ]  28.5 %\r",
      "    \u001b[36m\u001b[1mFetching:\u001b[22m\u001b[39m [============>                            ]  28.6 %\r",
      "    \u001b[36m\u001b[1mFetching:\u001b[22m\u001b[39m [============>                            ]  28.8 %\r",
      "    \u001b[36m\u001b[1mFetching:\u001b[22m\u001b[39m [============>                            ]  28.9 %\r",
      "    \u001b[36m\u001b[1mFetching:\u001b[22m\u001b[39m [============>                            ]  29.1 %\r",
      "    \u001b[36m\u001b[1mFetching:\u001b[22m\u001b[39m [============>                            ]  29.2 %\r",
      "    \u001b[36m\u001b[1mFetching:\u001b[22m\u001b[39m [============>                            ]  29.4 %\r",
      "    \u001b[36m\u001b[1mFetching:\u001b[22m\u001b[39m [============>                            ]  29.5 %\r",
      "    \u001b[36m\u001b[1mFetching:\u001b[22m\u001b[39m [============>                            ]  29.7 %\r",
      "    \u001b[36m\u001b[1mFetching:\u001b[22m\u001b[39m [============>                            ]  29.8 %\r",
      "    \u001b[36m\u001b[1mFetching:\u001b[22m\u001b[39m [============>                            ]  30.0 %\r",
      "    \u001b[36m\u001b[1mFetching:\u001b[22m\u001b[39m [=============>                           ]  30.2 %\r",
      "    \u001b[36m\u001b[1mFetching:\u001b[22m\u001b[39m [=============>                           ]  30.3 %\r",
      "    \u001b[36m\u001b[1mFetching:\u001b[22m\u001b[39m [=============>                           ]  30.5 %\r",
      "    \u001b[36m\u001b[1mFetching:\u001b[22m\u001b[39m [=============>                           ]  30.6 %\r",
      "    \u001b[36m\u001b[1mFetching:\u001b[22m\u001b[39m [=============>                           ]  30.8 %\r",
      "    \u001b[36m\u001b[1mFetching:\u001b[22m\u001b[39m [=============>                           ]  30.9 %\r",
      "    \u001b[36m\u001b[1mFetching:\u001b[22m\u001b[39m [=============>                           ]  31.1 %\r",
      "    \u001b[36m\u001b[1mFetching:\u001b[22m\u001b[39m [=============>                           ]  31.2 %\r",
      "    \u001b[36m\u001b[1mFetching:\u001b[22m\u001b[39m [=============>                           ]  31.4 %\r",
      "    \u001b[36m\u001b[1mFetching:\u001b[22m\u001b[39m [=============>                           ]  31.5 %\r",
      "    \u001b[36m\u001b[1mFetching:\u001b[22m\u001b[39m [=============>                           ]  31.7 %\r",
      "    \u001b[36m\u001b[1mFetching:\u001b[22m\u001b[39m [=============>                           ]  31.8 %\r",
      "    \u001b[36m\u001b[1mFetching:\u001b[22m\u001b[39m [=============>                           ]  32.0 %\r",
      "    \u001b[36m\u001b[1mFetching:\u001b[22m\u001b[39m [=============>                           ]  32.1 %\r",
      "    \u001b[36m\u001b[1mFetching:\u001b[22m\u001b[39m [=============>                           ]  32.3 %\r",
      "    \u001b[36m\u001b[1mFetching:\u001b[22m\u001b[39m [=============>                           ]  32.4 %\r",
      "    \u001b[36m\u001b[1mFetching:\u001b[22m\u001b[39m [==============>                          ]  32.6 %\r",
      "    \u001b[36m\u001b[1mFetching:\u001b[22m\u001b[39m [==============>                          ]  32.7 %\r",
      "    \u001b[36m\u001b[1mFetching:\u001b[22m\u001b[39m [==============>                          ]  32.9 %\r",
      "    \u001b[36m\u001b[1mFetching:\u001b[22m\u001b[39m [==============>                          ]  33.0 %\r",
      "    \u001b[36m\u001b[1mFetching:\u001b[22m\u001b[39m [==============>                          ]  33.2 %\r",
      "    \u001b[36m\u001b[1mFetching:\u001b[22m\u001b[39m [==============>                          ]  33.3 %\r",
      "    \u001b[36m\u001b[1mFetching:\u001b[22m\u001b[39m [==============>                          ]  33.5 %\r",
      "    \u001b[36m\u001b[1mFetching:\u001b[22m\u001b[39m [==============>                          ]  33.6 %\r",
      "    \u001b[36m\u001b[1mFetching:\u001b[22m\u001b[39m [==============>                          ]  33.8 %\r",
      "    \u001b[36m\u001b[1mFetching:\u001b[22m\u001b[39m [==============>                          ]  33.9 %\r",
      "    \u001b[36m\u001b[1mFetching:\u001b[22m\u001b[39m [==============>                          ]  34.1 %\r",
      "    \u001b[36m\u001b[1mFetching:\u001b[22m\u001b[39m [==============>                          ]  34.2 %\r",
      "    \u001b[36m\u001b[1mFetching:\u001b[22m\u001b[39m [==============>                          ]  34.4 %\r",
      "    \u001b[36m\u001b[1mFetching:\u001b[22m\u001b[39m [==============>                          ]  34.5 %\r",
      "    \u001b[36m\u001b[1mFetching:\u001b[22m\u001b[39m [==============>                          ]  34.7 %\r",
      "    \u001b[36m\u001b[1mFetching:\u001b[22m\u001b[39m [==============>                          ]  34.8 %\r",
      "    \u001b[36m\u001b[1mFetching:\u001b[22m\u001b[39m [==============>                          ]  35.0 %\r",
      "    \u001b[36m\u001b[1mFetching:\u001b[22m\u001b[39m [===============>                         ]  35.2 %\r",
      "    \u001b[36m\u001b[1mFetching:\u001b[22m\u001b[39m [===============>                         ]  35.3 %\r",
      "    \u001b[36m\u001b[1mFetching:\u001b[22m\u001b[39m [===============>                         ]  35.5 %\r",
      "    \u001b[36m\u001b[1mFetching:\u001b[22m\u001b[39m [===============>                         ]  35.6 %\r",
      "    \u001b[36m\u001b[1mFetching:\u001b[22m\u001b[39m [===============>                         ]  35.8 %\r",
      "    \u001b[36m\u001b[1mFetching:\u001b[22m\u001b[39m [===============>                         ]  35.9 %\r",
      "    \u001b[36m\u001b[1mFetching:\u001b[22m\u001b[39m [===============>                         ]  36.1 %\r",
      "    \u001b[36m\u001b[1mFetching:\u001b[22m\u001b[39m [===============>                         ]  36.2 %\r",
      "    \u001b[36m\u001b[1mFetching:\u001b[22m\u001b[39m [===============>                         ]  36.4 %\r",
      "    \u001b[36m\u001b[1mFetching:\u001b[22m\u001b[39m [===============>                         ]  "
     ]
    },
    {
     "name": "stdout",
     "output_type": "stream",
     "text": [
      "36.5 %\r",
      "    \u001b[36m\u001b[1mFetching:\u001b[22m\u001b[39m [===============>                         ]  36.7 %\r",
      "    \u001b[36m\u001b[1mFetching:\u001b[22m\u001b[39m [===============>                         ]  36.8 %\r",
      "    \u001b[36m\u001b[1mFetching:\u001b[22m\u001b[39m [===============>                         ]  37.0 %\r",
      "    \u001b[36m\u001b[1mFetching:\u001b[22m\u001b[39m [===============>                         ]  37.1 %\r",
      "    \u001b[36m\u001b[1mFetching:\u001b[22m\u001b[39m [===============>                         ]  37.3 %\r",
      "    \u001b[36m\u001b[1mFetching:\u001b[22m\u001b[39m [===============>                         ]  37.4 %\r",
      "    \u001b[36m\u001b[1mFetching:\u001b[22m\u001b[39m [================>                        ]  37.6 %\r",
      "    \u001b[36m\u001b[1mFetching:\u001b[22m\u001b[39m [================>                        ]  37.7 %\r",
      "    \u001b[36m\u001b[1mFetching:\u001b[22m\u001b[39m [================>                        ]  37.9 %\r",
      "    \u001b[36m\u001b[1mFetching:\u001b[22m\u001b[39m [================>                        ]  38.0 %\r",
      "    \u001b[36m\u001b[1mFetching:\u001b[22m\u001b[39m [================>                        ]  38.2 %\r",
      "    \u001b[36m\u001b[1mFetching:\u001b[22m\u001b[39m [================>                        ]  38.3 %\r",
      "    \u001b[36m\u001b[1mFetching:\u001b[22m\u001b[39m [================>                        ]  38.5 %\r",
      "    \u001b[36m\u001b[1mFetching:\u001b[22m\u001b[39m [================>                        ]  38.6 %\r",
      "    \u001b[36m\u001b[1mFetching:\u001b[22m\u001b[39m [================>                        ]  38.8 %\r",
      "    \u001b[36m\u001b[1mFetching:\u001b[22m\u001b[39m [================>                        ]  38.9 %\r",
      "    \u001b[36m\u001b[1mFetching:\u001b[22m\u001b[39m [================>                        ]  39.1 %\r",
      "    \u001b[36m\u001b[1mFetching:\u001b[22m\u001b[39m [================>                        ]  39.2 %\r",
      "    \u001b[36m\u001b[1mFetching:\u001b[22m\u001b[39m [================>                        ]  39.4 %\r",
      "    \u001b[36m\u001b[1mFetching:\u001b[22m\u001b[39m [================>                        ]  39.5 %\r",
      "    \u001b[36m\u001b[1mFetching:\u001b[22m\u001b[39m [================>                        ]  39.7 %\r",
      "    \u001b[36m\u001b[1mFetching:\u001b[22m\u001b[39m [================>                        ]  39.8 %\r",
      "    \u001b[36m\u001b[1mFetching:\u001b[22m\u001b[39m [================>                        ]  40.0 %\r",
      "    \u001b[36m\u001b[1mFetching:\u001b[22m\u001b[39m [=================>                       ]  40.2 %\r",
      "    \u001b[36m\u001b[1mFetching:\u001b[22m\u001b[39m [=================>                       ]  40.3 %\r",
      "    \u001b[36m\u001b[1mFetching:\u001b[22m\u001b[39m [=================>                       ]  40.5 %\r",
      "    \u001b[36m\u001b[1mFetching:\u001b[22m\u001b[39m [=================>                       ]  40.6 %\r",
      "    \u001b[36m\u001b[1mFetching:\u001b[22m\u001b[39m [=================>                       ]  40.8 %\r",
      "    \u001b[36m\u001b[1mFetching:\u001b[22m\u001b[39m [=================>                       ]  40.9 %\r",
      "    \u001b[36m\u001b[1mFetching:\u001b[22m\u001b[39m [=================>                       ]  41.1 %\r",
      "    \u001b[36m\u001b[1mFetching:\u001b[22m\u001b[39m [=================>                       ]  41.2 %\r",
      "    \u001b[36m\u001b[1mFetching:\u001b[22m\u001b[39m [=================>                       ]  41.4 %\r",
      "    \u001b[36m\u001b[1mFetching:\u001b[22m\u001b[39m [=================>                       ]  41.5 %\r",
      "    \u001b[36m\u001b[1mFetching:\u001b[22m\u001b[39m [=================>                       ]  41.7 %\r",
      "    \u001b[36m\u001b[1mFetching:\u001b[22m\u001b[39m [=================>                       ]  41.8 %\r",
      "    \u001b[36m\u001b[1mFetching:\u001b[22m\u001b[39m [=================>                       ]  42.0 %\r",
      "    \u001b[36m\u001b[1mFetching:\u001b[22m\u001b[39m [=================>                       ]  42.1 %\r",
      "    \u001b[36m\u001b[1mFetching:\u001b[22m\u001b[39m [=================>                       ]  42.3 %\r",
      "    \u001b[36m\u001b[1mFetching:\u001b[22m\u001b[39m [=================>                       ]  42.4 %\r",
      "    \u001b[36m\u001b[1mFetching:\u001b[22m\u001b[39m [==================>                      ]  42.6 %\r",
      "    \u001b[36m\u001b[1mFetching:\u001b[22m\u001b[39m [==================>                      ]  42.7 %\r",
      "    \u001b[36m\u001b[1mFetching:\u001b[22m\u001b[39m [==================>                      ]  42.9 %\r",
      "    \u001b[36m\u001b[1mFetching:\u001b[22m\u001b[39m [==================>                      ]  43.0 %\r",
      "    \u001b[36m\u001b[1mFetching:\u001b[22m\u001b[39m [==================>                      ]  43.2 %\r",
      "    \u001b[36m\u001b[1mFetching:\u001b[22m\u001b[39m [==================>                      ]  43.3 %\r",
      "    \u001b[36m\u001b[1mFetching:\u001b[22m\u001b[39m [==================>                      ]  43.5 %\r",
      "    \u001b[36m\u001b[1mFetching:\u001b[22m\u001b[39m [==================>                      ]  43.6 %\r",
      "    \u001b[36m\u001b[1mFetching:\u001b[22m\u001b[39m [==================>                      ]  43.8 %\r",
      "    \u001b[36m\u001b[1mFetching:\u001b[22m\u001b[39m [==================>                      ]  43.9 %\r",
      "    \u001b[36m\u001b[1mFetching:\u001b[22m\u001b[39m [==================>                      ]  44.1 %\r",
      "    \u001b[36m\u001b[1mFetching:\u001b[22m\u001b[39m [==================>                      ]  44.2 %\r",
      "    \u001b[36m\u001b[1mFetching:\u001b[22m\u001b[39m [==================>                      ]  44.4 %\r",
      "    \u001b[36m\u001b[1mFetching:\u001b[22m\u001b[39m [==================>                      ]  44.5 %\r",
      "    \u001b[36m\u001b[1mFetching:\u001b[22m\u001b[39m [==================>                      ]  44.7 %\r",
      "    \u001b[36m\u001b[1mFetching:\u001b[22m\u001b[39m [==================>                      ]  44.8 %\r",
      "    \u001b[36m\u001b[1mFetching:\u001b[22m\u001b[39m [==================>                      ]  45.0 %\r",
      "    \u001b[36m\u001b[1mFetching:\u001b[22m\u001b[39m [===================>                     ]  45.2 %\r",
      "    \u001b[36m\u001b[1mFetching:\u001b[22m\u001b[39m [===================>                     ]  45.3 %\r",
      "    \u001b[36m\u001b[1mFetching:\u001b[22m\u001b[39m [===================>                     ]  45.5 %\r",
      "    \u001b[36m\u001b[1mFetching:\u001b[22m\u001b[39m [===================>                     ]  45.6 %\r",
      "    \u001b[36m\u001b[1mFetching:\u001b[22m\u001b[39m [===================>                     ]  45.8 %\r",
      "    \u001b[36m\u001b[1mFetching:\u001b[22m\u001b[39m [===================>                     ]  45.9 %\r",
      "    \u001b[36m\u001b[1mFetching:\u001b[22m\u001b[39m [===================>                     ]  46.1 %\r",
      "    \u001b[36m\u001b[1mFetching:\u001b[22m\u001b[39m [===================>                     ]  46.2 %\r",
      "    \u001b[36m\u001b[1mFetching:\u001b[22m\u001b[39m [===================>                     ]  46.4 %\r",
      "    \u001b[36m\u001b[1mFetching:\u001b[22m\u001b[39m [===================>                     ]  46.5 %\r",
      "    \u001b[36m\u001b[1mFetching:\u001b[22m\u001b[39m [===================>                     ]  46.7 %\r",
      "    \u001b[36m\u001b[1mFetching:\u001b[22m\u001b[39m [===================>                     ]  46.8 %\r",
      "    \u001b[36m\u001b[1mFetching:\u001b[22m\u001b[39m [===================>                     ]  47.0 %\r",
      "    \u001b[36m\u001b[1mFetching:\u001b[22m\u001b[39m [===================>                     ]  47.1 %\r",
      "    \u001b[36m\u001b[1mFetching:\u001b[22m\u001b[39m [===================>                     ]  47.3 %\r",
      "    \u001b[36m\u001b[1mFetching:\u001b[22m\u001b[39m [===================>                     ]  47.4 %\r",
      "    \u001b[36m\u001b[1mFetching:\u001b[22m\u001b[39m [====================>                    ]  47.6 %\r",
      "    \u001b[36m\u001b[1mFetching:\u001b[22m\u001b[39m [====================>                    ]  47.7 %\r",
      "    \u001b[36m\u001b[1mFetching:\u001b[22m\u001b[39m [====================>                    ]  47.9 %\r",
      "    \u001b[36m\u001b[1mFetching:\u001b[22m\u001b[39m [====================>                    ]  48.0 %\r",
      "    \u001b[36m\u001b[1mFetching:\u001b[22m\u001b[39m [====================>                    ]  48.2 %\r",
      "    \u001b[36m\u001b[1mFetching:\u001b[22m\u001b[39m [====================>                    ]  48.3 %\r",
      "    \u001b[36m\u001b[1mFetching:\u001b[22m\u001b[39m [====================>                    ]  48.5 %\r",
      "    \u001b[36m\u001b[1mFetching:\u001b[22m\u001b[39m [====================>                    ]  48.6 %\r",
      "    \u001b[36m\u001b[1mFetching:\u001b[22m\u001b[39m [====================>                    ]  48.8 %\r",
      "    \u001b[36m\u001b[1mFetching:\u001b[22m\u001b[39m [====================>                    ]  48.9 %\r",
      "    \u001b[36m\u001b[1mFetching:\u001b[22m\u001b[39m [====================>                    ]  49.1 %\r",
      "    \u001b[36m\u001b[1mFetching:\u001b[22m\u001b[39m [====================>                    ]  49.2 %\r",
      "    \u001b[36m\u001b[1mFetching:\u001b[22m\u001b[39m [====================>                    ]  49.4 %\r",
      "    \u001b[36m\u001b[1mFetching:\u001b[22m\u001b[39m [====================>                    ]  49.5 %\r",
      "    \u001b[36m\u001b[1mFetching:\u001b[22m\u001b[39m [====================>                    ]  49.7 %\r",
      "    \u001b[36m\u001b[1mFetching:\u001b[22m\u001b[39m [====================>                    ]  49.8 %\r",
      "    \u001b[36m\u001b[1mFetching:\u001b[22m\u001b[39m [====================>                    ]  50.0 %\r",
      "    \u001b[36m\u001b[1mFetching:\u001b[22m\u001b[39m [=====================>                   ]  50.2 %\r",
      "    \u001b[36m\u001b[1mFetching:\u001b[22m\u001b[39m [=====================>                   ]  50.3 %\r",
      "    \u001b[36m\u001b[1mFetching:\u001b[22m\u001b[39m [=====================>                   ]  50.5 %\r",
      "    \u001b[36m\u001b[1mFetching:\u001b[22m\u001b[39m [=====================>                   ]  50.6 %\r",
      "    \u001b[36m\u001b[1mFetching:\u001b[22m\u001b[39m [=====================>                   ]  50.8 %\r",
      "    \u001b[36m\u001b[1mFetching:\u001b[22m\u001b[39m [=====================>                   ]  50.9 %\r",
      "    \u001b[36m\u001b[1mFetching:\u001b[22m\u001b[39m [=====================>                   ]  51.1 %\r",
      "    \u001b[36m\u001b[1mFetching:\u001b[22m\u001b[39m [=====================>                   ]  51.2 %\r",
      "    \u001b[36m\u001b[1mFetching:\u001b[22m\u001b[39m [=====================>                   ]  51.4 %\r",
      "    \u001b[36m\u001b[1mFetching:\u001b[22m\u001b[39m [=====================>                   ]  51.5 %\r",
      "    \u001b[36m\u001b[1mFetching:\u001b[22m\u001b[39m [=====================>                   ]  51.7 %\r",
      "    \u001b[36m\u001b[1mFetching:\u001b[22m\u001b[39m [=====================>                   ]  51.8 %\r",
      "    \u001b[36m\u001b[1mFetching:\u001b[22m\u001b[39m [=====================>                   ]  52.0 %\r",
      "    \u001b[36m\u001b[1mFetching:\u001b[22m\u001b[39m [=====================>                   ]  52.1 %\r",
      "    \u001b[36m\u001b[1mFetching:\u001b[22m\u001b[39m [=====================>                   ]  52.3 %\r",
      "    \u001b[36m\u001b[1mFetching:\u001b[22m\u001b[39m [=====================>                   ]  52.4 %\r",
      "    \u001b[36m\u001b[1mFetching:\u001b[22m\u001b[39m [======================>                  ]  52.6 %\r",
      "    \u001b[36m\u001b[1mFetching:\u001b[22m\u001b[39m [======================>                  ]  52.7 %\r",
      "    \u001b[36m\u001b[1mFetching:\u001b[22m\u001b[39m [======================>                  ]  52.9 %\r",
      "    \u001b[36m\u001b[1mFetching:\u001b[22m\u001b[39m [======================>                  ]  53.0 %\r",
      "    \u001b[36m\u001b[1mFetching:\u001b[22m\u001b[39m [======================>                  ]  53.2 %\r",
      "    \u001b[36m\u001b[1mFetching:\u001b[22m\u001b[39m [======================>                  ]  53.3 %\r",
      "    \u001b[36m\u001b[1mFetching:\u001b[22m\u001b[39m [======================>                  ]  53.5 %\r",
      "    \u001b[36m\u001b[1mFetching:\u001b[22m\u001b[39m [======================>                  ]  53.6 %\r",
      "    \u001b[36m\u001b[1mFetching:\u001b[22m\u001b[39m [======================>                  ]  53.8 %\r",
      "    \u001b[36m\u001b[1mFetching:\u001b[22m\u001b[39m [======================>                  ]  53.9 %\r",
      "    \u001b[36m\u001b[1mFetching:\u001b[22m\u001b[39m [======================>                  ]  54.1 %\r",
      "    \u001b[36m\u001b[1mFetching:\u001b[22m\u001b[39m [======================>                  ]  54.2 %\r",
      "    \u001b[36m\u001b[1mFetching:\u001b[22m\u001b[39m [======================>                  ]  54.4 %\r",
      "    \u001b[36m\u001b[1mFetching:\u001b[22m\u001b[39m [======================>                  ]  54.5 %\r",
      "    \u001b[36m\u001b[1mFetching:\u001b[22m\u001b[39m [======================>                  ]  54.7 %\r",
      "    \u001b[36m\u001b[1mFetching:\u001b[22m\u001b[39m ["
     ]
    },
    {
     "name": "stdout",
     "output_type": "stream",
     "text": [
      "======================>                  ]  54.8 %\r",
      "    \u001b[36m\u001b[1mFetching:\u001b[22m\u001b[39m [=======================>                 ]  55.0 %\r",
      "    \u001b[36m\u001b[1mFetching:\u001b[22m\u001b[39m [=======================>                 ]  55.2 %\r",
      "    \u001b[36m\u001b[1mFetching:\u001b[22m\u001b[39m [=======================>                 ]  55.3 %\r",
      "    \u001b[36m\u001b[1mFetching:\u001b[22m\u001b[39m [=======================>                 ]  55.5 %\r",
      "    \u001b[36m\u001b[1mFetching:\u001b[22m\u001b[39m [=======================>                 ]  55.6 %\r",
      "    \u001b[36m\u001b[1mFetching:\u001b[22m\u001b[39m [=======================>                 ]  55.8 %\r",
      "    \u001b[36m\u001b[1mFetching:\u001b[22m\u001b[39m [=======================>                 ]  55.9 %\r",
      "    \u001b[36m\u001b[1mFetching:\u001b[22m\u001b[39m [=======================>                 ]  56.1 %\r",
      "    \u001b[36m\u001b[1mFetching:\u001b[22m\u001b[39m [=======================>                 ]  56.2 %\r",
      "    \u001b[36m\u001b[1mFetching:\u001b[22m\u001b[39m [=======================>                 ]  56.4 %\r",
      "    \u001b[36m\u001b[1mFetching:\u001b[22m\u001b[39m [=======================>                 ]  56.5 %\r",
      "    \u001b[36m\u001b[1mFetching:\u001b[22m\u001b[39m [=======================>                 ]  56.7 %\r",
      "    \u001b[36m\u001b[1mFetching:\u001b[22m\u001b[39m [=======================>                 ]  56.8 %\r",
      "    \u001b[36m\u001b[1mFetching:\u001b[22m\u001b[39m [=======================>                 ]  57.0 %\r",
      "    \u001b[36m\u001b[1mFetching:\u001b[22m\u001b[39m [=======================>                 ]  57.1 %\r",
      "    \u001b[36m\u001b[1mFetching:\u001b[22m\u001b[39m [=======================>                 ]  57.3 %\r",
      "    \u001b[36m\u001b[1mFetching:\u001b[22m\u001b[39m [=======================>                 ]  57.4 %\r",
      "    \u001b[36m\u001b[1mFetching:\u001b[22m\u001b[39m [========================>                ]  57.6 %\r",
      "    \u001b[36m\u001b[1mFetching:\u001b[22m\u001b[39m [========================>                ]  57.7 %\r",
      "    \u001b[36m\u001b[1mFetching:\u001b[22m\u001b[39m [========================>                ]  57.9 %\r",
      "    \u001b[36m\u001b[1mFetching:\u001b[22m\u001b[39m [========================>                ]  58.0 %\r",
      "    \u001b[36m\u001b[1mFetching:\u001b[22m\u001b[39m [========================>                ]  58.2 %\r",
      "    \u001b[36m\u001b[1mFetching:\u001b[22m\u001b[39m [========================>                ]  58.3 %\r",
      "    \u001b[36m\u001b[1mFetching:\u001b[22m\u001b[39m [========================>                ]  58.5 %\r",
      "    \u001b[36m\u001b[1mFetching:\u001b[22m\u001b[39m [========================>                ]  58.6 %\r",
      "    \u001b[36m\u001b[1mFetching:\u001b[22m\u001b[39m [========================>                ]  58.8 %\r",
      "    \u001b[36m\u001b[1mFetching:\u001b[22m\u001b[39m [========================>                ]  58.9 %\r",
      "    \u001b[36m\u001b[1mFetching:\u001b[22m\u001b[39m [========================>                ]  59.1 %\r",
      "    \u001b[36m\u001b[1mFetching:\u001b[22m\u001b[39m [========================>                ]  59.2 %\r",
      "    \u001b[36m\u001b[1mFetching:\u001b[22m\u001b[39m [========================>                ]  59.4 %\r",
      "    \u001b[36m\u001b[1mFetching:\u001b[22m\u001b[39m [========================>                ]  59.5 %\r",
      "    \u001b[36m\u001b[1mFetching:\u001b[22m\u001b[39m [========================>                ]  59.7 %\r",
      "    \u001b[36m\u001b[1mFetching:\u001b[22m\u001b[39m [========================>                ]  59.8 %\r",
      "    \u001b[36m\u001b[1mFetching:\u001b[22m\u001b[39m [========================>                ]  60.0 %\r",
      "    \u001b[36m\u001b[1mFetching:\u001b[22m\u001b[39m [=========================>               ]  60.2 %\r",
      "    \u001b[36m\u001b[1mFetching:\u001b[22m\u001b[39m [=========================>               ]  60.3 %\r",
      "    \u001b[36m\u001b[1mFetching:\u001b[22m\u001b[39m [=========================>               ]  60.5 %\r",
      "    \u001b[36m\u001b[1mFetching:\u001b[22m\u001b[39m [=========================>               ]  60.6 %\r",
      "    \u001b[36m\u001b[1mFetching:\u001b[22m\u001b[39m [=========================>               ]  60.8 %\r",
      "    \u001b[36m\u001b[1mFetching:\u001b[22m\u001b[39m [=========================>               ]  60.9 %\r",
      "    \u001b[36m\u001b[1mFetching:\u001b[22m\u001b[39m [=========================>               ]  61.1 %\r",
      "    \u001b[36m\u001b[1mFetching:\u001b[22m\u001b[39m [=========================>               ]  61.2 %\r",
      "    \u001b[36m\u001b[1mFetching:\u001b[22m\u001b[39m [=========================>               ]  61.4 %\r",
      "    \u001b[36m\u001b[1mFetching:\u001b[22m\u001b[39m [=========================>               ]  61.5 %\r",
      "    \u001b[36m\u001b[1mFetching:\u001b[22m\u001b[39m [=========================>               ]  61.7 %\r",
      "    \u001b[36m\u001b[1mFetching:\u001b[22m\u001b[39m [=========================>               ]  61.8 %\r",
      "    \u001b[36m\u001b[1mFetching:\u001b[22m\u001b[39m [=========================>               ]  62.0 %\r",
      "    \u001b[36m\u001b[1mFetching:\u001b[22m\u001b[39m [=========================>               ]  62.1 %\r",
      "    \u001b[36m\u001b[1mFetching:\u001b[22m\u001b[39m [=========================>               ]  62.3 %\r",
      "    \u001b[36m\u001b[1mFetching:\u001b[22m\u001b[39m [=========================>               ]  62.4 %\r",
      "    \u001b[36m\u001b[1mFetching:\u001b[22m\u001b[39m [==========================>              ]  62.6 %\r",
      "    \u001b[36m\u001b[1mFetching:\u001b[22m\u001b[39m [==========================>              ]  62.7 %\r",
      "    \u001b[36m\u001b[1mFetching:\u001b[22m\u001b[39m [==========================>              ]  62.9 %\r",
      "    \u001b[36m\u001b[1mFetching:\u001b[22m\u001b[39m [==========================>              ]  63.0 %\r",
      "    \u001b[36m\u001b[1mFetching:\u001b[22m\u001b[39m [==========================>              ]  63.2 %\r",
      "    \u001b[36m\u001b[1mFetching:\u001b[22m\u001b[39m [==========================>              ]  63.3 %\r",
      "    \u001b[36m\u001b[1mFetching:\u001b[22m\u001b[39m [==========================>              ]  63.5 %\r",
      "    \u001b[36m\u001b[1mFetching:\u001b[22m\u001b[39m [==========================>              ]  63.6 %\r",
      "    \u001b[36m\u001b[1mFetching:\u001b[22m\u001b[39m [==========================>              ]  63.8 %\r",
      "    \u001b[36m\u001b[1mFetching:\u001b[22m\u001b[39m [==========================>              ]  63.9 %\r",
      "    \u001b[36m\u001b[1mFetching:\u001b[22m\u001b[39m [==========================>              ]  64.1 %\r",
      "    \u001b[36m\u001b[1mFetching:\u001b[22m\u001b[39m [==========================>              ]  64.2 %\r",
      "    \u001b[36m\u001b[1mFetching:\u001b[22m\u001b[39m [==========================>              ]  64.4 %\r",
      "    \u001b[36m\u001b[1mFetching:\u001b[22m\u001b[39m [==========================>              ]  64.5 %\r",
      "    \u001b[36m\u001b[1mFetching:\u001b[22m\u001b[39m [==========================>              ]  64.7 %\r",
      "    \u001b[36m\u001b[1mFetching:\u001b[22m\u001b[39m [==========================>              ]  64.8 %\r",
      "    \u001b[36m\u001b[1mFetching:\u001b[22m\u001b[39m [==========================>              ]  65.0 %\r",
      "    \u001b[36m\u001b[1mFetching:\u001b[22m\u001b[39m [===========================>             ]  65.2 %\r",
      "    \u001b[36m\u001b[1mFetching:\u001b[22m\u001b[39m [===========================>             ]  65.3 %\r",
      "    \u001b[36m\u001b[1mFetching:\u001b[22m\u001b[39m [===========================>             ]  65.5 %\r",
      "    \u001b[36m\u001b[1mFetching:\u001b[22m\u001b[39m [===========================>             ]  65.6 %\r",
      "    \u001b[36m\u001b[1mFetching:\u001b[22m\u001b[39m [===========================>             ]  65.8 %\r",
      "    \u001b[36m\u001b[1mFetching:\u001b[22m\u001b[39m [===========================>             ]  65.9 %\r",
      "    \u001b[36m\u001b[1mFetching:\u001b[22m\u001b[39m [===========================>             ]  66.1 %\r",
      "    \u001b[36m\u001b[1mFetching:\u001b[22m\u001b[39m [===========================>             ]  66.2 %\r",
      "    \u001b[36m\u001b[1mFetching:\u001b[22m\u001b[39m [===========================>             ]  66.4 %\r",
      "    \u001b[36m\u001b[1mFetching:\u001b[22m\u001b[39m [===========================>             ]  66.5 %\r",
      "    \u001b[36m\u001b[1mFetching:\u001b[22m\u001b[39m [===========================>             ]  66.7 %\r",
      "    \u001b[36m\u001b[1mFetching:\u001b[22m\u001b[39m [===========================>             ]  66.8 %\r",
      "    \u001b[36m\u001b[1mFetching:\u001b[22m\u001b[39m [===========================>             ]  67.0 %\r",
      "    \u001b[36m\u001b[1mFetching:\u001b[22m\u001b[39m [===========================>             ]  67.1 %\r",
      "    \u001b[36m\u001b[1mFetching:\u001b[22m\u001b[39m [===========================>             ]  67.3 %\r",
      "    \u001b[36m\u001b[1mFetching:\u001b[22m\u001b[39m [===========================>             ]  67.4 %\r",
      "    \u001b[36m\u001b[1mFetching:\u001b[22m\u001b[39m [============================>            ]  67.6 %\r",
      "    \u001b[36m\u001b[1mFetching:\u001b[22m\u001b[39m [============================>            ]  67.7 %\r",
      "    \u001b[36m\u001b[1mFetching:\u001b[22m\u001b[39m [============================>            ]  67.9 %\r",
      "    \u001b[36m\u001b[1mFetching:\u001b[22m\u001b[39m [============================>            ]  68.0 %\r",
      "    \u001b[36m\u001b[1mFetching:\u001b[22m\u001b[39m [============================>            ]  68.2 %\r",
      "    \u001b[36m\u001b[1mFetching:\u001b[22m\u001b[39m [============================>            ]  68.3 %\r",
      "    \u001b[36m\u001b[1mFetching:\u001b[22m\u001b[39m [============================>            ]  68.5 %\r",
      "    \u001b[36m\u001b[1mFetching:\u001b[22m\u001b[39m [============================>            ]  68.6 %\r",
      "    \u001b[36m\u001b[1mFetching:\u001b[22m\u001b[39m [============================>            ]  68.8 %\r",
      "    \u001b[36m\u001b[1mFetching:\u001b[22m\u001b[39m [============================>            ]  68.9 %\r",
      "    \u001b[36m\u001b[1mFetching:\u001b[22m\u001b[39m [============================>            ]  69.1 %\r",
      "    \u001b[36m\u001b[1mFetching:\u001b[22m\u001b[39m [============================>            ]  69.2 %\r",
      "    \u001b[36m\u001b[1mFetching:\u001b[22m\u001b[39m [============================>            ]  69.4 %\r",
      "    \u001b[36m\u001b[1mFetching:\u001b[22m\u001b[39m [============================>            ]  69.5 %\r",
      "    \u001b[36m\u001b[1mFetching:\u001b[22m\u001b[39m [============================>            ]  69.7 %\r",
      "    \u001b[36m\u001b[1mFetching:\u001b[22m\u001b[39m [============================>            ]  69.8 %\r",
      "    \u001b[36m\u001b[1mFetching:\u001b[22m\u001b[39m [============================>            ]  70.0 %\r",
      "    \u001b[36m\u001b[1mFetching:\u001b[22m\u001b[39m [=============================>           ]  70.2 %\r",
      "    \u001b[36m\u001b[1mFetching:\u001b[22m\u001b[39m [=============================>           ]  70.3 %\r",
      "    \u001b[36m\u001b[1mFetching:\u001b[22m\u001b[39m [=============================>           ]  70.5 %\r",
      "    \u001b[36m\u001b[1mFetching:\u001b[22m\u001b[39m [=============================>           ]  70.6 %\r",
      "    \u001b[36m\u001b[1mFetching:\u001b[22m\u001b[39m [=============================>           ]  70.8 %\r",
      "    \u001b[36m\u001b[1mFetching:\u001b[22m\u001b[39m [=============================>           ]  70.9 %\r",
      "    \u001b[36m\u001b[1mFetching:\u001b[22m\u001b[39m [=============================>           ]  71.1 %\r",
      "    \u001b[36m\u001b[1mFetching:\u001b[22m\u001b[39m [=============================>           ]  71.2 %\r",
      "    \u001b[36m\u001b[1mFetching:\u001b[22m\u001b[39m [=============================>           ]  71.4 %\r",
      "    \u001b[36m\u001b[1mFetching:\u001b[22m\u001b[39m [=============================>           ]  71.5 %\r",
      "    \u001b[36m\u001b[1mFetching:\u001b[22m\u001b[39m [=============================>           ]  71.7 %\r",
      "    \u001b[36m\u001b[1mFetching:\u001b[22m\u001b[39m [=============================>           ]  71.8 %\r",
      "    \u001b[36m\u001b[1mFetching:\u001b[22m\u001b[39m [=============================>           ]  72.0 %\r",
      "    \u001b[36m\u001b[1mFetching:\u001b[22m\u001b[39m [=============================>           ]  72.1 %\r",
      "    \u001b[36m\u001b[1mFetching:\u001b[22m\u001b[39m [=============================>           ]  72.3 %\r",
      "    \u001b[36m\u001b[1mFetching:\u001b[22m\u001b[39m [=============================>           ]  72.4 %\r",
      "    \u001b[36m\u001b[1mFetching:\u001b[22m\u001b[39m [==============================>          ]  72.6 %\r",
      "    \u001b[36m\u001b[1mFetching:\u001b[22m\u001b[39m [==============================>          ]  72.7 %\r",
      "    \u001b[36m\u001b[1mFetching:\u001b[22m\u001b[39m [==============================>          ]  72.9 %\r",
      "    \u001b[36m\u001b[1mFetching:\u001b[22m\u001b[39m [==============================>          ]  "
     ]
    },
    {
     "name": "stdout",
     "output_type": "stream",
     "text": [
      "73.0 %\r",
      "    \u001b[36m\u001b[1mFetching:\u001b[22m\u001b[39m [==============================>          ]  73.2 %\r",
      "    \u001b[36m\u001b[1mFetching:\u001b[22m\u001b[39m [==============================>          ]  73.3 %\r",
      "    \u001b[36m\u001b[1mFetching:\u001b[22m\u001b[39m [==============================>          ]  73.5 %\r",
      "    \u001b[36m\u001b[1mFetching:\u001b[22m\u001b[39m [==============================>          ]  73.6 %\r",
      "    \u001b[36m\u001b[1mFetching:\u001b[22m\u001b[39m [==============================>          ]  73.8 %\r",
      "    \u001b[36m\u001b[1mFetching:\u001b[22m\u001b[39m [==============================>          ]  73.9 %\r",
      "    \u001b[36m\u001b[1mFetching:\u001b[22m\u001b[39m [==============================>          ]  74.1 %\r",
      "    \u001b[36m\u001b[1mFetching:\u001b[22m\u001b[39m [==============================>          ]  74.2 %\r",
      "    \u001b[36m\u001b[1mFetching:\u001b[22m\u001b[39m [==============================>          ]  74.4 %\r",
      "    \u001b[36m\u001b[1mFetching:\u001b[22m\u001b[39m [==============================>          ]  74.5 %\r",
      "    \u001b[36m\u001b[1mFetching:\u001b[22m\u001b[39m [==============================>          ]  74.7 %\r",
      "    \u001b[36m\u001b[1mFetching:\u001b[22m\u001b[39m [==============================>          ]  74.8 %\r",
      "    \u001b[36m\u001b[1mFetching:\u001b[22m\u001b[39m [==============================>          ]  75.0 %\r",
      "    \u001b[36m\u001b[1mFetching:\u001b[22m\u001b[39m [===============================>         ]  75.2 %\r",
      "    \u001b[36m\u001b[1mFetching:\u001b[22m\u001b[39m [===============================>         ]  75.3 %\r",
      "    \u001b[36m\u001b[1mFetching:\u001b[22m\u001b[39m [===============================>         ]  75.5 %\r",
      "    \u001b[36m\u001b[1mFetching:\u001b[22m\u001b[39m [===============================>         ]  75.6 %\r",
      "    \u001b[36m\u001b[1mFetching:\u001b[22m\u001b[39m [===============================>         ]  75.8 %\r",
      "    \u001b[36m\u001b[1mFetching:\u001b[22m\u001b[39m [===============================>         ]  75.9 %\r",
      "    \u001b[36m\u001b[1mFetching:\u001b[22m\u001b[39m [===============================>         ]  76.1 %\r",
      "    \u001b[36m\u001b[1mFetching:\u001b[22m\u001b[39m [===============================>         ]  76.2 %\r",
      "    \u001b[36m\u001b[1mFetching:\u001b[22m\u001b[39m [===============================>         ]  76.4 %\r",
      "    \u001b[36m\u001b[1mFetching:\u001b[22m\u001b[39m [===============================>         ]  76.5 %\r",
      "    \u001b[36m\u001b[1mFetching:\u001b[22m\u001b[39m [===============================>         ]  76.7 %\r",
      "    \u001b[36m\u001b[1mFetching:\u001b[22m\u001b[39m [===============================>         ]  76.8 %\r",
      "    \u001b[36m\u001b[1mFetching:\u001b[22m\u001b[39m [===============================>         ]  77.0 %\r",
      "    \u001b[36m\u001b[1mFetching:\u001b[22m\u001b[39m [===============================>         ]  77.1 %\r",
      "    \u001b[36m\u001b[1mFetching:\u001b[22m\u001b[39m [===============================>         ]  77.3 %\r",
      "    \u001b[36m\u001b[1mFetching:\u001b[22m\u001b[39m [===============================>         ]  77.4 %\r",
      "    \u001b[36m\u001b[1mFetching:\u001b[22m\u001b[39m [================================>        ]  77.6 %\r",
      "    \u001b[36m\u001b[1mFetching:\u001b[22m\u001b[39m [================================>        ]  77.7 %\r",
      "    \u001b[36m\u001b[1mFetching:\u001b[22m\u001b[39m [================================>        ]  77.9 %\r",
      "    \u001b[36m\u001b[1mFetching:\u001b[22m\u001b[39m [================================>        ]  78.0 %\r",
      "    \u001b[36m\u001b[1mFetching:\u001b[22m\u001b[39m [================================>        ]  78.2 %\r",
      "    \u001b[36m\u001b[1mFetching:\u001b[22m\u001b[39m [================================>        ]  78.3 %\r",
      "    \u001b[36m\u001b[1mFetching:\u001b[22m\u001b[39m [================================>        ]  78.5 %\r",
      "    \u001b[36m\u001b[1mFetching:\u001b[22m\u001b[39m [================================>        ]  78.6 %\r",
      "    \u001b[36m\u001b[1mFetching:\u001b[22m\u001b[39m [================================>        ]  78.8 %\r",
      "    \u001b[36m\u001b[1mFetching:\u001b[22m\u001b[39m [================================>        ]  78.9 %\r",
      "    \u001b[36m\u001b[1mFetching:\u001b[22m\u001b[39m [================================>        ]  79.1 %\r",
      "    \u001b[36m\u001b[1mFetching:\u001b[22m\u001b[39m [================================>        ]  79.2 %\r",
      "    \u001b[36m\u001b[1mFetching:\u001b[22m\u001b[39m [================================>        ]  79.4 %\r",
      "    \u001b[36m\u001b[1mFetching:\u001b[22m\u001b[39m [================================>        ]  79.5 %\r",
      "    \u001b[36m\u001b[1mFetching:\u001b[22m\u001b[39m [================================>        ]  79.7 %\r",
      "    \u001b[36m\u001b[1mFetching:\u001b[22m\u001b[39m [================================>        ]  79.8 %\r",
      "    \u001b[36m\u001b[1mFetching:\u001b[22m\u001b[39m [================================>        ]  80.0 %\r",
      "    \u001b[36m\u001b[1mFetching:\u001b[22m\u001b[39m [=================================>       ]  80.2 %\r",
      "    \u001b[36m\u001b[1mFetching:\u001b[22m\u001b[39m [=================================>       ]  80.3 %\r",
      "    \u001b[36m\u001b[1mFetching:\u001b[22m\u001b[39m [=================================>       ]  80.5 %\r",
      "    \u001b[36m\u001b[1mFetching:\u001b[22m\u001b[39m [=================================>       ]  80.6 %\r",
      "    \u001b[36m\u001b[1mFetching:\u001b[22m\u001b[39m [=================================>       ]  80.8 %\r",
      "    \u001b[36m\u001b[1mFetching:\u001b[22m\u001b[39m [=================================>       ]  80.9 %\r",
      "    \u001b[36m\u001b[1mFetching:\u001b[22m\u001b[39m [=================================>       ]  81.1 %\r",
      "    \u001b[36m\u001b[1mFetching:\u001b[22m\u001b[39m [=================================>       ]  81.2 %\r",
      "    \u001b[36m\u001b[1mFetching:\u001b[22m\u001b[39m [=================================>       ]  81.4 %\r",
      "    \u001b[36m\u001b[1mFetching:\u001b[22m\u001b[39m [=================================>       ]  81.5 %\r",
      "    \u001b[36m\u001b[1mFetching:\u001b[22m\u001b[39m [=================================>       ]  81.7 %\r",
      "    \u001b[36m\u001b[1mFetching:\u001b[22m\u001b[39m [=================================>       ]  81.8 %\r",
      "    \u001b[36m\u001b[1mFetching:\u001b[22m\u001b[39m [=================================>       ]  82.0 %\r",
      "    \u001b[36m\u001b[1mFetching:\u001b[22m\u001b[39m [=================================>       ]  82.1 %\r",
      "    \u001b[36m\u001b[1mFetching:\u001b[22m\u001b[39m [=================================>       ]  82.3 %\r",
      "    \u001b[36m\u001b[1mFetching:\u001b[22m\u001b[39m [=================================>       ]  82.4 %\r",
      "    \u001b[36m\u001b[1mFetching:\u001b[22m\u001b[39m [==================================>      ]  82.6 %\r",
      "    \u001b[36m\u001b[1mFetching:\u001b[22m\u001b[39m [==================================>      ]  82.7 %\r",
      "    \u001b[36m\u001b[1mFetching:\u001b[22m\u001b[39m [==================================>      ]  82.9 %\r",
      "    \u001b[36m\u001b[1mFetching:\u001b[22m\u001b[39m [==================================>      ]  83.0 %\r",
      "    \u001b[36m\u001b[1mFetching:\u001b[22m\u001b[39m [==================================>      ]  83.2 %\r",
      "    \u001b[36m\u001b[1mFetching:\u001b[22m\u001b[39m [==================================>      ]  83.3 %\r",
      "    \u001b[36m\u001b[1mFetching:\u001b[22m\u001b[39m [==================================>      ]  83.5 %\r",
      "    \u001b[36m\u001b[1mFetching:\u001b[22m\u001b[39m [==================================>      ]  83.6 %\r",
      "    \u001b[36m\u001b[1mFetching:\u001b[22m\u001b[39m [==================================>      ]  83.8 %\r",
      "    \u001b[36m\u001b[1mFetching:\u001b[22m\u001b[39m [==================================>      ]  83.9 %\r",
      "    \u001b[36m\u001b[1mFetching:\u001b[22m\u001b[39m [==================================>      ]  84.1 %\r",
      "    \u001b[36m\u001b[1mFetching:\u001b[22m\u001b[39m [==================================>      ]  84.2 %\r",
      "    \u001b[36m\u001b[1mFetching:\u001b[22m\u001b[39m [==================================>      ]  84.4 %\r",
      "    \u001b[36m\u001b[1mFetching:\u001b[22m\u001b[39m [==================================>      ]  84.5 %\r",
      "    \u001b[36m\u001b[1mFetching:\u001b[22m\u001b[39m [==================================>      ]  84.7 %\r",
      "    \u001b[36m\u001b[1mFetching:\u001b[22m\u001b[39m [==================================>      ]  84.8 %\r",
      "    \u001b[36m\u001b[1mFetching:\u001b[22m\u001b[39m [==================================>      ]  85.0 %\r",
      "    \u001b[36m\u001b[1mFetching:\u001b[22m\u001b[39m [===================================>     ]  85.2 %\r",
      "    \u001b[36m\u001b[1mFetching:\u001b[22m\u001b[39m [===================================>     ]  85.3 %\r",
      "    \u001b[36m\u001b[1mFetching:\u001b[22m\u001b[39m [===================================>     ]  85.5 %\r",
      "    \u001b[36m\u001b[1mFetching:\u001b[22m\u001b[39m [===================================>     ]  85.6 %\r",
      "    \u001b[36m\u001b[1mFetching:\u001b[22m\u001b[39m [===================================>     ]  85.8 %\r",
      "    \u001b[36m\u001b[1mFetching:\u001b[22m\u001b[39m [===================================>     ]  85.9 %\r",
      "    \u001b[36m\u001b[1mFetching:\u001b[22m\u001b[39m [===================================>     ]  86.1 %\r",
      "    \u001b[36m\u001b[1mFetching:\u001b[22m\u001b[39m [===================================>     ]  86.2 %\r",
      "    \u001b[36m\u001b[1mFetching:\u001b[22m\u001b[39m [===================================>     ]  86.4 %\r",
      "    \u001b[36m\u001b[1mFetching:\u001b[22m\u001b[39m [===================================>     ]  86.5 %\r",
      "    \u001b[36m\u001b[1mFetching:\u001b[22m\u001b[39m [===================================>     ]  86.7 %\r",
      "    \u001b[36m\u001b[1mFetching:\u001b[22m\u001b[39m [===================================>     ]  86.8 %\r",
      "    \u001b[36m\u001b[1mFetching:\u001b[22m\u001b[39m [===================================>     ]  87.0 %\r",
      "    \u001b[36m\u001b[1mFetching:\u001b[22m\u001b[39m [===================================>     ]  87.1 %\r",
      "    \u001b[36m\u001b[1mFetching:\u001b[22m\u001b[39m [===================================>     ]  87.3 %\r",
      "    \u001b[36m\u001b[1mFetching:\u001b[22m\u001b[39m [===================================>     ]  87.4 %\r",
      "    \u001b[36m\u001b[1mFetching:\u001b[22m\u001b[39m [====================================>    ]  87.6 %\r",
      "    \u001b[36m\u001b[1mFetching:\u001b[22m\u001b[39m [====================================>    ]  87.7 %\r",
      "    \u001b[36m\u001b[1mFetching:\u001b[22m\u001b[39m [====================================>    ]  87.9 %\r",
      "    \u001b[36m\u001b[1mFetching:\u001b[22m\u001b[39m [====================================>    ]  88.0 %\r",
      "    \u001b[36m\u001b[1mFetching:\u001b[22m\u001b[39m [====================================>    ]  88.2 %\r",
      "    \u001b[36m\u001b[1mFetching:\u001b[22m\u001b[39m [====================================>    ]  88.3 %\r",
      "    \u001b[36m\u001b[1mFetching:\u001b[22m\u001b[39m [====================================>    ]  88.5 %\r",
      "    \u001b[36m\u001b[1mFetching:\u001b[22m\u001b[39m [====================================>    ]  88.6 %\r",
      "    \u001b[36m\u001b[1mFetching:\u001b[22m\u001b[39m [====================================>    ]  88.8 %\r",
      "    \u001b[36m\u001b[1mFetching:\u001b[22m\u001b[39m [====================================>    ]  88.9 %\r",
      "    \u001b[36m\u001b[1mFetching:\u001b[22m\u001b[39m [====================================>    ]  89.1 %\r",
      "    \u001b[36m\u001b[1mFetching:\u001b[22m\u001b[39m [====================================>    ]  89.2 %\r",
      "    \u001b[36m\u001b[1mFetching:\u001b[22m\u001b[39m [====================================>    ]  89.4 %\r",
      "    \u001b[36m\u001b[1mFetching:\u001b[22m\u001b[39m [====================================>    ]  89.5 %\r",
      "    \u001b[36m\u001b[1mFetching:\u001b[22m\u001b[39m [====================================>    ]  89.7 %\r",
      "    \u001b[36m\u001b[1mFetching:\u001b[22m\u001b[39m [====================================>    ]  89.8 %\r",
      "    \u001b[36m\u001b[1mFetching:\u001b[22m\u001b[39m [====================================>    ]  90.0 %\r",
      "    \u001b[36m\u001b[1mFetching:\u001b[22m\u001b[39m [=====================================>   ]  90.2 %\r",
      "    \u001b[36m\u001b[1mFetching:\u001b[22m\u001b[39m [=====================================>   ]  90.3 %\r",
      "    \u001b[36m\u001b[1mFetching:\u001b[22m\u001b[39m [=====================================>   ]  90.5 %\r",
      "    \u001b[36m\u001b[1mFetching:\u001b[22m\u001b[39m [=====================================>   ]  90.6 %\r",
      "    \u001b[36m\u001b[1mFetching:\u001b[22m\u001b[39m [=====================================>   ]  90.8 %\r",
      "    \u001b[36m\u001b[1mFetching:\u001b[22m\u001b[39m [=====================================>   ]  90.9 %\r",
      "    \u001b[36m\u001b[1mFetching:\u001b[22m\u001b[39m [=====================================>   ]  91.1 %\r",
      "    \u001b[36m\u001b[1mFetching:\u001b[22m\u001b[39m [=====================================>   ]  91.2 %\r",
      "    \u001b[36m\u001b[1mFetching:\u001b[22m\u001b[39m ["
     ]
    },
    {
     "name": "stdout",
     "output_type": "stream",
     "text": [
      "\u001b[2K\u001b[?25h[1mFetching:\u001b[22m\u001b[39m [========================================>]  100.0 %"
     ]
    },
    {
     "name": "stderr",
     "output_type": "stream",
     "text": [
      "\u001b[32m\u001b[1m  Resolving\u001b[22m\u001b[39m package versions...\n",
      "\u001b[32m\u001b[1m   Updating\u001b[22m\u001b[39m `~/Documents/streaming/notebooks/tutorials/creating-a-solver/Project.toml`\n",
      "\u001b[90m [no changes]\u001b[39m\n",
      "\u001b[32m\u001b[1m   Updating\u001b[22m\u001b[39m `~/Documents/streaming/notebooks/tutorials/creating-a-solver/Manifest.toml`\n",
      " \u001b[90m [91d4177d]\u001b[39m\u001b[93m ↑ Opus_jll v1.3.1+0 ⇒ v1.3.1+1\u001b[39m\n",
      " \u001b[90m [f27f6e37]\u001b[39m\u001b[93m ↑ libvorbis_jll v1.3.6+2 ⇒ v1.3.6+3\u001b[39m\n",
      "\u001b[32m\u001b[1m  Resolving\u001b[22m\u001b[39m package versions...\n",
      "\u001b[32m\u001b[1m   Updating\u001b[22m\u001b[39m `~/Documents/streaming/notebooks/tutorials/creating-a-solver/Project.toml`\n",
      "\u001b[90m [no changes]\u001b[39m\n",
      "\u001b[32m\u001b[1m   Updating\u001b[22m\u001b[39m `~/Documents/streaming/notebooks/tutorials/creating-a-solver/Manifest.toml`\n",
      "\u001b[90m [no changes]\u001b[39m\n",
      "\u001b[32m\u001b[1m  Resolving\u001b[22m\u001b[39m package versions...\n",
      "\u001b[32m\u001b[1m   Updating\u001b[22m\u001b[39m `~/Documents/streaming/notebooks/tutorials/creating-a-solver/Project.toml`\n",
      "\u001b[90m [no changes]\u001b[39m\n",
      "\u001b[32m\u001b[1m   Updating\u001b[22m\u001b[39m `~/Documents/streaming/notebooks/tutorials/creating-a-solver/Manifest.toml`\n",
      "\u001b[90m [no changes]\u001b[39m\n",
      "\u001b[32m\u001b[1m  Resolving\u001b[22m\u001b[39m package versions...\n",
      "\u001b[32m\u001b[1m   Updating\u001b[22m\u001b[39m `~/Documents/streaming/notebooks/tutorials/creating-a-solver/Project.toml`\n",
      "\u001b[90m [no changes]\u001b[39m\n",
      "\u001b[32m\u001b[1m   Updating\u001b[22m\u001b[39m `~/Documents/streaming/notebooks/tutorials/creating-a-solver/Manifest.toml`\n",
      "\u001b[90m [no changes]\u001b[39m\n",
      "\u001b[32m\u001b[1m  Resolving\u001b[22m\u001b[39m package versions...\n",
      "\u001b[32m\u001b[1m   Updating\u001b[22m\u001b[39m `~/Documents/streaming/notebooks/tutorials/creating-a-solver/Project.toml`\n",
      "\u001b[90m [no changes]\u001b[39m\n",
      "\u001b[32m\u001b[1m   Updating\u001b[22m\u001b[39m `~/Documents/streaming/notebooks/tutorials/creating-a-solver/Manifest.toml`\n",
      "\u001b[90m [no changes]\u001b[39m\n"
     ]
    }
   ],
   "source": [
    "using Pkg\n",
    "pkg\"activate .\"\n",
    "pkg\"add Plots\"\n",
    "pkg\"add NLPModels\"\n",
    "pkg\"add NLPModelsIpopt\"\n",
    "pkg\"add SolverTools\"\n",
    "pkg\"add SolverBenchmark\""
   ]
  },
  {
   "cell_type": "code",
   "execution_count": 2,
   "metadata": {},
   "outputs": [
    {
     "name": "stdout",
     "output_type": "stream",
     "text": [
      "\u001b[32m\u001b[1mStatus\u001b[22m\u001b[39m `~/Documents/streaming/notebooks/tutorials/creating-a-solver/Project.toml`\n",
      " \u001b[90m [1b53aba6]\u001b[39m\u001b[37m CUTEst v0.10.0\u001b[39m\n",
      " \u001b[90m [a4795742]\u001b[39m\u001b[37m NLPModels v0.12.2\u001b[39m\n",
      " \u001b[90m [f4238b75]\u001b[39m\u001b[37m NLPModelsIpopt v0.3.2\u001b[39m\n",
      " \u001b[90m [91a5bcdd]\u001b[39m\u001b[37m Plots v0.29.9\u001b[39m\n",
      " \u001b[90m [581a75fa]\u001b[39m\u001b[37m SolverBenchmark v0.1.0\u001b[39m\n",
      " \u001b[90m [b5612192]\u001b[39m\u001b[37m SolverTools v0.1.11\u001b[39m\n"
     ]
    }
   ],
   "source": [
    "pkg\"status\""
   ]
  },
  {
   "cell_type": "markdown",
   "metadata": {},
   "source": [
    "$$ \\min\\ f(x) \\qquad \\text{s.to} \\qquad c(x) = 0. $$"
   ]
  },
  {
   "cell_type": "markdown",
   "metadata": {},
   "source": [
    "\\begin{align}\n",
    "\\nabla f(x) + J(x)^T y & = 0 \\\\\n",
    "c(x) & = 0\n",
    "\\end{align}"
   ]
  },
  {
   "cell_type": "markdown",
   "metadata": {},
   "source": [
    "\\begin{align}\n",
    "\\begin{bmatrix}\n",
    "\\nabla^2 f(x_k) + \\sum_{i=1}^m (y_k)_i \\nabla^2 c_i(x_k) & J(x_k)^T \\\\\n",
    "J(x_k) & 0\n",
    "\\end{bmatrix}\n",
    "\\begin{bmatrix} \\Delta x \\\\ \\Delta y \\end{bmatrix}\n",
    "=\n",
    "- \\begin{bmatrix} \\nabla f(x_k) + J(x_k)^T y_k \\\\ c(x_k) \\end{bmatrix}\n",
    "\\end{align}"
   ]
  },
  {
   "cell_type": "code",
   "execution_count": 3,
   "metadata": {},
   "outputs": [
    {
     "data": {
      "text/plain": [
       "ADNLPModel(Minimization problem Generic\n",
       "nvar = 2, ncon = 1 (0 linear)\n",
       ", Counters(0, 0, 0, 0, 0, 0, 0, 0, 0, 0, 0), var\"#3#5\"(), var\"#4#6\"())"
      ]
     },
     "execution_count": 3,
     "metadata": {},
     "output_type": "execute_result"
    }
   ],
   "source": [
    "using NLPModels\n",
    "\n",
    "nlp = ADNLPModel(x -> (x[1] - 1)^2 + 100 * (x[2] - x[1]^2)^2, [-1.2; 1.0],\n",
    "    c=x -> [x[1]^2 + x[2]^2 - 1.0], lcon=[0.0], ucon=[0.0]\n",
    ")"
   ]
  },
  {
   "cell_type": "code",
   "execution_count": 4,
   "metadata": {},
   "outputs": [
    {
     "data": {
      "text/plain": [
       "Minimization problem Generic\n",
       "nvar = 2, ncon = 1 (0 linear)\n"
      ]
     },
     "execution_count": 4,
     "metadata": {},
     "output_type": "execute_result"
    }
   ],
   "source": [
    "nlp.meta"
   ]
  },
  {
   "cell_type": "code",
   "execution_count": 5,
   "metadata": {},
   "outputs": [
    {
     "data": {
      "text/plain": [
       "([-1.2, 1.0], 2, [-Inf, -Inf], [Inf, Inf])"
      ]
     },
     "execution_count": 5,
     "metadata": {},
     "output_type": "execute_result"
    }
   ],
   "source": [
    "nlp.meta.x0, nlp.meta.nvar, nlp.meta.lvar, nlp.meta.uvar"
   ]
  },
  {
   "cell_type": "code",
   "execution_count": 6,
   "metadata": {},
   "outputs": [
    {
     "data": {
      "text/plain": [
       "([0.0], 1, [0.0], [0.0])"
      ]
     },
     "execution_count": 6,
     "metadata": {},
     "output_type": "execute_result"
    }
   ],
   "source": [
    "nlp.meta.y0, nlp.meta.ncon, nlp.meta.lcon, nlp.meta.ucon"
   ]
  },
  {
   "cell_type": "code",
   "execution_count": 7,
   "metadata": {},
   "outputs": [
    {
     "data": {
      "text/plain": [
       "1-element Array{Int64,1}:\n",
       " 1"
      ]
     },
     "execution_count": 7,
     "metadata": {},
     "output_type": "execute_result"
    }
   ],
   "source": [
    "nlp.meta.jfix # Vector of constraints that are equalities"
   ]
  },
  {
   "cell_type": "code",
   "execution_count": 8,
   "metadata": {},
   "outputs": [
    {
     "data": {
      "text/plain": [
       "true"
      ]
     },
     "execution_count": 8,
     "metadata": {},
     "output_type": "execute_result"
    }
   ],
   "source": [
    "equality_constrained(nlp)"
   ]
  },
  {
   "cell_type": "code",
   "execution_count": 9,
   "metadata": {},
   "outputs": [
    {
     "data": {
      "text/plain": [
       "false"
      ]
     },
     "execution_count": 9,
     "metadata": {},
     "output_type": "execute_result"
    }
   ],
   "source": [
    "unconstrained(nlp)"
   ]
  },
  {
   "cell_type": "code",
   "execution_count": 10,
   "metadata": {},
   "outputs": [
    {
     "data": {
      "text/plain": [
       "24.199999999999996"
      ]
     },
     "execution_count": 10,
     "metadata": {},
     "output_type": "execute_result"
    }
   ],
   "source": [
    "x = copy(nlp.meta.x0)\n",
    "obj(nlp, x)"
   ]
  },
  {
   "cell_type": "code",
   "execution_count": 11,
   "metadata": {},
   "outputs": [
    {
     "data": {
      "text/plain": [
       "2-element Array{Float64,1}:\n",
       " -215.59999999999997\n",
       "  -87.99999999999999"
      ]
     },
     "execution_count": 11,
     "metadata": {},
     "output_type": "execute_result"
    }
   ],
   "source": [
    "grad(nlp, x)"
   ]
  },
  {
   "cell_type": "code",
   "execution_count": 12,
   "metadata": {},
   "outputs": [
    {
     "data": {
      "text/plain": [
       "2×2 Array{Float64,2}:\n",
       " 1330.0    0.0\n",
       "  480.0  200.0"
      ]
     },
     "execution_count": 12,
     "metadata": {},
     "output_type": "execute_result"
    }
   ],
   "source": [
    "hess(nlp, x)"
   ]
  },
  {
   "cell_type": "code",
   "execution_count": 13,
   "metadata": {},
   "outputs": [
    {
     "data": {
      "text/plain": [
       "1-element Array{Float64,1}:\n",
       " 1.44"
      ]
     },
     "execution_count": 13,
     "metadata": {},
     "output_type": "execute_result"
    }
   ],
   "source": [
    "cons(nlp, x)"
   ]
  },
  {
   "cell_type": "code",
   "execution_count": 14,
   "metadata": {},
   "outputs": [
    {
     "data": {
      "text/plain": [
       "1×2 Array{Float64,2}:\n",
       " -2.4  2.0"
      ]
     },
     "execution_count": 14,
     "metadata": {},
     "output_type": "execute_result"
    }
   ],
   "source": [
    "jac(nlp, x)"
   ]
  },
  {
   "cell_type": "code",
   "execution_count": 15,
   "metadata": {},
   "outputs": [
    {
     "data": {
      "text/plain": [
       "2×2 Array{Float64,2}:\n",
       " 1332.0    0.0\n",
       "  480.0  202.0"
      ]
     },
     "execution_count": 15,
     "metadata": {},
     "output_type": "execute_result"
    }
   ],
   "source": [
    "y = ones(nlp.meta.ncon)\n",
    "hess(nlp, x, y) # Hessian of the Lagrangian"
   ]
  },
  {
   "cell_type": "code",
   "execution_count": 16,
   "metadata": {},
   "outputs": [
    {
     "data": {
      "text/plain": [
       "1"
      ]
     },
     "execution_count": 16,
     "metadata": {},
     "output_type": "execute_result"
    }
   ],
   "source": [
    "neval_obj(nlp)"
   ]
  },
  {
   "cell_type": "code",
   "execution_count": 17,
   "metadata": {},
   "outputs": [
    {
     "data": {
      "text/plain": [
       "6"
      ]
     },
     "execution_count": 17,
     "metadata": {},
     "output_type": "execute_result"
    }
   ],
   "source": [
    "sum_counters(nlp)"
   ]
  },
  {
   "cell_type": "code",
   "execution_count": 18,
   "metadata": {},
   "outputs": [
    {
     "data": {
      "text/plain": [
       "Counters(1, 1, 1, 0, 0, 1, 0, 0, 2, 0, 0)"
      ]
     },
     "execution_count": 18,
     "metadata": {},
     "output_type": "execute_result"
    }
   ],
   "source": [
    "nlp.counters"
   ]
  },
  {
   "cell_type": "code",
   "execution_count": 19,
   "metadata": {},
   "outputs": [
    {
     "name": "stderr",
     "output_type": "stream",
     "text": [
      "┌ Info: Precompiling SolverTools [b5612192-2639-5dc1-abfe-fbedd65fab29]\n",
      "└ @ Base loading.jl:1260\n"
     ]
    },
    {
     "data": {
      "text/plain": [
       "sqp (generic function with 1 method)"
      ]
     },
     "execution_count": 19,
     "metadata": {},
     "output_type": "execute_result"
    }
   ],
   "source": [
    "using LinearAlgebra, SolverTools\n",
    "\n",
    "# Input of an NLPModels compliant solver is:\n",
    "function sqp(nlp :: AbstractNLPModel; # Only mandatory argument\n",
    "             max_eval = 100,\n",
    "             max_time = 3.0,\n",
    "             atol = 1e-6,\n",
    "             rtol = 1e-6,\n",
    "             )\n",
    "    \n",
    "    start_time = time()\n",
    "    \n",
    "    nvar, ncon = nlp.meta.nvar, nlp.meta.ncon\n",
    "    \n",
    "    x = copy(nlp.meta.x0)\n",
    "    y = ones(ncon)\n",
    "    \n",
    "    f(x) = obj(nlp, x)\n",
    "    ∇f(x) = grad(nlp, x)\n",
    "    H(x,y) = hess(nlp, x, y)\n",
    "    c(x) = cons(nlp, x)\n",
    "    J(x) = jac(nlp, x)\n",
    "    \n",
    "    Jx = J(x)\n",
    "    dual = ∇f(x) + Jx' * y\n",
    "    primal = c(x)\n",
    "    \n",
    "    ϵd = atol + rtol * norm(dual)\n",
    "    ϵp = atol\n",
    "    \n",
    "    Δt = time() - start_time\n",
    "    solved = norm(dual) < ϵd && norm(primal) < ϵp\n",
    "    tired  = Δt > max_time || sum_counters(nlp) > max_eval\n",
    "    iter = 0\n",
    "    \n",
    "    @info log_header([:iter, :fx, :dual, :primal],\n",
    "                     [Int, Float64, Float64, Float64],\n",
    "                     hdr_override=Dict(:fx => \"f(x)\",\n",
    "                                       :dual => \"‖∇ℓ(x,y)‖\",\n",
    "                                       :primal => \"‖c(x)‖\"))\n",
    "    \n",
    "    @info log_row(Any[iter, f(x), norm(dual), norm(primal)])\n",
    "    \n",
    "    while !(solved || tired)\n",
    "        Hxy = H(x, y)\n",
    "        W = [Hxy zeros(nvar, ncon); Jx zeros(ncon, ncon)]\n",
    "        Δxy = -Symmetric(W, :L) \\ [dual; primal]\n",
    "        Δx = Δxy[1:nvar]\n",
    "        Δy = Δxy[nvar+1:end]\n",
    "        \n",
    "        x += Δx\n",
    "        y += Δy\n",
    "        \n",
    "        Jx = J(x)\n",
    "        dual = ∇f(x) + Jx' * y\n",
    "        primal = c(x)\n",
    "        Δt = time() - start_time\n",
    "        solved = norm(dual) < ϵd && norm(primal) < ϵp\n",
    "        tired  = Δt > max_time || sum_counters(nlp) > max_eval\n",
    "        iter += 1\n",
    "        \n",
    "        @info log_row(Any[iter, f(x), norm(dual), norm(primal)])\n",
    "    end\n",
    "    \n",
    "    status = if solved\n",
    "        :first_order\n",
    "    elseif tired\n",
    "        if Δt > max_time\n",
    "            :max_time\n",
    "        else\n",
    "            :max_eval\n",
    "        end\n",
    "    else\n",
    "        :unknown\n",
    "    end\n",
    "    \n",
    "    return GenericExecutionStats(status, nlp;\n",
    "                solution=x, objective=f(x), dual_feas=norm(dual),\n",
    "                primal_feas=norm(primal), elapsed_time=Δt, iter=iter,\n",
    "                solver_specific=Dict(:multiplers => y)) # should change to multipliers\n",
    "end"
   ]
  },
  {
   "cell_type": "code",
   "execution_count": 20,
   "metadata": {},
   "outputs": [
    {
     "name": "stderr",
     "output_type": "stream",
     "text": [
      "┌ Info:   iter      f(x)  ‖∇ℓ(x,y)‖    ‖c(x)‖  \n",
      "└ @ Main In[19]:36\n",
      "┌ Info:      0   2.4e+01   2.3e+02   1.4e+00\n",
      "└ @ Main In[19]:42\n",
      "┌ Info:      1   6.2e+00   7.8e+01   2.2e-01\n",
      "└ @ Main In[19]:62\n",
      "┌ Info:      2   3.2e+00   1.1e+01   1.1e-02\n",
      "└ @ Main In[19]:62\n",
      "┌ Info:      3   3.2e+00   1.9e-01   1.4e-04\n",
      "└ @ Main In[19]:62\n",
      "┌ Info:      4   3.2e+00   5.9e-05   5.3e-08\n",
      "└ @ Main In[19]:62\n"
     ]
    },
    {
     "data": {
      "text/plain": [
       "\"Execution stats: first-order stationary\""
      ]
     },
     "execution_count": 20,
     "metadata": {},
     "output_type": "execute_result"
    }
   ],
   "source": [
    "# Rosenbrock with x₁² + x₂² = 1\n",
    "reset!(nlp)\n",
    "output = sqp(nlp)"
   ]
  },
  {
   "cell_type": "code",
   "execution_count": 21,
   "metadata": {},
   "outputs": [
    {
     "name": "stdout",
     "output_type": "stream",
     "text": [
      "Generic Execution stats\n",
      "  status: \"first-order stationary\"\n",
      "  objective value: 3.186379049574157\n",
      "  primal feasibility: 5.3240614139582476e-8\n",
      "  dual feasibility: 5.894431731404969e-5\n",
      "  solution: [-0.7839302491531344  0.6208489491843557]\n",
      "  iterations: 4\n",
      "  elapsed time: 1.995298147201538\n",
      "  solver specific:\n",
      "    multiplers: [-1.0151246847136168]\n"
     ]
    }
   ],
   "source": [
    "print(output)"
   ]
  },
  {
   "cell_type": "code",
   "execution_count": 22,
   "metadata": {},
   "outputs": [
    {
     "data": {
      "text/plain": [
       "25"
      ]
     },
     "execution_count": 22,
     "metadata": {},
     "output_type": "execute_result"
    }
   ],
   "source": [
    "sum_counters(nlp)"
   ]
  },
  {
   "cell_type": "code",
   "execution_count": 23,
   "metadata": {},
   "outputs": [
    {
     "name": "stdout",
     "output_type": "stream",
     "text": [
      "STATUSES:\n",
      "  :acceptable     => solved to within acceptable tolerances\n",
      "  :exception      => unhandled exception\n",
      "  :first_order    => first-order stationary\n",
      "  :infeasible     => problem may be infeasible\n",
      "  :max_eval       => maximum number of function evaluations\n",
      "  :max_iter       => maximum iteration\n",
      "  :max_time       => maximum elapsed time\n",
      "  :neg_pred       => negative predicted reduction\n",
      "  :not_desc       => not a descent direction\n",
      "  :small_residual => small residual\n",
      "  :small_step     => step too small\n",
      "  :stalled        => stalled\n",
      "  :unbounded      => objective function may be unbounded from below\n",
      "  :unknown        => unknown\n",
      "  :user           => user-requested stop\n"
     ]
    }
   ],
   "source": [
    "SolverTools.show_statuses()"
   ]
  },
  {
   "cell_type": "code",
   "execution_count": 24,
   "metadata": {},
   "outputs": [
    {
     "data": {
      "text/plain": [
       "Base.Generator{UnitRange{Int64},var\"#13#16\"}(var\"#13#16\"(), 1:5)"
      ]
     },
     "execution_count": 24,
     "metadata": {},
     "output_type": "execute_result"
    }
   ],
   "source": [
    "problems = (\n",
    "    ADNLPModel(x -> i * x[1]^2 + (i + 2) * (x[2] - i * x[1]^2)^2, ones(2),\n",
    "        c=x->[i * x[1] - (i + 3) * x[2]], lcon=[0.0], ucon=[0.0], name=\"prob$i\") for i = 1:5\n",
    ")"
   ]
  },
  {
   "cell_type": "code",
   "execution_count": 25,
   "metadata": {},
   "outputs": [
    {
     "name": "stdout",
     "output_type": "stream",
     "text": [
      "Generic Execution stats\n",
      "  status: \"first-order stationary\"\n",
      "  objective value: 4.655789559984491e-16\n",
      "  primal feasibility: 2.710505431213761e-20\n",
      "  dual feasibility: 7.00763642646916e-8\n",
      "  solution: [-1.9800668661838186e-8  -4.95016716545277e-9]\n",
      "  iterations: 6\n",
      "  elapsed time: 0.4042689800262451\n",
      "  solver specific:\n",
      "    multiplers: [8.241736648585804e-9]\n",
      "Generic Execution stats\n",
      "  status: \"first-order stationary\"\n",
      "  objective value: 1.3898760039745041e-12\n",
      "  primal feasibility: 8.131516293641283e-20\n",
      "  dual feasibility: 4.083447386054358e-6\n",
      "  solution: [-7.255806345781552e-7  -2.9023225383127834e-7]\n",
      "  iterations: 7\n",
      "  elapsed time: 0.0006649494171142578\n",
      "  solver specific:\n",
      "    multiplers: [1.7224173981590673e-7]\n",
      "Generic Execution stats\n",
      "  status: \"first-order stationary\"\n",
      "  objective value: 7.279432718550528e-17\n",
      "  primal feasibility: 0.0\n",
      "  dual feasibility: 3.3164442169477714e-8\n",
      "  solution: [-4.138608067289954e-9  -2.069304033644977e-9]\n",
      "  iterations: 9\n",
      "  elapsed time: 0.0005021095275878906\n",
      "  solver specific:\n",
      "    multiplers: [4.5897115895014476e-10]\n",
      "Generic Execution stats\n",
      "  status: \"first-order stationary\"\n",
      "  objective value: 6.565803822355962e-12\n",
      "  primal feasibility: 1.8973538018496328e-19\n",
      "  dual feasibility: 1.1076217938227444e-5\n",
      "  solution: [-1.0496620998104531e-6  -5.998069141773747e-7]\n",
      "  iterations: 9\n",
      "  elapsed time: 0.0005068778991699219\n",
      "  solver specific:\n",
      "    multiplers: [1.0492513932308406e-8]\n",
      "Generic Execution stats\n",
      "  status: \"first-order stationary\"\n",
      "  objective value: 1.907600100181614e-14\n",
      "  primal feasibility: 6.776263578034403e-20\n",
      "  dual feasibility: 6.55823376413644e-7\n",
      "  solution: [-4.966277636075662e-8  -3.103923522548136e-8]\n",
      "  iterations: 10\n",
      "  elapsed time: 0.000614166259765625\n",
      "  solver specific:\n",
      "    multiplers: [-3.14570738174326e-9]\n"
     ]
    },
    {
     "name": "stderr",
     "output_type": "stream",
     "text": [
      "┌ Info:   iter      f(x)  ‖∇ℓ(x,y)‖    ‖c(x)‖  \n",
      "└ @ Main In[19]:36\n",
      "┌ Info:      0   1.0e+00   5.0e+00   3.0e+00\n",
      "└ @ Main In[19]:42\n",
      "┌ Info:      1   3.2e-01   2.5e+00   2.2e-16\n",
      "└ @ Main In[19]:62\n",
      "┌ Info:      2   8.2e-02   7.4e-01   5.6e-17\n",
      "└ @ Main In[19]:62\n",
      "┌ Info:      3   5.5e-03   3.5e-01   0.0e+00\n",
      "└ @ Main In[19]:62\n",
      "┌ Info:      4   6.4e-05   3.8e-02   5.6e-17\n",
      "└ @ Main In[19]:62\n",
      "┌ Info:      5   1.2e-08   3.5e-04   1.7e-18\n",
      "└ @ Main In[19]:62\n",
      "┌ Info:      6   4.7e-16   7.0e-08   2.7e-20\n",
      "└ @ Main In[19]:62\n",
      "┌ Info:   iter      f(x)  ‖∇ℓ(x,y)‖    ‖c(x)‖  \n",
      "└ @ Main In[19]:36\n",
      "┌ Info:      0   6.0e+00   4.0e+01   3.0e+00\n",
      "└ @ Main In[19]:42\n",
      "┌ Info:      1   2.1e+00   1.3e+01   4.4e-16\n",
      "└ @ Main In[19]:62\n",
      "┌ Info:      2   5.4e-01   4.2e+00   0.0e+00\n",
      "└ @ Main In[19]:62\n",
      "┌ Info:      3   1.6e-01   1.6e+00   0.0e+00\n",
      "└ @ Main In[19]:62\n",
      "┌ Info:      4   3.6e-02   7.2e-01   0.0e+00\n",
      "└ @ Main In[19]:62\n",
      "┌ Info:      5   3.4e-04   3.4e-01   0.0e+00\n",
      "└ @ Main In[19]:62\n",
      "┌ Info:      6   5.3e-07   2.5e-03   6.9e-18\n",
      "└ @ Main In[19]:62\n",
      "┌ Info:      7   1.4e-12   4.1e-06   8.1e-20\n",
      "└ @ Main In[19]:62\n",
      "┌ Info:   iter      f(x)  ‖∇ℓ(x,y)‖    ‖c(x)‖  \n",
      "└ @ Main In[19]:36\n",
      "┌ Info:      0   2.3e+01   1.3e+02   3.0e+00\n",
      "└ @ Main In[19]:42\n",
      "┌ Info:      1   6.3e+00   4.1e+01   0.0e+00\n",
      "└ @ Main In[19]:62\n",
      "┌ Info:      2   1.4e+00   1.3e+01   0.0e+00\n",
      "└ @ Main In[19]:62\n",
      "┌ Info:      3   3.9e-01   4.1e+00   0.0e+00\n",
      "└ @ Main In[19]:62\n",
      "┌ Info:      4   1.2e-01   1.6e+00   1.1e-16\n",
      "└ @ Main In[19]:62\n",
      "┌ Info:      5   2.6e-02   8.0e-01   5.6e-17\n",
      "└ @ Main In[19]:62\n",
      "┌ Info:      6   2.1e-03   3.6e-01   0.0e+00\n",
      "└ @ Main In[19]:62\n",
      "┌ Info:      7   2.3e-05   1.8e-02   1.0e-17\n",
      "└ @ Main In[19]:62\n",
      "┌ Info:      8   3.3e-09   2.2e-04   0.0e+00\n",
      "└ @ Main In[19]:62\n",
      "┌ Info:      9   7.3e-17   3.3e-08   0.0e+00\n",
      "└ @ Main In[19]:62\n",
      "┌ Info:   iter      f(x)  ‖∇ℓ(x,y)‖    ‖c(x)‖  \n",
      "└ @ Main In[19]:36\n",
      "┌ Info:      0   5.8e+01   3.0e+02   3.0e+00\n",
      "└ @ Main In[19]:42\n",
      "┌ Info:      1   1.4e+01   9.1e+01   0.0e+00\n",
      "└ @ Main In[19]:62\n",
      "┌ Info:      2   3.0e+00   2.8e+01   0.0e+00\n",
      "└ @ Main In[19]:62\n",
      "┌ Info:      3   7.4e-01   8.8e+00   2.2e-16\n",
      "└ @ Main In[19]:62\n",
      "┌ Info:      4   2.2e-01   3.0e+00   0.0e+00\n",
      "└ @ Main In[19]:62\n",
      "┌ Info:      5   7.0e-02   1.3e+00   1.1e-16\n",
      "└ @ Main In[19]:62\n",
      "┌ Info:      6   5.4e-03   7.5e-01   2.8e-17\n",
      "└ @ Main In[19]:62\n",
      "┌ Info:      7   3.6e-04   9.3e-02   6.2e-17\n",
      "└ @ Main In[19]:62\n",
      "┌ Info:      8   9.1e-07   4.1e-03   6.1e-18\n",
      "└ @ Main In[19]:62\n",
      "┌ Info:      9   6.6e-12   1.1e-05   1.9e-19\n",
      "└ @ Main In[19]:62\n",
      "┌ Info:   iter      f(x)  ‖∇ℓ(x,y)‖    ‖c(x)‖  \n",
      "└ @ Main In[19]:36\n",
      "┌ Info:      0   1.2e+02   5.8e+02   3.0e+00\n",
      "└ @ Main In[19]:42\n",
      "┌ Info:      1   2.6e+01   1.7e+02   8.9e-16\n",
      "└ @ Main In[19]:62\n",
      "┌ Info:      2   5.5e+00   5.2e+01   0.0e+00\n",
      "└ @ Main In[19]:62\n",
      "┌ Info:      3   1.3e+00   1.6e+01   0.0e+00\n",
      "└ @ Main In[19]:62\n",
      "┌ Info:      4   3.4e-01   5.3e+00   0.0e+00\n",
      "└ @ Main In[19]:62\n",
      "┌ Info:      5   1.1e-01   2.0e+00   1.1e-16\n",
      "└ @ Main In[19]:62\n",
      "┌ Info:      6   3.0e-02   1.0e+00   1.1e-16\n",
      "└ @ Main In[19]:62\n",
      "┌ Info:      7   3.6e-03   6.2e-01   0.0e+00\n",
      "└ @ Main In[19]:62\n",
      "┌ Info:      8   7.2e-05   4.1e-02   1.0e-17\n",
      "└ @ Main In[19]:62\n",
      "┌ Info:      9   4.5e-08   1.0e-03   3.9e-18\n",
      "└ @ Main In[19]:62\n",
      "┌ Info:     10   1.9e-14   6.6e-07   6.8e-20\n",
      "└ @ Main In[19]:62\n"
     ]
    }
   ],
   "source": [
    "for nlp in problems\n",
    "    output = sqp(nlp)\n",
    "    print(output)\n",
    "end"
   ]
  },
  {
   "cell_type": "code",
   "execution_count": 26,
   "metadata": {},
   "outputs": [
    {
     "name": "stderr",
     "output_type": "stream",
     "text": [
      "┌ Info:            Name    nvar    ncon           status      Time      f(x)      Dual    Primal  \n",
      "└ @ SolverTools /home/abel/.julia/packages/SolverTools/Zu4eO/src/bmark/run_solver.jl:66\n",
      "┌ Info:           prob1       2       1      first_order   3.0e-04   4.7e-16   7.0e-08   2.7e-20\n",
      "└ @ SolverTools /home/abel/.julia/packages/SolverTools/Zu4eO/src/bmark/run_solver.jl:82\n",
      "┌ Info:           prob2       2       1      first_order   2.8e-04   1.4e-12   4.1e-06   8.1e-20\n",
      "└ @ SolverTools /home/abel/.julia/packages/SolverTools/Zu4eO/src/bmark/run_solver.jl:82\n",
      "┌ Info:           prob3       2       1      first_order   1.8e-04   7.3e-17   3.3e-08   0.0e+00\n",
      "└ @ SolverTools /home/abel/.julia/packages/SolverTools/Zu4eO/src/bmark/run_solver.jl:82\n",
      "┌ Info:           prob4       2       1      first_order   2.4e-04   6.6e-12   1.1e-05   1.9e-19\n",
      "└ @ SolverTools /home/abel/.julia/packages/SolverTools/Zu4eO/src/bmark/run_solver.jl:82\n",
      "┌ Info:           prob5       2       1      first_order   1.8e-04   1.9e-14   6.6e-07   6.8e-20\n",
      "└ @ SolverTools /home/abel/.julia/packages/SolverTools/Zu4eO/src/bmark/run_solver.jl:82\n"
     ]
    },
    {
     "data": {
      "text/html": [
       "<table class=\"data-frame\"><thead><tr><th></th><th>id</th><th>name</th><th>nvar</th><th>ncon</th><th>nequ</th><th>status</th><th>objective</th><th>elapsed_time</th><th>iter</th></tr><tr><th></th><th>Int64</th><th>String</th><th>Int64</th><th>Int64</th><th>Int64</th><th>Symbol</th><th>Float64</th><th>Float64</th><th>Int64</th></tr></thead><tbody><p>5 rows × 31 columns (omitted printing of 22 columns)</p><tr><th>1</th><td>1</td><td>prob1</td><td>2</td><td>1</td><td>0</td><td>first_order</td><td>4.65579e-16</td><td>0.000303984</td><td>6</td></tr><tr><th>2</th><td>2</td><td>prob2</td><td>2</td><td>1</td><td>0</td><td>first_order</td><td>1.38988e-12</td><td>0.00027895</td><td>7</td></tr><tr><th>3</th><td>3</td><td>prob3</td><td>2</td><td>1</td><td>0</td><td>first_order</td><td>7.27943e-17</td><td>0.000182152</td><td>9</td></tr><tr><th>4</th><td>4</td><td>prob4</td><td>2</td><td>1</td><td>0</td><td>first_order</td><td>6.5658e-12</td><td>0.000235081</td><td>9</td></tr><tr><th>5</th><td>5</td><td>prob5</td><td>2</td><td>1</td><td>0</td><td>first_order</td><td>1.9076e-14</td><td>0.000184059</td><td>10</td></tr></tbody></table>"
      ],
      "text/latex": [
       "\\begin{tabular}{r|cccccccccc}\n",
       "\t& id & name & nvar & ncon & nequ & status & objective & elapsed\\_time & iter & \\\\\n",
       "\t\\hline\n",
       "\t& Int64 & String & Int64 & Int64 & Int64 & Symbol & Float64 & Float64 & Int64 & \\\\\n",
       "\t\\hline\n",
       "\t1 & 1 & prob1 & 2 & 1 & 0 & first\\_order & 4.65579e-16 & 0.000303984 & 6 & $\\dots$ \\\\\n",
       "\t2 & 2 & prob2 & 2 & 1 & 0 & first\\_order & 1.38988e-12 & 0.00027895 & 7 & $\\dots$ \\\\\n",
       "\t3 & 3 & prob3 & 2 & 1 & 0 & first\\_order & 7.27943e-17 & 0.000182152 & 9 & $\\dots$ \\\\\n",
       "\t4 & 4 & prob4 & 2 & 1 & 0 & first\\_order & 6.5658e-12 & 0.000235081 & 9 & $\\dots$ \\\\\n",
       "\t5 & 5 & prob5 & 2 & 1 & 0 & first\\_order & 1.9076e-14 & 0.000184059 & 10 & $\\dots$ \\\\\n",
       "\\end{tabular}\n"
      ],
      "text/plain": [
       "5×31 DataFrames.DataFrame. Omitted printing of 24 columns\n",
       "│ Row │ id    │ name   │ nvar  │ ncon  │ nequ  │ status      │ objective   │\n",
       "│     │ \u001b[90mInt64\u001b[39m │ \u001b[90mString\u001b[39m │ \u001b[90mInt64\u001b[39m │ \u001b[90mInt64\u001b[39m │ \u001b[90mInt64\u001b[39m │ \u001b[90mSymbol\u001b[39m      │ \u001b[90mFloat64\u001b[39m     │\n",
       "├─────┼───────┼────────┼───────┼───────┼───────┼─────────────┼─────────────┤\n",
       "│ 1   │ 1     │ prob1  │ 2     │ 1     │ 0     │ first_order │ 4.65579e-16 │\n",
       "│ 2   │ 2     │ prob2  │ 2     │ 1     │ 0     │ first_order │ 1.38988e-12 │\n",
       "│ 3   │ 3     │ prob3  │ 2     │ 1     │ 0     │ first_order │ 7.27943e-17 │\n",
       "│ 4   │ 4     │ prob4  │ 2     │ 1     │ 0     │ first_order │ 6.5658e-12  │\n",
       "│ 5   │ 5     │ prob5  │ 2     │ 1     │ 0     │ first_order │ 1.9076e-14  │"
      ]
     },
     "execution_count": 26,
     "metadata": {},
     "output_type": "execute_result"
    }
   ],
   "source": [
    "stats = solve_problems(sqp, problems)"
   ]
  },
  {
   "cell_type": "code",
   "execution_count": 27,
   "metadata": {},
   "outputs": [
    {
     "name": "stderr",
     "output_type": "stream",
     "text": [
      "┌ Info: Precompiling SolverBenchmark [581a75fa-a23a-52d0-a590-d6201de2218a]\n",
      "└ @ Base loading.jl:1260\n"
     ]
    }
   ],
   "source": [
    "using SolverBenchmark"
   ]
  },
  {
   "cell_type": "code",
   "execution_count": 28,
   "metadata": {},
   "outputs": [
    {
     "name": "stderr",
     "output_type": "stream",
     "text": [
      "┌ Warning: `haskey(df::AbstractDataFrame, key::Symbol)` is deprecated, use `hasproperty(df, key)` instead.\n",
      "│   caller = #3 at none:0 [inlined]\n",
      "└ @ Core ./none:0\n",
      "┌ Warning: `haskey(df::AbstractDataFrame, key::Symbol)` is deprecated, use `hasproperty(df, key)` instead.\n",
      "│   caller = #3 at none:0 [inlined]\n",
      "└ @ Core ./none:0\n",
      "┌ Warning: `getindex(df::DataFrame, col_ind::ColumnIndex)` is deprecated, use `df[!, col_ind]` instead.\n",
      "│   caller = (::SolverBenchmark.var\"#4#8\"{Dict{Symbol,Function},DataFrames.DataFrame,typeof(MDformat)})(::Symbol) at array.jl:0\n",
      "└ @ SolverBenchmark ./array.jl:0\n",
      "┌ Warning: pretty_table(io, data, header, tf; kwargs...) is deprecated. Please, use pretty_table(io, data, header; tf = tf, kwargs...)\n",
      "└ @ PrettyTables /home/abel/.julia/packages/PrettyTables/BRTPU/src/deprecations.jl:29\n"
     ]
    },
    {
     "name": "stdout",
     "output_type": "stream",
     "text": [
      "|\u001b[0m\u001b[1m  name \u001b[0m|\u001b[0m\u001b[1m      status \u001b[0m|\u001b[0m\u001b[1m objective \u001b[0m|\u001b[0m\u001b[1m elapsed_time \u001b[0m|\u001b[0m\n",
      "|\u001b[0m-------\u001b[0m|\u001b[0m-------------\u001b[0m|\u001b[0m-----------\u001b[0m|\u001b[0m--------------\u001b[0m|\u001b[0m\n",
      "|\u001b[0m prob1 \u001b[0m|\u001b[0m first_order \u001b[0m|\u001b[0m   4.7e-16 \u001b[0m|\u001b[0m      3.0e-04 \u001b[0m|\u001b[0m\n",
      "|\u001b[0m prob2 \u001b[0m|\u001b[0m first_order \u001b[0m|\u001b[0m   1.4e-12 \u001b[0m|\u001b[0m      2.8e-04 \u001b[0m|\u001b[0m\n",
      "|\u001b[0m prob3 \u001b[0m|\u001b[0m first_order \u001b[0m|\u001b[0m   7.3e-17 \u001b[0m|\u001b[0m      1.8e-04 \u001b[0m|\u001b[0m\n",
      "|\u001b[0m prob4 \u001b[0m|\u001b[0m first_order \u001b[0m|\u001b[0m   6.6e-12 \u001b[0m|\u001b[0m      2.4e-04 \u001b[0m|\u001b[0m\n",
      "|\u001b[0m prob5 \u001b[0m|\u001b[0m first_order \u001b[0m|\u001b[0m   1.9e-14 \u001b[0m|\u001b[0m      1.8e-04 \u001b[0m|\u001b[0m\n"
     ]
    }
   ],
   "source": [
    "markdown_table(stdout, stats, cols=[:name, :status, :objective, :elapsed_time])"
   ]
  },
  {
   "cell_type": "markdown",
   "metadata": {},
   "source": [
    "|  name |      status | objective | elapsed_time |\n",
    "|-------|-------------|-----------|--------------|\n",
    "| prob1 | first_order |   4.7e-16 |      1.7e-04 |\n",
    "| prob2 | first_order |   1.4e-12 |      1.4e-04 |\n",
    "| prob3 | first_order |   7.3e-17 |      1.5e-04 |\n",
    "| prob4 | first_order |   6.6e-12 |      1.5e-04 |\n",
    "| prob5 | first_order |   1.9e-14 |      1.6e-04 |\n"
   ]
  },
  {
   "cell_type": "code",
   "execution_count": 29,
   "metadata": {},
   "outputs": [
    {
     "name": "stderr",
     "output_type": "stream",
     "text": [
      "┌ Warning: `getindex(df::DataFrame, col_ind::ColumnIndex)` is deprecated, use `df[!, col_ind]` instead.\n",
      "│   caller = (::SolverBenchmark.var\"#4#8\"{Dict{Symbol,Function},DataFrames.DataFrame,typeof(LTXformat)})(::Symbol) at array.jl:0\n",
      "└ @ SolverBenchmark ./array.jl:0\n"
     ]
    },
    {
     "name": "stdout",
     "output_type": "stream",
     "text": [
      "\\begin{longtable}[c]{lrrr}\n",
      "\\hline \n",
      "name & status & objective & elapsed\\_time \\\\\n",
      "\\hline \n",
      "\\endfirsthead\n",
      "\\multicolumn{4}{l}\n",
      "{{\\bfseries \\tablename\\ \\thetable{} --- continued from previous page}} \\\\\n",
      "\\hline \n",
      "name & status & objective & elapsed\\_time \\\\\n",
      "\\hline \n",
      "\\endhead\n",
      "\\hline \n",
      "\\multicolumn{4}{r}{{\\bfseries Continued on next page}} \\\\\n",
      "\\hline \n",
      "\\endfoot\n",
      "\\hline \n",
      "\\endlastfoot\n",
      "prob1 & first\\_order & \\( 4.7\\)e\\(-16\\) & \\( 3.0\\)e\\(-04\\) \\\\\n",
      "prob2 & first\\_order & \\( 1.4\\)e\\(-12\\) & \\( 2.8\\)e\\(-04\\) \\\\\n",
      "prob3 & first\\_order & \\( 7.3\\)e\\(-17\\) & \\( 1.8\\)e\\(-04\\) \\\\\n",
      "prob4 & first\\_order & \\( 6.6\\)e\\(-12\\) & \\( 2.4\\)e\\(-04\\) \\\\\n",
      "prob5 & first\\_order & \\( 1.9\\)e\\(-14\\) & \\( 1.8\\)e\\(-04\\) \\\\\n",
      "\\hline \n",
      "\\end{longtable}\n"
     ]
    }
   ],
   "source": [
    "latex_table(stdout, stats, cols=[:name, :status, :objective, :elapsed_time])"
   ]
  },
  {
   "cell_type": "code",
   "execution_count": 30,
   "metadata": {},
   "outputs": [
    {
     "name": "stderr",
     "output_type": "stream",
     "text": [
      "┌ Info: Precompiling NLPModelsIpopt [f4238b75-b362-5c4c-b852-0801c9a21d71]\n",
      "└ @ Base loading.jl:1260\n"
     ]
    }
   ],
   "source": [
    "using NLPModelsIpopt"
   ]
  },
  {
   "cell_type": "code",
   "execution_count": 31,
   "metadata": {},
   "outputs": [
    {
     "name": "stdout",
     "output_type": "stream",
     "text": [
      "\n",
      "******************************************************************************\n",
      "This program contains Ipopt, a library for large-scale nonlinear optimization.\n",
      " Ipopt is released as open source code under the Eclipse Public License (EPL).\n",
      "         For more information visit http://projects.coin-or.org/Ipopt\n",
      "******************************************************************************\n",
      "\n",
      "This is Ipopt version 3.12.10, running with linear solver mumps.\n",
      "NOTE: Other linear solvers might be more efficient (see Ipopt documentation).\n",
      "\n",
      "Number of nonzeros in equality constraint Jacobian...:        2\n",
      "Number of nonzeros in inequality constraint Jacobian.:        0\n",
      "Number of nonzeros in Lagrangian Hessian.............:        3\n",
      "\n",
      "Total number of variables............................:        2\n",
      "                     variables with only lower bounds:        0\n",
      "                variables with lower and upper bounds:        0\n",
      "                     variables with only upper bounds:        0\n",
      "Total number of equality constraints.................:        1\n",
      "Total number of inequality constraints...............:        0\n",
      "        inequality constraints with only lower bounds:        0\n",
      "   inequality constraints with lower and upper bounds:        0\n",
      "        inequality constraints with only upper bounds:        0\n",
      "\n",
      "iter    objective    inf_pr   inf_du lg(mu)  ||d||  lg(rg) alpha_du alpha_pr  ls\n",
      "   0  1.0000000e+00 1.00e+00 2.00e+00  -1.0 0.00e+00    -  0.00e+00 0.00e+00   0\n",
      "   1  1.0000000e+02 0.00e+00 3.56e+08  -1.0 1.00e+00    -  1.00e+00 1.00e+00h  1\n",
      "   2  9.9999996e+01 4.44e-16 2.00e+02  -1.0 2.07e-08  10.0 1.00e+00 1.00e+00f  1\n",
      "   3  9.9999984e+01 3.55e-15 2.00e+02  -1.0 6.00e-08   9.5 1.00e+00 1.00e+00f  1\n",
      "   4  9.9999948e+01 3.24e-14 2.00e+02  -1.0 1.80e-07   9.0 1.00e+00 1.00e+00f  1\n",
      "   5  9.9999840e+01 2.92e-13 2.00e+02  -1.0 5.40e-07   8.6 1.00e+00 1.00e+00f  1\n",
      "   6  9.9999516e+01 2.62e-12 2.00e+02  -1.0 1.62e-06   8.1 1.00e+00 1.00e+00f  1\n",
      "   7  9.9998544e+01 2.36e-11 2.00e+02  -1.0 4.86e-06   7.6 1.00e+00 1.00e+00f  1\n",
      "   8  9.9995628e+01 2.13e-10 2.00e+02  -1.0 1.46e-05   7.1 1.00e+00 1.00e+00f  1\n",
      "   9  9.9986879e+01 1.91e-09 2.00e+02  -1.0 4.37e-05   6.7 1.00e+00 1.00e+00f  1\n",
      "iter    objective    inf_pr   inf_du lg(mu)  ||d||  lg(rg) alpha_du alpha_pr  ls\n",
      "  10  9.9960630e+01 1.72e-08 2.00e+02  -1.0 1.31e-04   6.2 1.00e+00 1.00e+00f  1\n",
      "  11  9.9881848e+01 1.55e-07 2.00e+02  -1.0 3.94e-04   5.7 1.00e+00 1.00e+00f  1\n",
      "  12  9.9645204e+01 1.40e-06 2.00e+02  -1.0 1.18e-03   5.2 1.00e+00 1.00e+00f  1\n",
      "  13  9.8932614e+01 1.27e-05 2.01e+02  -1.0 3.56e-03   4.8 1.00e+00 1.00e+00f  1\n",
      "  14  9.6771641e+01 1.17e-04 2.03e+02  -1.0 1.08e-02   4.3 1.00e+00 1.00e+00f  1\n",
      "  15  9.0101279e+01 1.11e-03 2.08e+02  -1.0 3.33e-02   3.8 1.00e+00 1.00e+00f  1\n",
      "  16  6.9127899e+01 1.13e-02 2.16e+02  -1.0 1.06e-01   3.3 1.00e+00 1.00e+00f  1\n",
      "  17  1.0217760e+00 3.35e-01 3.77e+01  -1.0 9.00e+00    -  1.00e+00 6.25e-02f  5\n",
      "  18  7.8931142e-02 2.12e-02 5.03e+00  -1.0 1.06e-01    -  1.00e+00 1.00e+00f  1\n",
      "  19  4.5664439e-02 1.55e-04 1.25e-01  -1.0 1.24e-02    -  1.00e+00 1.00e+00h  1\n",
      "iter    objective    inf_pr   inf_du lg(mu)  ||d||  lg(rg) alpha_du alpha_pr  ls\n",
      "  20  4.5674806e-02 2.51e-08 2.99e-05  -2.5 1.46e-04    -  1.00e+00 1.00e+00h  1\n",
      "  21  4.5674809e-02 1.33e-15 1.46e-12  -5.7 3.09e-08    -  1.00e+00 1.00e+00h  1\n",
      "\n",
      "Number of Iterations....: 21\n",
      "\n",
      "                                   (scaled)                 (unscaled)\n",
      "Objective...............:   4.5674808719500054e-02    4.5674808719500054e-02\n",
      "Dual infeasibility......:   1.4624135236118718e-12    1.4624135236118718e-12\n",
      "Constraint violation....:   1.3322676295501878e-15    1.3322676295501878e-15\n",
      "Complementarity.........:   0.0000000000000000e+00    0.0000000000000000e+00\n",
      "Overall NLP error.......:   1.4624135236118718e-12    1.4624135236118718e-12\n",
      "\n",
      "\n",
      "Number of objective function evaluations             = 26\n",
      "Number of objective gradient evaluations             = 22\n",
      "Number of equality constraint evaluations            = 27\n",
      "Number of inequality constraint evaluations          = 0\n",
      "Number of equality constraint Jacobian evaluations   = 22\n",
      "Number of inequality constraint Jacobian evaluations = 0\n",
      "Number of Lagrangian Hessian evaluations             = 21\n",
      "Total CPU secs in IPOPT (w/o function evaluations)   =      1.063\n",
      "Total CPU secs in NLP function evaluations           =      0.589\n",
      "\n",
      "EXIT: Optimal Solution Found.\n"
     ]
    },
    {
     "data": {
      "text/plain": [
       "\"Execution stats: first-order stationary\""
      ]
     },
     "execution_count": 31,
     "metadata": {},
     "output_type": "execute_result"
    }
   ],
   "source": [
    "output = ipopt(nlp)"
   ]
  },
  {
   "cell_type": "code",
   "execution_count": 32,
   "metadata": {},
   "outputs": [
    {
     "name": "stdout",
     "output_type": "stream",
     "text": [
      "Generic Execution stats\n",
      "  status: \"first-order stationary\"\n",
      "  objective value: 0.045674808719500054\n",
      "  primal feasibility: 1.3322676295501878e-15\n",
      "  dual feasibility: 1.4624135236118718e-12\n",
      "  solution: [0.7864151541684294  0.6176983125233926]\n",
      "  iterations: 21\n",
      "  elapsed time: 1.652\n",
      "  solver specific:\n",
      "    multipliers_U: [0.0  0.0]\n",
      "    multipliers_L: [0.0  0.0]\n",
      "    multipliers_con: [0.1214965569995277]\n",
      "    internal_msg: :Solve_Succeeded\n"
     ]
    }
   ],
   "source": [
    "print(output)"
   ]
  },
  {
   "cell_type": "code",
   "execution_count": 33,
   "metadata": {},
   "outputs": [
    {
     "name": "stdout",
     "output_type": "stream",
     "text": [
      "This is Ipopt version 3.12.10, running with linear solver mumps.\n",
      "NOTE: Other linear solvers might be more efficient (see Ipopt documentation).\n",
      "\n",
      "Number of nonzeros in equality constraint Jacobian...:        2\n",
      "Number of nonzeros in inequality constraint Jacobian.:        0\n",
      "Number of nonzeros in Lagrangian Hessian.............:        3\n",
      "\n",
      "Total number of variables............................:        2\n",
      "                     variables with only lower bounds:        0\n",
      "                variables with lower and upper bounds:        0\n",
      "                     variables with only upper bounds:        0\n",
      "Total number of equality constraints.................:        1\n",
      "Total number of inequality constraints...............:        0\n",
      "        inequality constraints with only lower bounds:        0\n",
      "   inequality constraints with lower and upper bounds:        0\n",
      "        inequality constraints with only upper bounds:        0\n",
      "\n",
      "iter    objective    inf_pr   inf_du lg(mu)  ||d||  lg(rg) alpha_du alpha_pr  ls\n",
      "   0  0.0000000e+00 0.00e+00 0.00e+00  -1.0 0.00e+00    -  0.00e+00 0.00e+00   0\n",
      "\n",
      "Number of Iterations....: 0\n",
      "\n",
      "                                   (scaled)                 (unscaled)\n",
      "Objective...............:   0.0000000000000000e+00    0.0000000000000000e+00\n",
      "Dual infeasibility......:   0.0000000000000000e+00    0.0000000000000000e+00\n",
      "Constraint violation....:   0.0000000000000000e+00    0.0000000000000000e+00\n",
      "Complementarity.........:   0.0000000000000000e+00    0.0000000000000000e+00\n",
      "Overall NLP error.......:   0.0000000000000000e+00    0.0000000000000000e+00\n",
      "\n",
      "\n",
      "Number of objective function evaluations             = 1\n",
      "Number of objective gradient evaluations             = 1\n",
      "Number of equality constraint evaluations            = 1\n",
      "Number of inequality constraint evaluations          = 0\n",
      "Number of equality constraint Jacobian evaluations   = 1\n",
      "Number of inequality constraint Jacobian evaluations = 0\n",
      "Number of Lagrangian Hessian evaluations             = 0\n",
      "Total CPU secs in IPOPT (w/o function evaluations)   =      0.001\n",
      "Total CPU secs in NLP function evaluations           =      0.000\n",
      "\n",
      "EXIT: Optimal Solution Found.\n"
     ]
    },
    {
     "name": "stderr",
     "output_type": "stream",
     "text": [
      "┌ Info:            Name    nvar    ncon           status      Time      f(x)      Dual    Primal  \n",
      "└ @ SolverTools /home/abel/.julia/packages/SolverTools/Zu4eO/src/bmark/run_solver.jl:66\n",
      "┌ Info:           prob1       2       1      first_order   1.0e-03   0.0e+00   0.0e+00   0.0e+00\n",
      "└ @ SolverTools /home/abel/.julia/packages/SolverTools/Zu4eO/src/bmark/run_solver.jl:82\n"
     ]
    },
    {
     "name": "stdout",
     "output_type": "stream",
     "text": [
      "This is Ipopt version 3.12.10, running with linear solver mumps.\n",
      "NOTE: Other linear solvers might be more efficient (see Ipopt documentation).\n",
      "\n",
      "Number of nonzeros in equality constraint Jacobian...:        2\n",
      "Number of nonzeros in inequality constraint Jacobian.:        0\n",
      "Number of nonzeros in Lagrangian Hessian.............:        3\n",
      "\n",
      "Total number of variables............................:        2\n",
      "                     variables with only lower bounds:        0\n",
      "                variables with lower and upper bounds:        0\n",
      "                     variables with only upper bounds:        0\n",
      "Total number of equality constraints.................:        1\n",
      "Total number of inequality constraints...............:        0\n",
      "        inequality constraints with only lower bounds:        0\n",
      "   inequality constraints with lower and upper bounds:        0\n",
      "        inequality constraints with only upper bounds:        0\n",
      "\n",
      "iter    objective    inf_pr   inf_du lg(mu)  ||d||  lg(rg) alpha_du alpha_pr  ls\n",
      "   0  0.0000000e+00 0.00e+00 0.00e+00  -1.0 0.00e+00    -  0.00e+00 0.00e+00   0\n",
      "\n",
      "Number of Iterations....: 0\n",
      "\n",
      "                                   (scaled)                 (unscaled)\n",
      "Objective...............:   0.0000000000000000e+00    0.0000000000000000e+00\n",
      "Dual infeasibility......:   0.0000000000000000e+00    0.0000000000000000e+00\n",
      "Constraint violation....:   0.0000000000000000e+00    0.0000000000000000e+00\n",
      "Complementarity.........:   0.0000000000000000e+00    0.0000000000000000e+00\n",
      "Overall NLP error.......:   0.0000000000000000e+00    0.0000000000000000e+00\n",
      "\n",
      "\n",
      "Number of objective function evaluations             = 1\n",
      "Number of objective gradient evaluations             = 1\n",
      "Number of equality constraint evaluations            = 1\n",
      "Number of inequality constraint evaluations          = 0\n",
      "Number of equality constraint Jacobian evaluations   = 1\n",
      "Number of inequality constraint Jacobian evaluations = 0\n",
      "Number of Lagrangian Hessian evaluations             = 0\n",
      "Total CPU secs in IPOPT (w/o function evaluations)   =      0.000\n",
      "Total CPU secs in NLP function evaluations           =      0.000\n",
      "\n",
      "EXIT: Optimal Solution Found.\n",
      "This is Ipopt version 3.12.10, running with linear solver mumps.\n",
      "NOTE: Other linear solvers might be more efficient (see Ipopt documentation).\n",
      "\n",
      "Number of nonzeros in equality constraint Jacobian...:        2\n",
      "Number of nonzeros in inequality constraint Jacobian.:        0\n",
      "Number of nonzeros in Lagrangian Hessian.............:        3\n",
      "\n",
      "Total number of variables............................:        2\n",
      "                     variables with only lower bounds:        0\n",
      "                variables with lower and upper bounds:        0\n",
      "                     variables with only upper bounds:        0\n",
      "Total number of equality constraints.................:        1\n",
      "Total number of inequality constraints...............:        0\n",
      "        inequality constraints with only lower bounds:        0\n",
      "   inequality constraints with lower and upper bounds:        0\n",
      "        inequality constraints with only upper bounds:        0\n",
      "\n",
      "iter    objective    inf_pr   inf_du lg(mu)  ||d||  lg(rg) alpha_du alpha_pr  ls\n",
      "   0  0.0000000e+00 0.00e+00 0.00e+00  -1.0 0.00e+00    -  0.00e+00 0.00e+00   0\n",
      "\n",
      "Number of Iterations....: 0\n",
      "\n",
      "                                   (scaled)                 (unscaled)\n",
      "Objective...............:   0.0000000000000000e+00    0.0000000000000000e+00\n",
      "Dual infeasibility......:   0.0000000000000000e+00    0.0000000000000000e+00\n",
      "Constraint violation....:   0.0000000000000000e+00    0.0000000000000000e+00\n",
      "Complementarity.........:   0.0000000000000000e+00    0.0000000000000000e+00\n",
      "Overall NLP error.......:   0.0000000000000000e+00    0.0000000000000000e+00\n",
      "\n",
      "\n",
      "Number of objective function evaluations             = 1\n",
      "Number of objective gradient evaluations             = 1\n",
      "Number of equality constraint evaluations            = 1\n",
      "Number of inequality constraint evaluations          = 0\n",
      "Number of equality constraint Jacobian evaluations   = 1\n",
      "Number of inequality constraint Jacobian evaluations = 0\n",
      "Number of Lagrangian Hessian evaluations             = 0\n",
      "Total CPU secs in IPOPT (w/o function evaluations)   =      0.000\n",
      "Total CPU secs in NLP function evaluations           =      0.000\n",
      "\n",
      "EXIT: Optimal Solution Found.\n",
      "This is Ipopt version 3.12.10, running with linear solver mumps.\n",
      "NOTE: Other linear solvers might be more efficient (see Ipopt documentation).\n",
      "\n",
      "Number of nonzeros in equality constraint Jacobian...:        2\n",
      "Number of nonzeros in inequality constraint Jacobian.:        0\n",
      "Number of nonzeros in Lagrangian Hessian.............:        3\n",
      "\n",
      "Total number of variables............................:        2\n",
      "                     variables with only lower bounds:        0\n",
      "                variables with lower and upper bounds:        0\n",
      "                     variables with only upper bounds:        0\n",
      "Total number of equality constraints.................:        1\n",
      "Total number of inequality constraints...............:        0\n",
      "        inequality constraints with only lower bounds:        0\n",
      "   inequality constraints with lower and upper bounds:        0\n",
      "        inequality constraints with only upper bounds:        0\n",
      "\n",
      "iter    objective    inf_pr   inf_du lg(mu)  ||d||  lg(rg) alpha_du alpha_pr  ls\n",
      "   0  0.0000000e+00 0.00e+00 0.00e+00  -1.0 0.00e+00    -  0.00e+00 0.00e+00   0\n",
      "\n",
      "Number of Iterations....: 0\n",
      "\n",
      "                                   (scaled)                 (unscaled)\n",
      "Objective...............:   0.0000000000000000e+00    0.0000000000000000e+00\n",
      "Dual infeasibility......:   0.0000000000000000e+00    0.0000000000000000e+00\n",
      "Constraint violation....:   0.0000000000000000e+00    0.0000000000000000e+00\n",
      "Complementarity.........:   0.0000000000000000e+00    0.0000000000000000e+00\n",
      "Overall NLP error.......:   0.0000000000000000e+00    0.0000000000000000e+00\n",
      "\n",
      "\n",
      "Number of objective function evaluations             = 1\n",
      "Number of objective gradient evaluations             = 1\n",
      "Number of equality constraint evaluations            = 1\n",
      "Number of inequality constraint evaluations          = 0\n",
      "Number of equality constraint Jacobian evaluations   = 1\n",
      "Number of inequality constraint Jacobian evaluations = 0\n",
      "Number of Lagrangian Hessian evaluations             = 0\n",
      "Total CPU secs in IPOPT (w/o function evaluations)   =      0.001\n",
      "Total CPU secs in NLP function evaluations           =      0.000\n",
      "\n",
      "EXIT: Optimal Solution Found.\n",
      "This is Ipopt version 3.12.10, running with linear solver mumps.\n",
      "NOTE: Other linear solvers might be more efficient (see Ipopt documentation).\n",
      "\n",
      "Number of nonzeros in equality constraint Jacobian...:        2\n",
      "Number of nonzeros in inequality constraint Jacobian.:        0\n",
      "Number of nonzeros in Lagrangian Hessian.............:        3\n",
      "\n",
      "Total number of variables............................:        2\n",
      "                     variables with only lower bounds:        0\n",
      "                variables with lower and upper bounds:        0\n",
      "                     variables with only upper bounds:        0\n",
      "Total number of equality constraints.................:        1\n",
      "Total number of inequality constraints...............:        0\n",
      "        inequality constraints with only lower bounds:        0\n",
      "   inequality constraints with lower and upper bounds:        0\n",
      "        inequality constraints with only upper bounds:        0\n",
      "\n",
      "iter    objective    inf_pr   inf_du lg(mu)  ||d||  lg(rg) alpha_du alpha_pr  ls\n",
      "   0  0.0000000e+00 0.00e+00 0.00e+00  -1.0 0.00e+00    -  0.00e+00 0.00e+00   0\n",
      "\n",
      "Number of Iterations....: 0\n",
      "\n",
      "                                   (scaled)                 (unscaled)\n",
      "Objective...............:   0.0000000000000000e+00    0.0000000000000000e+00\n",
      "Dual infeasibility......:   0.0000000000000000e+00    0.0000000000000000e+00\n",
      "Constraint violation....:   0.0000000000000000e+00    0.0000000000000000e+00\n",
      "Complementarity.........:   0.0000000000000000e+00    0.0000000000000000e+00\n",
      "Overall NLP error.......:   0.0000000000000000e+00    0.0000000000000000e+00\n",
      "\n",
      "\n",
      "Number of objective function evaluations             = 1\n",
      "Number of objective gradient evaluations             = 1\n",
      "Number of equality constraint evaluations            = 1\n",
      "Number of inequality constraint evaluations          = 0\n",
      "Number of equality constraint Jacobian evaluations   = 1\n",
      "Number of inequality constraint Jacobian evaluations = 0\n",
      "Number of Lagrangian Hessian evaluations             = 0\n",
      "Total CPU secs in IPOPT (w/o function evaluations)   =      0.000\n",
      "Total CPU secs in NLP function evaluations           =      0.000\n",
      "\n",
      "EXIT: Optimal Solution Found.\n"
     ]
    },
    {
     "name": "stderr",
     "output_type": "stream",
     "text": [
      "┌ Info:           prob2       2       1      first_order   0.0e+00   0.0e+00   0.0e+00   0.0e+00\n",
      "└ @ SolverTools /home/abel/.julia/packages/SolverTools/Zu4eO/src/bmark/run_solver.jl:82\n",
      "┌ Info:           prob3       2       1      first_order   0.0e+00   0.0e+00   0.0e+00   0.0e+00\n",
      "└ @ SolverTools /home/abel/.julia/packages/SolverTools/Zu4eO/src/bmark/run_solver.jl:82\n",
      "┌ Info:           prob4       2       1      first_order   1.0e-03   0.0e+00   0.0e+00   0.0e+00\n",
      "└ @ SolverTools /home/abel/.julia/packages/SolverTools/Zu4eO/src/bmark/run_solver.jl:82\n",
      "┌ Info:           prob5       2       1      first_order   0.0e+00   0.0e+00   0.0e+00   0.0e+00\n",
      "└ @ SolverTools /home/abel/.julia/packages/SolverTools/Zu4eO/src/bmark/run_solver.jl:82\n"
     ]
    },
    {
     "data": {
      "text/html": [
       "<table class=\"data-frame\"><thead><tr><th></th><th>id</th><th>name</th><th>nvar</th><th>ncon</th><th>nequ</th><th>status</th><th>objective</th><th>elapsed_time</th><th>iter</th></tr><tr><th></th><th>Int64</th><th>String</th><th>Int64</th><th>Int64</th><th>Int64</th><th>Symbol</th><th>Float64</th><th>Float64</th><th>Int64</th></tr></thead><tbody><p>5 rows × 34 columns (omitted printing of 25 columns)</p><tr><th>1</th><td>1</td><td>prob1</td><td>2</td><td>1</td><td>0</td><td>first_order</td><td>0.0</td><td>0.001</td><td>0</td></tr><tr><th>2</th><td>2</td><td>prob2</td><td>2</td><td>1</td><td>0</td><td>first_order</td><td>0.0</td><td>0.0</td><td>0</td></tr><tr><th>3</th><td>3</td><td>prob3</td><td>2</td><td>1</td><td>0</td><td>first_order</td><td>0.0</td><td>0.0</td><td>0</td></tr><tr><th>4</th><td>4</td><td>prob4</td><td>2</td><td>1</td><td>0</td><td>first_order</td><td>0.0</td><td>0.001</td><td>0</td></tr><tr><th>5</th><td>5</td><td>prob5</td><td>2</td><td>1</td><td>0</td><td>first_order</td><td>0.0</td><td>0.0</td><td>0</td></tr></tbody></table>"
      ],
      "text/latex": [
       "\\begin{tabular}{r|cccccccccc}\n",
       "\t& id & name & nvar & ncon & nequ & status & objective & elapsed\\_time & iter & \\\\\n",
       "\t\\hline\n",
       "\t& Int64 & String & Int64 & Int64 & Int64 & Symbol & Float64 & Float64 & Int64 & \\\\\n",
       "\t\\hline\n",
       "\t1 & 1 & prob1 & 2 & 1 & 0 & first\\_order & 0.0 & 0.001 & 0 & $\\dots$ \\\\\n",
       "\t2 & 2 & prob2 & 2 & 1 & 0 & first\\_order & 0.0 & 0.0 & 0 & $\\dots$ \\\\\n",
       "\t3 & 3 & prob3 & 2 & 1 & 0 & first\\_order & 0.0 & 0.0 & 0 & $\\dots$ \\\\\n",
       "\t4 & 4 & prob4 & 2 & 1 & 0 & first\\_order & 0.0 & 0.001 & 0 & $\\dots$ \\\\\n",
       "\t5 & 5 & prob5 & 2 & 1 & 0 & first\\_order & 0.0 & 0.0 & 0 & $\\dots$ \\\\\n",
       "\\end{tabular}\n"
      ],
      "text/plain": [
       "5×34 DataFrames.DataFrame. Omitted printing of 27 columns\n",
       "│ Row │ id    │ name   │ nvar  │ ncon  │ nequ  │ status      │ objective │\n",
       "│     │ \u001b[90mInt64\u001b[39m │ \u001b[90mString\u001b[39m │ \u001b[90mInt64\u001b[39m │ \u001b[90mInt64\u001b[39m │ \u001b[90mInt64\u001b[39m │ \u001b[90mSymbol\u001b[39m      │ \u001b[90mFloat64\u001b[39m   │\n",
       "├─────┼───────┼────────┼───────┼───────┼───────┼─────────────┼───────────┤\n",
       "│ 1   │ 1     │ prob1  │ 2     │ 1     │ 0     │ first_order │ 0.0       │\n",
       "│ 2   │ 2     │ prob2  │ 2     │ 1     │ 0     │ first_order │ 0.0       │\n",
       "│ 3   │ 3     │ prob3  │ 2     │ 1     │ 0     │ first_order │ 0.0       │\n",
       "│ 4   │ 4     │ prob4  │ 2     │ 1     │ 0     │ first_order │ 0.0       │\n",
       "│ 5   │ 5     │ prob5  │ 2     │ 1     │ 0     │ first_order │ 0.0       │"
      ]
     },
     "execution_count": 33,
     "metadata": {},
     "output_type": "execute_result"
    }
   ],
   "source": [
    "solve_problems(ipopt, problems)"
   ]
  },
  {
   "cell_type": "code",
   "execution_count": 34,
   "metadata": {},
   "outputs": [
    {
     "data": {
      "text/plain": [
       "Dict{Symbol,Function} with 2 entries:\n",
       "  :IPOPT => #19\n",
       "  :SQP   => sqp"
      ]
     },
     "execution_count": 34,
     "metadata": {},
     "output_type": "execute_result"
    }
   ],
   "source": [
    "solvers = Dict(\n",
    "    :SQP => sqp,\n",
    "    :IPOPT => (nlp; kwargs...) -> ipopt(nlp, print_level=0; kwargs...)\n",
    ")"
   ]
  },
  {
   "cell_type": "code",
   "execution_count": 35,
   "metadata": {},
   "outputs": [
    {
     "name": "stderr",
     "output_type": "stream",
     "text": [
      "┌ Info:            Name    nvar    ncon           status      Time      f(x)      Dual    Primal  \n",
      "└ @ SolverTools /home/abel/.julia/packages/SolverTools/Zu4eO/src/bmark/run_solver.jl:66\n",
      "┌ Info:           prob1       2       1      first_order   0.0e+00   0.0e+00   0.0e+00   0.0e+00\n",
      "└ @ SolverTools /home/abel/.julia/packages/SolverTools/Zu4eO/src/bmark/run_solver.jl:82\n",
      "┌ Info:           prob2       2       1      first_order   0.0e+00   0.0e+00   0.0e+00   0.0e+00\n",
      "└ @ SolverTools /home/abel/.julia/packages/SolverTools/Zu4eO/src/bmark/run_solver.jl:82\n",
      "┌ Info:           prob3       2       1      first_order   0.0e+00   0.0e+00   0.0e+00   0.0e+00\n",
      "└ @ SolverTools /home/abel/.julia/packages/SolverTools/Zu4eO/src/bmark/run_solver.jl:82\n",
      "┌ Info:           prob4       2       1      first_order   0.0e+00   0.0e+00   0.0e+00   0.0e+00\n",
      "└ @ SolverTools /home/abel/.julia/packages/SolverTools/Zu4eO/src/bmark/run_solver.jl:82\n",
      "┌ Info:           prob5       2       1      first_order   0.0e+00   0.0e+00   0.0e+00   0.0e+00\n",
      "└ @ SolverTools /home/abel/.julia/packages/SolverTools/Zu4eO/src/bmark/run_solver.jl:82\n",
      "┌ Info:            Name    nvar    ncon           status      Time      f(x)      Dual    Primal  \n",
      "└ @ SolverTools /home/abel/.julia/packages/SolverTools/Zu4eO/src/bmark/run_solver.jl:66\n",
      "┌ Info:           prob1       2       1      first_order   3.2e-02   4.7e-16   7.0e-08   2.7e-20\n",
      "└ @ SolverTools /home/abel/.julia/packages/SolverTools/Zu4eO/src/bmark/run_solver.jl:82\n",
      "┌ Info:           prob2       2       1      first_order   1.9e-04   1.4e-12   4.1e-06   8.1e-20\n",
      "└ @ SolverTools /home/abel/.julia/packages/SolverTools/Zu4eO/src/bmark/run_solver.jl:82\n",
      "┌ Info:           prob3       2       1      first_order   1.5e-04   7.3e-17   3.3e-08   0.0e+00\n",
      "└ @ SolverTools /home/abel/.julia/packages/SolverTools/Zu4eO/src/bmark/run_solver.jl:82\n",
      "┌ Info:           prob4       2       1      first_order   1.5e-04   6.6e-12   1.1e-05   1.9e-19\n",
      "└ @ SolverTools /home/abel/.julia/packages/SolverTools/Zu4eO/src/bmark/run_solver.jl:82\n",
      "┌ Info:           prob5       2       1      first_order   2.0e-04   1.9e-14   6.6e-07   6.8e-20\n",
      "└ @ SolverTools /home/abel/.julia/packages/SolverTools/Zu4eO/src/bmark/run_solver.jl:82\n"
     ]
    },
    {
     "data": {
      "text/plain": [
       "Dict{Symbol,DataFrames.DataFrame} with 2 entries:\n",
       "  :IPOPT => 5×34 DataFrames.DataFrame. Omitted printing of 27 columns…\n",
       "  :SQP   => 5×31 DataFrames.DataFrame. Omitted printing of 24 columns…"
      ]
     },
     "execution_count": 35,
     "metadata": {},
     "output_type": "execute_result"
    }
   ],
   "source": [
    "df = bmark_solvers(solvers, problems)"
   ]
  },
  {
   "cell_type": "code",
   "execution_count": 36,
   "metadata": {},
   "outputs": [
    {
     "data": {
      "text/html": [
       "<table class=\"data-frame\"><thead><tr><th></th><th>id</th><th>name</th><th>nvar</th><th>ncon</th><th>nequ</th><th>status</th><th>objective</th><th>elapsed_time</th><th>iter</th></tr><tr><th></th><th>Int64</th><th>String</th><th>Int64</th><th>Int64</th><th>Int64</th><th>Symbol</th><th>Float64</th><th>Float64</th><th>Int64</th></tr></thead><tbody><p>5 rows × 31 columns (omitted printing of 22 columns)</p><tr><th>1</th><td>1</td><td>prob1</td><td>2</td><td>1</td><td>0</td><td>first_order</td><td>4.65579e-16</td><td>0.031507</td><td>6</td></tr><tr><th>2</th><td>2</td><td>prob2</td><td>2</td><td>1</td><td>0</td><td>first_order</td><td>1.38988e-12</td><td>0.00019002</td><td>7</td></tr><tr><th>3</th><td>3</td><td>prob3</td><td>2</td><td>1</td><td>0</td><td>first_order</td><td>7.27943e-17</td><td>0.000150204</td><td>9</td></tr><tr><th>4</th><td>4</td><td>prob4</td><td>2</td><td>1</td><td>0</td><td>first_order</td><td>6.5658e-12</td><td>0.00014782</td><td>9</td></tr><tr><th>5</th><td>5</td><td>prob5</td><td>2</td><td>1</td><td>0</td><td>first_order</td><td>1.9076e-14</td><td>0.000199795</td><td>10</td></tr></tbody></table>"
      ],
      "text/latex": [
       "\\begin{tabular}{r|cccccccccc}\n",
       "\t& id & name & nvar & ncon & nequ & status & objective & elapsed\\_time & iter & \\\\\n",
       "\t\\hline\n",
       "\t& Int64 & String & Int64 & Int64 & Int64 & Symbol & Float64 & Float64 & Int64 & \\\\\n",
       "\t\\hline\n",
       "\t1 & 1 & prob1 & 2 & 1 & 0 & first\\_order & 4.65579e-16 & 0.031507 & 6 & $\\dots$ \\\\\n",
       "\t2 & 2 & prob2 & 2 & 1 & 0 & first\\_order & 1.38988e-12 & 0.00019002 & 7 & $\\dots$ \\\\\n",
       "\t3 & 3 & prob3 & 2 & 1 & 0 & first\\_order & 7.27943e-17 & 0.000150204 & 9 & $\\dots$ \\\\\n",
       "\t4 & 4 & prob4 & 2 & 1 & 0 & first\\_order & 6.5658e-12 & 0.00014782 & 9 & $\\dots$ \\\\\n",
       "\t5 & 5 & prob5 & 2 & 1 & 0 & first\\_order & 1.9076e-14 & 0.000199795 & 10 & $\\dots$ \\\\\n",
       "\\end{tabular}\n"
      ],
      "text/plain": [
       "5×31 DataFrames.DataFrame. Omitted printing of 24 columns\n",
       "│ Row │ id    │ name   │ nvar  │ ncon  │ nequ  │ status      │ objective   │\n",
       "│     │ \u001b[90mInt64\u001b[39m │ \u001b[90mString\u001b[39m │ \u001b[90mInt64\u001b[39m │ \u001b[90mInt64\u001b[39m │ \u001b[90mInt64\u001b[39m │ \u001b[90mSymbol\u001b[39m      │ \u001b[90mFloat64\u001b[39m     │\n",
       "├─────┼───────┼────────┼───────┼───────┼───────┼─────────────┼─────────────┤\n",
       "│ 1   │ 1     │ prob1  │ 2     │ 1     │ 0     │ first_order │ 4.65579e-16 │\n",
       "│ 2   │ 2     │ prob2  │ 2     │ 1     │ 0     │ first_order │ 1.38988e-12 │\n",
       "│ 3   │ 3     │ prob3  │ 2     │ 1     │ 0     │ first_order │ 7.27943e-17 │\n",
       "│ 4   │ 4     │ prob4  │ 2     │ 1     │ 0     │ first_order │ 6.5658e-12  │\n",
       "│ 5   │ 5     │ prob5  │ 2     │ 1     │ 0     │ first_order │ 1.9076e-14  │"
      ]
     },
     "execution_count": 36,
     "metadata": {},
     "output_type": "execute_result"
    }
   ],
   "source": [
    "df[:SQP]"
   ]
  },
  {
   "cell_type": "code",
   "execution_count": 37,
   "metadata": {},
   "outputs": [
    {
     "data": {
      "text/html": [
       "<table class=\"data-frame\"><thead><tr><th></th><th>id</th><th>name</th><th>nvar</th><th>ncon</th><th>nequ</th><th>status</th><th>objective</th><th>elapsed_time</th><th>iter</th></tr><tr><th></th><th>Int64</th><th>String</th><th>Int64</th><th>Int64</th><th>Int64</th><th>Symbol</th><th>Float64</th><th>Float64</th><th>Int64</th></tr></thead><tbody><p>5 rows × 34 columns (omitted printing of 25 columns)</p><tr><th>1</th><td>1</td><td>prob1</td><td>2</td><td>1</td><td>0</td><td>first_order</td><td>0.0</td><td>0.0</td><td>0</td></tr><tr><th>2</th><td>2</td><td>prob2</td><td>2</td><td>1</td><td>0</td><td>first_order</td><td>0.0</td><td>0.0</td><td>0</td></tr><tr><th>3</th><td>3</td><td>prob3</td><td>2</td><td>1</td><td>0</td><td>first_order</td><td>0.0</td><td>0.0</td><td>0</td></tr><tr><th>4</th><td>4</td><td>prob4</td><td>2</td><td>1</td><td>0</td><td>first_order</td><td>0.0</td><td>0.0</td><td>0</td></tr><tr><th>5</th><td>5</td><td>prob5</td><td>2</td><td>1</td><td>0</td><td>first_order</td><td>0.0</td><td>0.0</td><td>0</td></tr></tbody></table>"
      ],
      "text/latex": [
       "\\begin{tabular}{r|cccccccccc}\n",
       "\t& id & name & nvar & ncon & nequ & status & objective & elapsed\\_time & iter & \\\\\n",
       "\t\\hline\n",
       "\t& Int64 & String & Int64 & Int64 & Int64 & Symbol & Float64 & Float64 & Int64 & \\\\\n",
       "\t\\hline\n",
       "\t1 & 1 & prob1 & 2 & 1 & 0 & first\\_order & 0.0 & 0.0 & 0 & $\\dots$ \\\\\n",
       "\t2 & 2 & prob2 & 2 & 1 & 0 & first\\_order & 0.0 & 0.0 & 0 & $\\dots$ \\\\\n",
       "\t3 & 3 & prob3 & 2 & 1 & 0 & first\\_order & 0.0 & 0.0 & 0 & $\\dots$ \\\\\n",
       "\t4 & 4 & prob4 & 2 & 1 & 0 & first\\_order & 0.0 & 0.0 & 0 & $\\dots$ \\\\\n",
       "\t5 & 5 & prob5 & 2 & 1 & 0 & first\\_order & 0.0 & 0.0 & 0 & $\\dots$ \\\\\n",
       "\\end{tabular}\n"
      ],
      "text/plain": [
       "5×34 DataFrames.DataFrame. Omitted printing of 27 columns\n",
       "│ Row │ id    │ name   │ nvar  │ ncon  │ nequ  │ status      │ objective │\n",
       "│     │ \u001b[90mInt64\u001b[39m │ \u001b[90mString\u001b[39m │ \u001b[90mInt64\u001b[39m │ \u001b[90mInt64\u001b[39m │ \u001b[90mInt64\u001b[39m │ \u001b[90mSymbol\u001b[39m      │ \u001b[90mFloat64\u001b[39m   │\n",
       "├─────┼───────┼────────┼───────┼───────┼───────┼─────────────┼───────────┤\n",
       "│ 1   │ 1     │ prob1  │ 2     │ 1     │ 0     │ first_order │ 0.0       │\n",
       "│ 2   │ 2     │ prob2  │ 2     │ 1     │ 0     │ first_order │ 0.0       │\n",
       "│ 3   │ 3     │ prob3  │ 2     │ 1     │ 0     │ first_order │ 0.0       │\n",
       "│ 4   │ 4     │ prob4  │ 2     │ 1     │ 0     │ first_order │ 0.0       │\n",
       "│ 5   │ 5     │ prob5  │ 2     │ 1     │ 0     │ first_order │ 0.0       │"
      ]
     },
     "execution_count": 37,
     "metadata": {},
     "output_type": "execute_result"
    }
   ],
   "source": [
    "df[:IPOPT]"
   ]
  },
  {
   "cell_type": "code",
   "execution_count": 38,
   "metadata": {},
   "outputs": [
    {
     "name": "stderr",
     "output_type": "stream",
     "text": [
      "┌ Warning: `getindex(df::DataFrame, col_inds::Union{AbstractVector, Regex, Not})` is deprecated, use `df[:, col_inds]` instead.\n",
      "│   caller = join(::Dict{Symbol,DataFrames.DataFrame}, ::Array{Symbol,1}; invariant_cols::Array{Symbol,1}, hdr_override::Dict{Symbol,String}) at join.jl:49\n",
      "└ @ SolverBenchmark /home/abel/.julia/packages/SolverBenchmark/VWv02/src/join.jl:49\n",
      "┌ Warning: `getindex(df::DataFrame, col_inds::Union{AbstractVector, Regex, Not})` is deprecated, use `df[:, col_inds]` instead.\n",
      "│   caller = join(::Dict{Symbol,DataFrames.DataFrame}, ::Array{Symbol,1}; invariant_cols::Array{Symbol,1}, hdr_override::Dict{Symbol,String}) at join.jl:58\n",
      "└ @ SolverBenchmark /home/abel/.julia/packages/SolverBenchmark/VWv02/src/join.jl:58\n"
     ]
    },
    {
     "data": {
      "text/html": [
       "<table class=\"data-frame\"><thead><tr><th></th><th>id</th><th>name</th><th>nvar</th><th>ncon</th><th>objective_IPOPT</th><th>elapsed_time_IPOPT</th><th>objective_SQP</th></tr><tr><th></th><th>Int64</th><th>String</th><th>Int64</th><th>Int64</th><th>Float64</th><th>Float64</th><th>Float64</th></tr></thead><tbody><p>5 rows × 8 columns (omitted printing of 1 columns)</p><tr><th>1</th><td>1</td><td>prob1</td><td>2</td><td>1</td><td>0.0</td><td>0.0</td><td>4.65579e-16</td></tr><tr><th>2</th><td>2</td><td>prob2</td><td>2</td><td>1</td><td>0.0</td><td>0.0</td><td>1.38988e-12</td></tr><tr><th>3</th><td>3</td><td>prob3</td><td>2</td><td>1</td><td>0.0</td><td>0.0</td><td>7.27943e-17</td></tr><tr><th>4</th><td>4</td><td>prob4</td><td>2</td><td>1</td><td>0.0</td><td>0.0</td><td>6.5658e-12</td></tr><tr><th>5</th><td>5</td><td>prob5</td><td>2</td><td>1</td><td>0.0</td><td>0.0</td><td>1.9076e-14</td></tr></tbody></table>"
      ],
      "text/latex": [
       "\\begin{tabular}{r|cccccccc}\n",
       "\t& id & name & nvar & ncon & objective\\_IPOPT & elapsed\\_time\\_IPOPT & objective\\_SQP & \\\\\n",
       "\t\\hline\n",
       "\t& Int64 & String & Int64 & Int64 & Float64 & Float64 & Float64 & \\\\\n",
       "\t\\hline\n",
       "\t1 & 1 & prob1 & 2 & 1 & 0.0 & 0.0 & 4.65579e-16 & $\\dots$ \\\\\n",
       "\t2 & 2 & prob2 & 2 & 1 & 0.0 & 0.0 & 1.38988e-12 & $\\dots$ \\\\\n",
       "\t3 & 3 & prob3 & 2 & 1 & 0.0 & 0.0 & 7.27943e-17 & $\\dots$ \\\\\n",
       "\t4 & 4 & prob4 & 2 & 1 & 0.0 & 0.0 & 6.5658e-12 & $\\dots$ \\\\\n",
       "\t5 & 5 & prob5 & 2 & 1 & 0.0 & 0.0 & 1.9076e-14 & $\\dots$ \\\\\n",
       "\\end{tabular}\n"
      ],
      "text/plain": [
       "5×8 DataFrames.DataFrame. Omitted printing of 2 columns\n",
       "│ Row │ id    │ name   │ nvar  │ ncon  │ objective_IPOPT │ elapsed_time_IPOPT │\n",
       "│     │ \u001b[90mInt64\u001b[39m │ \u001b[90mString\u001b[39m │ \u001b[90mInt64\u001b[39m │ \u001b[90mInt64\u001b[39m │ \u001b[90mFloat64\u001b[39m         │ \u001b[90mFloat64\u001b[39m            │\n",
       "├─────┼───────┼────────┼───────┼───────┼─────────────────┼────────────────────┤\n",
       "│ 1   │ 1     │ prob1  │ 2     │ 1     │ 0.0             │ 0.0                │\n",
       "│ 2   │ 2     │ prob2  │ 2     │ 1     │ 0.0             │ 0.0                │\n",
       "│ 3   │ 3     │ prob3  │ 2     │ 1     │ 0.0             │ 0.0                │\n",
       "│ 4   │ 4     │ prob4  │ 2     │ 1     │ 0.0             │ 0.0                │\n",
       "│ 5   │ 5     │ prob5  │ 2     │ 1     │ 0.0             │ 0.0                │"
      ]
     },
     "execution_count": 38,
     "metadata": {},
     "output_type": "execute_result"
    }
   ],
   "source": [
    "df_join = SolverBenchmark.join(df, [:objective, :elapsed_time],\n",
    "    invariant_cols=[:name, :nvar, :ncon]\n",
    ")"
   ]
  },
  {
   "cell_type": "markdown",
   "metadata": {},
   "source": [
    "**Comparing our solver and IPOPT on CUTEst problems**"
   ]
  },
  {
   "cell_type": "code",
   "execution_count": 39,
   "metadata": {},
   "outputs": [
    {
     "name": "stderr",
     "output_type": "stream",
     "text": [
      "\u001b[32m\u001b[1m  Resolving\u001b[22m\u001b[39m package versions...\n",
      "\u001b[32m\u001b[1m   Updating\u001b[22m\u001b[39m `~/Documents/streaming/notebooks/tutorials/creating-a-solver/Project.toml`\n",
      "\u001b[90m [no changes]\u001b[39m\n",
      "\u001b[32m\u001b[1m   Updating\u001b[22m\u001b[39m `~/Documents/streaming/notebooks/tutorials/creating-a-solver/Manifest.toml`\n",
      "\u001b[90m [no changes]\u001b[39m\n"
     ]
    }
   ],
   "source": [
    "using Pkg\n",
    "pkg\"add CUTEst\""
   ]
  },
  {
   "cell_type": "code",
   "execution_count": 40,
   "metadata": {},
   "outputs": [
    {
     "name": "stderr",
     "output_type": "stream",
     "text": [
      "┌ Info: Precompiling CUTEst [1b53aba6-35b6-5f92-a507-53c67d53f819]\n",
      "└ @ Base loading.jl:1260\n",
      "┌ Info: using problem repository\n",
      "│   ENV[\"MASTSIF\"] = /home/abel/.julia/packages/CUTEst/Qj8fj/src/../deps/sif\n",
      "└ @ CUTEst /home/abel/.julia/packages/CUTEst/Qj8fj/src/CUTEst.jl:78\n"
     ]
    }
   ],
   "source": [
    "using CUTEst"
   ]
  },
  {
   "cell_type": "code",
   "execution_count": 41,
   "metadata": {},
   "outputs": [],
   "source": [
    "# CUTEst.fetch_sif_problems() # Run in your terminal due to badcert"
   ]
  },
  {
   "cell_type": "code",
   "execution_count": 42,
   "metadata": {},
   "outputs": [
    {
     "data": {
      "text/plain": [
       "Minimization problem HS7\n",
       "nvar = 2, ncon = 1 (0 linear)\n"
      ]
     },
     "execution_count": 42,
     "metadata": {},
     "output_type": "execute_result"
    }
   ],
   "source": [
    "nlp = CUTEstModel(\"HS7\")"
   ]
  },
  {
   "cell_type": "code",
   "execution_count": 43,
   "metadata": {},
   "outputs": [
    {
     "data": {
      "text/plain": [
       "true"
      ]
     },
     "execution_count": 43,
     "metadata": {},
     "output_type": "execute_result"
    }
   ],
   "source": [
    "CUTEstModel <: AbstractNLPModel"
   ]
  },
  {
   "cell_type": "code",
   "execution_count": 44,
   "metadata": {},
   "outputs": [
    {
     "data": {
      "text/plain": [
       "true"
      ]
     },
     "execution_count": 44,
     "metadata": {},
     "output_type": "execute_result"
    }
   ],
   "source": [
    "equality_constrained(nlp)"
   ]
  },
  {
   "cell_type": "code",
   "execution_count": 45,
   "metadata": {},
   "outputs": [
    {
     "data": {
      "text/plain": [
       "true"
      ]
     },
     "execution_count": 45,
     "metadata": {},
     "output_type": "execute_result"
    }
   ],
   "source": [
    "!has_bounds(nlp)"
   ]
  },
  {
   "cell_type": "code",
   "execution_count": 46,
   "metadata": {},
   "outputs": [
    {
     "name": "stderr",
     "output_type": "stream",
     "text": [
      "┌ Info:   iter      f(x)  ‖∇ℓ(x,y)‖    ‖c(x)‖  \n",
      "└ @ Main In[19]:36\n",
      "┌ Info:      0  -3.9e-01   4.1e+01   2.5e+01\n",
      "└ @ Main In[19]:42\n",
      "┌ Info:      1  -1.9e-03   1.3e+01   7.1e+00\n",
      "└ @ Main In[19]:62\n",
      "┌ Info:      2  -4.8e-01   4.4e+00   2.0e+00\n",
      "└ @ Main In[19]:62\n",
      "┌ Info:      3  -1.6e+00   1.6e+00   1.7e+00\n",
      "└ @ Main In[19]:62\n",
      "┌ Info:      4  -2.2e+00   3.3e-01   1.9e+00\n",
      "└ @ Main In[19]:62\n",
      "┌ Info:      5  -1.8e+00   3.9e-02   2.0e-01\n",
      "└ @ Main In[19]:62\n",
      "┌ Info:      6  -1.7e+00   2.0e-03   3.2e-03\n",
      "└ @ Main In[19]:62\n",
      "┌ Info:      7  -1.7e+00   1.4e-06   9.2e-07\n",
      "└ @ Main In[19]:62\n"
     ]
    },
    {
     "data": {
      "text/plain": [
       "\"Execution stats: first-order stationary\""
      ]
     },
     "execution_count": 46,
     "metadata": {},
     "output_type": "execute_result"
    }
   ],
   "source": [
    "sqp(nlp)"
   ]
  },
  {
   "cell_type": "code",
   "execution_count": 47,
   "metadata": {},
   "outputs": [
    {
     "data": {
      "text/plain": [
       "28-element Array{String,1}:\n",
       " \"WAYSEA1NE\"\n",
       " \"HS7\"\n",
       " \"GOTTFR\"\n",
       " \"MARATOS\"\n",
       " \"HS6\"\n",
       " \"CUBENE\"\n",
       " \"HS8\"\n",
       " \"BT1\"\n",
       " \"PRICE4NE\"\n",
       " \"POWELLSQ\"\n",
       " \"BT10\"\n",
       " \"HS9\"\n",
       " \"POWELLBS\"\n",
       " ⋮\n",
       " \"BOOTH\"\n",
       " \"DENSCHNFNE\"\n",
       " \"HIMMELBC\"\n",
       " \"HYPCIR\"\n",
       " \"S316-322\"\n",
       " \"HIMMELBD\"\n",
       " \"FLT\"\n",
       " \"FREURONE\"\n",
       " \"RSNBRNE\"\n",
       " \"CLUSTER\"\n",
       " \"HIMMELBA\"\n",
       " \"SINVALNE\""
      ]
     },
     "execution_count": 47,
     "metadata": {},
     "output_type": "execute_result"
    }
   ],
   "source": [
    "pnames = CUTEst.select(max_var=2, min_con=1, max_con=2,\n",
    "                       only_free_var=true, only_equ_con=true)"
   ]
  },
  {
   "cell_type": "code",
   "execution_count": 48,
   "metadata": {},
   "outputs": [
    {
     "ename": "ErrorException",
     "evalue": "CUTEst: call finalize on current model first",
     "output_type": "error",
     "traceback": [
      "CUTEst: call finalize on current model first",
      "",
      "Stacktrace:",
      " [1] error(::String) at ./error.jl:33",
      " [2] CUTEstModel(::String; decode::Bool, verbose::Bool, efirst::Bool, lfirst::Bool, lvfirst::Bool) at /home/abel/.julia/packages/CUTEst/Qj8fj/src/CUTEst.jl:221",
      " [3] CUTEstModel(::String) at /home/abel/.julia/packages/CUTEst/Qj8fj/src/CUTEst.jl:212",
      " [4] top-level scope at In[48]:1"
     ]
    }
   ],
   "source": [
    "# Can't open more than one problem at the same time\n",
    "CUTEstModel(\"HS8\")"
   ]
  },
  {
   "cell_type": "code",
   "execution_count": 49,
   "metadata": {},
   "outputs": [],
   "source": [
    "finalize(nlp)"
   ]
  },
  {
   "cell_type": "code",
   "execution_count": 50,
   "metadata": {},
   "outputs": [
    {
     "data": {
      "text/plain": [
       "Base.Generator{Array{String,1},Type{CUTEstModel}}(CUTEstModel, [\"WAYSEA1NE\", \"HS7\", \"GOTTFR\", \"MARATOS\", \"HS6\", \"CUBENE\", \"HS8\", \"BT1\", \"PRICE4NE\", \"POWELLSQ\"  …  \"HIMMELBC\", \"HYPCIR\", \"S316-322\", \"HIMMELBD\", \"FLT\", \"FREURONE\", \"RSNBRNE\", \"CLUSTER\", \"HIMMELBA\", \"SINVALNE\"])"
      ]
     },
     "execution_count": 50,
     "metadata": {},
     "output_type": "execute_result"
    }
   ],
   "source": [
    "# You need to pass a list of problems to bmark_solver or solve_problems\n",
    "problems = (CUTEstModel(p) for p in pnames)"
   ]
  },
  {
   "cell_type": "code",
   "execution_count": 51,
   "metadata": {},
   "outputs": [
    {
     "data": {
      "text/plain": [
       "3-element Array{Int64,1}:\n",
       " 1\n",
       " 2\n",
       " 3"
      ]
     },
     "execution_count": 51,
     "metadata": {},
     "output_type": "execute_result"
    }
   ],
   "source": [
    "# Generator vs vector compreheension\n",
    "[i for i = 1:3]"
   ]
  },
  {
   "cell_type": "code",
   "execution_count": 52,
   "metadata": {},
   "outputs": [
    {
     "data": {
      "text/plain": [
       "Base.Generator{UnitRange{Int64},typeof(identity)}(identity, 1:3)"
      ]
     },
     "execution_count": 52,
     "metadata": {},
     "output_type": "execute_result"
    }
   ],
   "source": [
    "(i for i = 1:3)"
   ]
  },
  {
   "cell_type": "code",
   "execution_count": 53,
   "metadata": {
    "scrolled": true
   },
   "outputs": [
    {
     "name": "stderr",
     "output_type": "stream",
     "text": [
      "┌ Info:            Name    nvar    ncon           status      Time      f(x)      Dual    Primal  \n",
      "└ @ SolverTools /home/abel/.julia/packages/SolverTools/Zu4eO/src/bmark/run_solver.jl:66\n",
      "┌ Info:       WAYSEA1NE       2       2      first_order   2.9e-02   0.0e+00   2.4e-07   2.7e-08\n",
      "└ @ SolverTools /home/abel/.julia/packages/SolverTools/Zu4eO/src/bmark/run_solver.jl:82\n",
      "┌ Info:             HS7       2       1      first_order   4.2e-04  -1.7e+00   1.4e-06   9.2e-07\n",
      "└ @ SolverTools /home/abel/.julia/packages/SolverTools/Zu4eO/src/bmark/run_solver.jl:82\n",
      "┌ Info:          GOTTFR       2       2      first_order   1.6e-02   0.0e+00   1.6e-06   1.1e-09\n",
      "└ @ SolverTools /home/abel/.julia/packages/SolverTools/Zu4eO/src/bmark/run_solver.jl:82\n",
      "┌ Info:         MARATOS       2       1      first_order   2.9e-04  -1.0e+00   4.8e-11   4.7e-11\n",
      "└ @ SolverTools /home/abel/.julia/packages/SolverTools/Zu4eO/src/bmark/run_solver.jl:82\n",
      "┌ Info:             HS6       2       1      first_order   3.2e-04   0.0e+00   0.0e+00   8.9e-15\n",
      "└ @ SolverTools /home/abel/.julia/packages/SolverTools/Zu4eO/src/bmark/run_solver.jl:82\n",
      "┌ Info:          CUBENE       2       2      first_order   2.5e-04   0.0e+00   0.0e+00   0.0e+00\n",
      "└ @ SolverTools /home/abel/.julia/packages/SolverTools/Zu4eO/src/bmark/run_solver.jl:82\n",
      "┌ Info:             HS8       2       2      first_order   5.5e-04  -1.0e+00   2.5e-09   1.4e-10\n",
      "└ @ SolverTools /home/abel/.julia/packages/SolverTools/Zu4eO/src/bmark/run_solver.jl:82\n",
      "┌ Info:             BT1       2       1      first_order   6.9e-04  -1.0e+00   1.2e-10   9.8e-11\n",
      "└ @ SolverTools /home/abel/.julia/packages/SolverTools/Zu4eO/src/bmark/run_solver.jl:82\n",
      "┌ Info:        PRICE4NE       2       2      first_order   1.3e-03   0.0e+00   7.3e-09   8.2e-07\n",
      "└ @ SolverTools /home/abel/.julia/packages/SolverTools/Zu4eO/src/bmark/run_solver.jl:82\n",
      "┌ Info:        POWELLSQ       2       2         max_eval   2.0e-03   0.0e+00   3.3e+04   4.5e-05\n",
      "└ @ SolverTools /home/abel/.julia/packages/SolverTools/Zu4eO/src/bmark/run_solver.jl:82\n",
      "┌ Info:            BT10       2       2      first_order   9.8e-04  -1.0e+00   2.3e-07   4.4e-09\n",
      "└ @ SolverTools /home/abel/.julia/packages/SolverTools/Zu4eO/src/bmark/run_solver.jl:82\n",
      "┌ Error: caught exception\n",
      "│   e = SingularException(0)\n",
      "└ @ SolverTools /home/abel/.julia/packages/SolverTools/Zu4eO/src/bmark/run_solver.jl:75\n",
      "┌ Info:             HS9       2       1        exception       Inf       Inf       Inf       Inf\n",
      "└ @ SolverTools /home/abel/.julia/packages/SolverTools/Zu4eO/src/bmark/run_solver.jl:82\n",
      "┌ Info:        POWELLBS       2       2      first_order   9.5e-04   0.0e+00   6.0e-04   7.8e-07\n",
      "└ @ SolverTools /home/abel/.julia/packages/SolverTools/Zu4eO/src/bmark/run_solver.jl:82\n",
      "┌ Info:        PRICE3NE       2       2      first_order   5.6e-04   0.0e+00   3.4e-11   3.4e-11\n",
      "└ @ SolverTools /home/abel/.julia/packages/SolverTools/Zu4eO/src/bmark/run_solver.jl:82\n",
      "┌ Info:      DENSCHNCNE       2       2      first_order   8.8e-04   0.0e+00   3.4e-09   2.4e-11\n",
      "└ @ SolverTools /home/abel/.julia/packages/SolverTools/Zu4eO/src/bmark/run_solver.jl:82\n",
      "┌ Info:       WAYSEA2NE       2       2      first_order   1.0e-03   0.0e+00   2.5e-08   9.3e-10\n",
      "└ @ SolverTools /home/abel/.julia/packages/SolverTools/Zu4eO/src/bmark/run_solver.jl:82\n",
      "┌ Info:           BOOTH       2       2      first_order   1.7e-04   0.0e+00   5.0e-16   8.9e-16\n",
      "└ @ SolverTools /home/abel/.julia/packages/SolverTools/Zu4eO/src/bmark/run_solver.jl:82\n",
      "┌ Info:      DENSCHNFNE       2       2      first_order   1.3e-02   0.0e+00   2.8e-12   1.7e-13\n",
      "└ @ SolverTools /home/abel/.julia/packages/SolverTools/Zu4eO/src/bmark/run_solver.jl:82\n",
      "┌ Info:        HIMMELBC       2       2      first_order   5.2e-04   0.0e+00   1.7e-06   6.5e-08\n",
      "└ @ SolverTools /home/abel/.julia/packages/SolverTools/Zu4eO/src/bmark/run_solver.jl:82\n",
      "┌ Info:          HYPCIR       2       2      first_order   4.6e-04   0.0e+00   7.1e-10   1.2e-11\n",
      "└ @ SolverTools /home/abel/.julia/packages/SolverTools/Zu4eO/src/bmark/run_solver.jl:82\n",
      "┌ Error: caught exception\n",
      "│   e = SingularException(0)\n",
      "└ @ SolverTools /home/abel/.julia/packages/SolverTools/Zu4eO/src/bmark/run_solver.jl:75\n",
      "┌ Info:        S316-322       2       1        exception       Inf       Inf       Inf       Inf\n",
      "└ @ SolverTools /home/abel/.julia/packages/SolverTools/Zu4eO/src/bmark/run_solver.jl:82\n",
      "┌ Info:        HIMMELBD       2       2         max_eval   1.5e-03   0.0e+00   4.9e+10   7.8e+02\n",
      "└ @ SolverTools /home/abel/.julia/packages/SolverTools/Zu4eO/src/bmark/run_solver.jl:82\n",
      "┌ Error: caught exception\n",
      "│   e = SingularException(0)\n",
      "└ @ SolverTools /home/abel/.julia/packages/SolverTools/Zu4eO/src/bmark/run_solver.jl:75\n",
      "┌ Info:             FLT       2       2        exception       Inf       Inf       Inf       Inf\n",
      "└ @ SolverTools /home/abel/.julia/packages/SolverTools/Zu4eO/src/bmark/run_solver.jl:82\n",
      "┌ Info:        FREURONE       2       2         max_eval   1.5e-03   0.0e+00   3.2e+10   8.4e+01\n",
      "└ @ SolverTools /home/abel/.julia/packages/SolverTools/Zu4eO/src/bmark/run_solver.jl:82\n",
      "┌ Info:         RSNBRNE       2       2      first_order   2.2e-04   0.0e+00   7.1e-15   8.9e-15\n",
      "└ @ SolverTools /home/abel/.julia/packages/SolverTools/Zu4eO/src/bmark/run_solver.jl:82\n",
      "┌ Error: caught exception\n",
      "│   e = SingularException(0)\n",
      "└ @ SolverTools /home/abel/.julia/packages/SolverTools/Zu4eO/src/bmark/run_solver.jl:75\n",
      "┌ Info:         CLUSTER       2       2        exception       Inf       Inf       Inf       Inf\n",
      "└ @ SolverTools /home/abel/.julia/packages/SolverTools/Zu4eO/src/bmark/run_solver.jl:82\n",
      "┌ Info:        HIMMELBA       2       2      first_order   2.0e-04   0.0e+00   0.0e+00   0.0e+00\n",
      "└ @ SolverTools /home/abel/.julia/packages/SolverTools/Zu4eO/src/bmark/run_solver.jl:82\n",
      "┌ Info:        SINVALNE       2       2      first_order   2.3e-04   0.0e+00   7.1e-15   2.2e-15\n",
      "└ @ SolverTools /home/abel/.julia/packages/SolverTools/Zu4eO/src/bmark/run_solver.jl:82\n"
     ]
    },
    {
     "data": {
      "text/html": [
       "<table class=\"data-frame\"><thead><tr><th></th><th>id</th><th>name</th><th>nvar</th><th>ncon</th><th>nequ</th><th>status</th><th>objective</th><th>elapsed_time</th><th>iter</th></tr><tr><th></th><th>Int64</th><th>String</th><th>Int64</th><th>Int64</th><th>Int64</th><th>Symbol</th><th>Float64</th><th>Float64</th><th>Int64</th></tr></thead><tbody><p>28 rows × 31 columns (omitted printing of 22 columns)</p><tr><th>1</th><td>1</td><td>WAYSEA1NE</td><td>2</td><td>2</td><td>0</td><td>first_order</td><td>0.0</td><td>0.0291741</td><td>7</td></tr><tr><th>2</th><td>2</td><td>HS7</td><td>2</td><td>1</td><td>0</td><td>first_order</td><td>-1.73205</td><td>0.000424147</td><td>7</td></tr><tr><th>3</th><td>3</td><td>GOTTFR</td><td>2</td><td>2</td><td>0</td><td>first_order</td><td>0.0</td><td>0.016371</td><td>7</td></tr><tr><th>4</th><td>4</td><td>MARATOS</td><td>2</td><td>1</td><td>0</td><td>first_order</td><td>-1.0</td><td>0.000287056</td><td>4</td></tr><tr><th>5</th><td>5</td><td>HS6</td><td>2</td><td>1</td><td>0</td><td>first_order</td><td>0.0</td><td>0.000315905</td><td>3</td></tr><tr><th>6</th><td>6</td><td>CUBENE</td><td>2</td><td>2</td><td>0</td><td>first_order</td><td>0.0</td><td>0.000247002</td><td>2</td></tr><tr><th>7</th><td>7</td><td>HS8</td><td>2</td><td>2</td><td>0</td><td>first_order</td><td>-1.0</td><td>0.000550985</td><td>5</td></tr><tr><th>8</th><td>8</td><td>BT1</td><td>2</td><td>1</td><td>0</td><td>first_order</td><td>-1.0</td><td>0.00068903</td><td>11</td></tr><tr><th>9</th><td>9</td><td>PRICE4NE</td><td>2</td><td>2</td><td>0</td><td>first_order</td><td>0.0</td><td>0.00125504</td><td>19</td></tr><tr><th>10</th><td>10</td><td>POWELLSQ</td><td>2</td><td>2</td><td>0</td><td>max_eval</td><td>0.0</td><td>0.002038</td><td>25</td></tr><tr><th>11</th><td>11</td><td>BT10</td><td>2</td><td>2</td><td>0</td><td>first_order</td><td>-1.0</td><td>0.000977993</td><td>6</td></tr><tr><th>12</th><td>12</td><td>HS9</td><td>2</td><td>1</td><td>0</td><td>exception</td><td>Inf</td><td>Inf</td><td>0</td></tr><tr><th>13</th><td>13</td><td>POWELLBS</td><td>2</td><td>2</td><td>0</td><td>first_order</td><td>0.0</td><td>0.000954151</td><td>11</td></tr><tr><th>14</th><td>14</td><td>PRICE3NE</td><td>2</td><td>2</td><td>0</td><td>first_order</td><td>0.0</td><td>0.000561953</td><td>7</td></tr><tr><th>15</th><td>15</td><td>DENSCHNCNE</td><td>2</td><td>2</td><td>0</td><td>first_order</td><td>0.0</td><td>0.000878096</td><td>7</td></tr><tr><th>16</th><td>16</td><td>WAYSEA2NE</td><td>2</td><td>2</td><td>0</td><td>first_order</td><td>0.0</td><td>0.00102806</td><td>11</td></tr><tr><th>17</th><td>17</td><td>BOOTH</td><td>2</td><td>2</td><td>0</td><td>first_order</td><td>0.0</td><td>0.000174046</td><td>1</td></tr><tr><th>18</th><td>18</td><td>DENSCHNFNE</td><td>2</td><td>2</td><td>0</td><td>first_order</td><td>0.0</td><td>0.012975</td><td>5</td></tr><tr><th>19</th><td>19</td><td>HIMMELBC</td><td>2</td><td>2</td><td>0</td><td>first_order</td><td>0.0</td><td>0.000519991</td><td>5</td></tr><tr><th>20</th><td>20</td><td>HYPCIR</td><td>2</td><td>2</td><td>0</td><td>first_order</td><td>0.0</td><td>0.000463009</td><td>5</td></tr><tr><th>21</th><td>21</td><td>S316-322</td><td>2</td><td>1</td><td>0</td><td>exception</td><td>Inf</td><td>Inf</td><td>0</td></tr><tr><th>22</th><td>22</td><td>HIMMELBD</td><td>2</td><td>2</td><td>0</td><td>max_eval</td><td>0.0</td><td>0.00145888</td><td>25</td></tr><tr><th>23</th><td>23</td><td>FLT</td><td>2</td><td>2</td><td>0</td><td>exception</td><td>Inf</td><td>Inf</td><td>0</td></tr><tr><th>24</th><td>24</td><td>FREURONE</td><td>2</td><td>2</td><td>0</td><td>max_eval</td><td>0.0</td><td>0.00150299</td><td>25</td></tr><tr><th>25</th><td>25</td><td>RSNBRNE</td><td>2</td><td>2</td><td>0</td><td>first_order</td><td>0.0</td><td>0.000217915</td><td>2</td></tr><tr><th>26</th><td>26</td><td>CLUSTER</td><td>2</td><td>2</td><td>0</td><td>exception</td><td>Inf</td><td>Inf</td><td>0</td></tr><tr><th>27</th><td>27</td><td>HIMMELBA</td><td>2</td><td>2</td><td>0</td><td>first_order</td><td>0.0</td><td>0.000204802</td><td>1</td></tr><tr><th>28</th><td>28</td><td>SINVALNE</td><td>2</td><td>2</td><td>0</td><td>first_order</td><td>0.0</td><td>0.000234842</td><td>2</td></tr></tbody></table>"
      ],
      "text/latex": [
       "\\begin{tabular}{r|cccccccccc}\n",
       "\t& id & name & nvar & ncon & nequ & status & objective & elapsed\\_time & iter & \\\\\n",
       "\t\\hline\n",
       "\t& Int64 & String & Int64 & Int64 & Int64 & Symbol & Float64 & Float64 & Int64 & \\\\\n",
       "\t\\hline\n",
       "\t1 & 1 & WAYSEA1NE & 2 & 2 & 0 & first\\_order & 0.0 & 0.0291741 & 7 & $\\dots$ \\\\\n",
       "\t2 & 2 & HS7 & 2 & 1 & 0 & first\\_order & -1.73205 & 0.000424147 & 7 & $\\dots$ \\\\\n",
       "\t3 & 3 & GOTTFR & 2 & 2 & 0 & first\\_order & 0.0 & 0.016371 & 7 & $\\dots$ \\\\\n",
       "\t4 & 4 & MARATOS & 2 & 1 & 0 & first\\_order & -1.0 & 0.000287056 & 4 & $\\dots$ \\\\\n",
       "\t5 & 5 & HS6 & 2 & 1 & 0 & first\\_order & 0.0 & 0.000315905 & 3 & $\\dots$ \\\\\n",
       "\t6 & 6 & CUBENE & 2 & 2 & 0 & first\\_order & 0.0 & 0.000247002 & 2 & $\\dots$ \\\\\n",
       "\t7 & 7 & HS8 & 2 & 2 & 0 & first\\_order & -1.0 & 0.000550985 & 5 & $\\dots$ \\\\\n",
       "\t8 & 8 & BT1 & 2 & 1 & 0 & first\\_order & -1.0 & 0.00068903 & 11 & $\\dots$ \\\\\n",
       "\t9 & 9 & PRICE4NE & 2 & 2 & 0 & first\\_order & 0.0 & 0.00125504 & 19 & $\\dots$ \\\\\n",
       "\t10 & 10 & POWELLSQ & 2 & 2 & 0 & max\\_eval & 0.0 & 0.002038 & 25 & $\\dots$ \\\\\n",
       "\t11 & 11 & BT10 & 2 & 2 & 0 & first\\_order & -1.0 & 0.000977993 & 6 & $\\dots$ \\\\\n",
       "\t12 & 12 & HS9 & 2 & 1 & 0 & exception & Inf & Inf & 0 & $\\dots$ \\\\\n",
       "\t13 & 13 & POWELLBS & 2 & 2 & 0 & first\\_order & 0.0 & 0.000954151 & 11 & $\\dots$ \\\\\n",
       "\t14 & 14 & PRICE3NE & 2 & 2 & 0 & first\\_order & 0.0 & 0.000561953 & 7 & $\\dots$ \\\\\n",
       "\t15 & 15 & DENSCHNCNE & 2 & 2 & 0 & first\\_order & 0.0 & 0.000878096 & 7 & $\\dots$ \\\\\n",
       "\t16 & 16 & WAYSEA2NE & 2 & 2 & 0 & first\\_order & 0.0 & 0.00102806 & 11 & $\\dots$ \\\\\n",
       "\t17 & 17 & BOOTH & 2 & 2 & 0 & first\\_order & 0.0 & 0.000174046 & 1 & $\\dots$ \\\\\n",
       "\t18 & 18 & DENSCHNFNE & 2 & 2 & 0 & first\\_order & 0.0 & 0.012975 & 5 & $\\dots$ \\\\\n",
       "\t19 & 19 & HIMMELBC & 2 & 2 & 0 & first\\_order & 0.0 & 0.000519991 & 5 & $\\dots$ \\\\\n",
       "\t20 & 20 & HYPCIR & 2 & 2 & 0 & first\\_order & 0.0 & 0.000463009 & 5 & $\\dots$ \\\\\n",
       "\t21 & 21 & S316-322 & 2 & 1 & 0 & exception & Inf & Inf & 0 & $\\dots$ \\\\\n",
       "\t22 & 22 & HIMMELBD & 2 & 2 & 0 & max\\_eval & 0.0 & 0.00145888 & 25 & $\\dots$ \\\\\n",
       "\t23 & 23 & FLT & 2 & 2 & 0 & exception & Inf & Inf & 0 & $\\dots$ \\\\\n",
       "\t24 & 24 & FREURONE & 2 & 2 & 0 & max\\_eval & 0.0 & 0.00150299 & 25 & $\\dots$ \\\\\n",
       "\t25 & 25 & RSNBRNE & 2 & 2 & 0 & first\\_order & 0.0 & 0.000217915 & 2 & $\\dots$ \\\\\n",
       "\t26 & 26 & CLUSTER & 2 & 2 & 0 & exception & Inf & Inf & 0 & $\\dots$ \\\\\n",
       "\t27 & 27 & HIMMELBA & 2 & 2 & 0 & first\\_order & 0.0 & 0.000204802 & 1 & $\\dots$ \\\\\n",
       "\t28 & 28 & SINVALNE & 2 & 2 & 0 & first\\_order & 0.0 & 0.000234842 & 2 & $\\dots$ \\\\\n",
       "\\end{tabular}\n"
      ],
      "text/plain": [
       "28×31 DataFrames.DataFrame. Omitted printing of 24 columns\n",
       "│ Row │ id    │ name       │ nvar  │ ncon  │ nequ  │ status      │ objective │\n",
       "│     │ \u001b[90mInt64\u001b[39m │ \u001b[90mString\u001b[39m     │ \u001b[90mInt64\u001b[39m │ \u001b[90mInt64\u001b[39m │ \u001b[90mInt64\u001b[39m │ \u001b[90mSymbol\u001b[39m      │ \u001b[90mFloat64\u001b[39m   │\n",
       "├─────┼───────┼────────────┼───────┼───────┼───────┼─────────────┼───────────┤\n",
       "│ 1   │ 1     │ WAYSEA1NE  │ 2     │ 2     │ 0     │ first_order │ 0.0       │\n",
       "│ 2   │ 2     │ HS7        │ 2     │ 1     │ 0     │ first_order │ -1.73205  │\n",
       "│ 3   │ 3     │ GOTTFR     │ 2     │ 2     │ 0     │ first_order │ 0.0       │\n",
       "│ 4   │ 4     │ MARATOS    │ 2     │ 1     │ 0     │ first_order │ -1.0      │\n",
       "│ 5   │ 5     │ HS6        │ 2     │ 1     │ 0     │ first_order │ 0.0       │\n",
       "│ 6   │ 6     │ CUBENE     │ 2     │ 2     │ 0     │ first_order │ 0.0       │\n",
       "│ 7   │ 7     │ HS8        │ 2     │ 2     │ 0     │ first_order │ -1.0      │\n",
       "│ 8   │ 8     │ BT1        │ 2     │ 1     │ 0     │ first_order │ -1.0      │\n",
       "│ 9   │ 9     │ PRICE4NE   │ 2     │ 2     │ 0     │ first_order │ 0.0       │\n",
       "│ 10  │ 10    │ POWELLSQ   │ 2     │ 2     │ 0     │ max_eval    │ 0.0       │\n",
       "⋮\n",
       "│ 18  │ 18    │ DENSCHNFNE │ 2     │ 2     │ 0     │ first_order │ 0.0       │\n",
       "│ 19  │ 19    │ HIMMELBC   │ 2     │ 2     │ 0     │ first_order │ 0.0       │\n",
       "│ 20  │ 20    │ HYPCIR     │ 2     │ 2     │ 0     │ first_order │ 0.0       │\n",
       "│ 21  │ 21    │ S316-322   │ 2     │ 1     │ 0     │ exception   │ Inf       │\n",
       "│ 22  │ 22    │ HIMMELBD   │ 2     │ 2     │ 0     │ max_eval    │ 0.0       │\n",
       "│ 23  │ 23    │ FLT        │ 2     │ 2     │ 0     │ exception   │ Inf       │\n",
       "│ 24  │ 24    │ FREURONE   │ 2     │ 2     │ 0     │ max_eval    │ 0.0       │\n",
       "│ 25  │ 25    │ RSNBRNE    │ 2     │ 2     │ 0     │ first_order │ 0.0       │\n",
       "│ 26  │ 26    │ CLUSTER    │ 2     │ 2     │ 0     │ exception   │ Inf       │\n",
       "│ 27  │ 27    │ HIMMELBA   │ 2     │ 2     │ 0     │ first_order │ 0.0       │\n",
       "│ 28  │ 28    │ SINVALNE   │ 2     │ 2     │ 0     │ first_order │ 0.0       │"
      ]
     },
     "execution_count": 53,
     "metadata": {},
     "output_type": "execute_result"
    }
   ],
   "source": [
    "df = solve_problems(sqp, problems)"
   ]
  },
  {
   "cell_type": "code",
   "execution_count": 54,
   "metadata": {},
   "outputs": [
    {
     "data": {
      "text/plain": [
       "Dict{Symbol,Int64} with 3 entries:\n",
       "  :first_order => 21\n",
       "  :max_eval    => 3\n",
       "  :exception   => 4"
      ]
     },
     "execution_count": 54,
     "metadata": {},
     "output_type": "execute_result"
    }
   ],
   "source": [
    "Dict(k => count(df.status .== k) for k in unique(df.status))"
   ]
  },
  {
   "cell_type": "code",
   "execution_count": 55,
   "metadata": {},
   "outputs": [
    {
     "data": {
      "text/html": [
       "<table class=\"data-frame\"><thead><tr><th></th><th>id</th><th>name</th><th>nvar</th><th>ncon</th><th>nequ</th><th>status</th><th>objective</th><th>elapsed_time</th><th>iter</th></tr><tr><th></th><th>Int64</th><th>String</th><th>Int64</th><th>Int64</th><th>Int64</th><th>Symbol</th><th>Float64</th><th>Float64</th><th>Int64</th></tr></thead><tbody><p>4 rows × 31 columns (omitted printing of 22 columns)</p><tr><th>1</th><td>12</td><td>HS9</td><td>2</td><td>1</td><td>0</td><td>exception</td><td>Inf</td><td>Inf</td><td>0</td></tr><tr><th>2</th><td>21</td><td>S316-322</td><td>2</td><td>1</td><td>0</td><td>exception</td><td>Inf</td><td>Inf</td><td>0</td></tr><tr><th>3</th><td>23</td><td>FLT</td><td>2</td><td>2</td><td>0</td><td>exception</td><td>Inf</td><td>Inf</td><td>0</td></tr><tr><th>4</th><td>26</td><td>CLUSTER</td><td>2</td><td>2</td><td>0</td><td>exception</td><td>Inf</td><td>Inf</td><td>0</td></tr></tbody></table>"
      ],
      "text/latex": [
       "\\begin{tabular}{r|cccccccccc}\n",
       "\t& id & name & nvar & ncon & nequ & status & objective & elapsed\\_time & iter & \\\\\n",
       "\t\\hline\n",
       "\t& Int64 & String & Int64 & Int64 & Int64 & Symbol & Float64 & Float64 & Int64 & \\\\\n",
       "\t\\hline\n",
       "\t1 & 12 & HS9 & 2 & 1 & 0 & exception & Inf & Inf & 0 & $\\dots$ \\\\\n",
       "\t2 & 21 & S316-322 & 2 & 1 & 0 & exception & Inf & Inf & 0 & $\\dots$ \\\\\n",
       "\t3 & 23 & FLT & 2 & 2 & 0 & exception & Inf & Inf & 0 & $\\dots$ \\\\\n",
       "\t4 & 26 & CLUSTER & 2 & 2 & 0 & exception & Inf & Inf & 0 & $\\dots$ \\\\\n",
       "\\end{tabular}\n"
      ],
      "text/plain": [
       "4×31 DataFrames.DataFrame. Omitted printing of 24 columns\n",
       "│ Row │ id    │ name     │ nvar  │ ncon  │ nequ  │ status    │ objective │\n",
       "│     │ \u001b[90mInt64\u001b[39m │ \u001b[90mString\u001b[39m   │ \u001b[90mInt64\u001b[39m │ \u001b[90mInt64\u001b[39m │ \u001b[90mInt64\u001b[39m │ \u001b[90mSymbol\u001b[39m    │ \u001b[90mFloat64\u001b[39m   │\n",
       "├─────┼───────┼──────────┼───────┼───────┼───────┼───────────┼───────────┤\n",
       "│ 1   │ 12    │ HS9      │ 2     │ 1     │ 0     │ exception │ Inf       │\n",
       "│ 2   │ 21    │ S316-322 │ 2     │ 1     │ 0     │ exception │ Inf       │\n",
       "│ 3   │ 23    │ FLT      │ 2     │ 2     │ 0     │ exception │ Inf       │\n",
       "│ 4   │ 26    │ CLUSTER  │ 2     │ 2     │ 0     │ exception │ Inf       │"
      ]
     },
     "execution_count": 55,
     "metadata": {},
     "output_type": "execute_result"
    }
   ],
   "source": [
    "df[df.status .== :exception,:]"
   ]
  },
  {
   "cell_type": "code",
   "execution_count": 56,
   "metadata": {},
   "outputs": [
    {
     "data": {
      "text/plain": [
       "Dict{Symbol,Function} with 2 entries:\n",
       "  :IPOPT => #19\n",
       "  :SQP   => sqp"
      ]
     },
     "execution_count": 56,
     "metadata": {},
     "output_type": "execute_result"
    }
   ],
   "source": [
    "solvers"
   ]
  },
  {
   "cell_type": "code",
   "execution_count": 57,
   "metadata": {
    "scrolled": true
   },
   "outputs": [
    {
     "name": "stderr",
     "output_type": "stream",
     "text": [
      "┌ Info:            Name    nvar    ncon           status      Time      f(x)      Dual    Primal  \n",
      "└ @ SolverTools /home/abel/.julia/packages/SolverTools/Zu4eO/src/bmark/run_solver.jl:66\n",
      "┌ Info:       WAYSEA1NE       2       2      first_order   4.8e-02   0.0e+00   0.0e+00   0.0e+00\n",
      "└ @ SolverTools /home/abel/.julia/packages/SolverTools/Zu4eO/src/bmark/run_solver.jl:82\n",
      "┌ Info:             HS7       2       1      first_order   3.0e-03  -1.7e+00   2.2e-16   4.4e-16\n",
      "└ @ SolverTools /home/abel/.julia/packages/SolverTools/Zu4eO/src/bmark/run_solver.jl:82\n",
      "┌ Info:          GOTTFR       2       2      first_order   0.0e+00   0.0e+00   0.0e+00   0.0e+00\n",
      "└ @ SolverTools /home/abel/.julia/packages/SolverTools/Zu4eO/src/bmark/run_solver.jl:82\n",
      "┌ Info:         MARATOS       2       1      first_order   3.0e-03  -1.0e+00   2.7e-09   1.1e-14\n",
      "└ @ SolverTools /home/abel/.julia/packages/SolverTools/Zu4eO/src/bmark/run_solver.jl:82\n",
      "┌ Info:             HS6       2       1      first_order   0.0e+00   0.0e+00   0.0e+00   0.0e+00\n",
      "└ @ SolverTools /home/abel/.julia/packages/SolverTools/Zu4eO/src/bmark/run_solver.jl:82\n",
      "┌ Info:          CUBENE       2       2      first_order   1.0e-03   0.0e+00   0.0e+00   0.0e+00\n",
      "└ @ SolverTools /home/abel/.julia/packages/SolverTools/Zu4eO/src/bmark/run_solver.jl:82\n",
      "┌ Info:             HS8       2       2       infeasible   8.0e-03  -1.0e+00   0.0e+00   2.5e+01\n",
      "└ @ SolverTools /home/abel/.julia/packages/SolverTools/Zu4eO/src/bmark/run_solver.jl:82\n",
      "┌ Info:             BT1       2       1      first_order   3.0e-03  -1.0e+00   0.0e+00   0.0e+00\n",
      "└ @ SolverTools /home/abel/.julia/packages/SolverTools/Zu4eO/src/bmark/run_solver.jl:82\n",
      "┌ Info:        PRICE4NE       2       2      first_order   0.0e+00   0.0e+00   0.0e+00   0.0e+00\n",
      "└ @ SolverTools /home/abel/.julia/packages/SolverTools/Zu4eO/src/bmark/run_solver.jl:82\n",
      "┌ Info:        POWELLSQ       2       2      first_order   0.0e+00   0.0e+00   0.0e+00   0.0e+00\n",
      "└ @ SolverTools /home/abel/.julia/packages/SolverTools/Zu4eO/src/bmark/run_solver.jl:82\n",
      "┌ Info:            BT10       2       2      first_order   0.0e+00   0.0e+00   1.0e+00   0.0e+00\n",
      "└ @ SolverTools /home/abel/.julia/packages/SolverTools/Zu4eO/src/bmark/run_solver.jl:82\n",
      "┌ Info:             HS9       2       1      first_order   1.0e-03  -5.0e-01   1.2e-11   0.0e+00\n",
      "└ @ SolverTools /home/abel/.julia/packages/SolverTools/Zu4eO/src/bmark/run_solver.jl:82\n",
      "┌ Info:        POWELLBS       2       2      first_order   1.9e-02   0.0e+00   0.0e+00   3.2e-09\n",
      "└ @ SolverTools /home/abel/.julia/packages/SolverTools/Zu4eO/src/bmark/run_solver.jl:82\n",
      "┌ Info:        PRICE3NE       2       2      first_order   3.0e-03   0.0e+00   0.0e+00   1.0e-13\n",
      "└ @ SolverTools /home/abel/.julia/packages/SolverTools/Zu4eO/src/bmark/run_solver.jl:82\n",
      "┌ Info:      DENSCHNCNE       2       2       infeasible   8.0e-03   0.0e+00   1.3e-06   4.9e-01\n",
      "└ @ SolverTools /home/abel/.julia/packages/SolverTools/Zu4eO/src/bmark/run_solver.jl:82\n",
      "┌ Info:       WAYSEA2NE       2       2      first_order   2.0e-03   0.0e+00   0.0e+00   3.7e-11\n",
      "└ @ SolverTools /home/abel/.julia/packages/SolverTools/Zu4eO/src/bmark/run_solver.jl:82\n",
      "┌ Info:           BOOTH       2       2      first_order   0.0e+00   0.0e+00   0.0e+00   0.0e+00\n",
      "└ @ SolverTools /home/abel/.julia/packages/SolverTools/Zu4eO/src/bmark/run_solver.jl:82\n",
      "┌ Info:      DENSCHNFNE       2       2       infeasible   7.0e-03   0.0e+00   0.0e+00   8.0e+00\n",
      "└ @ SolverTools /home/abel/.julia/packages/SolverTools/Zu4eO/src/bmark/run_solver.jl:82\n",
      "┌ Info:        HIMMELBC       2       2      first_order   0.0e+00   0.0e+00   0.0e+00   0.0e+00\n",
      "└ @ SolverTools /home/abel/.julia/packages/SolverTools/Zu4eO/src/bmark/run_solver.jl:82\n",
      "┌ Info:          HYPCIR       2       2       infeasible   6.0e-03   0.0e+00   0.0e+00   4.0e+00\n",
      "└ @ SolverTools /home/abel/.julia/packages/SolverTools/Zu4eO/src/bmark/run_solver.jl:82\n",
      "┌ Info:        S316-322       2       1      first_order   2.0e-03   3.3e+02   7.2e-11   1.1e-16\n",
      "└ @ SolverTools /home/abel/.julia/packages/SolverTools/Zu4eO/src/bmark/run_solver.jl:82\n",
      "┌ Info:        HIMMELBD       2       2       infeasible   2.0e-03   0.0e+00   2.0e-06   2.4e+00\n",
      "└ @ SolverTools /home/abel/.julia/packages/SolverTools/Zu4eO/src/bmark/run_solver.jl:82\n",
      "┌ Info:             FLT       2       2      first_order   0.0e+00   1.0e+00   2.0e+00   0.0e+00\n",
      "└ @ SolverTools /home/abel/.julia/packages/SolverTools/Zu4eO/src/bmark/run_solver.jl:82\n",
      "┌ Info:        FREURONE       2       2       infeasible   6.0e-03   0.0e+00   5.7e-09   8.6e+00\n",
      "└ @ SolverTools /home/abel/.julia/packages/SolverTools/Zu4eO/src/bmark/run_solver.jl:82\n",
      "┌ Info:         RSNBRNE       2       2      first_order   1.0e-03   0.0e+00   0.0e+00   0.0e+00\n",
      "└ @ SolverTools /home/abel/.julia/packages/SolverTools/Zu4eO/src/bmark/run_solver.jl:82\n",
      "┌ Info:         CLUSTER       2       2      first_order   3.0e-03   0.0e+00   0.0e+00   9.7e-12\n",
      "└ @ SolverTools /home/abel/.julia/packages/SolverTools/Zu4eO/src/bmark/run_solver.jl:82\n",
      "┌ Info:        HIMMELBA       2       2      first_order   1.0e-03   0.0e+00   0.0e+00   0.0e+00\n",
      "└ @ SolverTools /home/abel/.julia/packages/SolverTools/Zu4eO/src/bmark/run_solver.jl:82\n",
      "┌ Info:        SINVALNE       2       2      first_order   0.0e+00   0.0e+00   0.0e+00   0.0e+00\n",
      "└ @ SolverTools /home/abel/.julia/packages/SolverTools/Zu4eO/src/bmark/run_solver.jl:82\n",
      "┌ Info:            Name    nvar    ncon           status      Time      f(x)      Dual    Primal  \n",
      "└ @ SolverTools /home/abel/.julia/packages/SolverTools/Zu4eO/src/bmark/run_solver.jl:66\n",
      "┌ Info:       WAYSEA1NE       2       2      first_order   5.1e-04   0.0e+00   2.4e-07   2.7e-08\n",
      "└ @ SolverTools /home/abel/.julia/packages/SolverTools/Zu4eO/src/bmark/run_solver.jl:82\n",
      "┌ Info:             HS7       2       1      first_order   4.1e-04  -1.7e+00   1.4e-06   9.2e-07\n",
      "└ @ SolverTools /home/abel/.julia/packages/SolverTools/Zu4eO/src/bmark/run_solver.jl:82\n",
      "┌ Info:          GOTTFR       2       2      first_order   6.3e-04   0.0e+00   1.6e-06   1.1e-09\n",
      "└ @ SolverTools /home/abel/.julia/packages/SolverTools/Zu4eO/src/bmark/run_solver.jl:82\n",
      "┌ Info:         MARATOS       2       1      first_order   2.6e-04  -1.0e+00   4.8e-11   4.7e-11\n",
      "└ @ SolverTools /home/abel/.julia/packages/SolverTools/Zu4eO/src/bmark/run_solver.jl:82\n",
      "┌ Info:             HS6       2       1      first_order   3.8e-04   0.0e+00   0.0e+00   8.9e-15\n",
      "└ @ SolverTools /home/abel/.julia/packages/SolverTools/Zu4eO/src/bmark/run_solver.jl:82\n",
      "┌ Info:          CUBENE       2       2      first_order   2.8e-04   0.0e+00   0.0e+00   0.0e+00\n",
      "└ @ SolverTools /home/abel/.julia/packages/SolverTools/Zu4eO/src/bmark/run_solver.jl:82\n",
      "┌ Info:             HS8       2       2      first_order   5.5e-04  -1.0e+00   2.5e-09   1.4e-10\n",
      "└ @ SolverTools /home/abel/.julia/packages/SolverTools/Zu4eO/src/bmark/run_solver.jl:82\n",
      "┌ Info:             BT1       2       1      first_order   5.3e-04  -1.0e+00   1.2e-10   9.8e-11\n",
      "└ @ SolverTools /home/abel/.julia/packages/SolverTools/Zu4eO/src/bmark/run_solver.jl:82\n",
      "┌ Info:        PRICE4NE       2       2      first_order   1.1e-03   0.0e+00   7.3e-09   8.2e-07\n",
      "└ @ SolverTools /home/abel/.julia/packages/SolverTools/Zu4eO/src/bmark/run_solver.jl:82\n",
      "┌ Info:        POWELLSQ       2       2         max_eval   1.3e-03   0.0e+00   3.3e+04   4.5e-05\n",
      "└ @ SolverTools /home/abel/.julia/packages/SolverTools/Zu4eO/src/bmark/run_solver.jl:82\n",
      "┌ Info:            BT10       2       2      first_order   4.6e-04  -1.0e+00   2.3e-07   4.4e-09\n",
      "└ @ SolverTools /home/abel/.julia/packages/SolverTools/Zu4eO/src/bmark/run_solver.jl:82\n",
      "┌ Error: caught exception\n",
      "│   e = SingularException(0)\n",
      "└ @ SolverTools /home/abel/.julia/packages/SolverTools/Zu4eO/src/bmark/run_solver.jl:75\n",
      "┌ Info:             HS9       2       1        exception       Inf       Inf       Inf       Inf\n",
      "└ @ SolverTools /home/abel/.julia/packages/SolverTools/Zu4eO/src/bmark/run_solver.jl:82\n",
      "┌ Info:        POWELLBS       2       2      first_order   1.0e-03   0.0e+00   6.0e-04   7.8e-07\n",
      "└ @ SolverTools /home/abel/.julia/packages/SolverTools/Zu4eO/src/bmark/run_solver.jl:82\n",
      "┌ Info:        PRICE3NE       2       2      first_order   6.2e-04   0.0e+00   3.4e-11   3.4e-11\n",
      "└ @ SolverTools /home/abel/.julia/packages/SolverTools/Zu4eO/src/bmark/run_solver.jl:82\n"
     ]
    },
    {
     "name": "stderr",
     "output_type": "stream",
     "text": [
      "┌ Info:      DENSCHNCNE       2       2      first_order   5.6e-04   0.0e+00   3.4e-09   2.4e-11\n",
      "└ @ SolverTools /home/abel/.julia/packages/SolverTools/Zu4eO/src/bmark/run_solver.jl:82\n",
      "┌ Info:       WAYSEA2NE       2       2      first_order   7.1e-04   0.0e+00   2.5e-08   9.3e-10\n",
      "└ @ SolverTools /home/abel/.julia/packages/SolverTools/Zu4eO/src/bmark/run_solver.jl:82\n",
      "┌ Info:           BOOTH       2       2      first_order   1.8e-04   0.0e+00   5.0e-16   8.9e-16\n",
      "└ @ SolverTools /home/abel/.julia/packages/SolverTools/Zu4eO/src/bmark/run_solver.jl:82\n",
      "┌ Info:      DENSCHNFNE       2       2      first_order   6.1e-04   0.0e+00   2.8e-12   1.7e-13\n",
      "└ @ SolverTools /home/abel/.julia/packages/SolverTools/Zu4eO/src/bmark/run_solver.jl:82\n",
      "┌ Info:        HIMMELBC       2       2      first_order   4.5e-04   0.0e+00   1.7e-06   6.5e-08\n",
      "└ @ SolverTools /home/abel/.julia/packages/SolverTools/Zu4eO/src/bmark/run_solver.jl:82\n",
      "┌ Info:          HYPCIR       2       2      first_order   4.1e-04   0.0e+00   7.1e-10   1.2e-11\n",
      "└ @ SolverTools /home/abel/.julia/packages/SolverTools/Zu4eO/src/bmark/run_solver.jl:82\n",
      "┌ Error: caught exception\n",
      "│   e = SingularException(0)\n",
      "└ @ SolverTools /home/abel/.julia/packages/SolverTools/Zu4eO/src/bmark/run_solver.jl:75\n",
      "┌ Info:        S316-322       2       1        exception       Inf       Inf       Inf       Inf\n",
      "└ @ SolverTools /home/abel/.julia/packages/SolverTools/Zu4eO/src/bmark/run_solver.jl:82\n",
      "┌ Info:        HIMMELBD       2       2         max_eval   1.6e-03   0.0e+00   4.9e+10   7.8e+02\n",
      "└ @ SolverTools /home/abel/.julia/packages/SolverTools/Zu4eO/src/bmark/run_solver.jl:82\n",
      "┌ Error: caught exception\n",
      "│   e = SingularException(0)\n",
      "└ @ SolverTools /home/abel/.julia/packages/SolverTools/Zu4eO/src/bmark/run_solver.jl:75\n",
      "┌ Info:             FLT       2       2        exception       Inf       Inf       Inf       Inf\n",
      "└ @ SolverTools /home/abel/.julia/packages/SolverTools/Zu4eO/src/bmark/run_solver.jl:82\n",
      "┌ Info:        FREURONE       2       2         max_eval   1.5e-03   0.0e+00   3.2e+10   8.4e+01\n",
      "└ @ SolverTools /home/abel/.julia/packages/SolverTools/Zu4eO/src/bmark/run_solver.jl:82\n",
      "┌ Info:         RSNBRNE       2       2      first_order   2.1e-04   0.0e+00   7.1e-15   8.9e-15\n",
      "└ @ SolverTools /home/abel/.julia/packages/SolverTools/Zu4eO/src/bmark/run_solver.jl:82\n",
      "┌ Error: caught exception\n",
      "│   e = SingularException(0)\n",
      "└ @ SolverTools /home/abel/.julia/packages/SolverTools/Zu4eO/src/bmark/run_solver.jl:75\n",
      "┌ Info:         CLUSTER       2       2        exception       Inf       Inf       Inf       Inf\n",
      "└ @ SolverTools /home/abel/.julia/packages/SolverTools/Zu4eO/src/bmark/run_solver.jl:82\n",
      "┌ Info:        HIMMELBA       2       2      first_order   1.4e-04   0.0e+00   0.0e+00   0.0e+00\n",
      "└ @ SolverTools /home/abel/.julia/packages/SolverTools/Zu4eO/src/bmark/run_solver.jl:82\n",
      "┌ Info:        SINVALNE       2       2      first_order   2.6e-04   0.0e+00   7.1e-15   2.2e-15\n",
      "└ @ SolverTools /home/abel/.julia/packages/SolverTools/Zu4eO/src/bmark/run_solver.jl:82\n"
     ]
    },
    {
     "data": {
      "text/plain": [
       "Dict{Symbol,DataFrames.DataFrame} with 2 entries:\n",
       "  :IPOPT => 28×34 DataFrames.DataFrame. Omitted printing of 27 columns…\n",
       "  :SQP   => 28×31 DataFrames.DataFrame. Omitted printing of 24 columns…"
      ]
     },
     "execution_count": 57,
     "metadata": {},
     "output_type": "execute_result"
    }
   ],
   "source": [
    "stats = bmark_solvers(solvers, problems)"
   ]
  },
  {
   "cell_type": "code",
   "execution_count": 58,
   "metadata": {},
   "outputs": [
    {
     "name": "stderr",
     "output_type": "stream",
     "text": [
      "┌ Warning: some measures are zero; shifting all by one\n",
      "└ @ BenchmarkProfiles /home/abel/.julia/packages/BenchmarkProfiles/GSiYy/src/performance_profiles.jl:15\n"
     ]
    },
    {
     "data": {
      "image/svg+xml": [
       "<?xml version=\"1.0\" encoding=\"utf-8\"?>\n",
       "<svg xmlns=\"http://www.w3.org/2000/svg\" xmlns:xlink=\"http://www.w3.org/1999/xlink\" width=\"600\" height=\"400\" viewBox=\"0 0 2400 1600\">\n",
       "<defs>\n",
       "  <clipPath id=\"clip8500\">\n",
       "    <rect x=\"0\" y=\"0\" width=\"2400\" height=\"1600\"/>\n",
       "  </clipPath>\n",
       "</defs>\n",
       "<path clip-path=\"url(#clip8500)\" d=\"\n",
       "M0 1600 L2400 1600 L2400 0 L0 0  Z\n",
       "  \" fill=\"#ffffff\" fill-rule=\"evenodd\" fill-opacity=\"1\"/>\n",
       "<defs>\n",
       "  <clipPath id=\"clip8501\">\n",
       "    <rect x=\"480\" y=\"0\" width=\"1681\" height=\"1600\"/>\n",
       "  </clipPath>\n",
       "</defs>\n",
       "<path clip-path=\"url(#clip8500)\" d=\"\n",
       "M242.516 1425.62 L2352.76 1425.62 L2352.76 47.2441 L242.516 47.2441  Z\n",
       "  \" fill=\"#ffffff\" fill-rule=\"evenodd\" fill-opacity=\"1\"/>\n",
       "<defs>\n",
       "  <clipPath id=\"clip8502\">\n",
       "    <rect x=\"242\" y=\"47\" width=\"2111\" height=\"1379\"/>\n",
       "  </clipPath>\n",
       "</defs>\n",
       "<polyline clip-path=\"url(#clip8502)\" style=\"stroke:#000000; stroke-width:2; stroke-opacity:0.1; fill:none\" points=\"\n",
       "  242.516,1425.62 242.516,47.2441 \n",
       "  \"/>\n",
       "<polyline clip-path=\"url(#clip8502)\" style=\"stroke:#000000; stroke-width:2; stroke-opacity:0.1; fill:none\" points=\"\n",
       "  815.967,1425.62 815.967,47.2441 \n",
       "  \"/>\n",
       "<polyline clip-path=\"url(#clip8502)\" style=\"stroke:#000000; stroke-width:2; stroke-opacity:0.1; fill:none\" points=\"\n",
       "  1389.42,1425.62 1389.42,47.2441 \n",
       "  \"/>\n",
       "<polyline clip-path=\"url(#clip8502)\" style=\"stroke:#000000; stroke-width:2; stroke-opacity:0.1; fill:none\" points=\"\n",
       "  1962.87,1425.62 1962.87,47.2441 \n",
       "  \"/>\n",
       "<polyline clip-path=\"url(#clip8502)\" style=\"stroke:#000000; stroke-width:2; stroke-opacity:0.1; fill:none\" points=\"\n",
       "  242.516,1425.62 2352.76,1425.62 \n",
       "  \"/>\n",
       "<polyline clip-path=\"url(#clip8502)\" style=\"stroke:#000000; stroke-width:2; stroke-opacity:0.1; fill:none\" points=\"\n",
       "  242.516,1112.35 2352.76,1112.35 \n",
       "  \"/>\n",
       "<polyline clip-path=\"url(#clip8502)\" style=\"stroke:#000000; stroke-width:2; stroke-opacity:0.1; fill:none\" points=\"\n",
       "  242.516,799.085 2352.76,799.085 \n",
       "  \"/>\n",
       "<polyline clip-path=\"url(#clip8502)\" style=\"stroke:#000000; stroke-width:2; stroke-opacity:0.1; fill:none\" points=\"\n",
       "  242.516,485.818 2352.76,485.818 \n",
       "  \"/>\n",
       "<polyline clip-path=\"url(#clip8502)\" style=\"stroke:#000000; stroke-width:2; stroke-opacity:0.1; fill:none\" points=\"\n",
       "  242.516,172.551 2352.76,172.551 \n",
       "  \"/>\n",
       "<polyline clip-path=\"url(#clip8500)\" style=\"stroke:#000000; stroke-width:4; stroke-opacity:1; fill:none\" points=\"\n",
       "  242.516,1425.62 2352.76,1425.62 \n",
       "  \"/>\n",
       "<polyline clip-path=\"url(#clip8500)\" style=\"stroke:#000000; stroke-width:4; stroke-opacity:1; fill:none\" points=\"\n",
       "  242.516,1425.62 242.516,47.2441 \n",
       "  \"/>\n",
       "<polyline clip-path=\"url(#clip8500)\" style=\"stroke:#000000; stroke-width:4; stroke-opacity:1; fill:none\" points=\"\n",
       "  242.516,1425.62 242.516,1409.08 \n",
       "  \"/>\n",
       "<polyline clip-path=\"url(#clip8500)\" style=\"stroke:#000000; stroke-width:4; stroke-opacity:1; fill:none\" points=\"\n",
       "  815.967,1425.62 815.967,1409.08 \n",
       "  \"/>\n",
       "<polyline clip-path=\"url(#clip8500)\" style=\"stroke:#000000; stroke-width:4; stroke-opacity:1; fill:none\" points=\"\n",
       "  1389.42,1425.62 1389.42,1409.08 \n",
       "  \"/>\n",
       "<polyline clip-path=\"url(#clip8500)\" style=\"stroke:#000000; stroke-width:4; stroke-opacity:1; fill:none\" points=\"\n",
       "  1962.87,1425.62 1962.87,1409.08 \n",
       "  \"/>\n",
       "<polyline clip-path=\"url(#clip8500)\" style=\"stroke:#000000; stroke-width:4; stroke-opacity:1; fill:none\" points=\"\n",
       "  242.516,1425.62 267.839,1425.62 \n",
       "  \"/>\n",
       "<polyline clip-path=\"url(#clip8500)\" style=\"stroke:#000000; stroke-width:4; stroke-opacity:1; fill:none\" points=\"\n",
       "  242.516,1112.35 267.839,1112.35 \n",
       "  \"/>\n",
       "<polyline clip-path=\"url(#clip8500)\" style=\"stroke:#000000; stroke-width:4; stroke-opacity:1; fill:none\" points=\"\n",
       "  242.516,799.085 267.839,799.085 \n",
       "  \"/>\n",
       "<polyline clip-path=\"url(#clip8500)\" style=\"stroke:#000000; stroke-width:4; stroke-opacity:1; fill:none\" points=\"\n",
       "  242.516,485.818 267.839,485.818 \n",
       "  \"/>\n",
       "<polyline clip-path=\"url(#clip8500)\" style=\"stroke:#000000; stroke-width:4; stroke-opacity:1; fill:none\" points=\"\n",
       "  242.516,172.551 267.839,172.551 \n",
       "  \"/>\n",
       "<g clip-path=\"url(#clip8500)\">\n",
       "<text style=\"fill:#000000; fill-opacity:1; font-family:Arial,Helvetica Neue,Helvetica,sans-serif; font-size:48px; text-anchor:middle;\" transform=\"rotate(0, 242.516, 1479.62)\" x=\"242.516\" y=\"1479.62\">0.00</text>\n",
       "</g>\n",
       "<g clip-path=\"url(#clip8500)\">\n",
       "<text style=\"fill:#000000; fill-opacity:1; font-family:Arial,Helvetica Neue,Helvetica,sans-serif; font-size:48px; text-anchor:middle;\" transform=\"rotate(0, 815.967, 1479.62)\" x=\"815.967\" y=\"1479.62\">0.02</text>\n",
       "</g>\n",
       "<g clip-path=\"url(#clip8500)\">\n",
       "<text style=\"fill:#000000; fill-opacity:1; font-family:Arial,Helvetica Neue,Helvetica,sans-serif; font-size:48px; text-anchor:middle;\" transform=\"rotate(0, 1389.42, 1479.62)\" x=\"1389.42\" y=\"1479.62\">0.04</text>\n",
       "</g>\n",
       "<g clip-path=\"url(#clip8500)\">\n",
       "<text style=\"fill:#000000; fill-opacity:1; font-family:Arial,Helvetica Neue,Helvetica,sans-serif; font-size:48px; text-anchor:middle;\" transform=\"rotate(0, 1962.87, 1479.62)\" x=\"1962.87\" y=\"1479.62\">0.06</text>\n",
       "</g>\n",
       "<g clip-path=\"url(#clip8500)\">\n",
       "<text style=\"fill:#000000; fill-opacity:1; font-family:Arial,Helvetica Neue,Helvetica,sans-serif; font-size:48px; text-anchor:end;\" transform=\"rotate(0, 218.516, 1443.12)\" x=\"218.516\" y=\"1443.12\">0.00</text>\n",
       "</g>\n",
       "<g clip-path=\"url(#clip8500)\">\n",
       "<text style=\"fill:#000000; fill-opacity:1; font-family:Arial,Helvetica Neue,Helvetica,sans-serif; font-size:48px; text-anchor:end;\" transform=\"rotate(0, 218.516, 1129.85)\" x=\"218.516\" y=\"1129.85\">0.25</text>\n",
       "</g>\n",
       "<g clip-path=\"url(#clip8500)\">\n",
       "<text style=\"fill:#000000; fill-opacity:1; font-family:Arial,Helvetica Neue,Helvetica,sans-serif; font-size:48px; text-anchor:end;\" transform=\"rotate(0, 218.516, 816.585)\" x=\"218.516\" y=\"816.585\">0.50</text>\n",
       "</g>\n",
       "<g clip-path=\"url(#clip8500)\">\n",
       "<text style=\"fill:#000000; fill-opacity:1; font-family:Arial,Helvetica Neue,Helvetica,sans-serif; font-size:48px; text-anchor:end;\" transform=\"rotate(0, 218.516, 503.318)\" x=\"218.516\" y=\"503.318\">0.75</text>\n",
       "</g>\n",
       "<g clip-path=\"url(#clip8500)\">\n",
       "<text style=\"fill:#000000; fill-opacity:1; font-family:Arial,Helvetica Neue,Helvetica,sans-serif; font-size:48px; text-anchor:end;\" transform=\"rotate(0, 218.516, 190.051)\" x=\"218.516\" y=\"190.051\">1.00</text>\n",
       "</g>\n",
       "<g clip-path=\"url(#clip8500)\">\n",
       "<text style=\"fill:#000000; fill-opacity:1; font-family:Arial,Helvetica Neue,Helvetica,sans-serif; font-size:66px; text-anchor:middle;\" transform=\"rotate(0, 1297.64, 1559.48)\" x=\"1297.64\" y=\"1559.48\">Within this factor of the best (log scale)</text>\n",
       "</g>\n",
       "<g clip-path=\"url(#clip8500)\">\n",
       "<text style=\"fill:#000000; fill-opacity:1; font-family:Arial,Helvetica Neue,Helvetica,sans-serif; font-size:66px; text-anchor:middle;\" transform=\"rotate(-90, 89.2861, 736.431)\" x=\"89.2861\" y=\"736.431\">Proportion of problems</text>\n",
       "</g>\n",
       "<polyline clip-path=\"url(#clip8502)\" style=\"stroke:#009af9; stroke-width:4; stroke-opacity:1; fill:none\" points=\"\n",
       "  242.516,888.59 258.579,888.59 258.579,843.837 272.482,843.837 272.482,799.085 275.095,799.085 275.095,754.332 278.191,754.332 278.191,709.58 295.924,709.58 \n",
       "  295.924,664.827 340.912,664.827 340.912,620.075 344.391,620.075 344.391,575.323 349.517,575.323 349.517,530.57 355.847,530.57 355.847,485.818 427.637,485.818 \n",
       "  427.637,441.065 472.98,441.065 472.98,396.313 505.926,396.313 505.926,351.561 549.054,351.561 549.054,306.808 549.428,306.808 549.428,262.056 977.808,262.056 \n",
       "  977.808,217.303 2160.92,217.303 2160.92,172.551 4079.32,172.551 4079.32,127.798 \n",
       "  \"/>\n",
       "<polyline clip-path=\"url(#clip8502)\" style=\"stroke:#e26f46; stroke-width:4; stroke-opacity:1; fill:none\" points=\"\n",
       "  242.516,709.58 249.883,709.58 249.883,664.827 253.433,664.827 253.433,620.075 258.066,620.075 258.066,575.323 261.33,575.323 261.33,530.57 261.507,530.57 \n",
       "  261.507,485.818 268.693,485.818 268.693,441.065 289.898,441.065 289.898,396.313 294.281,396.313 294.281,351.561 4079.32,351.561 4079.32,127.798 \n",
       "  \"/>\n",
       "<path clip-path=\"url(#clip8500)\" d=\"\n",
       "M1896.31 312.204 L2280.76 312.204 L2280.76 130.764 L1896.31 130.764  Z\n",
       "  \" fill=\"#ffffff\" fill-rule=\"evenodd\" fill-opacity=\"1\"/>\n",
       "<polyline clip-path=\"url(#clip8500)\" style=\"stroke:#000000; stroke-width:4; stroke-opacity:1; fill:none\" points=\"\n",
       "  1896.31,312.204 2280.76,312.204 2280.76,130.764 1896.31,130.764 1896.31,312.204 \n",
       "  \"/>\n",
       "<polyline clip-path=\"url(#clip8500)\" style=\"stroke:#009af9; stroke-width:4; stroke-opacity:1; fill:none\" points=\"\n",
       "  1920.31,191.244 2064.31,191.244 \n",
       "  \"/>\n",
       "<g clip-path=\"url(#clip8500)\">\n",
       "<text style=\"fill:#000000; fill-opacity:1; font-family:Arial,Helvetica Neue,Helvetica,sans-serif; font-size:48px; text-anchor:start;\" transform=\"rotate(0, 2088.31, 208.744)\" x=\"2088.31\" y=\"208.744\">IPOPT</text>\n",
       "</g>\n",
       "<polyline clip-path=\"url(#clip8500)\" style=\"stroke:#e26f46; stroke-width:4; stroke-opacity:1; fill:none\" points=\"\n",
       "  1920.31,251.724 2064.31,251.724 \n",
       "  \"/>\n",
       "<g clip-path=\"url(#clip8500)\">\n",
       "<text style=\"fill:#000000; fill-opacity:1; font-family:Arial,Helvetica Neue,Helvetica,sans-serif; font-size:48px; text-anchor:start;\" transform=\"rotate(0, 2088.31, 269.224)\" x=\"2088.31\" y=\"269.224\">SQP</text>\n",
       "</g>\n",
       "</svg>\n"
      ]
     },
     "execution_count": 58,
     "metadata": {},
     "output_type": "execute_result"
    }
   ],
   "source": [
    "using SolverBenchmark\n",
    "\n",
    "cost(df) = df.elapsed_time\n",
    "performance_profile(stats, cost)"
   ]
  },
  {
   "cell_type": "code",
   "execution_count": 59,
   "metadata": {},
   "outputs": [
    {
     "data": {
      "text/plain": [
       "sqp (generic function with 1 method)"
      ]
     },
     "execution_count": 59,
     "metadata": {},
     "output_type": "execute_result"
    }
   ],
   "source": [
    "# Copied from above\n",
    "\n",
    "using LinearAlgebra, NLPModels, SolverTools\n",
    "\n",
    "# Input of an NLPModels compliant solver is:\n",
    "function sqp(nlp :: AbstractNLPModel; # Only mandatory argument\n",
    "             max_eval = 100,\n",
    "             max_time = 3.0,\n",
    "             atol = 1e-6,\n",
    "             rtol = 1e-6,\n",
    "             )\n",
    "    \n",
    "    start_time = time()\n",
    "    \n",
    "    nvar, ncon = nlp.meta.nvar, nlp.meta.ncon\n",
    "    \n",
    "    x = copy(nlp.meta.x0)\n",
    "    y = ones(ncon)\n",
    "    \n",
    "    f(x) = obj(nlp, x)\n",
    "    ∇f(x) = grad(nlp, x)\n",
    "    H(x,y) = hess(nlp, x, y)\n",
    "    c(x) = cons(nlp, x)\n",
    "    J(x) = jac(nlp, x)\n",
    "    \n",
    "    Jx = J(x)\n",
    "    dual = ∇f(x) + Jx' * y\n",
    "    primal = c(x)\n",
    "    \n",
    "    ϵd = atol + rtol * norm(dual)\n",
    "    ϵp = atol\n",
    "    \n",
    "    Δt = time() - start_time\n",
    "    solved = norm(dual) < ϵd && norm(primal) < ϵp\n",
    "    tired  = Δt > max_time || sum_counters(nlp) > max_eval\n",
    "    iter = 0\n",
    "    \n",
    "    @info log_header([:iter, :fx, :dual, :primal],\n",
    "                     [Int, Float64, Float64, Float64],\n",
    "                     hdr_override=Dict(:fx => \"f(x)\",\n",
    "                                       :dual => \"‖∇ℓ(x,y)‖\",\n",
    "                                       :primal => \"‖c(x)‖\"))\n",
    "    \n",
    "    @info log_row(Any[iter, f(x), norm(dual), norm(primal)])\n",
    "    \n",
    "    while !(solved || tired)\n",
    "        Hxy = H(x, y)\n",
    "        W = [Hxy zeros(nvar, ncon); Jx zeros(ncon, ncon)]\n",
    "        Δxy = -Symmetric(W, :L) \\ [dual; primal]\n",
    "        Δx = Δxy[1:nvar]\n",
    "        Δy = Δxy[nvar+1:end]\n",
    "        \n",
    "        x += Δx\n",
    "        y += Δy\n",
    "        \n",
    "        Jx = J(x)\n",
    "        dual = ∇f(x) + Jx' * y\n",
    "        primal = c(x)\n",
    "        Δt = time() - start_time\n",
    "        solved = norm(dual) < ϵd && norm(primal) < ϵp\n",
    "        tired  = Δt > max_time || sum_counters(nlp) > max_eval\n",
    "        iter += 1\n",
    "        \n",
    "        @info log_row(Any[iter, f(x), norm(dual), norm(primal)])\n",
    "    end\n",
    "    \n",
    "    status = if solved\n",
    "        :first_order\n",
    "    elseif tired\n",
    "        if Δt > max_time\n",
    "            :max_time\n",
    "        else\n",
    "            :max_eval\n",
    "        end\n",
    "    else\n",
    "        :unknown\n",
    "    end\n",
    "    \n",
    "    return GenericExecutionStats(status, nlp;\n",
    "                solution=x, objective=f(x), dual_feas=norm(dual),\n",
    "                primal_feas=norm(primal), elapsed_time=Δt, iter=iter,\n",
    "                solver_specific=Dict(:multiplers => y)) # should change to multipliers\n",
    "end"
   ]
  },
  {
   "cell_type": "code",
   "execution_count": 60,
   "metadata": {
    "scrolled": true
   },
   "outputs": [
    {
     "name": "stderr",
     "output_type": "stream",
     "text": [
      "┌ Info:            Name    nvar    ncon           status      Time      f(x)      Dual    Primal  \n",
      "└ @ SolverTools /home/abel/.julia/packages/SolverTools/Zu4eO/src/bmark/run_solver.jl:66\n",
      "┌ Info:       WAYSEA1NE       2       2      first_order   1.0e-03   0.0e+00   0.0e+00   0.0e+00\n",
      "└ @ SolverTools /home/abel/.julia/packages/SolverTools/Zu4eO/src/bmark/run_solver.jl:82\n",
      "┌ Info:             HS7       2       1      first_order   4.0e-03  -1.7e+00   2.2e-16   4.4e-16\n",
      "└ @ SolverTools /home/abel/.julia/packages/SolverTools/Zu4eO/src/bmark/run_solver.jl:82\n",
      "┌ Info:          GOTTFR       2       2      first_order   0.0e+00   0.0e+00   0.0e+00   0.0e+00\n",
      "└ @ SolverTools /home/abel/.julia/packages/SolverTools/Zu4eO/src/bmark/run_solver.jl:82\n",
      "┌ Info:         MARATOS       2       1      first_order   4.0e-03  -1.0e+00   2.7e-09   1.1e-14\n",
      "└ @ SolverTools /home/abel/.julia/packages/SolverTools/Zu4eO/src/bmark/run_solver.jl:82\n",
      "┌ Info:             HS6       2       1      first_order   1.0e-03   0.0e+00   0.0e+00   0.0e+00\n",
      "└ @ SolverTools /home/abel/.julia/packages/SolverTools/Zu4eO/src/bmark/run_solver.jl:82\n",
      "┌ Info:          CUBENE       2       2      first_order   1.0e-03   0.0e+00   0.0e+00   0.0e+00\n",
      "└ @ SolverTools /home/abel/.julia/packages/SolverTools/Zu4eO/src/bmark/run_solver.jl:82\n",
      "┌ Info:             HS8       2       2       infeasible   2.3e-02  -1.0e+00   0.0e+00   2.5e+01\n",
      "└ @ SolverTools /home/abel/.julia/packages/SolverTools/Zu4eO/src/bmark/run_solver.jl:82\n",
      "┌ Info:             BT1       2       1      first_order   3.0e-03  -1.0e+00   0.0e+00   0.0e+00\n",
      "└ @ SolverTools /home/abel/.julia/packages/SolverTools/Zu4eO/src/bmark/run_solver.jl:82\n",
      "┌ Info:        PRICE4NE       2       2      first_order   0.0e+00   0.0e+00   0.0e+00   0.0e+00\n",
      "└ @ SolverTools /home/abel/.julia/packages/SolverTools/Zu4eO/src/bmark/run_solver.jl:82\n",
      "┌ Info:        POWELLSQ       2       2      first_order   1.0e-03   0.0e+00   0.0e+00   0.0e+00\n",
      "└ @ SolverTools /home/abel/.julia/packages/SolverTools/Zu4eO/src/bmark/run_solver.jl:82\n",
      "┌ Info:            BT10       2       2      first_order   0.0e+00   0.0e+00   1.0e+00   0.0e+00\n",
      "└ @ SolverTools /home/abel/.julia/packages/SolverTools/Zu4eO/src/bmark/run_solver.jl:82\n",
      "┌ Info:             HS9       2       1      first_order   2.0e-03  -5.0e-01   1.2e-11   0.0e+00\n",
      "└ @ SolverTools /home/abel/.julia/packages/SolverTools/Zu4eO/src/bmark/run_solver.jl:82\n",
      "┌ Info:        POWELLBS       2       2      first_order   2.1e-02   0.0e+00   0.0e+00   3.2e-09\n",
      "└ @ SolverTools /home/abel/.julia/packages/SolverTools/Zu4eO/src/bmark/run_solver.jl:82\n",
      "┌ Info:        PRICE3NE       2       2      first_order   2.0e-03   0.0e+00   0.0e+00   1.0e-13\n",
      "└ @ SolverTools /home/abel/.julia/packages/SolverTools/Zu4eO/src/bmark/run_solver.jl:82\n",
      "┌ Info:      DENSCHNCNE       2       2       infeasible   6.0e-03   0.0e+00   1.3e-06   4.9e-01\n",
      "└ @ SolverTools /home/abel/.julia/packages/SolverTools/Zu4eO/src/bmark/run_solver.jl:82\n",
      "┌ Info:       WAYSEA2NE       2       2      first_order   0.0e+00   0.0e+00   0.0e+00   3.7e-11\n",
      "└ @ SolverTools /home/abel/.julia/packages/SolverTools/Zu4eO/src/bmark/run_solver.jl:82\n",
      "┌ Info:           BOOTH       2       2      first_order   1.0e-03   0.0e+00   0.0e+00   0.0e+00\n",
      "└ @ SolverTools /home/abel/.julia/packages/SolverTools/Zu4eO/src/bmark/run_solver.jl:82\n",
      "┌ Info:      DENSCHNFNE       2       2       infeasible   1.0e-02   0.0e+00   0.0e+00   8.0e+00\n",
      "└ @ SolverTools /home/abel/.julia/packages/SolverTools/Zu4eO/src/bmark/run_solver.jl:82\n",
      "┌ Info:        HIMMELBC       2       2      first_order   2.0e-03   0.0e+00   0.0e+00   0.0e+00\n",
      "└ @ SolverTools /home/abel/.julia/packages/SolverTools/Zu4eO/src/bmark/run_solver.jl:82\n",
      "┌ Info:          HYPCIR       2       2       infeasible   6.0e-03   0.0e+00   0.0e+00   4.0e+00\n",
      "└ @ SolverTools /home/abel/.julia/packages/SolverTools/Zu4eO/src/bmark/run_solver.jl:82\n",
      "┌ Info:        S316-322       2       1      first_order   3.0e-03   3.3e+02   7.2e-11   1.1e-16\n",
      "└ @ SolverTools /home/abel/.julia/packages/SolverTools/Zu4eO/src/bmark/run_solver.jl:82\n",
      "┌ Info:        HIMMELBD       2       2       infeasible   1.1e-02   0.0e+00   2.0e-06   2.4e+00\n",
      "└ @ SolverTools /home/abel/.julia/packages/SolverTools/Zu4eO/src/bmark/run_solver.jl:82\n",
      "┌ Info:             FLT       2       2      first_order   1.0e-03   1.0e+00   2.0e+00   0.0e+00\n",
      "└ @ SolverTools /home/abel/.julia/packages/SolverTools/Zu4eO/src/bmark/run_solver.jl:82\n",
      "┌ Info:        FREURONE       2       2       infeasible   1.1e-02   0.0e+00   5.7e-09   8.6e+00\n",
      "└ @ SolverTools /home/abel/.julia/packages/SolverTools/Zu4eO/src/bmark/run_solver.jl:82\n",
      "┌ Info:         RSNBRNE       2       2      first_order   1.0e-03   0.0e+00   0.0e+00   0.0e+00\n",
      "└ @ SolverTools /home/abel/.julia/packages/SolverTools/Zu4eO/src/bmark/run_solver.jl:82\n",
      "┌ Info:         CLUSTER       2       2      first_order   0.0e+00   0.0e+00   0.0e+00   9.7e-12\n",
      "└ @ SolverTools /home/abel/.julia/packages/SolverTools/Zu4eO/src/bmark/run_solver.jl:82\n",
      "┌ Info:        HIMMELBA       2       2      first_order   0.0e+00   0.0e+00   0.0e+00   0.0e+00\n",
      "└ @ SolverTools /home/abel/.julia/packages/SolverTools/Zu4eO/src/bmark/run_solver.jl:82\n",
      "┌ Info:        SINVALNE       2       2      first_order   0.0e+00   0.0e+00   0.0e+00   0.0e+00\n",
      "└ @ SolverTools /home/abel/.julia/packages/SolverTools/Zu4eO/src/bmark/run_solver.jl:82\n",
      "┌ Info:            Name    nvar    ncon           status      Time      f(x)      Dual    Primal  \n",
      "└ @ SolverTools /home/abel/.julia/packages/SolverTools/Zu4eO/src/bmark/run_solver.jl:66\n",
      "┌ Info:       WAYSEA1NE       2       2      first_order   1.6e-02   0.0e+00   2.4e-07   2.7e-08\n",
      "└ @ SolverTools /home/abel/.julia/packages/SolverTools/Zu4eO/src/bmark/run_solver.jl:82\n",
      "┌ Info:             HS7       2       1      first_order   4.9e-04  -1.7e+00   1.4e-06   9.2e-07\n",
      "└ @ SolverTools /home/abel/.julia/packages/SolverTools/Zu4eO/src/bmark/run_solver.jl:82\n",
      "┌ Info:          GOTTFR       2       2      first_order   5.6e-04   0.0e+00   1.6e-06   1.1e-09\n",
      "└ @ SolverTools /home/abel/.julia/packages/SolverTools/Zu4eO/src/bmark/run_solver.jl:82\n",
      "┌ Info:         MARATOS       2       1      first_order   3.0e-04  -1.0e+00   4.8e-11   4.7e-11\n",
      "└ @ SolverTools /home/abel/.julia/packages/SolverTools/Zu4eO/src/bmark/run_solver.jl:82\n",
      "┌ Info:             HS6       2       1      first_order   2.7e-04   0.0e+00   0.0e+00   8.9e-15\n",
      "└ @ SolverTools /home/abel/.julia/packages/SolverTools/Zu4eO/src/bmark/run_solver.jl:82\n",
      "┌ Info:          CUBENE       2       2      first_order   3.6e-04   0.0e+00   0.0e+00   0.0e+00\n",
      "└ @ SolverTools /home/abel/.julia/packages/SolverTools/Zu4eO/src/bmark/run_solver.jl:82\n",
      "┌ Info:             HS8       2       2      first_order   7.3e-04  -1.0e+00   2.5e-09   1.4e-10\n",
      "└ @ SolverTools /home/abel/.julia/packages/SolverTools/Zu4eO/src/bmark/run_solver.jl:82\n",
      "┌ Info:             BT1       2       1      first_order   5.5e-04  -1.0e+00   1.2e-10   9.8e-11\n",
      "└ @ SolverTools /home/abel/.julia/packages/SolverTools/Zu4eO/src/bmark/run_solver.jl:82\n",
      "┌ Info:        PRICE4NE       2       2      first_order   1.3e-03   0.0e+00   7.3e-09   8.2e-07\n",
      "└ @ SolverTools /home/abel/.julia/packages/SolverTools/Zu4eO/src/bmark/run_solver.jl:82\n",
      "┌ Info:        POWELLSQ       2       2         max_eval   1.2e-03   0.0e+00   3.3e+04   4.5e-05\n",
      "└ @ SolverTools /home/abel/.julia/packages/SolverTools/Zu4eO/src/bmark/run_solver.jl:82\n",
      "┌ Info:            BT10       2       2      first_order   7.9e-04  -1.0e+00   2.3e-07   4.4e-09\n",
      "└ @ SolverTools /home/abel/.julia/packages/SolverTools/Zu4eO/src/bmark/run_solver.jl:82\n",
      "┌ Error: caught exception\n",
      "│   e = SingularException(0)\n",
      "└ @ SolverTools /home/abel/.julia/packages/SolverTools/Zu4eO/src/bmark/run_solver.jl:75\n",
      "┌ Info:             HS9       2       1        exception       Inf       Inf       Inf       Inf\n",
      "└ @ SolverTools /home/abel/.julia/packages/SolverTools/Zu4eO/src/bmark/run_solver.jl:82\n",
      "┌ Info:        POWELLBS       2       2      first_order   9.3e-04   0.0e+00   6.0e-04   7.8e-07\n",
      "└ @ SolverTools /home/abel/.julia/packages/SolverTools/Zu4eO/src/bmark/run_solver.jl:82\n",
      "┌ Info:        PRICE3NE       2       2      first_order   5.6e-04   0.0e+00   3.4e-11   3.4e-11\n",
      "└ @ SolverTools /home/abel/.julia/packages/SolverTools/Zu4eO/src/bmark/run_solver.jl:82\n"
     ]
    },
    {
     "name": "stderr",
     "output_type": "stream",
     "text": [
      "┌ Info:      DENSCHNCNE       2       2      first_order   5.0e-04   0.0e+00   3.4e-09   2.4e-11\n",
      "└ @ SolverTools /home/abel/.julia/packages/SolverTools/Zu4eO/src/bmark/run_solver.jl:82\n",
      "┌ Info:       WAYSEA2NE       2       2      first_order   8.3e-04   0.0e+00   2.5e-08   9.3e-10\n",
      "└ @ SolverTools /home/abel/.julia/packages/SolverTools/Zu4eO/src/bmark/run_solver.jl:82\n",
      "┌ Info:           BOOTH       2       2      first_order   1.8e-04   0.0e+00   5.0e-16   8.9e-16\n",
      "└ @ SolverTools /home/abel/.julia/packages/SolverTools/Zu4eO/src/bmark/run_solver.jl:82\n",
      "┌ Info:      DENSCHNFNE       2       2      first_order   8.6e-04   0.0e+00   2.8e-12   1.7e-13\n",
      "└ @ SolverTools /home/abel/.julia/packages/SolverTools/Zu4eO/src/bmark/run_solver.jl:82\n",
      "┌ Info:        HIMMELBC       2       2      first_order   7.8e-04   0.0e+00   1.7e-06   6.5e-08\n",
      "└ @ SolverTools /home/abel/.julia/packages/SolverTools/Zu4eO/src/bmark/run_solver.jl:82\n",
      "┌ Info:          HYPCIR       2       2      first_order   6.8e-04   0.0e+00   7.1e-10   1.2e-11\n",
      "└ @ SolverTools /home/abel/.julia/packages/SolverTools/Zu4eO/src/bmark/run_solver.jl:82\n",
      "┌ Error: caught exception\n",
      "│   e = SingularException(0)\n",
      "└ @ SolverTools /home/abel/.julia/packages/SolverTools/Zu4eO/src/bmark/run_solver.jl:75\n",
      "┌ Info:        S316-322       2       1        exception       Inf       Inf       Inf       Inf\n",
      "└ @ SolverTools /home/abel/.julia/packages/SolverTools/Zu4eO/src/bmark/run_solver.jl:82\n",
      "┌ Info:        HIMMELBD       2       2         max_eval   1.5e-03   0.0e+00   4.9e+10   7.8e+02\n",
      "└ @ SolverTools /home/abel/.julia/packages/SolverTools/Zu4eO/src/bmark/run_solver.jl:82\n",
      "┌ Error: caught exception\n",
      "│   e = SingularException(0)\n",
      "└ @ SolverTools /home/abel/.julia/packages/SolverTools/Zu4eO/src/bmark/run_solver.jl:75\n",
      "┌ Info:             FLT       2       2        exception       Inf       Inf       Inf       Inf\n",
      "└ @ SolverTools /home/abel/.julia/packages/SolverTools/Zu4eO/src/bmark/run_solver.jl:82\n",
      "┌ Info:        FREURONE       2       2         max_eval   1.5e-03   0.0e+00   3.2e+10   8.4e+01\n",
      "└ @ SolverTools /home/abel/.julia/packages/SolverTools/Zu4eO/src/bmark/run_solver.jl:82\n",
      "┌ Info:         RSNBRNE       2       2      first_order   3.0e-04   0.0e+00   7.1e-15   8.9e-15\n",
      "└ @ SolverTools /home/abel/.julia/packages/SolverTools/Zu4eO/src/bmark/run_solver.jl:82\n",
      "┌ Error: caught exception\n",
      "│   e = SingularException(0)\n",
      "└ @ SolverTools /home/abel/.julia/packages/SolverTools/Zu4eO/src/bmark/run_solver.jl:75\n",
      "┌ Info:         CLUSTER       2       2        exception       Inf       Inf       Inf       Inf\n",
      "└ @ SolverTools /home/abel/.julia/packages/SolverTools/Zu4eO/src/bmark/run_solver.jl:82\n",
      "┌ Info:        HIMMELBA       2       2      first_order   1.5e-04   0.0e+00   0.0e+00   0.0e+00\n",
      "└ @ SolverTools /home/abel/.julia/packages/SolverTools/Zu4eO/src/bmark/run_solver.jl:82\n",
      "┌ Info:        SINVALNE       2       2      first_order   2.2e-04   0.0e+00   7.1e-15   2.2e-15\n",
      "└ @ SolverTools /home/abel/.julia/packages/SolverTools/Zu4eO/src/bmark/run_solver.jl:82\n",
      "┌ Warning: some measures are zero; shifting all by one\n",
      "└ @ BenchmarkProfiles /home/abel/.julia/packages/BenchmarkProfiles/GSiYy/src/performance_profiles.jl:15\n"
     ]
    },
    {
     "data": {
      "image/svg+xml": [
       "<?xml version=\"1.0\" encoding=\"utf-8\"?>\n",
       "<svg xmlns=\"http://www.w3.org/2000/svg\" xmlns:xlink=\"http://www.w3.org/1999/xlink\" width=\"600\" height=\"400\" viewBox=\"0 0 2400 1600\">\n",
       "<defs>\n",
       "  <clipPath id=\"clip8900\">\n",
       "    <rect x=\"0\" y=\"0\" width=\"2400\" height=\"1600\"/>\n",
       "  </clipPath>\n",
       "</defs>\n",
       "<path clip-path=\"url(#clip8900)\" d=\"\n",
       "M0 1600 L2400 1600 L2400 0 L0 0  Z\n",
       "  \" fill=\"#ffffff\" fill-rule=\"evenodd\" fill-opacity=\"1\"/>\n",
       "<defs>\n",
       "  <clipPath id=\"clip8901\">\n",
       "    <rect x=\"480\" y=\"0\" width=\"1681\" height=\"1600\"/>\n",
       "  </clipPath>\n",
       "</defs>\n",
       "<path clip-path=\"url(#clip8900)\" d=\"\n",
       "M242.516 1425.62 L2352.76 1425.62 L2352.76 47.2441 L242.516 47.2441  Z\n",
       "  \" fill=\"#ffffff\" fill-rule=\"evenodd\" fill-opacity=\"1\"/>\n",
       "<defs>\n",
       "  <clipPath id=\"clip8902\">\n",
       "    <rect x=\"242\" y=\"47\" width=\"2111\" height=\"1379\"/>\n",
       "  </clipPath>\n",
       "</defs>\n",
       "<polyline clip-path=\"url(#clip8902)\" style=\"stroke:#000000; stroke-width:2; stroke-opacity:0.1; fill:none\" points=\"\n",
       "  242.516,1425.62 242.516,47.2441 \n",
       "  \"/>\n",
       "<polyline clip-path=\"url(#clip8902)\" style=\"stroke:#000000; stroke-width:2; stroke-opacity:0.1; fill:none\" points=\"\n",
       "  846.785,1425.62 846.785,47.2441 \n",
       "  \"/>\n",
       "<polyline clip-path=\"url(#clip8902)\" style=\"stroke:#000000; stroke-width:2; stroke-opacity:0.1; fill:none\" points=\"\n",
       "  1451.05,1425.62 1451.05,47.2441 \n",
       "  \"/>\n",
       "<polyline clip-path=\"url(#clip8902)\" style=\"stroke:#000000; stroke-width:2; stroke-opacity:0.1; fill:none\" points=\"\n",
       "  2055.32,1425.62 2055.32,47.2441 \n",
       "  \"/>\n",
       "<polyline clip-path=\"url(#clip8902)\" style=\"stroke:#000000; stroke-width:2; stroke-opacity:0.1; fill:none\" points=\"\n",
       "  242.516,1425.62 2352.76,1425.62 \n",
       "  \"/>\n",
       "<polyline clip-path=\"url(#clip8902)\" style=\"stroke:#000000; stroke-width:2; stroke-opacity:0.1; fill:none\" points=\"\n",
       "  242.516,1112.35 2352.76,1112.35 \n",
       "  \"/>\n",
       "<polyline clip-path=\"url(#clip8902)\" style=\"stroke:#000000; stroke-width:2; stroke-opacity:0.1; fill:none\" points=\"\n",
       "  242.516,799.085 2352.76,799.085 \n",
       "  \"/>\n",
       "<polyline clip-path=\"url(#clip8902)\" style=\"stroke:#000000; stroke-width:2; stroke-opacity:0.1; fill:none\" points=\"\n",
       "  242.516,485.818 2352.76,485.818 \n",
       "  \"/>\n",
       "<polyline clip-path=\"url(#clip8902)\" style=\"stroke:#000000; stroke-width:2; stroke-opacity:0.1; fill:none\" points=\"\n",
       "  242.516,172.551 2352.76,172.551 \n",
       "  \"/>\n",
       "<polyline clip-path=\"url(#clip8900)\" style=\"stroke:#000000; stroke-width:4; stroke-opacity:1; fill:none\" points=\"\n",
       "  242.516,1425.62 2352.76,1425.62 \n",
       "  \"/>\n",
       "<polyline clip-path=\"url(#clip8900)\" style=\"stroke:#000000; stroke-width:4; stroke-opacity:1; fill:none\" points=\"\n",
       "  242.516,1425.62 242.516,47.2441 \n",
       "  \"/>\n",
       "<polyline clip-path=\"url(#clip8900)\" style=\"stroke:#000000; stroke-width:4; stroke-opacity:1; fill:none\" points=\"\n",
       "  242.516,1425.62 242.516,1409.08 \n",
       "  \"/>\n",
       "<polyline clip-path=\"url(#clip8900)\" style=\"stroke:#000000; stroke-width:4; stroke-opacity:1; fill:none\" points=\"\n",
       "  846.785,1425.62 846.785,1409.08 \n",
       "  \"/>\n",
       "<polyline clip-path=\"url(#clip8900)\" style=\"stroke:#000000; stroke-width:4; stroke-opacity:1; fill:none\" points=\"\n",
       "  1451.05,1425.62 1451.05,1409.08 \n",
       "  \"/>\n",
       "<polyline clip-path=\"url(#clip8900)\" style=\"stroke:#000000; stroke-width:4; stroke-opacity:1; fill:none\" points=\"\n",
       "  2055.32,1425.62 2055.32,1409.08 \n",
       "  \"/>\n",
       "<polyline clip-path=\"url(#clip8900)\" style=\"stroke:#000000; stroke-width:4; stroke-opacity:1; fill:none\" points=\"\n",
       "  242.516,1425.62 267.839,1425.62 \n",
       "  \"/>\n",
       "<polyline clip-path=\"url(#clip8900)\" style=\"stroke:#000000; stroke-width:4; stroke-opacity:1; fill:none\" points=\"\n",
       "  242.516,1112.35 267.839,1112.35 \n",
       "  \"/>\n",
       "<polyline clip-path=\"url(#clip8900)\" style=\"stroke:#000000; stroke-width:4; stroke-opacity:1; fill:none\" points=\"\n",
       "  242.516,799.085 267.839,799.085 \n",
       "  \"/>\n",
       "<polyline clip-path=\"url(#clip8900)\" style=\"stroke:#000000; stroke-width:4; stroke-opacity:1; fill:none\" points=\"\n",
       "  242.516,485.818 267.839,485.818 \n",
       "  \"/>\n",
       "<polyline clip-path=\"url(#clip8900)\" style=\"stroke:#000000; stroke-width:4; stroke-opacity:1; fill:none\" points=\"\n",
       "  242.516,172.551 267.839,172.551 \n",
       "  \"/>\n",
       "<g clip-path=\"url(#clip8900)\">\n",
       "<text style=\"fill:#000000; fill-opacity:1; font-family:Arial,Helvetica Neue,Helvetica,sans-serif; font-size:48px; text-anchor:middle;\" transform=\"rotate(0, 242.516, 1479.62)\" x=\"242.516\" y=\"1479.62\">0.00</text>\n",
       "</g>\n",
       "<g clip-path=\"url(#clip8900)\">\n",
       "<text style=\"fill:#000000; fill-opacity:1; font-family:Arial,Helvetica Neue,Helvetica,sans-serif; font-size:48px; text-anchor:middle;\" transform=\"rotate(0, 846.785, 1479.62)\" x=\"846.785\" y=\"1479.62\">0.01</text>\n",
       "</g>\n",
       "<g clip-path=\"url(#clip8900)\">\n",
       "<text style=\"fill:#000000; fill-opacity:1; font-family:Arial,Helvetica Neue,Helvetica,sans-serif; font-size:48px; text-anchor:middle;\" transform=\"rotate(0, 1451.05, 1479.62)\" x=\"1451.05\" y=\"1479.62\">0.02</text>\n",
       "</g>\n",
       "<g clip-path=\"url(#clip8900)\">\n",
       "<text style=\"fill:#000000; fill-opacity:1; font-family:Arial,Helvetica Neue,Helvetica,sans-serif; font-size:48px; text-anchor:middle;\" transform=\"rotate(0, 2055.32, 1479.62)\" x=\"2055.32\" y=\"1479.62\">0.03</text>\n",
       "</g>\n",
       "<g clip-path=\"url(#clip8900)\">\n",
       "<text style=\"fill:#000000; fill-opacity:1; font-family:Arial,Helvetica Neue,Helvetica,sans-serif; font-size:48px; text-anchor:end;\" transform=\"rotate(0, 218.516, 1443.12)\" x=\"218.516\" y=\"1443.12\">0.00</text>\n",
       "</g>\n",
       "<g clip-path=\"url(#clip8900)\">\n",
       "<text style=\"fill:#000000; fill-opacity:1; font-family:Arial,Helvetica Neue,Helvetica,sans-serif; font-size:48px; text-anchor:end;\" transform=\"rotate(0, 218.516, 1129.85)\" x=\"218.516\" y=\"1129.85\">0.25</text>\n",
       "</g>\n",
       "<g clip-path=\"url(#clip8900)\">\n",
       "<text style=\"fill:#000000; fill-opacity:1; font-family:Arial,Helvetica Neue,Helvetica,sans-serif; font-size:48px; text-anchor:end;\" transform=\"rotate(0, 218.516, 816.585)\" x=\"218.516\" y=\"816.585\">0.50</text>\n",
       "</g>\n",
       "<g clip-path=\"url(#clip8900)\">\n",
       "<text style=\"fill:#000000; fill-opacity:1; font-family:Arial,Helvetica Neue,Helvetica,sans-serif; font-size:48px; text-anchor:end;\" transform=\"rotate(0, 218.516, 503.318)\" x=\"218.516\" y=\"503.318\">0.75</text>\n",
       "</g>\n",
       "<g clip-path=\"url(#clip8900)\">\n",
       "<text style=\"fill:#000000; fill-opacity:1; font-family:Arial,Helvetica Neue,Helvetica,sans-serif; font-size:48px; text-anchor:end;\" transform=\"rotate(0, 218.516, 190.051)\" x=\"218.516\" y=\"190.051\">1.00</text>\n",
       "</g>\n",
       "<g clip-path=\"url(#clip8900)\">\n",
       "<text style=\"fill:#000000; fill-opacity:1; font-family:Arial,Helvetica Neue,Helvetica,sans-serif; font-size:66px; text-anchor:middle;\" transform=\"rotate(0, 1297.64, 1559.48)\" x=\"1297.64\" y=\"1559.48\">Within this factor of the best (log scale)</text>\n",
       "</g>\n",
       "<g clip-path=\"url(#clip8900)\">\n",
       "<text style=\"fill:#000000; fill-opacity:1; font-family:Arial,Helvetica Neue,Helvetica,sans-serif; font-size:66px; text-anchor:middle;\" transform=\"rotate(-90, 89.2861, 736.431)\" x=\"89.2861\" y=\"736.431\">Proportion of problems</text>\n",
       "</g>\n",
       "<polyline clip-path=\"url(#clip8902)\" style=\"stroke:#009af9; stroke-width:4; stroke-opacity:1; fill:none\" points=\"\n",
       "  242.516,888.59 297.918,888.59 297.918,843.837 303.32,843.837 303.32,799.085 306.104,799.085 306.104,754.332 313.793,754.332 313.793,709.58 348.799,709.58 \n",
       "  348.799,664.827 368.324,664.827 368.324,620.075 455.803,620.075 455.803,575.323 547.912,575.323 547.912,530.57 564.471,530.57 564.471,485.818 705.114,485.818 \n",
       "  705.114,441.065 720.361,441.065 720.361,396.313 1035.36,396.313 1035.36,351.561 1062.34,351.561 1062.34,306.808 1067.13,306.808 1067.13,262.056 1973.08,262.056 \n",
       "  1973.08,217.303 2160.92,217.303 2160.92,172.551 4079.32,172.551 4079.32,127.798 \n",
       "  \"/>\n",
       "<polyline clip-path=\"url(#clip8902)\" style=\"stroke:#e26f46; stroke-width:4; stroke-opacity:1; fill:none\" points=\"\n",
       "  242.516,709.58 255.693,709.58 255.693,664.827 260.884,664.827 260.884,620.075 262.031,620.075 262.031,575.323 291.16,575.323 291.16,530.57 311.1,530.57 \n",
       "  311.1,485.818 315.108,485.818 315.108,441.065 351.589,441.065 351.589,396.313 1569.13,396.313 1569.13,351.561 4079.32,351.561 4079.32,127.798 \n",
       "  \"/>\n",
       "<path clip-path=\"url(#clip8900)\" d=\"\n",
       "M1896.31 312.204 L2280.76 312.204 L2280.76 130.764 L1896.31 130.764  Z\n",
       "  \" fill=\"#ffffff\" fill-rule=\"evenodd\" fill-opacity=\"1\"/>\n",
       "<polyline clip-path=\"url(#clip8900)\" style=\"stroke:#000000; stroke-width:4; stroke-opacity:1; fill:none\" points=\"\n",
       "  1896.31,312.204 2280.76,312.204 2280.76,130.764 1896.31,130.764 1896.31,312.204 \n",
       "  \"/>\n",
       "<polyline clip-path=\"url(#clip8900)\" style=\"stroke:#009af9; stroke-width:4; stroke-opacity:1; fill:none\" points=\"\n",
       "  1920.31,191.244 2064.31,191.244 \n",
       "  \"/>\n",
       "<g clip-path=\"url(#clip8900)\">\n",
       "<text style=\"fill:#000000; fill-opacity:1; font-family:Arial,Helvetica Neue,Helvetica,sans-serif; font-size:48px; text-anchor:start;\" transform=\"rotate(0, 2088.31, 208.744)\" x=\"2088.31\" y=\"208.744\">IPOPT</text>\n",
       "</g>\n",
       "<polyline clip-path=\"url(#clip8900)\" style=\"stroke:#e26f46; stroke-width:4; stroke-opacity:1; fill:none\" points=\"\n",
       "  1920.31,251.724 2064.31,251.724 \n",
       "  \"/>\n",
       "<g clip-path=\"url(#clip8900)\">\n",
       "<text style=\"fill:#000000; fill-opacity:1; font-family:Arial,Helvetica Neue,Helvetica,sans-serif; font-size:48px; text-anchor:start;\" transform=\"rotate(0, 2088.31, 269.224)\" x=\"2088.31\" y=\"269.224\">SQP</text>\n",
       "</g>\n",
       "</svg>\n"
      ]
     },
     "execution_count": 60,
     "metadata": {},
     "output_type": "execute_result"
    }
   ],
   "source": [
    "using CUTEst, NLPModelsIpopt, SolverBenchmark\n",
    "\n",
    "pnames = CUTEst.select(max_var=2, min_con=1, max_con=2,\n",
    "    only_free_var=true, only_equ_con=true)\n",
    "problems = (CUTEstModel(p) for p in pnames)\n",
    "solvers = Dict(:SQP => sqp,\n",
    "    :IPOPT => (nlp; kwargs...) -> ipopt(nlp, print_level=0; kwargs...))\n",
    "\n",
    "stats = bmark_solvers(solvers, problems)\n",
    "cost(df) = df.elapsed_time\n",
    "performance_profile(stats, cost)"
   ]
  },
  {
   "cell_type": "code",
   "execution_count": 61,
   "metadata": {},
   "outputs": [],
   "source": [
    "stats[:SQP].sum_counters = sum(stats[:SQP][:,c]\n",
    "    for c in fieldnames(Counters))\n",
    "open(\"sqp-results.tex\", \"w\") do io\n",
    "    latex_table(io, stats[:SQP], cols=[:name, :status, :objective, :elapsed_time, :sum_counters])\n",
    "end"
   ]
  },
  {
   "cell_type": "code",
   "execution_count": 62,
   "metadata": {},
   "outputs": [
    {
     "name": "stdout",
     "output_type": "stream",
     "text": [
      "search: \u001b[0m\u001b[1mp\u001b[22m\u001b[0m\u001b[1me\u001b[22m\u001b[0m\u001b[1mr\u001b[22m\u001b[0m\u001b[1mf\u001b[22m\u001b[0m\u001b[1mo\u001b[22m\u001b[0m\u001b[1mr\u001b[22m\u001b[0m\u001b[1mm\u001b[22m\u001b[0m\u001b[1ma\u001b[22m\u001b[0m\u001b[1mn\u001b[22m\u001b[0m\u001b[1mc\u001b[22m\u001b[0m\u001b[1me\u001b[22m\u001b[0m\u001b[1m_\u001b[22m\u001b[0m\u001b[1mp\u001b[22m\u001b[0m\u001b[1mr\u001b[22m\u001b[0m\u001b[1mo\u001b[22m\u001b[0m\u001b[1mf\u001b[22m\u001b[0m\u001b[1mi\u001b[22m\u001b[0m\u001b[1ml\u001b[22m\u001b[0m\u001b[1me\u001b[22m\n",
      "\n"
     ]
    },
    {
     "data": {
      "text/latex": [
       "Produce a performance profile.\n",
       "\n",
       "Each column of the matrix \\texttt{T} defines the performance data for a solver (smaller is better). Failures on a given problem are represented by a negative value, an infinite value, or \\texttt{NaN}. The optional argument \\texttt{logscale} is used to produce a logarithmic (base 2) performance plot.\n",
       "\n",
       "\\rule{\\textwidth}{1pt}\n",
       "\\begin{verbatim}\n",
       "performance_profile(stats, cost)\n",
       "\\end{verbatim}\n",
       "Produce a performance profile comparing solvers in \\texttt{stats} using the \\texttt{cost} function.\n",
       "\n",
       "Inputs:\n",
       "\n",
       "\\begin{itemize}\n",
       "\\item \\texttt{stats::Dict\\{Symbol,DataFrame\\}}: pairs of \\texttt{:solver => df};\n",
       "\n",
       "\n",
       "\\item \\texttt{cost::Function}: cost function applyed to each \\texttt{df}. Should return a vector with the cost of solving the problem at each row;\n",
       "\n",
       "\\begin{itemize}\n",
       "\\item 0 cost is not allowed;\n",
       "\n",
       "\n",
       "\\item If the solver did not solve the problem, return Inf or a negative number.\n",
       "\n",
       "\\end{itemize}\n",
       "\\end{itemize}\n",
       "Examples of cost functions:\n",
       "\n",
       "\\begin{itemize}\n",
       "\\item \\texttt{cost(df) = df.elapsed\\_time}: Simple \\texttt{elapsed\\_time} cost. Assumes the solver solved the problem.\n",
       "\n",
       "\n",
       "\\item \\texttt{cost(df) = (df.status .!= :first\\_order) * Inf + df.elapsed\\_time}: Takes into consideration the status of the solver.\n",
       "\n",
       "\\end{itemize}\n"
      ],
      "text/markdown": [
       "Produce a performance profile.\n",
       "\n",
       "Each column of the matrix `T` defines the performance data for a solver (smaller is better). Failures on a given problem are represented by a negative value, an infinite value, or `NaN`. The optional argument `logscale` is used to produce a logarithmic (base 2) performance plot.\n",
       "\n",
       "---\n",
       "\n",
       "```\n",
       "performance_profile(stats, cost)\n",
       "```\n",
       "\n",
       "Produce a performance profile comparing solvers in `stats` using the `cost` function.\n",
       "\n",
       "Inputs:\n",
       "\n",
       "  * `stats::Dict{Symbol,DataFrame}`: pairs of `:solver => df`;\n",
       "  * `cost::Function`: cost function applyed to each `df`. Should return a vector with the cost of solving the problem at each row;\n",
       "\n",
       "      * 0 cost is not allowed;\n",
       "      * If the solver did not solve the problem, return Inf or a negative number.\n",
       "\n",
       "Examples of cost functions:\n",
       "\n",
       "  * `cost(df) = df.elapsed_time`: Simple `elapsed_time` cost. Assumes the solver solved the problem.\n",
       "  * `cost(df) = (df.status .!= :first_order) * Inf + df.elapsed_time`: Takes into consideration the status of the solver.\n"
      ],
      "text/plain": [
       "  Produce a performance profile.\n",
       "\n",
       "  Each column of the matrix \u001b[36mT\u001b[39m defines the performance data for a solver\n",
       "  (smaller is better). Failures on a given problem are represented by a\n",
       "  negative value, an infinite value, or \u001b[36mNaN\u001b[39m. The optional argument \u001b[36mlogscale\u001b[39m is\n",
       "  used to produce a logarithmic (base 2) performance plot.\n",
       "\n",
       "  ────────────────────────────────────────────────────────────────────────────\n",
       "\n",
       "  \u001b[38;5;81mperformance_profile\u001b[0m(\u001b[0m\u001b[39mstats\u001b[0m\u001b[39m,\u001b[0m \u001b[0m\u001b[39mcost\u001b[0m\u001b[39m)\u001b[0m\u001b[39m\u001b[0m\n",
       "\n",
       "\n",
       "  Produce a performance profile comparing solvers in \u001b[36mstats\u001b[39m using the \u001b[36mcost\u001b[39m\n",
       "  function.\n",
       "\n",
       "  Inputs:\n",
       "\n",
       "    •    \u001b[36mstats::Dict{Symbol,DataFrame}\u001b[39m: pairs of \u001b[36m:solver => df\u001b[39m;\n",
       "\n",
       "    •    \u001b[36mcost::Function\u001b[39m: cost function applyed to each \u001b[36mdf\u001b[39m. Should return a\n",
       "        vector with the cost of solving the problem at each row;\n",
       "      \n",
       "          •    0 cost is not allowed;\n",
       "      \n",
       "          •    If the solver did not solve the problem, return Inf or a\n",
       "              negative number.\n",
       "\n",
       "  Examples of cost functions:\n",
       "\n",
       "    •    \u001b[36mcost(df) = df.elapsed_time\u001b[39m: Simple \u001b[36melapsed_time\u001b[39m cost. Assumes the\n",
       "        solver solved the problem.\n",
       "\n",
       "    •    \u001b[36mcost(df) = (df.status .!= :first_order) * Inf + df.elapsed_time\u001b[39m:\n",
       "        Takes into consideration the status of the solver."
      ]
     },
     "execution_count": 62,
     "metadata": {},
     "output_type": "execute_result"
    }
   ],
   "source": [
    "?performance_profile"
   ]
  },
  {
   "cell_type": "code",
   "execution_count": 63,
   "metadata": {},
   "outputs": [
    {
     "name": "stderr",
     "output_type": "stream",
     "text": [
      "┌ Warning: some measures are zero; shifting all by one\n",
      "└ @ BenchmarkProfiles /home/abel/.julia/packages/BenchmarkProfiles/GSiYy/src/performance_profiles.jl:15\n"
     ]
    },
    {
     "data": {
      "image/svg+xml": [
       "<?xml version=\"1.0\" encoding=\"utf-8\"?>\n",
       "<svg xmlns=\"http://www.w3.org/2000/svg\" xmlns:xlink=\"http://www.w3.org/1999/xlink\" width=\"600\" height=\"400\" viewBox=\"0 0 2400 1600\">\n",
       "<defs>\n",
       "  <clipPath id=\"clip9300\">\n",
       "    <rect x=\"0\" y=\"0\" width=\"2400\" height=\"1600\"/>\n",
       "  </clipPath>\n",
       "</defs>\n",
       "<path clip-path=\"url(#clip9300)\" d=\"\n",
       "M0 1600 L2400 1600 L2400 0 L0 0  Z\n",
       "  \" fill=\"#ffffff\" fill-rule=\"evenodd\" fill-opacity=\"1\"/>\n",
       "<defs>\n",
       "  <clipPath id=\"clip9301\">\n",
       "    <rect x=\"480\" y=\"0\" width=\"1681\" height=\"1600\"/>\n",
       "  </clipPath>\n",
       "</defs>\n",
       "<path clip-path=\"url(#clip9300)\" d=\"\n",
       "M242.516 1425.62 L2352.76 1425.62 L2352.76 47.2441 L242.516 47.2441  Z\n",
       "  \" fill=\"#ffffff\" fill-rule=\"evenodd\" fill-opacity=\"1\"/>\n",
       "<defs>\n",
       "  <clipPath id=\"clip9302\">\n",
       "    <rect x=\"242\" y=\"47\" width=\"2111\" height=\"1379\"/>\n",
       "  </clipPath>\n",
       "</defs>\n",
       "<polyline clip-path=\"url(#clip9302)\" style=\"stroke:#000000; stroke-width:2; stroke-opacity:0.1; fill:none\" points=\"\n",
       "  242.516,1425.62 242.516,47.2441 \n",
       "  \"/>\n",
       "<polyline clip-path=\"url(#clip9302)\" style=\"stroke:#000000; stroke-width:2; stroke-opacity:0.1; fill:none\" points=\"\n",
       "  912.374,1425.62 912.374,47.2441 \n",
       "  \"/>\n",
       "<polyline clip-path=\"url(#clip9302)\" style=\"stroke:#000000; stroke-width:2; stroke-opacity:0.1; fill:none\" points=\"\n",
       "  1582.23,1425.62 1582.23,47.2441 \n",
       "  \"/>\n",
       "<polyline clip-path=\"url(#clip9302)\" style=\"stroke:#000000; stroke-width:2; stroke-opacity:0.1; fill:none\" points=\"\n",
       "  2252.09,1425.62 2252.09,47.2441 \n",
       "  \"/>\n",
       "<polyline clip-path=\"url(#clip9302)\" style=\"stroke:#000000; stroke-width:2; stroke-opacity:0.1; fill:none\" points=\"\n",
       "  242.516,1425.62 2352.76,1425.62 \n",
       "  \"/>\n",
       "<polyline clip-path=\"url(#clip9302)\" style=\"stroke:#000000; stroke-width:2; stroke-opacity:0.1; fill:none\" points=\"\n",
       "  242.516,1112.35 2352.76,1112.35 \n",
       "  \"/>\n",
       "<polyline clip-path=\"url(#clip9302)\" style=\"stroke:#000000; stroke-width:2; stroke-opacity:0.1; fill:none\" points=\"\n",
       "  242.516,799.085 2352.76,799.085 \n",
       "  \"/>\n",
       "<polyline clip-path=\"url(#clip9302)\" style=\"stroke:#000000; stroke-width:2; stroke-opacity:0.1; fill:none\" points=\"\n",
       "  242.516,485.818 2352.76,485.818 \n",
       "  \"/>\n",
       "<polyline clip-path=\"url(#clip9302)\" style=\"stroke:#000000; stroke-width:2; stroke-opacity:0.1; fill:none\" points=\"\n",
       "  242.516,172.551 2352.76,172.551 \n",
       "  \"/>\n",
       "<polyline clip-path=\"url(#clip9300)\" style=\"stroke:#000000; stroke-width:4; stroke-opacity:1; fill:none\" points=\"\n",
       "  242.516,1425.62 2352.76,1425.62 \n",
       "  \"/>\n",
       "<polyline clip-path=\"url(#clip9300)\" style=\"stroke:#000000; stroke-width:4; stroke-opacity:1; fill:none\" points=\"\n",
       "  242.516,1425.62 242.516,47.2441 \n",
       "  \"/>\n",
       "<polyline clip-path=\"url(#clip9300)\" style=\"stroke:#000000; stroke-width:4; stroke-opacity:1; fill:none\" points=\"\n",
       "  242.516,1425.62 242.516,1409.08 \n",
       "  \"/>\n",
       "<polyline clip-path=\"url(#clip9300)\" style=\"stroke:#000000; stroke-width:4; stroke-opacity:1; fill:none\" points=\"\n",
       "  912.374,1425.62 912.374,1409.08 \n",
       "  \"/>\n",
       "<polyline clip-path=\"url(#clip9300)\" style=\"stroke:#000000; stroke-width:4; stroke-opacity:1; fill:none\" points=\"\n",
       "  1582.23,1425.62 1582.23,1409.08 \n",
       "  \"/>\n",
       "<polyline clip-path=\"url(#clip9300)\" style=\"stroke:#000000; stroke-width:4; stroke-opacity:1; fill:none\" points=\"\n",
       "  2252.09,1425.62 2252.09,1409.08 \n",
       "  \"/>\n",
       "<polyline clip-path=\"url(#clip9300)\" style=\"stroke:#000000; stroke-width:4; stroke-opacity:1; fill:none\" points=\"\n",
       "  242.516,1425.62 267.839,1425.62 \n",
       "  \"/>\n",
       "<polyline clip-path=\"url(#clip9300)\" style=\"stroke:#000000; stroke-width:4; stroke-opacity:1; fill:none\" points=\"\n",
       "  242.516,1112.35 267.839,1112.35 \n",
       "  \"/>\n",
       "<polyline clip-path=\"url(#clip9300)\" style=\"stroke:#000000; stroke-width:4; stroke-opacity:1; fill:none\" points=\"\n",
       "  242.516,799.085 267.839,799.085 \n",
       "  \"/>\n",
       "<polyline clip-path=\"url(#clip9300)\" style=\"stroke:#000000; stroke-width:4; stroke-opacity:1; fill:none\" points=\"\n",
       "  242.516,485.818 267.839,485.818 \n",
       "  \"/>\n",
       "<polyline clip-path=\"url(#clip9300)\" style=\"stroke:#000000; stroke-width:4; stroke-opacity:1; fill:none\" points=\"\n",
       "  242.516,172.551 267.839,172.551 \n",
       "  \"/>\n",
       "<g clip-path=\"url(#clip9300)\">\n",
       "<text style=\"fill:#000000; fill-opacity:1; font-family:Arial,Helvetica Neue,Helvetica,sans-serif; font-size:48px; text-anchor:middle;\" transform=\"rotate(0, 242.516, 1479.62)\" x=\"242.516\" y=\"1479.62\">0.00</text>\n",
       "</g>\n",
       "<g clip-path=\"url(#clip9300)\">\n",
       "<text style=\"fill:#000000; fill-opacity:1; font-family:Arial,Helvetica Neue,Helvetica,sans-serif; font-size:48px; text-anchor:middle;\" transform=\"rotate(0, 912.374, 1479.62)\" x=\"912.374\" y=\"1479.62\">0.01</text>\n",
       "</g>\n",
       "<g clip-path=\"url(#clip9300)\">\n",
       "<text style=\"fill:#000000; fill-opacity:1; font-family:Arial,Helvetica Neue,Helvetica,sans-serif; font-size:48px; text-anchor:middle;\" transform=\"rotate(0, 1582.23, 1479.62)\" x=\"1582.23\" y=\"1479.62\">0.02</text>\n",
       "</g>\n",
       "<g clip-path=\"url(#clip9300)\">\n",
       "<text style=\"fill:#000000; fill-opacity:1; font-family:Arial,Helvetica Neue,Helvetica,sans-serif; font-size:48px; text-anchor:middle;\" transform=\"rotate(0, 2252.09, 1479.62)\" x=\"2252.09\" y=\"1479.62\">0.03</text>\n",
       "</g>\n",
       "<g clip-path=\"url(#clip9300)\">\n",
       "<text style=\"fill:#000000; fill-opacity:1; font-family:Arial,Helvetica Neue,Helvetica,sans-serif; font-size:48px; text-anchor:end;\" transform=\"rotate(0, 218.516, 1443.12)\" x=\"218.516\" y=\"1443.12\">0.00</text>\n",
       "</g>\n",
       "<g clip-path=\"url(#clip9300)\">\n",
       "<text style=\"fill:#000000; fill-opacity:1; font-family:Arial,Helvetica Neue,Helvetica,sans-serif; font-size:48px; text-anchor:end;\" transform=\"rotate(0, 218.516, 1129.85)\" x=\"218.516\" y=\"1129.85\">0.25</text>\n",
       "</g>\n",
       "<g clip-path=\"url(#clip9300)\">\n",
       "<text style=\"fill:#000000; fill-opacity:1; font-family:Arial,Helvetica Neue,Helvetica,sans-serif; font-size:48px; text-anchor:end;\" transform=\"rotate(0, 218.516, 816.585)\" x=\"218.516\" y=\"816.585\">0.50</text>\n",
       "</g>\n",
       "<g clip-path=\"url(#clip9300)\">\n",
       "<text style=\"fill:#000000; fill-opacity:1; font-family:Arial,Helvetica Neue,Helvetica,sans-serif; font-size:48px; text-anchor:end;\" transform=\"rotate(0, 218.516, 503.318)\" x=\"218.516\" y=\"503.318\">0.75</text>\n",
       "</g>\n",
       "<g clip-path=\"url(#clip9300)\">\n",
       "<text style=\"fill:#000000; fill-opacity:1; font-family:Arial,Helvetica Neue,Helvetica,sans-serif; font-size:48px; text-anchor:end;\" transform=\"rotate(0, 218.516, 190.051)\" x=\"218.516\" y=\"190.051\">1.00</text>\n",
       "</g>\n",
       "<g clip-path=\"url(#clip9300)\">\n",
       "<text style=\"fill:#000000; fill-opacity:1; font-family:Arial,Helvetica Neue,Helvetica,sans-serif; font-size:66px; text-anchor:middle;\" transform=\"rotate(0, 1297.64, 1559.48)\" x=\"1297.64\" y=\"1559.48\">Within this factor of the best (log scale)</text>\n",
       "</g>\n",
       "<g clip-path=\"url(#clip9300)\">\n",
       "<text style=\"fill:#000000; fill-opacity:1; font-family:Arial,Helvetica Neue,Helvetica,sans-serif; font-size:66px; text-anchor:middle;\" transform=\"rotate(-90, 89.2861, 736.431)\" x=\"89.2861\" y=\"736.431\">Proportion of problems</text>\n",
       "</g>\n",
       "<polyline clip-path=\"url(#clip9302)\" style=\"stroke:#009af9; stroke-width:4; stroke-opacity:1; fill:none\" points=\"\n",
       "  242.516,888.59 303.931,888.59 303.931,843.837 309.92,843.837 309.92,799.085 313.006,799.085 313.006,754.332 321.53,754.332 321.53,709.58 360.335,709.58 \n",
       "  360.335,664.827 381.979,664.827 381.979,620.075 478.954,620.075 478.954,575.323 581.06,575.323 581.06,530.57 599.416,530.57 599.416,485.818 2160.92,485.818 \n",
       "  2160.92,441.065 4079.32,441.065 4079.32,127.798 \n",
       "  \"/>\n",
       "<polyline clip-path=\"url(#clip9302)\" style=\"stroke:#e26f46; stroke-width:4; stroke-opacity:1; fill:none\" points=\"\n",
       "  242.516,799.085 257.123,799.085 257.123,754.332 264.149,754.332 264.149,709.58 296.44,709.58 296.44,664.827 318.544,664.827 318.544,620.075 322.987,620.075 \n",
       "  322.987,575.323 363.428,575.323 363.428,530.57 1713.12,530.57 1713.12,485.818 4079.32,485.818 4079.32,127.798 \n",
       "  \"/>\n",
       "<path clip-path=\"url(#clip9300)\" d=\"\n",
       "M1896.31 312.204 L2280.76 312.204 L2280.76 130.764 L1896.31 130.764  Z\n",
       "  \" fill=\"#ffffff\" fill-rule=\"evenodd\" fill-opacity=\"1\"/>\n",
       "<polyline clip-path=\"url(#clip9300)\" style=\"stroke:#000000; stroke-width:4; stroke-opacity:1; fill:none\" points=\"\n",
       "  1896.31,312.204 2280.76,312.204 2280.76,130.764 1896.31,130.764 1896.31,312.204 \n",
       "  \"/>\n",
       "<polyline clip-path=\"url(#clip9300)\" style=\"stroke:#009af9; stroke-width:4; stroke-opacity:1; fill:none\" points=\"\n",
       "  1920.31,191.244 2064.31,191.244 \n",
       "  \"/>\n",
       "<g clip-path=\"url(#clip9300)\">\n",
       "<text style=\"fill:#000000; fill-opacity:1; font-family:Arial,Helvetica Neue,Helvetica,sans-serif; font-size:48px; text-anchor:start;\" transform=\"rotate(0, 2088.31, 208.744)\" x=\"2088.31\" y=\"208.744\">IPOPT</text>\n",
       "</g>\n",
       "<polyline clip-path=\"url(#clip9300)\" style=\"stroke:#e26f46; stroke-width:4; stroke-opacity:1; fill:none\" points=\"\n",
       "  1920.31,251.724 2064.31,251.724 \n",
       "  \"/>\n",
       "<g clip-path=\"url(#clip9300)\">\n",
       "<text style=\"fill:#000000; fill-opacity:1; font-family:Arial,Helvetica Neue,Helvetica,sans-serif; font-size:48px; text-anchor:start;\" transform=\"rotate(0, 2088.31, 269.224)\" x=\"2088.31\" y=\"269.224\">SQP</text>\n",
       "</g>\n",
       "</svg>\n"
      ]
     },
     "execution_count": 63,
     "metadata": {},
     "output_type": "execute_result"
    }
   ],
   "source": [
    "cost(df) = (df.status .!= :first_order) * Inf + df.elapsed_time\n",
    "performance_profile(stats, cost)"
   ]
  },
  {
   "cell_type": "code",
   "execution_count": 64,
   "metadata": {},
   "outputs": [
    {
     "data": {
      "image/svg+xml": [
       "<?xml version=\"1.0\" encoding=\"utf-8\"?>\n",
       "<svg xmlns=\"http://www.w3.org/2000/svg\" xmlns:xlink=\"http://www.w3.org/1999/xlink\" width=\"600\" height=\"400\" viewBox=\"0 0 2400 1600\">\n",
       "<defs>\n",
       "  <clipPath id=\"clip9700\">\n",
       "    <rect x=\"0\" y=\"0\" width=\"2400\" height=\"1600\"/>\n",
       "  </clipPath>\n",
       "</defs>\n",
       "<path clip-path=\"url(#clip9700)\" d=\"\n",
       "M0 1600 L2400 1600 L2400 0 L0 0  Z\n",
       "  \" fill=\"#ffffff\" fill-rule=\"evenodd\" fill-opacity=\"1\"/>\n",
       "<defs>\n",
       "  <clipPath id=\"clip9701\">\n",
       "    <rect x=\"480\" y=\"0\" width=\"1681\" height=\"1600\"/>\n",
       "  </clipPath>\n",
       "</defs>\n",
       "<path clip-path=\"url(#clip9700)\" d=\"\n",
       "M242.516 1425.62 L2352.76 1425.62 L2352.76 47.2441 L242.516 47.2441  Z\n",
       "  \" fill=\"#ffffff\" fill-rule=\"evenodd\" fill-opacity=\"1\"/>\n",
       "<defs>\n",
       "  <clipPath id=\"clip9702\">\n",
       "    <rect x=\"242\" y=\"47\" width=\"2111\" height=\"1379\"/>\n",
       "  </clipPath>\n",
       "</defs>\n",
       "<polyline clip-path=\"url(#clip9702)\" style=\"stroke:#000000; stroke-width:2; stroke-opacity:0.1; fill:none\" points=\"\n",
       "  242.516,1425.62 242.516,47.2441 \n",
       "  \"/>\n",
       "<polyline clip-path=\"url(#clip9702)\" style=\"stroke:#000000; stroke-width:2; stroke-opacity:0.1; fill:none\" points=\"\n",
       "  755.874,1425.62 755.874,47.2441 \n",
       "  \"/>\n",
       "<polyline clip-path=\"url(#clip9702)\" style=\"stroke:#000000; stroke-width:2; stroke-opacity:0.1; fill:none\" points=\"\n",
       "  1269.23,1425.62 1269.23,47.2441 \n",
       "  \"/>\n",
       "<polyline clip-path=\"url(#clip9702)\" style=\"stroke:#000000; stroke-width:2; stroke-opacity:0.1; fill:none\" points=\"\n",
       "  1782.59,1425.62 1782.59,47.2441 \n",
       "  \"/>\n",
       "<polyline clip-path=\"url(#clip9702)\" style=\"stroke:#000000; stroke-width:2; stroke-opacity:0.1; fill:none\" points=\"\n",
       "  2295.95,1425.62 2295.95,47.2441 \n",
       "  \"/>\n",
       "<polyline clip-path=\"url(#clip9702)\" style=\"stroke:#000000; stroke-width:2; stroke-opacity:0.1; fill:none\" points=\"\n",
       "  242.516,1425.62 2352.76,1425.62 \n",
       "  \"/>\n",
       "<polyline clip-path=\"url(#clip9702)\" style=\"stroke:#000000; stroke-width:2; stroke-opacity:0.1; fill:none\" points=\"\n",
       "  242.516,1112.35 2352.76,1112.35 \n",
       "  \"/>\n",
       "<polyline clip-path=\"url(#clip9702)\" style=\"stroke:#000000; stroke-width:2; stroke-opacity:0.1; fill:none\" points=\"\n",
       "  242.516,799.085 2352.76,799.085 \n",
       "  \"/>\n",
       "<polyline clip-path=\"url(#clip9702)\" style=\"stroke:#000000; stroke-width:2; stroke-opacity:0.1; fill:none\" points=\"\n",
       "  242.516,485.818 2352.76,485.818 \n",
       "  \"/>\n",
       "<polyline clip-path=\"url(#clip9702)\" style=\"stroke:#000000; stroke-width:2; stroke-opacity:0.1; fill:none\" points=\"\n",
       "  242.516,172.551 2352.76,172.551 \n",
       "  \"/>\n",
       "<polyline clip-path=\"url(#clip9700)\" style=\"stroke:#000000; stroke-width:4; stroke-opacity:1; fill:none\" points=\"\n",
       "  242.516,1425.62 2352.76,1425.62 \n",
       "  \"/>\n",
       "<polyline clip-path=\"url(#clip9700)\" style=\"stroke:#000000; stroke-width:4; stroke-opacity:1; fill:none\" points=\"\n",
       "  242.516,1425.62 242.516,47.2441 \n",
       "  \"/>\n",
       "<polyline clip-path=\"url(#clip9700)\" style=\"stroke:#000000; stroke-width:4; stroke-opacity:1; fill:none\" points=\"\n",
       "  242.516,1425.62 242.516,1409.08 \n",
       "  \"/>\n",
       "<polyline clip-path=\"url(#clip9700)\" style=\"stroke:#000000; stroke-width:4; stroke-opacity:1; fill:none\" points=\"\n",
       "  755.874,1425.62 755.874,1409.08 \n",
       "  \"/>\n",
       "<polyline clip-path=\"url(#clip9700)\" style=\"stroke:#000000; stroke-width:4; stroke-opacity:1; fill:none\" points=\"\n",
       "  1269.23,1425.62 1269.23,1409.08 \n",
       "  \"/>\n",
       "<polyline clip-path=\"url(#clip9700)\" style=\"stroke:#000000; stroke-width:4; stroke-opacity:1; fill:none\" points=\"\n",
       "  1782.59,1425.62 1782.59,1409.08 \n",
       "  \"/>\n",
       "<polyline clip-path=\"url(#clip9700)\" style=\"stroke:#000000; stroke-width:4; stroke-opacity:1; fill:none\" points=\"\n",
       "  2295.95,1425.62 2295.95,1409.08 \n",
       "  \"/>\n",
       "<polyline clip-path=\"url(#clip9700)\" style=\"stroke:#000000; stroke-width:4; stroke-opacity:1; fill:none\" points=\"\n",
       "  242.516,1425.62 267.839,1425.62 \n",
       "  \"/>\n",
       "<polyline clip-path=\"url(#clip9700)\" style=\"stroke:#000000; stroke-width:4; stroke-opacity:1; fill:none\" points=\"\n",
       "  242.516,1112.35 267.839,1112.35 \n",
       "  \"/>\n",
       "<polyline clip-path=\"url(#clip9700)\" style=\"stroke:#000000; stroke-width:4; stroke-opacity:1; fill:none\" points=\"\n",
       "  242.516,799.085 267.839,799.085 \n",
       "  \"/>\n",
       "<polyline clip-path=\"url(#clip9700)\" style=\"stroke:#000000; stroke-width:4; stroke-opacity:1; fill:none\" points=\"\n",
       "  242.516,485.818 267.839,485.818 \n",
       "  \"/>\n",
       "<polyline clip-path=\"url(#clip9700)\" style=\"stroke:#000000; stroke-width:4; stroke-opacity:1; fill:none\" points=\"\n",
       "  242.516,172.551 267.839,172.551 \n",
       "  \"/>\n",
       "<g clip-path=\"url(#clip9700)\">\n",
       "<text style=\"fill:#000000; fill-opacity:1; font-family:Arial,Helvetica Neue,Helvetica,sans-serif; font-size:48px; text-anchor:middle;\" transform=\"rotate(0, 242.516, 1479.62)\" x=\"242.516\" y=\"1479.62\">0</text>\n",
       "</g>\n",
       "<g clip-path=\"url(#clip9700)\">\n",
       "<text style=\"fill:#000000; fill-opacity:1; font-family:Arial,Helvetica Neue,Helvetica,sans-serif; font-size:48px; text-anchor:middle;\" transform=\"rotate(0, 755.874, 1479.62)\" x=\"755.874\" y=\"1479.62\">1</text>\n",
       "</g>\n",
       "<g clip-path=\"url(#clip9700)\">\n",
       "<text style=\"fill:#000000; fill-opacity:1; font-family:Arial,Helvetica Neue,Helvetica,sans-serif; font-size:48px; text-anchor:middle;\" transform=\"rotate(0, 1269.23, 1479.62)\" x=\"1269.23\" y=\"1479.62\">2</text>\n",
       "</g>\n",
       "<g clip-path=\"url(#clip9700)\">\n",
       "<text style=\"fill:#000000; fill-opacity:1; font-family:Arial,Helvetica Neue,Helvetica,sans-serif; font-size:48px; text-anchor:middle;\" transform=\"rotate(0, 1782.59, 1479.62)\" x=\"1782.59\" y=\"1479.62\">3</text>\n",
       "</g>\n",
       "<g clip-path=\"url(#clip9700)\">\n",
       "<text style=\"fill:#000000; fill-opacity:1; font-family:Arial,Helvetica Neue,Helvetica,sans-serif; font-size:48px; text-anchor:middle;\" transform=\"rotate(0, 2295.95, 1479.62)\" x=\"2295.95\" y=\"1479.62\">4</text>\n",
       "</g>\n",
       "<g clip-path=\"url(#clip9700)\">\n",
       "<text style=\"fill:#000000; fill-opacity:1; font-family:Arial,Helvetica Neue,Helvetica,sans-serif; font-size:48px; text-anchor:end;\" transform=\"rotate(0, 218.516, 1443.12)\" x=\"218.516\" y=\"1443.12\">0.00</text>\n",
       "</g>\n",
       "<g clip-path=\"url(#clip9700)\">\n",
       "<text style=\"fill:#000000; fill-opacity:1; font-family:Arial,Helvetica Neue,Helvetica,sans-serif; font-size:48px; text-anchor:end;\" transform=\"rotate(0, 218.516, 1129.85)\" x=\"218.516\" y=\"1129.85\">0.25</text>\n",
       "</g>\n",
       "<g clip-path=\"url(#clip9700)\">\n",
       "<text style=\"fill:#000000; fill-opacity:1; font-family:Arial,Helvetica Neue,Helvetica,sans-serif; font-size:48px; text-anchor:end;\" transform=\"rotate(0, 218.516, 816.585)\" x=\"218.516\" y=\"816.585\">0.50</text>\n",
       "</g>\n",
       "<g clip-path=\"url(#clip9700)\">\n",
       "<text style=\"fill:#000000; fill-opacity:1; font-family:Arial,Helvetica Neue,Helvetica,sans-serif; font-size:48px; text-anchor:end;\" transform=\"rotate(0, 218.516, 503.318)\" x=\"218.516\" y=\"503.318\">0.75</text>\n",
       "</g>\n",
       "<g clip-path=\"url(#clip9700)\">\n",
       "<text style=\"fill:#000000; fill-opacity:1; font-family:Arial,Helvetica Neue,Helvetica,sans-serif; font-size:48px; text-anchor:end;\" transform=\"rotate(0, 218.516, 190.051)\" x=\"218.516\" y=\"190.051\">1.00</text>\n",
       "</g>\n",
       "<g clip-path=\"url(#clip9700)\">\n",
       "<text style=\"fill:#000000; fill-opacity:1; font-family:Arial,Helvetica Neue,Helvetica,sans-serif; font-size:66px; text-anchor:middle;\" transform=\"rotate(0, 1297.64, 1559.48)\" x=\"1297.64\" y=\"1559.48\">Within this factor of the best (log scale)</text>\n",
       "</g>\n",
       "<g clip-path=\"url(#clip9700)\">\n",
       "<text style=\"fill:#000000; fill-opacity:1; font-family:Arial,Helvetica Neue,Helvetica,sans-serif; font-size:66px; text-anchor:middle;\" transform=\"rotate(-90, 89.2861, 736.431)\" x=\"89.2861\" y=\"736.431\">Proportion of problems</text>\n",
       "</g>\n",
       "<polyline clip-path=\"url(#clip9702)\" style=\"stroke:#009af9; stroke-width:4; stroke-opacity:1; fill:none\" points=\"\n",
       "  242.516,933.342 272.75,933.342 272.75,888.59 301.798,888.59 301.798,799.085 356.683,799.085 356.683,754.332 478.369,754.332 478.369,664.827 630.044,664.827 \n",
       "  630.044,620.075 656.978,620.075 656.978,575.323 778.664,575.323 778.664,530.57 1221.43,530.57 1221.43,485.818 1713.93,485.818 1713.93,441.065 4079.32,441.065 \n",
       "  4079.32,127.798 \n",
       "  \"/>\n",
       "<polyline clip-path=\"url(#clip9702)\" style=\"stroke:#e26f46; stroke-width:4; stroke-opacity:1; fill:none\" points=\"\n",
       "  242.516,709.58 396.298,709.58 396.298,664.827 755.874,664.827 755.874,620.075 1383.4,620.075 1383.4,575.323 1482.29,575.323 1482.29,530.57 2160.92,530.57 \n",
       "  2160.92,485.818 4079.32,485.818 4079.32,127.798 \n",
       "  \"/>\n",
       "<path clip-path=\"url(#clip9700)\" d=\"\n",
       "M1896.31 312.204 L2280.76 312.204 L2280.76 130.764 L1896.31 130.764  Z\n",
       "  \" fill=\"#ffffff\" fill-rule=\"evenodd\" fill-opacity=\"1\"/>\n",
       "<polyline clip-path=\"url(#clip9700)\" style=\"stroke:#000000; stroke-width:4; stroke-opacity:1; fill:none\" points=\"\n",
       "  1896.31,312.204 2280.76,312.204 2280.76,130.764 1896.31,130.764 1896.31,312.204 \n",
       "  \"/>\n",
       "<polyline clip-path=\"url(#clip9700)\" style=\"stroke:#009af9; stroke-width:4; stroke-opacity:1; fill:none\" points=\"\n",
       "  1920.31,191.244 2064.31,191.244 \n",
       "  \"/>\n",
       "<g clip-path=\"url(#clip9700)\">\n",
       "<text style=\"fill:#000000; fill-opacity:1; font-family:Arial,Helvetica Neue,Helvetica,sans-serif; font-size:48px; text-anchor:start;\" transform=\"rotate(0, 2088.31, 208.744)\" x=\"2088.31\" y=\"208.744\">IPOPT</text>\n",
       "</g>\n",
       "<polyline clip-path=\"url(#clip9700)\" style=\"stroke:#e26f46; stroke-width:4; stroke-opacity:1; fill:none\" points=\"\n",
       "  1920.31,251.724 2064.31,251.724 \n",
       "  \"/>\n",
       "<g clip-path=\"url(#clip9700)\">\n",
       "<text style=\"fill:#000000; fill-opacity:1; font-family:Arial,Helvetica Neue,Helvetica,sans-serif; font-size:48px; text-anchor:start;\" transform=\"rotate(0, 2088.31, 269.224)\" x=\"2088.31\" y=\"269.224\">SQP</text>\n",
       "</g>\n",
       "</svg>\n"
      ]
     },
     "execution_count": 64,
     "metadata": {},
     "output_type": "execute_result"
    }
   ],
   "source": [
    "for s in [:SQP, :IPOPT]\n",
    "    stats[s].sum_counters = sum(stats[s][:,c] for c in fieldnames(Counters))\n",
    "end\n",
    "cost(df) = (df.status .!= :first_order) * Inf + df.sum_counters\n",
    "performance_profile(stats, cost)"
   ]
  },
  {
   "cell_type": "code",
   "execution_count": null,
   "metadata": {},
   "outputs": [],
   "source": []
  }
 ],
 "metadata": {
  "kernelspec": {
   "display_name": "Julia 1.4.0",
   "language": "julia",
   "name": "julia-1.4"
  },
  "language_info": {
   "file_extension": ".jl",
   "mimetype": "application/julia",
   "name": "julia",
   "version": "1.4.0"
  }
 },
 "nbformat": 4,
 "nbformat_minor": 2
}
