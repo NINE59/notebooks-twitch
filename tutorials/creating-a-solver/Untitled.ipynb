{
 "cells": [
  {
   "cell_type": "code",
   "execution_count": 1,
   "metadata": {},
   "outputs": [
    {
     "name": "stderr",
     "output_type": "stream",
     "text": [
      "\u001b[32m\u001b[1m Activating\u001b[22m\u001b[39m environment at `~/Documents/streaming/notebooks/tutorials/creating-a-solver/Project.toml`\n",
      "\u001b[32m\u001b[1m   Updating\u001b[22m\u001b[39m registry at `~/.julia/registries/General`\n"
     ]
    },
    {
     "name": "stdout",
     "output_type": "stream",
     "text": [
      "\u001b[?25l\u001b[2K"
     ]
    },
    {
     "name": "stderr",
     "output_type": "stream",
     "text": [
      "\u001b[32m\u001b[1m   Updating\u001b[22m\u001b[39m git-repo `https://github.com/JuliaRegistries/General.git`\n"
     ]
    },
    {
     "name": "stdout",
     "output_type": "stream",
     "text": [
      "\u001b[?25h"
     ]
    },
    {
     "name": "stderr",
     "output_type": "stream",
     "text": [
      "\u001b[32m\u001b[1m  Resolving\u001b[22m\u001b[39m package versions...\n",
      "\u001b[32m\u001b[1m   Updating\u001b[22m\u001b[39m `~/Documents/streaming/notebooks/tutorials/creating-a-solver/Project.toml`\n",
      "\u001b[90m [no changes]\u001b[39m\n",
      "\u001b[32m\u001b[1m   Updating\u001b[22m\u001b[39m `~/Documents/streaming/notebooks/tutorials/creating-a-solver/Manifest.toml`\n",
      "\u001b[90m [no changes]\u001b[39m\n",
      "\u001b[32m\u001b[1m  Resolving\u001b[22m\u001b[39m package versions...\n",
      "\u001b[32m\u001b[1m   Updating\u001b[22m\u001b[39m `~/Documents/streaming/notebooks/tutorials/creating-a-solver/Project.toml`\n",
      "\u001b[90m [no changes]\u001b[39m\n",
      "\u001b[32m\u001b[1m   Updating\u001b[22m\u001b[39m `~/Documents/streaming/notebooks/tutorials/creating-a-solver/Manifest.toml`\n",
      "\u001b[90m [no changes]\u001b[39m\n",
      "\u001b[32m\u001b[1m  Resolving\u001b[22m\u001b[39m package versions...\n",
      "\u001b[32m\u001b[1m   Updating\u001b[22m\u001b[39m `~/Documents/streaming/notebooks/tutorials/creating-a-solver/Project.toml`\n",
      "\u001b[90m [no changes]\u001b[39m\n",
      "\u001b[32m\u001b[1m   Updating\u001b[22m\u001b[39m `~/Documents/streaming/notebooks/tutorials/creating-a-solver/Manifest.toml`\n",
      "\u001b[90m [no changes]\u001b[39m\n",
      "\u001b[32m\u001b[1m  Resolving\u001b[22m\u001b[39m package versions...\n",
      "\u001b[32m\u001b[1m   Updating\u001b[22m\u001b[39m `~/Documents/streaming/notebooks/tutorials/creating-a-solver/Project.toml`\n",
      "\u001b[90m [no changes]\u001b[39m\n",
      "\u001b[32m\u001b[1m   Updating\u001b[22m\u001b[39m `~/Documents/streaming/notebooks/tutorials/creating-a-solver/Manifest.toml`\n",
      "\u001b[90m [no changes]\u001b[39m\n",
      "\u001b[32m\u001b[1m  Resolving\u001b[22m\u001b[39m package versions...\n",
      "\u001b[32m\u001b[1m   Updating\u001b[22m\u001b[39m `~/Documents/streaming/notebooks/tutorials/creating-a-solver/Project.toml`\n",
      "\u001b[90m [no changes]\u001b[39m\n",
      "\u001b[32m\u001b[1m   Updating\u001b[22m\u001b[39m `~/Documents/streaming/notebooks/tutorials/creating-a-solver/Manifest.toml`\n",
      "\u001b[90m [no changes]\u001b[39m\n"
     ]
    }
   ],
   "source": [
    "using Pkg\n",
    "pkg\"activate .\"\n",
    "pkg\"add Plots\"\n",
    "pkg\"add NLPModels\"\n",
    "pkg\"add NLPModelsIpopt\"\n",
    "pkg\"add SolverTools\"\n",
    "pkg\"add SolverBenchmark\""
   ]
  },
  {
   "cell_type": "code",
   "execution_count": 2,
   "metadata": {},
   "outputs": [
    {
     "name": "stdout",
     "output_type": "stream",
     "text": [
      "\u001b[32m\u001b[1mStatus\u001b[22m\u001b[39m `~/Documents/streaming/notebooks/tutorials/creating-a-solver/Project.toml`\n",
      " \u001b[90m [a4795742]\u001b[39m\u001b[37m NLPModels v0.12.2\u001b[39m\n",
      " \u001b[90m [f4238b75]\u001b[39m\u001b[37m NLPModelsIpopt v0.3.2\u001b[39m\n",
      " \u001b[90m [91a5bcdd]\u001b[39m\u001b[37m Plots v0.29.9\u001b[39m\n",
      " \u001b[90m [581a75fa]\u001b[39m\u001b[37m SolverBenchmark v0.1.0\u001b[39m\n",
      " \u001b[90m [b5612192]\u001b[39m\u001b[37m SolverTools v0.1.11\u001b[39m\n"
     ]
    }
   ],
   "source": [
    "pkg\"status\""
   ]
  },
  {
   "cell_type": "markdown",
   "metadata": {},
   "source": [
    "$$ \\min\\ f(x) \\qquad \\text{s.to} \\qquad c(x) = 0. $$"
   ]
  },
  {
   "cell_type": "markdown",
   "metadata": {},
   "source": [
    "\\begin{align}\n",
    "\\nabla f(x) + J(x)^T y & = 0 \\\\\n",
    "c(x) & = 0\n",
    "\\end{align}"
   ]
  },
  {
   "cell_type": "markdown",
   "metadata": {},
   "source": [
    "\\begin{align}\n",
    "\\begin{bmatrix}\n",
    "\\nabla^2 f(x_k) + \\sum_{i=1}^m (y_k)_i \\nabla^2 c_i(x_k) & J(x_k)^T \\\\\n",
    "J(x_k) & 0\n",
    "\\end{bmatrix}\n",
    "\\begin{bmatrix} \\Delta x \\\\ \\Delta y \\end{bmatrix}\n",
    "=\n",
    "- \\begin{bmatrix} \\nabla f(x_k) + J(x_k)^T y_k \\\\ c(x_k) \\end{bmatrix}\n",
    "\\end{align}"
   ]
  },
  {
   "cell_type": "code",
   "execution_count": 3,
   "metadata": {},
   "outputs": [
    {
     "data": {
      "text/plain": [
       "ADNLPModel(Minimization problem Generic\n",
       "nvar = 2, ncon = 1 (0 linear)\n",
       ", Counters(0, 0, 0, 0, 0, 0, 0, 0, 0, 0, 0), var\"#3#5\"(), var\"#4#6\"())"
      ]
     },
     "execution_count": 3,
     "metadata": {},
     "output_type": "execute_result"
    }
   ],
   "source": [
    "using NLPModels\n",
    "\n",
    "nlp = ADNLPModel(x -> (x[1] - 1)^2 + 100 * (x[2] - x[1]^2)^2, [-1.2; 1.0],\n",
    "    c=x -> [x[1]^2 + x[2]^2 - 1.0], lcon=[0.0], ucon=[0.0]\n",
    ")"
   ]
  },
  {
   "cell_type": "code",
   "execution_count": 4,
   "metadata": {},
   "outputs": [
    {
     "data": {
      "text/plain": [
       "Minimization problem Generic\n",
       "nvar = 2, ncon = 1 (0 linear)\n"
      ]
     },
     "execution_count": 4,
     "metadata": {},
     "output_type": "execute_result"
    }
   ],
   "source": [
    "nlp.meta"
   ]
  },
  {
   "cell_type": "code",
   "execution_count": 5,
   "metadata": {},
   "outputs": [
    {
     "data": {
      "text/plain": [
       "([-1.2, 1.0], 2, [-Inf, -Inf], [Inf, Inf])"
      ]
     },
     "execution_count": 5,
     "metadata": {},
     "output_type": "execute_result"
    }
   ],
   "source": [
    "nlp.meta.x0, nlp.meta.nvar, nlp.meta.lvar, nlp.meta.uvar"
   ]
  },
  {
   "cell_type": "code",
   "execution_count": 6,
   "metadata": {},
   "outputs": [
    {
     "data": {
      "text/plain": [
       "([0.0], 1, [0.0], [0.0])"
      ]
     },
     "execution_count": 6,
     "metadata": {},
     "output_type": "execute_result"
    }
   ],
   "source": [
    "nlp.meta.y0, nlp.meta.ncon, nlp.meta.lcon, nlp.meta.ucon"
   ]
  },
  {
   "cell_type": "code",
   "execution_count": 7,
   "metadata": {},
   "outputs": [
    {
     "data": {
      "text/plain": [
       "1-element Array{Int64,1}:\n",
       " 1"
      ]
     },
     "execution_count": 7,
     "metadata": {},
     "output_type": "execute_result"
    }
   ],
   "source": [
    "nlp.meta.jfix # Vector of constraints that are equalities"
   ]
  },
  {
   "cell_type": "code",
   "execution_count": 8,
   "metadata": {},
   "outputs": [
    {
     "data": {
      "text/plain": [
       "true"
      ]
     },
     "execution_count": 8,
     "metadata": {},
     "output_type": "execute_result"
    }
   ],
   "source": [
    "equality_constrained(nlp)"
   ]
  },
  {
   "cell_type": "code",
   "execution_count": 9,
   "metadata": {},
   "outputs": [
    {
     "data": {
      "text/plain": [
       "false"
      ]
     },
     "execution_count": 9,
     "metadata": {},
     "output_type": "execute_result"
    }
   ],
   "source": [
    "unconstrained(nlp)"
   ]
  },
  {
   "cell_type": "code",
   "execution_count": 10,
   "metadata": {},
   "outputs": [
    {
     "data": {
      "text/plain": [
       "24.199999999999996"
      ]
     },
     "execution_count": 10,
     "metadata": {},
     "output_type": "execute_result"
    }
   ],
   "source": [
    "x = copy(nlp.meta.x0)\n",
    "obj(nlp, x)"
   ]
  },
  {
   "cell_type": "code",
   "execution_count": 11,
   "metadata": {},
   "outputs": [
    {
     "data": {
      "text/plain": [
       "2-element Array{Float64,1}:\n",
       " -215.59999999999997\n",
       "  -87.99999999999999"
      ]
     },
     "execution_count": 11,
     "metadata": {},
     "output_type": "execute_result"
    }
   ],
   "source": [
    "grad(nlp, x)"
   ]
  },
  {
   "cell_type": "code",
   "execution_count": 12,
   "metadata": {},
   "outputs": [
    {
     "data": {
      "text/plain": [
       "2×2 Array{Float64,2}:\n",
       " 1330.0    0.0\n",
       "  480.0  200.0"
      ]
     },
     "execution_count": 12,
     "metadata": {},
     "output_type": "execute_result"
    }
   ],
   "source": [
    "hess(nlp, x)"
   ]
  },
  {
   "cell_type": "code",
   "execution_count": 13,
   "metadata": {},
   "outputs": [
    {
     "data": {
      "text/plain": [
       "1-element Array{Float64,1}:\n",
       " 1.44"
      ]
     },
     "execution_count": 13,
     "metadata": {},
     "output_type": "execute_result"
    }
   ],
   "source": [
    "cons(nlp, x)"
   ]
  },
  {
   "cell_type": "code",
   "execution_count": 14,
   "metadata": {},
   "outputs": [
    {
     "data": {
      "text/plain": [
       "1×2 Array{Float64,2}:\n",
       " -2.4  2.0"
      ]
     },
     "execution_count": 14,
     "metadata": {},
     "output_type": "execute_result"
    }
   ],
   "source": [
    "jac(nlp, x)"
   ]
  },
  {
   "cell_type": "code",
   "execution_count": 15,
   "metadata": {},
   "outputs": [
    {
     "data": {
      "text/plain": [
       "2×2 Array{Float64,2}:\n",
       " 1332.0    0.0\n",
       "  480.0  202.0"
      ]
     },
     "execution_count": 15,
     "metadata": {},
     "output_type": "execute_result"
    }
   ],
   "source": [
    "y = ones(nlp.meta.ncon)\n",
    "hess(nlp, x, y) # Hessian of the Lagrangian"
   ]
  },
  {
   "cell_type": "code",
   "execution_count": 16,
   "metadata": {},
   "outputs": [
    {
     "data": {
      "text/plain": [
       "1"
      ]
     },
     "execution_count": 16,
     "metadata": {},
     "output_type": "execute_result"
    }
   ],
   "source": [
    "neval_obj(nlp)"
   ]
  },
  {
   "cell_type": "code",
   "execution_count": 17,
   "metadata": {},
   "outputs": [
    {
     "data": {
      "text/plain": [
       "6"
      ]
     },
     "execution_count": 17,
     "metadata": {},
     "output_type": "execute_result"
    }
   ],
   "source": [
    "sum_counters(nlp)"
   ]
  },
  {
   "cell_type": "code",
   "execution_count": 18,
   "metadata": {},
   "outputs": [
    {
     "data": {
      "text/plain": [
       "Counters(1, 1, 1, 0, 0, 1, 0, 0, 2, 0, 0)"
      ]
     },
     "execution_count": 18,
     "metadata": {},
     "output_type": "execute_result"
    }
   ],
   "source": [
    "nlp.counters"
   ]
  },
  {
   "cell_type": "code",
   "execution_count": 19,
   "metadata": {},
   "outputs": [
    {
     "data": {
      "text/plain": [
       "sqp (generic function with 1 method)"
      ]
     },
     "execution_count": 19,
     "metadata": {},
     "output_type": "execute_result"
    }
   ],
   "source": [
    "using LinearAlgebra, SolverTools\n",
    "\n",
    "# Input of an NLPModels compliant solver is:\n",
    "function sqp(nlp :: AbstractNLPModel; # Only mandatory argument\n",
    "             max_eval = 100,\n",
    "             max_time = 3.0,\n",
    "             atol = 1e-6,\n",
    "             rtol = 1e-6,\n",
    "             )\n",
    "    \n",
    "    start_time = time()\n",
    "    \n",
    "    nvar, ncon = nlp.meta.nvar, nlp.meta.ncon\n",
    "    \n",
    "    x = copy(nlp.meta.x0)\n",
    "    y = ones(ncon)\n",
    "    \n",
    "    f(x) = obj(nlp, x)\n",
    "    ∇f(x) = grad(nlp, x)\n",
    "    H(x,y) = hess(nlp, x, y)\n",
    "    c(x) = cons(nlp, x)\n",
    "    J(x) = jac(nlp, x)\n",
    "    \n",
    "    Jx = J(x)\n",
    "    dual = ∇f(x) + Jx' * y\n",
    "    primal = c(x)\n",
    "    \n",
    "    ϵd = atol + rtol * norm(dual)\n",
    "    ϵp = atol\n",
    "    \n",
    "    Δt = time() - start_time\n",
    "    solved = norm(dual) < ϵd && norm(primal) < ϵp\n",
    "    tired  = Δt > max_time || sum_counters(nlp) > max_eval\n",
    "    iter = 0\n",
    "    \n",
    "    @info log_header([:iter, :fx, :dual, :primal],\n",
    "                     [Int, Float64, Float64, Float64],\n",
    "                     hdr_override=Dict(:fx => \"f(x)\",\n",
    "                                       :dual => \"‖∇ℓ(x,y)‖\",\n",
    "                                       :primal => \"‖c(x)‖\"))\n",
    "    \n",
    "    @info log_row(Any[iter, f(x), norm(dual), norm(primal)])\n",
    "    \n",
    "    while !(solved || tired)\n",
    "        Hxy = H(x, y)\n",
    "        W = [Hxy zeros(nvar, ncon); Jx zeros(ncon, ncon)]\n",
    "        Δxy = -Symmetric(W, :L) \\ [dual; primal]\n",
    "        Δx = Δxy[1:nvar]\n",
    "        Δy = Δxy[nvar+1:end]\n",
    "        \n",
    "        x += Δx\n",
    "        y += Δy\n",
    "        \n",
    "        Jx = J(x)\n",
    "        dual = ∇f(x) + Jx' * y\n",
    "        primal = c(x)\n",
    "        Δt = time() - start_time\n",
    "        solved = norm(dual) < ϵd && norm(primal) < ϵp\n",
    "        tired  = Δt > max_time || sum_counters(nlp) > max_eval\n",
    "        iter += 1\n",
    "        \n",
    "        @info log_row(Any[iter, f(x), norm(dual), norm(primal)])\n",
    "    end\n",
    "    \n",
    "    status = if solved\n",
    "        :first_order\n",
    "    elseif tired\n",
    "        if Δt > max_time\n",
    "            :max_time\n",
    "        else\n",
    "            :max_eval\n",
    "        end\n",
    "    else\n",
    "        :unknown\n",
    "    end\n",
    "    \n",
    "    return GenericExecutionStats(status, nlp;\n",
    "                solution=x, objective=f(x), dual_feas=norm(dual),\n",
    "                primal_feas=norm(primal), elapsed_time=Δt, iter=iter,\n",
    "                solver_specific=Dict(:multiplers => y)) # should change to multipliers\n",
    "end"
   ]
  },
  {
   "cell_type": "code",
   "execution_count": 20,
   "metadata": {},
   "outputs": [
    {
     "name": "stderr",
     "output_type": "stream",
     "text": [
      "┌ Info:   iter      f(x)  ‖∇ℓ(x,y)‖    ‖c(x)‖  \n",
      "└ @ Main In[19]:36\n",
      "┌ Info:      0   2.4e+01   2.3e+02   1.4e+00\n",
      "└ @ Main In[19]:42\n",
      "┌ Info:      1   6.2e+00   7.8e+01   2.2e-01\n",
      "└ @ Main In[19]:62\n",
      "┌ Info:      2   3.2e+00   1.1e+01   1.1e-02\n",
      "└ @ Main In[19]:62\n",
      "┌ Info:      3   3.2e+00   1.9e-01   1.4e-04\n",
      "└ @ Main In[19]:62\n",
      "┌ Info:      4   3.2e+00   5.9e-05   5.3e-08\n",
      "└ @ Main In[19]:62\n"
     ]
    },
    {
     "data": {
      "text/plain": [
       "\"Execution stats: first-order stationary\""
      ]
     },
     "execution_count": 20,
     "metadata": {},
     "output_type": "execute_result"
    }
   ],
   "source": [
    "# Rosenbrock with x₁² + x₂² = 1\n",
    "reset!(nlp)\n",
    "output = sqp(nlp)"
   ]
  },
  {
   "cell_type": "code",
   "execution_count": 21,
   "metadata": {},
   "outputs": [
    {
     "name": "stdout",
     "output_type": "stream",
     "text": [
      "Generic Execution stats\n",
      "  status: \"first-order stationary\"\n",
      "  objective value: 3.186379049574157\n",
      "  primal feasibility: 5.3240614139582476e-8\n",
      "  dual feasibility: 5.894431731404969e-5\n",
      "  solution: [-0.7839302491531344  0.6208489491843557]\n",
      "  iterations: 4\n",
      "  elapsed time: 1.7910029888153076\n",
      "  solver specific:\n",
      "    multiplers: [-1.0151246847136168]\n"
     ]
    }
   ],
   "source": [
    "print(output)"
   ]
  },
  {
   "cell_type": "code",
   "execution_count": 22,
   "metadata": {},
   "outputs": [
    {
     "data": {
      "text/plain": [
       "25"
      ]
     },
     "execution_count": 22,
     "metadata": {},
     "output_type": "execute_result"
    }
   ],
   "source": [
    "sum_counters(nlp)"
   ]
  },
  {
   "cell_type": "code",
   "execution_count": 23,
   "metadata": {},
   "outputs": [
    {
     "name": "stdout",
     "output_type": "stream",
     "text": [
      "STATUSES:\n",
      "  :acceptable     => solved to within acceptable tolerances\n",
      "  :exception      => unhandled exception\n",
      "  :first_order    => first-order stationary\n",
      "  :infeasible     => problem may be infeasible\n",
      "  :max_eval       => maximum number of function evaluations\n",
      "  :max_iter       => maximum iteration\n",
      "  :max_time       => maximum elapsed time\n",
      "  :neg_pred       => negative predicted reduction\n",
      "  :not_desc       => not a descent direction\n",
      "  :small_residual => small residual\n",
      "  :small_step     => step too small\n",
      "  :stalled        => stalled\n",
      "  :unbounded      => objective function may be unbounded from below\n",
      "  :unknown        => unknown\n",
      "  :user           => user-requested stop\n"
     ]
    }
   ],
   "source": [
    "SolverTools.show_statuses()"
   ]
  },
  {
   "cell_type": "code",
   "execution_count": 24,
   "metadata": {},
   "outputs": [
    {
     "data": {
      "text/plain": [
       "Base.Generator{UnitRange{Int64},var\"#13#16\"}(var\"#13#16\"(), 1:5)"
      ]
     },
     "execution_count": 24,
     "metadata": {},
     "output_type": "execute_result"
    }
   ],
   "source": [
    "problems = (\n",
    "    ADNLPModel(x -> i * x[1]^2 + (i + 2) * (x[2] - i * x[1]^2)^2, ones(2),\n",
    "        c=x->[i * x[1] - (i + 3) * x[2]], lcon=[0.0], ucon=[0.0], name=\"prob$i\") for i = 1:5\n",
    ")"
   ]
  },
  {
   "cell_type": "code",
   "execution_count": 25,
   "metadata": {},
   "outputs": [
    {
     "name": "stdout",
     "output_type": "stream",
     "text": [
      "Generic Execution stats\n",
      "  status: \"first-order stationary\"\n",
      "  objective value: 4.655789559984491e-16\n",
      "  primal feasibility: 2.710505431213761e-20\n",
      "  dual feasibility: 7.00763642646916e-8\n",
      "  solution: [-1.9800668661838186e-8  -4.95016716545277e-9]\n",
      "  iterations: 6\n",
      "  elapsed time: 0.36792898178100586\n",
      "  solver specific:\n",
      "    multiplers: [8.241736648585804e-9]\n",
      "Generic Execution stats\n",
      "  status: \"first-order stationary\"\n",
      "  objective value: 1.3898760039745041e-12\n",
      "  primal feasibility: 8.131516293641283e-20\n",
      "  dual feasibility: 4.083447386054358e-6\n",
      "  solution: [-7.255806345781552e-7  -2.9023225383127834e-7]\n",
      "  iterations: 7\n",
      "  elapsed time: 0.0005090236663818359\n",
      "  solver specific:\n",
      "    multiplers: [1.7224173981590673e-7]\n",
      "Generic Execution stats\n",
      "  status: \"first-order stationary\"\n",
      "  objective value: 7.279432718550528e-17\n",
      "  primal feasibility: 0.0\n",
      "  dual feasibility: 3.3164442169477714e-8\n",
      "  solution: [-4.138608067289954e-9  -2.069304033644977e-9]\n",
      "  iterations: 9\n",
      "  elapsed time: 0.0005290508270263672\n",
      "  solver specific:\n",
      "    multiplers: [4.5897115895014476e-10]\n",
      "Generic Execution stats\n",
      "  status: \"first-order stationary\"\n",
      "  objective value: 6.565803822355962e-12\n",
      "  primal feasibility: 1.8973538018496328e-19\n",
      "  dual feasibility: 1.1076217938227444e-5\n",
      "  solution: [-1.0496620998104531e-6  -5.998069141773747e-7]\n",
      "  iterations: 9\n",
      "  elapsed time: 0.0004019737243652344\n",
      "  solver specific:\n",
      "    multiplers: [1.0492513932308406e-8]\n",
      "Generic Execution stats\n",
      "  status: \"first-order stationary\"\n",
      "  objective value: 1.907600100181614e-14\n",
      "  primal feasibility: 6.776263578034403e-20\n",
      "  dual feasibility: 6.55823376413644e-7\n",
      "  solution: [-4.966277636075662e-8  -3.103923522548136e-8]\n",
      "  iterations: 10\n",
      "  elapsed time: 0.0004229545593261719\n",
      "  solver specific:\n",
      "    multiplers: [-3.14570738174326e-9]\n"
     ]
    },
    {
     "name": "stderr",
     "output_type": "stream",
     "text": [
      "┌ Info:   iter      f(x)  ‖∇ℓ(x,y)‖    ‖c(x)‖  \n",
      "└ @ Main In[19]:36\n",
      "┌ Info:      0   1.0e+00   5.0e+00   3.0e+00\n",
      "└ @ Main In[19]:42\n",
      "┌ Info:      1   3.2e-01   2.5e+00   2.2e-16\n",
      "└ @ Main In[19]:62\n",
      "┌ Info:      2   8.2e-02   7.4e-01   5.6e-17\n",
      "└ @ Main In[19]:62\n",
      "┌ Info:      3   5.5e-03   3.5e-01   0.0e+00\n",
      "└ @ Main In[19]:62\n",
      "┌ Info:      4   6.4e-05   3.8e-02   5.6e-17\n",
      "└ @ Main In[19]:62\n",
      "┌ Info:      5   1.2e-08   3.5e-04   1.7e-18\n",
      "└ @ Main In[19]:62\n",
      "┌ Info:      6   4.7e-16   7.0e-08   2.7e-20\n",
      "└ @ Main In[19]:62\n",
      "┌ Info:   iter      f(x)  ‖∇ℓ(x,y)‖    ‖c(x)‖  \n",
      "└ @ Main In[19]:36\n",
      "┌ Info:      0   6.0e+00   4.0e+01   3.0e+00\n",
      "└ @ Main In[19]:42\n",
      "┌ Info:      1   2.1e+00   1.3e+01   4.4e-16\n",
      "└ @ Main In[19]:62\n",
      "┌ Info:      2   5.4e-01   4.2e+00   0.0e+00\n",
      "└ @ Main In[19]:62\n",
      "┌ Info:      3   1.6e-01   1.6e+00   0.0e+00\n",
      "└ @ Main In[19]:62\n",
      "┌ Info:      4   3.6e-02   7.2e-01   0.0e+00\n",
      "└ @ Main In[19]:62\n",
      "┌ Info:      5   3.4e-04   3.4e-01   0.0e+00\n",
      "└ @ Main In[19]:62\n",
      "┌ Info:      6   5.3e-07   2.5e-03   6.9e-18\n",
      "└ @ Main In[19]:62\n",
      "┌ Info:      7   1.4e-12   4.1e-06   8.1e-20\n",
      "└ @ Main In[19]:62\n",
      "┌ Info:   iter      f(x)  ‖∇ℓ(x,y)‖    ‖c(x)‖  \n",
      "└ @ Main In[19]:36\n",
      "┌ Info:      0   2.3e+01   1.3e+02   3.0e+00\n",
      "└ @ Main In[19]:42\n",
      "┌ Info:      1   6.3e+00   4.1e+01   0.0e+00\n",
      "└ @ Main In[19]:62\n",
      "┌ Info:      2   1.4e+00   1.3e+01   0.0e+00\n",
      "└ @ Main In[19]:62\n",
      "┌ Info:      3   3.9e-01   4.1e+00   0.0e+00\n",
      "└ @ Main In[19]:62\n",
      "┌ Info:      4   1.2e-01   1.6e+00   1.1e-16\n",
      "└ @ Main In[19]:62\n",
      "┌ Info:      5   2.6e-02   8.0e-01   5.6e-17\n",
      "└ @ Main In[19]:62\n",
      "┌ Info:      6   2.1e-03   3.6e-01   0.0e+00\n",
      "└ @ Main In[19]:62\n",
      "┌ Info:      7   2.3e-05   1.8e-02   1.0e-17\n",
      "└ @ Main In[19]:62\n",
      "┌ Info:      8   3.3e-09   2.2e-04   0.0e+00\n",
      "└ @ Main In[19]:62\n",
      "┌ Info:      9   7.3e-17   3.3e-08   0.0e+00\n",
      "└ @ Main In[19]:62\n",
      "┌ Info:   iter      f(x)  ‖∇ℓ(x,y)‖    ‖c(x)‖  \n",
      "└ @ Main In[19]:36\n",
      "┌ Info:      0   5.8e+01   3.0e+02   3.0e+00\n",
      "└ @ Main In[19]:42\n",
      "┌ Info:      1   1.4e+01   9.1e+01   0.0e+00\n",
      "└ @ Main In[19]:62\n",
      "┌ Info:      2   3.0e+00   2.8e+01   0.0e+00\n",
      "└ @ Main In[19]:62\n",
      "┌ Info:      3   7.4e-01   8.8e+00   2.2e-16\n",
      "└ @ Main In[19]:62\n",
      "┌ Info:      4   2.2e-01   3.0e+00   0.0e+00\n",
      "└ @ Main In[19]:62\n",
      "┌ Info:      5   7.0e-02   1.3e+00   1.1e-16\n",
      "└ @ Main In[19]:62\n",
      "┌ Info:      6   5.4e-03   7.5e-01   2.8e-17\n",
      "└ @ Main In[19]:62\n",
      "┌ Info:      7   3.6e-04   9.3e-02   6.2e-17\n",
      "└ @ Main In[19]:62\n",
      "┌ Info:      8   9.1e-07   4.1e-03   6.1e-18\n",
      "└ @ Main In[19]:62\n",
      "┌ Info:      9   6.6e-12   1.1e-05   1.9e-19\n",
      "└ @ Main In[19]:62\n",
      "┌ Info:   iter      f(x)  ‖∇ℓ(x,y)‖    ‖c(x)‖  \n",
      "└ @ Main In[19]:36\n",
      "┌ Info:      0   1.2e+02   5.8e+02   3.0e+00\n",
      "└ @ Main In[19]:42\n",
      "┌ Info:      1   2.6e+01   1.7e+02   8.9e-16\n",
      "└ @ Main In[19]:62\n",
      "┌ Info:      2   5.5e+00   5.2e+01   0.0e+00\n",
      "└ @ Main In[19]:62\n",
      "┌ Info:      3   1.3e+00   1.6e+01   0.0e+00\n",
      "└ @ Main In[19]:62\n",
      "┌ Info:      4   3.4e-01   5.3e+00   0.0e+00\n",
      "└ @ Main In[19]:62\n",
      "┌ Info:      5   1.1e-01   2.0e+00   1.1e-16\n",
      "└ @ Main In[19]:62\n",
      "┌ Info:      6   3.0e-02   1.0e+00   1.1e-16\n",
      "└ @ Main In[19]:62\n",
      "┌ Info:      7   3.6e-03   6.2e-01   0.0e+00\n",
      "└ @ Main In[19]:62\n",
      "┌ Info:      8   7.2e-05   4.1e-02   1.0e-17\n",
      "└ @ Main In[19]:62\n",
      "┌ Info:      9   4.5e-08   1.0e-03   3.9e-18\n",
      "└ @ Main In[19]:62\n",
      "┌ Info:     10   1.9e-14   6.6e-07   6.8e-20\n",
      "└ @ Main In[19]:62\n"
     ]
    }
   ],
   "source": [
    "for nlp in problems\n",
    "    output = sqp(nlp)\n",
    "    print(output)\n",
    "end"
   ]
  },
  {
   "cell_type": "code",
   "execution_count": 26,
   "metadata": {},
   "outputs": [
    {
     "name": "stderr",
     "output_type": "stream",
     "text": [
      "┌ Info:            Name    nvar    ncon           status      Time      f(x)      Dual    Primal  \n",
      "└ @ SolverTools /home/abel/.julia/packages/SolverTools/Zu4eO/src/bmark/run_solver.jl:66\n",
      "┌ Info:           prob1       2       1      first_order   2.1e-04   4.7e-16   7.0e-08   2.7e-20\n",
      "└ @ SolverTools /home/abel/.julia/packages/SolverTools/Zu4eO/src/bmark/run_solver.jl:82\n",
      "┌ Info:           prob2       2       1      first_order   2.0e-04   1.4e-12   4.1e-06   8.1e-20\n",
      "└ @ SolverTools /home/abel/.julia/packages/SolverTools/Zu4eO/src/bmark/run_solver.jl:82\n",
      "┌ Info:           prob3       2       1      first_order   1.6e-04   7.3e-17   3.3e-08   0.0e+00\n",
      "└ @ SolverTools /home/abel/.julia/packages/SolverTools/Zu4eO/src/bmark/run_solver.jl:82\n",
      "┌ Info:           prob4       2       1      first_order   1.4e-04   6.6e-12   1.1e-05   1.9e-19\n",
      "└ @ SolverTools /home/abel/.julia/packages/SolverTools/Zu4eO/src/bmark/run_solver.jl:82\n",
      "┌ Info:           prob5       2       1      first_order   1.5e-04   1.9e-14   6.6e-07   6.8e-20\n",
      "└ @ SolverTools /home/abel/.julia/packages/SolverTools/Zu4eO/src/bmark/run_solver.jl:82\n"
     ]
    },
    {
     "data": {
      "text/html": [
       "<table class=\"data-frame\"><thead><tr><th></th><th>id</th><th>name</th><th>nvar</th><th>ncon</th><th>nequ</th><th>status</th><th>objective</th><th>elapsed_time</th><th>iter</th></tr><tr><th></th><th>Int64</th><th>String</th><th>Int64</th><th>Int64</th><th>Int64</th><th>Symbol</th><th>Float64</th><th>Float64</th><th>Int64</th></tr></thead><tbody><p>5 rows × 31 columns (omitted printing of 22 columns)</p><tr><th>1</th><td>1</td><td>prob1</td><td>2</td><td>1</td><td>0</td><td>first_order</td><td>4.65579e-16</td><td>0.000213861</td><td>6</td></tr><tr><th>2</th><td>2</td><td>prob2</td><td>2</td><td>1</td><td>0</td><td>first_order</td><td>1.38988e-12</td><td>0.00019908</td><td>7</td></tr><tr><th>3</th><td>3</td><td>prob3</td><td>2</td><td>1</td><td>0</td><td>first_order</td><td>7.27943e-17</td><td>0.000164986</td><td>9</td></tr><tr><th>4</th><td>4</td><td>prob4</td><td>2</td><td>1</td><td>0</td><td>first_order</td><td>6.5658e-12</td><td>0.000142097</td><td>9</td></tr><tr><th>5</th><td>5</td><td>prob5</td><td>2</td><td>1</td><td>0</td><td>first_order</td><td>1.9076e-14</td><td>0.000154972</td><td>10</td></tr></tbody></table>"
      ],
      "text/latex": [
       "\\begin{tabular}{r|cccccccccc}\n",
       "\t& id & name & nvar & ncon & nequ & status & objective & elapsed\\_time & iter & \\\\\n",
       "\t\\hline\n",
       "\t& Int64 & String & Int64 & Int64 & Int64 & Symbol & Float64 & Float64 & Int64 & \\\\\n",
       "\t\\hline\n",
       "\t1 & 1 & prob1 & 2 & 1 & 0 & first\\_order & 4.65579e-16 & 0.000213861 & 6 & $\\dots$ \\\\\n",
       "\t2 & 2 & prob2 & 2 & 1 & 0 & first\\_order & 1.38988e-12 & 0.00019908 & 7 & $\\dots$ \\\\\n",
       "\t3 & 3 & prob3 & 2 & 1 & 0 & first\\_order & 7.27943e-17 & 0.000164986 & 9 & $\\dots$ \\\\\n",
       "\t4 & 4 & prob4 & 2 & 1 & 0 & first\\_order & 6.5658e-12 & 0.000142097 & 9 & $\\dots$ \\\\\n",
       "\t5 & 5 & prob5 & 2 & 1 & 0 & first\\_order & 1.9076e-14 & 0.000154972 & 10 & $\\dots$ \\\\\n",
       "\\end{tabular}\n"
      ],
      "text/plain": [
       "5×31 DataFrames.DataFrame. Omitted printing of 24 columns\n",
       "│ Row │ id    │ name   │ nvar  │ ncon  │ nequ  │ status      │ objective   │\n",
       "│     │ \u001b[90mInt64\u001b[39m │ \u001b[90mString\u001b[39m │ \u001b[90mInt64\u001b[39m │ \u001b[90mInt64\u001b[39m │ \u001b[90mInt64\u001b[39m │ \u001b[90mSymbol\u001b[39m      │ \u001b[90mFloat64\u001b[39m     │\n",
       "├─────┼───────┼────────┼───────┼───────┼───────┼─────────────┼─────────────┤\n",
       "│ 1   │ 1     │ prob1  │ 2     │ 1     │ 0     │ first_order │ 4.65579e-16 │\n",
       "│ 2   │ 2     │ prob2  │ 2     │ 1     │ 0     │ first_order │ 1.38988e-12 │\n",
       "│ 3   │ 3     │ prob3  │ 2     │ 1     │ 0     │ first_order │ 7.27943e-17 │\n",
       "│ 4   │ 4     │ prob4  │ 2     │ 1     │ 0     │ first_order │ 6.5658e-12  │\n",
       "│ 5   │ 5     │ prob5  │ 2     │ 1     │ 0     │ first_order │ 1.9076e-14  │"
      ]
     },
     "execution_count": 26,
     "metadata": {},
     "output_type": "execute_result"
    }
   ],
   "source": [
    "stats = solve_problems(sqp, problems)"
   ]
  },
  {
   "cell_type": "code",
   "execution_count": 27,
   "metadata": {},
   "outputs": [
    {
     "name": "stderr",
     "output_type": "stream",
     "text": [
      "┌ Info: Precompiling SolverBenchmark [581a75fa-a23a-52d0-a590-d6201de2218a]\n",
      "└ @ Base loading.jl:1260\n"
     ]
    }
   ],
   "source": [
    "using SolverBenchmark"
   ]
  },
  {
   "cell_type": "code",
   "execution_count": 28,
   "metadata": {},
   "outputs": [
    {
     "name": "stderr",
     "output_type": "stream",
     "text": [
      "┌ Warning: `haskey(df::AbstractDataFrame, key::Symbol)` is deprecated, use `hasproperty(df, key)` instead.\n",
      "│   caller = #3 at none:0 [inlined]\n",
      "└ @ Core ./none:0\n",
      "┌ Warning: `haskey(df::AbstractDataFrame, key::Symbol)` is deprecated, use `hasproperty(df, key)` instead.\n",
      "│   caller = #3 at none:0 [inlined]\n",
      "└ @ Core ./none:0\n",
      "┌ Warning: `getindex(df::DataFrame, col_ind::ColumnIndex)` is deprecated, use `df[!, col_ind]` instead.\n",
      "│   caller = (::SolverBenchmark.var\"#4#8\"{Dict{Symbol,Function},DataFrames.DataFrame,typeof(MDformat)})(::Symbol) at array.jl:0\n",
      "└ @ SolverBenchmark ./array.jl:0\n",
      "┌ Warning: pretty_table(io, data, header, tf; kwargs...) is deprecated. Please, use pretty_table(io, data, header; tf = tf, kwargs...)\n",
      "└ @ PrettyTables /home/abel/.julia/packages/PrettyTables/BRTPU/src/deprecations.jl:29\n"
     ]
    },
    {
     "name": "stdout",
     "output_type": "stream",
     "text": [
      "|\u001b[0m\u001b[1m  name \u001b[0m|\u001b[0m\u001b[1m      status \u001b[0m|\u001b[0m\u001b[1m objective \u001b[0m|\u001b[0m\u001b[1m elapsed_time \u001b[0m|\u001b[0m\n",
      "|\u001b[0m-------\u001b[0m|\u001b[0m-------------\u001b[0m|\u001b[0m-----------\u001b[0m|\u001b[0m--------------\u001b[0m|\u001b[0m\n",
      "|\u001b[0m prob1 \u001b[0m|\u001b[0m first_order \u001b[0m|\u001b[0m   4.7e-16 \u001b[0m|\u001b[0m      2.1e-04 \u001b[0m|\u001b[0m\n",
      "|\u001b[0m prob2 \u001b[0m|\u001b[0m first_order \u001b[0m|\u001b[0m   1.4e-12 \u001b[0m|\u001b[0m      2.0e-04 \u001b[0m|\u001b[0m\n",
      "|\u001b[0m prob3 \u001b[0m|\u001b[0m first_order \u001b[0m|\u001b[0m   7.3e-17 \u001b[0m|\u001b[0m      1.6e-04 \u001b[0m|\u001b[0m\n",
      "|\u001b[0m prob4 \u001b[0m|\u001b[0m first_order \u001b[0m|\u001b[0m   6.6e-12 \u001b[0m|\u001b[0m      1.4e-04 \u001b[0m|\u001b[0m\n",
      "|\u001b[0m prob5 \u001b[0m|\u001b[0m first_order \u001b[0m|\u001b[0m   1.9e-14 \u001b[0m|\u001b[0m      1.5e-04 \u001b[0m|\u001b[0m\n"
     ]
    }
   ],
   "source": [
    "markdown_table(stdout, stats, cols=[:name, :status, :objective, :elapsed_time])"
   ]
  },
  {
   "cell_type": "markdown",
   "metadata": {},
   "source": [
    "|  name |      status | objective | elapsed_time |\n",
    "|-------|-------------|-----------|--------------|\n",
    "| prob1 | first_order |   4.7e-16 |      1.7e-04 |\n",
    "| prob2 | first_order |   1.4e-12 |      1.4e-04 |\n",
    "| prob3 | first_order |   7.3e-17 |      1.5e-04 |\n",
    "| prob4 | first_order |   6.6e-12 |      1.5e-04 |\n",
    "| prob5 | first_order |   1.9e-14 |      1.6e-04 |\n"
   ]
  },
  {
   "cell_type": "code",
   "execution_count": 29,
   "metadata": {},
   "outputs": [
    {
     "name": "stderr",
     "output_type": "stream",
     "text": [
      "┌ Warning: `getindex(df::DataFrame, col_ind::ColumnIndex)` is deprecated, use `df[!, col_ind]` instead.\n",
      "│   caller = (::SolverBenchmark.var\"#4#8\"{Dict{Symbol,Function},DataFrames.DataFrame,typeof(LTXformat)})(::Symbol) at array.jl:0\n",
      "└ @ SolverBenchmark ./array.jl:0\n"
     ]
    },
    {
     "name": "stdout",
     "output_type": "stream",
     "text": [
      "\\begin{longtable}[c]{lrrr}\n",
      "\\hline \n",
      "name & status & objective & elapsed\\_time \\\\\n",
      "\\hline \n",
      "\\endfirsthead\n",
      "\\multicolumn{4}{l}\n",
      "{{\\bfseries \\tablename\\ \\thetable{} --- continued from previous page}} \\\\\n",
      "\\hline \n",
      "name & status & objective & elapsed\\_time \\\\\n",
      "\\hline \n",
      "\\endhead\n",
      "\\hline \n",
      "\\multicolumn{4}{r}{{\\bfseries Continued on next page}} \\\\\n",
      "\\hline \n",
      "\\endfoot\n",
      "\\hline \n",
      "\\endlastfoot\n",
      "prob1 & first\\_order & \\( 4.7\\)e\\(-16\\) & \\( 2.1\\)e\\(-04\\) \\\\\n",
      "prob2 & first\\_order & \\( 1.4\\)e\\(-12\\) & \\( 2.0\\)e\\(-04\\) \\\\\n",
      "prob3 & first\\_order & \\( 7.3\\)e\\(-17\\) & \\( 1.6\\)e\\(-04\\) \\\\\n",
      "prob4 & first\\_order & \\( 6.6\\)e\\(-12\\) & \\( 1.4\\)e\\(-04\\) \\\\\n",
      "prob5 & first\\_order & \\( 1.9\\)e\\(-14\\) & \\( 1.5\\)e\\(-04\\) \\\\\n",
      "\\hline \n",
      "\\end{longtable}\n"
     ]
    }
   ],
   "source": [
    "latex_table(stdout, stats, cols=[:name, :status, :objective, :elapsed_time])"
   ]
  },
  {
   "cell_type": "code",
   "execution_count": 30,
   "metadata": {},
   "outputs": [
    {
     "name": "stderr",
     "output_type": "stream",
     "text": [
      "┌ Info: Precompiling NLPModelsIpopt [f4238b75-b362-5c4c-b852-0801c9a21d71]\n",
      "└ @ Base loading.jl:1260\n"
     ]
    }
   ],
   "source": [
    "using NLPModelsIpopt"
   ]
  },
  {
   "cell_type": "code",
   "execution_count": 31,
   "metadata": {},
   "outputs": [
    {
     "name": "stdout",
     "output_type": "stream",
     "text": [
      "\n",
      "******************************************************************************\n",
      "This program contains Ipopt, a library for large-scale nonlinear optimization.\n",
      " Ipopt is released as open source code under the Eclipse Public License (EPL).\n",
      "         For more information visit http://projects.coin-or.org/Ipopt\n",
      "******************************************************************************\n",
      "\n",
      "This is Ipopt version 3.12.10, running with linear solver mumps.\n",
      "NOTE: Other linear solvers might be more efficient (see Ipopt documentation).\n",
      "\n",
      "Number of nonzeros in equality constraint Jacobian...:        2\n",
      "Number of nonzeros in inequality constraint Jacobian.:        0\n",
      "Number of nonzeros in Lagrangian Hessian.............:        3\n",
      "\n",
      "Total number of variables............................:        2\n",
      "                     variables with only lower bounds:        0\n",
      "                variables with lower and upper bounds:        0\n",
      "                     variables with only upper bounds:        0\n",
      "Total number of equality constraints.................:        1\n",
      "Total number of inequality constraints...............:        0\n",
      "        inequality constraints with only lower bounds:        0\n",
      "   inequality constraints with lower and upper bounds:        0\n",
      "        inequality constraints with only upper bounds:        0\n",
      "\n",
      "iter    objective    inf_pr   inf_du lg(mu)  ||d||  lg(rg) alpha_du alpha_pr  ls\n",
      "   0  1.0000000e+00 1.00e+00 2.00e+00  -1.0 0.00e+00    -  0.00e+00 0.00e+00   0\n",
      "   1  1.0000000e+02 0.00e+00 3.56e+08  -1.0 1.00e+00    -  1.00e+00 1.00e+00h  1\n",
      "   2  9.9999996e+01 4.44e-16 2.00e+02  -1.0 2.07e-08  10.0 1.00e+00 1.00e+00f  1\n",
      "   3  9.9999984e+01 3.55e-15 2.00e+02  -1.0 6.00e-08   9.5 1.00e+00 1.00e+00f  1\n",
      "   4  9.9999948e+01 3.24e-14 2.00e+02  -1.0 1.80e-07   9.0 1.00e+00 1.00e+00f  1\n",
      "   5  9.9999840e+01 2.92e-13 2.00e+02  -1.0 5.40e-07   8.6 1.00e+00 1.00e+00f  1\n",
      "   6  9.9999516e+01 2.62e-12 2.00e+02  -1.0 1.62e-06   8.1 1.00e+00 1.00e+00f  1\n",
      "   7  9.9998544e+01 2.36e-11 2.00e+02  -1.0 4.86e-06   7.6 1.00e+00 1.00e+00f  1\n",
      "   8  9.9995628e+01 2.13e-10 2.00e+02  -1.0 1.46e-05   7.1 1.00e+00 1.00e+00f  1\n",
      "   9  9.9986879e+01 1.91e-09 2.00e+02  -1.0 4.37e-05   6.7 1.00e+00 1.00e+00f  1\n",
      "iter    objective    inf_pr   inf_du lg(mu)  ||d||  lg(rg) alpha_du alpha_pr  ls\n",
      "  10  9.9960630e+01 1.72e-08 2.00e+02  -1.0 1.31e-04   6.2 1.00e+00 1.00e+00f  1\n",
      "  11  9.9881848e+01 1.55e-07 2.00e+02  -1.0 3.94e-04   5.7 1.00e+00 1.00e+00f  1\n",
      "  12  9.9645204e+01 1.40e-06 2.00e+02  -1.0 1.18e-03   5.2 1.00e+00 1.00e+00f  1\n",
      "  13  9.8932614e+01 1.27e-05 2.01e+02  -1.0 3.56e-03   4.8 1.00e+00 1.00e+00f  1\n",
      "  14  9.6771641e+01 1.17e-04 2.03e+02  -1.0 1.08e-02   4.3 1.00e+00 1.00e+00f  1\n",
      "  15  9.0101279e+01 1.11e-03 2.08e+02  -1.0 3.33e-02   3.8 1.00e+00 1.00e+00f  1\n",
      "  16  6.9127899e+01 1.13e-02 2.16e+02  -1.0 1.06e-01   3.3 1.00e+00 1.00e+00f  1\n",
      "  17  1.0217760e+00 3.35e-01 3.77e+01  -1.0 9.00e+00    -  1.00e+00 6.25e-02f  5\n",
      "  18  7.8931142e-02 2.12e-02 5.03e+00  -1.0 1.06e-01    -  1.00e+00 1.00e+00f  1\n",
      "  19  4.5664439e-02 1.55e-04 1.25e-01  -1.0 1.24e-02    -  1.00e+00 1.00e+00h  1\n",
      "iter    objective    inf_pr   inf_du lg(mu)  ||d||  lg(rg) alpha_du alpha_pr  ls\n",
      "  20  4.5674806e-02 2.51e-08 2.99e-05  -2.5 1.46e-04    -  1.00e+00 1.00e+00h  1\n",
      "  21  4.5674809e-02 1.33e-15 1.46e-12  -5.7 3.09e-08    -  1.00e+00 1.00e+00h  1\n",
      "\n",
      "Number of Iterations....: 21\n",
      "\n",
      "                                   (scaled)                 (unscaled)\n",
      "Objective...............:   4.5674808719500054e-02    4.5674808719500054e-02\n",
      "Dual infeasibility......:   1.4624135236118718e-12    1.4624135236118718e-12\n",
      "Constraint violation....:   1.3322676295501878e-15    1.3322676295501878e-15\n",
      "Complementarity.........:   0.0000000000000000e+00    0.0000000000000000e+00\n",
      "Overall NLP error.......:   1.4624135236118718e-12    1.4624135236118718e-12\n",
      "\n",
      "\n",
      "Number of objective function evaluations             = 26\n",
      "Number of objective gradient evaluations             = 22\n",
      "Number of equality constraint evaluations            = 27\n",
      "Number of inequality constraint evaluations          = 0\n",
      "Number of equality constraint Jacobian evaluations   = 22\n",
      "Number of inequality constraint Jacobian evaluations = 0\n",
      "Number of Lagrangian Hessian evaluations             = 21\n",
      "Total CPU secs in IPOPT (w/o function evaluations)   =      1.026\n",
      "Total CPU secs in NLP function evaluations           =      0.576\n",
      "\n",
      "EXIT: Optimal Solution Found.\n"
     ]
    },
    {
     "data": {
      "text/plain": [
       "\"Execution stats: first-order stationary\""
      ]
     },
     "execution_count": 31,
     "metadata": {},
     "output_type": "execute_result"
    }
   ],
   "source": [
    "output = ipopt(nlp)"
   ]
  },
  {
   "cell_type": "code",
   "execution_count": 32,
   "metadata": {},
   "outputs": [
    {
     "name": "stdout",
     "output_type": "stream",
     "text": [
      "Generic Execution stats\n",
      "  status: \"first-order stationary\"\n",
      "  objective value: 0.045674808719500054\n",
      "  primal feasibility: 1.3322676295501878e-15\n",
      "  dual feasibility: 1.4624135236118718e-12\n",
      "  solution: [0.7864151541684294  0.6176983125233926]\n",
      "  iterations: 21\n",
      "  elapsed time: 1.6019999999999999\n",
      "  solver specific:\n",
      "    multipliers_U: [0.0  0.0]\n",
      "    multipliers_L: [0.0  0.0]\n",
      "    multipliers_con: [0.1214965569995277]\n",
      "    internal_msg: :Solve_Succeeded\n"
     ]
    }
   ],
   "source": [
    "print(output)"
   ]
  },
  {
   "cell_type": "code",
   "execution_count": 33,
   "metadata": {},
   "outputs": [
    {
     "name": "stdout",
     "output_type": "stream",
     "text": [
      "This is Ipopt version 3.12.10, running with linear solver mumps.\n",
      "NOTE: Other linear solvers might be more efficient (see Ipopt documentation).\n",
      "\n",
      "Number of nonzeros in equality constraint Jacobian...:        2\n",
      "Number of nonzeros in inequality constraint Jacobian.:        0\n",
      "Number of nonzeros in Lagrangian Hessian.............:        3\n",
      "\n",
      "Total number of variables............................:        2\n",
      "                     variables with only lower bounds:        0\n",
      "                variables with lower and upper bounds:        0\n",
      "                     variables with only upper bounds:        0\n",
      "Total number of equality constraints.................:        1\n",
      "Total number of inequality constraints...............:        0\n",
      "        inequality constraints with only lower bounds:        0\n",
      "   inequality constraints with lower and upper bounds:        0\n",
      "        inequality constraints with only upper bounds:        0\n",
      "\n",
      "iter    objective    inf_pr   inf_du lg(mu)  ||d||  lg(rg) alpha_du alpha_pr  ls\n",
      "   0  0.0000000e+00 0.00e+00 0.00e+00  -1.0 0.00e+00    -  0.00e+00 0.00e+00   0\n",
      "\n",
      "Number of Iterations....: 0\n",
      "\n",
      "                                   (scaled)                 (unscaled)\n",
      "Objective...............:   0.0000000000000000e+00    0.0000000000000000e+00\n",
      "Dual infeasibility......:   0.0000000000000000e+00    0.0000000000000000e+00\n",
      "Constraint violation....:   0.0000000000000000e+00    0.0000000000000000e+00\n",
      "Complementarity.........:   0.0000000000000000e+00    0.0000000000000000e+00\n",
      "Overall NLP error.......:   0.0000000000000000e+00    0.0000000000000000e+00\n",
      "\n",
      "\n",
      "Number of objective function evaluations             = 1\n",
      "Number of objective gradient evaluations             = 1\n",
      "Number of equality constraint evaluations            = 1\n",
      "Number of inequality constraint evaluations          = 0\n",
      "Number of equality constraint Jacobian evaluations   = 1\n",
      "Number of inequality constraint Jacobian evaluations = 0\n",
      "Number of Lagrangian Hessian evaluations             = 0\n",
      "Total CPU secs in IPOPT (w/o function evaluations)   =      0.001\n",
      "Total CPU secs in NLP function evaluations           =      0.000\n",
      "\n",
      "EXIT: Optimal Solution Found.\n"
     ]
    },
    {
     "name": "stderr",
     "output_type": "stream",
     "text": [
      "┌ Info:            Name    nvar    ncon           status      Time      f(x)      Dual    Primal  \n",
      "└ @ SolverTools /home/abel/.julia/packages/SolverTools/Zu4eO/src/bmark/run_solver.jl:66\n",
      "┌ Info:           prob1       2       1      first_order   1.0e-03   0.0e+00   0.0e+00   0.0e+00\n",
      "└ @ SolverTools /home/abel/.julia/packages/SolverTools/Zu4eO/src/bmark/run_solver.jl:82\n"
     ]
    },
    {
     "name": "stdout",
     "output_type": "stream",
     "text": [
      "This is Ipopt version 3.12.10, running with linear solver mumps.\n",
      "NOTE: Other linear solvers might be more efficient (see Ipopt documentation).\n",
      "\n",
      "Number of nonzeros in equality constraint Jacobian...:        2\n",
      "Number of nonzeros in inequality constraint Jacobian.:        0\n",
      "Number of nonzeros in Lagrangian Hessian.............:        3\n",
      "\n",
      "Total number of variables............................:        2\n",
      "                     variables with only lower bounds:        0\n",
      "                variables with lower and upper bounds:        0\n",
      "                     variables with only upper bounds:        0\n",
      "Total number of equality constraints.................:        1\n",
      "Total number of inequality constraints...............:        0\n",
      "        inequality constraints with only lower bounds:        0\n",
      "   inequality constraints with lower and upper bounds:        0\n",
      "        inequality constraints with only upper bounds:        0\n",
      "\n",
      "iter    objective    inf_pr   inf_du lg(mu)  ||d||  lg(rg) alpha_du alpha_pr  ls\n",
      "   0  0.0000000e+00 0.00e+00 0.00e+00  -1.0 0.00e+00    -  0.00e+00 0.00e+00   0\n",
      "\n",
      "Number of Iterations....: 0\n",
      "\n",
      "                                   (scaled)                 (unscaled)\n",
      "Objective...............:   0.0000000000000000e+00    0.0000000000000000e+00\n",
      "Dual infeasibility......:   0.0000000000000000e+00    0.0000000000000000e+00\n",
      "Constraint violation....:   0.0000000000000000e+00    0.0000000000000000e+00\n",
      "Complementarity.........:   0.0000000000000000e+00    0.0000000000000000e+00\n",
      "Overall NLP error.......:   0.0000000000000000e+00    0.0000000000000000e+00\n",
      "\n",
      "\n",
      "Number of objective function evaluations             = 1\n",
      "Number of objective gradient evaluations             = 1\n",
      "Number of equality constraint evaluations            = 1\n",
      "Number of inequality constraint evaluations          = 0\n",
      "Number of equality constraint Jacobian evaluations   = 1\n",
      "Number of inequality constraint Jacobian evaluations = 0\n",
      "Number of Lagrangian Hessian evaluations             = 0\n",
      "Total CPU secs in IPOPT (w/o function evaluations)   =      0.000\n",
      "Total CPU secs in NLP function evaluations           =      0.000\n",
      "\n",
      "EXIT: Optimal Solution Found.\n",
      "This is Ipopt version 3.12.10, running with linear solver mumps.\n",
      "NOTE: Other linear solvers might be more efficient (see Ipopt documentation).\n",
      "\n",
      "Number of nonzeros in equality constraint Jacobian...:        2\n",
      "Number of nonzeros in inequality constraint Jacobian.:        0\n",
      "Number of nonzeros in Lagrangian Hessian.............:        3\n",
      "\n",
      "Total number of variables............................:        2\n",
      "                     variables with only lower bounds:        0\n",
      "                variables with lower and upper bounds:        0\n",
      "                     variables with only upper bounds:        0\n",
      "Total number of equality constraints.................:        1\n",
      "Total number of inequality constraints...............:        0\n",
      "        inequality constraints with only lower bounds:        0\n",
      "   inequality constraints with lower and upper bounds:        0\n",
      "        inequality constraints with only upper bounds:        0\n",
      "\n",
      "iter    objective    inf_pr   inf_du lg(mu)  ||d||  lg(rg) alpha_du alpha_pr  ls\n",
      "   0  0.0000000e+00 0.00e+00 0.00e+00  -1.0 0.00e+00    -  0.00e+00 0.00e+00   0\n",
      "\n",
      "Number of Iterations....: 0\n",
      "\n",
      "                                   (scaled)                 (unscaled)\n",
      "Objective...............:   0.0000000000000000e+00    0.0000000000000000e+00\n",
      "Dual infeasibility......:   0.0000000000000000e+00    0.0000000000000000e+00\n",
      "Constraint violation....:   0.0000000000000000e+00    0.0000000000000000e+00\n",
      "Complementarity.........:   0.0000000000000000e+00    0.0000000000000000e+00\n",
      "Overall NLP error.......:   0.0000000000000000e+00    0.0000000000000000e+00\n",
      "\n",
      "\n",
      "Number of objective function evaluations             = 1\n",
      "Number of objective gradient evaluations             = 1\n",
      "Number of equality constraint evaluations            = 1\n",
      "Number of inequality constraint evaluations          = 0\n",
      "Number of equality constraint Jacobian evaluations   = 1\n",
      "Number of inequality constraint Jacobian evaluations = 0\n",
      "Number of Lagrangian Hessian evaluations             = 0\n",
      "Total CPU secs in IPOPT (w/o function evaluations)   =      0.000\n",
      "Total CPU secs in NLP function evaluations           =      0.000\n",
      "\n",
      "EXIT: Optimal Solution Found.\n",
      "This is Ipopt version 3.12.10, running with linear solver mumps.\n",
      "NOTE: Other linear solvers might be more efficient (see Ipopt documentation).\n",
      "\n",
      "Number of nonzeros in equality constraint Jacobian...:        2\n",
      "Number of nonzeros in inequality constraint Jacobian.:        0\n",
      "Number of nonzeros in Lagrangian Hessian.............:        3\n",
      "\n",
      "Total number of variables............................:        2\n",
      "                     variables with only lower bounds:        0\n",
      "                variables with lower and upper bounds:        0\n",
      "                     variables with only upper bounds:        0\n",
      "Total number of equality constraints.................:        1\n",
      "Total number of inequality constraints...............:        0\n",
      "        inequality constraints with only lower bounds:        0\n",
      "   inequality constraints with lower and upper bounds:        0\n",
      "        inequality constraints with only upper bounds:        0\n",
      "\n",
      "iter    objective    inf_pr   inf_du lg(mu)  ||d||  lg(rg) alpha_du alpha_pr  ls\n",
      "   0  0.0000000e+00 0.00e+00 0.00e+00  -1.0 0.00e+00    -  0.00e+00 0.00e+00   0\n",
      "\n",
      "Number of Iterations....: 0\n",
      "\n",
      "                                   (scaled)                 (unscaled)\n",
      "Objective...............:   0.0000000000000000e+00    0.0000000000000000e+00\n",
      "Dual infeasibility......:   0.0000000000000000e+00    0.0000000000000000e+00\n",
      "Constraint violation....:   0.0000000000000000e+00    0.0000000000000000e+00\n",
      "Complementarity.........:   0.0000000000000000e+00    0.0000000000000000e+00\n",
      "Overall NLP error.......:   0.0000000000000000e+00    0.0000000000000000e+00\n",
      "\n",
      "\n",
      "Number of objective function evaluations             = 1\n",
      "Number of objective gradient evaluations             = 1\n",
      "Number of equality constraint evaluations            = 1\n",
      "Number of inequality constraint evaluations          = 0\n",
      "Number of equality constraint Jacobian evaluations   = 1\n",
      "Number of inequality constraint Jacobian evaluations = 0\n",
      "Number of Lagrangian Hessian evaluations             = 0\n",
      "Total CPU secs in IPOPT (w/o function evaluations)   =      0.001\n",
      "Total CPU secs in NLP function evaluations           =      0.000\n",
      "\n",
      "EXIT: Optimal Solution Found.\n",
      "This is Ipopt version 3.12.10, running with linear solver mumps.\n",
      "NOTE: Other linear solvers might be more efficient (see Ipopt documentation).\n",
      "\n",
      "Number of nonzeros in equality constraint Jacobian...:        2\n",
      "Number of nonzeros in inequality constraint Jacobian.:        0\n",
      "Number of nonzeros in Lagrangian Hessian.............:        3\n",
      "\n",
      "Total number of variables............................:        2\n",
      "                     variables with only lower bounds:        0\n",
      "                variables with lower and upper bounds:        0\n",
      "                     variables with only upper bounds:        0\n",
      "Total number of equality constraints.................:        1\n",
      "Total number of inequality constraints...............:        0\n",
      "        inequality constraints with only lower bounds:        0\n",
      "   inequality constraints with lower and upper bounds:        0\n",
      "        inequality constraints with only upper bounds:        0\n",
      "\n",
      "iter    objective    inf_pr   inf_du lg(mu)  ||d||  lg(rg) alpha_du alpha_pr  ls\n",
      "   0  0.0000000e+00 0.00e+00 0.00e+00  -1.0 0.00e+00    -  0.00e+00 0.00e+00   0\n",
      "\n",
      "Number of Iterations....: 0\n",
      "\n",
      "                                   (scaled)                 (unscaled)\n",
      "Objective...............:   0.0000000000000000e+00    0.0000000000000000e+00\n",
      "Dual infeasibility......:   0.0000000000000000e+00    0.0000000000000000e+00\n",
      "Constraint violation....:   0.0000000000000000e+00    0.0000000000000000e+00\n",
      "Complementarity.........:   0.0000000000000000e+00    0.0000000000000000e+00\n",
      "Overall NLP error.......:   0.0000000000000000e+00    0.0000000000000000e+00\n",
      "\n",
      "\n",
      "Number of objective function evaluations             = 1\n",
      "Number of objective gradient evaluations             = 1\n",
      "Number of equality constraint evaluations            = 1\n",
      "Number of inequality constraint evaluations          = 0\n",
      "Number of equality constraint Jacobian evaluations   = 1\n",
      "Number of inequality constraint Jacobian evaluations = 0\n",
      "Number of Lagrangian Hessian evaluations             = 0\n",
      "Total CPU secs in IPOPT (w/o function evaluations)   =      0.000\n",
      "Total CPU secs in NLP function evaluations           =      0.000\n",
      "\n",
      "EXIT: Optimal Solution Found.\n"
     ]
    },
    {
     "name": "stderr",
     "output_type": "stream",
     "text": [
      "┌ Info:           prob2       2       1      first_order   0.0e+00   0.0e+00   0.0e+00   0.0e+00\n",
      "└ @ SolverTools /home/abel/.julia/packages/SolverTools/Zu4eO/src/bmark/run_solver.jl:82\n",
      "┌ Info:           prob3       2       1      first_order   0.0e+00   0.0e+00   0.0e+00   0.0e+00\n",
      "└ @ SolverTools /home/abel/.julia/packages/SolverTools/Zu4eO/src/bmark/run_solver.jl:82\n",
      "┌ Info:           prob4       2       1      first_order   1.0e-03   0.0e+00   0.0e+00   0.0e+00\n",
      "└ @ SolverTools /home/abel/.julia/packages/SolverTools/Zu4eO/src/bmark/run_solver.jl:82\n",
      "┌ Info:           prob5       2       1      first_order   0.0e+00   0.0e+00   0.0e+00   0.0e+00\n",
      "└ @ SolverTools /home/abel/.julia/packages/SolverTools/Zu4eO/src/bmark/run_solver.jl:82\n"
     ]
    },
    {
     "data": {
      "text/html": [
       "<table class=\"data-frame\"><thead><tr><th></th><th>id</th><th>name</th><th>nvar</th><th>ncon</th><th>nequ</th><th>status</th><th>objective</th><th>elapsed_time</th><th>iter</th></tr><tr><th></th><th>Int64</th><th>String</th><th>Int64</th><th>Int64</th><th>Int64</th><th>Symbol</th><th>Float64</th><th>Float64</th><th>Int64</th></tr></thead><tbody><p>5 rows × 34 columns (omitted printing of 25 columns)</p><tr><th>1</th><td>1</td><td>prob1</td><td>2</td><td>1</td><td>0</td><td>first_order</td><td>0.0</td><td>0.001</td><td>0</td></tr><tr><th>2</th><td>2</td><td>prob2</td><td>2</td><td>1</td><td>0</td><td>first_order</td><td>0.0</td><td>0.0</td><td>0</td></tr><tr><th>3</th><td>3</td><td>prob3</td><td>2</td><td>1</td><td>0</td><td>first_order</td><td>0.0</td><td>0.0</td><td>0</td></tr><tr><th>4</th><td>4</td><td>prob4</td><td>2</td><td>1</td><td>0</td><td>first_order</td><td>0.0</td><td>0.001</td><td>0</td></tr><tr><th>5</th><td>5</td><td>prob5</td><td>2</td><td>1</td><td>0</td><td>first_order</td><td>0.0</td><td>0.0</td><td>0</td></tr></tbody></table>"
      ],
      "text/latex": [
       "\\begin{tabular}{r|cccccccccc}\n",
       "\t& id & name & nvar & ncon & nequ & status & objective & elapsed\\_time & iter & \\\\\n",
       "\t\\hline\n",
       "\t& Int64 & String & Int64 & Int64 & Int64 & Symbol & Float64 & Float64 & Int64 & \\\\\n",
       "\t\\hline\n",
       "\t1 & 1 & prob1 & 2 & 1 & 0 & first\\_order & 0.0 & 0.001 & 0 & $\\dots$ \\\\\n",
       "\t2 & 2 & prob2 & 2 & 1 & 0 & first\\_order & 0.0 & 0.0 & 0 & $\\dots$ \\\\\n",
       "\t3 & 3 & prob3 & 2 & 1 & 0 & first\\_order & 0.0 & 0.0 & 0 & $\\dots$ \\\\\n",
       "\t4 & 4 & prob4 & 2 & 1 & 0 & first\\_order & 0.0 & 0.001 & 0 & $\\dots$ \\\\\n",
       "\t5 & 5 & prob5 & 2 & 1 & 0 & first\\_order & 0.0 & 0.0 & 0 & $\\dots$ \\\\\n",
       "\\end{tabular}\n"
      ],
      "text/plain": [
       "5×34 DataFrames.DataFrame. Omitted printing of 27 columns\n",
       "│ Row │ id    │ name   │ nvar  │ ncon  │ nequ  │ status      │ objective │\n",
       "│     │ \u001b[90mInt64\u001b[39m │ \u001b[90mString\u001b[39m │ \u001b[90mInt64\u001b[39m │ \u001b[90mInt64\u001b[39m │ \u001b[90mInt64\u001b[39m │ \u001b[90mSymbol\u001b[39m      │ \u001b[90mFloat64\u001b[39m   │\n",
       "├─────┼───────┼────────┼───────┼───────┼───────┼─────────────┼───────────┤\n",
       "│ 1   │ 1     │ prob1  │ 2     │ 1     │ 0     │ first_order │ 0.0       │\n",
       "│ 2   │ 2     │ prob2  │ 2     │ 1     │ 0     │ first_order │ 0.0       │\n",
       "│ 3   │ 3     │ prob3  │ 2     │ 1     │ 0     │ first_order │ 0.0       │\n",
       "│ 4   │ 4     │ prob4  │ 2     │ 1     │ 0     │ first_order │ 0.0       │\n",
       "│ 5   │ 5     │ prob5  │ 2     │ 1     │ 0     │ first_order │ 0.0       │"
      ]
     },
     "execution_count": 33,
     "metadata": {},
     "output_type": "execute_result"
    }
   ],
   "source": [
    "solve_problems(ipopt, problems)"
   ]
  },
  {
   "cell_type": "code",
   "execution_count": 35,
   "metadata": {},
   "outputs": [
    {
     "data": {
      "text/plain": [
       "Dict{Symbol,Function} with 2 entries:\n",
       "  :IPOPT => #22\n",
       "  :SQP   => sqp"
      ]
     },
     "execution_count": 35,
     "metadata": {},
     "output_type": "execute_result"
    }
   ],
   "source": [
    "solvers = Dict(\n",
    "    :SQP => sqp,\n",
    "    :IPOPT => (nlp; kwargs...) -> ipopt(nlp, print_level=0; kwargs...)\n",
    ")"
   ]
  },
  {
   "cell_type": "code",
   "execution_count": 36,
   "metadata": {},
   "outputs": [
    {
     "name": "stderr",
     "output_type": "stream",
     "text": [
      "┌ Info:            Name    nvar    ncon           status      Time      f(x)      Dual    Primal  \n",
      "└ @ SolverTools /home/abel/.julia/packages/SolverTools/Zu4eO/src/bmark/run_solver.jl:66\n",
      "┌ Info:           prob1       2       1      first_order   1.0e-03   0.0e+00   0.0e+00   0.0e+00\n",
      "└ @ SolverTools /home/abel/.julia/packages/SolverTools/Zu4eO/src/bmark/run_solver.jl:82\n",
      "┌ Info:           prob2       2       1      first_order   0.0e+00   0.0e+00   0.0e+00   0.0e+00\n",
      "└ @ SolverTools /home/abel/.julia/packages/SolverTools/Zu4eO/src/bmark/run_solver.jl:82\n",
      "┌ Info:           prob3       2       1      first_order   0.0e+00   0.0e+00   0.0e+00   0.0e+00\n",
      "└ @ SolverTools /home/abel/.julia/packages/SolverTools/Zu4eO/src/bmark/run_solver.jl:82\n",
      "┌ Info:           prob4       2       1      first_order   0.0e+00   0.0e+00   0.0e+00   0.0e+00\n",
      "└ @ SolverTools /home/abel/.julia/packages/SolverTools/Zu4eO/src/bmark/run_solver.jl:82\n",
      "┌ Info:           prob5       2       1      first_order   0.0e+00   0.0e+00   0.0e+00   0.0e+00\n",
      "└ @ SolverTools /home/abel/.julia/packages/SolverTools/Zu4eO/src/bmark/run_solver.jl:82\n",
      "┌ Info:            Name    nvar    ncon           status      Time      f(x)      Dual    Primal  \n",
      "└ @ SolverTools /home/abel/.julia/packages/SolverTools/Zu4eO/src/bmark/run_solver.jl:66\n",
      "┌ Info:           prob1       2       1      first_order   3.2e-02   4.7e-16   7.0e-08   2.7e-20\n",
      "└ @ SolverTools /home/abel/.julia/packages/SolverTools/Zu4eO/src/bmark/run_solver.jl:82\n",
      "┌ Info:           prob2       2       1      first_order   3.1e-04   1.4e-12   4.1e-06   8.1e-20\n",
      "└ @ SolverTools /home/abel/.julia/packages/SolverTools/Zu4eO/src/bmark/run_solver.jl:82\n",
      "┌ Info:           prob3       2       1      first_order   2.1e-04   7.3e-17   3.3e-08   0.0e+00\n",
      "└ @ SolverTools /home/abel/.julia/packages/SolverTools/Zu4eO/src/bmark/run_solver.jl:82\n",
      "┌ Info:           prob4       2       1      first_order   2.5e-04   6.6e-12   1.1e-05   1.9e-19\n",
      "└ @ SolverTools /home/abel/.julia/packages/SolverTools/Zu4eO/src/bmark/run_solver.jl:82\n",
      "┌ Info:           prob5       2       1      first_order   3.0e-04   1.9e-14   6.6e-07   6.8e-20\n",
      "└ @ SolverTools /home/abel/.julia/packages/SolverTools/Zu4eO/src/bmark/run_solver.jl:82\n"
     ]
    },
    {
     "data": {
      "text/plain": [
       "Dict{Symbol,DataFrames.DataFrame} with 2 entries:\n",
       "  :IPOPT => 5×34 DataFrames.DataFrame. Omitted printing of 27 columns…\n",
       "  :SQP   => 5×31 DataFrames.DataFrame. Omitted printing of 24 columns…"
      ]
     },
     "execution_count": 36,
     "metadata": {},
     "output_type": "execute_result"
    }
   ],
   "source": [
    "df = bmark_solvers(solvers, problems)"
   ]
  },
  {
   "cell_type": "code",
   "execution_count": 37,
   "metadata": {},
   "outputs": [
    {
     "data": {
      "text/html": [
       "<table class=\"data-frame\"><thead><tr><th></th><th>id</th><th>name</th><th>nvar</th><th>ncon</th><th>nequ</th><th>status</th><th>objective</th><th>elapsed_time</th><th>iter</th></tr><tr><th></th><th>Int64</th><th>String</th><th>Int64</th><th>Int64</th><th>Int64</th><th>Symbol</th><th>Float64</th><th>Float64</th><th>Int64</th></tr></thead><tbody><p>5 rows × 31 columns (omitted printing of 22 columns)</p><tr><th>1</th><td>1</td><td>prob1</td><td>2</td><td>1</td><td>0</td><td>first_order</td><td>4.65579e-16</td><td>0.031616</td><td>6</td></tr><tr><th>2</th><td>2</td><td>prob2</td><td>2</td><td>1</td><td>0</td><td>first_order</td><td>1.38988e-12</td><td>0.000313044</td><td>7</td></tr><tr><th>3</th><td>3</td><td>prob3</td><td>2</td><td>1</td><td>0</td><td>first_order</td><td>7.27943e-17</td><td>0.000211954</td><td>9</td></tr><tr><th>4</th><td>4</td><td>prob4</td><td>2</td><td>1</td><td>0</td><td>first_order</td><td>6.5658e-12</td><td>0.000251055</td><td>9</td></tr><tr><th>5</th><td>5</td><td>prob5</td><td>2</td><td>1</td><td>0</td><td>first_order</td><td>1.9076e-14</td><td>0.000301838</td><td>10</td></tr></tbody></table>"
      ],
      "text/latex": [
       "\\begin{tabular}{r|cccccccccc}\n",
       "\t& id & name & nvar & ncon & nequ & status & objective & elapsed\\_time & iter & \\\\\n",
       "\t\\hline\n",
       "\t& Int64 & String & Int64 & Int64 & Int64 & Symbol & Float64 & Float64 & Int64 & \\\\\n",
       "\t\\hline\n",
       "\t1 & 1 & prob1 & 2 & 1 & 0 & first\\_order & 4.65579e-16 & 0.031616 & 6 & $\\dots$ \\\\\n",
       "\t2 & 2 & prob2 & 2 & 1 & 0 & first\\_order & 1.38988e-12 & 0.000313044 & 7 & $\\dots$ \\\\\n",
       "\t3 & 3 & prob3 & 2 & 1 & 0 & first\\_order & 7.27943e-17 & 0.000211954 & 9 & $\\dots$ \\\\\n",
       "\t4 & 4 & prob4 & 2 & 1 & 0 & first\\_order & 6.5658e-12 & 0.000251055 & 9 & $\\dots$ \\\\\n",
       "\t5 & 5 & prob5 & 2 & 1 & 0 & first\\_order & 1.9076e-14 & 0.000301838 & 10 & $\\dots$ \\\\\n",
       "\\end{tabular}\n"
      ],
      "text/plain": [
       "5×31 DataFrames.DataFrame. Omitted printing of 24 columns\n",
       "│ Row │ id    │ name   │ nvar  │ ncon  │ nequ  │ status      │ objective   │\n",
       "│     │ \u001b[90mInt64\u001b[39m │ \u001b[90mString\u001b[39m │ \u001b[90mInt64\u001b[39m │ \u001b[90mInt64\u001b[39m │ \u001b[90mInt64\u001b[39m │ \u001b[90mSymbol\u001b[39m      │ \u001b[90mFloat64\u001b[39m     │\n",
       "├─────┼───────┼────────┼───────┼───────┼───────┼─────────────┼─────────────┤\n",
       "│ 1   │ 1     │ prob1  │ 2     │ 1     │ 0     │ first_order │ 4.65579e-16 │\n",
       "│ 2   │ 2     │ prob2  │ 2     │ 1     │ 0     │ first_order │ 1.38988e-12 │\n",
       "│ 3   │ 3     │ prob3  │ 2     │ 1     │ 0     │ first_order │ 7.27943e-17 │\n",
       "│ 4   │ 4     │ prob4  │ 2     │ 1     │ 0     │ first_order │ 6.5658e-12  │\n",
       "│ 5   │ 5     │ prob5  │ 2     │ 1     │ 0     │ first_order │ 1.9076e-14  │"
      ]
     },
     "execution_count": 37,
     "metadata": {},
     "output_type": "execute_result"
    }
   ],
   "source": [
    "df[:SQP]"
   ]
  },
  {
   "cell_type": "code",
   "execution_count": 38,
   "metadata": {},
   "outputs": [
    {
     "data": {
      "text/html": [
       "<table class=\"data-frame\"><thead><tr><th></th><th>id</th><th>name</th><th>nvar</th><th>ncon</th><th>nequ</th><th>status</th><th>objective</th><th>elapsed_time</th><th>iter</th></tr><tr><th></th><th>Int64</th><th>String</th><th>Int64</th><th>Int64</th><th>Int64</th><th>Symbol</th><th>Float64</th><th>Float64</th><th>Int64</th></tr></thead><tbody><p>5 rows × 34 columns (omitted printing of 25 columns)</p><tr><th>1</th><td>1</td><td>prob1</td><td>2</td><td>1</td><td>0</td><td>first_order</td><td>0.0</td><td>0.001</td><td>0</td></tr><tr><th>2</th><td>2</td><td>prob2</td><td>2</td><td>1</td><td>0</td><td>first_order</td><td>0.0</td><td>0.0</td><td>0</td></tr><tr><th>3</th><td>3</td><td>prob3</td><td>2</td><td>1</td><td>0</td><td>first_order</td><td>0.0</td><td>0.0</td><td>0</td></tr><tr><th>4</th><td>4</td><td>prob4</td><td>2</td><td>1</td><td>0</td><td>first_order</td><td>0.0</td><td>0.0</td><td>0</td></tr><tr><th>5</th><td>5</td><td>prob5</td><td>2</td><td>1</td><td>0</td><td>first_order</td><td>0.0</td><td>0.0</td><td>0</td></tr></tbody></table>"
      ],
      "text/latex": [
       "\\begin{tabular}{r|cccccccccc}\n",
       "\t& id & name & nvar & ncon & nequ & status & objective & elapsed\\_time & iter & \\\\\n",
       "\t\\hline\n",
       "\t& Int64 & String & Int64 & Int64 & Int64 & Symbol & Float64 & Float64 & Int64 & \\\\\n",
       "\t\\hline\n",
       "\t1 & 1 & prob1 & 2 & 1 & 0 & first\\_order & 0.0 & 0.001 & 0 & $\\dots$ \\\\\n",
       "\t2 & 2 & prob2 & 2 & 1 & 0 & first\\_order & 0.0 & 0.0 & 0 & $\\dots$ \\\\\n",
       "\t3 & 3 & prob3 & 2 & 1 & 0 & first\\_order & 0.0 & 0.0 & 0 & $\\dots$ \\\\\n",
       "\t4 & 4 & prob4 & 2 & 1 & 0 & first\\_order & 0.0 & 0.0 & 0 & $\\dots$ \\\\\n",
       "\t5 & 5 & prob5 & 2 & 1 & 0 & first\\_order & 0.0 & 0.0 & 0 & $\\dots$ \\\\\n",
       "\\end{tabular}\n"
      ],
      "text/plain": [
       "5×34 DataFrames.DataFrame. Omitted printing of 27 columns\n",
       "│ Row │ id    │ name   │ nvar  │ ncon  │ nequ  │ status      │ objective │\n",
       "│     │ \u001b[90mInt64\u001b[39m │ \u001b[90mString\u001b[39m │ \u001b[90mInt64\u001b[39m │ \u001b[90mInt64\u001b[39m │ \u001b[90mInt64\u001b[39m │ \u001b[90mSymbol\u001b[39m      │ \u001b[90mFloat64\u001b[39m   │\n",
       "├─────┼───────┼────────┼───────┼───────┼───────┼─────────────┼───────────┤\n",
       "│ 1   │ 1     │ prob1  │ 2     │ 1     │ 0     │ first_order │ 0.0       │\n",
       "│ 2   │ 2     │ prob2  │ 2     │ 1     │ 0     │ first_order │ 0.0       │\n",
       "│ 3   │ 3     │ prob3  │ 2     │ 1     │ 0     │ first_order │ 0.0       │\n",
       "│ 4   │ 4     │ prob4  │ 2     │ 1     │ 0     │ first_order │ 0.0       │\n",
       "│ 5   │ 5     │ prob5  │ 2     │ 1     │ 0     │ first_order │ 0.0       │"
      ]
     },
     "execution_count": 38,
     "metadata": {},
     "output_type": "execute_result"
    }
   ],
   "source": [
    "df[:IPOPT]"
   ]
  },
  {
   "cell_type": "code",
   "execution_count": 52,
   "metadata": {},
   "outputs": [
    {
     "data": {
      "text/html": [
       "<table class=\"data-frame\"><thead><tr><th></th><th>id</th><th>name</th><th>nvar</th><th>ncon</th><th>objective_IPOPT</th><th>elapsed_time_IPOPT</th><th>objective_SQP</th></tr><tr><th></th><th>Int64</th><th>String</th><th>Int64</th><th>Int64</th><th>Float64</th><th>Float64</th><th>Float64</th></tr></thead><tbody><p>5 rows × 8 columns (omitted printing of 1 columns)</p><tr><th>1</th><td>1</td><td>prob1</td><td>2</td><td>1</td><td>0.0</td><td>0.001</td><td>4.65579e-16</td></tr><tr><th>2</th><td>2</td><td>prob2</td><td>2</td><td>1</td><td>0.0</td><td>0.0</td><td>1.38988e-12</td></tr><tr><th>3</th><td>3</td><td>prob3</td><td>2</td><td>1</td><td>0.0</td><td>0.0</td><td>7.27943e-17</td></tr><tr><th>4</th><td>4</td><td>prob4</td><td>2</td><td>1</td><td>0.0</td><td>0.0</td><td>6.5658e-12</td></tr><tr><th>5</th><td>5</td><td>prob5</td><td>2</td><td>1</td><td>0.0</td><td>0.0</td><td>1.9076e-14</td></tr></tbody></table>"
      ],
      "text/latex": [
       "\\begin{tabular}{r|cccccccc}\n",
       "\t& id & name & nvar & ncon & objective\\_IPOPT & elapsed\\_time\\_IPOPT & objective\\_SQP & \\\\\n",
       "\t\\hline\n",
       "\t& Int64 & String & Int64 & Int64 & Float64 & Float64 & Float64 & \\\\\n",
       "\t\\hline\n",
       "\t1 & 1 & prob1 & 2 & 1 & 0.0 & 0.001 & 4.65579e-16 & $\\dots$ \\\\\n",
       "\t2 & 2 & prob2 & 2 & 1 & 0.0 & 0.0 & 1.38988e-12 & $\\dots$ \\\\\n",
       "\t3 & 3 & prob3 & 2 & 1 & 0.0 & 0.0 & 7.27943e-17 & $\\dots$ \\\\\n",
       "\t4 & 4 & prob4 & 2 & 1 & 0.0 & 0.0 & 6.5658e-12 & $\\dots$ \\\\\n",
       "\t5 & 5 & prob5 & 2 & 1 & 0.0 & 0.0 & 1.9076e-14 & $\\dots$ \\\\\n",
       "\\end{tabular}\n"
      ],
      "text/plain": [
       "5×8 DataFrames.DataFrame. Omitted printing of 2 columns\n",
       "│ Row │ id    │ name   │ nvar  │ ncon  │ objective_IPOPT │ elapsed_time_IPOPT │\n",
       "│     │ \u001b[90mInt64\u001b[39m │ \u001b[90mString\u001b[39m │ \u001b[90mInt64\u001b[39m │ \u001b[90mInt64\u001b[39m │ \u001b[90mFloat64\u001b[39m         │ \u001b[90mFloat64\u001b[39m            │\n",
       "├─────┼───────┼────────┼───────┼───────┼─────────────────┼────────────────────┤\n",
       "│ 1   │ 1     │ prob1  │ 2     │ 1     │ 0.0             │ 0.001              │\n",
       "│ 2   │ 2     │ prob2  │ 2     │ 1     │ 0.0             │ 0.0                │\n",
       "│ 3   │ 3     │ prob3  │ 2     │ 1     │ 0.0             │ 0.0                │\n",
       "│ 4   │ 4     │ prob4  │ 2     │ 1     │ 0.0             │ 0.0                │\n",
       "│ 5   │ 5     │ prob5  │ 2     │ 1     │ 0.0             │ 0.0                │"
      ]
     },
     "execution_count": 52,
     "metadata": {},
     "output_type": "execute_result"
    }
   ],
   "source": [
    "df_join = SolverBenchmark.join(df, [:objective, :elapsed_time],\n",
    "    invariant_cols=[:name, :nvar, :ncon]\n",
    ")"
   ]
  }
 ],
 "metadata": {
  "kernelspec": {
   "display_name": "Julia 1.4.0",
   "language": "julia",
   "name": "julia-1.4"
  },
  "language_info": {
   "file_extension": ".jl",
   "mimetype": "application/julia",
   "name": "julia",
   "version": "1.4.0"
  }
 },
 "nbformat": 4,
 "nbformat_minor": 2
}
