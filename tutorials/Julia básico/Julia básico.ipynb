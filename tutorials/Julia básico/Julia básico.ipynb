{
 "cells": [
  {
   "cell_type": "markdown",
   "metadata": {},
   "source": [
    "# Tutorial de Julia básico"
   ]
  },
  {
   "cell_type": "code",
   "execution_count": 1,
   "metadata": {},
   "outputs": [
    {
     "data": {
      "text/plain": [
       "5"
      ]
     },
     "execution_count": 1,
     "metadata": {},
     "output_type": "execute_result"
    }
   ],
   "source": [
    "2 + 3"
   ]
  },
  {
   "cell_type": "code",
   "execution_count": 2,
   "metadata": {},
   "outputs": [
    {
     "data": {
      "text/plain": [
       "15625"
      ]
     },
     "execution_count": 2,
     "metadata": {},
     "output_type": "execute_result"
    }
   ],
   "source": [
    "5 ^ 6"
   ]
  },
  {
   "cell_type": "code",
   "execution_count": 3,
   "metadata": {},
   "outputs": [
    {
     "data": {
      "text/plain": [
       "6.333333333333333"
      ]
     },
     "execution_count": 3,
     "metadata": {},
     "output_type": "execute_result"
    }
   ],
   "source": [
    "19 / 3"
   ]
  },
  {
   "cell_type": "code",
   "execution_count": 4,
   "metadata": {},
   "outputs": [
    {
     "data": {
      "text/plain": [
       "29.96410004739701"
      ]
     },
     "execution_count": 4,
     "metadata": {},
     "output_type": "execute_result"
    }
   ],
   "source": [
    "exp(3.4)"
   ]
  },
  {
   "cell_type": "code",
   "execution_count": 5,
   "metadata": {},
   "outputs": [
    {
     "data": {
      "text/plain": [
       "0.999896315728952"
      ]
     },
     "execution_count": 5,
     "metadata": {},
     "output_type": "execute_result"
    }
   ],
   "source": [
    "log(2.718)"
   ]
  },
  {
   "cell_type": "code",
   "execution_count": 6,
   "metadata": {},
   "outputs": [
    {
     "data": {
      "text/plain": [
       "-0.9880316240928618"
      ]
     },
     "execution_count": 6,
     "metadata": {},
     "output_type": "execute_result"
    }
   ],
   "source": [
    "sin(30)"
   ]
  },
  {
   "cell_type": "code",
   "execution_count": 7,
   "metadata": {},
   "outputs": [
    {
     "data": {
      "text/plain": [
       "0.4997701026431024"
      ]
     },
     "execution_count": 7,
     "metadata": {},
     "output_type": "execute_result"
    }
   ],
   "source": [
    "sin(3.14 / 6)"
   ]
  },
  {
   "cell_type": "code",
   "execution_count": 8,
   "metadata": {},
   "outputs": [
    {
     "data": {
      "text/plain": [
       "π = 3.1415926535897..."
      ]
     },
     "execution_count": 8,
     "metadata": {},
     "output_type": "execute_result"
    }
   ],
   "source": [
    "pi"
   ]
  },
  {
   "cell_type": "code",
   "execution_count": 9,
   "metadata": {},
   "outputs": [
    {
     "data": {
      "text/plain": [
       "π = 3.1415926535897..."
      ]
     },
     "execution_count": 9,
     "metadata": {},
     "output_type": "execute_result"
    }
   ],
   "source": [
    "π # \\pi[TAB]"
   ]
  },
  {
   "cell_type": "code",
   "execution_count": 10,
   "metadata": {},
   "outputs": [
    {
     "data": {
      "text/plain": [
       "0.49999999999999994"
      ]
     },
     "execution_count": 10,
     "metadata": {},
     "output_type": "execute_result"
    }
   ],
   "source": [
    "sin(π / 6) # Não é 0.5 por causa da aritmética de ponto flutuante"
   ]
  },
  {
   "cell_type": "code",
   "execution_count": 11,
   "metadata": {},
   "outputs": [
    {
     "data": {
      "text/plain": [
       "0.5000000000000001"
      ]
     },
     "execution_count": 11,
     "metadata": {},
     "output_type": "execute_result"
    }
   ],
   "source": [
    "cos(π / 4)^2"
   ]
  },
  {
   "cell_type": "code",
   "execution_count": 12,
   "metadata": {},
   "outputs": [
    {
     "data": {
      "text/plain": [
       "1.7320508075688772"
      ]
     },
     "execution_count": 12,
     "metadata": {},
     "output_type": "execute_result"
    }
   ],
   "source": [
    "sqrt(3)"
   ]
  },
  {
   "cell_type": "code",
   "execution_count": 13,
   "metadata": {},
   "outputs": [
    {
     "data": {
      "text/plain": [
       "1.618033988749895"
      ]
     },
     "execution_count": 13,
     "metadata": {},
     "output_type": "execute_result"
    }
   ],
   "source": [
    "(sqrt(5) + 1) / 2"
   ]
  },
  {
   "cell_type": "code",
   "execution_count": 14,
   "metadata": {},
   "outputs": [
    {
     "data": {
      "text/plain": [
       "2.9999999999999996"
      ]
     },
     "execution_count": 14,
     "metadata": {},
     "output_type": "execute_result"
    }
   ],
   "source": [
    "(tan(π / 6) * 3)^2"
   ]
  },
  {
   "cell_type": "markdown",
   "metadata": {},
   "source": [
    "$1.23 \\times 10^{3}$"
   ]
  },
  {
   "cell_type": "code",
   "execution_count": 15,
   "metadata": {},
   "outputs": [
    {
     "data": {
      "text/plain": [
       "1230.0"
      ]
     },
     "execution_count": 15,
     "metadata": {},
     "output_type": "execute_result"
    }
   ],
   "source": [
    "1.23e3"
   ]
  },
  {
   "cell_type": "code",
   "execution_count": 16,
   "metadata": {},
   "outputs": [
    {
     "data": {
      "text/plain": [
       "1.23e-7"
      ]
     },
     "execution_count": 16,
     "metadata": {},
     "output_type": "execute_result"
    }
   ],
   "source": [
    "1.23e-7"
   ]
  },
  {
   "cell_type": "code",
   "execution_count": 17,
   "metadata": {},
   "outputs": [
    {
     "data": {
      "text/plain": [
       "1.7320508075688772"
      ]
     },
     "execution_count": 17,
     "metadata": {},
     "output_type": "execute_result"
    }
   ],
   "source": [
    "x = sqrt(3)"
   ]
  },
  {
   "cell_type": "code",
   "execution_count": 18,
   "metadata": {},
   "outputs": [
    {
     "data": {
      "text/plain": [
       "2.9999999999999996"
      ]
     },
     "execution_count": 18,
     "metadata": {},
     "output_type": "execute_result"
    }
   ],
   "source": [
    "x^2"
   ]
  },
  {
   "cell_type": "code",
   "execution_count": 19,
   "metadata": {},
   "outputs": [
    {
     "data": {
      "text/plain": [
       "3.4641016151377544"
      ]
     },
     "execution_count": 19,
     "metadata": {},
     "output_type": "execute_result"
    }
   ],
   "source": [
    "y = 2x"
   ]
  },
  {
   "cell_type": "code",
   "execution_count": 20,
   "metadata": {},
   "outputs": [
    {
     "data": {
      "text/plain": [
       "(4.302775637731995, 0.6972243622680054)"
      ]
     },
     "execution_count": 20,
     "metadata": {},
     "output_type": "execute_result"
    }
   ],
   "source": [
    "# ax² + bx + c = 0\n",
    "a = 1.0\n",
    "b = -5.0\n",
    "c = 3.0\n",
    "\n",
    "Δ = b^2 - 4*a*c\n",
    "x1 = (-b + sqrt(Δ)) / 2a\n",
    "x2 = (-b - sqrt(Δ)) / (2 * a) # equivalente à 2a\n",
    "\n",
    "x1, x2"
   ]
  },
  {
   "cell_type": "markdown",
   "metadata": {},
   "source": [
    "## If, While e For"
   ]
  },
  {
   "cell_type": "code",
   "execution_count": 21,
   "metadata": {},
   "outputs": [
    {
     "data": {
      "text/plain": [
       "(true, false)"
      ]
     },
     "execution_count": 21,
     "metadata": {},
     "output_type": "execute_result"
    }
   ],
   "source": [
    "true, false"
   ]
  },
  {
   "cell_type": "code",
   "execution_count": 22,
   "metadata": {},
   "outputs": [
    {
     "data": {
      "text/plain": [
       "true"
      ]
     },
     "execution_count": 22,
     "metadata": {},
     "output_type": "execute_result"
    }
   ],
   "source": [
    "1 > 0"
   ]
  },
  {
   "cell_type": "code",
   "execution_count": 23,
   "metadata": {},
   "outputs": [
    {
     "data": {
      "text/plain": [
       "false"
      ]
     },
     "execution_count": 23,
     "metadata": {},
     "output_type": "execute_result"
    }
   ],
   "source": [
    "1 == 0"
   ]
  },
  {
   "cell_type": "code",
   "execution_count": 24,
   "metadata": {},
   "outputs": [
    {
     "data": {
      "text/plain": [
       "false"
      ]
     },
     "execution_count": 24,
     "metadata": {},
     "output_type": "execute_result"
    }
   ],
   "source": [
    "1 < 0"
   ]
  },
  {
   "cell_type": "code",
   "execution_count": 25,
   "metadata": {},
   "outputs": [
    {
     "data": {
      "text/plain": [
       "true"
      ]
     },
     "execution_count": 25,
     "metadata": {},
     "output_type": "execute_result"
    }
   ],
   "source": [
    "1 >= 0"
   ]
  },
  {
   "cell_type": "code",
   "execution_count": 26,
   "metadata": {},
   "outputs": [
    {
     "data": {
      "text/plain": [
       "false"
      ]
     },
     "execution_count": 26,
     "metadata": {},
     "output_type": "execute_result"
    }
   ],
   "source": [
    "1 <= 0"
   ]
  },
  {
   "cell_type": "code",
   "execution_count": 27,
   "metadata": {},
   "outputs": [
    {
     "data": {
      "text/plain": [
       "true"
      ]
     },
     "execution_count": 27,
     "metadata": {},
     "output_type": "execute_result"
    }
   ],
   "source": [
    "(1 > 0) && (2 > 1)"
   ]
  },
  {
   "cell_type": "code",
   "execution_count": 28,
   "metadata": {},
   "outputs": [
    {
     "data": {
      "text/plain": [
       "true"
      ]
     },
     "execution_count": 28,
     "metadata": {},
     "output_type": "execute_result"
    }
   ],
   "source": [
    "(1 > 0) || (2 < 1)"
   ]
  },
  {
   "cell_type": "markdown",
   "metadata": {},
   "source": [
    "```\n",
    "if CONDICAO_QUE_SEJA_true_OU_false\n",
    "    COMANDOS\n",
    "end\n",
    "```"
   ]
  },
  {
   "cell_type": "code",
   "execution_count": 29,
   "metadata": {},
   "outputs": [],
   "source": [
    "x = -2\n",
    "if x > 0\n",
    "    println(\"x é maior que 0\")\n",
    "end"
   ]
  },
  {
   "cell_type": "code",
   "execution_count": 30,
   "metadata": {},
   "outputs": [
    {
     "name": "stdout",
     "output_type": "stream",
     "text": [
      "2 é maior que 0\n"
     ]
    }
   ],
   "source": [
    "x = 2\n",
    "if x > 0\n",
    "    println(\"$x é maior que 0\") # $ quer dizer interpolação de string, i.e., substitui o valor\n",
    "end"
   ]
  },
  {
   "cell_type": "code",
   "execution_count": 31,
   "metadata": {},
   "outputs": [
    {
     "name": "stdout",
     "output_type": "stream",
     "text": [
      "-2 não é maior que 0\n"
     ]
    }
   ],
   "source": [
    "x = -2\n",
    "if x > 0\n",
    "    println(\"$x é maior que 0\")\n",
    "else\n",
    "    println(\"$x não é maior que 0\")\n",
    "end"
   ]
  },
  {
   "cell_type": "code",
   "execution_count": 32,
   "metadata": {},
   "outputs": [
    {
     "name": "stdout",
     "output_type": "stream",
     "text": [
      "1 é maior que 0\n"
     ]
    }
   ],
   "source": [
    "x = 1\n",
    "if x > 0\n",
    "    println(\"$x é maior que 0\")\n",
    "elseif x == 0\n",
    "    println(\"$x é 0\")\n",
    "else\n",
    "    println(\"$x é menor que 0\")\n",
    "end"
   ]
  },
  {
   "cell_type": "code",
   "execution_count": 33,
   "metadata": {},
   "outputs": [
    {
     "name": "stdout",
     "output_type": "stream",
     "text": [
      "-2 é menor que 0\n",
      "-1 é menor que 0\n",
      "0 é 0\n",
      "1 é maior que 0\n",
      "2 é maior que 0\n"
     ]
    }
   ],
   "source": [
    "for x in [-2, -1, 0, 1, 2]\n",
    "    if x > 0\n",
    "        println(\"$x é maior que 0\")\n",
    "    elseif x == 0\n",
    "        println(\"$x é 0\")\n",
    "    else\n",
    "        println(\"$x é menor que 0\")\n",
    "    end\n",
    "end"
   ]
  },
  {
   "cell_type": "code",
   "execution_count": 34,
   "metadata": {},
   "outputs": [
    {
     "name": "stdout",
     "output_type": "stream",
     "text": [
      "x = -2, x^2 = 4\n",
      "x = -1, x^2 = 1\n",
      "x = 0, x^2 = 0\n",
      "x = 1, x^2 = 1\n",
      "x = 2, x^2 = 4\n"
     ]
    }
   ],
   "source": [
    "for x in -2:2 # De -2 à 2\n",
    "    println(\"x = $x, x^2 = $(x^2)\") # $(...)\n",
    "end"
   ]
  },
  {
   "cell_type": "code",
   "execution_count": 35,
   "metadata": {},
   "outputs": [
    {
     "name": "stdout",
     "output_type": "stream",
     "text": [
      "x = -2.0, x^2 = 4.0\n",
      "x = -1.8, x^2 = 3.24\n",
      "x = -1.6, x^2 = 2.5600000000000005\n",
      "x = -1.4, x^2 = 1.9599999999999997\n",
      "x = -1.2, x^2 = 1.44\n",
      "x = -1.0, x^2 = 1.0\n",
      "x = -0.8, x^2 = 0.6400000000000001\n",
      "x = -0.6, x^2 = 0.36\n",
      "x = -0.4, x^2 = 0.16000000000000003\n",
      "x = -0.2, x^2 = 0.04000000000000001\n",
      "x = 0.0, x^2 = 0.0\n",
      "x = 0.2, x^2 = 0.04000000000000001\n",
      "x = 0.4, x^2 = 0.16000000000000003\n",
      "x = 0.6, x^2 = 0.36\n",
      "x = 0.8, x^2 = 0.6400000000000001\n",
      "x = 1.0, x^2 = 1.0\n",
      "x = 1.2, x^2 = 1.44\n",
      "x = 1.4, x^2 = 1.9599999999999997\n",
      "x = 1.6, x^2 = 2.5600000000000005\n",
      "x = 1.8, x^2 = 3.24\n",
      "x = 2.0, x^2 = 4.0\n"
     ]
    }
   ],
   "source": [
    "for x in -2:0.2:2 # De -2 à 2 indo de 0.2 em 0.2\n",
    "    println(\"x = $x, x^2 = $(x^2)\") # $(...)\n",
    "end"
   ]
  },
  {
   "cell_type": "markdown",
   "metadata": {},
   "source": [
    "```\n",
    "for VARIAVEL in LISTA\n",
    "    COMANDOS\n",
    "end\n",
    "```"
   ]
  },
  {
   "cell_type": "code",
   "execution_count": 36,
   "metadata": {},
   "outputs": [
    {
     "name": "stdout",
     "output_type": "stream",
     "text": [
      "x = -2\n",
      "x = -1\n",
      "x = 0\n",
      "x = 1\n",
      "x = 2\n"
     ]
    }
   ],
   "source": [
    "for x = -2:2\n",
    "    println(\"x = $x\")\n",
    "end"
   ]
  },
  {
   "cell_type": "markdown",
   "metadata": {},
   "source": [
    "```\n",
    "while CONDICAO\n",
    "    COMANDOS\n",
    "end\n",
    "```"
   ]
  },
  {
   "cell_type": "code",
   "execution_count": 37,
   "metadata": {},
   "outputs": [
    {
     "name": "stdout",
     "output_type": "stream",
     "text": [
      "c = 3\n"
     ]
    }
   ],
   "source": [
    "x = 2.3\n",
    "c = 0\n",
    "while x > 0\n",
    "    x = x - 1\n",
    "    c = c + 1\n",
    "end\n",
    "println(\"c = $c\")"
   ]
  },
  {
   "cell_type": "markdown",
   "metadata": {},
   "source": [
    "Cálculo de raiz de 2\n",
    "$$ x_0 = 1, \\qquad x_{n+1} = \\frac{x_n}{2} + \\frac{1}{x_n}. $$"
   ]
  },
  {
   "cell_type": "code",
   "execution_count": 38,
   "metadata": {},
   "outputs": [
    {
     "data": {
      "text/plain": [
       "1"
      ]
     },
     "execution_count": 38,
     "metadata": {},
     "output_type": "execute_result"
    }
   ],
   "source": [
    "x = 1"
   ]
  },
  {
   "cell_type": "code",
   "execution_count": 39,
   "metadata": {},
   "outputs": [
    {
     "data": {
      "text/plain": [
       "1.5"
      ]
     },
     "execution_count": 39,
     "metadata": {},
     "output_type": "execute_result"
    }
   ],
   "source": [
    "x = x / 2 + 1 / x"
   ]
  },
  {
   "cell_type": "code",
   "execution_count": 40,
   "metadata": {},
   "outputs": [
    {
     "data": {
      "text/plain": [
       "2"
      ]
     },
     "execution_count": 40,
     "metadata": {},
     "output_type": "execute_result"
    }
   ],
   "source": [
    "abs(-2) # Módulo, i.e., valor absoluto"
   ]
  },
  {
   "cell_type": "code",
   "execution_count": 41,
   "metadata": {},
   "outputs": [
    {
     "name": "stdout",
     "output_type": "stream",
     "text": [
      "√2 ≈ 1.4142135623746899\n"
     ]
    }
   ],
   "source": [
    "x = 1.0\n",
    "while abs(x^2 - 2) > 1e-8 # Dist. do x² para 2 é maior que 10⁻⁸\n",
    "    x = x / 2 + 1 / x\n",
    "end\n",
    "println(\"√2 ≈ $x\")"
   ]
  },
  {
   "cell_type": "markdown",
   "metadata": {},
   "source": [
    "## Funções"
   ]
  },
  {
   "cell_type": "code",
   "execution_count": 42,
   "metadata": {},
   "outputs": [
    {
     "data": {
      "text/plain": [
       "7.2848597971097435"
      ]
     },
     "execution_count": 42,
     "metadata": {},
     "output_type": "execute_result"
    }
   ],
   "source": [
    "exp(2.3) - log(35) + sin(π / 3)"
   ]
  },
  {
   "cell_type": "code",
   "execution_count": 43,
   "metadata": {},
   "outputs": [
    {
     "data": {
      "text/plain": [
       "f (generic function with 1 method)"
      ]
     },
     "execution_count": 43,
     "metadata": {},
     "output_type": "execute_result"
    }
   ],
   "source": [
    "f(x) = x^2 - 5x + 6"
   ]
  },
  {
   "cell_type": "code",
   "execution_count": 44,
   "metadata": {},
   "outputs": [
    {
     "data": {
      "text/plain": [
       "0"
      ]
     },
     "execution_count": 44,
     "metadata": {},
     "output_type": "execute_result"
    }
   ],
   "source": [
    "f(2)"
   ]
  },
  {
   "cell_type": "code",
   "execution_count": 45,
   "metadata": {},
   "outputs": [
    {
     "data": {
      "text/plain": [
       "-0.25"
      ]
     },
     "execution_count": 45,
     "metadata": {},
     "output_type": "execute_result"
    }
   ],
   "source": [
    "f(2.5)"
   ]
  },
  {
   "cell_type": "code",
   "execution_count": 46,
   "metadata": {},
   "outputs": [
    {
     "name": "stdout",
     "output_type": "stream",
     "text": [
      "f(1) = 2.0\n",
      "f(1) = 2.718281828459045\n",
      "f(1) = 1.3414709848078965\n"
     ]
    }
   ],
   "source": [
    "for f in [\n",
    "        x -> x^2 - 5x + 6, # Função anônima - só sabe a definição.\n",
    "        x -> exp(x) * x,\n",
    "        x -> sin(x) + x / 2\n",
    "    ]\n",
    "    y = f(1.0)\n",
    "    println(\"f(1) = $y\")\n",
    "end"
   ]
  },
  {
   "cell_type": "code",
   "execution_count": 47,
   "metadata": {},
   "outputs": [
    {
     "data": {
      "text/plain": [
       "bhaskara (generic function with 1 method)"
      ]
     },
     "execution_count": 47,
     "metadata": {},
     "output_type": "execute_result"
    }
   ],
   "source": [
    "function bhaskara(a, b, c)\n",
    "    # Resolver ax² + bx + c = 0\n",
    "    Δ = b^2 - 4*a * c\n",
    "    if Δ < 0\n",
    "        error(\"Δ é negativo\")\n",
    "    end\n",
    "    x1 = (-b + sqrt(Δ)) / 2a\n",
    "    x2 = (-b - sqrt(Δ)) / 2a\n",
    "    \n",
    "    return x1, x2\n",
    "end"
   ]
  },
  {
   "cell_type": "code",
   "execution_count": 48,
   "metadata": {},
   "outputs": [
    {
     "ename": "ErrorException",
     "evalue": "Δ é negativo",
     "output_type": "error",
     "traceback": [
      "Δ é negativo",
      "",
      "Stacktrace:",
      " [1] error(::String) at ./error.jl:33",
      " [2] bhaskara(::Float64, ::Float64, ::Float64) at ./In[47]:5",
      " [3] top-level scope at In[48]:1"
     ]
    }
   ],
   "source": [
    "bhaskara(1.0, 0.0, 1.0)"
   ]
  },
  {
   "cell_type": "markdown",
   "metadata": {},
   "source": [
    "Exercício: modifique a função de bhaskara para que se $\\Delta$ for negativo, ele cria um erro usando a função `error(\"Delta é negativo\")`."
   ]
  },
  {
   "cell_type": "code",
   "execution_count": 49,
   "metadata": {},
   "outputs": [
    {
     "ename": "ErrorException",
     "evalue": "msg",
     "output_type": "error",
     "traceback": [
      "msg",
      "",
      "Stacktrace:",
      " [1] error(::String) at ./error.jl:33",
      " [2] top-level scope at In[49]:1"
     ]
    }
   ],
   "source": [
    "error(\"msg\")"
   ]
  },
  {
   "cell_type": "code",
   "execution_count": 50,
   "metadata": {},
   "outputs": [
    {
     "data": {
      "text/plain": [
       "0.0 + 1.0im"
      ]
     },
     "execution_count": 50,
     "metadata": {},
     "output_type": "execute_result"
    }
   ],
   "source": [
    "sqrt(-1.0 + 0 * im) # im é o imaginário √-1"
   ]
  },
  {
   "cell_type": "markdown",
   "metadata": {},
   "source": [
    "Derivada: $\\displaystyle f'(x) = \\lim_{h \\to 0} \\frac{f(x + h) - f(x)}{h}$"
   ]
  },
  {
   "cell_type": "code",
   "execution_count": 51,
   "metadata": {},
   "outputs": [
    {
     "data": {
      "text/plain": [
       "aproxima_derivada (generic function with 1 method)"
      ]
     },
     "execution_count": 51,
     "metadata": {},
     "output_type": "execute_result"
    }
   ],
   "source": [
    "function aproxima_derivada(f, a, h)\n",
    "    return (f(a + h) - f(a)) / h\n",
    "end"
   ]
  },
  {
   "cell_type": "code",
   "execution_count": 52,
   "metadata": {},
   "outputs": [
    {
     "data": {
      "text/plain": [
       "4.609999999999914"
      ]
     },
     "execution_count": 52,
     "metadata": {},
     "output_type": "execute_result"
    }
   ],
   "source": [
    "f(x) = x^2 # Derivada 2x\n",
    "aproxima_derivada(f, 2.3, 0.01) # ≈ 2×2.3=4.6"
   ]
  },
  {
   "cell_type": "code",
   "execution_count": 53,
   "metadata": {},
   "outputs": [
    {
     "data": {
      "text/plain": [
       "4.600000025334339"
      ]
     },
     "execution_count": 53,
     "metadata": {},
     "output_type": "execute_result"
    }
   ],
   "source": [
    "aproxima_derivada(f, 2.3, 1e-8) # h = 1e-8 é um valor muito bom"
   ]
  },
  {
   "cell_type": "code",
   "execution_count": 54,
   "metadata": {},
   "outputs": [
    {
     "data": {
      "text/plain": [
       "aproxima_derivada (generic function with 2 methods)"
      ]
     },
     "execution_count": 54,
     "metadata": {},
     "output_type": "execute_result"
    }
   ],
   "source": [
    "# Argumento opcional (posicional)\n",
    "\n",
    "function aproxima_derivada(f, a, h = 1e-8)\n",
    "    return (f(a + h) - f(a)) / h\n",
    "end"
   ]
  },
  {
   "cell_type": "code",
   "execution_count": 55,
   "metadata": {},
   "outputs": [
    {
     "data": {
      "text/plain": [
       "4.600000025334339"
      ]
     },
     "execution_count": 55,
     "metadata": {},
     "output_type": "execute_result"
    }
   ],
   "source": [
    "aproxima_derivada(f, 2.3)"
   ]
  },
  {
   "cell_type": "code",
   "execution_count": 56,
   "metadata": {},
   "outputs": [
    {
     "data": {
      "text/plain": [
       "4.600100000011764"
      ]
     },
     "execution_count": 56,
     "metadata": {},
     "output_type": "execute_result"
    }
   ],
   "source": [
    "aproxima_derivada(f, 2.3, 1e-4)"
   ]
  },
  {
   "cell_type": "code",
   "execution_count": 57,
   "metadata": {},
   "outputs": [
    {
     "data": {
      "text/plain": [
       "aproxima_derivada (generic function with 2 methods)"
      ]
     },
     "execution_count": 57,
     "metadata": {},
     "output_type": "execute_result"
    }
   ],
   "source": [
    "# Argumento opcional (palavra-chave)\n",
    "\n",
    "function aproxima_derivada(f, a; h = 1e-8) # ; no lugar da última ,\n",
    "    return (f(a + h) - f(a)) / h\n",
    "end"
   ]
  },
  {
   "cell_type": "code",
   "execution_count": 58,
   "metadata": {},
   "outputs": [
    {
     "data": {
      "text/plain": [
       "4.600000025334339"
      ]
     },
     "execution_count": 58,
     "metadata": {},
     "output_type": "execute_result"
    }
   ],
   "source": [
    "aproxima_derivada(f, 2.3)"
   ]
  },
  {
   "cell_type": "code",
   "execution_count": 59,
   "metadata": {},
   "outputs": [
    {
     "data": {
      "text/plain": [
       "4.600100000011764"
      ]
     },
     "execution_count": 59,
     "metadata": {},
     "output_type": "execute_result"
    }
   ],
   "source": [
    "aproxima_derivada(f, 2.3, h=1e-4)"
   ]
  },
  {
   "cell_type": "code",
   "execution_count": 60,
   "metadata": {},
   "outputs": [
    {
     "data": {
      "text/plain": [
       "fake_achar_raiz (generic function with 2 methods)"
      ]
     },
     "execution_count": 60,
     "metadata": {},
     "output_type": "execute_result"
    }
   ],
   "source": [
    "function fake_achar_raiz(f, ponto_inicial=0.0; max_iter=10_000, tolerancia=1e-8)\n",
    "    iter = 0\n",
    "    erro = 1.0\n",
    "    while iter < max_iter && erro > tolerancia\n",
    "        iter = iter + 1\n",
    "        erro = erro / 2\n",
    "        # Deveria ter comandos para achar a raiz, mas é só um exemplo\n",
    "    end\n",
    "    \n",
    "    return ponto_inicial\n",
    "end"
   ]
  },
  {
   "cell_type": "code",
   "execution_count": 61,
   "metadata": {},
   "outputs": [
    {
     "data": {
      "text/plain": [
       "1.0"
      ]
     },
     "execution_count": 61,
     "metadata": {},
     "output_type": "execute_result"
    }
   ],
   "source": [
    "fake_achar_raiz(f, 1.0, tolerancia=1e-4)"
   ]
  },
  {
   "cell_type": "code",
   "execution_count": 62,
   "metadata": {},
   "outputs": [
    {
     "data": {
      "text/plain": [
       "0.0"
      ]
     },
     "execution_count": 62,
     "metadata": {},
     "output_type": "execute_result"
    }
   ],
   "source": [
    "fake_achar_raiz(f, tolerancia=1e-4)"
   ]
  },
  {
   "cell_type": "markdown",
   "metadata": {},
   "source": [
    "# Vetores e matrizes"
   ]
  },
  {
   "cell_type": "code",
   "execution_count": 63,
   "metadata": {},
   "outputs": [
    {
     "data": {
      "text/plain": [
       "5-element Array{Float64,1}:\n",
       " 0.0\n",
       " 0.0\n",
       " 0.0\n",
       " 0.0\n",
       " 0.0"
      ]
     },
     "execution_count": 63,
     "metadata": {},
     "output_type": "execute_result"
    }
   ],
   "source": [
    "zeros(5)"
   ]
  },
  {
   "cell_type": "code",
   "execution_count": 64,
   "metadata": {},
   "outputs": [
    {
     "data": {
      "text/plain": [
       "3-element Array{Float64,1}:\n",
       " 1.0\n",
       " 1.0\n",
       " 1.0"
      ]
     },
     "execution_count": 64,
     "metadata": {},
     "output_type": "execute_result"
    }
   ],
   "source": [
    "ones(3)"
   ]
  },
  {
   "cell_type": "code",
   "execution_count": 65,
   "metadata": {},
   "outputs": [
    {
     "data": {
      "text/plain": [
       "3×5 Array{Float64,2}:\n",
       " 1.0  1.0  1.0  1.0  1.0\n",
       " 1.0  1.0  1.0  1.0  1.0\n",
       " 1.0  1.0  1.0  1.0  1.0"
      ]
     },
     "execution_count": 65,
     "metadata": {},
     "output_type": "execute_result"
    }
   ],
   "source": [
    "ones(3, 5)"
   ]
  },
  {
   "cell_type": "code",
   "execution_count": 66,
   "metadata": {},
   "outputs": [
    {
     "data": {
      "text/plain": [
       "3-element Array{Float64,1}:\n",
       " 0.5274139979894623\n",
       " 0.255669692916654\n",
       " 0.9505002138011955"
      ]
     },
     "execution_count": 66,
     "metadata": {},
     "output_type": "execute_result"
    }
   ],
   "source": [
    "rand(3)"
   ]
  },
  {
   "cell_type": "code",
   "execution_count": 67,
   "metadata": {},
   "outputs": [
    {
     "data": {
      "text/plain": [
       "3-element Array{Float64,1}:\n",
       " -0.09923563805943723\n",
       " -0.9813361597223342\n",
       "  1.600885450715681"
      ]
     },
     "execution_count": 67,
     "metadata": {},
     "output_type": "execute_result"
    }
   ],
   "source": [
    "randn(3)"
   ]
  },
  {
   "cell_type": "code",
   "execution_count": 68,
   "metadata": {},
   "outputs": [
    {
     "data": {
      "text/plain": [
       "3-element Array{Float64,1}:\n",
       " 1.0\n",
       " 1.0\n",
       " 1.0"
      ]
     },
     "execution_count": 68,
     "metadata": {},
     "output_type": "execute_result"
    }
   ],
   "source": [
    "v = ones(3)"
   ]
  },
  {
   "cell_type": "code",
   "execution_count": 69,
   "metadata": {},
   "outputs": [
    {
     "data": {
      "text/plain": [
       "3×3 Array{Float64,2}:\n",
       " 0.589888   0.0116768  0.268566\n",
       " 0.970308   0.242781   0.0782971\n",
       " 0.0644177  0.123026   0.235651"
      ]
     },
     "execution_count": 69,
     "metadata": {},
     "output_type": "execute_result"
    }
   ],
   "source": [
    "A = rand(3, 3)"
   ]
  },
  {
   "cell_type": "code",
   "execution_count": 70,
   "metadata": {},
   "outputs": [
    {
     "data": {
      "text/plain": [
       "3-element Array{Float64,1}:\n",
       " 0.8701310376191878\n",
       " 1.2913865844252586\n",
       " 0.42309484810534514"
      ]
     },
     "execution_count": 70,
     "metadata": {},
     "output_type": "execute_result"
    }
   ],
   "source": [
    "A * v"
   ]
  },
  {
   "cell_type": "code",
   "execution_count": 71,
   "metadata": {},
   "outputs": [
    {
     "data": {
      "text/plain": [
       "3-element Array{Float64,1}:\n",
       " 0.977965321122003\n",
       " 0.3149988368756207\n",
       " 0.9880354648177154"
      ]
     },
     "execution_count": 71,
     "metadata": {},
     "output_type": "execute_result"
    }
   ],
   "source": [
    "w = rand(3)"
   ]
  },
  {
   "cell_type": "code",
   "execution_count": 72,
   "metadata": {},
   "outputs": [
    {
     "data": {
      "text/plain": [
       "3-element Array{Float64,1}:\n",
       " 1.977965321122003\n",
       " 1.3149988368756207\n",
       " 1.9880354648177154"
      ]
     },
     "execution_count": 72,
     "metadata": {},
     "output_type": "execute_result"
    }
   ],
   "source": [
    "v + w"
   ]
  },
  {
   "cell_type": "code",
   "execution_count": 73,
   "metadata": {},
   "outputs": [
    {
     "data": {
      "text/plain": [
       "3-element Array{Float64,1}:\n",
       " 2.955930642244006\n",
       " 1.6299976737512414\n",
       " 2.976070929635431"
      ]
     },
     "execution_count": 73,
     "metadata": {},
     "output_type": "execute_result"
    }
   ],
   "source": [
    "v + 2w"
   ]
  },
  {
   "cell_type": "code",
   "execution_count": 74,
   "metadata": {},
   "outputs": [
    {
     "data": {
      "text/plain": [
       "3-element Array{Float64,1}:\n",
       " -0.9118612844880118\n",
       "  1.7400046524975172\n",
       " -0.9521418592708617"
      ]
     },
     "execution_count": 74,
     "metadata": {},
     "output_type": "execute_result"
    }
   ],
   "source": [
    "3v - 4w"
   ]
  },
  {
   "cell_type": "code",
   "execution_count": 75,
   "metadata": {},
   "outputs": [],
   "source": [
    "using LinearAlgebra"
   ]
  },
  {
   "cell_type": "code",
   "execution_count": 76,
   "metadata": {},
   "outputs": [
    {
     "data": {
      "text/plain": [
       "2.2809996228153393"
      ]
     },
     "execution_count": 76,
     "metadata": {},
     "output_type": "execute_result"
    }
   ],
   "source": [
    "dot(v, w)"
   ]
  },
  {
   "cell_type": "code",
   "execution_count": 77,
   "metadata": {},
   "outputs": [
    {
     "data": {
      "text/plain": [
       "1.4254313439404283"
      ]
     },
     "execution_count": 77,
     "metadata": {},
     "output_type": "execute_result"
    }
   ],
   "source": [
    "norm(w)"
   ]
  },
  {
   "cell_type": "code",
   "execution_count": 78,
   "metadata": {},
   "outputs": [
    {
     "data": {
      "text/plain": [
       "3-element Array{Float64,1}:\n",
       " 0.8701310376191878\n",
       " 1.2913865844252586\n",
       " 0.42309484810534514"
      ]
     },
     "execution_count": 78,
     "metadata": {},
     "output_type": "execute_result"
    }
   ],
   "source": [
    "b = A * ones(3)"
   ]
  },
  {
   "cell_type": "code",
   "execution_count": 80,
   "metadata": {},
   "outputs": [
    {
     "data": {
      "text/plain": [
       "3-element Array{Float64,1}:\n",
       " 0.9999999999999999\n",
       " 1.0000000000000004\n",
       " 0.9999999999999999"
      ]
     },
     "execution_count": 80,
     "metadata": {},
     "output_type": "execute_result"
    }
   ],
   "source": [
    "# Solução do sistema Ax = b é x = (1,1,1)\n",
    "A \\ b # \\ é uma função que automaticamente resolve o sistema Ax = b"
   ]
  },
  {
   "cell_type": "code",
   "execution_count": 81,
   "metadata": {},
   "outputs": [
    {
     "data": {
      "text/plain": [
       "3×3 Array{Float64,2}:\n",
       "  0.89242   0.568117  -1.20583\n",
       " -4.19416   2.28281    4.02151\n",
       "  1.94569  -1.34709    2.47368"
      ]
     },
     "execution_count": 81,
     "metadata": {},
     "output_type": "execute_result"
    }
   ],
   "source": [
    "inv(A)"
   ]
  },
  {
   "cell_type": "code",
   "execution_count": 82,
   "metadata": {},
   "outputs": [
    {
     "data": {
      "text/plain": [
       "3-element Array{Float64,1}:\n",
       " 1.0\n",
       " 1.0000000000000002\n",
       " 1.0"
      ]
     },
     "execution_count": 82,
     "metadata": {},
     "output_type": "execute_result"
    }
   ],
   "source": [
    "inv(A) * b"
   ]
  },
  {
   "cell_type": "code",
   "execution_count": 83,
   "metadata": {},
   "outputs": [
    {
     "data": {
      "text/plain": [
       "0.053314682748833095"
      ]
     },
     "execution_count": 83,
     "metadata": {},
     "output_type": "execute_result"
    }
   ],
   "source": [
    "det(A)"
   ]
  },
  {
   "cell_type": "code",
   "execution_count": 84,
   "metadata": {},
   "outputs": [
    {
     "data": {
      "text/plain": [
       "1.7320508075688772"
      ]
     },
     "execution_count": 84,
     "metadata": {},
     "output_type": "execute_result"
    }
   ],
   "source": [
    "norm(v) # norma 2"
   ]
  },
  {
   "cell_type": "code",
   "execution_count": 85,
   "metadata": {},
   "outputs": [
    {
     "data": {
      "text/plain": [
       "3.0"
      ]
     },
     "execution_count": 85,
     "metadata": {},
     "output_type": "execute_result"
    }
   ],
   "source": [
    "norm(v, 1) # ‖x‖₁ = ∑ᵢ|xᵢ|"
   ]
  },
  {
   "cell_type": "code",
   "execution_count": 86,
   "metadata": {},
   "outputs": [
    {
     "data": {
      "text/plain": [
       "3-element Array{Float64,1}:\n",
       " 1.0\n",
       " 1.0\n",
       " 1.0"
      ]
     },
     "execution_count": 86,
     "metadata": {},
     "output_type": "execute_result"
    }
   ],
   "source": [
    "v"
   ]
  },
  {
   "cell_type": "code",
   "execution_count": 87,
   "metadata": {},
   "outputs": [
    {
     "data": {
      "text/plain": [
       "1.0"
      ]
     },
     "execution_count": 87,
     "metadata": {},
     "output_type": "execute_result"
    }
   ],
   "source": [
    "norm(v, Inf) # ‖x‖_inf = max|xᵢ|"
   ]
  },
  {
   "cell_type": "code",
   "execution_count": 92,
   "metadata": {},
   "outputs": [
    {
     "data": {
      "text/plain": [
       "1.2254058337082767"
      ]
     },
     "execution_count": 92,
     "metadata": {},
     "output_type": "execute_result"
    }
   ],
   "source": [
    "norm(A, 2) # ‖A‖ = ∑ᵢ∑ⱼ|aᵢⱼ|² - Frobenius"
   ]
  },
  {
   "cell_type": "code",
   "execution_count": 93,
   "metadata": {},
   "outputs": [
    {
     "data": {
      "text/plain": [
       "1.1808915188374174"
      ]
     },
     "execution_count": 93,
     "metadata": {},
     "output_type": "execute_result"
    }
   ],
   "source": [
    "opnorm(A) # ‖A‖ = sup‖Ax‖/‖x‖"
   ]
  },
  {
   "cell_type": "code",
   "execution_count": 94,
   "metadata": {},
   "outputs": [
    {
     "data": {
      "text/plain": [
       "5-element Array{Int64,1}:\n",
       " 1\n",
       " 2\n",
       " 3\n",
       " 4\n",
       " 5"
      ]
     },
     "execution_count": 94,
     "metadata": {},
     "output_type": "execute_result"
    }
   ],
   "source": [
    "# Vetores do tipo Array ou lista\n",
    "L = [1, 2, 3, 4, 5]"
   ]
  },
  {
   "cell_type": "code",
   "execution_count": 96,
   "metadata": {},
   "outputs": [
    {
     "data": {
      "text/plain": [
       "7.416198487095663"
      ]
     },
     "execution_count": 96,
     "metadata": {},
     "output_type": "execute_result"
    }
   ],
   "source": [
    "norm(L) # Lista e vetor matemático são iguais"
   ]
  },
  {
   "cell_type": "code",
   "execution_count": 98,
   "metadata": {},
   "outputs": [
    {
     "data": {
      "text/plain": [
       "7.38905609893065"
      ]
     },
     "execution_count": 98,
     "metadata": {},
     "output_type": "execute_result"
    }
   ],
   "source": [
    "exp(2)"
   ]
  },
  {
   "cell_type": "code",
   "execution_count": 99,
   "metadata": {},
   "outputs": [
    {
     "ename": "MethodError",
     "evalue": "MethodError: no method matching exp(::Array{Int64,1})\nClosest candidates are:\n  exp(!Matched::BigFloat) at mpfr.jl:619\n  exp(!Matched::Missing) at math.jl:1167\n  exp(!Matched::Complex{Float16}) at math.jl:1115\n  ...",
     "output_type": "error",
     "traceback": [
      "MethodError: no method matching exp(::Array{Int64,1})\nClosest candidates are:\n  exp(!Matched::BigFloat) at mpfr.jl:619\n  exp(!Matched::Missing) at math.jl:1167\n  exp(!Matched::Complex{Float16}) at math.jl:1115\n  ...",
      "",
      "Stacktrace:",
      " [1] top-level scope at In[99]:1"
     ]
    }
   ],
   "source": [
    "exp(L)"
   ]
  },
  {
   "cell_type": "code",
   "execution_count": 100,
   "metadata": {},
   "outputs": [
    {
     "data": {
      "text/plain": [
       "5-element Array{Float64,1}:\n",
       "   2.718281828459045\n",
       "   7.38905609893065\n",
       "  20.085536923187668\n",
       "  54.598150033144236\n",
       " 148.4131591025766"
      ]
     },
     "execution_count": 100,
     "metadata": {},
     "output_type": "execute_result"
    }
   ],
   "source": [
    "exp.(L)"
   ]
  },
  {
   "cell_type": "code",
   "execution_count": 101,
   "metadata": {},
   "outputs": [
    {
     "data": {
      "text/plain": [
       "5-element Array{Float64,1}:\n",
       " 0.0\n",
       " 0.6931471805599453\n",
       " 1.0986122886681098\n",
       " 1.3862943611198906\n",
       " 1.6094379124341003"
      ]
     },
     "execution_count": 101,
     "metadata": {},
     "output_type": "execute_result"
    }
   ],
   "source": [
    "log.(L)"
   ]
  },
  {
   "cell_type": "code",
   "execution_count": 102,
   "metadata": {},
   "outputs": [
    {
     "data": {
      "text/plain": [
       "f (generic function with 1 method)"
      ]
     },
     "execution_count": 102,
     "metadata": {},
     "output_type": "execute_result"
    }
   ],
   "source": [
    "f(x) = x * exp(x)"
   ]
  },
  {
   "cell_type": "code",
   "execution_count": 103,
   "metadata": {},
   "outputs": [
    {
     "data": {
      "text/plain": [
       "5-element Array{Float64,1}:\n",
       "   2.718281828459045\n",
       "  14.7781121978613\n",
       "  60.256610769563004\n",
       " 218.39260013257694\n",
       " 742.065795512883"
      ]
     },
     "execution_count": 103,
     "metadata": {},
     "output_type": "execute_result"
    }
   ],
   "source": [
    "f.(L)"
   ]
  },
  {
   "cell_type": "code",
   "execution_count": 104,
   "metadata": {},
   "outputs": [
    {
     "data": {
      "text/plain": [
       "2×2 Array{Float64,2}:\n",
       " 4.0   5.0\n",
       " 1.0  -1.0"
      ]
     },
     "execution_count": 104,
     "metadata": {},
     "output_type": "execute_result"
    }
   ],
   "source": [
    "A = [4.0  5; 1 -1]"
   ]
  },
  {
   "cell_type": "code",
   "execution_count": 105,
   "metadata": {},
   "outputs": [
    {
     "data": {
      "text/plain": [
       "1×3 Array{Int64,2}:\n",
       " 1  2  3"
      ]
     },
     "execution_count": 105,
     "metadata": {},
     "output_type": "execute_result"
    }
   ],
   "source": [
    "v = [1 2 3]"
   ]
  },
  {
   "cell_type": "code",
   "execution_count": 107,
   "metadata": {},
   "outputs": [
    {
     "data": {
      "text/plain": [
       "3-element Array{Float64,1}:\n",
       " 0.42558328603565587\n",
       " 1.6573087423632864\n",
       " 0.38230514714742236"
      ]
     },
     "execution_count": 107,
     "metadata": {},
     "output_type": "execute_result"
    }
   ],
   "source": [
    "v = rand(3)\n",
    "w = rand(3)\n",
    "v + w"
   ]
  },
  {
   "cell_type": "code",
   "execution_count": 108,
   "metadata": {},
   "outputs": [
    {
     "data": {
      "text/plain": [
       "3-element Array{Float64,1}:\n",
       " 0.04096068982360532\n",
       " 0.682367235974376\n",
       " 0.00039367964478367195"
      ]
     },
     "execution_count": 108,
     "metadata": {},
     "output_type": "execute_result"
    }
   ],
   "source": [
    "v .* w"
   ]
  },
  {
   "cell_type": "code",
   "execution_count": 109,
   "metadata": {},
   "outputs": [],
   "source": [
    "y = zeros(3)\n",
    "for i = 1:3\n",
    "    y[i] = v[i] * w[i] # Acesso por [ ] começa no 1\n",
    "end"
   ]
  },
  {
   "cell_type": "code",
   "execution_count": 110,
   "metadata": {},
   "outputs": [
    {
     "data": {
      "text/plain": [
       "3-element Array{Float64,1}:\n",
       " 0.04096068982360532\n",
       " 0.682367235974376\n",
       " 0.00039367964478367195"
      ]
     },
     "execution_count": 110,
     "metadata": {},
     "output_type": "execute_result"
    }
   ],
   "source": [
    "y"
   ]
  },
  {
   "cell_type": "code",
   "execution_count": 111,
   "metadata": {},
   "outputs": [
    {
     "data": {
      "text/plain": [
       "2×2 Array{Float64,2}:\n",
       " 4.0   5.0\n",
       " 1.0  -1.0"
      ]
     },
     "execution_count": 111,
     "metadata": {},
     "output_type": "execute_result"
    }
   ],
   "source": [
    "A"
   ]
  },
  {
   "cell_type": "code",
   "execution_count": 112,
   "metadata": {},
   "outputs": [
    {
     "data": {
      "text/plain": [
       "2×2 Array{Float64,2}:\n",
       " 21.0  15.0\n",
       "  3.0   6.0"
      ]
     },
     "execution_count": 112,
     "metadata": {},
     "output_type": "execute_result"
    }
   ],
   "source": [
    "A^2 # A^2 = A * A"
   ]
  },
  {
   "cell_type": "code",
   "execution_count": 113,
   "metadata": {},
   "outputs": [
    {
     "data": {
      "text/plain": [
       "2×2 Array{Float64,2}:\n",
       " 16.0  25.0\n",
       "  1.0   1.0"
      ]
     },
     "execution_count": 113,
     "metadata": {},
     "output_type": "execute_result"
    }
   ],
   "source": [
    "A.^2"
   ]
  },
  {
   "cell_type": "code",
   "execution_count": 114,
   "metadata": {},
   "outputs": [
    {
     "name": "stderr",
     "output_type": "stream",
     "text": [
      "\u001b[32m\u001b[1m   Updating\u001b[22m\u001b[39m registry at `~/.julia/registries/General`\n"
     ]
    },
    {
     "name": "stdout",
     "output_type": "stream",
     "text": [
      "\u001b[?25l    "
     ]
    },
    {
     "name": "stderr",
     "output_type": "stream",
     "text": [
      "\u001b[32m\u001b[1m   Updating\u001b[22m\u001b[39m git-repo `https://github.com/JuliaRegistries/General.git`\n"
     ]
    },
    {
     "name": "stdout",
     "output_type": "stream",
     "text": [
      "\u001b[36m\u001b[1mFetching:\u001b[22m\u001b[39m [>                                        ]  0.0 %\r",
      "    \u001b[36m\u001b[1mFetching:\u001b[22m\u001b[39m [=>                                       ]  0.3 %\r",
      "    \u001b[36m\u001b[1mFetching:\u001b[22m\u001b[39m [=>                                       ]  0.7 %\r",
      "    \u001b[36m\u001b[1mFetching:\u001b[22m\u001b[39m [=>                                       ]  1.0 %\r",
      "    \u001b[36m\u001b[1mFetching:\u001b[22m\u001b[39m [=>                                       ]  1.4 %\r",
      "    \u001b[36m\u001b[1mFetching:\u001b[22m\u001b[39m [=>                                       ]  1.7 %\r",
      "    \u001b[36m\u001b[1mFetching:\u001b[22m\u001b[39m [=>                                       ]  2.1 %\r",
      "    \u001b[36m\u001b[1mFetching:\u001b[22m\u001b[39m [=>                                       ]  2.4 %\r",
      "    \u001b[36m\u001b[1mFetching:\u001b[22m\u001b[39m [==>                                      ]  2.8 %\r",
      "    \u001b[36m\u001b[1mFetching:\u001b[22m\u001b[39m [==>                                      ]  3.1 %\r",
      "    \u001b[36m\u001b[1mFetching:\u001b[22m\u001b[39m [==>                                      ]  3.5 %\r",
      "    \u001b[36m\u001b[1mFetching:\u001b[22m\u001b[39m [==>                                      ]  3.8 %\r",
      "    \u001b[36m\u001b[1mFetching:\u001b[22m\u001b[39m [==>                                      ]  4.2 %\r",
      "    \u001b[36m\u001b[1mFetching:\u001b[22m\u001b[39m [==>                                      ]  4.5 %\r",
      "    \u001b[36m\u001b[1mFetching:\u001b[22m\u001b[39m [==>                                      ]  4.8 %\r",
      "    \u001b[36m\u001b[1mFetching:\u001b[22m\u001b[39m [===>                                     ]  5.2 %\r",
      "    \u001b[36m\u001b[1mFetching:\u001b[22m\u001b[39m [===>                                     ]  5.5 %\r",
      "    \u001b[36m\u001b[1mFetching:\u001b[22m\u001b[39m [===>                                     ]  5.9 %\r",
      "    \u001b[36m\u001b[1mFetching:\u001b[22m\u001b[39m [===>                                     ]  6.2 %\r",
      "    \u001b[36m\u001b[1mFetching:\u001b[22m\u001b[39m [===>                                     ]  6.6 %\r",
      "    \u001b[36m\u001b[1mFetching:\u001b[22m\u001b[39m [===>                                     ]  6.9 %\r",
      "    \u001b[36m\u001b[1mFetching:\u001b[22m\u001b[39m [===>                                     ]  7.3 %\r",
      "    \u001b[36m\u001b[1mFetching:\u001b[22m\u001b[39m [====>                                    ]  7.6 %\r",
      "    \u001b[36m\u001b[1mFetching:\u001b[22m\u001b[39m [====>                                    ]  8.0 %\r",
      "    \u001b[36m\u001b[1mFetching:\u001b[22m\u001b[39m [====>                                    ]  8.3 %\r",
      "    \u001b[36m\u001b[1mFetching:\u001b[22m\u001b[39m [====>                                    ]  8.7 %\r",
      "    \u001b[36m\u001b[1mFetching:\u001b[22m\u001b[39m [====>                                    ]  9.0 %\r",
      "    \u001b[36m\u001b[1mFetching:\u001b[22m\u001b[39m [====>                                    ]  9.3 %\r",
      "    \u001b[36m\u001b[1mFetching:\u001b[22m\u001b[39m [====>                                    ]  9.7 %\r",
      "    \u001b[36m\u001b[1mFetching:\u001b[22m\u001b[39m [=====>                                   ]  10.0 %\r",
      "    \u001b[36m\u001b[1mFetching:\u001b[22m\u001b[39m [=====>                                   ]  10.4 %\r",
      "    \u001b[36m\u001b[1mFetching:\u001b[22m\u001b[39m [=====>                                   ]  10.7 %\r",
      "    \u001b[36m\u001b[1mFetching:\u001b[22m\u001b[39m [=====>                                   ]  11.1 %\r",
      "    \u001b[36m\u001b[1mFetching:\u001b[22m\u001b[39m [=====>                                   ]  11.4 %\r",
      "    \u001b[36m\u001b[1mFetching:\u001b[22m\u001b[39m [=====>                                   ]  11.8 %\r",
      "    \u001b[36m\u001b[1mFetching:\u001b[22m\u001b[39m [=====>                                   ]  12.1 %\r",
      "    \u001b[36m\u001b[1mFetching:\u001b[22m\u001b[39m [=====>                                   ]  12.5 %\r",
      "    \u001b[36m\u001b[1mFetching:\u001b[22m\u001b[39m [======>                                  ]  12.8 %\r",
      "    \u001b[36m\u001b[1mFetching:\u001b[22m\u001b[39m [======>                                  ]  13.1 %\r",
      "    \u001b[36m\u001b[1mFetching:\u001b[22m\u001b[39m [======>                                  ]  13.5 %\r",
      "    \u001b[36m\u001b[1mFetching:\u001b[22m\u001b[39m [======>                                  ]  13.8 %\r",
      "    \u001b[36m\u001b[1mFetching:\u001b[22m\u001b[39m [======>                                  ]  14.2 %\r",
      "    \u001b[36m\u001b[1mFetching:\u001b[22m\u001b[39m [======>                                  ]  14.5 %\r",
      "    \u001b[36m\u001b[1mFetching:\u001b[22m\u001b[39m [======>                                  ]  14.9 %\r",
      "    \u001b[36m\u001b[1mFetching:\u001b[22m\u001b[39m [=======>                                 ]  15.2 %\r",
      "    \u001b[36m\u001b[1mFetching:\u001b[22m\u001b[39m [=======>                                 ]  15.6 %\r",
      "    \u001b[36m\u001b[1mFetching:\u001b[22m\u001b[39m [=======>                                 ]  15.9 %\r",
      "    \u001b[36m\u001b[1mFetching:\u001b[22m\u001b[39m [=======>                                 ]  16.3 %\r",
      "    \u001b[36m\u001b[1mFetching:\u001b[22m\u001b[39m [=======>                                 ]  16.6 %\r",
      "    \u001b[36m\u001b[1mFetching:\u001b[22m\u001b[39m [=======>                                 ]  17.0 %\r",
      "    \u001b[36m\u001b[1mFetching:\u001b[22m\u001b[39m [=======>                                 ]  17.3 %\r",
      "    \u001b[36m\u001b[1mFetching:\u001b[22m\u001b[39m [========>                                ]  17.6 %\r",
      "    \u001b[36m\u001b[1mFetching:\u001b[22m\u001b[39m [========>                                ]  18.0 %\r",
      "    \u001b[36m\u001b[1mFetching:\u001b[22m\u001b[39m [========>                                ]  18.3 %\r",
      "    \u001b[36m\u001b[1mFetching:\u001b[22m\u001b[39m [========>                                ]  18.7 %\r",
      "    \u001b[36m\u001b[1mFetching:\u001b[22m\u001b[39m [========>                                ]  19.0 %\r",
      "    \u001b[36m\u001b[1mFetching:\u001b[22m\u001b[39m [========>                                ]  19.4 %\r",
      "    \u001b[36m\u001b[1mFetching:\u001b[22m\u001b[39m [========>                                ]  19.7 %\r",
      "    \u001b[36m\u001b[1mFetching:\u001b[22m\u001b[39m [=========>                               ]  20.1 %\r",
      "    \u001b[36m\u001b[1mFetching:\u001b[22m\u001b[39m [=========>                               ]  20.4 %\r",
      "    \u001b[36m\u001b[1mFetching:\u001b[22m\u001b[39m [=========>                               ]  20.8 %\r",
      "    \u001b[36m\u001b[1mFetching:\u001b[22m\u001b[39m [=========>                               ]  21.1 %\r",
      "    \u001b[36m\u001b[1mFetching:\u001b[22m\u001b[39m [=========>                               ]  21.5 %\r",
      "    \u001b[36m\u001b[1mFetching:\u001b[22m\u001b[39m [=========>                               ]  21.8 %\r",
      "    \u001b[36m\u001b[1mFetching:\u001b[22m\u001b[39m [=========>                               ]  22.1 %\r",
      "    \u001b[36m\u001b[1mFetching:\u001b[22m\u001b[39m [=========>                               ]  22.5 %\r",
      "    \u001b[36m\u001b[1mFetching:\u001b[22m\u001b[39m [==========>                              ]  22.8 %\r",
      "    \u001b[36m\u001b[1mFetching:\u001b[22m\u001b[39m [==========>                              ]  23.2 %\r",
      "    \u001b[36m\u001b[1mFetching:\u001b[22m\u001b[39m [==========>                              ]  23.5 %\r",
      "    \u001b[36m\u001b[1mFetching:\u001b[22m\u001b[39m [==========>                              ]  23.9 %\r",
      "    \u001b[36m\u001b[1mFetching:\u001b[22m\u001b[39m [==========>                              ]  24.2 %\r",
      "    \u001b[36m\u001b[1mFetching:\u001b[22m\u001b[39m [==========>                              ]  24.6 %\r",
      "    \u001b[36m\u001b[1mFetching:\u001b[22m\u001b[39m [==========>                              ]  24.9 %\r",
      "    \u001b[36m\u001b[1mFetching:\u001b[22m\u001b[39m [===========>                             ]  25.3 %\r",
      "    \u001b[36m\u001b[1mFetching:\u001b[22m\u001b[39m [===========>                             ]  25.6 %\r",
      "    \u001b[36m\u001b[1mFetching:\u001b[22m\u001b[39m [===========>                             ]  26.0 %\r",
      "    \u001b[36m\u001b[1mFetching:\u001b[22m\u001b[39m [===========>                             ]  26.3 %\r",
      "    \u001b[36m\u001b[1mFetching:\u001b[22m\u001b[39m [===========>                             ]  26.6 %\r",
      "    \u001b[36m\u001b[1mFetching:\u001b[22m\u001b[39m [===========>                             ]  27.0 %\r",
      "    \u001b[36m\u001b[1mFetching:\u001b[22m\u001b[39m [===========>                             ]  27.3 %\r",
      "    \u001b[36m\u001b[1mFetching:\u001b[22m\u001b[39m [============>                            ]  27.7 %\r",
      "    \u001b[36m\u001b[1mFetching:\u001b[22m\u001b[39m [============>                            ]  28.0 %\r",
      "    \u001b[36m\u001b[1mFetching:\u001b[22m\u001b[39m [============>                            ]  28.4 %\r",
      "    \u001b[36m\u001b[1mFetching:\u001b[22m\u001b[39m [============>                            ]  28.7 %\r",
      "    \u001b[36m\u001b[1mFetching:\u001b[22m\u001b[39m [============>                            ]  29.1 %\r",
      "    \u001b[36m\u001b[1mFetching:\u001b[22m\u001b[39m [============>                            ]  29.4 %\r",
      "    \u001b[36m\u001b[1mFetching:\u001b[22m\u001b[39m [============>                            ]  29.8 %\r",
      "    \u001b[36m\u001b[1mFetching:\u001b[22m\u001b[39m [=============>                           ]  30.1 %\r",
      "    \u001b[36m\u001b[1mFetching:\u001b[22m\u001b[39m [=============>                           ]  30.4 %\r",
      "    \u001b[36m\u001b[1mFetching:\u001b[22m\u001b[39m [=============>                           ]  30.8 %\r",
      "    \u001b[36m\u001b[1mFetching:\u001b[22m\u001b[39m [=============>                           ]  31.1 %\r",
      "    \u001b[36m\u001b[1mFetching:\u001b[22m\u001b[39m [=============>                           ]  31.5 %\r",
      "    \u001b[36m\u001b[1mFetching:\u001b[22m\u001b[39m [=============>                           ]  31.8 %\r",
      "    \u001b[36m\u001b[1mFetching:\u001b[22m\u001b[39m [=============>                           ]  32.2 %\r",
      "    \u001b[36m\u001b[1mFetching:\u001b[22m\u001b[39m [==============>                          ]  32.5 %\r",
      "    \u001b[36m\u001b[1mFetching:\u001b[22m\u001b[39m [==============>                          ]  32.9 %\r",
      "    \u001b[36m\u001b[1mFetching:\u001b[22m\u001b[39m [==============>                          ]  33.2 %\r",
      "    \u001b[36m\u001b[1mFetching:\u001b[22m\u001b[39m [==============>                          ]  33.6 %\r",
      "    \u001b[36m\u001b[1mFetching:\u001b[22m\u001b[39m [==============>                          ]  33.9 %\r",
      "    \u001b[36m\u001b[1mFetching:\u001b[22m\u001b[39m [==============>                          ]  34.3 %\r",
      "    \u001b[36m\u001b[1mFetching:\u001b[22m\u001b[39m [==============>                          ]  34.6 %\r",
      "    \u001b[36m\u001b[1mFetching:\u001b[22m\u001b[39m [==============>                          ]  34.9 %\r",
      "    \u001b[36m\u001b[1mFetching:\u001b[22m\u001b[39m [===============>                         ]  35.3 %\r",
      "    \u001b[36m\u001b[1mFetching:\u001b[22m\u001b[39m [===============>                         ]  35.6 %\r",
      "    \u001b[36m\u001b[1mFetching:\u001b[22m\u001b[39m [===============>                         ]  36.0 %\r",
      "    \u001b[36m\u001b[1mFetching:\u001b[22m\u001b[39m [===============>                         ]  36.3 %\r",
      "    \u001b[36m\u001b[1mFetching:\u001b[22m\u001b[39m [===============>                         ]  36.7 %\r",
      "    \u001b[36m\u001b[1mFetching:\u001b[22m\u001b[39m [===============>                         ]  37.0 %\r",
      "    \u001b[36m\u001b[1mFetching:\u001b[22m\u001b[39m [===============>                         ]  37.4 %\r",
      "    \u001b[36m\u001b[1mFetching:\u001b[22m\u001b[39m [================>                        ]  37.7 %\r",
      "    \u001b[36m\u001b[1mFetching:\u001b[22m\u001b[39m [================>                        ]  38.1 %\r",
      "    \u001b[36m\u001b[1mFetching:\u001b[22m\u001b[39m [================>                        ]  38.4 %\r",
      "    \u001b[36m\u001b[1mFetching:\u001b[22m\u001b[39m [================>                        ]  38.8 %\r",
      "    \u001b[36m\u001b[1mFetching:\u001b[22m\u001b[39m [================>                        ]  39.1 %\r",
      "    \u001b[36m\u001b[1mFetching:\u001b[22m\u001b[39m [================>                        ]  39.4 %\r",
      "    \u001b[36m\u001b[1mFetching:\u001b[22m\u001b[39m [================>                        ]  39.8 %\r",
      "    \u001b[36m\u001b[1mFetching:\u001b[22m\u001b[39m [=================>                       ]  40.1 %\r",
      "    \u001b[36m\u001b[1mFetching:\u001b[22m\u001b[39m [=================>                       ]  40.5 %\r",
      "    \u001b[36m\u001b[1mFetching:\u001b[22m\u001b[39m [=================>                       ]  40.8 %\r",
      "    \u001b[36m\u001b[1mFetching:\u001b[22m\u001b[39m [=================>                       ]  41.2 %\r",
      "    \u001b[36m\u001b[1mFetching:\u001b[22m\u001b[39m [=================>                       ]  "
     ]
    },
    {
     "name": "stdout",
     "output_type": "stream",
     "text": [
      "\u001b[2K\u001b[?25h[1mFetching:\u001b[22m\u001b[39m [========================================>]  100.0 %"
     ]
    },
    {
     "name": "stderr",
     "output_type": "stream",
     "text": [
      "\u001b[32m\u001b[1m  Resolving\u001b[22m\u001b[39m package versions...\n",
      "\u001b[32m\u001b[1m   Updating\u001b[22m\u001b[39m `~/.julia/environments/v1.4/Project.toml`\n",
      "\u001b[90m [no changes]\u001b[39m\n",
      "\u001b[32m\u001b[1m   Updating\u001b[22m\u001b[39m `~/.julia/environments/v1.4/Manifest.toml`\n",
      "\u001b[90m [no changes]\u001b[39m\n"
     ]
    }
   ],
   "source": [
    "using Pkg\n",
    "pkg\"add Plots\""
   ]
  },
  {
   "cell_type": "code",
   "execution_count": 132,
   "metadata": {},
   "outputs": [],
   "source": [
    "using Plots\n",
    "gr(size=(400,300))"
   ]
  },
  {
   "cell_type": "code",
   "execution_count": 137,
   "metadata": {},
   "outputs": [
    {
     "data": {
      "image/svg+xml": [
       "<?xml version=\"1.0\" encoding=\"utf-8\"?>\n",
       "<svg xmlns=\"http://www.w3.org/2000/svg\" xmlns:xlink=\"http://www.w3.org/1999/xlink\" width=\"400\" height=\"300\" viewBox=\"0 0 1600 1200\">\n",
       "<defs>\n",
       "  <clipPath id=\"clip0400\">\n",
       "    <rect x=\"0\" y=\"0\" width=\"1600\" height=\"1200\"/>\n",
       "  </clipPath>\n",
       "</defs>\n",
       "<path clip-path=\"url(#clip0400)\" d=\"\n",
       "M0 1200 L1600 1200 L1600 0 L0 0  Z\n",
       "  \" fill=\"#ffffff\" fill-rule=\"evenodd\" fill-opacity=\"1\"/>\n",
       "<defs>\n",
       "  <clipPath id=\"clip0401\">\n",
       "    <rect x=\"320\" y=\"0\" width=\"1121\" height=\"1121\"/>\n",
       "  </clipPath>\n",
       "</defs>\n",
       "<path clip-path=\"url(#clip0400)\" d=\"\n",
       "M174.008 1087.28 L1552.76 1087.28 L1552.76 47.2441 L174.008 47.2441  Z\n",
       "  \" fill=\"#ffffff\" fill-rule=\"evenodd\" fill-opacity=\"1\"/>\n",
       "<defs>\n",
       "  <clipPath id=\"clip0402\">\n",
       "    <rect x=\"174\" y=\"47\" width=\"1380\" height=\"1041\"/>\n",
       "  </clipPath>\n",
       "</defs>\n",
       "<polyline clip-path=\"url(#clip0402)\" style=\"stroke:#000000; stroke-width:2; stroke-opacity:0.1; fill:none\" points=\"\n",
       "  213.029,1087.28 213.029,47.2441 \n",
       "  \"/>\n",
       "<polyline clip-path=\"url(#clip0402)\" style=\"stroke:#000000; stroke-width:2; stroke-opacity:0.1; fill:none\" points=\"\n",
       "  538.206,1087.28 538.206,47.2441 \n",
       "  \"/>\n",
       "<polyline clip-path=\"url(#clip0402)\" style=\"stroke:#000000; stroke-width:2; stroke-opacity:0.1; fill:none\" points=\"\n",
       "  863.382,1087.28 863.382,47.2441 \n",
       "  \"/>\n",
       "<polyline clip-path=\"url(#clip0402)\" style=\"stroke:#000000; stroke-width:2; stroke-opacity:0.1; fill:none\" points=\"\n",
       "  1188.56,1087.28 1188.56,47.2441 \n",
       "  \"/>\n",
       "<polyline clip-path=\"url(#clip0402)\" style=\"stroke:#000000; stroke-width:2; stroke-opacity:0.1; fill:none\" points=\"\n",
       "  1513.73,1087.28 1513.73,47.2441 \n",
       "  \"/>\n",
       "<polyline clip-path=\"url(#clip0402)\" style=\"stroke:#000000; stroke-width:2; stroke-opacity:0.1; fill:none\" points=\"\n",
       "  174.008,1057.85 1552.76,1057.85 \n",
       "  \"/>\n",
       "<polyline clip-path=\"url(#clip0402)\" style=\"stroke:#000000; stroke-width:2; stroke-opacity:0.1; fill:none\" points=\"\n",
       "  174.008,877.372 1552.76,877.372 \n",
       "  \"/>\n",
       "<polyline clip-path=\"url(#clip0402)\" style=\"stroke:#000000; stroke-width:2; stroke-opacity:0.1; fill:none\" points=\"\n",
       "  174.008,696.896 1552.76,696.896 \n",
       "  \"/>\n",
       "<polyline clip-path=\"url(#clip0402)\" style=\"stroke:#000000; stroke-width:2; stroke-opacity:0.1; fill:none\" points=\"\n",
       "  174.008,516.42 1552.76,516.42 \n",
       "  \"/>\n",
       "<polyline clip-path=\"url(#clip0402)\" style=\"stroke:#000000; stroke-width:2; stroke-opacity:0.1; fill:none\" points=\"\n",
       "  174.008,335.944 1552.76,335.944 \n",
       "  \"/>\n",
       "<polyline clip-path=\"url(#clip0402)\" style=\"stroke:#000000; stroke-width:2; stroke-opacity:0.1; fill:none\" points=\"\n",
       "  174.008,155.468 1552.76,155.468 \n",
       "  \"/>\n",
       "<polyline clip-path=\"url(#clip0400)\" style=\"stroke:#000000; stroke-width:4; stroke-opacity:1; fill:none\" points=\"\n",
       "  174.008,1087.28 1552.76,1087.28 \n",
       "  \"/>\n",
       "<polyline clip-path=\"url(#clip0400)\" style=\"stroke:#000000; stroke-width:4; stroke-opacity:1; fill:none\" points=\"\n",
       "  174.008,1087.28 174.008,47.2441 \n",
       "  \"/>\n",
       "<polyline clip-path=\"url(#clip0400)\" style=\"stroke:#000000; stroke-width:4; stroke-opacity:1; fill:none\" points=\"\n",
       "  213.029,1087.28 213.029,1074.8 \n",
       "  \"/>\n",
       "<polyline clip-path=\"url(#clip0400)\" style=\"stroke:#000000; stroke-width:4; stroke-opacity:1; fill:none\" points=\"\n",
       "  538.206,1087.28 538.206,1074.8 \n",
       "  \"/>\n",
       "<polyline clip-path=\"url(#clip0400)\" style=\"stroke:#000000; stroke-width:4; stroke-opacity:1; fill:none\" points=\"\n",
       "  863.382,1087.28 863.382,1074.8 \n",
       "  \"/>\n",
       "<polyline clip-path=\"url(#clip0400)\" style=\"stroke:#000000; stroke-width:4; stroke-opacity:1; fill:none\" points=\"\n",
       "  1188.56,1087.28 1188.56,1074.8 \n",
       "  \"/>\n",
       "<polyline clip-path=\"url(#clip0400)\" style=\"stroke:#000000; stroke-width:4; stroke-opacity:1; fill:none\" points=\"\n",
       "  1513.73,1087.28 1513.73,1074.8 \n",
       "  \"/>\n",
       "<polyline clip-path=\"url(#clip0400)\" style=\"stroke:#000000; stroke-width:4; stroke-opacity:1; fill:none\" points=\"\n",
       "  174.008,1057.85 190.553,1057.85 \n",
       "  \"/>\n",
       "<polyline clip-path=\"url(#clip0400)\" style=\"stroke:#000000; stroke-width:4; stroke-opacity:1; fill:none\" points=\"\n",
       "  174.008,877.372 190.553,877.372 \n",
       "  \"/>\n",
       "<polyline clip-path=\"url(#clip0400)\" style=\"stroke:#000000; stroke-width:4; stroke-opacity:1; fill:none\" points=\"\n",
       "  174.008,696.896 190.553,696.896 \n",
       "  \"/>\n",
       "<polyline clip-path=\"url(#clip0400)\" style=\"stroke:#000000; stroke-width:4; stroke-opacity:1; fill:none\" points=\"\n",
       "  174.008,516.42 190.553,516.42 \n",
       "  \"/>\n",
       "<polyline clip-path=\"url(#clip0400)\" style=\"stroke:#000000; stroke-width:4; stroke-opacity:1; fill:none\" points=\"\n",
       "  174.008,335.944 190.553,335.944 \n",
       "  \"/>\n",
       "<polyline clip-path=\"url(#clip0400)\" style=\"stroke:#000000; stroke-width:4; stroke-opacity:1; fill:none\" points=\"\n",
       "  174.008,155.468 190.553,155.468 \n",
       "  \"/>\n",
       "<g clip-path=\"url(#clip0400)\">\n",
       "<text style=\"fill:#000000; fill-opacity:1; font-family:Arial,Helvetica Neue,Helvetica,sans-serif; font-size:48px; text-anchor:middle;\" transform=\"rotate(0, 213.029, 1137.28)\" x=\"213.029\" y=\"1137.28\">0.00</text>\n",
       "</g>\n",
       "<g clip-path=\"url(#clip0400)\">\n",
       "<text style=\"fill:#000000; fill-opacity:1; font-family:Arial,Helvetica Neue,Helvetica,sans-serif; font-size:48px; text-anchor:middle;\" transform=\"rotate(0, 538.206, 1137.28)\" x=\"538.206\" y=\"1137.28\">0.25</text>\n",
       "</g>\n",
       "<g clip-path=\"url(#clip0400)\">\n",
       "<text style=\"fill:#000000; fill-opacity:1; font-family:Arial,Helvetica Neue,Helvetica,sans-serif; font-size:48px; text-anchor:middle;\" transform=\"rotate(0, 863.382, 1137.28)\" x=\"863.382\" y=\"1137.28\">0.50</text>\n",
       "</g>\n",
       "<g clip-path=\"url(#clip0400)\">\n",
       "<text style=\"fill:#000000; fill-opacity:1; font-family:Arial,Helvetica Neue,Helvetica,sans-serif; font-size:48px; text-anchor:middle;\" transform=\"rotate(0, 1188.56, 1137.28)\" x=\"1188.56\" y=\"1137.28\">0.75</text>\n",
       "</g>\n",
       "<g clip-path=\"url(#clip0400)\">\n",
       "<text style=\"fill:#000000; fill-opacity:1; font-family:Arial,Helvetica Neue,Helvetica,sans-serif; font-size:48px; text-anchor:middle;\" transform=\"rotate(0, 1513.73, 1137.28)\" x=\"1513.73\" y=\"1137.28\">1.00</text>\n",
       "</g>\n",
       "<g clip-path=\"url(#clip0400)\">\n",
       "<text style=\"fill:#000000; fill-opacity:1; font-family:Arial,Helvetica Neue,Helvetica,sans-serif; font-size:48px; text-anchor:end;\" transform=\"rotate(0, 158.008, 1075.35)\" x=\"158.008\" y=\"1075.35\">-1.0</text>\n",
       "</g>\n",
       "<g clip-path=\"url(#clip0400)\">\n",
       "<text style=\"fill:#000000; fill-opacity:1; font-family:Arial,Helvetica Neue,Helvetica,sans-serif; font-size:48px; text-anchor:end;\" transform=\"rotate(0, 158.008, 894.872)\" x=\"158.008\" y=\"894.872\">-0.5</text>\n",
       "</g>\n",
       "<g clip-path=\"url(#clip0400)\">\n",
       "<text style=\"fill:#000000; fill-opacity:1; font-family:Arial,Helvetica Neue,Helvetica,sans-serif; font-size:48px; text-anchor:end;\" transform=\"rotate(0, 158.008, 714.396)\" x=\"158.008\" y=\"714.396\">0.0</text>\n",
       "</g>\n",
       "<g clip-path=\"url(#clip0400)\">\n",
       "<text style=\"fill:#000000; fill-opacity:1; font-family:Arial,Helvetica Neue,Helvetica,sans-serif; font-size:48px; text-anchor:end;\" transform=\"rotate(0, 158.008, 533.92)\" x=\"158.008\" y=\"533.92\">0.5</text>\n",
       "</g>\n",
       "<g clip-path=\"url(#clip0400)\">\n",
       "<text style=\"fill:#000000; fill-opacity:1; font-family:Arial,Helvetica Neue,Helvetica,sans-serif; font-size:48px; text-anchor:end;\" transform=\"rotate(0, 158.008, 353.444)\" x=\"158.008\" y=\"353.444\">1.0</text>\n",
       "</g>\n",
       "<g clip-path=\"url(#clip0400)\">\n",
       "<text style=\"fill:#000000; fill-opacity:1; font-family:Arial,Helvetica Neue,Helvetica,sans-serif; font-size:48px; text-anchor:end;\" transform=\"rotate(0, 158.008, 172.968)\" x=\"158.008\" y=\"172.968\">1.5</text>\n",
       "</g>\n",
       "<polyline clip-path=\"url(#clip0402)\" style=\"stroke:#009af9; stroke-width:4; stroke-opacity:1; fill:none\" points=\"\n",
       "  213.029,1057.85 226.036,1054.2 239.043,1050.48 252.05,1046.69 265.057,1042.82 278.065,1038.88 291.072,1034.85 304.079,1030.75 317.086,1026.57 330.093,1022.3 \n",
       "  343.1,1017.96 356.107,1013.53 369.114,1009.01 382.121,1004.41 395.128,999.721 408.135,994.943 421.142,990.075 434.149,985.116 447.156,980.063 460.163,974.917 \n",
       "  473.17,969.674 486.177,964.335 499.184,958.898 512.191,953.36 525.199,947.722 538.206,941.98 551.213,936.134 564.22,930.183 577.227,924.124 590.234,917.956 \n",
       "  603.241,911.678 616.248,905.287 629.255,898.783 642.262,892.164 655.269,885.428 668.276,878.573 681.283,871.597 694.29,864.5 707.297,857.279 720.304,849.932 \n",
       "  733.311,842.457 746.318,834.854 759.326,827.119 772.333,819.251 785.34,811.249 798.347,803.11 811.354,794.832 824.361,786.413 837.368,777.852 850.375,769.146 \n",
       "  863.382,760.294 876.389,751.292 889.396,742.14 902.403,732.835 915.41,723.374 928.417,713.757 941.424,703.979 954.431,694.04 967.438,683.937 980.445,673.668 \n",
       "  993.453,663.23 1006.46,652.621 1019.47,641.838 1032.47,630.88 1045.48,619.744 1058.49,608.426 1071.49,596.926 1084.5,585.24 1097.51,573.365 1110.52,561.3 \n",
       "  1123.52,549.041 1136.53,536.585 1149.54,523.931 1162.54,511.075 1175.55,498.014 1188.56,484.747 1201.57,471.269 1214.57,457.578 1227.58,443.671 1240.59,429.545 \n",
       "  1253.59,415.198 1266.6,400.625 1279.61,385.824 1292.61,370.793 1305.62,355.527 1318.63,340.023 1331.64,324.279 1344.64,308.291 1357.65,292.056 1370.66,275.57 \n",
       "  1383.66,258.83 1396.67,241.832 1409.68,224.574 1422.69,207.051 1435.69,189.26 1448.7,171.197 1461.71,152.859 1474.71,134.242 1487.72,115.342 1500.73,96.156 \n",
       "  1513.73,76.6792 \n",
       "  \"/>\n",
       "<path clip-path=\"url(#clip0400)\" d=\"\n",
       "M1293.93 203.724 L1504.76 203.724 L1504.76 82.7641 L1293.93 82.7641  Z\n",
       "  \" fill=\"#ffffff\" fill-rule=\"evenodd\" fill-opacity=\"1\"/>\n",
       "<polyline clip-path=\"url(#clip0400)\" style=\"stroke:#000000; stroke-width:4; stroke-opacity:1; fill:none\" points=\"\n",
       "  1293.93,203.724 1504.76,203.724 1504.76,82.7641 1293.93,82.7641 1293.93,203.724 \n",
       "  \"/>\n",
       "<polyline clip-path=\"url(#clip0400)\" style=\"stroke:#009af9; stroke-width:4; stroke-opacity:1; fill:none\" points=\"\n",
       "  1309.93,143.244 1405.93,143.244 \n",
       "  \"/>\n",
       "<g clip-path=\"url(#clip0400)\">\n",
       "<text style=\"fill:#000000; fill-opacity:1; font-family:Arial,Helvetica Neue,Helvetica,sans-serif; font-size:48px; text-anchor:start;\" transform=\"rotate(0, 1421.93, 160.744)\" x=\"1421.93\" y=\"160.744\">y1</text>\n",
       "</g>\n",
       "</svg>\n"
      ]
     },
     "execution_count": 137,
     "metadata": {},
     "output_type": "execute_result"
    }
   ],
   "source": [
    "f(x) = x * exp(x) - 1\n",
    "xg = 0:0.01:1.0 # 0 a 2 com intervalo de 0.01\n",
    "yg = f.(xg)\n",
    "plot(xg, yg)"
   ]
  },
  {
   "cell_type": "code",
   "execution_count": 138,
   "metadata": {},
   "outputs": [
    {
     "data": {
      "text/plain": [
       "2×2 Array{Float64,2}:\n",
       " 4.0   5.0\n",
       " 1.0  -1.0"
      ]
     },
     "execution_count": 138,
     "metadata": {},
     "output_type": "execute_result"
    }
   ],
   "source": [
    "A"
   ]
  },
  {
   "cell_type": "code",
   "execution_count": 139,
   "metadata": {},
   "outputs": [
    {
     "data": {
      "text/plain": [
       "2×2 Array{Float64,2}:\n",
       " 54.5982   148.413\n",
       "  2.71828    0.367879"
      ]
     },
     "execution_count": 139,
     "metadata": {},
     "output_type": "execute_result"
    }
   ],
   "source": [
    "exp.(A)"
   ]
  },
  {
   "cell_type": "code",
   "execution_count": 142,
   "metadata": {},
   "outputs": [
    {
     "data": {
      "text/plain": [
       "3-element Array{Float64,1}:\n",
       " 1.0000000000000184\n",
       " 1.0000000000000124\n",
       " 0.9999999999999777"
      ]
     },
     "execution_count": 142,
     "metadata": {},
     "output_type": "execute_result"
    }
   ],
   "source": [
    "A = rand(3, 3)\n",
    "b = A * ones(3)\n",
    "x = A \\ b"
   ]
  },
  {
   "cell_type": "code",
   "execution_count": 143,
   "metadata": {},
   "outputs": [
    {
     "data": {
      "text/plain": [
       "5.551115123125783e-17"
      ]
     },
     "execution_count": 143,
     "metadata": {},
     "output_type": "execute_result"
    }
   ],
   "source": [
    "norm(A * x - b)"
   ]
  },
  {
   "cell_type": "code",
   "execution_count": 145,
   "metadata": {},
   "outputs": [
    {
     "data": {
      "text/plain": [
       "LU{Float64,Array{Float64,2}}\n",
       "L factor:\n",
       "3×3 Array{Float64,2}:\n",
       " 1.0        0.0      0.0\n",
       " 0.045264   1.0      0.0\n",
       " 0.945382  -0.76531  1.0\n",
       "U factor:\n",
       "3×3 Array{Float64,2}:\n",
       " 0.914049  0.310476  0.915226\n",
       " 0.0       0.233737  0.132409\n",
       " 0.0       0.0       0.00497201"
      ]
     },
     "execution_count": 145,
     "metadata": {},
     "output_type": "execute_result"
    }
   ],
   "source": [
    "# LU\n",
    "L, U = lu(A)"
   ]
  },
  {
   "cell_type": "code",
   "execution_count": 146,
   "metadata": {},
   "outputs": [
    {
     "data": {
      "text/plain": [
       "([1.0 0.0 0.0; 0.04526396709138839 1.0 0.0; 0.9453815312355539 -0.7653100649098376 1.0], [0.9140491435509424 0.310475563424051 0.9152259567981613; 0.0 0.23373735864839082 0.13240929033774768; 0.0 0.0 0.004972007174138593])"
      ]
     },
     "execution_count": 146,
     "metadata": {},
     "output_type": "execute_result"
    }
   ],
   "source": [
    "L, U"
   ]
  },
  {
   "cell_type": "code",
   "execution_count": 147,
   "metadata": {},
   "outputs": [
    {
     "data": {
      "text/plain": [
       "LU{Float64,Array{Float64,2}}\n",
       "L factor:\n",
       "3×3 Array{Float64,2}:\n",
       " 1.0        0.0      0.0\n",
       " 0.045264   1.0      0.0\n",
       " 0.945382  -0.76531  1.0\n",
       "U factor:\n",
       "3×3 Array{Float64,2}:\n",
       " 0.914049  0.310476  0.915226\n",
       " 0.0       0.233737  0.132409\n",
       " 0.0       0.0       0.00497201"
      ]
     },
     "execution_count": 147,
     "metadata": {},
     "output_type": "execute_result"
    }
   ],
   "source": [
    "F = lu(A)"
   ]
  },
  {
   "cell_type": "code",
   "execution_count": 148,
   "metadata": {},
   "outputs": [
    {
     "data": {
      "text/plain": [
       "3-element Array{Float64,1}:\n",
       " 1.0000000000000184\n",
       " 1.0000000000000124\n",
       " 0.9999999999999777"
      ]
     },
     "execution_count": 148,
     "metadata": {},
     "output_type": "execute_result"
    }
   ],
   "source": [
    "F \\ b"
   ]
  },
  {
   "cell_type": "code",
   "execution_count": 149,
   "metadata": {},
   "outputs": [
    {
     "data": {
      "text/plain": [
       "LU{Float64,Array{Float64,2}}"
      ]
     },
     "execution_count": 149,
     "metadata": {},
     "output_type": "execute_result"
    }
   ],
   "source": [
    "typeof(F)"
   ]
  },
  {
   "cell_type": "code",
   "execution_count": 150,
   "metadata": {},
   "outputs": [
    {
     "data": {
      "text/plain": [
       "Array{Float64,2}"
      ]
     },
     "execution_count": 150,
     "metadata": {},
     "output_type": "execute_result"
    }
   ],
   "source": [
    "typeof(A)"
   ]
  },
  {
   "cell_type": "code",
   "execution_count": 152,
   "metadata": {},
   "outputs": [
    {
     "data": {
      "text/plain": [
       "LinearAlgebra.QRCompactWY{Float64,Array{Float64,2}}\n",
       "Q factor:\n",
       "3×3 LinearAlgebra.QRCompactWYQ{Float64,Array{Float64,2}}:\n",
       " -0.686612    0.368528  -0.626698\n",
       " -0.0328743  -0.876861  -0.479619\n",
       " -0.72628    -0.30871    0.614178\n",
       "R factor:\n",
       "3×3 Array{Float64,2}:\n",
       " -1.25853  -0.312349  -1.19834\n",
       "  0.0      -0.270878  -0.151617\n",
       "  0.0       0.0       -0.00311595"
      ]
     },
     "execution_count": 152,
     "metadata": {},
     "output_type": "execute_result"
    }
   ],
   "source": [
    "# QR\n",
    "F = qr(A)"
   ]
  },
  {
   "cell_type": "code",
   "execution_count": 153,
   "metadata": {},
   "outputs": [
    {
     "data": {
      "text/plain": [
       "3×3 LinearAlgebra.QRCompactWYQ{Float64,Array{Float64,2}}:\n",
       " -0.686612    0.368528  -0.626698\n",
       " -0.0328743  -0.876861  -0.479619\n",
       " -0.72628    -0.30871    0.614178"
      ]
     },
     "execution_count": 153,
     "metadata": {},
     "output_type": "execute_result"
    }
   ],
   "source": [
    "F.Q"
   ]
  },
  {
   "cell_type": "code",
   "execution_count": 154,
   "metadata": {},
   "outputs": [
    {
     "data": {
      "text/plain": [
       "3×3 Array{Float64,2}:\n",
       " -1.25853  -0.312349  -1.19834\n",
       "  0.0      -0.270878  -0.151617\n",
       "  0.0       0.0       -0.00311595"
      ]
     },
     "execution_count": 154,
     "metadata": {},
     "output_type": "execute_result"
    }
   ],
   "source": [
    "F.R"
   ]
  },
  {
   "cell_type": "code",
   "execution_count": 155,
   "metadata": {},
   "outputs": [
    {
     "data": {
      "text/plain": [
       "Cholesky{Float64,Array{Float64,2}}\n",
       "U factor:\n",
       "3×3 UpperTriangular{Float64,Array{Float64,2}}:\n",
       " 1.54334  0.625954  0.284428\n",
       "  ⋅       1.23179   0.342493\n",
       "  ⋅        ⋅        1.18689"
      ]
     },
     "execution_count": 155,
     "metadata": {},
     "output_type": "execute_result"
    }
   ],
   "source": [
    "A = rand(3, 3)\n",
    "A = A * A' + I # Mostrar que A é def. pos.\n",
    "G = cholesky(A)"
   ]
  },
  {
   "cell_type": "code",
   "execution_count": 156,
   "metadata": {},
   "outputs": [
    {
     "data": {
      "text/plain": [
       "3×3 Array{Float64,2}:\n",
       " 2.38191   0.966063  0.43897\n",
       " 0.966063  1.90913   0.599918\n",
       " 0.43897   0.599918  1.60692"
      ]
     },
     "execution_count": 156,
     "metadata": {},
     "output_type": "execute_result"
    }
   ],
   "source": [
    "G.U' * G.U"
   ]
  },
  {
   "cell_type": "code",
   "execution_count": 157,
   "metadata": {},
   "outputs": [
    {
     "data": {
      "text/plain": [
       "3×3 Array{Float64,2}:\n",
       " 2.38191   0.966063  0.43897\n",
       " 0.966063  1.90913   0.599918\n",
       " 0.43897   0.599918  1.60692"
      ]
     },
     "execution_count": 157,
     "metadata": {},
     "output_type": "execute_result"
    }
   ],
   "source": [
    "A"
   ]
  },
  {
   "cell_type": "code",
   "execution_count": 158,
   "metadata": {},
   "outputs": [
    {
     "data": {
      "text/plain": [
       "LinearAlgebra.SVD{Float64,Float64,Array{Float64,2}}\n",
       "U factor:\n",
       "3×3 Array{Float64,2}:\n",
       " -0.710463   0.588642   0.385672\n",
       " -0.599059  -0.218297  -0.770373\n",
       " -0.369283  -0.778362   0.507724\n",
       "singular values:\n",
       "3-element Array{Float64,1}:\n",
       " 3.424656773848378\n",
       " 1.443196392950919\n",
       " 1.030104605284253\n",
       "Vt factor:\n",
       "3×3 Array{Float64,2}:\n",
       " -0.710463  -0.599059  -0.369283\n",
       "  0.588642  -0.218297  -0.778362\n",
       "  0.385672  -0.770373   0.507724"
      ]
     },
     "execution_count": 158,
     "metadata": {},
     "output_type": "execute_result"
    }
   ],
   "source": [
    "# SVD\n",
    "SVD = svd(A)"
   ]
  },
  {
   "cell_type": "markdown",
   "metadata": {},
   "source": [
    "## Autovalores e autovetores"
   ]
  },
  {
   "cell_type": "code",
   "execution_count": 159,
   "metadata": {},
   "outputs": [
    {
     "data": {
      "text/plain": [
       "Eigen{Complex{Float64},Complex{Float64},Array{Complex{Float64},2},Array{Complex{Float64},1}}\n",
       "values:\n",
       "3-element Array{Complex{Float64},1}:\n",
       " -0.053186648996767324 - 0.31633502457642476im\n",
       " -0.053186648996767324 + 0.31633502457642476im\n",
       "    1.4757105522744578 + 0.0im\n",
       "vectors:\n",
       "3×3 Array{Complex{Float64},2}:\n",
       "  0.121385-0.432781im   0.121385+0.432781im  0.417867+0.0im\n",
       "  0.723362-0.0im        0.723362+0.0im       0.708358+0.0im\n",
       " -0.465031+0.241784im  -0.465031-0.241784im  0.568873+0.0im"
      ]
     },
     "execution_count": 159,
     "metadata": {},
     "output_type": "execute_result"
    }
   ],
   "source": [
    "A = rand(3, 3)\n",
    "eigen(A)"
   ]
  },
  {
   "cell_type": "code",
   "execution_count": 160,
   "metadata": {},
   "outputs": [
    {
     "data": {
      "text/plain": [
       "3-element Array{Complex{Float64},1}:\n",
       " -0.053186648996767324 - 0.31633502457642476im\n",
       " -0.053186648996767324 + 0.31633502457642476im\n",
       "    1.4757105522744578 + 0.0im"
      ]
     },
     "execution_count": 160,
     "metadata": {},
     "output_type": "execute_result"
    }
   ],
   "source": [
    "eigen(A).values"
   ]
  },
  {
   "cell_type": "code",
   "execution_count": 161,
   "metadata": {},
   "outputs": [
    {
     "data": {
      "text/plain": [
       "3×3 Array{Complex{Float64},2}:\n",
       "  0.121385-0.432781im   0.121385+0.432781im  0.417867+0.0im\n",
       "  0.723362-0.0im        0.723362+0.0im       0.708358+0.0im\n",
       " -0.465031+0.241784im  -0.465031-0.241784im  0.568873+0.0im"
      ]
     },
     "execution_count": 161,
     "metadata": {},
     "output_type": "execute_result"
    }
   ],
   "source": [
    "eigen(A).vectors"
   ]
  },
  {
   "cell_type": "code",
   "execution_count": 163,
   "metadata": {},
   "outputs": [
    {
     "data": {
      "image/svg+xml": [
       "<?xml version=\"1.0\" encoding=\"utf-8\"?>\n",
       "<svg xmlns=\"http://www.w3.org/2000/svg\" xmlns:xlink=\"http://www.w3.org/1999/xlink\" width=\"400\" height=\"300\" viewBox=\"0 0 1600 1200\">\n",
       "<defs>\n",
       "  <clipPath id=\"clip1200\">\n",
       "    <rect x=\"0\" y=\"0\" width=\"1600\" height=\"1200\"/>\n",
       "  </clipPath>\n",
       "</defs>\n",
       "<path clip-path=\"url(#clip1200)\" d=\"\n",
       "M0 1200 L1600 1200 L1600 0 L0 0  Z\n",
       "  \" fill=\"#ffffff\" fill-rule=\"evenodd\" fill-opacity=\"1\"/>\n",
       "<defs>\n",
       "  <clipPath id=\"clip1201\">\n",
       "    <rect x=\"320\" y=\"0\" width=\"1121\" height=\"1121\"/>\n",
       "  </clipPath>\n",
       "</defs>\n",
       "<path clip-path=\"url(#clip1200)\" d=\"\n",
       "M174.008 1087.28 L1552.76 1087.28 L1552.76 47.2441 L174.008 47.2441  Z\n",
       "  \" fill=\"#ffffff\" fill-rule=\"evenodd\" fill-opacity=\"1\"/>\n",
       "<defs>\n",
       "  <clipPath id=\"clip1202\">\n",
       "    <rect x=\"174\" y=\"47\" width=\"1380\" height=\"1041\"/>\n",
       "  </clipPath>\n",
       "</defs>\n",
       "<polyline clip-path=\"url(#clip1202)\" style=\"stroke:#000000; stroke-width:2; stroke-opacity:0.1; fill:none\" points=\"\n",
       "  213.029,1087.28 213.029,47.2441 \n",
       "  \"/>\n",
       "<polyline clip-path=\"url(#clip1202)\" style=\"stroke:#000000; stroke-width:2; stroke-opacity:0.1; fill:none\" points=\"\n",
       "  538.206,1087.28 538.206,47.2441 \n",
       "  \"/>\n",
       "<polyline clip-path=\"url(#clip1202)\" style=\"stroke:#000000; stroke-width:2; stroke-opacity:0.1; fill:none\" points=\"\n",
       "  863.382,1087.28 863.382,47.2441 \n",
       "  \"/>\n",
       "<polyline clip-path=\"url(#clip1202)\" style=\"stroke:#000000; stroke-width:2; stroke-opacity:0.1; fill:none\" points=\"\n",
       "  1188.56,1087.28 1188.56,47.2441 \n",
       "  \"/>\n",
       "<polyline clip-path=\"url(#clip1202)\" style=\"stroke:#000000; stroke-width:2; stroke-opacity:0.1; fill:none\" points=\"\n",
       "  1513.73,1087.28 1513.73,47.2441 \n",
       "  \"/>\n",
       "<polyline clip-path=\"url(#clip1202)\" style=\"stroke:#000000; stroke-width:2; stroke-opacity:0.1; fill:none\" points=\"\n",
       "  174.008,1057.85 1552.76,1057.85 \n",
       "  \"/>\n",
       "<polyline clip-path=\"url(#clip1202)\" style=\"stroke:#000000; stroke-width:2; stroke-opacity:0.1; fill:none\" points=\"\n",
       "  174.008,812.556 1552.76,812.556 \n",
       "  \"/>\n",
       "<polyline clip-path=\"url(#clip1202)\" style=\"stroke:#000000; stroke-width:2; stroke-opacity:0.1; fill:none\" points=\"\n",
       "  174.008,567.264 1552.76,567.264 \n",
       "  \"/>\n",
       "<polyline clip-path=\"url(#clip1202)\" style=\"stroke:#000000; stroke-width:2; stroke-opacity:0.1; fill:none\" points=\"\n",
       "  174.008,321.971 1552.76,321.971 \n",
       "  \"/>\n",
       "<polyline clip-path=\"url(#clip1202)\" style=\"stroke:#000000; stroke-width:2; stroke-opacity:0.1; fill:none\" points=\"\n",
       "  174.008,76.6792 1552.76,76.6792 \n",
       "  \"/>\n",
       "<polyline clip-path=\"url(#clip1200)\" style=\"stroke:#000000; stroke-width:4; stroke-opacity:1; fill:none\" points=\"\n",
       "  174.008,1087.28 1552.76,1087.28 \n",
       "  \"/>\n",
       "<polyline clip-path=\"url(#clip1200)\" style=\"stroke:#000000; stroke-width:4; stroke-opacity:1; fill:none\" points=\"\n",
       "  174.008,1087.28 174.008,47.2441 \n",
       "  \"/>\n",
       "<polyline clip-path=\"url(#clip1200)\" style=\"stroke:#000000; stroke-width:4; stroke-opacity:1; fill:none\" points=\"\n",
       "  213.029,1087.28 213.029,1074.8 \n",
       "  \"/>\n",
       "<polyline clip-path=\"url(#clip1200)\" style=\"stroke:#000000; stroke-width:4; stroke-opacity:1; fill:none\" points=\"\n",
       "  538.206,1087.28 538.206,1074.8 \n",
       "  \"/>\n",
       "<polyline clip-path=\"url(#clip1200)\" style=\"stroke:#000000; stroke-width:4; stroke-opacity:1; fill:none\" points=\"\n",
       "  863.382,1087.28 863.382,1074.8 \n",
       "  \"/>\n",
       "<polyline clip-path=\"url(#clip1200)\" style=\"stroke:#000000; stroke-width:4; stroke-opacity:1; fill:none\" points=\"\n",
       "  1188.56,1087.28 1188.56,1074.8 \n",
       "  \"/>\n",
       "<polyline clip-path=\"url(#clip1200)\" style=\"stroke:#000000; stroke-width:4; stroke-opacity:1; fill:none\" points=\"\n",
       "  1513.73,1087.28 1513.73,1074.8 \n",
       "  \"/>\n",
       "<polyline clip-path=\"url(#clip1200)\" style=\"stroke:#000000; stroke-width:4; stroke-opacity:1; fill:none\" points=\"\n",
       "  174.008,1057.85 190.553,1057.85 \n",
       "  \"/>\n",
       "<polyline clip-path=\"url(#clip1200)\" style=\"stroke:#000000; stroke-width:4; stroke-opacity:1; fill:none\" points=\"\n",
       "  174.008,812.556 190.553,812.556 \n",
       "  \"/>\n",
       "<polyline clip-path=\"url(#clip1200)\" style=\"stroke:#000000; stroke-width:4; stroke-opacity:1; fill:none\" points=\"\n",
       "  174.008,567.264 190.553,567.264 \n",
       "  \"/>\n",
       "<polyline clip-path=\"url(#clip1200)\" style=\"stroke:#000000; stroke-width:4; stroke-opacity:1; fill:none\" points=\"\n",
       "  174.008,321.971 190.553,321.971 \n",
       "  \"/>\n",
       "<polyline clip-path=\"url(#clip1200)\" style=\"stroke:#000000; stroke-width:4; stroke-opacity:1; fill:none\" points=\"\n",
       "  174.008,76.6792 190.553,76.6792 \n",
       "  \"/>\n",
       "<g clip-path=\"url(#clip1200)\">\n",
       "<text style=\"fill:#000000; fill-opacity:1; font-family:Arial,Helvetica Neue,Helvetica,sans-serif; font-size:48px; text-anchor:middle;\" transform=\"rotate(0, 213.029, 1137.28)\" x=\"213.029\" y=\"1137.28\">-1.0</text>\n",
       "</g>\n",
       "<g clip-path=\"url(#clip1200)\">\n",
       "<text style=\"fill:#000000; fill-opacity:1; font-family:Arial,Helvetica Neue,Helvetica,sans-serif; font-size:48px; text-anchor:middle;\" transform=\"rotate(0, 538.206, 1137.28)\" x=\"538.206\" y=\"1137.28\">-0.5</text>\n",
       "</g>\n",
       "<g clip-path=\"url(#clip1200)\">\n",
       "<text style=\"fill:#000000; fill-opacity:1; font-family:Arial,Helvetica Neue,Helvetica,sans-serif; font-size:48px; text-anchor:middle;\" transform=\"rotate(0, 863.382, 1137.28)\" x=\"863.382\" y=\"1137.28\">0.0</text>\n",
       "</g>\n",
       "<g clip-path=\"url(#clip1200)\">\n",
       "<text style=\"fill:#000000; fill-opacity:1; font-family:Arial,Helvetica Neue,Helvetica,sans-serif; font-size:48px; text-anchor:middle;\" transform=\"rotate(0, 1188.56, 1137.28)\" x=\"1188.56\" y=\"1137.28\">0.5</text>\n",
       "</g>\n",
       "<g clip-path=\"url(#clip1200)\">\n",
       "<text style=\"fill:#000000; fill-opacity:1; font-family:Arial,Helvetica Neue,Helvetica,sans-serif; font-size:48px; text-anchor:middle;\" transform=\"rotate(0, 1513.73, 1137.28)\" x=\"1513.73\" y=\"1137.28\">1.0</text>\n",
       "</g>\n",
       "<g clip-path=\"url(#clip1200)\">\n",
       "<text style=\"fill:#000000; fill-opacity:1; font-family:Arial,Helvetica Neue,Helvetica,sans-serif; font-size:48px; text-anchor:end;\" transform=\"rotate(0, 158.008, 1075.35)\" x=\"158.008\" y=\"1075.35\">-1.0</text>\n",
       "</g>\n",
       "<g clip-path=\"url(#clip1200)\">\n",
       "<text style=\"fill:#000000; fill-opacity:1; font-family:Arial,Helvetica Neue,Helvetica,sans-serif; font-size:48px; text-anchor:end;\" transform=\"rotate(0, 158.008, 830.056)\" x=\"158.008\" y=\"830.056\">-0.5</text>\n",
       "</g>\n",
       "<g clip-path=\"url(#clip1200)\">\n",
       "<text style=\"fill:#000000; fill-opacity:1; font-family:Arial,Helvetica Neue,Helvetica,sans-serif; font-size:48px; text-anchor:end;\" transform=\"rotate(0, 158.008, 584.764)\" x=\"158.008\" y=\"584.764\">0.0</text>\n",
       "</g>\n",
       "<g clip-path=\"url(#clip1200)\">\n",
       "<text style=\"fill:#000000; fill-opacity:1; font-family:Arial,Helvetica Neue,Helvetica,sans-serif; font-size:48px; text-anchor:end;\" transform=\"rotate(0, 158.008, 339.471)\" x=\"158.008\" y=\"339.471\">0.5</text>\n",
       "</g>\n",
       "<g clip-path=\"url(#clip1200)\">\n",
       "<text style=\"fill:#000000; fill-opacity:1; font-family:Arial,Helvetica Neue,Helvetica,sans-serif; font-size:48px; text-anchor:end;\" transform=\"rotate(0, 158.008, 94.1792)\" x=\"158.008\" y=\"94.1792\">1.0</text>\n",
       "</g>\n",
       "<circle clip-path=\"url(#clip1202)\" cx=\"1513.73\" cy=\"567.264\" r=\"14\" fill=\"#000000\" fill-rule=\"evenodd\" fill-opacity=\"1\" stroke=\"none\"/>\n",
       "<circle clip-path=\"url(#clip1202)\" cx=\"1464.23\" cy=\"379.525\" r=\"14\" fill=\"#000000\" fill-rule=\"evenodd\" fill-opacity=\"1\" stroke=\"none\"/>\n",
       "<circle clip-path=\"url(#clip1202)\" cx=\"1323.25\" cy=\"220.368\" r=\"14\" fill=\"#000000\" fill-rule=\"evenodd\" fill-opacity=\"1\" stroke=\"none\"/>\n",
       "<circle clip-path=\"url(#clip1202)\" cx=\"1112.26\" cy=\"114.023\" r=\"14\" fill=\"#000000\" fill-rule=\"evenodd\" fill-opacity=\"1\" stroke=\"none\"/>\n",
       "<circle clip-path=\"url(#clip1202)\" cx=\"863.382\" cy=\"76.6792\" r=\"14\" fill=\"#000000\" fill-rule=\"evenodd\" fill-opacity=\"1\" stroke=\"none\"/>\n",
       "<circle clip-path=\"url(#clip1202)\" cx=\"614.503\" cy=\"114.023\" r=\"14\" fill=\"#000000\" fill-rule=\"evenodd\" fill-opacity=\"1\" stroke=\"none\"/>\n",
       "<circle clip-path=\"url(#clip1202)\" cx=\"403.513\" cy=\"220.368\" r=\"14\" fill=\"#000000\" fill-rule=\"evenodd\" fill-opacity=\"1\" stroke=\"none\"/>\n",
       "<circle clip-path=\"url(#clip1202)\" cx=\"262.534\" cy=\"379.525\" r=\"14\" fill=\"#000000\" fill-rule=\"evenodd\" fill-opacity=\"1\" stroke=\"none\"/>\n",
       "<circle clip-path=\"url(#clip1202)\" cx=\"213.029\" cy=\"567.264\" r=\"14\" fill=\"#000000\" fill-rule=\"evenodd\" fill-opacity=\"1\" stroke=\"none\"/>\n",
       "<circle clip-path=\"url(#clip1202)\" cx=\"262.534\" cy=\"755.002\" r=\"14\" fill=\"#000000\" fill-rule=\"evenodd\" fill-opacity=\"1\" stroke=\"none\"/>\n",
       "<circle clip-path=\"url(#clip1202)\" cx=\"403.513\" cy=\"914.159\" r=\"14\" fill=\"#000000\" fill-rule=\"evenodd\" fill-opacity=\"1\" stroke=\"none\"/>\n",
       "<circle clip-path=\"url(#clip1202)\" cx=\"614.503\" cy=\"1020.5\" r=\"14\" fill=\"#000000\" fill-rule=\"evenodd\" fill-opacity=\"1\" stroke=\"none\"/>\n",
       "<circle clip-path=\"url(#clip1202)\" cx=\"863.382\" cy=\"1057.85\" r=\"14\" fill=\"#000000\" fill-rule=\"evenodd\" fill-opacity=\"1\" stroke=\"none\"/>\n",
       "<circle clip-path=\"url(#clip1202)\" cx=\"1112.26\" cy=\"1020.5\" r=\"14\" fill=\"#000000\" fill-rule=\"evenodd\" fill-opacity=\"1\" stroke=\"none\"/>\n",
       "<circle clip-path=\"url(#clip1202)\" cx=\"1323.25\" cy=\"914.159\" r=\"14\" fill=\"#000000\" fill-rule=\"evenodd\" fill-opacity=\"1\" stroke=\"none\"/>\n",
       "<circle clip-path=\"url(#clip1202)\" cx=\"1464.23\" cy=\"755.002\" r=\"14\" fill=\"#000000\" fill-rule=\"evenodd\" fill-opacity=\"1\" stroke=\"none\"/>\n",
       "</svg>\n"
      ]
     },
     "execution_count": 163,
     "metadata": {},
     "output_type": "execute_result"
    }
   ],
   "source": [
    "θ = 0:π/8:2π\n",
    "θ = θ[1:end-1]\n",
    "P = [cos.(θ) sin.(θ)]\n",
    "scatter(P[:,1], P[:,2], c=:black, leg=false)"
   ]
  },
  {
   "cell_type": "code",
   "execution_count": 186,
   "metadata": {},
   "outputs": [
    {
     "data": {
      "image/svg+xml": [
       "<?xml version=\"1.0\" encoding=\"utf-8\"?>\n",
       "<svg xmlns=\"http://www.w3.org/2000/svg\" xmlns:xlink=\"http://www.w3.org/1999/xlink\" width=\"400\" height=\"300\" viewBox=\"0 0 1600 1200\">\n",
       "<defs>\n",
       "  <clipPath id=\"clip6800\">\n",
       "    <rect x=\"0\" y=\"0\" width=\"1600\" height=\"1200\"/>\n",
       "  </clipPath>\n",
       "</defs>\n",
       "<path clip-path=\"url(#clip6800)\" d=\"\n",
       "M0 1200 L1600 1200 L1600 0 L0 0  Z\n",
       "  \" fill=\"#ffffff\" fill-rule=\"evenodd\" fill-opacity=\"1\"/>\n",
       "<defs>\n",
       "  <clipPath id=\"clip6801\">\n",
       "    <rect x=\"320\" y=\"0\" width=\"1121\" height=\"1121\"/>\n",
       "  </clipPath>\n",
       "</defs>\n",
       "<path clip-path=\"url(#clip6800)\" d=\"\n",
       "M174.008 1087.28 L1552.76 1087.28 L1552.76 47.2441 L174.008 47.2441  Z\n",
       "  \" fill=\"#ffffff\" fill-rule=\"evenodd\" fill-opacity=\"1\"/>\n",
       "<defs>\n",
       "  <clipPath id=\"clip6802\">\n",
       "    <rect x=\"174\" y=\"47\" width=\"1380\" height=\"1041\"/>\n",
       "  </clipPath>\n",
       "</defs>\n",
       "<polyline clip-path=\"url(#clip6802)\" style=\"stroke:#000000; stroke-width:2; stroke-opacity:0.1; fill:none\" points=\"\n",
       "  213.029,1087.28 213.029,47.2441 \n",
       "  \"/>\n",
       "<polyline clip-path=\"url(#clip6802)\" style=\"stroke:#000000; stroke-width:2; stroke-opacity:0.1; fill:none\" points=\"\n",
       "  538.206,1087.28 538.206,47.2441 \n",
       "  \"/>\n",
       "<polyline clip-path=\"url(#clip6802)\" style=\"stroke:#000000; stroke-width:2; stroke-opacity:0.1; fill:none\" points=\"\n",
       "  863.382,1087.28 863.382,47.2441 \n",
       "  \"/>\n",
       "<polyline clip-path=\"url(#clip6802)\" style=\"stroke:#000000; stroke-width:2; stroke-opacity:0.1; fill:none\" points=\"\n",
       "  1188.56,1087.28 1188.56,47.2441 \n",
       "  \"/>\n",
       "<polyline clip-path=\"url(#clip6802)\" style=\"stroke:#000000; stroke-width:2; stroke-opacity:0.1; fill:none\" points=\"\n",
       "  1513.73,1087.28 1513.73,47.2441 \n",
       "  \"/>\n",
       "<polyline clip-path=\"url(#clip6802)\" style=\"stroke:#000000; stroke-width:2; stroke-opacity:0.1; fill:none\" points=\"\n",
       "  174.008,1057.85 1552.76,1057.85 \n",
       "  \"/>\n",
       "<polyline clip-path=\"url(#clip6802)\" style=\"stroke:#000000; stroke-width:2; stroke-opacity:0.1; fill:none\" points=\"\n",
       "  174.008,812.556 1552.76,812.556 \n",
       "  \"/>\n",
       "<polyline clip-path=\"url(#clip6802)\" style=\"stroke:#000000; stroke-width:2; stroke-opacity:0.1; fill:none\" points=\"\n",
       "  174.008,567.264 1552.76,567.264 \n",
       "  \"/>\n",
       "<polyline clip-path=\"url(#clip6802)\" style=\"stroke:#000000; stroke-width:2; stroke-opacity:0.1; fill:none\" points=\"\n",
       "  174.008,321.971 1552.76,321.971 \n",
       "  \"/>\n",
       "<polyline clip-path=\"url(#clip6802)\" style=\"stroke:#000000; stroke-width:2; stroke-opacity:0.1; fill:none\" points=\"\n",
       "  174.008,76.6792 1552.76,76.6792 \n",
       "  \"/>\n",
       "<polyline clip-path=\"url(#clip6800)\" style=\"stroke:#000000; stroke-width:4; stroke-opacity:1; fill:none\" points=\"\n",
       "  174.008,1087.28 1552.76,1087.28 \n",
       "  \"/>\n",
       "<polyline clip-path=\"url(#clip6800)\" style=\"stroke:#000000; stroke-width:4; stroke-opacity:1; fill:none\" points=\"\n",
       "  174.008,1087.28 174.008,47.2441 \n",
       "  \"/>\n",
       "<polyline clip-path=\"url(#clip6800)\" style=\"stroke:#000000; stroke-width:4; stroke-opacity:1; fill:none\" points=\"\n",
       "  213.029,1087.28 213.029,1074.8 \n",
       "  \"/>\n",
       "<polyline clip-path=\"url(#clip6800)\" style=\"stroke:#000000; stroke-width:4; stroke-opacity:1; fill:none\" points=\"\n",
       "  538.206,1087.28 538.206,1074.8 \n",
       "  \"/>\n",
       "<polyline clip-path=\"url(#clip6800)\" style=\"stroke:#000000; stroke-width:4; stroke-opacity:1; fill:none\" points=\"\n",
       "  863.382,1087.28 863.382,1074.8 \n",
       "  \"/>\n",
       "<polyline clip-path=\"url(#clip6800)\" style=\"stroke:#000000; stroke-width:4; stroke-opacity:1; fill:none\" points=\"\n",
       "  1188.56,1087.28 1188.56,1074.8 \n",
       "  \"/>\n",
       "<polyline clip-path=\"url(#clip6800)\" style=\"stroke:#000000; stroke-width:4; stroke-opacity:1; fill:none\" points=\"\n",
       "  1513.73,1087.28 1513.73,1074.8 \n",
       "  \"/>\n",
       "<polyline clip-path=\"url(#clip6800)\" style=\"stroke:#000000; stroke-width:4; stroke-opacity:1; fill:none\" points=\"\n",
       "  174.008,1057.85 190.553,1057.85 \n",
       "  \"/>\n",
       "<polyline clip-path=\"url(#clip6800)\" style=\"stroke:#000000; stroke-width:4; stroke-opacity:1; fill:none\" points=\"\n",
       "  174.008,812.556 190.553,812.556 \n",
       "  \"/>\n",
       "<polyline clip-path=\"url(#clip6800)\" style=\"stroke:#000000; stroke-width:4; stroke-opacity:1; fill:none\" points=\"\n",
       "  174.008,567.264 190.553,567.264 \n",
       "  \"/>\n",
       "<polyline clip-path=\"url(#clip6800)\" style=\"stroke:#000000; stroke-width:4; stroke-opacity:1; fill:none\" points=\"\n",
       "  174.008,321.971 190.553,321.971 \n",
       "  \"/>\n",
       "<polyline clip-path=\"url(#clip6800)\" style=\"stroke:#000000; stroke-width:4; stroke-opacity:1; fill:none\" points=\"\n",
       "  174.008,76.6792 190.553,76.6792 \n",
       "  \"/>\n",
       "<g clip-path=\"url(#clip6800)\">\n",
       "<text style=\"fill:#000000; fill-opacity:1; font-family:Arial,Helvetica Neue,Helvetica,sans-serif; font-size:48px; text-anchor:middle;\" transform=\"rotate(0, 213.029, 1137.28)\" x=\"213.029\" y=\"1137.28\">-1.0</text>\n",
       "</g>\n",
       "<g clip-path=\"url(#clip6800)\">\n",
       "<text style=\"fill:#000000; fill-opacity:1; font-family:Arial,Helvetica Neue,Helvetica,sans-serif; font-size:48px; text-anchor:middle;\" transform=\"rotate(0, 538.206, 1137.28)\" x=\"538.206\" y=\"1137.28\">-0.5</text>\n",
       "</g>\n",
       "<g clip-path=\"url(#clip6800)\">\n",
       "<text style=\"fill:#000000; fill-opacity:1; font-family:Arial,Helvetica Neue,Helvetica,sans-serif; font-size:48px; text-anchor:middle;\" transform=\"rotate(0, 863.382, 1137.28)\" x=\"863.382\" y=\"1137.28\">0.0</text>\n",
       "</g>\n",
       "<g clip-path=\"url(#clip6800)\">\n",
       "<text style=\"fill:#000000; fill-opacity:1; font-family:Arial,Helvetica Neue,Helvetica,sans-serif; font-size:48px; text-anchor:middle;\" transform=\"rotate(0, 1188.56, 1137.28)\" x=\"1188.56\" y=\"1137.28\">0.5</text>\n",
       "</g>\n",
       "<g clip-path=\"url(#clip6800)\">\n",
       "<text style=\"fill:#000000; fill-opacity:1; font-family:Arial,Helvetica Neue,Helvetica,sans-serif; font-size:48px; text-anchor:middle;\" transform=\"rotate(0, 1513.73, 1137.28)\" x=\"1513.73\" y=\"1137.28\">1.0</text>\n",
       "</g>\n",
       "<g clip-path=\"url(#clip6800)\">\n",
       "<text style=\"fill:#000000; fill-opacity:1; font-family:Arial,Helvetica Neue,Helvetica,sans-serif; font-size:48px; text-anchor:end;\" transform=\"rotate(0, 158.008, 1075.35)\" x=\"158.008\" y=\"1075.35\">-1.0</text>\n",
       "</g>\n",
       "<g clip-path=\"url(#clip6800)\">\n",
       "<text style=\"fill:#000000; fill-opacity:1; font-family:Arial,Helvetica Neue,Helvetica,sans-serif; font-size:48px; text-anchor:end;\" transform=\"rotate(0, 158.008, 830.056)\" x=\"158.008\" y=\"830.056\">-0.5</text>\n",
       "</g>\n",
       "<g clip-path=\"url(#clip6800)\">\n",
       "<text style=\"fill:#000000; fill-opacity:1; font-family:Arial,Helvetica Neue,Helvetica,sans-serif; font-size:48px; text-anchor:end;\" transform=\"rotate(0, 158.008, 584.764)\" x=\"158.008\" y=\"584.764\">0.0</text>\n",
       "</g>\n",
       "<g clip-path=\"url(#clip6800)\">\n",
       "<text style=\"fill:#000000; fill-opacity:1; font-family:Arial,Helvetica Neue,Helvetica,sans-serif; font-size:48px; text-anchor:end;\" transform=\"rotate(0, 158.008, 339.471)\" x=\"158.008\" y=\"339.471\">0.5</text>\n",
       "</g>\n",
       "<g clip-path=\"url(#clip6800)\">\n",
       "<text style=\"fill:#000000; fill-opacity:1; font-family:Arial,Helvetica Neue,Helvetica,sans-serif; font-size:48px; text-anchor:end;\" transform=\"rotate(0, 158.008, 94.1792)\" x=\"158.008\" y=\"94.1792\">1.0</text>\n",
       "</g>\n",
       "<circle clip-path=\"url(#clip6802)\" cx=\"1513.73\" cy=\"567.264\" r=\"14\" fill=\"#000000\" fill-rule=\"evenodd\" fill-opacity=\"1\" stroke=\"none\"/>\n",
       "<circle clip-path=\"url(#clip6802)\" cx=\"1464.23\" cy=\"379.525\" r=\"14\" fill=\"#000000\" fill-rule=\"evenodd\" fill-opacity=\"1\" stroke=\"none\"/>\n",
       "<circle clip-path=\"url(#clip6802)\" cx=\"1323.25\" cy=\"220.368\" r=\"14\" fill=\"#000000\" fill-rule=\"evenodd\" fill-opacity=\"1\" stroke=\"none\"/>\n",
       "<circle clip-path=\"url(#clip6802)\" cx=\"1112.26\" cy=\"114.023\" r=\"14\" fill=\"#000000\" fill-rule=\"evenodd\" fill-opacity=\"1\" stroke=\"none\"/>\n",
       "<circle clip-path=\"url(#clip6802)\" cx=\"863.382\" cy=\"76.6792\" r=\"14\" fill=\"#000000\" fill-rule=\"evenodd\" fill-opacity=\"1\" stroke=\"none\"/>\n",
       "<circle clip-path=\"url(#clip6802)\" cx=\"614.503\" cy=\"114.023\" r=\"14\" fill=\"#000000\" fill-rule=\"evenodd\" fill-opacity=\"1\" stroke=\"none\"/>\n",
       "<circle clip-path=\"url(#clip6802)\" cx=\"403.513\" cy=\"220.368\" r=\"14\" fill=\"#000000\" fill-rule=\"evenodd\" fill-opacity=\"1\" stroke=\"none\"/>\n",
       "<circle clip-path=\"url(#clip6802)\" cx=\"262.534\" cy=\"379.525\" r=\"14\" fill=\"#000000\" fill-rule=\"evenodd\" fill-opacity=\"1\" stroke=\"none\"/>\n",
       "<circle clip-path=\"url(#clip6802)\" cx=\"213.029\" cy=\"567.264\" r=\"14\" fill=\"#000000\" fill-rule=\"evenodd\" fill-opacity=\"1\" stroke=\"none\"/>\n",
       "<circle clip-path=\"url(#clip6802)\" cx=\"262.534\" cy=\"755.002\" r=\"14\" fill=\"#000000\" fill-rule=\"evenodd\" fill-opacity=\"1\" stroke=\"none\"/>\n",
       "<circle clip-path=\"url(#clip6802)\" cx=\"403.513\" cy=\"914.159\" r=\"14\" fill=\"#000000\" fill-rule=\"evenodd\" fill-opacity=\"1\" stroke=\"none\"/>\n",
       "<circle clip-path=\"url(#clip6802)\" cx=\"614.503\" cy=\"1020.5\" r=\"14\" fill=\"#000000\" fill-rule=\"evenodd\" fill-opacity=\"1\" stroke=\"none\"/>\n",
       "<circle clip-path=\"url(#clip6802)\" cx=\"863.382\" cy=\"1057.85\" r=\"14\" fill=\"#000000\" fill-rule=\"evenodd\" fill-opacity=\"1\" stroke=\"none\"/>\n",
       "<circle clip-path=\"url(#clip6802)\" cx=\"1112.26\" cy=\"1020.5\" r=\"14\" fill=\"#000000\" fill-rule=\"evenodd\" fill-opacity=\"1\" stroke=\"none\"/>\n",
       "<circle clip-path=\"url(#clip6802)\" cx=\"1323.25\" cy=\"914.159\" r=\"14\" fill=\"#000000\" fill-rule=\"evenodd\" fill-opacity=\"1\" stroke=\"none\"/>\n",
       "<circle clip-path=\"url(#clip6802)\" cx=\"1464.23\" cy=\"755.002\" r=\"14\" fill=\"#000000\" fill-rule=\"evenodd\" fill-opacity=\"1\" stroke=\"none\"/>\n",
       "<circle clip-path=\"url(#clip6802)\" cx=\"1170.39\" cy=\"243.859\" r=\"14\" fill=\"#ff0000\" fill-rule=\"evenodd\" fill-opacity=\"1\" stroke=\"#000000\" stroke-opacity=\"1\" stroke-width=\"2.4\"/>\n",
       "<circle clip-path=\"url(#clip6802)\" cx=\"1311.09\" cy=\"265.507\" r=\"14\" fill=\"#ff0000\" fill-rule=\"evenodd\" fill-opacity=\"1\" stroke=\"#000000\" stroke-opacity=\"1\" stroke-width=\"2.4\"/>\n",
       "<circle clip-path=\"url(#clip6802)\" cx=\"1383.63\" cy=\"333.094\" r=\"14\" fill=\"#ff0000\" fill-rule=\"evenodd\" fill-opacity=\"1\" stroke=\"#000000\" stroke-opacity=\"1\" stroke-width=\"2.4\"/>\n",
       "<circle clip-path=\"url(#clip6802)\" cx=\"1376.96\" cy=\"436.332\" r=\"14\" fill=\"#ff0000\" fill-rule=\"evenodd\" fill-opacity=\"1\" stroke=\"#000000\" stroke-opacity=\"1\" stroke-width=\"2.4\"/>\n",
       "<circle clip-path=\"url(#clip6802)\" cx=\"1292.11\" cy=\"559.503\" r=\"14\" fill=\"#ff0000\" fill-rule=\"evenodd\" fill-opacity=\"1\" stroke=\"#000000\" stroke-opacity=\"1\" stroke-width=\"2.4\"/>\n",
       "<circle clip-path=\"url(#clip6802)\" cx=\"1141.99\" cy=\"683.856\" r=\"14\" fill=\"#ff0000\" fill-rule=\"evenodd\" fill-opacity=\"1\" stroke=\"#000000\" stroke-opacity=\"1\" stroke-width=\"2.4\"/>\n",
       "<circle clip-path=\"url(#clip6802)\" cx=\"949.45\" cy=\"790.458\" r=\"14\" fill=\"#ff0000\" fill-rule=\"evenodd\" fill-opacity=\"1\" stroke=\"#000000\" stroke-opacity=\"1\" stroke-width=\"2.4\"/>\n",
       "<circle clip-path=\"url(#clip6802)\" cx=\"743.809\" cy=\"863.081\" r=\"14\" fill=\"#ff0000\" fill-rule=\"evenodd\" fill-opacity=\"1\" stroke=\"#000000\" stroke-opacity=\"1\" stroke-width=\"2.4\"/>\n",
       "<circle clip-path=\"url(#clip6802)\" cx=\"556.372\" cy=\"890.669\" r=\"14\" fill=\"#ff0000\" fill-rule=\"evenodd\" fill-opacity=\"1\" stroke=\"#000000\" stroke-opacity=\"1\" stroke-width=\"2.4\"/>\n",
       "<circle clip-path=\"url(#clip6802)\" cx=\"415.675\" cy=\"869.021\" r=\"14\" fill=\"#ff0000\" fill-rule=\"evenodd\" fill-opacity=\"1\" stroke=\"#000000\" stroke-opacity=\"1\" stroke-width=\"2.4\"/>\n",
       "<circle clip-path=\"url(#clip6802)\" cx=\"343.137\" cy=\"801.433\" r=\"14\" fill=\"#ff0000\" fill-rule=\"evenodd\" fill-opacity=\"1\" stroke=\"#000000\" stroke-opacity=\"1\" stroke-width=\"2.4\"/>\n",
       "<circle clip-path=\"url(#clip6802)\" cx=\"349.801\" cy=\"698.195\" r=\"14\" fill=\"#ff0000\" fill-rule=\"evenodd\" fill-opacity=\"1\" stroke=\"#000000\" stroke-opacity=\"1\" stroke-width=\"2.4\"/>\n",
       "<circle clip-path=\"url(#clip6802)\" cx=\"434.654\" cy=\"575.024\" r=\"14\" fill=\"#ff0000\" fill-rule=\"evenodd\" fill-opacity=\"1\" stroke=\"#000000\" stroke-opacity=\"1\" stroke-width=\"2.4\"/>\n",
       "<circle clip-path=\"url(#clip6802)\" cx=\"584.776\" cy=\"450.671\" r=\"14\" fill=\"#ff0000\" fill-rule=\"evenodd\" fill-opacity=\"1\" stroke=\"#000000\" stroke-opacity=\"1\" stroke-width=\"2.4\"/>\n",
       "<circle clip-path=\"url(#clip6802)\" cx=\"777.314\" cy=\"344.069\" r=\"14\" fill=\"#ff0000\" fill-rule=\"evenodd\" fill-opacity=\"1\" stroke=\"#000000\" stroke-opacity=\"1\" stroke-width=\"2.4\"/>\n",
       "<circle clip-path=\"url(#clip6802)\" cx=\"982.955\" cy=\"271.446\" r=\"14\" fill=\"#ff0000\" fill-rule=\"evenodd\" fill-opacity=\"1\" stroke=\"#000000\" stroke-opacity=\"1\" stroke-width=\"2.4\"/>\n",
       "<polyline clip-path=\"url(#clip6802)\" style=\"stroke:#808080; stroke-width:4; stroke-opacity:1; fill:none\" points=\"\n",
       "  1513.73,567.264 1170.39,243.859 \n",
       "  \"/>\n",
       "<polyline clip-path=\"url(#clip6802)\" style=\"stroke:#808080; stroke-width:4; stroke-opacity:1; fill:none\" points=\"\n",
       "  1179.63,269.049 1170.39,243.859 1196.09,251.579 \n",
       "  \"/>\n",
       "<polyline clip-path=\"url(#clip6802)\" style=\"stroke:#808080; stroke-width:4; stroke-opacity:1; fill:none\" points=\"\n",
       "  1170.39,243.859 1513.73,567.264 \n",
       "  \"/>\n",
       "<polyline clip-path=\"url(#clip6802)\" style=\"stroke:#808080; stroke-width:4; stroke-opacity:1; fill:none\" points=\"\n",
       "  1464.23,379.525 1311.09,265.507 \n",
       "  \"/>\n",
       "<polyline clip-path=\"url(#clip6802)\" style=\"stroke:#808080; stroke-width:4; stroke-opacity:1; fill:none\" points=\"\n",
       "  1323.17,289.464 1311.09,265.507 1337.51,270.214 \n",
       "  \"/>\n",
       "<polyline clip-path=\"url(#clip6802)\" style=\"stroke:#808080; stroke-width:4; stroke-opacity:1; fill:none\" points=\"\n",
       "  1311.09,265.507 1464.23,379.525 \n",
       "  \"/>\n",
       "<polyline clip-path=\"url(#clip6802)\" style=\"stroke:#808080; stroke-width:4; stroke-opacity:1; fill:none\" points=\"\n",
       "  1323.25,220.368 1383.63,333.094 \n",
       "  \"/>\n",
       "<polyline clip-path=\"url(#clip6802)\" style=\"stroke:#808080; stroke-width:4; stroke-opacity:1; fill:none\" points=\"\n",
       "  1382.87,306.272 1383.63,333.094 1361.72,317.604 \n",
       "  \"/>\n",
       "<polyline clip-path=\"url(#clip6802)\" style=\"stroke:#808080; stroke-width:4; stroke-opacity:1; fill:none\" points=\"\n",
       "  1383.63,333.094 1323.25,220.368 \n",
       "  \"/>\n",
       "<polyline clip-path=\"url(#clip6802)\" style=\"stroke:#808080; stroke-width:4; stroke-opacity:1; fill:none\" points=\"\n",
       "  1112.26,114.023 1376.96,436.332 \n",
       "  \"/>\n",
       "<polyline clip-path=\"url(#clip6802)\" style=\"stroke:#808080; stroke-width:4; stroke-opacity:1; fill:none\" points=\"\n",
       "  1371,410.169 1376.96,436.332 1352.46,425.401 \n",
       "  \"/>\n",
       "<polyline clip-path=\"url(#clip6802)\" style=\"stroke:#808080; stroke-width:4; stroke-opacity:1; fill:none\" points=\"\n",
       "  1376.96,436.332 1112.26,114.023 \n",
       "  \"/>\n",
       "<polyline clip-path=\"url(#clip6802)\" style=\"stroke:#808080; stroke-width:4; stroke-opacity:1; fill:none\" points=\"\n",
       "  863.382,76.6792 1292.11,559.503 \n",
       "  \"/>\n",
       "<polyline clip-path=\"url(#clip6802)\" style=\"stroke:#808080; stroke-width:4; stroke-opacity:1; fill:none\" points=\"\n",
       "  1285.15,533.589 1292.11,559.503 1267.2,549.525 \n",
       "  \"/>\n",
       "<polyline clip-path=\"url(#clip6802)\" style=\"stroke:#808080; stroke-width:4; stroke-opacity:1; fill:none\" points=\"\n",
       "  1292.11,559.503 863.382,76.6792 \n",
       "  \"/>\n",
       "<polyline clip-path=\"url(#clip6802)\" style=\"stroke:#808080; stroke-width:4; stroke-opacity:1; fill:none\" points=\"\n",
       "  614.503,114.023 1141.99,683.856 \n",
       "  \"/>\n",
       "<polyline clip-path=\"url(#clip6802)\" style=\"stroke:#808080; stroke-width:4; stroke-opacity:1; fill:none\" points=\"\n",
       "  1134.49,658.092 1141.99,683.856 1116.88,674.395 \n",
       "  \"/>\n",
       "<polyline clip-path=\"url(#clip6802)\" style=\"stroke:#808080; stroke-width:4; stroke-opacity:1; fill:none\" points=\"\n",
       "  1141.99,683.856 614.503,114.023 \n",
       "  \"/>\n",
       "<polyline clip-path=\"url(#clip6802)\" style=\"stroke:#808080; stroke-width:4; stroke-opacity:1; fill:none\" points=\"\n",
       "  403.513,220.368 949.45,790.458 \n",
       "  \"/>\n",
       "<polyline clip-path=\"url(#clip6802)\" style=\"stroke:#808080; stroke-width:4; stroke-opacity:1; fill:none\" points=\"\n",
       "  941.517,764.825 949.45,790.458 924.184,781.424 \n",
       "  \"/>\n",
       "<polyline clip-path=\"url(#clip6802)\" style=\"stroke:#808080; stroke-width:4; stroke-opacity:1; fill:none\" points=\"\n",
       "  949.45,790.458 403.513,220.368 \n",
       "  \"/>\n",
       "<polyline clip-path=\"url(#clip6802)\" style=\"stroke:#808080; stroke-width:4; stroke-opacity:1; fill:none\" points=\"\n",
       "  262.534,379.525 743.809,863.081 \n",
       "  \"/>\n",
       "<polyline clip-path=\"url(#clip6802)\" style=\"stroke:#808080; stroke-width:4; stroke-opacity:1; fill:none\" points=\"\n",
       "  735.384,837.605 743.809,863.081 718.373,854.536 \n",
       "  \"/>\n",
       "<polyline clip-path=\"url(#clip6802)\" style=\"stroke:#808080; stroke-width:4; stroke-opacity:1; fill:none\" points=\"\n",
       "  743.809,863.081 262.534,379.525 \n",
       "  \"/>\n",
       "<polyline clip-path=\"url(#clip6802)\" style=\"stroke:#808080; stroke-width:4; stroke-opacity:1; fill:none\" points=\"\n",
       "  213.029,567.264 556.372,890.669 \n",
       "  \"/>\n",
       "<polyline clip-path=\"url(#clip6802)\" style=\"stroke:#808080; stroke-width:4; stroke-opacity:1; fill:none\" points=\"\n",
       "  547.13,865.478 556.372,890.669 530.674,882.948 \n",
       "  \"/>\n",
       "<polyline clip-path=\"url(#clip6802)\" style=\"stroke:#808080; stroke-width:4; stroke-opacity:1; fill:none\" points=\"\n",
       "  556.372,890.669 213.029,567.264 \n",
       "  \"/>\n",
       "<polyline clip-path=\"url(#clip6802)\" style=\"stroke:#808080; stroke-width:4; stroke-opacity:1; fill:none\" points=\"\n",
       "  262.534,755.002 415.675,869.021 \n",
       "  \"/>\n",
       "<polyline clip-path=\"url(#clip6802)\" style=\"stroke:#808080; stroke-width:4; stroke-opacity:1; fill:none\" points=\"\n",
       "  403.591,845.063 415.675,869.021 389.258,864.313 \n",
       "  \"/>\n",
       "<polyline clip-path=\"url(#clip6802)\" style=\"stroke:#808080; stroke-width:4; stroke-opacity:1; fill:none\" points=\"\n",
       "  415.675,869.021 262.534,755.002 \n",
       "  \"/>\n",
       "<polyline clip-path=\"url(#clip6802)\" style=\"stroke:#808080; stroke-width:4; stroke-opacity:1; fill:none\" points=\"\n",
       "  403.513,914.159 343.137,801.433 \n",
       "  \"/>\n",
       "<polyline clip-path=\"url(#clip6802)\" style=\"stroke:#808080; stroke-width:4; stroke-opacity:1; fill:none\" points=\"\n",
       "  343.89,828.255 343.137,801.433 365.046,816.924 \n",
       "  \"/>\n",
       "<polyline clip-path=\"url(#clip6802)\" style=\"stroke:#808080; stroke-width:4; stroke-opacity:1; fill:none\" points=\"\n",
       "  343.137,801.433 403.513,914.159 \n",
       "  \"/>\n",
       "<polyline clip-path=\"url(#clip6802)\" style=\"stroke:#808080; stroke-width:4; stroke-opacity:1; fill:none\" points=\"\n",
       "  614.503,1020.5 349.801,698.195 \n",
       "  \"/>\n",
       "<polyline clip-path=\"url(#clip6802)\" style=\"stroke:#808080; stroke-width:4; stroke-opacity:1; fill:none\" points=\"\n",
       "  355.76,724.358 349.801,698.195 374.307,709.126 \n",
       "  \"/>\n",
       "<polyline clip-path=\"url(#clip6802)\" style=\"stroke:#808080; stroke-width:4; stroke-opacity:1; fill:none\" points=\"\n",
       "  349.801,698.195 614.503,1020.5 \n",
       "  \"/>\n",
       "<polyline clip-path=\"url(#clip6802)\" style=\"stroke:#808080; stroke-width:4; stroke-opacity:1; fill:none\" points=\"\n",
       "  863.382,1057.85 434.654,575.024 \n",
       "  \"/>\n",
       "<polyline clip-path=\"url(#clip6802)\" style=\"stroke:#808080; stroke-width:4; stroke-opacity:1; fill:none\" points=\"\n",
       "  441.616,600.938 434.654,575.024 459.562,585.002 \n",
       "  \"/>\n",
       "<polyline clip-path=\"url(#clip6802)\" style=\"stroke:#808080; stroke-width:4; stroke-opacity:1; fill:none\" points=\"\n",
       "  434.654,575.024 863.382,1057.85 \n",
       "  \"/>\n",
       "<polyline clip-path=\"url(#clip6802)\" style=\"stroke:#808080; stroke-width:4; stroke-opacity:1; fill:none\" points=\"\n",
       "  1112.26,1020.5 584.776,450.671 \n",
       "  \"/>\n",
       "<polyline clip-path=\"url(#clip6802)\" style=\"stroke:#808080; stroke-width:4; stroke-opacity:1; fill:none\" points=\"\n",
       "  592.274,476.436 584.776,450.671 609.886,460.132 \n",
       "  \"/>\n",
       "<polyline clip-path=\"url(#clip6802)\" style=\"stroke:#808080; stroke-width:4; stroke-opacity:1; fill:none\" points=\"\n",
       "  584.776,450.671 1112.26,1020.5 \n",
       "  \"/>\n",
       "<polyline clip-path=\"url(#clip6802)\" style=\"stroke:#808080; stroke-width:4; stroke-opacity:1; fill:none\" points=\"\n",
       "  1323.25,914.159 777.314,344.069 \n",
       "  \"/>\n",
       "<polyline clip-path=\"url(#clip6802)\" style=\"stroke:#808080; stroke-width:4; stroke-opacity:1; fill:none\" points=\"\n",
       "  785.247,369.703 777.314,344.069 802.58,353.103 \n",
       "  \"/>\n",
       "<polyline clip-path=\"url(#clip6802)\" style=\"stroke:#808080; stroke-width:4; stroke-opacity:1; fill:none\" points=\"\n",
       "  777.314,344.069 1323.25,914.159 \n",
       "  \"/>\n",
       "<polyline clip-path=\"url(#clip6802)\" style=\"stroke:#808080; stroke-width:4; stroke-opacity:1; fill:none\" points=\"\n",
       "  1464.23,755.002 982.955,271.446 \n",
       "  \"/>\n",
       "<polyline clip-path=\"url(#clip6802)\" style=\"stroke:#808080; stroke-width:4; stroke-opacity:1; fill:none\" points=\"\n",
       "  991.38,296.922 982.955,271.446 1008.39,279.992 \n",
       "  \"/>\n",
       "<polyline clip-path=\"url(#clip6802)\" style=\"stroke:#808080; stroke-width:4; stroke-opacity:1; fill:none\" points=\"\n",
       "  982.955,271.446 1464.23,755.002 \n",
       "  \"/>\n",
       "<polyline clip-path=\"url(#clip6802)\" style=\"stroke:#008000; stroke-width:4; stroke-opacity:1; fill:none\" points=\"\n",
       "  863.382,567.264 1240.64,966.875 \n",
       "  \"/>\n",
       "<polyline clip-path=\"url(#clip6802)\" style=\"stroke:#008000; stroke-width:4; stroke-opacity:1; fill:none\" points=\"\n",
       "  1232.89,941.186 1240.64,966.875 1215.44,957.661 \n",
       "  \"/>\n",
       "<polyline clip-path=\"url(#clip6802)\" style=\"stroke:#008000; stroke-width:4; stroke-opacity:1; fill:none\" points=\"\n",
       "  1240.64,966.875 863.382,567.264 \n",
       "  \"/>\n",
       "<polyline clip-path=\"url(#clip6802)\" style=\"stroke:#008000; stroke-width:4; stroke-opacity:1; fill:none\" points=\"\n",
       "  863.382,567.264 333.629,851.84 \n",
       "  \"/>\n",
       "<polyline clip-path=\"url(#clip6802)\" style=\"stroke:#008000; stroke-width:4; stroke-opacity:1; fill:none\" points=\"\n",
       "  360.451,851.054 333.629,851.84 349.093,829.911 \n",
       "  \"/>\n",
       "<polyline clip-path=\"url(#clip6802)\" style=\"stroke:#008000; stroke-width:4; stroke-opacity:1; fill:none\" points=\"\n",
       "  333.629,851.84 863.382,567.264 \n",
       "  \"/>\n",
       "</svg>\n"
      ]
     },
     "execution_count": 186,
     "metadata": {},
     "output_type": "execute_result"
    }
   ],
   "source": [
    "using Random\n",
    "Random.seed!(1)\n",
    "A = rand(2, 2)\n",
    "A = A + A'\n",
    "AP = P * A\n",
    "\n",
    "V = eigen(A).vectors\n",
    "Λ = eigen(A).values\n",
    "\n",
    "scatter(P[:,1], P[:,2], c=:black, leg=false)\n",
    "scatter!(AP[:,1], AP[:,2], c=:red, leg=false)\n",
    "plot!([P[:,1] AP[:,1]]', [P[:,2] AP[:,2]]', c=:gray, l=:arrow)\n",
    "\n",
    "plot!([zeros(2) V[:,1]]', [zeros(2) V[:,2]]', c=:green, l=:arrow)"
   ]
  },
  {
   "cell_type": "code",
   "execution_count": 187,
   "metadata": {},
   "outputs": [
    {
     "data": {
      "text/plain": [
       "2×2 Array{Float64,2}:\n",
       " 0.472067  0.659224\n",
       " 0.659224  0.0158186"
      ]
     },
     "execution_count": 187,
     "metadata": {},
     "output_type": "execute_result"
    }
   ],
   "source": [
    "A"
   ]
  },
  {
   "cell_type": "code",
   "execution_count": 188,
   "metadata": {},
   "outputs": [
    {
     "data": {
      "text/plain": [
       "2×2 Array{Float64,2}:\n",
       " 0.488613  0.951916\n",
       " 0.210968  0.999905"
      ]
     },
     "execution_count": 188,
     "metadata": {},
     "output_type": "execute_result"
    }
   ],
   "source": [
    "B = rand(2, 2)"
   ]
  },
  {
   "cell_type": "code",
   "execution_count": 189,
   "metadata": {},
   "outputs": [
    {
     "data": {
      "text/plain": [
       "2×4 Array{Float64,2}:\n",
       " 0.472067  0.659224   0.488613  0.951916\n",
       " 0.659224  0.0158186  0.210968  0.999905"
      ]
     },
     "execution_count": 189,
     "metadata": {},
     "output_type": "execute_result"
    }
   ],
   "source": [
    "[A B]"
   ]
  },
  {
   "cell_type": "code",
   "execution_count": 190,
   "metadata": {},
   "outputs": [
    {
     "data": {
      "text/plain": [
       "4×4 Array{Float64,2}:\n",
       " 0.472067  0.659224   0.488613  0.951916\n",
       " 0.659224  0.0158186  0.210968  0.999905\n",
       " 0.488613  0.210968   0.0       0.0\n",
       " 0.951916  0.999905   0.0       0.0"
      ]
     },
     "execution_count": 190,
     "metadata": {},
     "output_type": "execute_result"
    }
   ],
   "source": [
    "[A B; B' zeros(2,2)]"
   ]
  },
  {
   "cell_type": "code",
   "execution_count": 191,
   "metadata": {},
   "outputs": [
    {
     "data": {
      "text/plain": [
       "2×4 Array{Float64,2}:\n",
       " 0.472067  0.659224   1.0  0.0\n",
       " 0.659224  0.0158186  0.0  1.0"
      ]
     },
     "execution_count": 191,
     "metadata": {},
     "output_type": "execute_result"
    }
   ],
   "source": [
    "[A I]"
   ]
  },
  {
   "cell_type": "code",
   "execution_count": 192,
   "metadata": {},
   "outputs": [
    {
     "data": {
      "text/plain": [
       "4×4 Array{Float64,2}:\n",
       " 1.0       0.0        0.472067  0.659224\n",
       " 0.0       1.0        0.659224  0.0158186\n",
       " 0.472067  0.659224   1.0       0.0\n",
       " 0.659224  0.0158186  0.0       1.0"
      ]
     },
     "execution_count": 192,
     "metadata": {},
     "output_type": "execute_result"
    }
   ],
   "source": [
    "[I A; A' I]"
   ]
  },
  {
   "cell_type": "code",
   "execution_count": 193,
   "metadata": {},
   "outputs": [
    {
     "data": {
      "text/plain": [
       "2-element Array{Float64,1}:\n",
       " 0.25166218303197185\n",
       " 0.9866663668987996"
      ]
     },
     "execution_count": 193,
     "metadata": {},
     "output_type": "execute_result"
    }
   ],
   "source": [
    "v = rand(2)"
   ]
  },
  {
   "cell_type": "code",
   "execution_count": 194,
   "metadata": {},
   "outputs": [
    {
     "data": {
      "text/plain": [
       "3×3 Array{Float64,2}:\n",
       " 0.472067  0.659224   0.251662\n",
       " 0.659224  0.0158186  0.986666\n",
       " 0.251662  0.986666   0.0"
      ]
     },
     "execution_count": 194,
     "metadata": {},
     "output_type": "execute_result"
    }
   ],
   "source": [
    "[A v; v' 0.0]"
   ]
  },
  {
   "cell_type": "markdown",
   "metadata": {},
   "source": [
    "# Estruturas"
   ]
  },
  {
   "cell_type": "code",
   "execution_count": 195,
   "metadata": {},
   "outputs": [],
   "source": [
    "# Data: ano, mes, dia - 1986, Abril, 26\n",
    "struct Data\n",
    "    dia\n",
    "    mes\n",
    "    ano\n",
    "end"
   ]
  },
  {
   "cell_type": "code",
   "execution_count": 196,
   "metadata": {},
   "outputs": [
    {
     "data": {
      "text/plain": [
       "Data(7, \"abril\", 1986)"
      ]
     },
     "execution_count": 196,
     "metadata": {},
     "output_type": "execute_result"
    }
   ],
   "source": [
    "Data(7, \"abril\", 1986)"
   ]
  },
  {
   "cell_type": "code",
   "execution_count": 197,
   "metadata": {},
   "outputs": [
    {
     "data": {
      "text/plain": [
       "Data(7, 4, 1986)"
      ]
     },
     "execution_count": 197,
     "metadata": {},
     "output_type": "execute_result"
    }
   ],
   "source": [
    "Data(7, 4, 1986)"
   ]
  },
  {
   "cell_type": "code",
   "execution_count": 198,
   "metadata": {},
   "outputs": [],
   "source": [
    "struct DataComTipo\n",
    "    dia :: Int\n",
    "    mes :: String\n",
    "    ano :: Int\n",
    "end"
   ]
  },
  {
   "cell_type": "code",
   "execution_count": 199,
   "metadata": {},
   "outputs": [
    {
     "ename": "MethodError",
     "evalue": "MethodError: Cannot `convert` an object of type Int64 to an object of type String\nClosest candidates are:\n  convert(::Type{T}, !Matched::T) where T<:AbstractString at strings/basic.jl:209\n  convert(::Type{T}, !Matched::AbstractString) where T<:AbstractString at strings/basic.jl:210\n  convert(::Type{T}, !Matched::T) where T at essentials.jl:171",
     "output_type": "error",
     "traceback": [
      "MethodError: Cannot `convert` an object of type Int64 to an object of type String\nClosest candidates are:\n  convert(::Type{T}, !Matched::T) where T<:AbstractString at strings/basic.jl:209\n  convert(::Type{T}, !Matched::AbstractString) where T<:AbstractString at strings/basic.jl:210\n  convert(::Type{T}, !Matched::T) where T at essentials.jl:171",
      "",
      "Stacktrace:",
      " [1] DataComTipo(::Int64, ::Int64, ::Int64) at ./In[198]:2",
      " [2] top-level scope at In[199]:1"
     ]
    }
   ],
   "source": [
    "DataComTipo(7, 4, 1986)"
   ]
  },
  {
   "cell_type": "code",
   "execution_count": 200,
   "metadata": {},
   "outputs": [
    {
     "data": {
      "text/plain": [
       "DataComTipo(7, \"Abril\", 1986)"
      ]
     },
     "execution_count": 200,
     "metadata": {},
     "output_type": "execute_result"
    }
   ],
   "source": [
    "DataComTipo(7, \"Abril\", 1986)"
   ]
  },
  {
   "cell_type": "code",
   "execution_count": 201,
   "metadata": {},
   "outputs": [
    {
     "data": {
      "text/plain": [
       "DataComTipo"
      ]
     },
     "execution_count": 201,
     "metadata": {},
     "output_type": "execute_result"
    }
   ],
   "source": [
    "const meses = [\"Janeiro\", \"Fevereiro\", \"Março\", \"Abril\", \"Maio\", \"Junho\",\n",
    "               \"Julho\", \"Agosto\", \"Setembro\", \"Outubro\", \"Novembro\", \"Dezembro\"]\n",
    "function DataComTipo(dia :: Int, mes :: Int, ano :: Int)\n",
    "    DataComTipo(dia, meses[mes], ano)\n",
    "end"
   ]
  },
  {
   "cell_type": "code",
   "execution_count": 202,
   "metadata": {},
   "outputs": [
    {
     "data": {
      "text/plain": [
       "DataComTipo(7, \"Abril\", 1986)"
      ]
     },
     "execution_count": 202,
     "metadata": {},
     "output_type": "execute_result"
    }
   ],
   "source": [
    "DataComTipo(7, 4, 1986)"
   ]
  },
  {
   "cell_type": "code",
   "execution_count": 203,
   "metadata": {},
   "outputs": [
    {
     "data": {
      "text/html": [
       "DataComTipo(dia::<b>Int64</b>, mes::<b>Int64</b>, ano::<b>Int64</b>) in Main at In[201]:4"
      ],
      "text/plain": [
       "DataComTipo(dia::Int64, mes::Int64, ano::Int64) in Main at In[201]:4"
      ]
     },
     "execution_count": 203,
     "metadata": {},
     "output_type": "execute_result"
    }
   ],
   "source": [
    "@which DataComTipo(7, 4, 1986)"
   ]
  },
  {
   "cell_type": "code",
   "execution_count": 204,
   "metadata": {},
   "outputs": [
    {
     "data": {
      "text/html": [
       "DataComTipo(dia::<b>Int64</b>, mes::<b>String</b>, ano::<b>Int64</b>) in Main at In[198]:2"
      ],
      "text/plain": [
       "DataComTipo(dia::Int64, mes::String, ano::Int64) in Main at In[198]:2"
      ]
     },
     "execution_count": 204,
     "metadata": {},
     "output_type": "execute_result"
    }
   ],
   "source": [
    "@which DataComTipo(7, \"Abril\", 1986)"
   ]
  },
  {
   "cell_type": "code",
   "execution_count": 205,
   "metadata": {},
   "outputs": [
    {
     "data": {
      "text/plain": [
       "DataComTipo(0, \"Batata\", -1)"
      ]
     },
     "execution_count": 205,
     "metadata": {},
     "output_type": "execute_result"
    }
   ],
   "source": [
    "DataComTipo(0, \"Batata\", -1)"
   ]
  },
  {
   "cell_type": "code",
   "execution_count": 206,
   "metadata": {},
   "outputs": [
    {
     "data": {
      "text/plain": [
       "maisum (generic function with 1 method)"
      ]
     },
     "execution_count": 206,
     "metadata": {},
     "output_type": "execute_result"
    }
   ],
   "source": [
    "function maisum(x)\n",
    "    x + 1\n",
    "end"
   ]
  },
  {
   "cell_type": "code",
   "execution_count": 207,
   "metadata": {},
   "outputs": [
    {
     "data": {
      "text/plain": [
       "4"
      ]
     },
     "execution_count": 207,
     "metadata": {},
     "output_type": "execute_result"
    }
   ],
   "source": [
    "maisum(3)"
   ]
  },
  {
   "cell_type": "code",
   "execution_count": 209,
   "metadata": {},
   "outputs": [
    {
     "ename": "MethodError",
     "evalue": "MethodError: no method matching +(::DataComTipo, ::Int64)\nClosest candidates are:\n  +(::Any, ::Any, !Matched::Any, !Matched::Any...) at operators.jl:529\n  +(!Matched::Complex{Bool}, ::Real) at complex.jl:301\n  +(!Matched::Missing, ::Number) at missing.jl:115\n  ...",
     "output_type": "error",
     "traceback": [
      "MethodError: no method matching +(::DataComTipo, ::Int64)\nClosest candidates are:\n  +(::Any, ::Any, !Matched::Any, !Matched::Any...) at operators.jl:529\n  +(!Matched::Complex{Bool}, ::Real) at complex.jl:301\n  +(!Matched::Missing, ::Number) at missing.jl:115\n  ...",
      "",
      "Stacktrace:",
      " [1] maisum(::DataComTipo) at ./In[206]:2",
      " [2] top-level scope at In[209]:2"
     ]
    }
   ],
   "source": [
    "data = DataComTipo(7, \"Abril\", 1986)\n",
    "maisum(data)"
   ]
  },
  {
   "cell_type": "code",
   "execution_count": 210,
   "metadata": {},
   "outputs": [
    {
     "data": {
      "text/plain": [
       "maisum (generic function with 2 methods)"
      ]
     },
     "execution_count": 210,
     "metadata": {},
     "output_type": "execute_result"
    }
   ],
   "source": [
    "function maisum(x :: DataComTipo)\n",
    "    return DataComTipo(x.dia + 1, x.mes, x.ano)\n",
    "end"
   ]
  },
  {
   "cell_type": "code",
   "execution_count": 211,
   "metadata": {},
   "outputs": [
    {
     "data": {
      "text/plain": [
       "DataComTipo(7, \"Abril\", 1986)"
      ]
     },
     "execution_count": 211,
     "metadata": {},
     "output_type": "execute_result"
    }
   ],
   "source": [
    "data"
   ]
  },
  {
   "cell_type": "code",
   "execution_count": 212,
   "metadata": {},
   "outputs": [
    {
     "data": {
      "text/plain": [
       "DataComTipo(8, \"Abril\", 1986)"
      ]
     },
     "execution_count": 212,
     "metadata": {},
     "output_type": "execute_result"
    }
   ],
   "source": [
    "maisum(data)"
   ]
  },
  {
   "cell_type": "code",
   "execution_count": 213,
   "metadata": {},
   "outputs": [
    {
     "name": "stdout",
     "output_type": "stream",
     "text": [
      "x = [1.0000000000000184, 1.0000000000000124, 0.9999999999999777]"
     ]
    }
   ],
   "source": [
    "print(\"x = $x\")"
   ]
  },
  {
   "cell_type": "code",
   "execution_count": 219,
   "metadata": {},
   "outputs": [
    {
     "data": {
      "text/plain": [
       "print (generic function with 34 methods)"
      ]
     },
     "execution_count": 219,
     "metadata": {},
     "output_type": "execute_result"
    }
   ],
   "source": [
    "import Base.print\n",
    "function print(io :: IO, x :: DataComTipo)\n",
    "    print(\"$(x.dia) de $(x.mes) de $(x.ano)\")\n",
    "end"
   ]
  },
  {
   "cell_type": "code",
   "execution_count": 215,
   "metadata": {},
   "outputs": [
    {
     "name": "stdout",
     "output_type": "stream",
     "text": [
      "7 de Abril de 1986"
     ]
    }
   ],
   "source": [
    "print(data)"
   ]
  },
  {
   "cell_type": "code",
   "execution_count": 216,
   "metadata": {},
   "outputs": [
    {
     "data": {
      "text/plain": [
       "DataComTipo(7, \"Abril\", 1986)"
      ]
     },
     "execution_count": 216,
     "metadata": {},
     "output_type": "execute_result"
    }
   ],
   "source": [
    "data"
   ]
  },
  {
   "cell_type": "code",
   "execution_count": 220,
   "metadata": {},
   "outputs": [
    {
     "data": {
      "text/plain": [
       "show (generic function with 332 methods)"
      ]
     },
     "execution_count": 220,
     "metadata": {},
     "output_type": "execute_result"
    }
   ],
   "source": [
    "import Base.show\n",
    "show(io :: IO, x :: DataComTipo) = print(io, x)"
   ]
  },
  {
   "cell_type": "code",
   "execution_count": 221,
   "metadata": {},
   "outputs": [
    {
     "data": {
      "text/plain": []
     },
     "execution_count": 221,
     "metadata": {},
     "output_type": "execute_result"
    },
    {
     "name": "stdout",
     "output_type": "stream",
     "text": [
      "7 de Abril de 1986"
     ]
    }
   ],
   "source": [
    "data"
   ]
  },
  {
   "cell_type": "code",
   "execution_count": 222,
   "metadata": {},
   "outputs": [
    {
     "data": {
      "text/html": [
       "# 2 methods for generic function <b>maisum</b>:<ul><li> maisum(x::<b>DataComTipo</b>) in Main at In[210]:2</li> <li> maisum(x) in Main at In[206]:2</li> </ul>"
      ],
      "text/plain": [
       "# 2 methods for generic function \"maisum\":\n",
       "[1] maisum(x::DataComTipo) in Main at In[210]:2\n",
       "[2] maisum(x) in Main at In[206]:2"
      ]
     },
     "execution_count": 222,
     "metadata": {},
     "output_type": "execute_result"
    }
   ],
   "source": [
    "methods(maisum)"
   ]
  },
  {
   "cell_type": "code",
   "execution_count": 223,
   "metadata": {},
   "outputs": [
    {
     "data": {
      "text/plain": []
     },
     "execution_count": 223,
     "metadata": {},
     "output_type": "execute_result"
    },
    {
     "name": "stdout",
     "output_type": "stream",
     "text": [
      "7 de Abril de 1986"
     ]
    }
   ],
   "source": [
    "data"
   ]
  },
  {
   "cell_type": "code",
   "execution_count": 224,
   "metadata": {},
   "outputs": [
    {
     "ename": "ErrorException",
     "evalue": "setfield! immutable struct of type DataComTipo cannot be changed",
     "output_type": "error",
     "traceback": [
      "setfield! immutable struct of type DataComTipo cannot be changed",
      "",
      "Stacktrace:",
      " [1] setproperty!(::DataComTipo, ::Symbol, ::Int64) at ./Base.jl:34",
      " [2] top-level scope at In[224]:1"
     ]
    }
   ],
   "source": [
    "data.ano = 2010"
   ]
  },
  {
   "cell_type": "code",
   "execution_count": 225,
   "metadata": {},
   "outputs": [
    {
     "data": {
      "text/plain": [
       "(3, 4)"
      ]
     },
     "execution_count": 225,
     "metadata": {},
     "output_type": "execute_result"
    }
   ],
   "source": [
    "p = (3, 4) # tupla"
   ]
  },
  {
   "cell_type": "code",
   "execution_count": 226,
   "metadata": {},
   "outputs": [
    {
     "data": {
      "text/plain": [
       "3"
      ]
     },
     "execution_count": 226,
     "metadata": {},
     "output_type": "execute_result"
    }
   ],
   "source": [
    "p[1]"
   ]
  },
  {
   "cell_type": "code",
   "execution_count": 227,
   "metadata": {},
   "outputs": [
    {
     "ename": "MethodError",
     "evalue": "MethodError: no method matching setindex!(::Tuple{Int64,Int64}, ::Int64, ::Int64)",
     "output_type": "error",
     "traceback": [
      "MethodError: no method matching setindex!(::Tuple{Int64,Int64}, ::Int64, ::Int64)",
      "",
      "Stacktrace:",
      " [1] top-level scope at In[227]:1"
     ]
    }
   ],
   "source": [
    "p[1] = 1"
   ]
  },
  {
   "cell_type": "code",
   "execution_count": 228,
   "metadata": {},
   "outputs": [
    {
     "data": {
      "text/plain": [
       "10"
      ]
     },
     "execution_count": 228,
     "metadata": {},
     "output_type": "execute_result"
    }
   ],
   "source": [
    "mutable struct DataMutavel\n",
    "    dia\n",
    "    mes\n",
    "    ano\n",
    "end\n",
    "data = DataMutavel(1, 2, 3)\n",
    "data.dia = 10"
   ]
  },
  {
   "cell_type": "code",
   "execution_count": 229,
   "metadata": {},
   "outputs": [
    {
     "data": {
      "text/plain": [
       "DataMutavel(10, 2, 3)"
      ]
     },
     "execution_count": 229,
     "metadata": {},
     "output_type": "execute_result"
    }
   ],
   "source": [
    "data"
   ]
  },
  {
   "cell_type": "code",
   "execution_count": 236,
   "metadata": {},
   "outputs": [],
   "source": [
    "abstract type Datas end"
   ]
  },
  {
   "cell_type": "code",
   "execution_count": 237,
   "metadata": {},
   "outputs": [],
   "source": [
    "mutable struct DataSubtipo <: Datas\n",
    "    dia\n",
    "    mes\n",
    "    ano\n",
    "end"
   ]
  },
  {
   "cell_type": "code",
   "execution_count": 238,
   "metadata": {},
   "outputs": [],
   "source": [
    "mutable struct DataComHorario <: Datas\n",
    "    dia\n",
    "    mes\n",
    "    ano\n",
    "    hora\n",
    "    minuto\n",
    "    segundo\n",
    "end"
   ]
  },
  {
   "cell_type": "code",
   "execution_count": 239,
   "metadata": {},
   "outputs": [
    {
     "data": {
      "text/plain": [
       "DataComHorario(22, 4, 2020, 13, 40, 20)"
      ]
     },
     "execution_count": 239,
     "metadata": {},
     "output_type": "execute_result"
    }
   ],
   "source": [
    "data1 = DataSubtipo(22, 4, 2020)\n",
    "data2 = DataComHorario(22, 4, 2020, 13, 40, 20)"
   ]
  },
  {
   "cell_type": "code",
   "execution_count": 240,
   "metadata": {},
   "outputs": [
    {
     "data": {
      "text/plain": [
       "22"
      ]
     },
     "execution_count": 240,
     "metadata": {},
     "output_type": "execute_result"
    }
   ],
   "source": [
    "data1.dia"
   ]
  },
  {
   "cell_type": "code",
   "execution_count": 241,
   "metadata": {},
   "outputs": [
    {
     "data": {
      "text/plain": [
       "22"
      ]
     },
     "execution_count": 241,
     "metadata": {},
     "output_type": "execute_result"
    }
   ],
   "source": [
    "data2.dia"
   ]
  },
  {
   "cell_type": "code",
   "execution_count": 242,
   "metadata": {},
   "outputs": [
    {
     "data": {
      "text/plain": [
       "QuantoFalta (generic function with 1 method)"
      ]
     },
     "execution_count": 242,
     "metadata": {},
     "output_type": "execute_result"
    }
   ],
   "source": [
    "function QuantoFalta(dia1 :: Datas, dia2 :: Datas)\n",
    "    return dia2.dia - dia1.dia\n",
    "end"
   ]
  },
  {
   "cell_type": "code",
   "execution_count": 243,
   "metadata": {},
   "outputs": [
    {
     "data": {
      "text/plain": [
       "0"
      ]
     },
     "execution_count": 243,
     "metadata": {},
     "output_type": "execute_result"
    }
   ],
   "source": [
    "QuantoFalta(data2, data1)"
   ]
  },
  {
   "cell_type": "code",
   "execution_count": 244,
   "metadata": {},
   "outputs": [
    {
     "data": {
      "text/plain": [
       "dia (generic function with 1 method)"
      ]
     },
     "execution_count": 244,
     "metadata": {},
     "output_type": "execute_result"
    }
   ],
   "source": [
    "function dia(data :: Datas)\n",
    "    return data.dia\n",
    "end"
   ]
  },
  {
   "cell_type": "code",
   "execution_count": 246,
   "metadata": {},
   "outputs": [
    {
     "data": {
      "text/plain": [
       "22"
      ]
     },
     "execution_count": 246,
     "metadata": {},
     "output_type": "execute_result"
    }
   ],
   "source": [
    "dia(data1)"
   ]
  },
  {
   "cell_type": "code",
   "execution_count": 247,
   "metadata": {},
   "outputs": [
    {
     "data": {
      "text/plain": [
       "22"
      ]
     },
     "execution_count": 247,
     "metadata": {},
     "output_type": "execute_result"
    }
   ],
   "source": [
    "dia(data2)"
   ]
  },
  {
   "cell_type": "code",
   "execution_count": 251,
   "metadata": {},
   "outputs": [
    {
     "data": {
      "text/plain": [
       "iso (generic function with 2 methods)"
      ]
     },
     "execution_count": 251,
     "metadata": {},
     "output_type": "execute_result"
    }
   ],
   "source": [
    "function iso(data :: Datas) # Todos os subtipos de Datas\n",
    "    \"$(data.ano)-$(data.mes)-$(data.dia)\"\n",
    "end"
   ]
  },
  {
   "cell_type": "code",
   "execution_count": 252,
   "metadata": {},
   "outputs": [
    {
     "data": {
      "text/plain": [
       "\"2020-4-22\""
      ]
     },
     "execution_count": 252,
     "metadata": {},
     "output_type": "execute_result"
    }
   ],
   "source": [
    "iso(data1)"
   ]
  },
  {
   "cell_type": "code",
   "execution_count": 253,
   "metadata": {},
   "outputs": [
    {
     "data": {
      "text/plain": [
       "\"2020-4-22\""
      ]
     },
     "execution_count": 253,
     "metadata": {},
     "output_type": "execute_result"
    }
   ],
   "source": [
    "iso(data2)"
   ]
  },
  {
   "cell_type": "code",
   "execution_count": 261,
   "metadata": {},
   "outputs": [
    {
     "data": {
      "text/plain": [
       "iso (generic function with 3 methods)"
      ]
     },
     "execution_count": 261,
     "metadata": {},
     "output_type": "execute_result"
    }
   ],
   "source": [
    "function iso(data :: DataComHorario) # Pro tipo específico\n",
    "    \"$(data.ano)-$(data.mes)-$(data.dia):$(data.hora)-$(data.minuto)-$(data.segundo)\"\n",
    "end"
   ]
  },
  {
   "cell_type": "code",
   "execution_count": 255,
   "metadata": {},
   "outputs": [
    {
     "data": {
      "text/plain": [
       "\"2020-4-22\""
      ]
     },
     "execution_count": 255,
     "metadata": {},
     "output_type": "execute_result"
    }
   ],
   "source": [
    "iso(data1)"
   ]
  },
  {
   "cell_type": "code",
   "execution_count": 260,
   "metadata": {},
   "outputs": [
    {
     "data": {
      "text/plain": [
       "\"2020-4-22:13-40-20\""
      ]
     },
     "execution_count": 260,
     "metadata": {},
     "output_type": "execute_result"
    }
   ],
   "source": [
    "iso(data2)"
   ]
  },
  {
   "cell_type": "code",
   "execution_count": 262,
   "metadata": {},
   "outputs": [
    {
     "data": {
      "text/html": [
       "# 3 methods for generic function <b>iso</b>:<ul><li> iso(data::<b>DataComHorario</b>) in Main at In[261]:2</li> <li> iso(data::<b>Data</b>) in Main at In[249]:2</li> <li> iso(data::<b>Datas</b>) in Main at In[251]:2</li> </ul>"
      ],
      "text/plain": [
       "# 3 methods for generic function \"iso\":\n",
       "[1] iso(data::DataComHorario) in Main at In[261]:2\n",
       "[2] iso(data::Data) in Main at In[249]:2\n",
       "[3] iso(data::Datas) in Main at In[251]:2"
      ]
     },
     "execution_count": 262,
     "metadata": {},
     "output_type": "execute_result"
    }
   ],
   "source": [
    "methods(iso)"
   ]
  },
  {
   "cell_type": "code",
   "execution_count": null,
   "metadata": {},
   "outputs": [],
   "source": []
  }
 ],
 "metadata": {
  "kernelspec": {
   "display_name": "Julia 1.4.0",
   "language": "julia",
   "name": "julia-1.4"
  },
  "language_info": {
   "file_extension": ".jl",
   "mimetype": "application/julia",
   "name": "julia",
   "version": "1.4.0"
  }
 },
 "nbformat": 4,
 "nbformat_minor": 2
}
