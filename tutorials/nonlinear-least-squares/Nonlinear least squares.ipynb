{
 "cells": [
  {
   "cell_type": "code",
   "execution_count": 38,
   "metadata": {},
   "outputs": [
    {
     "name": "stderr",
     "output_type": "stream",
     "text": [
      "\u001b[32m\u001b[1m Activating\u001b[22m\u001b[39m environment at `~/Documents/streaming/notebooks/tutorials/nonlinear-least-squares/Project.toml`\n",
      "\u001b[32m\u001b[1m  Resolving\u001b[22m\u001b[39m package versions...\n",
      "\u001b[32m\u001b[1m   Updating\u001b[22m\u001b[39m `~/Documents/streaming/notebooks/tutorials/nonlinear-least-squares/Project.toml`\n",
      "\u001b[90m [no changes]\u001b[39m\n",
      "\u001b[32m\u001b[1m   Updating\u001b[22m\u001b[39m `~/Documents/streaming/notebooks/tutorials/nonlinear-least-squares/Manifest.toml`\n",
      "\u001b[90m [no changes]\u001b[39m\n",
      "\u001b[32m\u001b[1m  Resolving\u001b[22m\u001b[39m package versions...\n",
      "\u001b[32m\u001b[1m   Updating\u001b[22m\u001b[39m `~/Documents/streaming/notebooks/tutorials/nonlinear-least-squares/Project.toml`\n",
      "\u001b[90m [no changes]\u001b[39m\n",
      "\u001b[32m\u001b[1m   Updating\u001b[22m\u001b[39m `~/Documents/streaming/notebooks/tutorials/nonlinear-least-squares/Manifest.toml`\n",
      "\u001b[90m [no changes]\u001b[39m\n",
      "\u001b[32m\u001b[1m  Resolving\u001b[22m\u001b[39m package versions...\n",
      "\u001b[32m\u001b[1m   Updating\u001b[22m\u001b[39m `~/Documents/streaming/notebooks/tutorials/nonlinear-least-squares/Project.toml`\n",
      "\u001b[90m [no changes]\u001b[39m\n",
      "\u001b[32m\u001b[1m   Updating\u001b[22m\u001b[39m `~/Documents/streaming/notebooks/tutorials/nonlinear-least-squares/Manifest.toml`\n",
      "\u001b[90m [no changes]\u001b[39m\n",
      "\u001b[32m\u001b[1m  Resolving\u001b[22m\u001b[39m package versions...\n",
      "\u001b[32m\u001b[1m   Updating\u001b[22m\u001b[39m `~/Documents/streaming/notebooks/tutorials/nonlinear-least-squares/Project.toml`\n",
      "\u001b[90m [no changes]\u001b[39m\n",
      "\u001b[32m\u001b[1m   Updating\u001b[22m\u001b[39m `~/Documents/streaming/notebooks/tutorials/nonlinear-least-squares/Manifest.toml`\n",
      "\u001b[90m [no changes]\u001b[39m\n",
      "\u001b[32m\u001b[1m  Resolving\u001b[22m\u001b[39m package versions...\n",
      "\u001b[32m\u001b[1m   Updating\u001b[22m\u001b[39m `~/Documents/streaming/notebooks/tutorials/nonlinear-least-squares/Project.toml`\n",
      "\u001b[90m [no changes]\u001b[39m\n",
      "\u001b[32m\u001b[1m   Updating\u001b[22m\u001b[39m `~/Documents/streaming/notebooks/tutorials/nonlinear-least-squares/Manifest.toml`\n",
      "\u001b[90m [no changes]\u001b[39m\n",
      "\u001b[32m\u001b[1m  Resolving\u001b[22m\u001b[39m package versions...\n",
      "\u001b[32m\u001b[1m  Installed\u001b[22m\u001b[39m CaNNOLeS ────── v0.1.1\n",
      "\u001b[32m\u001b[1m  Installed\u001b[22m\u001b[39m NLPModelsJuMP ─ v0.4.1\n",
      "\u001b[32m\u001b[1m   Updating\u001b[22m\u001b[39m `~/Documents/streaming/notebooks/tutorials/nonlinear-least-squares/Project.toml`\n",
      " \u001b[90m [5a1c9e79]\u001b[39m\u001b[92m + CaNNOLeS v0.1.1\u001b[39m\n",
      " \u001b[90m [10dff2fc]\u001b[39m\u001b[95m ↓ JSOSolvers v0.3.0 ⇒ v0.2.0\u001b[39m\n",
      " \u001b[90m [4076af6c]\u001b[39m\u001b[95m ↓ JuMP v0.21.2 ⇒ v0.18.6\u001b[39m\n",
      " \u001b[90m [a4795742]\u001b[39m\u001b[95m ↓ NLPModels v0.12.2 ⇒ v0.9.1\u001b[39m\n",
      " \u001b[90m [792afdf1]\u001b[39m\u001b[95m ↓ NLPModelsJuMP v0.6.2 ⇒ v0.4.1\u001b[39m\n",
      "\u001b[32m\u001b[1m   Updating\u001b[22m\u001b[39m `~/Documents/streaming/notebooks/tutorials/nonlinear-least-squares/Manifest.toml`\n",
      " \u001b[90m [14f7f29c]\u001b[39m\u001b[92m + AMD v0.3.1\u001b[39m\n",
      " \u001b[90m [6e4b80f9]\u001b[39m\u001b[91m - BenchmarkTools v0.5.0\u001b[39m\n",
      " \u001b[90m [5a1c9e79]\u001b[39m\u001b[92m + CaNNOLeS v0.1.1\u001b[39m\n",
      " \u001b[90m [523fee87]\u001b[39m\u001b[91m - CodecBzip2 v0.7.1\u001b[39m\n",
      " \u001b[90m [34da2185]\u001b[39m\u001b[95m ↓ Compat v3.8.0 ⇒ v2.2.0\u001b[39m\n",
      " \u001b[90m [34c5aeac]\u001b[39m\u001b[92m + HSL v0.1.0\u001b[39m\n",
      " \u001b[90m [cd3eb016]\u001b[39m\u001b[91m - HTTP v0.8.14\u001b[39m\n",
      " \u001b[90m [83e8ac13]\u001b[39m\u001b[91m - IniFile v0.5.0\u001b[39m\n",
      " \u001b[90m [7d188eb4]\u001b[39m\u001b[91m - JSONSchema v0.2.0\u001b[39m\n",
      " \u001b[90m [10dff2fc]\u001b[39m\u001b[95m ↓ JSOSolvers v0.3.0 ⇒ v0.2.0\u001b[39m\n",
      " \u001b[90m [4076af6c]\u001b[39m\u001b[95m ↓ JuMP v0.21.2 ⇒ v0.18.6\u001b[39m\n",
      " \u001b[90m [ba0b0d4f]\u001b[39m\u001b[95m ↓ Krylov v0.4.1 ⇒ v0.3.1\u001b[39m\n",
      " \u001b[90m [40e66cde]\u001b[39m\u001b[92m + LDLFactorizations v0.4.0\u001b[39m\n",
      " \u001b[90m [5c8ed15e]\u001b[39m\u001b[95m ↓ LinearOperators v1.1.0 ⇒ v0.6.0\u001b[39m\n",
      " \u001b[90m [b8f27783]\u001b[39m\u001b[91m - MathOptInterface v0.9.13\u001b[39m\n",
      " \u001b[90m [fdba3010]\u001b[39m\u001b[92m + MathProgBase v0.7.8\u001b[39m\n",
      " \u001b[90m [739be429]\u001b[39m\u001b[91m - MbedTLS v1.0.2\u001b[39m\n",
      " \u001b[90m [c8ffd9c3]\u001b[39m\u001b[91m - MbedTLS_jll v2.16.0+2\u001b[39m\n",
      " \u001b[90m [d8a4904e]\u001b[39m\u001b[91m - MutableArithmetics v0.2.9\u001b[39m\n",
      " \u001b[90m [a4795742]\u001b[39m\u001b[95m ↓ NLPModels v0.12.2 ⇒ v0.9.1\u001b[39m\n",
      " \u001b[90m [792afdf1]\u001b[39m\u001b[95m ↓ NLPModelsJuMP v0.6.2 ⇒ v0.4.1\u001b[39m\n",
      " \u001b[90m [89212889]\u001b[39m\u001b[92m + ReverseDiffSparse v0.8.6\u001b[39m\n",
      " \u001b[90m [a759f4b9]\u001b[39m\u001b[91m - TimerOutputs v0.5.5\u001b[39m\n"
     ]
    }
   ],
   "source": [
    "using Pkg\n",
    "pkg\"activate .\"\n",
    "pkg\"add Plots\"\n",
    "pkg\"add NLPModels\"\n",
    "pkg\"add NLPModelsJuMP\"\n",
    "pkg\"add JuMP\"\n",
    "pkg\"add JSOSolvers\"\n",
    "pkg\"add CaNNOLeS\""
   ]
  },
  {
   "cell_type": "code",
   "execution_count": 3,
   "metadata": {},
   "outputs": [
    {
     "name": "stdout",
     "output_type": "stream",
     "text": [
      "\u001b[32m\u001b[1mStatus\u001b[22m\u001b[39m `~/Documents/streaming/notebooks/tutorials/nonlinear-least-squares/Project.toml`\n",
      " \u001b[90m [a4795742]\u001b[39m\u001b[37m NLPModels v0.12.2\u001b[39m\n",
      " \u001b[90m [91a5bcdd]\u001b[39m\u001b[37m Plots v1.2.0\u001b[39m\n"
     ]
    }
   ],
   "source": [
    "pkg\"status\""
   ]
  },
  {
   "cell_type": "markdown",
   "metadata": {},
   "source": [
    "$$ \\min\\ \\tfrac{1}{2}\\|F(x)\\|^2 $$"
   ]
  },
  {
   "cell_type": "markdown",
   "metadata": {},
   "source": [
    "$$ F:\\mathbb{R}^n\\to\\mathbb{R}^m $$"
   ]
  },
  {
   "cell_type": "markdown",
   "metadata": {},
   "source": [
    "Rosenbrock: $f(x) = (x_1 - 1)^2 + 100 (x_2 - x_1^2)^2$."
   ]
  },
  {
   "cell_type": "code",
   "execution_count": 4,
   "metadata": {},
   "outputs": [
    {
     "data": {
      "text/plain": [
       "2-element Array{Float64,1}:\n",
       " 0.0\n",
       " 0.0"
      ]
     },
     "execution_count": 4,
     "metadata": {},
     "output_type": "execute_result"
    }
   ],
   "source": [
    "F(x) = [x[1] - 1; 10 * (x[2] - x[1]^2)]\n",
    "F([1.0; 1.0])"
   ]
  },
  {
   "cell_type": "code",
   "execution_count": 5,
   "metadata": {},
   "outputs": [],
   "source": [
    "using NLPModels"
   ]
  },
  {
   "cell_type": "code",
   "execution_count": 7,
   "metadata": {},
   "outputs": [
    {
     "data": {
      "text/plain": [
       "true"
      ]
     },
     "execution_count": 7,
     "metadata": {},
     "output_type": "execute_result"
    }
   ],
   "source": [
    "AbstractNLSModel <: AbstractNLPModel"
   ]
  },
  {
   "cell_type": "code",
   "execution_count": 8,
   "metadata": {},
   "outputs": [
    {
     "data": {
      "text/plain": [
       "ADNLSModel(Minimization problem Generic\n",
       "nvar = 2, ncon = 0 (0 linear)\n",
       ", NLSMeta(2, 2, [0.0, 0.0], 4, 3), NLSCounters(Counters(0, 0, 0, 0, 0, 0, 0, 0, 0, 0, 0), 0, 0, 0, 0, 0, 0, 0), var\"#3#4\"(), NLPModels.var\"#6#8\"())"
      ]
     },
     "execution_count": 8,
     "metadata": {},
     "output_type": "execute_result"
    }
   ],
   "source": [
    "nls = ADNLSModel(x -> [x[1] - 1; 10 * (x[2] - x[1]^2)], # F\n",
    "                 [-1.2; 1.0], # x₀\n",
    "                 2) # nequ"
   ]
  },
  {
   "cell_type": "code",
   "execution_count": 9,
   "metadata": {},
   "outputs": [
    {
     "data": {
      "text/plain": [
       "2-element Array{Float64,1}:\n",
       " -2.2\n",
       " -4.3999999999999995"
      ]
     },
     "execution_count": 9,
     "metadata": {},
     "output_type": "execute_result"
    }
   ],
   "source": [
    "x = nls.meta.x0\n",
    "residual(nls, x)"
   ]
  },
  {
   "cell_type": "code",
   "execution_count": 10,
   "metadata": {},
   "outputs": [
    {
     "data": {
      "text/plain": [
       "2×2 Array{Float64,2}:\n",
       "  1.0   0.0\n",
       " 24.0  10.0"
      ]
     },
     "execution_count": 10,
     "metadata": {},
     "output_type": "execute_result"
    }
   ],
   "source": [
    "jac_residual(nls, x)"
   ]
  },
  {
   "cell_type": "code",
   "execution_count": 11,
   "metadata": {},
   "outputs": [
    {
     "data": {
      "text/plain": [
       "2-element Array{Float64,1}:\n",
       "  1.0\n",
       " 34.0"
      ]
     },
     "execution_count": 11,
     "metadata": {},
     "output_type": "execute_result"
    }
   ],
   "source": [
    "jprod_residual(nls, x, ones(2))"
   ]
  },
  {
   "cell_type": "code",
   "execution_count": 12,
   "metadata": {},
   "outputs": [
    {
     "data": {
      "text/plain": [
       "2-element Array{Float64,1}:\n",
       " 25.0\n",
       " 10.0"
      ]
     },
     "execution_count": 12,
     "metadata": {},
     "output_type": "execute_result"
    }
   ],
   "source": [
    "jtprod_residual(nls, x, ones(2))"
   ]
  },
  {
   "cell_type": "code",
   "execution_count": 14,
   "metadata": {},
   "outputs": [
    {
     "name": "stdout",
     "output_type": "stream",
     "text": [
      "search: \u001b[0m\u001b[1mh\u001b[22m\u001b[0m\u001b[1me\u001b[22m\u001b[0m\u001b[1ms\u001b[22m\u001b[0m\u001b[1ms\u001b[22m\u001b[0m\u001b[1m_\u001b[22m\u001b[0m\u001b[1mr\u001b[22m\u001b[0m\u001b[1me\u001b[22m\u001b[0m\u001b[1ms\u001b[22m\u001b[0m\u001b[1mi\u001b[22m\u001b[0m\u001b[1md\u001b[22m\u001b[0m\u001b[1mu\u001b[22m\u001b[0m\u001b[1ma\u001b[22m\u001b[0m\u001b[1ml\u001b[22m \u001b[0m\u001b[1mh\u001b[22m\u001b[0m\u001b[1me\u001b[22m\u001b[0m\u001b[1ms\u001b[22m\u001b[0m\u001b[1ms\u001b[22m\u001b[0m\u001b[1m_\u001b[22mop_\u001b[0m\u001b[1mr\u001b[22m\u001b[0m\u001b[1me\u001b[22m\u001b[0m\u001b[1ms\u001b[22m\u001b[0m\u001b[1mi\u001b[22m\u001b[0m\u001b[1md\u001b[22m\u001b[0m\u001b[1mu\u001b[22m\u001b[0m\u001b[1ma\u001b[22m\u001b[0m\u001b[1ml\u001b[22m \u001b[0m\u001b[1mh\u001b[22m\u001b[0m\u001b[1me\u001b[22m\u001b[0m\u001b[1ms\u001b[22m\u001b[0m\u001b[1ms\u001b[22m\u001b[0m\u001b[1m_\u001b[22mop_\u001b[0m\u001b[1mr\u001b[22m\u001b[0m\u001b[1me\u001b[22m\u001b[0m\u001b[1ms\u001b[22m\u001b[0m\u001b[1mi\u001b[22m\u001b[0m\u001b[1md\u001b[22m\u001b[0m\u001b[1mu\u001b[22m\u001b[0m\u001b[1ma\u001b[22m\u001b[0m\u001b[1ml\u001b[22m! jt\u001b[0m\u001b[1mh\u001b[22m_h\u001b[0m\u001b[1me\u001b[22m\u001b[0m\u001b[1ms\u001b[22m\u001b[0m\u001b[1ms\u001b[22m\u001b[0m\u001b[1m_\u001b[22m\u001b[0m\u001b[1mr\u001b[22m\u001b[0m\u001b[1me\u001b[22m\u001b[0m\u001b[1ms\u001b[22m\u001b[0m\u001b[1mi\u001b[22m\u001b[0m\u001b[1md\u001b[22m\u001b[0m\u001b[1mu\u001b[22m\u001b[0m\u001b[1ma\u001b[22m\u001b[0m\u001b[1ml\u001b[22m\n",
      "\n"
     ]
    },
    {
     "data": {
      "text/latex": [
       "\\begin{verbatim}\n",
       "H = hess_residual(nls, x, v)\n",
       "\\end{verbatim}\n",
       "Computes the linear combination of the Hessians of the residuals at \\texttt{x} with coefficients \\texttt{v}.\n",
       "\n"
      ],
      "text/markdown": [
       "```\n",
       "H = hess_residual(nls, x, v)\n",
       "```\n",
       "\n",
       "Computes the linear combination of the Hessians of the residuals at `x` with coefficients `v`.\n"
      ],
      "text/plain": [
       "  \u001b[39mH\u001b[0m \u001b[0m\u001b[38;5;197m=\u001b[0m \u001b[0m\u001b[38;5;81mhess_residual\u001b[0m(\u001b[0m\u001b[39mnls\u001b[0m\u001b[39m,\u001b[0m \u001b[0m\u001b[39mx\u001b[0m\u001b[39m,\u001b[0m \u001b[0m\u001b[39mv\u001b[0m\u001b[39m)\u001b[0m\u001b[39m\u001b[0m\n",
       "\n",
       "\n",
       "  Computes the linear combination of the Hessians of the residuals at \u001b[36mx\u001b[39m with\n",
       "  coefficients \u001b[36mv\u001b[39m."
      ]
     },
     "execution_count": 14,
     "metadata": {},
     "output_type": "execute_result"
    }
   ],
   "source": [
    "?hess_residual"
   ]
  },
  {
   "cell_type": "markdown",
   "metadata": {},
   "source": [
    "$$ \\sum_{i=1}^m v_i \\nabla^2 F_i(x) $$"
   ]
  },
  {
   "cell_type": "code",
   "execution_count": 15,
   "metadata": {},
   "outputs": [
    {
     "data": {
      "text/plain": [
       "2×2 Array{Float64,2}:\n",
       " -20.0  0.0\n",
       "   0.0  0.0"
      ]
     },
     "execution_count": 15,
     "metadata": {},
     "output_type": "execute_result"
    }
   ],
   "source": [
    "hess_residual(nls, x, ones(2))"
   ]
  },
  {
   "cell_type": "code",
   "execution_count": 16,
   "metadata": {},
   "outputs": [
    {
     "data": {
      "text/plain": [
       "12.099999999999998"
      ]
     },
     "execution_count": 16,
     "metadata": {},
     "output_type": "execute_result"
    }
   ],
   "source": [
    "obj(nls, x)"
   ]
  },
  {
   "cell_type": "code",
   "execution_count": 18,
   "metadata": {},
   "outputs": [
    {
     "data": {
      "text/plain": [
       "12.099999999999998"
      ]
     },
     "execution_count": 18,
     "metadata": {},
     "output_type": "execute_result"
    }
   ],
   "source": [
    "using LinearAlgebra\n",
    "\n",
    "norm(residual(nls, x))^2 / 2"
   ]
  },
  {
   "cell_type": "code",
   "execution_count": 19,
   "metadata": {},
   "outputs": [
    {
     "data": {
      "text/plain": [
       "2-element Array{Float64,1}:\n",
       " -107.8\n",
       "  -43.99999999999999"
      ]
     },
     "execution_count": 19,
     "metadata": {},
     "output_type": "execute_result"
    }
   ],
   "source": [
    "grad(nls, x)"
   ]
  },
  {
   "cell_type": "code",
   "execution_count": 20,
   "metadata": {},
   "outputs": [
    {
     "data": {
      "text/plain": [
       "2-element Array{Float64,1}:\n",
       " -107.8\n",
       "  -43.99999999999999"
      ]
     },
     "execution_count": 20,
     "metadata": {},
     "output_type": "execute_result"
    }
   ],
   "source": [
    "jac_residual(nls, x)' * residual(nls, x)"
   ]
  },
  {
   "cell_type": "markdown",
   "metadata": {},
   "source": [
    "$$ \\nabla^2 f(x) = J(x)^T J(x) + \\sum_{i=1}^m F_i(x) \\nabla^2 F_i(x) $$"
   ]
  },
  {
   "cell_type": "code",
   "execution_count": 21,
   "metadata": {},
   "outputs": [
    {
     "data": {
      "text/plain": [
       "2×2 Array{Float64,2}:\n",
       " 665.0    0.0\n",
       " 240.0  100.0"
      ]
     },
     "execution_count": 21,
     "metadata": {},
     "output_type": "execute_result"
    }
   ],
   "source": [
    "hess(nls, x)"
   ]
  },
  {
   "cell_type": "code",
   "execution_count": 22,
   "metadata": {},
   "outputs": [
    {
     "data": {
      "text/plain": [
       "2×2 Array{Float64,2}:\n",
       " 665.0  240.0\n",
       " 240.0  100.0"
      ]
     },
     "execution_count": 22,
     "metadata": {},
     "output_type": "execute_result"
    }
   ],
   "source": [
    "hess_residual(nls, x, residual(nls, x)) + jac_residual(nls, x)' * jac_residual(nls, x)"
   ]
  },
  {
   "cell_type": "markdown",
   "metadata": {},
   "source": [
    "**Basic API**\n",
    "\n",
    "- residual\n",
    "- jac_residual, jprod_residual, jtprod_residual\n",
    "- hess_residual, hprod_residual"
   ]
  },
  {
   "cell_type": "code",
   "execution_count": 26,
   "metadata": {},
   "outputs": [
    {
     "name": "stderr",
     "output_type": "stream",
     "text": [
      "┌ Info: Precompiling NLPModelsJuMP [792afdf1-32c1-5681-94e0-d7bf7a5df49e]\n",
      "└ @ Base loading.jl:1260\n"
     ]
    }
   ],
   "source": [
    "using JuMP, NLPModelsJuMP"
   ]
  },
  {
   "cell_type": "code",
   "execution_count": 30,
   "metadata": {},
   "outputs": [
    {
     "data": {
      "text/plain": [
       "MathOptNLSModel(Minimization problem rosenbrock-nls\n",
       "nvar = 2, ncon = 0 (0 linear)\n",
       ", NLSMeta(2, 2, [0.0, 0.0], 3, 1), \"A JuMP.NLPEvaluator\", \"A JuMP.NLPEvaluator\", NLPModelsJuMP.LinearConstraints(Int64[], Int64[], Float64[]), NLSCounters(Counters(0, 0, 0, 0, 0, 0, 0, 0, 0, 0, 0), 0, 0, 0, 0, 0, 0, 0))"
      ]
     },
     "execution_count": 30,
     "metadata": {},
     "output_type": "execute_result"
    }
   ],
   "source": [
    "model = Model()\n",
    "\n",
    "x0 = [-1.2; 1.0]\n",
    "@variable(model, x[i=1:2], start=x0[i])\n",
    "\n",
    "@NLexpression(model, F1, x[1] - 1)\n",
    "@NLexpression(model, F2, 10 * (x[2] - x[1]^2))\n",
    "\n",
    "nls = MathOptNLSModel(model, [F1, F2], name=\"rosenbrock-nls\")"
   ]
  },
  {
   "cell_type": "code",
   "execution_count": 31,
   "metadata": {},
   "outputs": [
    {
     "data": {
      "text/plain": [
       "2-element Array{Float64,1}:\n",
       " -2.2\n",
       " -4.3999999999999995"
      ]
     },
     "execution_count": 31,
     "metadata": {},
     "output_type": "execute_result"
    }
   ],
   "source": [
    "residual(nls, nls.meta.x0)"
   ]
  },
  {
   "cell_type": "code",
   "execution_count": 32,
   "metadata": {},
   "outputs": [
    {
     "data": {
      "text/plain": [
       "2-element Array{Float64,1}:\n",
       " 0.0\n",
       " 0.0"
      ]
     },
     "execution_count": 32,
     "metadata": {},
     "output_type": "execute_result"
    }
   ],
   "source": [
    "residual(nls, ones(2))"
   ]
  },
  {
   "cell_type": "code",
   "execution_count": 33,
   "metadata": {},
   "outputs": [
    {
     "data": {
      "text/plain": [
       "2×2 SparseArrays.SparseMatrixCSC{Float64,Int64} with 3 stored entries:\n",
       "  [1, 1]  =  1.0\n",
       "  [2, 1]  =  -20.0\n",
       "  [2, 2]  =  10.0"
      ]
     },
     "execution_count": 33,
     "metadata": {},
     "output_type": "execute_result"
    }
   ],
   "source": [
    "jac_residual(nls, ones(2))"
   ]
  },
  {
   "cell_type": "code",
   "execution_count": 34,
   "metadata": {},
   "outputs": [
    {
     "data": {
      "text/plain": [
       "0.0"
      ]
     },
     "execution_count": 34,
     "metadata": {},
     "output_type": "execute_result"
    }
   ],
   "source": [
    "obj(nls, ones(2))"
   ]
  },
  {
   "cell_type": "markdown",
   "metadata": {},
   "source": [
    "$$ \\frac{1}{1 + e^{-\\beta_0 - \\beta_1 x_i}} \\approx y_i $$"
   ]
  },
  {
   "cell_type": "code",
   "execution_count": null,
   "metadata": {},
   "outputs": [],
   "source": [
    "using Plots\n",
    "gr(size=(400,300))"
   ]
  },
  {
   "cell_type": "code",
   "execution_count": 56,
   "metadata": {},
   "outputs": [
    {
     "data": {
      "image/svg+xml": [
       "<?xml version=\"1.0\" encoding=\"utf-8\"?>\n",
       "<svg xmlns=\"http://www.w3.org/2000/svg\" xmlns:xlink=\"http://www.w3.org/1999/xlink\" width=\"400\" height=\"300\" viewBox=\"0 0 1600 1200\">\n",
       "<defs>\n",
       "  <clipPath id=\"clip8300\">\n",
       "    <rect x=\"0\" y=\"0\" width=\"1600\" height=\"1200\"/>\n",
       "  </clipPath>\n",
       "</defs>\n",
       "<path clip-path=\"url(#clip8300)\" d=\"\n",
       "M0 1200 L1600 1200 L1600 0 L0 0  Z\n",
       "  \" fill=\"#ffffff\" fill-rule=\"evenodd\" fill-opacity=\"1\"/>\n",
       "<defs>\n",
       "  <clipPath id=\"clip8301\">\n",
       "    <rect x=\"320\" y=\"0\" width=\"1121\" height=\"1121\"/>\n",
       "  </clipPath>\n",
       "</defs>\n",
       "<path clip-path=\"url(#clip8300)\" d=\"\n",
       "M140.334 1086.13 L1552.76 1086.13 L1552.76 47.2441 L140.334 47.2441  Z\n",
       "  \" fill=\"#ffffff\" fill-rule=\"evenodd\" fill-opacity=\"1\"/>\n",
       "<defs>\n",
       "  <clipPath id=\"clip8302\">\n",
       "    <rect x=\"140\" y=\"47\" width=\"1413\" height=\"1040\"/>\n",
       "  </clipPath>\n",
       "</defs>\n",
       "<polyline clip-path=\"url(#clip8302)\" style=\"stroke:#000000; stroke-width:2; stroke-opacity:0.1; fill:none\" points=\"\n",
       "  180.309,1086.13 180.309,47.2441 \n",
       "  \"/>\n",
       "<polyline clip-path=\"url(#clip8302)\" style=\"stroke:#000000; stroke-width:2; stroke-opacity:0.1; fill:none\" points=\"\n",
       "  446.803,1086.13 446.803,47.2441 \n",
       "  \"/>\n",
       "<polyline clip-path=\"url(#clip8302)\" style=\"stroke:#000000; stroke-width:2; stroke-opacity:0.1; fill:none\" points=\"\n",
       "  713.298,1086.13 713.298,47.2441 \n",
       "  \"/>\n",
       "<polyline clip-path=\"url(#clip8302)\" style=\"stroke:#000000; stroke-width:2; stroke-opacity:0.1; fill:none\" points=\"\n",
       "  979.792,1086.13 979.792,47.2441 \n",
       "  \"/>\n",
       "<polyline clip-path=\"url(#clip8302)\" style=\"stroke:#000000; stroke-width:2; stroke-opacity:0.1; fill:none\" points=\"\n",
       "  1246.29,1086.13 1246.29,47.2441 \n",
       "  \"/>\n",
       "<polyline clip-path=\"url(#clip8302)\" style=\"stroke:#000000; stroke-width:2; stroke-opacity:0.1; fill:none\" points=\"\n",
       "  1512.78,1086.13 1512.78,47.2441 \n",
       "  \"/>\n",
       "<polyline clip-path=\"url(#clip8302)\" style=\"stroke:#000000; stroke-width:2; stroke-opacity:0.1; fill:none\" points=\"\n",
       "  140.334,1060.55 1552.76,1060.55 \n",
       "  \"/>\n",
       "<polyline clip-path=\"url(#clip8302)\" style=\"stroke:#000000; stroke-width:2; stroke-opacity:0.1; fill:none\" points=\"\n",
       "  140.334,852.143 1552.76,852.143 \n",
       "  \"/>\n",
       "<polyline clip-path=\"url(#clip8302)\" style=\"stroke:#000000; stroke-width:2; stroke-opacity:0.1; fill:none\" points=\"\n",
       "  140.334,643.736 1552.76,643.736 \n",
       "  \"/>\n",
       "<polyline clip-path=\"url(#clip8302)\" style=\"stroke:#000000; stroke-width:2; stroke-opacity:0.1; fill:none\" points=\"\n",
       "  140.334,435.329 1552.76,435.329 \n",
       "  \"/>\n",
       "<polyline clip-path=\"url(#clip8302)\" style=\"stroke:#000000; stroke-width:2; stroke-opacity:0.1; fill:none\" points=\"\n",
       "  140.334,226.921 1552.76,226.921 \n",
       "  \"/>\n",
       "<polyline clip-path=\"url(#clip8300)\" style=\"stroke:#000000; stroke-width:4; stroke-opacity:1; fill:none\" points=\"\n",
       "  140.334,1086.13 1552.76,1086.13 \n",
       "  \"/>\n",
       "<polyline clip-path=\"url(#clip8300)\" style=\"stroke:#000000; stroke-width:4; stroke-opacity:1; fill:none\" points=\"\n",
       "  140.334,1086.13 140.334,47.2441 \n",
       "  \"/>\n",
       "<polyline clip-path=\"url(#clip8300)\" style=\"stroke:#000000; stroke-width:4; stroke-opacity:1; fill:none\" points=\"\n",
       "  180.309,1086.13 180.309,1073.66 \n",
       "  \"/>\n",
       "<polyline clip-path=\"url(#clip8300)\" style=\"stroke:#000000; stroke-width:4; stroke-opacity:1; fill:none\" points=\"\n",
       "  446.803,1086.13 446.803,1073.66 \n",
       "  \"/>\n",
       "<polyline clip-path=\"url(#clip8300)\" style=\"stroke:#000000; stroke-width:4; stroke-opacity:1; fill:none\" points=\"\n",
       "  713.298,1086.13 713.298,1073.66 \n",
       "  \"/>\n",
       "<polyline clip-path=\"url(#clip8300)\" style=\"stroke:#000000; stroke-width:4; stroke-opacity:1; fill:none\" points=\"\n",
       "  979.792,1086.13 979.792,1073.66 \n",
       "  \"/>\n",
       "<polyline clip-path=\"url(#clip8300)\" style=\"stroke:#000000; stroke-width:4; stroke-opacity:1; fill:none\" points=\"\n",
       "  1246.29,1086.13 1246.29,1073.66 \n",
       "  \"/>\n",
       "<polyline clip-path=\"url(#clip8300)\" style=\"stroke:#000000; stroke-width:4; stroke-opacity:1; fill:none\" points=\"\n",
       "  1512.78,1086.13 1512.78,1073.66 \n",
       "  \"/>\n",
       "<polyline clip-path=\"url(#clip8300)\" style=\"stroke:#000000; stroke-width:4; stroke-opacity:1; fill:none\" points=\"\n",
       "  140.334,1060.55 157.283,1060.55 \n",
       "  \"/>\n",
       "<polyline clip-path=\"url(#clip8300)\" style=\"stroke:#000000; stroke-width:4; stroke-opacity:1; fill:none\" points=\"\n",
       "  140.334,852.143 157.283,852.143 \n",
       "  \"/>\n",
       "<polyline clip-path=\"url(#clip8300)\" style=\"stroke:#000000; stroke-width:4; stroke-opacity:1; fill:none\" points=\"\n",
       "  140.334,643.736 157.283,643.736 \n",
       "  \"/>\n",
       "<polyline clip-path=\"url(#clip8300)\" style=\"stroke:#000000; stroke-width:4; stroke-opacity:1; fill:none\" points=\"\n",
       "  140.334,435.329 157.283,435.329 \n",
       "  \"/>\n",
       "<polyline clip-path=\"url(#clip8300)\" style=\"stroke:#000000; stroke-width:4; stroke-opacity:1; fill:none\" points=\"\n",
       "  140.334,226.921 157.283,226.921 \n",
       "  \"/>\n",
       "<path clip-path=\"url(#clip8300)\" d=\"M 0 0 M161.177 1120.72 L173.654 1120.72 L173.654 1124.51 L161.177 1124.51 L161.177 1120.72 Z\" fill=\"#000000\" fill-rule=\"evenodd\" fill-opacity=\"1\" /><path clip-path=\"url(#clip8300)\" d=\"M 0 0 M179.533 1131.66 L187.172 1131.66 L187.172 1105.3 L178.862 1106.97 L178.862 1102.71 L187.126 1101.04 L191.802 1101.04 L191.802 1131.66 L199.44 1131.66 L199.44 1135.6 L179.533 1135.6 L179.533 1131.66 Z\" fill=\"#000000\" fill-rule=\"evenodd\" fill-opacity=\"1\" /><path clip-path=\"url(#clip8300)\" d=\"M 0 0 M446.803 1104.12 Q443.192 1104.12 441.363 1107.68 Q439.558 1111.23 439.558 1118.35 Q439.558 1125.46 441.363 1129.03 Q443.192 1132.57 446.803 1132.57 Q450.437 1132.57 452.243 1129.03 Q454.072 1125.46 454.072 1118.35 Q454.072 1111.23 452.243 1107.68 Q450.437 1104.12 446.803 1104.12 M446.803 1100.41 Q452.613 1100.41 455.669 1105.02 Q458.748 1109.6 458.748 1118.35 Q458.748 1127.08 455.669 1131.69 Q452.613 1136.27 446.803 1136.27 Q440.993 1136.27 437.914 1131.69 Q434.859 1127.08 434.859 1118.35 Q434.859 1109.6 437.914 1105.02 Q440.993 1100.41 446.803 1100.41 Z\" fill=\"#000000\" fill-rule=\"evenodd\" fill-opacity=\"1\" /><path clip-path=\"url(#clip8300)\" d=\"M 0 0 M703.68 1131.66 L711.319 1131.66 L711.319 1105.3 L703.009 1106.97 L703.009 1102.71 L711.272 1101.04 L715.948 1101.04 L715.948 1131.66 L723.587 1131.66 L723.587 1135.6 L703.68 1135.6 L703.68 1131.66 Z\" fill=\"#000000\" fill-rule=\"evenodd\" fill-opacity=\"1\" /><path clip-path=\"url(#clip8300)\" d=\"M 0 0 M974.445 1131.66 L990.765 1131.66 L990.765 1135.6 L968.82 1135.6 L968.82 1131.66 Q971.482 1128.91 976.066 1124.28 Q980.672 1119.63 981.853 1118.29 Q984.098 1115.76 984.978 1114.03 Q985.88 1112.27 985.88 1110.58 Q985.88 1107.82 983.936 1106.09 Q982.015 1104.35 978.913 1104.35 Q976.714 1104.35 974.26 1105.11 Q971.83 1105.88 969.052 1107.43 L969.052 1102.71 Q971.876 1101.57 974.33 1100.99 Q976.783 1100.41 978.82 1100.41 Q984.191 1100.41 987.385 1103.1 Q990.579 1105.79 990.579 1110.28 Q990.579 1112.41 989.769 1114.33 Q988.982 1116.22 986.876 1118.82 Q986.297 1119.49 983.195 1122.71 Q980.093 1125.9 974.445 1131.66 Z\" fill=\"#000000\" fill-rule=\"evenodd\" fill-opacity=\"1\" /><path clip-path=\"url(#clip8300)\" d=\"M 0 0 M1250.53 1116.97 Q1253.89 1117.68 1255.77 1119.95 Q1257.66 1122.22 1257.66 1125.55 Q1257.66 1130.67 1254.15 1133.47 Q1250.63 1136.27 1244.15 1136.27 Q1241.97 1136.27 1239.66 1135.83 Q1237.36 1135.41 1234.91 1134.56 L1234.91 1130.04 Q1236.85 1131.18 1239.17 1131.76 Q1241.48 1132.34 1244.01 1132.34 Q1248.41 1132.34 1250.7 1130.6 Q1253.01 1128.86 1253.01 1125.55 Q1253.01 1122.5 1250.86 1120.79 Q1248.73 1119.05 1244.91 1119.05 L1240.88 1119.05 L1240.88 1115.21 L1245.09 1115.21 Q1248.54 1115.21 1250.37 1113.84 Q1252.2 1112.45 1252.2 1109.86 Q1252.2 1107.2 1250.3 1105.79 Q1248.43 1104.35 1244.91 1104.35 Q1242.99 1104.35 1240.79 1104.77 Q1238.59 1105.18 1235.95 1106.06 L1235.95 1101.9 Q1238.61 1101.16 1240.93 1100.79 Q1243.27 1100.41 1245.33 1100.41 Q1250.65 1100.41 1253.75 1102.85 Q1256.85 1105.25 1256.85 1109.37 Q1256.85 1112.24 1255.21 1114.23 Q1253.57 1116.2 1250.53 1116.97 Z\" fill=\"#000000\" fill-rule=\"evenodd\" fill-opacity=\"1\" /><path clip-path=\"url(#clip8300)\" d=\"M 0 0 M1515.79 1105.11 L1503.99 1123.56 L1515.79 1123.56 L1515.79 1105.11 M1514.56 1101.04 L1520.44 1101.04 L1520.44 1123.56 L1525.37 1123.56 L1525.37 1127.45 L1520.44 1127.45 L1520.44 1135.6 L1515.79 1135.6 L1515.79 1127.45 L1500.19 1127.45 L1500.19 1122.94 L1514.56 1101.04 Z\" fill=\"#000000\" fill-rule=\"evenodd\" fill-opacity=\"1\" /><path clip-path=\"url(#clip8300)\" d=\"M 0 0 M75.4226 1046.35 Q71.8115 1046.35 69.9828 1049.91 Q68.1773 1053.46 68.1773 1060.59 Q68.1773 1067.69 69.9828 1071.26 Q71.8115 1074.8 75.4226 1074.8 Q79.0569 1074.8 80.8624 1071.26 Q82.6911 1067.69 82.6911 1060.59 Q82.6911 1053.46 80.8624 1049.91 Q79.0569 1046.35 75.4226 1046.35 M75.4226 1042.65 Q81.2328 1042.65 84.2883 1047.25 Q87.367 1051.84 87.367 1060.59 Q87.367 1069.31 84.2883 1073.92 Q81.2328 1078.5 75.4226 1078.5 Q69.6125 1078.5 66.5338 1073.92 Q63.4782 1069.31 63.4782 1060.59 Q63.4782 1051.84 66.5338 1047.25 Q69.6125 1042.65 75.4226 1042.65 Z\" fill=\"#000000\" fill-rule=\"evenodd\" fill-opacity=\"1\" /><path clip-path=\"url(#clip8300)\" d=\"M 0 0 M92.4364 1071.95 L97.3206 1071.95 L97.3206 1077.83 L92.4364 1077.83 L92.4364 1071.95 Z\" fill=\"#000000\" fill-rule=\"evenodd\" fill-opacity=\"1\" /><path clip-path=\"url(#clip8300)\" d=\"M 0 0 M112.39 1046.35 Q108.779 1046.35 106.95 1049.91 Q105.145 1053.46 105.145 1060.59 Q105.145 1067.69 106.95 1071.26 Q108.779 1074.8 112.39 1074.8 Q116.024 1074.8 117.83 1071.26 Q119.658 1067.69 119.658 1060.59 Q119.658 1053.46 117.83 1049.91 Q116.024 1046.35 112.39 1046.35 M112.39 1042.65 Q118.2 1042.65 121.256 1047.25 Q124.334 1051.84 124.334 1060.59 Q124.334 1069.31 121.256 1073.92 Q118.2 1078.5 112.39 1078.5 Q106.58 1078.5 103.501 1073.92 Q100.446 1069.31 100.446 1060.59 Q100.446 1051.84 103.501 1047.25 Q106.58 1042.65 112.39 1042.65 Z\" fill=\"#000000\" fill-rule=\"evenodd\" fill-opacity=\"1\" /><path clip-path=\"url(#clip8300)\" d=\"M 0 0 M77.0198 837.942 Q73.4087 837.942 71.58 841.507 Q69.7745 845.048 69.7745 852.178 Q69.7745 859.284 71.58 862.849 Q73.4087 866.391 77.0198 866.391 Q80.6541 866.391 82.4596 862.849 Q84.2883 859.284 84.2883 852.178 Q84.2883 845.048 82.4596 841.507 Q80.6541 837.942 77.0198 837.942 M77.0198 834.238 Q82.83 834.238 85.8855 838.845 Q88.9642 843.428 88.9642 852.178 Q88.9642 860.905 85.8855 865.511 Q82.83 870.094 77.0198 870.094 Q71.2097 870.094 68.131 865.511 Q65.0754 860.905 65.0754 852.178 Q65.0754 843.428 68.131 838.845 Q71.2097 834.238 77.0198 834.238 Z\" fill=\"#000000\" fill-rule=\"evenodd\" fill-opacity=\"1\" /><path clip-path=\"url(#clip8300)\" d=\"M 0 0 M94.0336 863.543 L98.9179 863.543 L98.9179 869.423 L94.0336 869.423 L94.0336 863.543 Z\" fill=\"#000000\" fill-rule=\"evenodd\" fill-opacity=\"1\" /><path clip-path=\"url(#clip8300)\" d=\"M 0 0 M108.015 865.488 L124.334 865.488 L124.334 869.423 L102.39 869.423 L102.39 865.488 Q105.052 862.733 109.635 858.104 Q114.242 853.451 115.422 852.108 Q117.668 849.585 118.547 847.849 Q119.45 846.09 119.45 844.4 Q119.45 841.645 117.506 839.909 Q115.584 838.173 112.483 838.173 Q110.284 838.173 107.83 838.937 Q105.399 839.701 102.622 841.252 L102.622 836.53 Q105.446 835.395 107.899 834.817 Q110.353 834.238 112.39 834.238 Q117.76 834.238 120.955 836.923 Q124.149 839.608 124.149 844.099 Q124.149 846.229 123.339 848.15 Q122.552 850.048 120.446 852.641 Q119.867 853.312 116.765 856.53 Q113.663 859.724 108.015 865.488 Z\" fill=\"#000000\" fill-rule=\"evenodd\" fill-opacity=\"1\" /><path clip-path=\"url(#clip8300)\" d=\"M 0 0 M74.9365 629.534 Q71.3254 629.534 69.4967 633.099 Q67.6912 636.641 67.6912 643.771 Q67.6912 650.877 69.4967 654.442 Q71.3254 657.983 74.9365 657.983 Q78.5707 657.983 80.3763 654.442 Q82.205 650.877 82.205 643.771 Q82.205 636.641 80.3763 633.099 Q78.5707 629.534 74.9365 629.534 M74.9365 625.831 Q80.7467 625.831 83.8022 630.437 Q86.8809 635.021 86.8809 643.771 Q86.8809 652.497 83.8022 657.104 Q80.7467 661.687 74.9365 661.687 Q69.1264 661.687 66.0477 657.104 Q62.9921 652.497 62.9921 643.771 Q62.9921 635.021 66.0477 630.437 Q69.1264 625.831 74.9365 625.831 Z\" fill=\"#000000\" fill-rule=\"evenodd\" fill-opacity=\"1\" /><path clip-path=\"url(#clip8300)\" d=\"M 0 0 M91.9503 655.136 L96.8345 655.136 L96.8345 661.016 L91.9503 661.016 L91.9503 655.136 Z\" fill=\"#000000\" fill-rule=\"evenodd\" fill-opacity=\"1\" /><path clip-path=\"url(#clip8300)\" d=\"M 0 0 M114.751 630.53 L102.946 648.979 L114.751 648.979 L114.751 630.53 M113.524 626.456 L119.404 626.456 L119.404 648.979 L124.334 648.979 L124.334 652.868 L119.404 652.868 L119.404 661.016 L114.751 661.016 L114.751 652.868 L99.1493 652.868 L99.1493 648.354 L113.524 626.456 Z\" fill=\"#000000\" fill-rule=\"evenodd\" fill-opacity=\"1\" /><path clip-path=\"url(#clip8300)\" d=\"M 0 0 M75.2606 421.127 Q71.6495 421.127 69.8208 424.692 Q68.0152 428.234 68.0152 435.363 Q68.0152 442.47 69.8208 446.034 Q71.6495 449.576 75.2606 449.576 Q78.8948 449.576 80.7004 446.034 Q82.5291 442.47 82.5291 435.363 Q82.5291 428.234 80.7004 424.692 Q78.8948 421.127 75.2606 421.127 M75.2606 417.424 Q81.0707 417.424 84.1263 422.03 Q87.205 426.613 87.205 435.363 Q87.205 444.09 84.1263 448.697 Q81.0707 453.28 75.2606 453.28 Q69.4504 453.28 66.3717 448.697 Q63.3162 444.09 63.3162 435.363 Q63.3162 426.613 66.3717 422.03 Q69.4504 417.424 75.2606 417.424 Z\" fill=\"#000000\" fill-rule=\"evenodd\" fill-opacity=\"1\" /><path clip-path=\"url(#clip8300)\" d=\"M 0 0 M92.2744 446.729 L97.1586 446.729 L97.1586 452.609 L92.2744 452.609 L92.2744 446.729 Z\" fill=\"#000000\" fill-rule=\"evenodd\" fill-opacity=\"1\" /><path clip-path=\"url(#clip8300)\" d=\"M 0 0 M112.807 433.465 Q109.659 433.465 107.807 435.618 Q105.978 437.771 105.978 441.521 Q105.978 445.247 107.807 447.423 Q109.659 449.576 112.807 449.576 Q115.955 449.576 117.783 447.423 Q119.635 445.247 119.635 441.521 Q119.635 437.771 117.783 435.618 Q115.955 433.465 112.807 433.465 M122.089 418.812 L122.089 423.072 Q120.33 422.238 118.524 421.798 Q116.742 421.359 114.983 421.359 Q110.353 421.359 107.899 424.484 Q105.469 427.609 105.122 433.928 Q106.487 431.914 108.547 430.849 Q110.608 429.761 113.084 429.761 Q118.293 429.761 121.302 432.933 Q124.334 436.081 124.334 441.521 Q124.334 446.845 121.186 450.062 Q118.038 453.28 112.807 453.28 Q106.811 453.28 103.64 448.697 Q100.469 444.09 100.469 435.363 Q100.469 427.169 104.358 422.308 Q108.247 417.424 114.797 417.424 Q116.557 417.424 118.339 417.771 Q120.145 418.118 122.089 418.812 Z\" fill=\"#000000\" fill-rule=\"evenodd\" fill-opacity=\"1\" /><path clip-path=\"url(#clip8300)\" d=\"M 0 0 M75.5152 212.72 Q71.9041 212.72 70.0754 216.285 Q68.2699 219.826 68.2699 226.956 Q68.2699 234.062 70.0754 237.627 Q71.9041 241.169 75.5152 241.169 Q79.1494 241.169 80.955 237.627 Q82.7837 234.062 82.7837 226.956 Q82.7837 219.826 80.955 216.285 Q79.1494 212.72 75.5152 212.72 M75.5152 209.016 Q81.3254 209.016 84.3809 213.623 Q87.4596 218.206 87.4596 226.956 Q87.4596 235.683 84.3809 240.289 Q81.3254 244.873 75.5152 244.873 Q69.7051 244.873 66.6264 240.289 Q63.5708 235.683 63.5708 226.956 Q63.5708 218.206 66.6264 213.623 Q69.7051 209.016 75.5152 209.016 Z\" fill=\"#000000\" fill-rule=\"evenodd\" fill-opacity=\"1\" /><path clip-path=\"url(#clip8300)\" d=\"M 0 0 M92.529 238.322 L97.4132 238.322 L97.4132 244.201 L92.529 244.201 L92.529 238.322 Z\" fill=\"#000000\" fill-rule=\"evenodd\" fill-opacity=\"1\" /><path clip-path=\"url(#clip8300)\" d=\"M 0 0 M112.483 227.789 Q109.149 227.789 107.228 229.572 Q105.33 231.354 105.33 234.479 Q105.33 237.604 107.228 239.386 Q109.149 241.169 112.483 241.169 Q115.816 241.169 117.737 239.386 Q119.658 237.581 119.658 234.479 Q119.658 231.354 117.737 229.572 Q115.839 227.789 112.483 227.789 M107.807 225.799 Q104.797 225.058 103.108 222.998 Q101.441 220.937 101.441 217.975 Q101.441 213.831 104.381 211.424 Q107.344 209.016 112.483 209.016 Q117.645 209.016 120.584 211.424 Q123.524 213.831 123.524 217.975 Q123.524 220.937 121.834 222.998 Q120.168 225.058 117.182 225.799 Q120.561 226.586 122.436 228.877 Q124.334 231.169 124.334 234.479 Q124.334 239.502 121.256 242.187 Q118.2 244.873 112.483 244.873 Q106.765 244.873 103.686 242.187 Q100.631 239.502 100.631 234.479 Q100.631 231.169 102.529 228.877 Q104.427 226.586 107.807 225.799 M106.094 218.414 Q106.094 221.1 107.76 222.604 Q109.45 224.109 112.483 224.109 Q115.492 224.109 117.182 222.604 Q118.895 221.1 118.895 218.414 Q118.895 215.729 117.182 214.225 Q115.492 212.72 112.483 212.72 Q109.45 212.72 107.76 214.225 Q106.094 215.729 106.094 218.414 Z\" fill=\"#000000\" fill-rule=\"evenodd\" fill-opacity=\"1\" /><circle clip-path=\"url(#clip8302)\" cx=\"180.309\" cy=\"1056.73\" r=\"14\" fill=\"#009af9\" fill-rule=\"evenodd\" fill-opacity=\"1\" stroke=\"#000000\" stroke-opacity=\"1\" stroke-width=\"2.4\"/>\n",
       "<circle clip-path=\"url(#clip8302)\" cx=\"226.256\" cy=\"1055.74\" r=\"14\" fill=\"#009af9\" fill-rule=\"evenodd\" fill-opacity=\"1\" stroke=\"#000000\" stroke-opacity=\"1\" stroke-width=\"2.4\"/>\n",
       "<circle clip-path=\"url(#clip8302)\" cx=\"272.203\" cy=\"1051.54\" r=\"14\" fill=\"#009af9\" fill-rule=\"evenodd\" fill-opacity=\"1\" stroke=\"#000000\" stroke-opacity=\"1\" stroke-width=\"2.4\"/>\n",
       "<circle clip-path=\"url(#clip8302)\" cx=\"318.151\" cy=\"1049.46\" r=\"14\" fill=\"#009af9\" fill-rule=\"evenodd\" fill-opacity=\"1\" stroke=\"#000000\" stroke-opacity=\"1\" stroke-width=\"2.4\"/>\n",
       "<circle clip-path=\"url(#clip8302)\" cx=\"364.098\" cy=\"1048.79\" r=\"14\" fill=\"#009af9\" fill-rule=\"evenodd\" fill-opacity=\"1\" stroke=\"#000000\" stroke-opacity=\"1\" stroke-width=\"2.4\"/>\n",
       "<circle clip-path=\"url(#clip8302)\" cx=\"410.045\" cy=\"1043.73\" r=\"14\" fill=\"#009af9\" fill-rule=\"evenodd\" fill-opacity=\"1\" stroke=\"#000000\" stroke-opacity=\"1\" stroke-width=\"2.4\"/>\n",
       "<circle clip-path=\"url(#clip8302)\" cx=\"455.993\" cy=\"1036.94\" r=\"14\" fill=\"#009af9\" fill-rule=\"evenodd\" fill-opacity=\"1\" stroke=\"#000000\" stroke-opacity=\"1\" stroke-width=\"2.4\"/>\n",
       "<circle clip-path=\"url(#clip8302)\" cx=\"501.94\" cy=\"1028.06\" r=\"14\" fill=\"#009af9\" fill-rule=\"evenodd\" fill-opacity=\"1\" stroke=\"#000000\" stroke-opacity=\"1\" stroke-width=\"2.4\"/>\n",
       "<circle clip-path=\"url(#clip8302)\" cx=\"547.887\" cy=\"1012.93\" r=\"14\" fill=\"#009af9\" fill-rule=\"evenodd\" fill-opacity=\"1\" stroke=\"#000000\" stroke-opacity=\"1\" stroke-width=\"2.4\"/>\n",
       "<circle clip-path=\"url(#clip8302)\" cx=\"593.835\" cy=\"1026.56\" r=\"14\" fill=\"#009af9\" fill-rule=\"evenodd\" fill-opacity=\"1\" stroke=\"#000000\" stroke-opacity=\"1\" stroke-width=\"2.4\"/>\n",
       "<circle clip-path=\"url(#clip8302)\" cx=\"639.782\" cy=\"976.6\" r=\"14\" fill=\"#009af9\" fill-rule=\"evenodd\" fill-opacity=\"1\" stroke=\"#000000\" stroke-opacity=\"1\" stroke-width=\"2.4\"/>\n",
       "<circle clip-path=\"url(#clip8302)\" cx=\"685.729\" cy=\"950.529\" r=\"14\" fill=\"#009af9\" fill-rule=\"evenodd\" fill-opacity=\"1\" stroke=\"#000000\" stroke-opacity=\"1\" stroke-width=\"2.4\"/>\n",
       "<circle clip-path=\"url(#clip8302)\" cx=\"731.677\" cy=\"957.437\" r=\"14\" fill=\"#009af9\" fill-rule=\"evenodd\" fill-opacity=\"1\" stroke=\"#000000\" stroke-opacity=\"1\" stroke-width=\"2.4\"/>\n",
       "<circle clip-path=\"url(#clip8302)\" cx=\"777.624\" cy=\"942.468\" r=\"14\" fill=\"#009af9\" fill-rule=\"evenodd\" fill-opacity=\"1\" stroke=\"#000000\" stroke-opacity=\"1\" stroke-width=\"2.4\"/>\n",
       "<circle clip-path=\"url(#clip8302)\" cx=\"823.571\" cy=\"859.987\" r=\"14\" fill=\"#009af9\" fill-rule=\"evenodd\" fill-opacity=\"1\" stroke=\"#000000\" stroke-opacity=\"1\" stroke-width=\"2.4\"/>\n",
       "<circle clip-path=\"url(#clip8302)\" cx=\"869.519\" cy=\"820.418\" r=\"14\" fill=\"#009af9\" fill-rule=\"evenodd\" fill-opacity=\"1\" stroke=\"#000000\" stroke-opacity=\"1\" stroke-width=\"2.4\"/>\n",
       "<circle clip-path=\"url(#clip8302)\" cx=\"915.466\" cy=\"668.126\" r=\"14\" fill=\"#009af9\" fill-rule=\"evenodd\" fill-opacity=\"1\" stroke=\"#000000\" stroke-opacity=\"1\" stroke-width=\"2.4\"/>\n",
       "<circle clip-path=\"url(#clip8302)\" cx=\"961.414\" cy=\"530.704\" r=\"14\" fill=\"#009af9\" fill-rule=\"evenodd\" fill-opacity=\"1\" stroke=\"#000000\" stroke-opacity=\"1\" stroke-width=\"2.4\"/>\n",
       "<circle clip-path=\"url(#clip8302)\" cx=\"1007.36\" cy=\"803.686\" r=\"14\" fill=\"#009af9\" fill-rule=\"evenodd\" fill-opacity=\"1\" stroke=\"#000000\" stroke-opacity=\"1\" stroke-width=\"2.4\"/>\n",
       "<circle clip-path=\"url(#clip8302)\" cx=\"1053.31\" cy=\"597.779\" r=\"14\" fill=\"#009af9\" fill-rule=\"evenodd\" fill-opacity=\"1\" stroke=\"#000000\" stroke-opacity=\"1\" stroke-width=\"2.4\"/>\n",
       "<circle clip-path=\"url(#clip8302)\" cx=\"1099.26\" cy=\"499.912\" r=\"14\" fill=\"#009af9\" fill-rule=\"evenodd\" fill-opacity=\"1\" stroke=\"#000000\" stroke-opacity=\"1\" stroke-width=\"2.4\"/>\n",
       "<circle clip-path=\"url(#clip8302)\" cx=\"1145.2\" cy=\"394.1\" r=\"14\" fill=\"#009af9\" fill-rule=\"evenodd\" fill-opacity=\"1\" stroke=\"#000000\" stroke-opacity=\"1\" stroke-width=\"2.4\"/>\n",
       "<circle clip-path=\"url(#clip8302)\" cx=\"1191.15\" cy=\"455.279\" r=\"14\" fill=\"#009af9\" fill-rule=\"evenodd\" fill-opacity=\"1\" stroke=\"#000000\" stroke-opacity=\"1\" stroke-width=\"2.4\"/>\n",
       "<circle clip-path=\"url(#clip8302)\" cx=\"1237.1\" cy=\"304.656\" r=\"14\" fill=\"#009af9\" fill-rule=\"evenodd\" fill-opacity=\"1\" stroke=\"#000000\" stroke-opacity=\"1\" stroke-width=\"2.4\"/>\n",
       "<circle clip-path=\"url(#clip8302)\" cx=\"1283.04\" cy=\"271.624\" r=\"14\" fill=\"#009af9\" fill-rule=\"evenodd\" fill-opacity=\"1\" stroke=\"#000000\" stroke-opacity=\"1\" stroke-width=\"2.4\"/>\n",
       "<circle clip-path=\"url(#clip8302)\" cx=\"1328.99\" cy=\"214.406\" r=\"14\" fill=\"#009af9\" fill-rule=\"evenodd\" fill-opacity=\"1\" stroke=\"#000000\" stroke-opacity=\"1\" stroke-width=\"2.4\"/>\n",
       "<circle clip-path=\"url(#clip8302)\" cx=\"1374.94\" cy=\"156.494\" r=\"14\" fill=\"#009af9\" fill-rule=\"evenodd\" fill-opacity=\"1\" stroke=\"#000000\" stroke-opacity=\"1\" stroke-width=\"2.4\"/>\n",
       "<circle clip-path=\"url(#clip8302)\" cx=\"1420.89\" cy=\"153.367\" r=\"14\" fill=\"#009af9\" fill-rule=\"evenodd\" fill-opacity=\"1\" stroke=\"#000000\" stroke-opacity=\"1\" stroke-width=\"2.4\"/>\n",
       "<circle clip-path=\"url(#clip8302)\" cx=\"1466.83\" cy=\"119.313\" r=\"14\" fill=\"#009af9\" fill-rule=\"evenodd\" fill-opacity=\"1\" stroke=\"#000000\" stroke-opacity=\"1\" stroke-width=\"2.4\"/>\n",
       "<circle clip-path=\"url(#clip8302)\" cx=\"1512.78\" cy=\"76.6465\" r=\"14\" fill=\"#009af9\" fill-rule=\"evenodd\" fill-opacity=\"1\" stroke=\"#000000\" stroke-opacity=\"1\" stroke-width=\"2.4\"/>\n",
       "</svg>\n"
      ]
     },
     "execution_count": 56,
     "metadata": {},
     "output_type": "execute_result"
    }
   ],
   "source": [
    "using Random\n",
    "Random.seed!(0)\n",
    "# Fake data\n",
    "n = 30\n",
    "x = range(-1, 4, length=n)\n",
    "y = 1 ./ (1 .+ exp.(3.8 .- 1.6x + randn(n) * 0.3) )\n",
    "\n",
    "scatter(x, y, leg=false)"
   ]
  },
  {
   "cell_type": "code",
   "execution_count": 58,
   "metadata": {},
   "outputs": [
    {
     "data": {
      "image/svg+xml": [
       "<?xml version=\"1.0\" encoding=\"utf-8\"?>\n",
       "<svg xmlns=\"http://www.w3.org/2000/svg\" xmlns:xlink=\"http://www.w3.org/1999/xlink\" width=\"400\" height=\"300\" viewBox=\"0 0 1600 1200\">\n",
       "<defs>\n",
       "  <clipPath id=\"clip9100\">\n",
       "    <rect x=\"0\" y=\"0\" width=\"1600\" height=\"1200\"/>\n",
       "  </clipPath>\n",
       "</defs>\n",
       "<path clip-path=\"url(#clip9100)\" d=\"\n",
       "M0 1200 L1600 1200 L1600 0 L0 0  Z\n",
       "  \" fill=\"#ffffff\" fill-rule=\"evenodd\" fill-opacity=\"1\"/>\n",
       "<defs>\n",
       "  <clipPath id=\"clip9101\">\n",
       "    <rect x=\"320\" y=\"0\" width=\"1121\" height=\"1121\"/>\n",
       "  </clipPath>\n",
       "</defs>\n",
       "<path clip-path=\"url(#clip9100)\" d=\"\n",
       "M140.334 1086.13 L1552.76 1086.13 L1552.76 47.2441 L140.334 47.2441  Z\n",
       "  \" fill=\"#ffffff\" fill-rule=\"evenodd\" fill-opacity=\"1\"/>\n",
       "<defs>\n",
       "  <clipPath id=\"clip9102\">\n",
       "    <rect x=\"140\" y=\"47\" width=\"1413\" height=\"1040\"/>\n",
       "  </clipPath>\n",
       "</defs>\n",
       "<polyline clip-path=\"url(#clip9102)\" style=\"stroke:#000000; stroke-width:2; stroke-opacity:0.1; fill:none\" points=\"\n",
       "  180.309,1086.13 180.309,47.2441 \n",
       "  \"/>\n",
       "<polyline clip-path=\"url(#clip9102)\" style=\"stroke:#000000; stroke-width:2; stroke-opacity:0.1; fill:none\" points=\"\n",
       "  446.803,1086.13 446.803,47.2441 \n",
       "  \"/>\n",
       "<polyline clip-path=\"url(#clip9102)\" style=\"stroke:#000000; stroke-width:2; stroke-opacity:0.1; fill:none\" points=\"\n",
       "  713.298,1086.13 713.298,47.2441 \n",
       "  \"/>\n",
       "<polyline clip-path=\"url(#clip9102)\" style=\"stroke:#000000; stroke-width:2; stroke-opacity:0.1; fill:none\" points=\"\n",
       "  979.792,1086.13 979.792,47.2441 \n",
       "  \"/>\n",
       "<polyline clip-path=\"url(#clip9102)\" style=\"stroke:#000000; stroke-width:2; stroke-opacity:0.1; fill:none\" points=\"\n",
       "  1246.29,1086.13 1246.29,47.2441 \n",
       "  \"/>\n",
       "<polyline clip-path=\"url(#clip9102)\" style=\"stroke:#000000; stroke-width:2; stroke-opacity:0.1; fill:none\" points=\"\n",
       "  1512.78,1086.13 1512.78,47.2441 \n",
       "  \"/>\n",
       "<polyline clip-path=\"url(#clip9102)\" style=\"stroke:#000000; stroke-width:2; stroke-opacity:0.1; fill:none\" points=\"\n",
       "  140.334,1060.55 1552.76,1060.55 \n",
       "  \"/>\n",
       "<polyline clip-path=\"url(#clip9102)\" style=\"stroke:#000000; stroke-width:2; stroke-opacity:0.1; fill:none\" points=\"\n",
       "  140.334,852.143 1552.76,852.143 \n",
       "  \"/>\n",
       "<polyline clip-path=\"url(#clip9102)\" style=\"stroke:#000000; stroke-width:2; stroke-opacity:0.1; fill:none\" points=\"\n",
       "  140.334,643.736 1552.76,643.736 \n",
       "  \"/>\n",
       "<polyline clip-path=\"url(#clip9102)\" style=\"stroke:#000000; stroke-width:2; stroke-opacity:0.1; fill:none\" points=\"\n",
       "  140.334,435.329 1552.76,435.329 \n",
       "  \"/>\n",
       "<polyline clip-path=\"url(#clip9102)\" style=\"stroke:#000000; stroke-width:2; stroke-opacity:0.1; fill:none\" points=\"\n",
       "  140.334,226.921 1552.76,226.921 \n",
       "  \"/>\n",
       "<polyline clip-path=\"url(#clip9100)\" style=\"stroke:#000000; stroke-width:4; stroke-opacity:1; fill:none\" points=\"\n",
       "  140.334,1086.13 1552.76,1086.13 \n",
       "  \"/>\n",
       "<polyline clip-path=\"url(#clip9100)\" style=\"stroke:#000000; stroke-width:4; stroke-opacity:1; fill:none\" points=\"\n",
       "  140.334,1086.13 140.334,47.2441 \n",
       "  \"/>\n",
       "<polyline clip-path=\"url(#clip9100)\" style=\"stroke:#000000; stroke-width:4; stroke-opacity:1; fill:none\" points=\"\n",
       "  180.309,1086.13 180.309,1073.66 \n",
       "  \"/>\n",
       "<polyline clip-path=\"url(#clip9100)\" style=\"stroke:#000000; stroke-width:4; stroke-opacity:1; fill:none\" points=\"\n",
       "  446.803,1086.13 446.803,1073.66 \n",
       "  \"/>\n",
       "<polyline clip-path=\"url(#clip9100)\" style=\"stroke:#000000; stroke-width:4; stroke-opacity:1; fill:none\" points=\"\n",
       "  713.298,1086.13 713.298,1073.66 \n",
       "  \"/>\n",
       "<polyline clip-path=\"url(#clip9100)\" style=\"stroke:#000000; stroke-width:4; stroke-opacity:1; fill:none\" points=\"\n",
       "  979.792,1086.13 979.792,1073.66 \n",
       "  \"/>\n",
       "<polyline clip-path=\"url(#clip9100)\" style=\"stroke:#000000; stroke-width:4; stroke-opacity:1; fill:none\" points=\"\n",
       "  1246.29,1086.13 1246.29,1073.66 \n",
       "  \"/>\n",
       "<polyline clip-path=\"url(#clip9100)\" style=\"stroke:#000000; stroke-width:4; stroke-opacity:1; fill:none\" points=\"\n",
       "  1512.78,1086.13 1512.78,1073.66 \n",
       "  \"/>\n",
       "<polyline clip-path=\"url(#clip9100)\" style=\"stroke:#000000; stroke-width:4; stroke-opacity:1; fill:none\" points=\"\n",
       "  140.334,1060.55 157.283,1060.55 \n",
       "  \"/>\n",
       "<polyline clip-path=\"url(#clip9100)\" style=\"stroke:#000000; stroke-width:4; stroke-opacity:1; fill:none\" points=\"\n",
       "  140.334,852.143 157.283,852.143 \n",
       "  \"/>\n",
       "<polyline clip-path=\"url(#clip9100)\" style=\"stroke:#000000; stroke-width:4; stroke-opacity:1; fill:none\" points=\"\n",
       "  140.334,643.736 157.283,643.736 \n",
       "  \"/>\n",
       "<polyline clip-path=\"url(#clip9100)\" style=\"stroke:#000000; stroke-width:4; stroke-opacity:1; fill:none\" points=\"\n",
       "  140.334,435.329 157.283,435.329 \n",
       "  \"/>\n",
       "<polyline clip-path=\"url(#clip9100)\" style=\"stroke:#000000; stroke-width:4; stroke-opacity:1; fill:none\" points=\"\n",
       "  140.334,226.921 157.283,226.921 \n",
       "  \"/>\n",
       "<path clip-path=\"url(#clip9100)\" d=\"M 0 0 M161.177 1120.72 L173.654 1120.72 L173.654 1124.51 L161.177 1124.51 L161.177 1120.72 Z\" fill=\"#000000\" fill-rule=\"evenodd\" fill-opacity=\"1\" /><path clip-path=\"url(#clip9100)\" d=\"M 0 0 M179.533 1131.66 L187.172 1131.66 L187.172 1105.3 L178.862 1106.97 L178.862 1102.71 L187.126 1101.04 L191.802 1101.04 L191.802 1131.66 L199.44 1131.66 L199.44 1135.6 L179.533 1135.6 L179.533 1131.66 Z\" fill=\"#000000\" fill-rule=\"evenodd\" fill-opacity=\"1\" /><path clip-path=\"url(#clip9100)\" d=\"M 0 0 M446.803 1104.12 Q443.192 1104.12 441.363 1107.68 Q439.558 1111.23 439.558 1118.35 Q439.558 1125.46 441.363 1129.03 Q443.192 1132.57 446.803 1132.57 Q450.437 1132.57 452.243 1129.03 Q454.072 1125.46 454.072 1118.35 Q454.072 1111.23 452.243 1107.68 Q450.437 1104.12 446.803 1104.12 M446.803 1100.41 Q452.613 1100.41 455.669 1105.02 Q458.748 1109.6 458.748 1118.35 Q458.748 1127.08 455.669 1131.69 Q452.613 1136.27 446.803 1136.27 Q440.993 1136.27 437.914 1131.69 Q434.859 1127.08 434.859 1118.35 Q434.859 1109.6 437.914 1105.02 Q440.993 1100.41 446.803 1100.41 Z\" fill=\"#000000\" fill-rule=\"evenodd\" fill-opacity=\"1\" /><path clip-path=\"url(#clip9100)\" d=\"M 0 0 M703.68 1131.66 L711.319 1131.66 L711.319 1105.3 L703.009 1106.97 L703.009 1102.71 L711.272 1101.04 L715.948 1101.04 L715.948 1131.66 L723.587 1131.66 L723.587 1135.6 L703.68 1135.6 L703.68 1131.66 Z\" fill=\"#000000\" fill-rule=\"evenodd\" fill-opacity=\"1\" /><path clip-path=\"url(#clip9100)\" d=\"M 0 0 M974.445 1131.66 L990.765 1131.66 L990.765 1135.6 L968.82 1135.6 L968.82 1131.66 Q971.482 1128.91 976.066 1124.28 Q980.672 1119.63 981.853 1118.29 Q984.098 1115.76 984.978 1114.03 Q985.88 1112.27 985.88 1110.58 Q985.88 1107.82 983.936 1106.09 Q982.015 1104.35 978.913 1104.35 Q976.714 1104.35 974.26 1105.11 Q971.83 1105.88 969.052 1107.43 L969.052 1102.71 Q971.876 1101.57 974.33 1100.99 Q976.783 1100.41 978.82 1100.41 Q984.191 1100.41 987.385 1103.1 Q990.579 1105.79 990.579 1110.28 Q990.579 1112.41 989.769 1114.33 Q988.982 1116.22 986.876 1118.82 Q986.297 1119.49 983.195 1122.71 Q980.093 1125.9 974.445 1131.66 Z\" fill=\"#000000\" fill-rule=\"evenodd\" fill-opacity=\"1\" /><path clip-path=\"url(#clip9100)\" d=\"M 0 0 M1250.53 1116.97 Q1253.89 1117.68 1255.77 1119.95 Q1257.66 1122.22 1257.66 1125.55 Q1257.66 1130.67 1254.15 1133.47 Q1250.63 1136.27 1244.15 1136.27 Q1241.97 1136.27 1239.66 1135.83 Q1237.36 1135.41 1234.91 1134.56 L1234.91 1130.04 Q1236.85 1131.18 1239.17 1131.76 Q1241.48 1132.34 1244.01 1132.34 Q1248.41 1132.34 1250.7 1130.6 Q1253.01 1128.86 1253.01 1125.55 Q1253.01 1122.5 1250.86 1120.79 Q1248.73 1119.05 1244.91 1119.05 L1240.88 1119.05 L1240.88 1115.21 L1245.09 1115.21 Q1248.54 1115.21 1250.37 1113.84 Q1252.2 1112.45 1252.2 1109.86 Q1252.2 1107.2 1250.3 1105.79 Q1248.43 1104.35 1244.91 1104.35 Q1242.99 1104.35 1240.79 1104.77 Q1238.59 1105.18 1235.95 1106.06 L1235.95 1101.9 Q1238.61 1101.16 1240.93 1100.79 Q1243.27 1100.41 1245.33 1100.41 Q1250.65 1100.41 1253.75 1102.85 Q1256.85 1105.25 1256.85 1109.37 Q1256.85 1112.24 1255.21 1114.23 Q1253.57 1116.2 1250.53 1116.97 Z\" fill=\"#000000\" fill-rule=\"evenodd\" fill-opacity=\"1\" /><path clip-path=\"url(#clip9100)\" d=\"M 0 0 M1515.79 1105.11 L1503.99 1123.56 L1515.79 1123.56 L1515.79 1105.11 M1514.56 1101.04 L1520.44 1101.04 L1520.44 1123.56 L1525.37 1123.56 L1525.37 1127.45 L1520.44 1127.45 L1520.44 1135.6 L1515.79 1135.6 L1515.79 1127.45 L1500.19 1127.45 L1500.19 1122.94 L1514.56 1101.04 Z\" fill=\"#000000\" fill-rule=\"evenodd\" fill-opacity=\"1\" /><path clip-path=\"url(#clip9100)\" d=\"M 0 0 M75.4226 1046.35 Q71.8115 1046.35 69.9828 1049.91 Q68.1773 1053.46 68.1773 1060.59 Q68.1773 1067.69 69.9828 1071.26 Q71.8115 1074.8 75.4226 1074.8 Q79.0569 1074.8 80.8624 1071.26 Q82.6911 1067.69 82.6911 1060.59 Q82.6911 1053.46 80.8624 1049.91 Q79.0569 1046.35 75.4226 1046.35 M75.4226 1042.65 Q81.2328 1042.65 84.2883 1047.25 Q87.367 1051.84 87.367 1060.59 Q87.367 1069.31 84.2883 1073.92 Q81.2328 1078.5 75.4226 1078.5 Q69.6125 1078.5 66.5338 1073.92 Q63.4782 1069.31 63.4782 1060.59 Q63.4782 1051.84 66.5338 1047.25 Q69.6125 1042.65 75.4226 1042.65 Z\" fill=\"#000000\" fill-rule=\"evenodd\" fill-opacity=\"1\" /><path clip-path=\"url(#clip9100)\" d=\"M 0 0 M92.4364 1071.95 L97.3206 1071.95 L97.3206 1077.83 L92.4364 1077.83 L92.4364 1071.95 Z\" fill=\"#000000\" fill-rule=\"evenodd\" fill-opacity=\"1\" /><path clip-path=\"url(#clip9100)\" d=\"M 0 0 M112.39 1046.35 Q108.779 1046.35 106.95 1049.91 Q105.145 1053.46 105.145 1060.59 Q105.145 1067.69 106.95 1071.26 Q108.779 1074.8 112.39 1074.8 Q116.024 1074.8 117.83 1071.26 Q119.658 1067.69 119.658 1060.59 Q119.658 1053.46 117.83 1049.91 Q116.024 1046.35 112.39 1046.35 M112.39 1042.65 Q118.2 1042.65 121.256 1047.25 Q124.334 1051.84 124.334 1060.59 Q124.334 1069.31 121.256 1073.92 Q118.2 1078.5 112.39 1078.5 Q106.58 1078.5 103.501 1073.92 Q100.446 1069.31 100.446 1060.59 Q100.446 1051.84 103.501 1047.25 Q106.58 1042.65 112.39 1042.65 Z\" fill=\"#000000\" fill-rule=\"evenodd\" fill-opacity=\"1\" /><path clip-path=\"url(#clip9100)\" d=\"M 0 0 M77.0198 837.942 Q73.4087 837.942 71.58 841.507 Q69.7745 845.048 69.7745 852.178 Q69.7745 859.284 71.58 862.849 Q73.4087 866.391 77.0198 866.391 Q80.6541 866.391 82.4596 862.849 Q84.2883 859.284 84.2883 852.178 Q84.2883 845.048 82.4596 841.507 Q80.6541 837.942 77.0198 837.942 M77.0198 834.238 Q82.83 834.238 85.8855 838.845 Q88.9642 843.428 88.9642 852.178 Q88.9642 860.905 85.8855 865.511 Q82.83 870.094 77.0198 870.094 Q71.2097 870.094 68.131 865.511 Q65.0754 860.905 65.0754 852.178 Q65.0754 843.428 68.131 838.845 Q71.2097 834.238 77.0198 834.238 Z\" fill=\"#000000\" fill-rule=\"evenodd\" fill-opacity=\"1\" /><path clip-path=\"url(#clip9100)\" d=\"M 0 0 M94.0336 863.543 L98.9179 863.543 L98.9179 869.423 L94.0336 869.423 L94.0336 863.543 Z\" fill=\"#000000\" fill-rule=\"evenodd\" fill-opacity=\"1\" /><path clip-path=\"url(#clip9100)\" d=\"M 0 0 M108.015 865.488 L124.334 865.488 L124.334 869.423 L102.39 869.423 L102.39 865.488 Q105.052 862.733 109.635 858.104 Q114.242 853.451 115.422 852.108 Q117.668 849.585 118.547 847.849 Q119.45 846.09 119.45 844.4 Q119.45 841.645 117.506 839.909 Q115.584 838.173 112.483 838.173 Q110.284 838.173 107.83 838.937 Q105.399 839.701 102.622 841.252 L102.622 836.53 Q105.446 835.395 107.899 834.817 Q110.353 834.238 112.39 834.238 Q117.76 834.238 120.955 836.923 Q124.149 839.608 124.149 844.099 Q124.149 846.229 123.339 848.15 Q122.552 850.048 120.446 852.641 Q119.867 853.312 116.765 856.53 Q113.663 859.724 108.015 865.488 Z\" fill=\"#000000\" fill-rule=\"evenodd\" fill-opacity=\"1\" /><path clip-path=\"url(#clip9100)\" d=\"M 0 0 M74.9365 629.534 Q71.3254 629.534 69.4967 633.099 Q67.6912 636.641 67.6912 643.771 Q67.6912 650.877 69.4967 654.442 Q71.3254 657.983 74.9365 657.983 Q78.5707 657.983 80.3763 654.442 Q82.205 650.877 82.205 643.771 Q82.205 636.641 80.3763 633.099 Q78.5707 629.534 74.9365 629.534 M74.9365 625.831 Q80.7467 625.831 83.8022 630.437 Q86.8809 635.021 86.8809 643.771 Q86.8809 652.497 83.8022 657.104 Q80.7467 661.687 74.9365 661.687 Q69.1264 661.687 66.0477 657.104 Q62.9921 652.497 62.9921 643.771 Q62.9921 635.021 66.0477 630.437 Q69.1264 625.831 74.9365 625.831 Z\" fill=\"#000000\" fill-rule=\"evenodd\" fill-opacity=\"1\" /><path clip-path=\"url(#clip9100)\" d=\"M 0 0 M91.9503 655.136 L96.8345 655.136 L96.8345 661.016 L91.9503 661.016 L91.9503 655.136 Z\" fill=\"#000000\" fill-rule=\"evenodd\" fill-opacity=\"1\" /><path clip-path=\"url(#clip9100)\" d=\"M 0 0 M114.751 630.53 L102.946 648.979 L114.751 648.979 L114.751 630.53 M113.524 626.456 L119.404 626.456 L119.404 648.979 L124.334 648.979 L124.334 652.868 L119.404 652.868 L119.404 661.016 L114.751 661.016 L114.751 652.868 L99.1493 652.868 L99.1493 648.354 L113.524 626.456 Z\" fill=\"#000000\" fill-rule=\"evenodd\" fill-opacity=\"1\" /><path clip-path=\"url(#clip9100)\" d=\"M 0 0 M75.2606 421.127 Q71.6495 421.127 69.8208 424.692 Q68.0152 428.234 68.0152 435.363 Q68.0152 442.47 69.8208 446.034 Q71.6495 449.576 75.2606 449.576 Q78.8948 449.576 80.7004 446.034 Q82.5291 442.47 82.5291 435.363 Q82.5291 428.234 80.7004 424.692 Q78.8948 421.127 75.2606 421.127 M75.2606 417.424 Q81.0707 417.424 84.1263 422.03 Q87.205 426.613 87.205 435.363 Q87.205 444.09 84.1263 448.697 Q81.0707 453.28 75.2606 453.28 Q69.4504 453.28 66.3717 448.697 Q63.3162 444.09 63.3162 435.363 Q63.3162 426.613 66.3717 422.03 Q69.4504 417.424 75.2606 417.424 Z\" fill=\"#000000\" fill-rule=\"evenodd\" fill-opacity=\"1\" /><path clip-path=\"url(#clip9100)\" d=\"M 0 0 M92.2744 446.729 L97.1586 446.729 L97.1586 452.609 L92.2744 452.609 L92.2744 446.729 Z\" fill=\"#000000\" fill-rule=\"evenodd\" fill-opacity=\"1\" /><path clip-path=\"url(#clip9100)\" d=\"M 0 0 M112.807 433.465 Q109.659 433.465 107.807 435.618 Q105.978 437.771 105.978 441.521 Q105.978 445.247 107.807 447.423 Q109.659 449.576 112.807 449.576 Q115.955 449.576 117.783 447.423 Q119.635 445.247 119.635 441.521 Q119.635 437.771 117.783 435.618 Q115.955 433.465 112.807 433.465 M122.089 418.812 L122.089 423.072 Q120.33 422.238 118.524 421.798 Q116.742 421.359 114.983 421.359 Q110.353 421.359 107.899 424.484 Q105.469 427.609 105.122 433.928 Q106.487 431.914 108.547 430.849 Q110.608 429.761 113.084 429.761 Q118.293 429.761 121.302 432.933 Q124.334 436.081 124.334 441.521 Q124.334 446.845 121.186 450.062 Q118.038 453.28 112.807 453.28 Q106.811 453.28 103.64 448.697 Q100.469 444.09 100.469 435.363 Q100.469 427.169 104.358 422.308 Q108.247 417.424 114.797 417.424 Q116.557 417.424 118.339 417.771 Q120.145 418.118 122.089 418.812 Z\" fill=\"#000000\" fill-rule=\"evenodd\" fill-opacity=\"1\" /><path clip-path=\"url(#clip9100)\" d=\"M 0 0 M75.5152 212.72 Q71.9041 212.72 70.0754 216.285 Q68.2699 219.826 68.2699 226.956 Q68.2699 234.062 70.0754 237.627 Q71.9041 241.169 75.5152 241.169 Q79.1494 241.169 80.955 237.627 Q82.7837 234.062 82.7837 226.956 Q82.7837 219.826 80.955 216.285 Q79.1494 212.72 75.5152 212.72 M75.5152 209.016 Q81.3254 209.016 84.3809 213.623 Q87.4596 218.206 87.4596 226.956 Q87.4596 235.683 84.3809 240.289 Q81.3254 244.873 75.5152 244.873 Q69.7051 244.873 66.6264 240.289 Q63.5708 235.683 63.5708 226.956 Q63.5708 218.206 66.6264 213.623 Q69.7051 209.016 75.5152 209.016 Z\" fill=\"#000000\" fill-rule=\"evenodd\" fill-opacity=\"1\" /><path clip-path=\"url(#clip9100)\" d=\"M 0 0 M92.529 238.322 L97.4132 238.322 L97.4132 244.201 L92.529 244.201 L92.529 238.322 Z\" fill=\"#000000\" fill-rule=\"evenodd\" fill-opacity=\"1\" /><path clip-path=\"url(#clip9100)\" d=\"M 0 0 M112.483 227.789 Q109.149 227.789 107.228 229.572 Q105.33 231.354 105.33 234.479 Q105.33 237.604 107.228 239.386 Q109.149 241.169 112.483 241.169 Q115.816 241.169 117.737 239.386 Q119.658 237.581 119.658 234.479 Q119.658 231.354 117.737 229.572 Q115.839 227.789 112.483 227.789 M107.807 225.799 Q104.797 225.058 103.108 222.998 Q101.441 220.937 101.441 217.975 Q101.441 213.831 104.381 211.424 Q107.344 209.016 112.483 209.016 Q117.645 209.016 120.584 211.424 Q123.524 213.831 123.524 217.975 Q123.524 220.937 121.834 222.998 Q120.168 225.058 117.182 225.799 Q120.561 226.586 122.436 228.877 Q124.334 231.169 124.334 234.479 Q124.334 239.502 121.256 242.187 Q118.2 244.873 112.483 244.873 Q106.765 244.873 103.686 242.187 Q100.631 239.502 100.631 234.479 Q100.631 231.169 102.529 228.877 Q104.427 226.586 107.807 225.799 M106.094 218.414 Q106.094 221.1 107.76 222.604 Q109.45 224.109 112.483 224.109 Q115.492 224.109 117.182 222.604 Q118.895 221.1 118.895 218.414 Q118.895 215.729 117.182 214.225 Q115.492 212.72 112.483 212.72 Q109.45 212.72 107.76 214.225 Q106.094 215.729 106.094 218.414 Z\" fill=\"#000000\" fill-rule=\"evenodd\" fill-opacity=\"1\" /><circle clip-path=\"url(#clip9102)\" cx=\"180.309\" cy=\"1056.73\" r=\"14\" fill=\"#009af9\" fill-rule=\"evenodd\" fill-opacity=\"1\" stroke=\"#000000\" stroke-opacity=\"1\" stroke-width=\"2.4\"/>\n",
       "<circle clip-path=\"url(#clip9102)\" cx=\"226.256\" cy=\"1055.74\" r=\"14\" fill=\"#009af9\" fill-rule=\"evenodd\" fill-opacity=\"1\" stroke=\"#000000\" stroke-opacity=\"1\" stroke-width=\"2.4\"/>\n",
       "<circle clip-path=\"url(#clip9102)\" cx=\"272.203\" cy=\"1051.54\" r=\"14\" fill=\"#009af9\" fill-rule=\"evenodd\" fill-opacity=\"1\" stroke=\"#000000\" stroke-opacity=\"1\" stroke-width=\"2.4\"/>\n",
       "<circle clip-path=\"url(#clip9102)\" cx=\"318.151\" cy=\"1049.46\" r=\"14\" fill=\"#009af9\" fill-rule=\"evenodd\" fill-opacity=\"1\" stroke=\"#000000\" stroke-opacity=\"1\" stroke-width=\"2.4\"/>\n",
       "<circle clip-path=\"url(#clip9102)\" cx=\"364.098\" cy=\"1048.79\" r=\"14\" fill=\"#009af9\" fill-rule=\"evenodd\" fill-opacity=\"1\" stroke=\"#000000\" stroke-opacity=\"1\" stroke-width=\"2.4\"/>\n",
       "<circle clip-path=\"url(#clip9102)\" cx=\"410.045\" cy=\"1043.73\" r=\"14\" fill=\"#009af9\" fill-rule=\"evenodd\" fill-opacity=\"1\" stroke=\"#000000\" stroke-opacity=\"1\" stroke-width=\"2.4\"/>\n",
       "<circle clip-path=\"url(#clip9102)\" cx=\"455.993\" cy=\"1036.94\" r=\"14\" fill=\"#009af9\" fill-rule=\"evenodd\" fill-opacity=\"1\" stroke=\"#000000\" stroke-opacity=\"1\" stroke-width=\"2.4\"/>\n",
       "<circle clip-path=\"url(#clip9102)\" cx=\"501.94\" cy=\"1028.06\" r=\"14\" fill=\"#009af9\" fill-rule=\"evenodd\" fill-opacity=\"1\" stroke=\"#000000\" stroke-opacity=\"1\" stroke-width=\"2.4\"/>\n",
       "<circle clip-path=\"url(#clip9102)\" cx=\"547.887\" cy=\"1012.93\" r=\"14\" fill=\"#009af9\" fill-rule=\"evenodd\" fill-opacity=\"1\" stroke=\"#000000\" stroke-opacity=\"1\" stroke-width=\"2.4\"/>\n",
       "<circle clip-path=\"url(#clip9102)\" cx=\"593.835\" cy=\"1026.56\" r=\"14\" fill=\"#009af9\" fill-rule=\"evenodd\" fill-opacity=\"1\" stroke=\"#000000\" stroke-opacity=\"1\" stroke-width=\"2.4\"/>\n",
       "<circle clip-path=\"url(#clip9102)\" cx=\"639.782\" cy=\"976.6\" r=\"14\" fill=\"#009af9\" fill-rule=\"evenodd\" fill-opacity=\"1\" stroke=\"#000000\" stroke-opacity=\"1\" stroke-width=\"2.4\"/>\n",
       "<circle clip-path=\"url(#clip9102)\" cx=\"685.729\" cy=\"950.529\" r=\"14\" fill=\"#009af9\" fill-rule=\"evenodd\" fill-opacity=\"1\" stroke=\"#000000\" stroke-opacity=\"1\" stroke-width=\"2.4\"/>\n",
       "<circle clip-path=\"url(#clip9102)\" cx=\"731.677\" cy=\"957.437\" r=\"14\" fill=\"#009af9\" fill-rule=\"evenodd\" fill-opacity=\"1\" stroke=\"#000000\" stroke-opacity=\"1\" stroke-width=\"2.4\"/>\n",
       "<circle clip-path=\"url(#clip9102)\" cx=\"777.624\" cy=\"942.468\" r=\"14\" fill=\"#009af9\" fill-rule=\"evenodd\" fill-opacity=\"1\" stroke=\"#000000\" stroke-opacity=\"1\" stroke-width=\"2.4\"/>\n",
       "<circle clip-path=\"url(#clip9102)\" cx=\"823.571\" cy=\"859.987\" r=\"14\" fill=\"#009af9\" fill-rule=\"evenodd\" fill-opacity=\"1\" stroke=\"#000000\" stroke-opacity=\"1\" stroke-width=\"2.4\"/>\n",
       "<circle clip-path=\"url(#clip9102)\" cx=\"869.519\" cy=\"820.418\" r=\"14\" fill=\"#009af9\" fill-rule=\"evenodd\" fill-opacity=\"1\" stroke=\"#000000\" stroke-opacity=\"1\" stroke-width=\"2.4\"/>\n",
       "<circle clip-path=\"url(#clip9102)\" cx=\"915.466\" cy=\"668.126\" r=\"14\" fill=\"#009af9\" fill-rule=\"evenodd\" fill-opacity=\"1\" stroke=\"#000000\" stroke-opacity=\"1\" stroke-width=\"2.4\"/>\n",
       "<circle clip-path=\"url(#clip9102)\" cx=\"961.414\" cy=\"530.704\" r=\"14\" fill=\"#009af9\" fill-rule=\"evenodd\" fill-opacity=\"1\" stroke=\"#000000\" stroke-opacity=\"1\" stroke-width=\"2.4\"/>\n",
       "<circle clip-path=\"url(#clip9102)\" cx=\"1007.36\" cy=\"803.686\" r=\"14\" fill=\"#009af9\" fill-rule=\"evenodd\" fill-opacity=\"1\" stroke=\"#000000\" stroke-opacity=\"1\" stroke-width=\"2.4\"/>\n",
       "<circle clip-path=\"url(#clip9102)\" cx=\"1053.31\" cy=\"597.779\" r=\"14\" fill=\"#009af9\" fill-rule=\"evenodd\" fill-opacity=\"1\" stroke=\"#000000\" stroke-opacity=\"1\" stroke-width=\"2.4\"/>\n",
       "<circle clip-path=\"url(#clip9102)\" cx=\"1099.26\" cy=\"499.912\" r=\"14\" fill=\"#009af9\" fill-rule=\"evenodd\" fill-opacity=\"1\" stroke=\"#000000\" stroke-opacity=\"1\" stroke-width=\"2.4\"/>\n",
       "<circle clip-path=\"url(#clip9102)\" cx=\"1145.2\" cy=\"394.1\" r=\"14\" fill=\"#009af9\" fill-rule=\"evenodd\" fill-opacity=\"1\" stroke=\"#000000\" stroke-opacity=\"1\" stroke-width=\"2.4\"/>\n",
       "<circle clip-path=\"url(#clip9102)\" cx=\"1191.15\" cy=\"455.279\" r=\"14\" fill=\"#009af9\" fill-rule=\"evenodd\" fill-opacity=\"1\" stroke=\"#000000\" stroke-opacity=\"1\" stroke-width=\"2.4\"/>\n",
       "<circle clip-path=\"url(#clip9102)\" cx=\"1237.1\" cy=\"304.656\" r=\"14\" fill=\"#009af9\" fill-rule=\"evenodd\" fill-opacity=\"1\" stroke=\"#000000\" stroke-opacity=\"1\" stroke-width=\"2.4\"/>\n",
       "<circle clip-path=\"url(#clip9102)\" cx=\"1283.04\" cy=\"271.624\" r=\"14\" fill=\"#009af9\" fill-rule=\"evenodd\" fill-opacity=\"1\" stroke=\"#000000\" stroke-opacity=\"1\" stroke-width=\"2.4\"/>\n",
       "<circle clip-path=\"url(#clip9102)\" cx=\"1328.99\" cy=\"214.406\" r=\"14\" fill=\"#009af9\" fill-rule=\"evenodd\" fill-opacity=\"1\" stroke=\"#000000\" stroke-opacity=\"1\" stroke-width=\"2.4\"/>\n",
       "<circle clip-path=\"url(#clip9102)\" cx=\"1374.94\" cy=\"156.494\" r=\"14\" fill=\"#009af9\" fill-rule=\"evenodd\" fill-opacity=\"1\" stroke=\"#000000\" stroke-opacity=\"1\" stroke-width=\"2.4\"/>\n",
       "<circle clip-path=\"url(#clip9102)\" cx=\"1420.89\" cy=\"153.367\" r=\"14\" fill=\"#009af9\" fill-rule=\"evenodd\" fill-opacity=\"1\" stroke=\"#000000\" stroke-opacity=\"1\" stroke-width=\"2.4\"/>\n",
       "<circle clip-path=\"url(#clip9102)\" cx=\"1466.83\" cy=\"119.313\" r=\"14\" fill=\"#009af9\" fill-rule=\"evenodd\" fill-opacity=\"1\" stroke=\"#000000\" stroke-opacity=\"1\" stroke-width=\"2.4\"/>\n",
       "<circle clip-path=\"url(#clip9102)\" cx=\"1512.78\" cy=\"76.6465\" r=\"14\" fill=\"#009af9\" fill-rule=\"evenodd\" fill-opacity=\"1\" stroke=\"#000000\" stroke-opacity=\"1\" stroke-width=\"2.4\"/>\n",
       "<polyline clip-path=\"url(#clip9102)\" style=\"stroke:#ff0000; stroke-width:8; stroke-opacity:1; fill:none\" points=\"\n",
       "  180.309,1056.31 193.321,1055.99 313.642,1051.61 385.95,1047.17 447.086,1041.78 513.496,1033.49 574.721,1022.76 640.36,1006.74 716.409,980.215 783.992,947.079 \n",
       "  843.257,908.696 875.564,883.556 907.871,855.214 940.371,823.379 972.87,788.214 1044.73,699.487 1113.11,604.22 1184.21,500.38 1244.05,415.007 1280.59,365.877 \n",
       "  1317.12,319.993 1351.46,280.316 1385.81,244.269 1440.83,194.287 1495.85,153.541 1504.31,148.037 1512.78,142.728 \n",
       "  \"/>\n",
       "</svg>\n"
      ]
     },
     "execution_count": 58,
     "metadata": {},
     "output_type": "execute_result"
    }
   ],
   "source": [
    "h(β, x) = 1 / (1 + exp(-β[1] - β[2] * x))\n",
    "scatter(x, y, leg=false)\n",
    "plot!(x -> h([-4; 1.5], x), extrema(x)..., lw=2, c=:red)"
   ]
  },
  {
   "cell_type": "code",
   "execution_count": 60,
   "metadata": {},
   "outputs": [
    {
     "data": {
      "text/plain": [
       "MathOptNLSModel(Minimization problem logistic\n",
       "nvar = 2, ncon = 0 (0 linear)\n",
       ", NLSMeta(30, 2, [0.0, 0.0], 60, 90), \"A JuMP.NLPEvaluator\", \"A JuMP.NLPEvaluator\", NLPModelsJuMP.LinearConstraints(Int64[], Int64[], Float64[]), NLSCounters(Counters(0, 0, 0, 0, 0, 0, 0, 0, 0, 0, 0), 0, 0, 0, 0, 0, 0, 0))"
      ]
     },
     "execution_count": 60,
     "metadata": {},
     "output_type": "execute_result"
    }
   ],
   "source": [
    "model = Model()\n",
    "\n",
    "@variable(model, β[1:2])\n",
    "\n",
    "@NLexpression(model, res[i=1:n], 1 / (1 + exp(-β[1] - β[2] * x[i])) - y[i])\n",
    "\n",
    "nls = MathOptNLSModel(model, res, name=\"logistic\")"
   ]
  },
  {
   "cell_type": "code",
   "execution_count": 61,
   "metadata": {},
   "outputs": [
    {
     "data": {
      "text/plain": [
       "2-element Array{Float64,1}:\n",
       " 0.0\n",
       " 0.0"
      ]
     },
     "execution_count": 61,
     "metadata": {},
     "output_type": "execute_result"
    }
   ],
   "source": [
    "nls.meta.x0"
   ]
  },
  {
   "cell_type": "code",
   "execution_count": 62,
   "metadata": {},
   "outputs": [
    {
     "data": {
      "text/plain": [
       "30-element Array{Float64,1}:\n",
       "  0.4963294345174588\n",
       "  0.4953796877738974\n",
       "  0.4913574170529111\n",
       "  0.48935494433170035\n",
       "  0.48871059340224865\n",
       "  0.4838553539972141\n",
       "  0.47734173867560514\n",
       "  0.46881874119265154\n",
       "  0.4542982791245073\n",
       "  0.46737604426140994\n",
       "  0.4194358987438368\n",
       "  0.39441712848326976\n",
       "  0.40104588232186816\n",
       "  ⋮\n",
       "  0.253497322371081\n",
       "  0.055897548591342716\n",
       " -0.038022113815881164\n",
       " -0.1395656694590015\n",
       " -0.08085459869373701\n",
       " -0.22540094580638714\n",
       " -0.25710078533209557\n",
       " -0.3120102038300201\n",
       " -0.36758572236159626\n",
       " -0.37058730524905104\n",
       " -0.40326736413151465\n",
       " -0.4442125896063588"
      ]
     },
     "execution_count": 62,
     "metadata": {},
     "output_type": "execute_result"
    }
   ],
   "source": [
    "residual(nls, nls.meta.x0)"
   ]
  },
  {
   "cell_type": "code",
   "execution_count": 63,
   "metadata": {},
   "outputs": [
    {
     "data": {
      "text/plain": [
       "30-element Array{Float64,1}:\n",
       "  0.0003995722333549243\n",
       "  0.0006447711211317536\n",
       " -0.0018341299902898019\n",
       " -0.0018448229665715427\n",
       "  7.862191708041602e-5\n",
       " -0.0014706636587463531\n",
       " -0.003735317532772491\n",
       " -0.006809466592563308\n",
       " -0.014362208010174723\n",
       "  0.007593184468268878\n",
       " -0.029088183817069763\n",
       " -0.03991194618580937\n",
       " -0.015518094684008263\n",
       "  ⋮\n",
       "  0.05401633610626183\n",
       " -0.08659681055060503\n",
       " -0.11919406196889426\n",
       " -0.1568002183361965\n",
       " -0.03358241548152474\n",
       " -0.11517171920871894\n",
       " -0.08738573643098224\n",
       " -0.0877851160220553\n",
       " -0.0947947938413708\n",
       " -0.05559841272002153\n",
       " -0.0524051853492401\n",
       " -0.06341551162847647"
      ]
     },
     "execution_count": 63,
     "metadata": {},
     "output_type": "execute_result"
    }
   ],
   "source": [
    "residual(nls, [-4.0; 1.5])"
   ]
  },
  {
   "cell_type": "code",
   "execution_count": null,
   "metadata": {},
   "outputs": [],
   "source": [
    "using JSOSolvers"
   ]
  },
  {
   "cell_type": "code",
   "execution_count": 65,
   "metadata": {},
   "outputs": [
    {
     "name": "stderr",
     "output_type": "stream",
     "text": [
      "┌ Info:   iter      f(x)      ‖∇f‖         Δ      step     ratio   inner      bk         cgstatus  \n",
      "└ @ JSOSolvers /home/abel/.julia/packages/JSOSolvers/acVNi/src/trunkls.jl:76\n",
      "┌ Info:      0   2.0e+00   2.1e+00   1.0e+00   1.0e+00   9.6e-01       3       0  on trust-region boundary\n",
      "└ @ JSOSolvers /home/abel/.julia/packages/JSOSolvers/acVNi/src/trunkls.jl:170\n",
      "┌ Info:      1   7.2e-01   8.3e-01   1.5e+00   1.5e+00   9.7e-01       3       0  on trust-region boundary\n",
      "└ @ JSOSolvers /home/abel/.julia/packages/JSOSolvers/acVNi/src/trunkls.jl:170\n",
      "┌ Info:      2   1.1e-01   1.4e-01   2.3e+00   1.1e+00   9.7e-01       3       0  found approximate minimum least-squares solution\n",
      "└ @ JSOSolvers /home/abel/.julia/packages/JSOSolvers/acVNi/src/trunkls.jl:170\n",
      "┌ Info:      3   3.9e-02   1.8e-02   2.3e+00   3.0e-01   9.6e-01       3       0  found approximate minimum least-squares solution\n",
      "└ @ JSOSolvers /home/abel/.julia/packages/JSOSolvers/acVNi/src/trunkls.jl:170\n",
      "┌ Info:      4   3.7e-02   1.7e-03   2.3e+00   1.9e-03   1.0e+00       3       0  found approximate minimum least-squares solution\n",
      "└ @ JSOSolvers /home/abel/.julia/packages/JSOSolvers/acVNi/src/trunkls.jl:170\n",
      "┌ Info:      5   3.7e-02   1.4e-05   2.3e+00   4.7e-05   9.5e-01       3       0  found approximate minimum least-squares solution\n",
      "└ @ JSOSolvers /home/abel/.julia/packages/JSOSolvers/acVNi/src/trunkls.jl:170\n",
      "┌ Info:      6   3.7e-02   2.8e-07   2.3e+00   2.8e-06   9.4e-01       3       0  found approximate minimum least-squares solution\n",
      "└ @ JSOSolvers /home/abel/.julia/packages/JSOSolvers/acVNi/src/trunkls.jl:170\n",
      "┌ Info:      7   3.7e-02   1.7e-08   2.3e+00\n",
      "└ @ JSOSolvers /home/abel/.julia/packages/JSOSolvers/acVNi/src/trunkls.jl:215\n"
     ]
    },
    {
     "data": {
      "text/plain": [
       "\"Execution stats: first-order stationary\""
      ]
     },
     "execution_count": 65,
     "metadata": {},
     "output_type": "execute_result"
    }
   ],
   "source": [
    "output = trunk(nls)"
   ]
  },
  {
   "cell_type": "code",
   "execution_count": 66,
   "metadata": {},
   "outputs": [
    {
     "name": "stdout",
     "output_type": "stream",
     "text": [
      "Generic Execution stats\n",
      "  status: first-order stationary\n",
      "  objective value: 0.03661044645143596\n",
      "  primal feasibility: 0.0\n",
      "  dual feasibility: 1.745313399504062e-8\n",
      "  solution: [-3.5618463462385628  1.5091729810159678]\n",
      "  iterations: 7\n",
      "  elapsed time: 0.0008931159973144531\n"
     ]
    }
   ],
   "source": [
    "print(output)"
   ]
  },
  {
   "cell_type": "code",
   "execution_count": 67,
   "metadata": {},
   "outputs": [
    {
     "data": {
      "image/svg+xml": [
       "<?xml version=\"1.0\" encoding=\"utf-8\"?>\n",
       "<svg xmlns=\"http://www.w3.org/2000/svg\" xmlns:xlink=\"http://www.w3.org/1999/xlink\" width=\"400\" height=\"300\" viewBox=\"0 0 1600 1200\">\n",
       "<defs>\n",
       "  <clipPath id=\"clip9500\">\n",
       "    <rect x=\"0\" y=\"0\" width=\"1600\" height=\"1200\"/>\n",
       "  </clipPath>\n",
       "</defs>\n",
       "<path clip-path=\"url(#clip9500)\" d=\"\n",
       "M0 1200 L1600 1200 L1600 0 L0 0  Z\n",
       "  \" fill=\"#ffffff\" fill-rule=\"evenodd\" fill-opacity=\"1\"/>\n",
       "<defs>\n",
       "  <clipPath id=\"clip9501\">\n",
       "    <rect x=\"320\" y=\"0\" width=\"1121\" height=\"1121\"/>\n",
       "  </clipPath>\n",
       "</defs>\n",
       "<path clip-path=\"url(#clip9500)\" d=\"\n",
       "M140.334 1086.13 L1552.76 1086.13 L1552.76 47.2441 L140.334 47.2441  Z\n",
       "  \" fill=\"#ffffff\" fill-rule=\"evenodd\" fill-opacity=\"1\"/>\n",
       "<defs>\n",
       "  <clipPath id=\"clip9502\">\n",
       "    <rect x=\"140\" y=\"47\" width=\"1413\" height=\"1040\"/>\n",
       "  </clipPath>\n",
       "</defs>\n",
       "<polyline clip-path=\"url(#clip9502)\" style=\"stroke:#000000; stroke-width:2; stroke-opacity:0.1; fill:none\" points=\"\n",
       "  180.309,1086.13 180.309,47.2441 \n",
       "  \"/>\n",
       "<polyline clip-path=\"url(#clip9502)\" style=\"stroke:#000000; stroke-width:2; stroke-opacity:0.1; fill:none\" points=\"\n",
       "  446.803,1086.13 446.803,47.2441 \n",
       "  \"/>\n",
       "<polyline clip-path=\"url(#clip9502)\" style=\"stroke:#000000; stroke-width:2; stroke-opacity:0.1; fill:none\" points=\"\n",
       "  713.298,1086.13 713.298,47.2441 \n",
       "  \"/>\n",
       "<polyline clip-path=\"url(#clip9502)\" style=\"stroke:#000000; stroke-width:2; stroke-opacity:0.1; fill:none\" points=\"\n",
       "  979.792,1086.13 979.792,47.2441 \n",
       "  \"/>\n",
       "<polyline clip-path=\"url(#clip9502)\" style=\"stroke:#000000; stroke-width:2; stroke-opacity:0.1; fill:none\" points=\"\n",
       "  1246.29,1086.13 1246.29,47.2441 \n",
       "  \"/>\n",
       "<polyline clip-path=\"url(#clip9502)\" style=\"stroke:#000000; stroke-width:2; stroke-opacity:0.1; fill:none\" points=\"\n",
       "  1512.78,1086.13 1512.78,47.2441 \n",
       "  \"/>\n",
       "<polyline clip-path=\"url(#clip9502)\" style=\"stroke:#000000; stroke-width:2; stroke-opacity:0.1; fill:none\" points=\"\n",
       "  140.334,1060.55 1552.76,1060.55 \n",
       "  \"/>\n",
       "<polyline clip-path=\"url(#clip9502)\" style=\"stroke:#000000; stroke-width:2; stroke-opacity:0.1; fill:none\" points=\"\n",
       "  140.334,852.143 1552.76,852.143 \n",
       "  \"/>\n",
       "<polyline clip-path=\"url(#clip9502)\" style=\"stroke:#000000; stroke-width:2; stroke-opacity:0.1; fill:none\" points=\"\n",
       "  140.334,643.736 1552.76,643.736 \n",
       "  \"/>\n",
       "<polyline clip-path=\"url(#clip9502)\" style=\"stroke:#000000; stroke-width:2; stroke-opacity:0.1; fill:none\" points=\"\n",
       "  140.334,435.329 1552.76,435.329 \n",
       "  \"/>\n",
       "<polyline clip-path=\"url(#clip9502)\" style=\"stroke:#000000; stroke-width:2; stroke-opacity:0.1; fill:none\" points=\"\n",
       "  140.334,226.921 1552.76,226.921 \n",
       "  \"/>\n",
       "<polyline clip-path=\"url(#clip9500)\" style=\"stroke:#000000; stroke-width:4; stroke-opacity:1; fill:none\" points=\"\n",
       "  140.334,1086.13 1552.76,1086.13 \n",
       "  \"/>\n",
       "<polyline clip-path=\"url(#clip9500)\" style=\"stroke:#000000; stroke-width:4; stroke-opacity:1; fill:none\" points=\"\n",
       "  140.334,1086.13 140.334,47.2441 \n",
       "  \"/>\n",
       "<polyline clip-path=\"url(#clip9500)\" style=\"stroke:#000000; stroke-width:4; stroke-opacity:1; fill:none\" points=\"\n",
       "  180.309,1086.13 180.309,1073.66 \n",
       "  \"/>\n",
       "<polyline clip-path=\"url(#clip9500)\" style=\"stroke:#000000; stroke-width:4; stroke-opacity:1; fill:none\" points=\"\n",
       "  446.803,1086.13 446.803,1073.66 \n",
       "  \"/>\n",
       "<polyline clip-path=\"url(#clip9500)\" style=\"stroke:#000000; stroke-width:4; stroke-opacity:1; fill:none\" points=\"\n",
       "  713.298,1086.13 713.298,1073.66 \n",
       "  \"/>\n",
       "<polyline clip-path=\"url(#clip9500)\" style=\"stroke:#000000; stroke-width:4; stroke-opacity:1; fill:none\" points=\"\n",
       "  979.792,1086.13 979.792,1073.66 \n",
       "  \"/>\n",
       "<polyline clip-path=\"url(#clip9500)\" style=\"stroke:#000000; stroke-width:4; stroke-opacity:1; fill:none\" points=\"\n",
       "  1246.29,1086.13 1246.29,1073.66 \n",
       "  \"/>\n",
       "<polyline clip-path=\"url(#clip9500)\" style=\"stroke:#000000; stroke-width:4; stroke-opacity:1; fill:none\" points=\"\n",
       "  1512.78,1086.13 1512.78,1073.66 \n",
       "  \"/>\n",
       "<polyline clip-path=\"url(#clip9500)\" style=\"stroke:#000000; stroke-width:4; stroke-opacity:1; fill:none\" points=\"\n",
       "  140.334,1060.55 157.283,1060.55 \n",
       "  \"/>\n",
       "<polyline clip-path=\"url(#clip9500)\" style=\"stroke:#000000; stroke-width:4; stroke-opacity:1; fill:none\" points=\"\n",
       "  140.334,852.143 157.283,852.143 \n",
       "  \"/>\n",
       "<polyline clip-path=\"url(#clip9500)\" style=\"stroke:#000000; stroke-width:4; stroke-opacity:1; fill:none\" points=\"\n",
       "  140.334,643.736 157.283,643.736 \n",
       "  \"/>\n",
       "<polyline clip-path=\"url(#clip9500)\" style=\"stroke:#000000; stroke-width:4; stroke-opacity:1; fill:none\" points=\"\n",
       "  140.334,435.329 157.283,435.329 \n",
       "  \"/>\n",
       "<polyline clip-path=\"url(#clip9500)\" style=\"stroke:#000000; stroke-width:4; stroke-opacity:1; fill:none\" points=\"\n",
       "  140.334,226.921 157.283,226.921 \n",
       "  \"/>\n",
       "<path clip-path=\"url(#clip9500)\" d=\"M 0 0 M161.177 1120.72 L173.654 1120.72 L173.654 1124.51 L161.177 1124.51 L161.177 1120.72 Z\" fill=\"#000000\" fill-rule=\"evenodd\" fill-opacity=\"1\" /><path clip-path=\"url(#clip9500)\" d=\"M 0 0 M179.533 1131.66 L187.172 1131.66 L187.172 1105.3 L178.862 1106.97 L178.862 1102.71 L187.126 1101.04 L191.802 1101.04 L191.802 1131.66 L199.44 1131.66 L199.44 1135.6 L179.533 1135.6 L179.533 1131.66 Z\" fill=\"#000000\" fill-rule=\"evenodd\" fill-opacity=\"1\" /><path clip-path=\"url(#clip9500)\" d=\"M 0 0 M446.803 1104.12 Q443.192 1104.12 441.363 1107.68 Q439.558 1111.23 439.558 1118.35 Q439.558 1125.46 441.363 1129.03 Q443.192 1132.57 446.803 1132.57 Q450.437 1132.57 452.243 1129.03 Q454.072 1125.46 454.072 1118.35 Q454.072 1111.23 452.243 1107.68 Q450.437 1104.12 446.803 1104.12 M446.803 1100.41 Q452.613 1100.41 455.669 1105.02 Q458.748 1109.6 458.748 1118.35 Q458.748 1127.08 455.669 1131.69 Q452.613 1136.27 446.803 1136.27 Q440.993 1136.27 437.914 1131.69 Q434.859 1127.08 434.859 1118.35 Q434.859 1109.6 437.914 1105.02 Q440.993 1100.41 446.803 1100.41 Z\" fill=\"#000000\" fill-rule=\"evenodd\" fill-opacity=\"1\" /><path clip-path=\"url(#clip9500)\" d=\"M 0 0 M703.68 1131.66 L711.319 1131.66 L711.319 1105.3 L703.009 1106.97 L703.009 1102.71 L711.272 1101.04 L715.948 1101.04 L715.948 1131.66 L723.587 1131.66 L723.587 1135.6 L703.68 1135.6 L703.68 1131.66 Z\" fill=\"#000000\" fill-rule=\"evenodd\" fill-opacity=\"1\" /><path clip-path=\"url(#clip9500)\" d=\"M 0 0 M974.445 1131.66 L990.765 1131.66 L990.765 1135.6 L968.82 1135.6 L968.82 1131.66 Q971.482 1128.91 976.066 1124.28 Q980.672 1119.63 981.853 1118.29 Q984.098 1115.76 984.978 1114.03 Q985.88 1112.27 985.88 1110.58 Q985.88 1107.82 983.936 1106.09 Q982.015 1104.35 978.913 1104.35 Q976.714 1104.35 974.26 1105.11 Q971.83 1105.88 969.052 1107.43 L969.052 1102.71 Q971.876 1101.57 974.33 1100.99 Q976.783 1100.41 978.82 1100.41 Q984.191 1100.41 987.385 1103.1 Q990.579 1105.79 990.579 1110.28 Q990.579 1112.41 989.769 1114.33 Q988.982 1116.22 986.876 1118.82 Q986.297 1119.49 983.195 1122.71 Q980.093 1125.9 974.445 1131.66 Z\" fill=\"#000000\" fill-rule=\"evenodd\" fill-opacity=\"1\" /><path clip-path=\"url(#clip9500)\" d=\"M 0 0 M1250.53 1116.97 Q1253.89 1117.68 1255.77 1119.95 Q1257.66 1122.22 1257.66 1125.55 Q1257.66 1130.67 1254.15 1133.47 Q1250.63 1136.27 1244.15 1136.27 Q1241.97 1136.27 1239.66 1135.83 Q1237.36 1135.41 1234.91 1134.56 L1234.91 1130.04 Q1236.85 1131.18 1239.17 1131.76 Q1241.48 1132.34 1244.01 1132.34 Q1248.41 1132.34 1250.7 1130.6 Q1253.01 1128.86 1253.01 1125.55 Q1253.01 1122.5 1250.86 1120.79 Q1248.73 1119.05 1244.91 1119.05 L1240.88 1119.05 L1240.88 1115.21 L1245.09 1115.21 Q1248.54 1115.21 1250.37 1113.84 Q1252.2 1112.45 1252.2 1109.86 Q1252.2 1107.2 1250.3 1105.79 Q1248.43 1104.35 1244.91 1104.35 Q1242.99 1104.35 1240.79 1104.77 Q1238.59 1105.18 1235.95 1106.06 L1235.95 1101.9 Q1238.61 1101.16 1240.93 1100.79 Q1243.27 1100.41 1245.33 1100.41 Q1250.65 1100.41 1253.75 1102.85 Q1256.85 1105.25 1256.85 1109.37 Q1256.85 1112.24 1255.21 1114.23 Q1253.57 1116.2 1250.53 1116.97 Z\" fill=\"#000000\" fill-rule=\"evenodd\" fill-opacity=\"1\" /><path clip-path=\"url(#clip9500)\" d=\"M 0 0 M1515.79 1105.11 L1503.99 1123.56 L1515.79 1123.56 L1515.79 1105.11 M1514.56 1101.04 L1520.44 1101.04 L1520.44 1123.56 L1525.37 1123.56 L1525.37 1127.45 L1520.44 1127.45 L1520.44 1135.6 L1515.79 1135.6 L1515.79 1127.45 L1500.19 1127.45 L1500.19 1122.94 L1514.56 1101.04 Z\" fill=\"#000000\" fill-rule=\"evenodd\" fill-opacity=\"1\" /><path clip-path=\"url(#clip9500)\" d=\"M 0 0 M75.4226 1046.35 Q71.8115 1046.35 69.9828 1049.91 Q68.1773 1053.46 68.1773 1060.59 Q68.1773 1067.69 69.9828 1071.26 Q71.8115 1074.8 75.4226 1074.8 Q79.0569 1074.8 80.8624 1071.26 Q82.6911 1067.69 82.6911 1060.59 Q82.6911 1053.46 80.8624 1049.91 Q79.0569 1046.35 75.4226 1046.35 M75.4226 1042.65 Q81.2328 1042.65 84.2883 1047.25 Q87.367 1051.84 87.367 1060.59 Q87.367 1069.31 84.2883 1073.92 Q81.2328 1078.5 75.4226 1078.5 Q69.6125 1078.5 66.5338 1073.92 Q63.4782 1069.31 63.4782 1060.59 Q63.4782 1051.84 66.5338 1047.25 Q69.6125 1042.65 75.4226 1042.65 Z\" fill=\"#000000\" fill-rule=\"evenodd\" fill-opacity=\"1\" /><path clip-path=\"url(#clip9500)\" d=\"M 0 0 M92.4364 1071.95 L97.3206 1071.95 L97.3206 1077.83 L92.4364 1077.83 L92.4364 1071.95 Z\" fill=\"#000000\" fill-rule=\"evenodd\" fill-opacity=\"1\" /><path clip-path=\"url(#clip9500)\" d=\"M 0 0 M112.39 1046.35 Q108.779 1046.35 106.95 1049.91 Q105.145 1053.46 105.145 1060.59 Q105.145 1067.69 106.95 1071.26 Q108.779 1074.8 112.39 1074.8 Q116.024 1074.8 117.83 1071.26 Q119.658 1067.69 119.658 1060.59 Q119.658 1053.46 117.83 1049.91 Q116.024 1046.35 112.39 1046.35 M112.39 1042.65 Q118.2 1042.65 121.256 1047.25 Q124.334 1051.84 124.334 1060.59 Q124.334 1069.31 121.256 1073.92 Q118.2 1078.5 112.39 1078.5 Q106.58 1078.5 103.501 1073.92 Q100.446 1069.31 100.446 1060.59 Q100.446 1051.84 103.501 1047.25 Q106.58 1042.65 112.39 1042.65 Z\" fill=\"#000000\" fill-rule=\"evenodd\" fill-opacity=\"1\" /><path clip-path=\"url(#clip9500)\" d=\"M 0 0 M77.0198 837.942 Q73.4087 837.942 71.58 841.507 Q69.7745 845.048 69.7745 852.178 Q69.7745 859.284 71.58 862.849 Q73.4087 866.391 77.0198 866.391 Q80.6541 866.391 82.4596 862.849 Q84.2883 859.284 84.2883 852.178 Q84.2883 845.048 82.4596 841.507 Q80.6541 837.942 77.0198 837.942 M77.0198 834.238 Q82.83 834.238 85.8855 838.845 Q88.9642 843.428 88.9642 852.178 Q88.9642 860.905 85.8855 865.511 Q82.83 870.094 77.0198 870.094 Q71.2097 870.094 68.131 865.511 Q65.0754 860.905 65.0754 852.178 Q65.0754 843.428 68.131 838.845 Q71.2097 834.238 77.0198 834.238 Z\" fill=\"#000000\" fill-rule=\"evenodd\" fill-opacity=\"1\" /><path clip-path=\"url(#clip9500)\" d=\"M 0 0 M94.0336 863.543 L98.9179 863.543 L98.9179 869.423 L94.0336 869.423 L94.0336 863.543 Z\" fill=\"#000000\" fill-rule=\"evenodd\" fill-opacity=\"1\" /><path clip-path=\"url(#clip9500)\" d=\"M 0 0 M108.015 865.488 L124.334 865.488 L124.334 869.423 L102.39 869.423 L102.39 865.488 Q105.052 862.733 109.635 858.104 Q114.242 853.451 115.422 852.108 Q117.668 849.585 118.547 847.849 Q119.45 846.09 119.45 844.4 Q119.45 841.645 117.506 839.909 Q115.584 838.173 112.483 838.173 Q110.284 838.173 107.83 838.937 Q105.399 839.701 102.622 841.252 L102.622 836.53 Q105.446 835.395 107.899 834.817 Q110.353 834.238 112.39 834.238 Q117.76 834.238 120.955 836.923 Q124.149 839.608 124.149 844.099 Q124.149 846.229 123.339 848.15 Q122.552 850.048 120.446 852.641 Q119.867 853.312 116.765 856.53 Q113.663 859.724 108.015 865.488 Z\" fill=\"#000000\" fill-rule=\"evenodd\" fill-opacity=\"1\" /><path clip-path=\"url(#clip9500)\" d=\"M 0 0 M74.9365 629.534 Q71.3254 629.534 69.4967 633.099 Q67.6912 636.641 67.6912 643.771 Q67.6912 650.877 69.4967 654.442 Q71.3254 657.983 74.9365 657.983 Q78.5707 657.983 80.3763 654.442 Q82.205 650.877 82.205 643.771 Q82.205 636.641 80.3763 633.099 Q78.5707 629.534 74.9365 629.534 M74.9365 625.831 Q80.7467 625.831 83.8022 630.437 Q86.8809 635.021 86.8809 643.771 Q86.8809 652.497 83.8022 657.104 Q80.7467 661.687 74.9365 661.687 Q69.1264 661.687 66.0477 657.104 Q62.9921 652.497 62.9921 643.771 Q62.9921 635.021 66.0477 630.437 Q69.1264 625.831 74.9365 625.831 Z\" fill=\"#000000\" fill-rule=\"evenodd\" fill-opacity=\"1\" /><path clip-path=\"url(#clip9500)\" d=\"M 0 0 M91.9503 655.136 L96.8345 655.136 L96.8345 661.016 L91.9503 661.016 L91.9503 655.136 Z\" fill=\"#000000\" fill-rule=\"evenodd\" fill-opacity=\"1\" /><path clip-path=\"url(#clip9500)\" d=\"M 0 0 M114.751 630.53 L102.946 648.979 L114.751 648.979 L114.751 630.53 M113.524 626.456 L119.404 626.456 L119.404 648.979 L124.334 648.979 L124.334 652.868 L119.404 652.868 L119.404 661.016 L114.751 661.016 L114.751 652.868 L99.1493 652.868 L99.1493 648.354 L113.524 626.456 Z\" fill=\"#000000\" fill-rule=\"evenodd\" fill-opacity=\"1\" /><path clip-path=\"url(#clip9500)\" d=\"M 0 0 M75.2606 421.127 Q71.6495 421.127 69.8208 424.692 Q68.0152 428.234 68.0152 435.363 Q68.0152 442.47 69.8208 446.034 Q71.6495 449.576 75.2606 449.576 Q78.8948 449.576 80.7004 446.034 Q82.5291 442.47 82.5291 435.363 Q82.5291 428.234 80.7004 424.692 Q78.8948 421.127 75.2606 421.127 M75.2606 417.424 Q81.0707 417.424 84.1263 422.03 Q87.205 426.613 87.205 435.363 Q87.205 444.09 84.1263 448.697 Q81.0707 453.28 75.2606 453.28 Q69.4504 453.28 66.3717 448.697 Q63.3162 444.09 63.3162 435.363 Q63.3162 426.613 66.3717 422.03 Q69.4504 417.424 75.2606 417.424 Z\" fill=\"#000000\" fill-rule=\"evenodd\" fill-opacity=\"1\" /><path clip-path=\"url(#clip9500)\" d=\"M 0 0 M92.2744 446.729 L97.1586 446.729 L97.1586 452.609 L92.2744 452.609 L92.2744 446.729 Z\" fill=\"#000000\" fill-rule=\"evenodd\" fill-opacity=\"1\" /><path clip-path=\"url(#clip9500)\" d=\"M 0 0 M112.807 433.465 Q109.659 433.465 107.807 435.618 Q105.978 437.771 105.978 441.521 Q105.978 445.247 107.807 447.423 Q109.659 449.576 112.807 449.576 Q115.955 449.576 117.783 447.423 Q119.635 445.247 119.635 441.521 Q119.635 437.771 117.783 435.618 Q115.955 433.465 112.807 433.465 M122.089 418.812 L122.089 423.072 Q120.33 422.238 118.524 421.798 Q116.742 421.359 114.983 421.359 Q110.353 421.359 107.899 424.484 Q105.469 427.609 105.122 433.928 Q106.487 431.914 108.547 430.849 Q110.608 429.761 113.084 429.761 Q118.293 429.761 121.302 432.933 Q124.334 436.081 124.334 441.521 Q124.334 446.845 121.186 450.062 Q118.038 453.28 112.807 453.28 Q106.811 453.28 103.64 448.697 Q100.469 444.09 100.469 435.363 Q100.469 427.169 104.358 422.308 Q108.247 417.424 114.797 417.424 Q116.557 417.424 118.339 417.771 Q120.145 418.118 122.089 418.812 Z\" fill=\"#000000\" fill-rule=\"evenodd\" fill-opacity=\"1\" /><path clip-path=\"url(#clip9500)\" d=\"M 0 0 M75.5152 212.72 Q71.9041 212.72 70.0754 216.285 Q68.2699 219.826 68.2699 226.956 Q68.2699 234.062 70.0754 237.627 Q71.9041 241.169 75.5152 241.169 Q79.1494 241.169 80.955 237.627 Q82.7837 234.062 82.7837 226.956 Q82.7837 219.826 80.955 216.285 Q79.1494 212.72 75.5152 212.72 M75.5152 209.016 Q81.3254 209.016 84.3809 213.623 Q87.4596 218.206 87.4596 226.956 Q87.4596 235.683 84.3809 240.289 Q81.3254 244.873 75.5152 244.873 Q69.7051 244.873 66.6264 240.289 Q63.5708 235.683 63.5708 226.956 Q63.5708 218.206 66.6264 213.623 Q69.7051 209.016 75.5152 209.016 Z\" fill=\"#000000\" fill-rule=\"evenodd\" fill-opacity=\"1\" /><path clip-path=\"url(#clip9500)\" d=\"M 0 0 M92.529 238.322 L97.4132 238.322 L97.4132 244.201 L92.529 244.201 L92.529 238.322 Z\" fill=\"#000000\" fill-rule=\"evenodd\" fill-opacity=\"1\" /><path clip-path=\"url(#clip9500)\" d=\"M 0 0 M112.483 227.789 Q109.149 227.789 107.228 229.572 Q105.33 231.354 105.33 234.479 Q105.33 237.604 107.228 239.386 Q109.149 241.169 112.483 241.169 Q115.816 241.169 117.737 239.386 Q119.658 237.581 119.658 234.479 Q119.658 231.354 117.737 229.572 Q115.839 227.789 112.483 227.789 M107.807 225.799 Q104.797 225.058 103.108 222.998 Q101.441 220.937 101.441 217.975 Q101.441 213.831 104.381 211.424 Q107.344 209.016 112.483 209.016 Q117.645 209.016 120.584 211.424 Q123.524 213.831 123.524 217.975 Q123.524 220.937 121.834 222.998 Q120.168 225.058 117.182 225.799 Q120.561 226.586 122.436 228.877 Q124.334 231.169 124.334 234.479 Q124.334 239.502 121.256 242.187 Q118.2 244.873 112.483 244.873 Q106.765 244.873 103.686 242.187 Q100.631 239.502 100.631 234.479 Q100.631 231.169 102.529 228.877 Q104.427 226.586 107.807 225.799 M106.094 218.414 Q106.094 221.1 107.76 222.604 Q109.45 224.109 112.483 224.109 Q115.492 224.109 117.182 222.604 Q118.895 221.1 118.895 218.414 Q118.895 215.729 117.182 214.225 Q115.492 212.72 112.483 212.72 Q109.45 212.72 107.76 214.225 Q106.094 215.729 106.094 218.414 Z\" fill=\"#000000\" fill-rule=\"evenodd\" fill-opacity=\"1\" /><circle clip-path=\"url(#clip9502)\" cx=\"180.309\" cy=\"1056.73\" r=\"14\" fill=\"#009af9\" fill-rule=\"evenodd\" fill-opacity=\"1\" stroke=\"#000000\" stroke-opacity=\"1\" stroke-width=\"2.4\"/>\n",
       "<circle clip-path=\"url(#clip9502)\" cx=\"226.256\" cy=\"1055.74\" r=\"14\" fill=\"#009af9\" fill-rule=\"evenodd\" fill-opacity=\"1\" stroke=\"#000000\" stroke-opacity=\"1\" stroke-width=\"2.4\"/>\n",
       "<circle clip-path=\"url(#clip9502)\" cx=\"272.203\" cy=\"1051.54\" r=\"14\" fill=\"#009af9\" fill-rule=\"evenodd\" fill-opacity=\"1\" stroke=\"#000000\" stroke-opacity=\"1\" stroke-width=\"2.4\"/>\n",
       "<circle clip-path=\"url(#clip9502)\" cx=\"318.151\" cy=\"1049.46\" r=\"14\" fill=\"#009af9\" fill-rule=\"evenodd\" fill-opacity=\"1\" stroke=\"#000000\" stroke-opacity=\"1\" stroke-width=\"2.4\"/>\n",
       "<circle clip-path=\"url(#clip9502)\" cx=\"364.098\" cy=\"1048.79\" r=\"14\" fill=\"#009af9\" fill-rule=\"evenodd\" fill-opacity=\"1\" stroke=\"#000000\" stroke-opacity=\"1\" stroke-width=\"2.4\"/>\n",
       "<circle clip-path=\"url(#clip9502)\" cx=\"410.045\" cy=\"1043.73\" r=\"14\" fill=\"#009af9\" fill-rule=\"evenodd\" fill-opacity=\"1\" stroke=\"#000000\" stroke-opacity=\"1\" stroke-width=\"2.4\"/>\n",
       "<circle clip-path=\"url(#clip9502)\" cx=\"455.993\" cy=\"1036.94\" r=\"14\" fill=\"#009af9\" fill-rule=\"evenodd\" fill-opacity=\"1\" stroke=\"#000000\" stroke-opacity=\"1\" stroke-width=\"2.4\"/>\n",
       "<circle clip-path=\"url(#clip9502)\" cx=\"501.94\" cy=\"1028.06\" r=\"14\" fill=\"#009af9\" fill-rule=\"evenodd\" fill-opacity=\"1\" stroke=\"#000000\" stroke-opacity=\"1\" stroke-width=\"2.4\"/>\n",
       "<circle clip-path=\"url(#clip9502)\" cx=\"547.887\" cy=\"1012.93\" r=\"14\" fill=\"#009af9\" fill-rule=\"evenodd\" fill-opacity=\"1\" stroke=\"#000000\" stroke-opacity=\"1\" stroke-width=\"2.4\"/>\n",
       "<circle clip-path=\"url(#clip9502)\" cx=\"593.835\" cy=\"1026.56\" r=\"14\" fill=\"#009af9\" fill-rule=\"evenodd\" fill-opacity=\"1\" stroke=\"#000000\" stroke-opacity=\"1\" stroke-width=\"2.4\"/>\n",
       "<circle clip-path=\"url(#clip9502)\" cx=\"639.782\" cy=\"976.6\" r=\"14\" fill=\"#009af9\" fill-rule=\"evenodd\" fill-opacity=\"1\" stroke=\"#000000\" stroke-opacity=\"1\" stroke-width=\"2.4\"/>\n",
       "<circle clip-path=\"url(#clip9502)\" cx=\"685.729\" cy=\"950.529\" r=\"14\" fill=\"#009af9\" fill-rule=\"evenodd\" fill-opacity=\"1\" stroke=\"#000000\" stroke-opacity=\"1\" stroke-width=\"2.4\"/>\n",
       "<circle clip-path=\"url(#clip9502)\" cx=\"731.677\" cy=\"957.437\" r=\"14\" fill=\"#009af9\" fill-rule=\"evenodd\" fill-opacity=\"1\" stroke=\"#000000\" stroke-opacity=\"1\" stroke-width=\"2.4\"/>\n",
       "<circle clip-path=\"url(#clip9502)\" cx=\"777.624\" cy=\"942.468\" r=\"14\" fill=\"#009af9\" fill-rule=\"evenodd\" fill-opacity=\"1\" stroke=\"#000000\" stroke-opacity=\"1\" stroke-width=\"2.4\"/>\n",
       "<circle clip-path=\"url(#clip9502)\" cx=\"823.571\" cy=\"859.987\" r=\"14\" fill=\"#009af9\" fill-rule=\"evenodd\" fill-opacity=\"1\" stroke=\"#000000\" stroke-opacity=\"1\" stroke-width=\"2.4\"/>\n",
       "<circle clip-path=\"url(#clip9502)\" cx=\"869.519\" cy=\"820.418\" r=\"14\" fill=\"#009af9\" fill-rule=\"evenodd\" fill-opacity=\"1\" stroke=\"#000000\" stroke-opacity=\"1\" stroke-width=\"2.4\"/>\n",
       "<circle clip-path=\"url(#clip9502)\" cx=\"915.466\" cy=\"668.126\" r=\"14\" fill=\"#009af9\" fill-rule=\"evenodd\" fill-opacity=\"1\" stroke=\"#000000\" stroke-opacity=\"1\" stroke-width=\"2.4\"/>\n",
       "<circle clip-path=\"url(#clip9502)\" cx=\"961.414\" cy=\"530.704\" r=\"14\" fill=\"#009af9\" fill-rule=\"evenodd\" fill-opacity=\"1\" stroke=\"#000000\" stroke-opacity=\"1\" stroke-width=\"2.4\"/>\n",
       "<circle clip-path=\"url(#clip9502)\" cx=\"1007.36\" cy=\"803.686\" r=\"14\" fill=\"#009af9\" fill-rule=\"evenodd\" fill-opacity=\"1\" stroke=\"#000000\" stroke-opacity=\"1\" stroke-width=\"2.4\"/>\n",
       "<circle clip-path=\"url(#clip9502)\" cx=\"1053.31\" cy=\"597.779\" r=\"14\" fill=\"#009af9\" fill-rule=\"evenodd\" fill-opacity=\"1\" stroke=\"#000000\" stroke-opacity=\"1\" stroke-width=\"2.4\"/>\n",
       "<circle clip-path=\"url(#clip9502)\" cx=\"1099.26\" cy=\"499.912\" r=\"14\" fill=\"#009af9\" fill-rule=\"evenodd\" fill-opacity=\"1\" stroke=\"#000000\" stroke-opacity=\"1\" stroke-width=\"2.4\"/>\n",
       "<circle clip-path=\"url(#clip9502)\" cx=\"1145.2\" cy=\"394.1\" r=\"14\" fill=\"#009af9\" fill-rule=\"evenodd\" fill-opacity=\"1\" stroke=\"#000000\" stroke-opacity=\"1\" stroke-width=\"2.4\"/>\n",
       "<circle clip-path=\"url(#clip9502)\" cx=\"1191.15\" cy=\"455.279\" r=\"14\" fill=\"#009af9\" fill-rule=\"evenodd\" fill-opacity=\"1\" stroke=\"#000000\" stroke-opacity=\"1\" stroke-width=\"2.4\"/>\n",
       "<circle clip-path=\"url(#clip9502)\" cx=\"1237.1\" cy=\"304.656\" r=\"14\" fill=\"#009af9\" fill-rule=\"evenodd\" fill-opacity=\"1\" stroke=\"#000000\" stroke-opacity=\"1\" stroke-width=\"2.4\"/>\n",
       "<circle clip-path=\"url(#clip9502)\" cx=\"1283.04\" cy=\"271.624\" r=\"14\" fill=\"#009af9\" fill-rule=\"evenodd\" fill-opacity=\"1\" stroke=\"#000000\" stroke-opacity=\"1\" stroke-width=\"2.4\"/>\n",
       "<circle clip-path=\"url(#clip9502)\" cx=\"1328.99\" cy=\"214.406\" r=\"14\" fill=\"#009af9\" fill-rule=\"evenodd\" fill-opacity=\"1\" stroke=\"#000000\" stroke-opacity=\"1\" stroke-width=\"2.4\"/>\n",
       "<circle clip-path=\"url(#clip9502)\" cx=\"1374.94\" cy=\"156.494\" r=\"14\" fill=\"#009af9\" fill-rule=\"evenodd\" fill-opacity=\"1\" stroke=\"#000000\" stroke-opacity=\"1\" stroke-width=\"2.4\"/>\n",
       "<circle clip-path=\"url(#clip9502)\" cx=\"1420.89\" cy=\"153.367\" r=\"14\" fill=\"#009af9\" fill-rule=\"evenodd\" fill-opacity=\"1\" stroke=\"#000000\" stroke-opacity=\"1\" stroke-width=\"2.4\"/>\n",
       "<circle clip-path=\"url(#clip9502)\" cx=\"1466.83\" cy=\"119.313\" r=\"14\" fill=\"#009af9\" fill-rule=\"evenodd\" fill-opacity=\"1\" stroke=\"#000000\" stroke-opacity=\"1\" stroke-width=\"2.4\"/>\n",
       "<circle clip-path=\"url(#clip9502)\" cx=\"1512.78\" cy=\"76.6465\" r=\"14\" fill=\"#009af9\" fill-rule=\"evenodd\" fill-opacity=\"1\" stroke=\"#000000\" stroke-opacity=\"1\" stroke-width=\"2.4\"/>\n",
       "<polyline clip-path=\"url(#clip9502)\" style=\"stroke:#ff0000; stroke-width:8; stroke-opacity:1; fill:none\" points=\"\n",
       "  180.309,1054.05 193.321,1053.56 313.642,1046.82 385.95,1040.01 447.086,1031.74 513.496,1019.11 574.721,1002.89 640.36,978.963 716.409,940.121 750.201,918.192 \n",
       "  783.992,892.996 813.625,868.038 843.257,840.299 907.871,770.108 972.87,687.177 1044.73,585.195 1113.11,484.642 1184.21,384.396 1244.05,308.487 1280.59,267.228 \n",
       "  1317.12,230.188 1351.46,199.266 1385.81,172.026 1440.83,135.545 1495.85,106.871 1504.31,103.07 1512.78,99.4182 \n",
       "  \"/>\n",
       "</svg>\n"
      ]
     },
     "execution_count": 67,
     "metadata": {},
     "output_type": "execute_result"
    }
   ],
   "source": [
    "β = output.solution\n",
    "scatter(x, y, leg=false)\n",
    "plot!(x -> h(β, x), extrema(x)..., lw=2, c=:red)"
   ]
  },
  {
   "cell_type": "code",
   "execution_count": 78,
   "metadata": {},
   "outputs": [
    {
     "data": {
      "image/svg+xml": [
       "<?xml version=\"1.0\" encoding=\"utf-8\"?>\n",
       "<svg xmlns=\"http://www.w3.org/2000/svg\" xmlns:xlink=\"http://www.w3.org/1999/xlink\" width=\"400\" height=\"300\" viewBox=\"0 0 1600 1200\">\n",
       "<defs>\n",
       "  <clipPath id=\"clip3900\">\n",
       "    <rect x=\"0\" y=\"0\" width=\"1600\" height=\"1200\"/>\n",
       "  </clipPath>\n",
       "</defs>\n",
       "<path clip-path=\"url(#clip3900)\" d=\"\n",
       "M0 1200 L1600 1200 L1600 0 L0 0  Z\n",
       "  \" fill=\"#ffffff\" fill-rule=\"evenodd\" fill-opacity=\"1\"/>\n",
       "<defs>\n",
       "  <clipPath id=\"clip3901\">\n",
       "    <rect x=\"320\" y=\"0\" width=\"1121\" height=\"1121\"/>\n",
       "  </clipPath>\n",
       "</defs>\n",
       "<path clip-path=\"url(#clip3900)\" d=\"\n",
       "M180.612 1086.13 L1552.76 1086.13 L1552.76 47.2441 L180.612 47.2441  Z\n",
       "  \" fill=\"#ffffff\" fill-rule=\"evenodd\" fill-opacity=\"1\"/>\n",
       "<defs>\n",
       "  <clipPath id=\"clip3902\">\n",
       "    <rect x=\"180\" y=\"47\" width=\"1373\" height=\"1040\"/>\n",
       "  </clipPath>\n",
       "</defs>\n",
       "<polyline clip-path=\"url(#clip3902)\" style=\"stroke:#000000; stroke-width:2; stroke-opacity:0.1; fill:none\" points=\"\n",
       "  219.446,1086.13 219.446,47.2441 \n",
       "  \"/>\n",
       "<polyline clip-path=\"url(#clip3902)\" style=\"stroke:#000000; stroke-width:2; stroke-opacity:0.1; fill:none\" points=\"\n",
       "  478.341,1086.13 478.341,47.2441 \n",
       "  \"/>\n",
       "<polyline clip-path=\"url(#clip3902)\" style=\"stroke:#000000; stroke-width:2; stroke-opacity:0.1; fill:none\" points=\"\n",
       "  737.236,1086.13 737.236,47.2441 \n",
       "  \"/>\n",
       "<polyline clip-path=\"url(#clip3902)\" style=\"stroke:#000000; stroke-width:2; stroke-opacity:0.1; fill:none\" points=\"\n",
       "  996.131,1086.13 996.131,47.2441 \n",
       "  \"/>\n",
       "<polyline clip-path=\"url(#clip3902)\" style=\"stroke:#000000; stroke-width:2; stroke-opacity:0.1; fill:none\" points=\"\n",
       "  1255.03,1086.13 1255.03,47.2441 \n",
       "  \"/>\n",
       "<polyline clip-path=\"url(#clip3902)\" style=\"stroke:#000000; stroke-width:2; stroke-opacity:0.1; fill:none\" points=\"\n",
       "  1513.92,1086.13 1513.92,47.2441 \n",
       "  \"/>\n",
       "<polyline clip-path=\"url(#clip3902)\" style=\"stroke:#000000; stroke-width:2; stroke-opacity:0.1; fill:none\" points=\"\n",
       "  180.612,1060.45 1552.76,1060.45 \n",
       "  \"/>\n",
       "<polyline clip-path=\"url(#clip3902)\" style=\"stroke:#000000; stroke-width:2; stroke-opacity:0.1; fill:none\" points=\"\n",
       "  180.612,883.799 1552.76,883.799 \n",
       "  \"/>\n",
       "<polyline clip-path=\"url(#clip3902)\" style=\"stroke:#000000; stroke-width:2; stroke-opacity:0.1; fill:none\" points=\"\n",
       "  180.612,707.147 1552.76,707.147 \n",
       "  \"/>\n",
       "<polyline clip-path=\"url(#clip3902)\" style=\"stroke:#000000; stroke-width:2; stroke-opacity:0.1; fill:none\" points=\"\n",
       "  180.612,530.495 1552.76,530.495 \n",
       "  \"/>\n",
       "<polyline clip-path=\"url(#clip3902)\" style=\"stroke:#000000; stroke-width:2; stroke-opacity:0.1; fill:none\" points=\"\n",
       "  180.612,353.843 1552.76,353.843 \n",
       "  \"/>\n",
       "<polyline clip-path=\"url(#clip3902)\" style=\"stroke:#000000; stroke-width:2; stroke-opacity:0.1; fill:none\" points=\"\n",
       "  180.612,177.191 1552.76,177.191 \n",
       "  \"/>\n",
       "<polyline clip-path=\"url(#clip3900)\" style=\"stroke:#000000; stroke-width:4; stroke-opacity:1; fill:none\" points=\"\n",
       "  180.612,1086.13 1552.76,1086.13 \n",
       "  \"/>\n",
       "<polyline clip-path=\"url(#clip3900)\" style=\"stroke:#000000; stroke-width:4; stroke-opacity:1; fill:none\" points=\"\n",
       "  180.612,1086.13 180.612,47.2441 \n",
       "  \"/>\n",
       "<polyline clip-path=\"url(#clip3900)\" style=\"stroke:#000000; stroke-width:4; stroke-opacity:1; fill:none\" points=\"\n",
       "  219.446,1086.13 219.446,1073.66 \n",
       "  \"/>\n",
       "<polyline clip-path=\"url(#clip3900)\" style=\"stroke:#000000; stroke-width:4; stroke-opacity:1; fill:none\" points=\"\n",
       "  478.341,1086.13 478.341,1073.66 \n",
       "  \"/>\n",
       "<polyline clip-path=\"url(#clip3900)\" style=\"stroke:#000000; stroke-width:4; stroke-opacity:1; fill:none\" points=\"\n",
       "  737.236,1086.13 737.236,1073.66 \n",
       "  \"/>\n",
       "<polyline clip-path=\"url(#clip3900)\" style=\"stroke:#000000; stroke-width:4; stroke-opacity:1; fill:none\" points=\"\n",
       "  996.131,1086.13 996.131,1073.66 \n",
       "  \"/>\n",
       "<polyline clip-path=\"url(#clip3900)\" style=\"stroke:#000000; stroke-width:4; stroke-opacity:1; fill:none\" points=\"\n",
       "  1255.03,1086.13 1255.03,1073.66 \n",
       "  \"/>\n",
       "<polyline clip-path=\"url(#clip3900)\" style=\"stroke:#000000; stroke-width:4; stroke-opacity:1; fill:none\" points=\"\n",
       "  1513.92,1086.13 1513.92,1073.66 \n",
       "  \"/>\n",
       "<polyline clip-path=\"url(#clip3900)\" style=\"stroke:#000000; stroke-width:4; stroke-opacity:1; fill:none\" points=\"\n",
       "  180.612,1060.45 197.078,1060.45 \n",
       "  \"/>\n",
       "<polyline clip-path=\"url(#clip3900)\" style=\"stroke:#000000; stroke-width:4; stroke-opacity:1; fill:none\" points=\"\n",
       "  180.612,883.799 197.078,883.799 \n",
       "  \"/>\n",
       "<polyline clip-path=\"url(#clip3900)\" style=\"stroke:#000000; stroke-width:4; stroke-opacity:1; fill:none\" points=\"\n",
       "  180.612,707.147 197.078,707.147 \n",
       "  \"/>\n",
       "<polyline clip-path=\"url(#clip3900)\" style=\"stroke:#000000; stroke-width:4; stroke-opacity:1; fill:none\" points=\"\n",
       "  180.612,530.495 197.078,530.495 \n",
       "  \"/>\n",
       "<polyline clip-path=\"url(#clip3900)\" style=\"stroke:#000000; stroke-width:4; stroke-opacity:1; fill:none\" points=\"\n",
       "  180.612,353.843 197.078,353.843 \n",
       "  \"/>\n",
       "<polyline clip-path=\"url(#clip3900)\" style=\"stroke:#000000; stroke-width:4; stroke-opacity:1; fill:none\" points=\"\n",
       "  180.612,177.191 197.078,177.191 \n",
       "  \"/>\n",
       "<path clip-path=\"url(#clip3900)\" d=\"M 0 0 M200.314 1120.72 L212.791 1120.72 L212.791 1124.51 L200.314 1124.51 L200.314 1120.72 Z\" fill=\"#000000\" fill-rule=\"evenodd\" fill-opacity=\"1\" /><path clip-path=\"url(#clip3900)\" d=\"M 0 0 M218.671 1131.66 L226.31 1131.66 L226.31 1105.3 L217.999 1106.97 L217.999 1102.71 L226.263 1101.04 L230.939 1101.04 L230.939 1131.66 L238.578 1131.66 L238.578 1135.6 L218.671 1135.6 L218.671 1131.66 Z\" fill=\"#000000\" fill-rule=\"evenodd\" fill-opacity=\"1\" /><path clip-path=\"url(#clip3900)\" d=\"M 0 0 M478.341 1104.12 Q474.73 1104.12 472.902 1107.68 Q471.096 1111.23 471.096 1118.35 Q471.096 1125.46 472.902 1129.03 Q474.73 1132.57 478.341 1132.57 Q481.976 1132.57 483.781 1129.03 Q485.61 1125.46 485.61 1118.35 Q485.61 1111.23 483.781 1107.68 Q481.976 1104.12 478.341 1104.12 M478.341 1100.41 Q484.151 1100.41 487.207 1105.02 Q490.286 1109.6 490.286 1118.35 Q490.286 1127.08 487.207 1131.69 Q484.151 1136.27 478.341 1136.27 Q472.531 1136.27 469.452 1131.69 Q466.397 1127.08 466.397 1118.35 Q466.397 1109.6 469.452 1105.02 Q472.531 1100.41 478.341 1100.41 Z\" fill=\"#000000\" fill-rule=\"evenodd\" fill-opacity=\"1\" /><path clip-path=\"url(#clip3900)\" d=\"M 0 0 M727.618 1131.66 L735.257 1131.66 L735.257 1105.3 L726.947 1106.97 L726.947 1102.71 L735.211 1101.04 L739.887 1101.04 L739.887 1131.66 L747.526 1131.66 L747.526 1135.6 L727.618 1135.6 L727.618 1131.66 Z\" fill=\"#000000\" fill-rule=\"evenodd\" fill-opacity=\"1\" /><path clip-path=\"url(#clip3900)\" d=\"M 0 0 M990.784 1131.66 L1007.1 1131.66 L1007.1 1135.6 L985.159 1135.6 L985.159 1131.66 Q987.821 1128.91 992.405 1124.28 Q997.011 1119.63 998.192 1118.29 Q1000.44 1115.76 1001.32 1114.03 Q1002.22 1112.27 1002.22 1110.58 Q1002.22 1107.82 1000.27 1106.09 Q998.354 1104.35 995.252 1104.35 Q993.053 1104.35 990.599 1105.11 Q988.169 1105.88 985.391 1107.43 L985.391 1102.71 Q988.215 1101.57 990.669 1100.99 Q993.122 1100.41 995.159 1100.41 Q1000.53 1100.41 1003.72 1103.1 Q1006.92 1105.79 1006.92 1110.28 Q1006.92 1112.41 1006.11 1114.33 Q1005.32 1116.22 1003.21 1118.82 Q1002.64 1119.49 999.534 1122.71 Q996.432 1125.9 990.784 1131.66 Z\" fill=\"#000000\" fill-rule=\"evenodd\" fill-opacity=\"1\" /><path clip-path=\"url(#clip3900)\" d=\"M 0 0 M1259.27 1116.97 Q1262.63 1117.68 1264.51 1119.95 Q1266.4 1122.22 1266.4 1125.55 Q1266.4 1130.67 1262.89 1133.47 Q1259.37 1136.27 1252.89 1136.27 Q1250.71 1136.27 1248.39 1135.83 Q1246.1 1135.41 1243.65 1134.56 L1243.65 1130.04 Q1245.59 1131.18 1247.91 1131.76 Q1250.22 1132.34 1252.75 1132.34 Q1257.14 1132.34 1259.44 1130.6 Q1261.75 1128.86 1261.75 1125.55 Q1261.75 1122.5 1259.6 1120.79 Q1257.47 1119.05 1253.65 1119.05 L1249.62 1119.05 L1249.62 1115.21 L1253.83 1115.21 Q1257.28 1115.21 1259.11 1113.84 Q1260.94 1112.45 1260.94 1109.86 Q1260.94 1107.2 1259.04 1105.79 Q1257.17 1104.35 1253.65 1104.35 Q1251.73 1104.35 1249.53 1104.77 Q1247.33 1105.18 1244.69 1106.06 L1244.69 1101.9 Q1247.35 1101.16 1249.67 1100.79 Q1252.01 1100.41 1254.07 1100.41 Q1259.39 1100.41 1262.49 1102.85 Q1265.59 1105.25 1265.59 1109.37 Q1265.59 1112.24 1263.95 1114.23 Q1262.31 1116.2 1259.27 1116.97 Z\" fill=\"#000000\" fill-rule=\"evenodd\" fill-opacity=\"1\" /><path clip-path=\"url(#clip3900)\" d=\"M 0 0 M1516.93 1105.11 L1505.13 1123.56 L1516.93 1123.56 L1516.93 1105.11 M1515.7 1101.04 L1521.58 1101.04 L1521.58 1123.56 L1526.51 1123.56 L1526.51 1127.45 L1521.58 1127.45 L1521.58 1135.6 L1516.93 1135.6 L1516.93 1127.45 L1501.33 1127.45 L1501.33 1122.94 L1515.7 1101.04 Z\" fill=\"#000000\" fill-rule=\"evenodd\" fill-opacity=\"1\" /><path clip-path=\"url(#clip3900)\" d=\"M 0 0 M152.668 1046.25 Q149.056 1046.25 147.228 1049.81 Q145.422 1053.36 145.422 1060.49 Q145.422 1067.59 147.228 1071.16 Q149.056 1074.7 152.668 1074.7 Q156.302 1074.7 158.107 1071.16 Q159.936 1067.59 159.936 1060.49 Q159.936 1053.36 158.107 1049.81 Q156.302 1046.25 152.668 1046.25 M152.668 1042.55 Q158.478 1042.55 161.533 1047.15 Q164.612 1051.74 164.612 1060.49 Q164.612 1069.21 161.533 1073.82 Q158.478 1078.4 152.668 1078.4 Q146.857 1078.4 143.779 1073.82 Q140.723 1069.21 140.723 1060.49 Q140.723 1051.74 143.779 1047.15 Q146.857 1042.55 152.668 1042.55 Z\" fill=\"#000000\" fill-rule=\"evenodd\" fill-opacity=\"1\" /><path clip-path=\"url(#clip3900)\" d=\"M 0 0 M95.2605 897.144 L111.58 897.144 L111.58 901.079 L89.6355 901.079 L89.6355 897.144 Q92.2975 894.39 96.8808 889.76 Q101.487 885.107 102.668 883.765 Q104.913 881.241 105.793 879.505 Q106.696 877.746 106.696 876.056 Q106.696 873.302 104.751 871.566 Q102.83 869.829 99.728 869.829 Q97.529 869.829 95.0753 870.593 Q92.6447 871.357 89.867 872.908 L89.867 868.186 Q92.691 867.052 95.1447 866.473 Q97.5984 865.894 99.6354 865.894 Q105.006 865.894 108.2 868.58 Q111.395 871.265 111.395 875.755 Q111.395 877.885 110.584 879.806 Q109.797 881.704 107.691 884.297 Q107.112 884.968 104.01 888.186 Q100.909 891.38 95.2605 897.144 Z\" fill=\"#000000\" fill-rule=\"evenodd\" fill-opacity=\"1\" /><path clip-path=\"url(#clip3900)\" d=\"M 0 0 M116.696 866.519 L135.052 866.519 L135.052 870.454 L120.978 870.454 L120.978 878.927 Q121.996 878.579 123.015 878.417 Q124.033 878.232 125.052 878.232 Q130.839 878.232 134.219 881.404 Q137.598 884.575 137.598 889.991 Q137.598 895.57 134.126 898.672 Q130.654 901.751 124.334 901.751 Q122.158 901.751 119.89 901.38 Q117.645 901.01 115.237 900.269 L115.237 895.57 Q117.321 896.704 119.543 897.26 Q121.765 897.815 124.242 897.815 Q128.246 897.815 130.584 895.709 Q132.922 893.603 132.922 889.991 Q132.922 886.38 130.584 884.274 Q128.246 882.167 124.242 882.167 Q122.367 882.167 120.492 882.584 Q118.64 883.001 116.696 883.88 L116.696 866.519 Z\" fill=\"#000000\" fill-rule=\"evenodd\" fill-opacity=\"1\" /><path clip-path=\"url(#clip3900)\" d=\"M 0 0 M152.668 869.598 Q149.056 869.598 147.228 873.163 Q145.422 876.704 145.422 883.834 Q145.422 890.94 147.228 894.505 Q149.056 898.047 152.668 898.047 Q156.302 898.047 158.107 894.505 Q159.936 890.94 159.936 883.834 Q159.936 876.704 158.107 873.163 Q156.302 869.598 152.668 869.598 M152.668 865.894 Q158.478 865.894 161.533 870.501 Q164.612 875.084 164.612 883.834 Q164.612 892.561 161.533 897.167 Q158.478 901.751 152.668 901.751 Q146.857 901.751 143.779 897.167 Q140.723 892.561 140.723 883.834 Q140.723 875.084 143.779 870.501 Q146.857 865.894 152.668 865.894 Z\" fill=\"#000000\" fill-rule=\"evenodd\" fill-opacity=\"1\" /><path clip-path=\"url(#clip3900)\" d=\"M 0 0 M89.6818 689.867 L108.038 689.867 L108.038 693.802 L93.9642 693.802 L93.9642 702.275 Q94.9827 701.927 96.0012 701.765 Q97.0197 701.58 98.0382 701.58 Q103.825 701.58 107.205 704.751 Q110.584 707.923 110.584 713.339 Q110.584 718.918 107.112 722.02 Q103.64 725.098 97.3206 725.098 Q95.1447 725.098 92.8762 724.728 Q90.6309 724.358 88.2235 723.617 L88.2235 718.918 Q90.3068 720.052 92.529 720.608 Q94.7512 721.163 97.2281 721.163 Q101.233 721.163 103.571 719.057 Q105.909 716.95 105.909 713.339 Q105.909 709.728 103.571 707.622 Q101.233 705.515 97.2281 705.515 Q95.3531 705.515 93.4781 705.932 Q91.6262 706.349 89.6818 707.228 L89.6818 689.867 Z\" fill=\"#000000\" fill-rule=\"evenodd\" fill-opacity=\"1\" /><path clip-path=\"url(#clip3900)\" d=\"M 0 0 M125.654 692.946 Q122.043 692.946 120.214 696.511 Q118.408 700.052 118.408 707.182 Q118.408 714.288 120.214 717.853 Q122.043 721.395 125.654 721.395 Q129.288 721.395 131.094 717.853 Q132.922 714.288 132.922 707.182 Q132.922 700.052 131.094 696.511 Q129.288 692.946 125.654 692.946 M125.654 689.242 Q131.464 689.242 134.52 693.849 Q137.598 698.432 137.598 707.182 Q137.598 715.909 134.52 720.515 Q131.464 725.098 125.654 725.098 Q119.844 725.098 116.765 720.515 Q113.709 715.909 113.709 707.182 Q113.709 698.432 116.765 693.849 Q119.844 689.242 125.654 689.242 Z\" fill=\"#000000\" fill-rule=\"evenodd\" fill-opacity=\"1\" /><path clip-path=\"url(#clip3900)\" d=\"M 0 0 M152.668 692.946 Q149.056 692.946 147.228 696.511 Q145.422 700.052 145.422 707.182 Q145.422 714.288 147.228 717.853 Q149.056 721.395 152.668 721.395 Q156.302 721.395 158.107 717.853 Q159.936 714.288 159.936 707.182 Q159.936 700.052 158.107 696.511 Q156.302 692.946 152.668 692.946 M152.668 689.242 Q158.478 689.242 161.533 693.849 Q164.612 698.432 164.612 707.182 Q164.612 715.909 161.533 720.515 Q158.478 725.098 152.668 725.098 Q146.857 725.098 143.779 720.515 Q140.723 715.909 140.723 707.182 Q140.723 698.432 143.779 693.849 Q146.857 689.242 152.668 689.242 Z\" fill=\"#000000\" fill-rule=\"evenodd\" fill-opacity=\"1\" /><path clip-path=\"url(#clip3900)\" d=\"M 0 0 M89.3577 513.215 L111.58 513.215 L111.58 515.206 L99.0336 547.775 L94.1494 547.775 L105.955 517.15 L89.3577 517.15 L89.3577 513.215 Z\" fill=\"#000000\" fill-rule=\"evenodd\" fill-opacity=\"1\" /><path clip-path=\"url(#clip3900)\" d=\"M 0 0 M116.696 513.215 L135.052 513.215 L135.052 517.15 L120.978 517.15 L120.978 525.622 Q121.996 525.275 123.015 525.113 Q124.033 524.928 125.052 524.928 Q130.839 524.928 134.219 528.099 Q137.598 531.271 137.598 536.687 Q137.598 542.266 134.126 545.368 Q130.654 548.446 124.334 548.446 Q122.158 548.446 119.89 548.076 Q117.645 547.706 115.237 546.965 L115.237 542.266 Q117.321 543.4 119.543 543.956 Q121.765 544.511 124.242 544.511 Q128.246 544.511 130.584 542.405 Q132.922 540.298 132.922 536.687 Q132.922 533.076 130.584 530.97 Q128.246 528.863 124.242 528.863 Q122.367 528.863 120.492 529.28 Q118.64 529.696 116.696 530.576 L116.696 513.215 Z\" fill=\"#000000\" fill-rule=\"evenodd\" fill-opacity=\"1\" /><path clip-path=\"url(#clip3900)\" d=\"M 0 0 M152.668 516.294 Q149.056 516.294 147.228 519.859 Q145.422 523.4 145.422 530.53 Q145.422 537.636 147.228 541.201 Q149.056 544.743 152.668 544.743 Q156.302 544.743 158.107 541.201 Q159.936 537.636 159.936 530.53 Q159.936 523.4 158.107 519.859 Q156.302 516.294 152.668 516.294 M152.668 512.59 Q158.478 512.59 161.533 517.197 Q164.612 521.78 164.612 530.53 Q164.612 539.257 161.533 543.863 Q158.478 548.446 152.668 548.446 Q146.857 548.446 143.779 543.863 Q140.723 539.257 140.723 530.53 Q140.723 521.78 143.779 517.197 Q146.857 512.59 152.668 512.59 Z\" fill=\"#000000\" fill-rule=\"evenodd\" fill-opacity=\"1\" /><path clip-path=\"url(#clip3900)\" d=\"M 0 0 M63.6634 367.188 L71.3023 367.188 L71.3023 340.822 L62.9921 342.489 L62.9921 338.23 L71.256 336.563 L75.9319 336.563 L75.9319 367.188 L83.5707 367.188 L83.5707 371.123 L63.6634 371.123 L63.6634 367.188 Z\" fill=\"#000000\" fill-rule=\"evenodd\" fill-opacity=\"1\" /><path clip-path=\"url(#clip3900)\" d=\"M 0 0 M98.6401 339.642 Q95.029 339.642 93.2003 343.206 Q91.3948 346.748 91.3948 353.878 Q91.3948 360.984 93.2003 364.549 Q95.029 368.091 98.6401 368.091 Q102.274 368.091 104.08 364.549 Q105.909 360.984 105.909 353.878 Q105.909 346.748 104.08 343.206 Q102.274 339.642 98.6401 339.642 M98.6401 335.938 Q104.45 335.938 107.506 340.544 Q110.584 345.128 110.584 353.878 Q110.584 362.604 107.506 367.211 Q104.45 371.794 98.6401 371.794 Q92.8299 371.794 89.7512 367.211 Q86.6957 362.604 86.6957 353.878 Q86.6957 345.128 89.7512 340.544 Q92.8299 335.938 98.6401 335.938 Z\" fill=\"#000000\" fill-rule=\"evenodd\" fill-opacity=\"1\" /><path clip-path=\"url(#clip3900)\" d=\"M 0 0 M125.654 339.642 Q122.043 339.642 120.214 343.206 Q118.408 346.748 118.408 353.878 Q118.408 360.984 120.214 364.549 Q122.043 368.091 125.654 368.091 Q129.288 368.091 131.094 364.549 Q132.922 360.984 132.922 353.878 Q132.922 346.748 131.094 343.206 Q129.288 339.642 125.654 339.642 M125.654 335.938 Q131.464 335.938 134.52 340.544 Q137.598 345.128 137.598 353.878 Q137.598 362.604 134.52 367.211 Q131.464 371.794 125.654 371.794 Q119.844 371.794 116.765 367.211 Q113.709 362.604 113.709 353.878 Q113.709 345.128 116.765 340.544 Q119.844 335.938 125.654 335.938 Z\" fill=\"#000000\" fill-rule=\"evenodd\" fill-opacity=\"1\" /><path clip-path=\"url(#clip3900)\" d=\"M 0 0 M152.668 339.642 Q149.056 339.642 147.228 343.206 Q145.422 346.748 145.422 353.878 Q145.422 360.984 147.228 364.549 Q149.056 368.091 152.668 368.091 Q156.302 368.091 158.107 364.549 Q159.936 360.984 159.936 353.878 Q159.936 346.748 158.107 343.206 Q156.302 339.642 152.668 339.642 M152.668 335.938 Q158.478 335.938 161.533 340.544 Q164.612 345.128 164.612 353.878 Q164.612 362.604 161.533 367.211 Q158.478 371.794 152.668 371.794 Q146.857 371.794 143.779 367.211 Q140.723 362.604 140.723 353.878 Q140.723 345.128 143.779 340.544 Q146.857 335.938 152.668 335.938 Z\" fill=\"#000000\" fill-rule=\"evenodd\" fill-opacity=\"1\" /><path clip-path=\"url(#clip3900)\" d=\"M 0 0 M66.256 190.536 L73.8948 190.536 L73.8948 164.17 L65.5847 165.837 L65.5847 161.577 L73.8485 159.911 L78.5245 159.911 L78.5245 190.536 L86.1633 190.536 L86.1633 194.471 L66.256 194.471 L66.256 190.536 Z\" fill=\"#000000\" fill-rule=\"evenodd\" fill-opacity=\"1\" /><path clip-path=\"url(#clip3900)\" d=\"M 0 0 M95.2605 190.536 L111.58 190.536 L111.58 194.471 L89.6355 194.471 L89.6355 190.536 Q92.2975 187.781 96.8808 183.151 Q101.487 178.499 102.668 177.156 Q104.913 174.633 105.793 172.897 Q106.696 171.138 106.696 169.448 Q106.696 166.693 104.751 164.957 Q102.83 163.221 99.728 163.221 Q97.529 163.221 95.0753 163.985 Q92.6447 164.749 89.867 166.3 L89.867 161.577 Q92.691 160.443 95.1447 159.864 Q97.5984 159.286 99.6354 159.286 Q105.006 159.286 108.2 161.971 Q111.395 164.656 111.395 169.147 Q111.395 171.276 110.584 173.198 Q109.797 175.096 107.691 177.688 Q107.112 178.36 104.01 181.577 Q100.909 184.772 95.2605 190.536 Z\" fill=\"#000000\" fill-rule=\"evenodd\" fill-opacity=\"1\" /><path clip-path=\"url(#clip3900)\" d=\"M 0 0 M116.696 159.911 L135.052 159.911 L135.052 163.846 L120.978 163.846 L120.978 172.318 Q121.996 171.971 123.015 171.809 Q124.033 171.624 125.052 171.624 Q130.839 171.624 134.219 174.795 Q137.598 177.966 137.598 183.383 Q137.598 188.962 134.126 192.063 Q130.654 195.142 124.334 195.142 Q122.158 195.142 119.89 194.772 Q117.645 194.401 115.237 193.661 L115.237 188.962 Q117.321 190.096 119.543 190.651 Q121.765 191.207 124.242 191.207 Q128.246 191.207 130.584 189.1 Q132.922 186.994 132.922 183.383 Q132.922 179.772 130.584 177.665 Q128.246 175.559 124.242 175.559 Q122.367 175.559 120.492 175.976 Q118.64 176.392 116.696 177.272 L116.696 159.911 Z\" fill=\"#000000\" fill-rule=\"evenodd\" fill-opacity=\"1\" /><path clip-path=\"url(#clip3900)\" d=\"M 0 0 M152.668 162.989 Q149.056 162.989 147.228 166.554 Q145.422 170.096 145.422 177.226 Q145.422 184.332 147.228 187.897 Q149.056 191.438 152.668 191.438 Q156.302 191.438 158.107 187.897 Q159.936 184.332 159.936 177.226 Q159.936 170.096 158.107 166.554 Q156.302 162.989 152.668 162.989 M152.668 159.286 Q158.478 159.286 161.533 163.892 Q164.612 168.476 164.612 177.226 Q164.612 185.952 161.533 190.559 Q158.478 195.142 152.668 195.142 Q146.857 195.142 143.779 190.559 Q140.723 185.952 140.723 177.226 Q140.723 168.476 143.779 163.892 Q146.857 159.286 152.668 159.286 Z\" fill=\"#000000\" fill-rule=\"evenodd\" fill-opacity=\"1\" /><circle clip-path=\"url(#clip3902)\" cx=\"219.446\" cy=\"1056.73\" r=\"14\" fill=\"#009af9\" fill-rule=\"evenodd\" fill-opacity=\"1\" stroke=\"#000000\" stroke-opacity=\"1\" stroke-width=\"2.4\"/>\n",
       "<circle clip-path=\"url(#clip3902)\" cx=\"264.083\" cy=\"1055.67\" r=\"14\" fill=\"#009af9\" fill-rule=\"evenodd\" fill-opacity=\"1\" stroke=\"#000000\" stroke-opacity=\"1\" stroke-width=\"2.4\"/>\n",
       "<circle clip-path=\"url(#clip3902)\" cx=\"308.72\" cy=\"1052.6\" r=\"14\" fill=\"#009af9\" fill-rule=\"evenodd\" fill-opacity=\"1\" stroke=\"#000000\" stroke-opacity=\"1\" stroke-width=\"2.4\"/>\n",
       "<circle clip-path=\"url(#clip3902)\" cx=\"353.357\" cy=\"1050.17\" r=\"14\" fill=\"#009af9\" fill-rule=\"evenodd\" fill-opacity=\"1\" stroke=\"#000000\" stroke-opacity=\"1\" stroke-width=\"2.4\"/>\n",
       "<circle clip-path=\"url(#clip3902)\" cx=\"397.995\" cy=\"1047.34\" r=\"14\" fill=\"#009af9\" fill-rule=\"evenodd\" fill-opacity=\"1\" stroke=\"#000000\" stroke-opacity=\"1\" stroke-width=\"2.4\"/>\n",
       "<circle clip-path=\"url(#clip3902)\" cx=\"442.632\" cy=\"1042.86\" r=\"14\" fill=\"#009af9\" fill-rule=\"evenodd\" fill-opacity=\"1\" stroke=\"#000000\" stroke-opacity=\"1\" stroke-width=\"2.4\"/>\n",
       "<circle clip-path=\"url(#clip3902)\" cx=\"487.269\" cy=\"1036.28\" r=\"14\" fill=\"#009af9\" fill-rule=\"evenodd\" fill-opacity=\"1\" stroke=\"#000000\" stroke-opacity=\"1\" stroke-width=\"2.4\"/>\n",
       "<circle clip-path=\"url(#clip3902)\" cx=\"531.906\" cy=\"1029.06\" r=\"14\" fill=\"#009af9\" fill-rule=\"evenodd\" fill-opacity=\"1\" stroke=\"#000000\" stroke-opacity=\"1\" stroke-width=\"2.4\"/>\n",
       "<circle clip-path=\"url(#clip3902)\" cx=\"576.543\" cy=\"1022.81\" r=\"14\" fill=\"#009af9\" fill-rule=\"evenodd\" fill-opacity=\"1\" stroke=\"#000000\" stroke-opacity=\"1\" stroke-width=\"2.4\"/>\n",
       "<circle clip-path=\"url(#clip3902)\" cx=\"621.18\" cy=\"1019.3\" r=\"14\" fill=\"#009af9\" fill-rule=\"evenodd\" fill-opacity=\"1\" stroke=\"#000000\" stroke-opacity=\"1\" stroke-width=\"2.4\"/>\n",
       "<circle clip-path=\"url(#clip3902)\" cx=\"665.817\" cy=\"1000.67\" r=\"14\" fill=\"#009af9\" fill-rule=\"evenodd\" fill-opacity=\"1\" stroke=\"#000000\" stroke-opacity=\"1\" stroke-width=\"2.4\"/>\n",
       "<circle clip-path=\"url(#clip3902)\" cx=\"710.454\" cy=\"982.054\" r=\"14\" fill=\"#009af9\" fill-rule=\"evenodd\" fill-opacity=\"1\" stroke=\"#000000\" stroke-opacity=\"1\" stroke-width=\"2.4\"/>\n",
       "<circle clip-path=\"url(#clip3902)\" cx=\"755.091\" cy=\"951.607\" r=\"14\" fill=\"#009af9\" fill-rule=\"evenodd\" fill-opacity=\"1\" stroke=\"#000000\" stroke-opacity=\"1\" stroke-width=\"2.4\"/>\n",
       "<circle clip-path=\"url(#clip3902)\" cx=\"799.728\" cy=\"943.452\" r=\"14\" fill=\"#009af9\" fill-rule=\"evenodd\" fill-opacity=\"1\" stroke=\"#000000\" stroke-opacity=\"1\" stroke-width=\"2.4\"/>\n",
       "<circle clip-path=\"url(#clip3902)\" cx=\"844.365\" cy=\"880.627\" r=\"14\" fill=\"#009af9\" fill-rule=\"evenodd\" fill-opacity=\"1\" stroke=\"#000000\" stroke-opacity=\"1\" stroke-width=\"2.4\"/>\n",
       "<circle clip-path=\"url(#clip3902)\" cx=\"889.002\" cy=\"860.482\" r=\"14\" fill=\"#009af9\" fill-rule=\"evenodd\" fill-opacity=\"1\" stroke=\"#000000\" stroke-opacity=\"1\" stroke-width=\"2.4\"/>\n",
       "<circle clip-path=\"url(#clip3902)\" cx=\"933.64\" cy=\"807.287\" r=\"14\" fill=\"#009af9\" fill-rule=\"evenodd\" fill-opacity=\"1\" stroke=\"#000000\" stroke-opacity=\"1\" stroke-width=\"2.4\"/>\n",
       "<circle clip-path=\"url(#clip3902)\" cx=\"978.277\" cy=\"769.277\" r=\"14\" fill=\"#009af9\" fill-rule=\"evenodd\" fill-opacity=\"1\" stroke=\"#000000\" stroke-opacity=\"1\" stroke-width=\"2.4\"/>\n",
       "<circle clip-path=\"url(#clip3902)\" cx=\"1022.91\" cy=\"714.568\" r=\"14\" fill=\"#009af9\" fill-rule=\"evenodd\" fill-opacity=\"1\" stroke=\"#000000\" stroke-opacity=\"1\" stroke-width=\"2.4\"/>\n",
       "<circle clip-path=\"url(#clip3902)\" cx=\"1067.55\" cy=\"632.273\" r=\"14\" fill=\"#009af9\" fill-rule=\"evenodd\" fill-opacity=\"1\" stroke=\"#000000\" stroke-opacity=\"1\" stroke-width=\"2.4\"/>\n",
       "<circle clip-path=\"url(#clip3902)\" cx=\"1112.19\" cy=\"536.735\" r=\"14\" fill=\"#009af9\" fill-rule=\"evenodd\" fill-opacity=\"1\" stroke=\"#000000\" stroke-opacity=\"1\" stroke-width=\"2.4\"/>\n",
       "<circle clip-path=\"url(#clip3902)\" cx=\"1156.82\" cy=\"432.432\" r=\"14\" fill=\"#009af9\" fill-rule=\"evenodd\" fill-opacity=\"1\" stroke=\"#000000\" stroke-opacity=\"1\" stroke-width=\"2.4\"/>\n",
       "<circle clip-path=\"url(#clip3902)\" cx=\"1201.46\" cy=\"385.125\" r=\"14\" fill=\"#009af9\" fill-rule=\"evenodd\" fill-opacity=\"1\" stroke=\"#000000\" stroke-opacity=\"1\" stroke-width=\"2.4\"/>\n",
       "<circle clip-path=\"url(#clip3902)\" cx=\"1246.1\" cy=\"348.821\" r=\"14\" fill=\"#009af9\" fill-rule=\"evenodd\" fill-opacity=\"1\" stroke=\"#000000\" stroke-opacity=\"1\" stroke-width=\"2.4\"/>\n",
       "<circle clip-path=\"url(#clip3902)\" cx=\"1290.74\" cy=\"244.424\" r=\"14\" fill=\"#009af9\" fill-rule=\"evenodd\" fill-opacity=\"1\" stroke=\"#000000\" stroke-opacity=\"1\" stroke-width=\"2.4\"/>\n",
       "<circle clip-path=\"url(#clip3902)\" cx=\"1335.37\" cy=\"207.502\" r=\"14\" fill=\"#009af9\" fill-rule=\"evenodd\" fill-opacity=\"1\" stroke=\"#000000\" stroke-opacity=\"1\" stroke-width=\"2.4\"/>\n",
       "<circle clip-path=\"url(#clip3902)\" cx=\"1380.01\" cy=\"157.141\" r=\"14\" fill=\"#009af9\" fill-rule=\"evenodd\" fill-opacity=\"1\" stroke=\"#000000\" stroke-opacity=\"1\" stroke-width=\"2.4\"/>\n",
       "<circle clip-path=\"url(#clip3902)\" cx=\"1424.65\" cy=\"126.74\" r=\"14\" fill=\"#009af9\" fill-rule=\"evenodd\" fill-opacity=\"1\" stroke=\"#000000\" stroke-opacity=\"1\" stroke-width=\"2.4\"/>\n",
       "<circle clip-path=\"url(#clip3902)\" cx=\"1469.28\" cy=\"111.861\" r=\"14\" fill=\"#009af9\" fill-rule=\"evenodd\" fill-opacity=\"1\" stroke=\"#000000\" stroke-opacity=\"1\" stroke-width=\"2.4\"/>\n",
       "<circle clip-path=\"url(#clip3902)\" cx=\"1513.92\" cy=\"76.6465\" r=\"14\" fill=\"#009af9\" fill-rule=\"evenodd\" fill-opacity=\"1\" stroke=\"#000000\" stroke-opacity=\"1\" stroke-width=\"2.4\"/>\n",
       "</svg>\n"
      ]
     },
     "execution_count": 78,
     "metadata": {},
     "output_type": "execute_result"
    }
   ],
   "source": [
    "using Random\n",
    "Random.seed!(0)\n",
    "# Fake data\n",
    "n = 30\n",
    "x = range(-1, 4, length=n)\n",
    "y = 1500 ./ (1 .+ exp.(3.8 .- 1.6x + rand(n) * 0.3) )\n",
    "\n",
    "scatter(x, y, leg=false)"
   ]
  },
  {
   "cell_type": "code",
   "execution_count": 89,
   "metadata": {},
   "outputs": [
    {
     "data": {
      "text/plain": [
       "MathOptNLSModel(Minimization problem logistic\n",
       "nvar = 3, ncon = 0 (0 linear)\n",
       ", NLSMeta(30, 3, [0.0, 0.0, 0.0], 90, 180), \"A JuMP.NLPEvaluator\", \"A JuMP.NLPEvaluator\", NLPModelsJuMP.LinearConstraints(Int64[], Int64[], Float64[]), NLSCounters(Counters(0, 0, 0, 0, 0, 0, 0, 0, 0, 0, 0), 0, 0, 0, 0, 0, 0, 0))"
      ]
     },
     "execution_count": 89,
     "metadata": {},
     "output_type": "execute_result"
    }
   ],
   "source": [
    "model = Model()\n",
    "\n",
    "@variable(model, β[1:3])\n",
    "set_upper_bound(β[1], 0.0)\n",
    "\n",
    "@NLexpression(model, res[i=1:n], β[3] / (1 + exp(-β[1] - β[2] * x[i])) - y[i])\n",
    "\n",
    "nls = MathOptNLSModel(model, res, name=\"logistic\")"
   ]
  },
  {
   "cell_type": "code",
   "execution_count": 93,
   "metadata": {},
   "outputs": [
    {
     "data": {
      "text/plain": [
       "3-element Array{Float64,1}:\n",
       "  0.0\n",
       " Inf\n",
       " Inf"
      ]
     },
     "execution_count": 93,
     "metadata": {},
     "output_type": "execute_result"
    }
   ],
   "source": [
    "nls.meta.uvar"
   ]
  },
  {
   "cell_type": "code",
   "execution_count": 94,
   "metadata": {},
   "outputs": [
    {
     "data": {
      "text/plain": [
       "true"
      ]
     },
     "execution_count": 94,
     "metadata": {},
     "output_type": "execute_result"
    }
   ],
   "source": [
    "has_bounds(nls)"
   ]
  },
  {
   "cell_type": "code",
   "execution_count": 95,
   "metadata": {},
   "outputs": [
    {
     "name": "stdout",
     "output_type": "stream",
     "text": [
      "Generic Execution stats\n",
      "  status: first-order stationary\n",
      "  objective value: 4589.893297775724\n",
      "  primal feasibility: 0.0\n",
      "  dual feasibility: 4.935815827459923e-7\n",
      "  solution: [-4.08037573799231  1.6459401973918577  1510.0559714314]\n",
      "  iterations: 53\n",
      "  elapsed time: 0.00999307632446289\n"
     ]
    }
   ],
   "source": [
    "using Logging\n",
    "output = with_logger(NullLogger()) do\n",
    "    tron(nls)\n",
    "end\n",
    "print(output)"
   ]
  },
  {
   "cell_type": "code",
   "execution_count": 97,
   "metadata": {},
   "outputs": [
    {
     "data": {
      "image/svg+xml": [
       "<?xml version=\"1.0\" encoding=\"utf-8\"?>\n",
       "<svg xmlns=\"http://www.w3.org/2000/svg\" xmlns:xlink=\"http://www.w3.org/1999/xlink\" width=\"400\" height=\"300\" viewBox=\"0 0 1600 1200\">\n",
       "<defs>\n",
       "  <clipPath id=\"clip5100\">\n",
       "    <rect x=\"0\" y=\"0\" width=\"1600\" height=\"1200\"/>\n",
       "  </clipPath>\n",
       "</defs>\n",
       "<path clip-path=\"url(#clip5100)\" d=\"\n",
       "M0 1200 L1600 1200 L1600 0 L0 0  Z\n",
       "  \" fill=\"#ffffff\" fill-rule=\"evenodd\" fill-opacity=\"1\"/>\n",
       "<defs>\n",
       "  <clipPath id=\"clip5101\">\n",
       "    <rect x=\"320\" y=\"0\" width=\"1121\" height=\"1121\"/>\n",
       "  </clipPath>\n",
       "</defs>\n",
       "<path clip-path=\"url(#clip5100)\" d=\"\n",
       "M180.612 1086.13 L1552.76 1086.13 L1552.76 47.2441 L180.612 47.2441  Z\n",
       "  \" fill=\"#ffffff\" fill-rule=\"evenodd\" fill-opacity=\"1\"/>\n",
       "<defs>\n",
       "  <clipPath id=\"clip5102\">\n",
       "    <rect x=\"180\" y=\"47\" width=\"1373\" height=\"1040\"/>\n",
       "  </clipPath>\n",
       "</defs>\n",
       "<polyline clip-path=\"url(#clip5102)\" style=\"stroke:#000000; stroke-width:2; stroke-opacity:0.1; fill:none\" points=\"\n",
       "  219.446,1086.13 219.446,47.2441 \n",
       "  \"/>\n",
       "<polyline clip-path=\"url(#clip5102)\" style=\"stroke:#000000; stroke-width:2; stroke-opacity:0.1; fill:none\" points=\"\n",
       "  478.341,1086.13 478.341,47.2441 \n",
       "  \"/>\n",
       "<polyline clip-path=\"url(#clip5102)\" style=\"stroke:#000000; stroke-width:2; stroke-opacity:0.1; fill:none\" points=\"\n",
       "  737.236,1086.13 737.236,47.2441 \n",
       "  \"/>\n",
       "<polyline clip-path=\"url(#clip5102)\" style=\"stroke:#000000; stroke-width:2; stroke-opacity:0.1; fill:none\" points=\"\n",
       "  996.131,1086.13 996.131,47.2441 \n",
       "  \"/>\n",
       "<polyline clip-path=\"url(#clip5102)\" style=\"stroke:#000000; stroke-width:2; stroke-opacity:0.1; fill:none\" points=\"\n",
       "  1255.03,1086.13 1255.03,47.2441 \n",
       "  \"/>\n",
       "<polyline clip-path=\"url(#clip5102)\" style=\"stroke:#000000; stroke-width:2; stroke-opacity:0.1; fill:none\" points=\"\n",
       "  1513.92,1086.13 1513.92,47.2441 \n",
       "  \"/>\n",
       "<polyline clip-path=\"url(#clip5102)\" style=\"stroke:#000000; stroke-width:2; stroke-opacity:0.1; fill:none\" points=\"\n",
       "  180.612,1060.18 1552.76,1060.18 \n",
       "  \"/>\n",
       "<polyline clip-path=\"url(#clip5102)\" style=\"stroke:#000000; stroke-width:2; stroke-opacity:0.1; fill:none\" points=\"\n",
       "  180.612,884.03 1552.76,884.03 \n",
       "  \"/>\n",
       "<polyline clip-path=\"url(#clip5102)\" style=\"stroke:#000000; stroke-width:2; stroke-opacity:0.1; fill:none\" points=\"\n",
       "  180.612,707.878 1552.76,707.878 \n",
       "  \"/>\n",
       "<polyline clip-path=\"url(#clip5102)\" style=\"stroke:#000000; stroke-width:2; stroke-opacity:0.1; fill:none\" points=\"\n",
       "  180.612,531.727 1552.76,531.727 \n",
       "  \"/>\n",
       "<polyline clip-path=\"url(#clip5102)\" style=\"stroke:#000000; stroke-width:2; stroke-opacity:0.1; fill:none\" points=\"\n",
       "  180.612,355.575 1552.76,355.575 \n",
       "  \"/>\n",
       "<polyline clip-path=\"url(#clip5102)\" style=\"stroke:#000000; stroke-width:2; stroke-opacity:0.1; fill:none\" points=\"\n",
       "  180.612,179.423 1552.76,179.423 \n",
       "  \"/>\n",
       "<polyline clip-path=\"url(#clip5100)\" style=\"stroke:#000000; stroke-width:4; stroke-opacity:1; fill:none\" points=\"\n",
       "  180.612,1086.13 1552.76,1086.13 \n",
       "  \"/>\n",
       "<polyline clip-path=\"url(#clip5100)\" style=\"stroke:#000000; stroke-width:4; stroke-opacity:1; fill:none\" points=\"\n",
       "  180.612,1086.13 180.612,47.2441 \n",
       "  \"/>\n",
       "<polyline clip-path=\"url(#clip5100)\" style=\"stroke:#000000; stroke-width:4; stroke-opacity:1; fill:none\" points=\"\n",
       "  219.446,1086.13 219.446,1073.66 \n",
       "  \"/>\n",
       "<polyline clip-path=\"url(#clip5100)\" style=\"stroke:#000000; stroke-width:4; stroke-opacity:1; fill:none\" points=\"\n",
       "  478.341,1086.13 478.341,1073.66 \n",
       "  \"/>\n",
       "<polyline clip-path=\"url(#clip5100)\" style=\"stroke:#000000; stroke-width:4; stroke-opacity:1; fill:none\" points=\"\n",
       "  737.236,1086.13 737.236,1073.66 \n",
       "  \"/>\n",
       "<polyline clip-path=\"url(#clip5100)\" style=\"stroke:#000000; stroke-width:4; stroke-opacity:1; fill:none\" points=\"\n",
       "  996.131,1086.13 996.131,1073.66 \n",
       "  \"/>\n",
       "<polyline clip-path=\"url(#clip5100)\" style=\"stroke:#000000; stroke-width:4; stroke-opacity:1; fill:none\" points=\"\n",
       "  1255.03,1086.13 1255.03,1073.66 \n",
       "  \"/>\n",
       "<polyline clip-path=\"url(#clip5100)\" style=\"stroke:#000000; stroke-width:4; stroke-opacity:1; fill:none\" points=\"\n",
       "  1513.92,1086.13 1513.92,1073.66 \n",
       "  \"/>\n",
       "<polyline clip-path=\"url(#clip5100)\" style=\"stroke:#000000; stroke-width:4; stroke-opacity:1; fill:none\" points=\"\n",
       "  180.612,1060.18 197.078,1060.18 \n",
       "  \"/>\n",
       "<polyline clip-path=\"url(#clip5100)\" style=\"stroke:#000000; stroke-width:4; stroke-opacity:1; fill:none\" points=\"\n",
       "  180.612,884.03 197.078,884.03 \n",
       "  \"/>\n",
       "<polyline clip-path=\"url(#clip5100)\" style=\"stroke:#000000; stroke-width:4; stroke-opacity:1; fill:none\" points=\"\n",
       "  180.612,707.878 197.078,707.878 \n",
       "  \"/>\n",
       "<polyline clip-path=\"url(#clip5100)\" style=\"stroke:#000000; stroke-width:4; stroke-opacity:1; fill:none\" points=\"\n",
       "  180.612,531.727 197.078,531.727 \n",
       "  \"/>\n",
       "<polyline clip-path=\"url(#clip5100)\" style=\"stroke:#000000; stroke-width:4; stroke-opacity:1; fill:none\" points=\"\n",
       "  180.612,355.575 197.078,355.575 \n",
       "  \"/>\n",
       "<polyline clip-path=\"url(#clip5100)\" style=\"stroke:#000000; stroke-width:4; stroke-opacity:1; fill:none\" points=\"\n",
       "  180.612,179.423 197.078,179.423 \n",
       "  \"/>\n",
       "<path clip-path=\"url(#clip5100)\" d=\"M 0 0 M200.314 1120.72 L212.791 1120.72 L212.791 1124.51 L200.314 1124.51 L200.314 1120.72 Z\" fill=\"#000000\" fill-rule=\"evenodd\" fill-opacity=\"1\" /><path clip-path=\"url(#clip5100)\" d=\"M 0 0 M218.671 1131.66 L226.31 1131.66 L226.31 1105.3 L217.999 1106.97 L217.999 1102.71 L226.263 1101.04 L230.939 1101.04 L230.939 1131.66 L238.578 1131.66 L238.578 1135.6 L218.671 1135.6 L218.671 1131.66 Z\" fill=\"#000000\" fill-rule=\"evenodd\" fill-opacity=\"1\" /><path clip-path=\"url(#clip5100)\" d=\"M 0 0 M478.341 1104.12 Q474.73 1104.12 472.902 1107.68 Q471.096 1111.23 471.096 1118.35 Q471.096 1125.46 472.902 1129.03 Q474.73 1132.57 478.341 1132.57 Q481.976 1132.57 483.781 1129.03 Q485.61 1125.46 485.61 1118.35 Q485.61 1111.23 483.781 1107.68 Q481.976 1104.12 478.341 1104.12 M478.341 1100.41 Q484.151 1100.41 487.207 1105.02 Q490.286 1109.6 490.286 1118.35 Q490.286 1127.08 487.207 1131.69 Q484.151 1136.27 478.341 1136.27 Q472.531 1136.27 469.452 1131.69 Q466.397 1127.08 466.397 1118.35 Q466.397 1109.6 469.452 1105.02 Q472.531 1100.41 478.341 1100.41 Z\" fill=\"#000000\" fill-rule=\"evenodd\" fill-opacity=\"1\" /><path clip-path=\"url(#clip5100)\" d=\"M 0 0 M727.618 1131.66 L735.257 1131.66 L735.257 1105.3 L726.947 1106.97 L726.947 1102.71 L735.211 1101.04 L739.887 1101.04 L739.887 1131.66 L747.526 1131.66 L747.526 1135.6 L727.618 1135.6 L727.618 1131.66 Z\" fill=\"#000000\" fill-rule=\"evenodd\" fill-opacity=\"1\" /><path clip-path=\"url(#clip5100)\" d=\"M 0 0 M990.784 1131.66 L1007.1 1131.66 L1007.1 1135.6 L985.159 1135.6 L985.159 1131.66 Q987.821 1128.91 992.405 1124.28 Q997.011 1119.63 998.192 1118.29 Q1000.44 1115.76 1001.32 1114.03 Q1002.22 1112.27 1002.22 1110.58 Q1002.22 1107.82 1000.27 1106.09 Q998.354 1104.35 995.252 1104.35 Q993.053 1104.35 990.599 1105.11 Q988.169 1105.88 985.391 1107.43 L985.391 1102.71 Q988.215 1101.57 990.669 1100.99 Q993.122 1100.41 995.159 1100.41 Q1000.53 1100.41 1003.72 1103.1 Q1006.92 1105.79 1006.92 1110.28 Q1006.92 1112.41 1006.11 1114.33 Q1005.32 1116.22 1003.21 1118.82 Q1002.64 1119.49 999.534 1122.71 Q996.432 1125.9 990.784 1131.66 Z\" fill=\"#000000\" fill-rule=\"evenodd\" fill-opacity=\"1\" /><path clip-path=\"url(#clip5100)\" d=\"M 0 0 M1259.27 1116.97 Q1262.63 1117.68 1264.51 1119.95 Q1266.4 1122.22 1266.4 1125.55 Q1266.4 1130.67 1262.89 1133.47 Q1259.37 1136.27 1252.89 1136.27 Q1250.71 1136.27 1248.39 1135.83 Q1246.1 1135.41 1243.65 1134.56 L1243.65 1130.04 Q1245.59 1131.18 1247.91 1131.76 Q1250.22 1132.34 1252.75 1132.34 Q1257.14 1132.34 1259.44 1130.6 Q1261.75 1128.86 1261.75 1125.55 Q1261.75 1122.5 1259.6 1120.79 Q1257.47 1119.05 1253.65 1119.05 L1249.62 1119.05 L1249.62 1115.21 L1253.83 1115.21 Q1257.28 1115.21 1259.11 1113.84 Q1260.94 1112.45 1260.94 1109.86 Q1260.94 1107.2 1259.04 1105.79 Q1257.17 1104.35 1253.65 1104.35 Q1251.73 1104.35 1249.53 1104.77 Q1247.33 1105.18 1244.69 1106.06 L1244.69 1101.9 Q1247.35 1101.16 1249.67 1100.79 Q1252.01 1100.41 1254.07 1100.41 Q1259.39 1100.41 1262.49 1102.85 Q1265.59 1105.25 1265.59 1109.37 Q1265.59 1112.24 1263.95 1114.23 Q1262.31 1116.2 1259.27 1116.97 Z\" fill=\"#000000\" fill-rule=\"evenodd\" fill-opacity=\"1\" /><path clip-path=\"url(#clip5100)\" d=\"M 0 0 M1516.93 1105.11 L1505.13 1123.56 L1516.93 1123.56 L1516.93 1105.11 M1515.7 1101.04 L1521.58 1101.04 L1521.58 1123.56 L1526.51 1123.56 L1526.51 1127.45 L1521.58 1127.45 L1521.58 1135.6 L1516.93 1135.6 L1516.93 1127.45 L1501.33 1127.45 L1501.33 1122.94 L1515.7 1101.04 Z\" fill=\"#000000\" fill-rule=\"evenodd\" fill-opacity=\"1\" /><path clip-path=\"url(#clip5100)\" d=\"M 0 0 M152.668 1045.98 Q149.056 1045.98 147.228 1049.55 Q145.422 1053.09 145.422 1060.22 Q145.422 1067.32 147.228 1070.89 Q149.056 1074.43 152.668 1074.43 Q156.302 1074.43 158.107 1070.89 Q159.936 1067.32 159.936 1060.22 Q159.936 1053.09 158.107 1049.55 Q156.302 1045.98 152.668 1045.98 M152.668 1042.28 Q158.478 1042.28 161.533 1046.88 Q164.612 1051.47 164.612 1060.22 Q164.612 1068.94 161.533 1073.55 Q158.478 1078.13 152.668 1078.13 Q146.857 1078.13 143.779 1073.55 Q140.723 1068.94 140.723 1060.22 Q140.723 1051.47 143.779 1046.88 Q146.857 1042.28 152.668 1042.28 Z\" fill=\"#000000\" fill-rule=\"evenodd\" fill-opacity=\"1\" /><path clip-path=\"url(#clip5100)\" d=\"M 0 0 M95.2605 897.375 L111.58 897.375 L111.58 901.31 L89.6355 901.31 L89.6355 897.375 Q92.2975 894.62 96.8808 889.991 Q101.487 885.338 102.668 883.995 Q104.913 881.472 105.793 879.736 Q106.696 877.977 106.696 876.287 Q106.696 873.532 104.751 871.796 Q102.83 870.06 99.728 870.06 Q97.529 870.06 95.0753 870.824 Q92.6447 871.588 89.867 873.139 L89.867 868.417 Q92.691 867.283 95.1447 866.704 Q97.5984 866.125 99.6354 866.125 Q105.006 866.125 108.2 868.81 Q111.395 871.495 111.395 875.986 Q111.395 878.116 110.584 880.037 Q109.797 881.935 107.691 884.528 Q107.112 885.199 104.01 888.417 Q100.909 891.611 95.2605 897.375 Z\" fill=\"#000000\" fill-rule=\"evenodd\" fill-opacity=\"1\" /><path clip-path=\"url(#clip5100)\" d=\"M 0 0 M116.696 866.75 L135.052 866.75 L135.052 870.685 L120.978 870.685 L120.978 879.157 Q121.996 878.81 123.015 878.648 Q124.033 878.463 125.052 878.463 Q130.839 878.463 134.219 881.634 Q137.598 884.806 137.598 890.222 Q137.598 895.801 134.126 898.903 Q130.654 901.981 124.334 901.981 Q122.158 901.981 119.89 901.611 Q117.645 901.241 115.237 900.5 L115.237 895.801 Q117.321 896.935 119.543 897.491 Q121.765 898.046 124.242 898.046 Q128.246 898.046 130.584 895.94 Q132.922 893.833 132.922 890.222 Q132.922 886.611 130.584 884.505 Q128.246 882.398 124.242 882.398 Q122.367 882.398 120.492 882.815 Q118.64 883.231 116.696 884.111 L116.696 866.75 Z\" fill=\"#000000\" fill-rule=\"evenodd\" fill-opacity=\"1\" /><path clip-path=\"url(#clip5100)\" d=\"M 0 0 M152.668 869.829 Q149.056 869.829 147.228 873.394 Q145.422 876.935 145.422 884.065 Q145.422 891.171 147.228 894.736 Q149.056 898.278 152.668 898.278 Q156.302 898.278 158.107 894.736 Q159.936 891.171 159.936 884.065 Q159.936 876.935 158.107 873.394 Q156.302 869.829 152.668 869.829 M152.668 866.125 Q158.478 866.125 161.533 870.732 Q164.612 875.315 164.612 884.065 Q164.612 892.792 161.533 897.398 Q158.478 901.981 152.668 901.981 Q146.857 901.981 143.779 897.398 Q140.723 892.792 140.723 884.065 Q140.723 875.315 143.779 870.732 Q146.857 866.125 152.668 866.125 Z\" fill=\"#000000\" fill-rule=\"evenodd\" fill-opacity=\"1\" /><path clip-path=\"url(#clip5100)\" d=\"M 0 0 M89.6818 690.598 L108.038 690.598 L108.038 694.534 L93.9642 694.534 L93.9642 703.006 Q94.9827 702.658 96.0012 702.496 Q97.0197 702.311 98.0382 702.311 Q103.825 702.311 107.205 705.483 Q110.584 708.654 110.584 714.07 Q110.584 719.649 107.112 722.751 Q103.64 725.83 97.3206 725.83 Q95.1447 725.83 92.8762 725.459 Q90.6309 725.089 88.2235 724.348 L88.2235 719.649 Q90.3068 720.783 92.529 721.339 Q94.7512 721.894 97.2281 721.894 Q101.233 721.894 103.571 719.788 Q105.909 717.682 105.909 714.07 Q105.909 710.459 103.571 708.353 Q101.233 706.246 97.2281 706.246 Q95.3531 706.246 93.4781 706.663 Q91.6262 707.08 89.6818 707.959 L89.6818 690.598 Z\" fill=\"#000000\" fill-rule=\"evenodd\" fill-opacity=\"1\" /><path clip-path=\"url(#clip5100)\" d=\"M 0 0 M125.654 693.677 Q122.043 693.677 120.214 697.242 Q118.408 700.783 118.408 707.913 Q118.408 715.02 120.214 718.584 Q122.043 722.126 125.654 722.126 Q129.288 722.126 131.094 718.584 Q132.922 715.02 132.922 707.913 Q132.922 700.783 131.094 697.242 Q129.288 693.677 125.654 693.677 M125.654 689.973 Q131.464 689.973 134.52 694.58 Q137.598 699.163 137.598 707.913 Q137.598 716.64 134.52 721.246 Q131.464 725.83 125.654 725.83 Q119.844 725.83 116.765 721.246 Q113.709 716.64 113.709 707.913 Q113.709 699.163 116.765 694.58 Q119.844 689.973 125.654 689.973 Z\" fill=\"#000000\" fill-rule=\"evenodd\" fill-opacity=\"1\" /><path clip-path=\"url(#clip5100)\" d=\"M 0 0 M152.668 693.677 Q149.056 693.677 147.228 697.242 Q145.422 700.783 145.422 707.913 Q145.422 715.02 147.228 718.584 Q149.056 722.126 152.668 722.126 Q156.302 722.126 158.107 718.584 Q159.936 715.02 159.936 707.913 Q159.936 700.783 158.107 697.242 Q156.302 693.677 152.668 693.677 M152.668 689.973 Q158.478 689.973 161.533 694.58 Q164.612 699.163 164.612 707.913 Q164.612 716.64 161.533 721.246 Q158.478 725.83 152.668 725.83 Q146.857 725.83 143.779 721.246 Q140.723 716.64 140.723 707.913 Q140.723 699.163 143.779 694.58 Q146.857 689.973 152.668 689.973 Z\" fill=\"#000000\" fill-rule=\"evenodd\" fill-opacity=\"1\" /><path clip-path=\"url(#clip5100)\" d=\"M 0 0 M89.3577 514.447 L111.58 514.447 L111.58 516.437 L99.0336 549.007 L94.1494 549.007 L105.955 518.382 L89.3577 518.382 L89.3577 514.447 Z\" fill=\"#000000\" fill-rule=\"evenodd\" fill-opacity=\"1\" /><path clip-path=\"url(#clip5100)\" d=\"M 0 0 M116.696 514.447 L135.052 514.447 L135.052 518.382 L120.978 518.382 L120.978 526.854 Q121.996 526.507 123.015 526.345 Q124.033 526.159 125.052 526.159 Q130.839 526.159 134.219 529.331 Q137.598 532.502 137.598 537.919 Q137.598 543.497 134.126 546.599 Q130.654 549.678 124.334 549.678 Q122.158 549.678 119.89 549.308 Q117.645 548.937 115.237 548.196 L115.237 543.497 Q117.321 544.632 119.543 545.187 Q121.765 545.743 124.242 545.743 Q128.246 545.743 130.584 543.636 Q132.922 541.53 132.922 537.919 Q132.922 534.308 130.584 532.201 Q128.246 530.095 124.242 530.095 Q122.367 530.095 120.492 530.511 Q118.64 530.928 116.696 531.808 L116.696 514.447 Z\" fill=\"#000000\" fill-rule=\"evenodd\" fill-opacity=\"1\" /><path clip-path=\"url(#clip5100)\" d=\"M 0 0 M152.668 517.525 Q149.056 517.525 147.228 521.09 Q145.422 524.632 145.422 531.761 Q145.422 538.868 147.228 542.433 Q149.056 545.974 152.668 545.974 Q156.302 545.974 158.107 542.433 Q159.936 538.868 159.936 531.761 Q159.936 524.632 158.107 521.09 Q156.302 517.525 152.668 517.525 M152.668 513.822 Q158.478 513.822 161.533 518.428 Q164.612 523.011 164.612 531.761 Q164.612 540.488 161.533 545.095 Q158.478 549.678 152.668 549.678 Q146.857 549.678 143.779 545.095 Q140.723 540.488 140.723 531.761 Q140.723 523.011 143.779 518.428 Q146.857 513.822 152.668 513.822 Z\" fill=\"#000000\" fill-rule=\"evenodd\" fill-opacity=\"1\" /><path clip-path=\"url(#clip5100)\" d=\"M 0 0 M63.6634 368.92 L71.3023 368.92 L71.3023 342.554 L62.9921 344.221 L62.9921 339.961 L71.256 338.295 L75.9319 338.295 L75.9319 368.92 L83.5707 368.92 L83.5707 372.855 L63.6634 372.855 L63.6634 368.92 Z\" fill=\"#000000\" fill-rule=\"evenodd\" fill-opacity=\"1\" /><path clip-path=\"url(#clip5100)\" d=\"M 0 0 M98.6401 341.374 Q95.029 341.374 93.2003 344.938 Q91.3948 348.48 91.3948 355.61 Q91.3948 362.716 93.2003 366.281 Q95.029 369.822 98.6401 369.822 Q102.274 369.822 104.08 366.281 Q105.909 362.716 105.909 355.61 Q105.909 348.48 104.08 344.938 Q102.274 341.374 98.6401 341.374 M98.6401 337.67 Q104.45 337.67 107.506 342.276 Q110.584 346.86 110.584 355.61 Q110.584 364.336 107.506 368.943 Q104.45 373.526 98.6401 373.526 Q92.8299 373.526 89.7512 368.943 Q86.6957 364.336 86.6957 355.61 Q86.6957 346.86 89.7512 342.276 Q92.8299 337.67 98.6401 337.67 Z\" fill=\"#000000\" fill-rule=\"evenodd\" fill-opacity=\"1\" /><path clip-path=\"url(#clip5100)\" d=\"M 0 0 M125.654 341.374 Q122.043 341.374 120.214 344.938 Q118.408 348.48 118.408 355.61 Q118.408 362.716 120.214 366.281 Q122.043 369.822 125.654 369.822 Q129.288 369.822 131.094 366.281 Q132.922 362.716 132.922 355.61 Q132.922 348.48 131.094 344.938 Q129.288 341.374 125.654 341.374 M125.654 337.67 Q131.464 337.67 134.52 342.276 Q137.598 346.86 137.598 355.61 Q137.598 364.336 134.52 368.943 Q131.464 373.526 125.654 373.526 Q119.844 373.526 116.765 368.943 Q113.709 364.336 113.709 355.61 Q113.709 346.86 116.765 342.276 Q119.844 337.67 125.654 337.67 Z\" fill=\"#000000\" fill-rule=\"evenodd\" fill-opacity=\"1\" /><path clip-path=\"url(#clip5100)\" d=\"M 0 0 M152.668 341.374 Q149.056 341.374 147.228 344.938 Q145.422 348.48 145.422 355.61 Q145.422 362.716 147.228 366.281 Q149.056 369.822 152.668 369.822 Q156.302 369.822 158.107 366.281 Q159.936 362.716 159.936 355.61 Q159.936 348.48 158.107 344.938 Q156.302 341.374 152.668 341.374 M152.668 337.67 Q158.478 337.67 161.533 342.276 Q164.612 346.86 164.612 355.61 Q164.612 364.336 161.533 368.943 Q158.478 373.526 152.668 373.526 Q146.857 373.526 143.779 368.943 Q140.723 364.336 140.723 355.61 Q140.723 346.86 143.779 342.276 Q146.857 337.67 152.668 337.67 Z\" fill=\"#000000\" fill-rule=\"evenodd\" fill-opacity=\"1\" /><path clip-path=\"url(#clip5100)\" d=\"M 0 0 M66.256 192.768 L73.8948 192.768 L73.8948 166.402 L65.5847 168.069 L65.5847 163.81 L73.8485 162.143 L78.5245 162.143 L78.5245 192.768 L86.1633 192.768 L86.1633 196.703 L66.256 196.703 L66.256 192.768 Z\" fill=\"#000000\" fill-rule=\"evenodd\" fill-opacity=\"1\" /><path clip-path=\"url(#clip5100)\" d=\"M 0 0 M95.2605 192.768 L111.58 192.768 L111.58 196.703 L89.6355 196.703 L89.6355 192.768 Q92.2975 190.013 96.8808 185.384 Q101.487 180.731 102.668 179.388 Q104.913 176.865 105.793 175.129 Q106.696 173.37 106.696 171.68 Q106.696 168.925 104.751 167.189 Q102.83 165.453 99.728 165.453 Q97.529 165.453 95.0753 166.217 Q92.6447 166.981 89.867 168.532 L89.867 163.81 Q92.691 162.675 95.1447 162.097 Q97.5984 161.518 99.6354 161.518 Q105.006 161.518 108.2 164.203 Q111.395 166.888 111.395 171.379 Q111.395 173.509 110.584 175.43 Q109.797 177.328 107.691 179.921 Q107.112 180.592 104.01 183.81 Q100.909 187.004 95.2605 192.768 Z\" fill=\"#000000\" fill-rule=\"evenodd\" fill-opacity=\"1\" /><path clip-path=\"url(#clip5100)\" d=\"M 0 0 M116.696 162.143 L135.052 162.143 L135.052 166.078 L120.978 166.078 L120.978 174.55 Q121.996 174.203 123.015 174.041 Q124.033 173.856 125.052 173.856 Q130.839 173.856 134.219 177.027 Q137.598 180.199 137.598 185.615 Q137.598 191.194 134.126 194.296 Q130.654 197.374 124.334 197.374 Q122.158 197.374 119.89 197.004 Q117.645 196.634 115.237 195.893 L115.237 191.194 Q117.321 192.328 119.543 192.884 Q121.765 193.439 124.242 193.439 Q128.246 193.439 130.584 191.333 Q132.922 189.226 132.922 185.615 Q132.922 182.004 130.584 179.898 Q128.246 177.791 124.242 177.791 Q122.367 177.791 120.492 178.208 Q118.64 178.624 116.696 179.504 L116.696 162.143 Z\" fill=\"#000000\" fill-rule=\"evenodd\" fill-opacity=\"1\" /><path clip-path=\"url(#clip5100)\" d=\"M 0 0 M152.668 165.222 Q149.056 165.222 147.228 168.787 Q145.422 172.328 145.422 179.458 Q145.422 186.564 147.228 190.129 Q149.056 193.671 152.668 193.671 Q156.302 193.671 158.107 190.129 Q159.936 186.564 159.936 179.458 Q159.936 172.328 158.107 168.787 Q156.302 165.222 152.668 165.222 M152.668 161.518 Q158.478 161.518 161.533 166.125 Q164.612 170.708 164.612 179.458 Q164.612 188.185 161.533 192.791 Q158.478 197.374 152.668 197.374 Q146.857 197.374 143.779 192.791 Q140.723 188.185 140.723 179.458 Q140.723 170.708 143.779 166.125 Q146.857 161.518 152.668 161.518 Z\" fill=\"#000000\" fill-rule=\"evenodd\" fill-opacity=\"1\" /><circle clip-path=\"url(#clip5102)\" cx=\"219.446\" cy=\"1056.47\" r=\"14\" fill=\"#009af9\" fill-rule=\"evenodd\" fill-opacity=\"1\" stroke=\"#000000\" stroke-opacity=\"1\" stroke-width=\"2.4\"/>\n",
       "<circle clip-path=\"url(#clip5102)\" cx=\"264.083\" cy=\"1055.42\" r=\"14\" fill=\"#009af9\" fill-rule=\"evenodd\" fill-opacity=\"1\" stroke=\"#000000\" stroke-opacity=\"1\" stroke-width=\"2.4\"/>\n",
       "<circle clip-path=\"url(#clip5102)\" cx=\"308.72\" cy=\"1052.35\" r=\"14\" fill=\"#009af9\" fill-rule=\"evenodd\" fill-opacity=\"1\" stroke=\"#000000\" stroke-opacity=\"1\" stroke-width=\"2.4\"/>\n",
       "<circle clip-path=\"url(#clip5102)\" cx=\"353.357\" cy=\"1049.93\" r=\"14\" fill=\"#009af9\" fill-rule=\"evenodd\" fill-opacity=\"1\" stroke=\"#000000\" stroke-opacity=\"1\" stroke-width=\"2.4\"/>\n",
       "<circle clip-path=\"url(#clip5102)\" cx=\"397.995\" cy=\"1047.11\" r=\"14\" fill=\"#009af9\" fill-rule=\"evenodd\" fill-opacity=\"1\" stroke=\"#000000\" stroke-opacity=\"1\" stroke-width=\"2.4\"/>\n",
       "<circle clip-path=\"url(#clip5102)\" cx=\"442.632\" cy=\"1042.64\" r=\"14\" fill=\"#009af9\" fill-rule=\"evenodd\" fill-opacity=\"1\" stroke=\"#000000\" stroke-opacity=\"1\" stroke-width=\"2.4\"/>\n",
       "<circle clip-path=\"url(#clip5102)\" cx=\"487.269\" cy=\"1036.07\" r=\"14\" fill=\"#009af9\" fill-rule=\"evenodd\" fill-opacity=\"1\" stroke=\"#000000\" stroke-opacity=\"1\" stroke-width=\"2.4\"/>\n",
       "<circle clip-path=\"url(#clip5102)\" cx=\"531.906\" cy=\"1028.88\" r=\"14\" fill=\"#009af9\" fill-rule=\"evenodd\" fill-opacity=\"1\" stroke=\"#000000\" stroke-opacity=\"1\" stroke-width=\"2.4\"/>\n",
       "<circle clip-path=\"url(#clip5102)\" cx=\"576.543\" cy=\"1022.65\" r=\"14\" fill=\"#009af9\" fill-rule=\"evenodd\" fill-opacity=\"1\" stroke=\"#000000\" stroke-opacity=\"1\" stroke-width=\"2.4\"/>\n",
       "<circle clip-path=\"url(#clip5102)\" cx=\"621.18\" cy=\"1019.15\" r=\"14\" fill=\"#009af9\" fill-rule=\"evenodd\" fill-opacity=\"1\" stroke=\"#000000\" stroke-opacity=\"1\" stroke-width=\"2.4\"/>\n",
       "<circle clip-path=\"url(#clip5102)\" cx=\"665.817\" cy=\"1000.57\" r=\"14\" fill=\"#009af9\" fill-rule=\"evenodd\" fill-opacity=\"1\" stroke=\"#000000\" stroke-opacity=\"1\" stroke-width=\"2.4\"/>\n",
       "<circle clip-path=\"url(#clip5102)\" cx=\"710.454\" cy=\"982.006\" r=\"14\" fill=\"#009af9\" fill-rule=\"evenodd\" fill-opacity=\"1\" stroke=\"#000000\" stroke-opacity=\"1\" stroke-width=\"2.4\"/>\n",
       "<circle clip-path=\"url(#clip5102)\" cx=\"755.091\" cy=\"951.646\" r=\"14\" fill=\"#009af9\" fill-rule=\"evenodd\" fill-opacity=\"1\" stroke=\"#000000\" stroke-opacity=\"1\" stroke-width=\"2.4\"/>\n",
       "<circle clip-path=\"url(#clip5102)\" cx=\"799.728\" cy=\"943.514\" r=\"14\" fill=\"#009af9\" fill-rule=\"evenodd\" fill-opacity=\"1\" stroke=\"#000000\" stroke-opacity=\"1\" stroke-width=\"2.4\"/>\n",
       "<circle clip-path=\"url(#clip5102)\" cx=\"844.365\" cy=\"880.867\" r=\"14\" fill=\"#009af9\" fill-rule=\"evenodd\" fill-opacity=\"1\" stroke=\"#000000\" stroke-opacity=\"1\" stroke-width=\"2.4\"/>\n",
       "<circle clip-path=\"url(#clip5102)\" cx=\"889.002\" cy=\"860.779\" r=\"14\" fill=\"#009af9\" fill-rule=\"evenodd\" fill-opacity=\"1\" stroke=\"#000000\" stroke-opacity=\"1\" stroke-width=\"2.4\"/>\n",
       "<circle clip-path=\"url(#clip5102)\" cx=\"933.64\" cy=\"807.735\" r=\"14\" fill=\"#009af9\" fill-rule=\"evenodd\" fill-opacity=\"1\" stroke=\"#000000\" stroke-opacity=\"1\" stroke-width=\"2.4\"/>\n",
       "<circle clip-path=\"url(#clip5102)\" cx=\"978.277\" cy=\"769.832\" r=\"14\" fill=\"#009af9\" fill-rule=\"evenodd\" fill-opacity=\"1\" stroke=\"#000000\" stroke-opacity=\"1\" stroke-width=\"2.4\"/>\n",
       "<circle clip-path=\"url(#clip5102)\" cx=\"1022.91\" cy=\"715.278\" r=\"14\" fill=\"#009af9\" fill-rule=\"evenodd\" fill-opacity=\"1\" stroke=\"#000000\" stroke-opacity=\"1\" stroke-width=\"2.4\"/>\n",
       "<circle clip-path=\"url(#clip5102)\" cx=\"1067.55\" cy=\"633.216\" r=\"14\" fill=\"#009af9\" fill-rule=\"evenodd\" fill-opacity=\"1\" stroke=\"#000000\" stroke-opacity=\"1\" stroke-width=\"2.4\"/>\n",
       "<circle clip-path=\"url(#clip5102)\" cx=\"1112.19\" cy=\"537.949\" r=\"14\" fill=\"#009af9\" fill-rule=\"evenodd\" fill-opacity=\"1\" stroke=\"#000000\" stroke-opacity=\"1\" stroke-width=\"2.4\"/>\n",
       "<circle clip-path=\"url(#clip5102)\" cx=\"1156.82\" cy=\"433.941\" r=\"14\" fill=\"#009af9\" fill-rule=\"evenodd\" fill-opacity=\"1\" stroke=\"#000000\" stroke-opacity=\"1\" stroke-width=\"2.4\"/>\n",
       "<circle clip-path=\"url(#clip5102)\" cx=\"1201.46\" cy=\"386.769\" r=\"14\" fill=\"#009af9\" fill-rule=\"evenodd\" fill-opacity=\"1\" stroke=\"#000000\" stroke-opacity=\"1\" stroke-width=\"2.4\"/>\n",
       "<circle clip-path=\"url(#clip5102)\" cx=\"1246.1\" cy=\"350.567\" r=\"14\" fill=\"#009af9\" fill-rule=\"evenodd\" fill-opacity=\"1\" stroke=\"#000000\" stroke-opacity=\"1\" stroke-width=\"2.4\"/>\n",
       "<circle clip-path=\"url(#clip5102)\" cx=\"1290.74\" cy=\"246.466\" r=\"14\" fill=\"#009af9\" fill-rule=\"evenodd\" fill-opacity=\"1\" stroke=\"#000000\" stroke-opacity=\"1\" stroke-width=\"2.4\"/>\n",
       "<circle clip-path=\"url(#clip5102)\" cx=\"1335.37\" cy=\"209.649\" r=\"14\" fill=\"#009af9\" fill-rule=\"evenodd\" fill-opacity=\"1\" stroke=\"#000000\" stroke-opacity=\"1\" stroke-width=\"2.4\"/>\n",
       "<circle clip-path=\"url(#clip5102)\" cx=\"1380.01\" cy=\"159.43\" r=\"14\" fill=\"#009af9\" fill-rule=\"evenodd\" fill-opacity=\"1\" stroke=\"#000000\" stroke-opacity=\"1\" stroke-width=\"2.4\"/>\n",
       "<circle clip-path=\"url(#clip5102)\" cx=\"1424.65\" cy=\"129.116\" r=\"14\" fill=\"#009af9\" fill-rule=\"evenodd\" fill-opacity=\"1\" stroke=\"#000000\" stroke-opacity=\"1\" stroke-width=\"2.4\"/>\n",
       "<circle clip-path=\"url(#clip5102)\" cx=\"1469.28\" cy=\"114.278\" r=\"14\" fill=\"#009af9\" fill-rule=\"evenodd\" fill-opacity=\"1\" stroke=\"#000000\" stroke-opacity=\"1\" stroke-width=\"2.4\"/>\n",
       "<circle clip-path=\"url(#clip5102)\" cx=\"1513.92\" cy=\"79.1635\" r=\"14\" fill=\"#009af9\" fill-rule=\"evenodd\" fill-opacity=\"1\" stroke=\"#000000\" stroke-opacity=\"1\" stroke-width=\"2.4\"/>\n",
       "<polyline clip-path=\"url(#clip5102)\" style=\"stroke:#ff0000; stroke-width:8; stroke-opacity:1; fill:none\" points=\"\n",
       "  219.446,1056.73 232.088,1056.44 348.978,1052.34 419.224,1047.97 478.616,1042.47 543.132,1033.71 602.611,1021.98 666.378,1003.89 740.259,972.914 773.087,954.669 \n",
       "  805.915,933.105 834.702,911.158 863.49,886.125 894.876,855.096 926.261,820.028 957.834,780.668 989.406,737.386 1059.22,629.962 1125.65,518.898 1194.72,404.403 \n",
       "  1252.86,316.198 1288.35,268.075 1323.84,224.964 1357.21,189.169 1390.57,157.891 1444.02,116.575 1497.47,84.7792 1505.7,80.6234 1513.92,76.6465 \n",
       "  \"/>\n",
       "</svg>\n"
      ]
     },
     "execution_count": 97,
     "metadata": {},
     "output_type": "execute_result"
    }
   ],
   "source": [
    "β = output.solution\n",
    "h(β, x) = β[3] / (1 + exp(-β[1] - β[2] * x))\n",
    "scatter(x, y, leg=false)\n",
    "plot!(x -> h(β, x), extrema(x)..., lw=2, c=:red)"
   ]
  },
  {
   "cell_type": "code",
   "execution_count": 103,
   "metadata": {},
   "outputs": [
    {
     "data": {
      "text/plain": [
       "MathOptNLSModel(Minimization problem logistic\n",
       "nvar = 3, ncon = 1 (0 linear)\n",
       ", NLSMeta(30, 3, [0.0, 0.0, 0.0], 90, 180), \"A JuMP.NLPEvaluator\", \"A JuMP.NLPEvaluator\", NLPModelsJuMP.LinearConstraints(Int64[], Int64[], Float64[]), NLSCounters(Counters(0, 0, 0, 0, 0, 0, 0, 0, 0, 0, 0), 0, 0, 0, 0, 0, 0, 0))"
      ]
     },
     "execution_count": 103,
     "metadata": {},
     "output_type": "execute_result"
    }
   ],
   "source": [
    "model = Model()\n",
    "\n",
    "@variable(model, β[1:3])\n",
    "\n",
    "@NLexpression(model, res[i=1:n], β[3] / (1 + exp(-β[1] - β[2] * x[i])) - y[i])\n",
    "@NLconstraint(model, β[1]^2 + β[2]^2 == 1.0)\n",
    "\n",
    "nls = MathOptNLSModel(model, res, name=\"logistic\")"
   ]
  },
  {
   "cell_type": "code",
   "execution_count": 104,
   "metadata": {},
   "outputs": [
    {
     "data": {
      "text/plain": [
       "1-element Array{Float64,1}:\n",
       " -1.0"
      ]
     },
     "execution_count": 104,
     "metadata": {},
     "output_type": "execute_result"
    }
   ],
   "source": [
    "cons(nls, nls.meta.x0)"
   ]
  },
  {
   "cell_type": "code",
   "execution_count": 105,
   "metadata": {},
   "outputs": [],
   "source": [
    "using CaNNOLeS\n",
    "# Constrained and NoNlinear Least Squares"
   ]
  },
  {
   "cell_type": "code",
   "execution_count": 107,
   "metadata": {},
   "outputs": [
    {
     "name": "stdout",
     "output_type": "stream",
     "text": [
      "Generic Execution stats\n",
      "  status: first-order stationary\n",
      "  objective value: 1.4287086867237806e6\n",
      "  primal feasibility: 4.899207040054421e-9\n",
      "  dual feasibility: 2.5797635316848755e-7\n",
      "  solution: [-0.7768420893887694  0.6296954605627217  1077.1508080598064]\n",
      "  iterations: -1\n",
      "  elapsed time: 0.0065081119537353516\n",
      "  solver specific:\n",
      "    nlinsolve: 43\n",
      "    nfact: 58\n",
      "    multipliers: [-576005.9291702554]\n",
      "    nbk: 7\n",
      "    internal_msg: \"\"\n"
     ]
    }
   ],
   "source": [
    "output = with_logger(NullLogger()) do\n",
    "    cannoles(nls)\n",
    "end\n",
    "print(output)"
   ]
  },
  {
   "cell_type": "markdown",
   "metadata": {},
   "source": [
    "**Thurber**\n",
    "\n",
    "https://www.itl.nist.gov/div898/strd/nls/data/thurber.shtml"
   ]
  },
  {
   "cell_type": "code",
   "execution_count": 108,
   "metadata": {},
   "outputs": [
    {
     "name": "stderr",
     "output_type": "stream",
     "text": [
      "┌ Info: Precompiling CSV [336ed68f-0bac-5ca0-87d4-7b16caf5d00b]\n",
      "└ @ Base loading.jl:1260\n"
     ]
    }
   ],
   "source": [
    "using CSV"
   ]
  },
  {
   "cell_type": "code",
   "execution_count": 110,
   "metadata": {},
   "outputs": [
    {
     "data": {
      "image/svg+xml": [
       "<?xml version=\"1.0\" encoding=\"utf-8\"?>\n",
       "<svg xmlns=\"http://www.w3.org/2000/svg\" xmlns:xlink=\"http://www.w3.org/1999/xlink\" width=\"400\" height=\"300\" viewBox=\"0 0 1600 1200\">\n",
       "<defs>\n",
       "  <clipPath id=\"clip5500\">\n",
       "    <rect x=\"0\" y=\"0\" width=\"1600\" height=\"1200\"/>\n",
       "  </clipPath>\n",
       "</defs>\n",
       "<path clip-path=\"url(#clip5500)\" d=\"\n",
       "M0 1200 L1600 1200 L1600 0 L0 0  Z\n",
       "  \" fill=\"#ffffff\" fill-rule=\"evenodd\" fill-opacity=\"1\"/>\n",
       "<defs>\n",
       "  <clipPath id=\"clip5501\">\n",
       "    <rect x=\"320\" y=\"0\" width=\"1121\" height=\"1121\"/>\n",
       "  </clipPath>\n",
       "</defs>\n",
       "<path clip-path=\"url(#clip5500)\" d=\"\n",
       "M181.098 1086.13 L1552.76 1086.13 L1552.76 47.2441 L181.098 47.2441  Z\n",
       "  \" fill=\"#ffffff\" fill-rule=\"evenodd\" fill-opacity=\"1\"/>\n",
       "<defs>\n",
       "  <clipPath id=\"clip5502\">\n",
       "    <rect x=\"181\" y=\"47\" width=\"1373\" height=\"1040\"/>\n",
       "  </clipPath>\n",
       "</defs>\n",
       "<polyline clip-path=\"url(#clip5502)\" style=\"stroke:#000000; stroke-width:2; stroke-opacity:0.1; fill:none\" points=\"\n",
       "  236.379,1086.13 236.379,47.2441 \n",
       "  \"/>\n",
       "<polyline clip-path=\"url(#clip5502)\" style=\"stroke:#000000; stroke-width:2; stroke-opacity:0.1; fill:none\" points=\"\n",
       "  482.063,1086.13 482.063,47.2441 \n",
       "  \"/>\n",
       "<polyline clip-path=\"url(#clip5502)\" style=\"stroke:#000000; stroke-width:2; stroke-opacity:0.1; fill:none\" points=\"\n",
       "  727.747,1086.13 727.747,47.2441 \n",
       "  \"/>\n",
       "<polyline clip-path=\"url(#clip5502)\" style=\"stroke:#000000; stroke-width:2; stroke-opacity:0.1; fill:none\" points=\"\n",
       "  973.431,1086.13 973.431,47.2441 \n",
       "  \"/>\n",
       "<polyline clip-path=\"url(#clip5502)\" style=\"stroke:#000000; stroke-width:2; stroke-opacity:0.1; fill:none\" points=\"\n",
       "  1219.11,1086.13 1219.11,47.2441 \n",
       "  \"/>\n",
       "<polyline clip-path=\"url(#clip5502)\" style=\"stroke:#000000; stroke-width:2; stroke-opacity:0.1; fill:none\" points=\"\n",
       "  1464.8,1086.13 1464.8,47.2441 \n",
       "  \"/>\n",
       "<polyline clip-path=\"url(#clip5502)\" style=\"stroke:#000000; stroke-width:2; stroke-opacity:0.1; fill:none\" points=\"\n",
       "  181.098,972.406 1552.76,972.406 \n",
       "  \"/>\n",
       "<polyline clip-path=\"url(#clip5502)\" style=\"stroke:#000000; stroke-width:2; stroke-opacity:0.1; fill:none\" points=\"\n",
       "  181.098,831.197 1552.76,831.197 \n",
       "  \"/>\n",
       "<polyline clip-path=\"url(#clip5502)\" style=\"stroke:#000000; stroke-width:2; stroke-opacity:0.1; fill:none\" points=\"\n",
       "  181.098,689.989 1552.76,689.989 \n",
       "  \"/>\n",
       "<polyline clip-path=\"url(#clip5502)\" style=\"stroke:#000000; stroke-width:2; stroke-opacity:0.1; fill:none\" points=\"\n",
       "  181.098,548.78 1552.76,548.78 \n",
       "  \"/>\n",
       "<polyline clip-path=\"url(#clip5502)\" style=\"stroke:#000000; stroke-width:2; stroke-opacity:0.1; fill:none\" points=\"\n",
       "  181.098,407.572 1552.76,407.572 \n",
       "  \"/>\n",
       "<polyline clip-path=\"url(#clip5502)\" style=\"stroke:#000000; stroke-width:2; stroke-opacity:0.1; fill:none\" points=\"\n",
       "  181.098,266.364 1552.76,266.364 \n",
       "  \"/>\n",
       "<polyline clip-path=\"url(#clip5502)\" style=\"stroke:#000000; stroke-width:2; stroke-opacity:0.1; fill:none\" points=\"\n",
       "  181.098,125.155 1552.76,125.155 \n",
       "  \"/>\n",
       "<polyline clip-path=\"url(#clip5500)\" style=\"stroke:#000000; stroke-width:4; stroke-opacity:1; fill:none\" points=\"\n",
       "  181.098,1086.13 1552.76,1086.13 \n",
       "  \"/>\n",
       "<polyline clip-path=\"url(#clip5500)\" style=\"stroke:#000000; stroke-width:4; stroke-opacity:1; fill:none\" points=\"\n",
       "  181.098,1086.13 181.098,47.2441 \n",
       "  \"/>\n",
       "<polyline clip-path=\"url(#clip5500)\" style=\"stroke:#000000; stroke-width:4; stroke-opacity:1; fill:none\" points=\"\n",
       "  236.379,1086.13 236.379,1073.66 \n",
       "  \"/>\n",
       "<polyline clip-path=\"url(#clip5500)\" style=\"stroke:#000000; stroke-width:4; stroke-opacity:1; fill:none\" points=\"\n",
       "  482.063,1086.13 482.063,1073.66 \n",
       "  \"/>\n",
       "<polyline clip-path=\"url(#clip5500)\" style=\"stroke:#000000; stroke-width:4; stroke-opacity:1; fill:none\" points=\"\n",
       "  727.747,1086.13 727.747,1073.66 \n",
       "  \"/>\n",
       "<polyline clip-path=\"url(#clip5500)\" style=\"stroke:#000000; stroke-width:4; stroke-opacity:1; fill:none\" points=\"\n",
       "  973.431,1086.13 973.431,1073.66 \n",
       "  \"/>\n",
       "<polyline clip-path=\"url(#clip5500)\" style=\"stroke:#000000; stroke-width:4; stroke-opacity:1; fill:none\" points=\"\n",
       "  1219.11,1086.13 1219.11,1073.66 \n",
       "  \"/>\n",
       "<polyline clip-path=\"url(#clip5500)\" style=\"stroke:#000000; stroke-width:4; stroke-opacity:1; fill:none\" points=\"\n",
       "  1464.8,1086.13 1464.8,1073.66 \n",
       "  \"/>\n",
       "<polyline clip-path=\"url(#clip5500)\" style=\"stroke:#000000; stroke-width:4; stroke-opacity:1; fill:none\" points=\"\n",
       "  181.098,972.406 197.558,972.406 \n",
       "  \"/>\n",
       "<polyline clip-path=\"url(#clip5500)\" style=\"stroke:#000000; stroke-width:4; stroke-opacity:1; fill:none\" points=\"\n",
       "  181.098,831.197 197.558,831.197 \n",
       "  \"/>\n",
       "<polyline clip-path=\"url(#clip5500)\" style=\"stroke:#000000; stroke-width:4; stroke-opacity:1; fill:none\" points=\"\n",
       "  181.098,689.989 197.558,689.989 \n",
       "  \"/>\n",
       "<polyline clip-path=\"url(#clip5500)\" style=\"stroke:#000000; stroke-width:4; stroke-opacity:1; fill:none\" points=\"\n",
       "  181.098,548.78 197.558,548.78 \n",
       "  \"/>\n",
       "<polyline clip-path=\"url(#clip5500)\" style=\"stroke:#000000; stroke-width:4; stroke-opacity:1; fill:none\" points=\"\n",
       "  181.098,407.572 197.558,407.572 \n",
       "  \"/>\n",
       "<polyline clip-path=\"url(#clip5500)\" style=\"stroke:#000000; stroke-width:4; stroke-opacity:1; fill:none\" points=\"\n",
       "  181.098,266.364 197.558,266.364 \n",
       "  \"/>\n",
       "<polyline clip-path=\"url(#clip5500)\" style=\"stroke:#000000; stroke-width:4; stroke-opacity:1; fill:none\" points=\"\n",
       "  181.098,125.155 197.558,125.155 \n",
       "  \"/>\n",
       "<path clip-path=\"url(#clip5500)\" d=\"M 0 0 M216.958 1120.72 L229.435 1120.72 L229.435 1124.51 L216.958 1124.51 L216.958 1120.72 Z\" fill=\"#000000\" fill-rule=\"evenodd\" fill-opacity=\"1\" /><path clip-path=\"url(#clip5500)\" d=\"M 0 0 M248.671 1116.97 Q252.027 1117.68 253.902 1119.95 Q255.801 1122.22 255.801 1125.55 Q255.801 1130.67 252.282 1133.47 Q248.764 1136.27 242.282 1136.27 Q240.106 1136.27 237.791 1135.83 Q235.5 1135.41 233.046 1134.56 L233.046 1130.04 Q234.991 1131.18 237.305 1131.76 Q239.62 1132.34 242.143 1132.34 Q246.541 1132.34 248.833 1130.6 Q251.148 1128.86 251.148 1125.55 Q251.148 1122.5 248.995 1120.79 Q246.865 1119.05 243.046 1119.05 L239.018 1119.05 L239.018 1115.21 L243.231 1115.21 Q246.68 1115.21 248.509 1113.84 Q250.338 1112.45 250.338 1109.86 Q250.338 1107.2 248.44 1105.79 Q246.565 1104.35 243.046 1104.35 Q241.125 1104.35 238.926 1104.77 Q236.727 1105.18 234.088 1106.06 L234.088 1101.9 Q236.75 1101.16 239.065 1100.79 Q241.403 1100.41 243.463 1100.41 Q248.787 1100.41 251.889 1102.85 Q254.99 1105.25 254.99 1109.37 Q254.99 1112.24 253.347 1114.23 Q251.703 1116.2 248.671 1116.97 Z\" fill=\"#000000\" fill-rule=\"evenodd\" fill-opacity=\"1\" /><path clip-path=\"url(#clip5500)\" d=\"M 0 0 M463.117 1120.72 L475.593 1120.72 L475.593 1124.51 L463.117 1124.51 L463.117 1120.72 Z\" fill=\"#000000\" fill-rule=\"evenodd\" fill-opacity=\"1\" /><path clip-path=\"url(#clip5500)\" d=\"M 0 0 M484.691 1131.66 L501.01 1131.66 L501.01 1135.6 L479.066 1135.6 L479.066 1131.66 Q481.728 1128.91 486.311 1124.28 Q490.917 1119.63 492.098 1118.29 Q494.343 1115.76 495.223 1114.03 Q496.126 1112.27 496.126 1110.58 Q496.126 1107.82 494.181 1106.09 Q492.26 1104.35 489.158 1104.35 Q486.959 1104.35 484.505 1105.11 Q482.075 1105.88 479.297 1107.43 L479.297 1102.71 Q482.121 1101.57 484.575 1100.99 Q487.028 1100.41 489.066 1100.41 Q494.436 1100.41 497.63 1103.1 Q500.825 1105.79 500.825 1110.28 Q500.825 1112.41 500.015 1114.33 Q499.227 1116.22 497.121 1118.82 Q496.542 1119.49 493.44 1122.71 Q490.339 1125.9 484.691 1131.66 Z\" fill=\"#000000\" fill-rule=\"evenodd\" fill-opacity=\"1\" /><path clip-path=\"url(#clip5500)\" d=\"M 0 0 M708.615 1120.72 L721.092 1120.72 L721.092 1124.51 L708.615 1124.51 L708.615 1120.72 Z\" fill=\"#000000\" fill-rule=\"evenodd\" fill-opacity=\"1\" /><path clip-path=\"url(#clip5500)\" d=\"M 0 0 M726.972 1131.66 L734.61 1131.66 L734.61 1105.3 L726.3 1106.97 L726.3 1102.71 L734.564 1101.04 L739.24 1101.04 L739.24 1131.66 L746.879 1131.66 L746.879 1135.6 L726.972 1135.6 L726.972 1131.66 Z\" fill=\"#000000\" fill-rule=\"evenodd\" fill-opacity=\"1\" /><path clip-path=\"url(#clip5500)\" d=\"M 0 0 M973.431 1104.12 Q969.82 1104.12 967.991 1107.68 Q966.186 1111.23 966.186 1118.35 Q966.186 1125.46 967.991 1129.03 Q969.82 1132.57 973.431 1132.57 Q977.065 1132.57 978.871 1129.03 Q980.699 1125.46 980.699 1118.35 Q980.699 1111.23 978.871 1107.68 Q977.065 1104.12 973.431 1104.12 M973.431 1100.41 Q979.241 1100.41 982.297 1105.02 Q985.375 1109.6 985.375 1118.35 Q985.375 1127.08 982.297 1131.69 Q979.241 1136.27 973.431 1136.27 Q967.621 1136.27 964.542 1131.69 Q961.487 1127.08 961.487 1118.35 Q961.487 1109.6 964.542 1105.02 Q967.621 1100.41 973.431 1100.41 Z\" fill=\"#000000\" fill-rule=\"evenodd\" fill-opacity=\"1\" /><path clip-path=\"url(#clip5500)\" d=\"M 0 0 M1209.5 1131.66 L1217.14 1131.66 L1217.14 1105.3 L1208.83 1106.97 L1208.83 1102.71 L1217.09 1101.04 L1221.77 1101.04 L1221.77 1131.66 L1229.4 1131.66 L1229.4 1135.6 L1209.5 1135.6 L1209.5 1131.66 Z\" fill=\"#000000\" fill-rule=\"evenodd\" fill-opacity=\"1\" /><path clip-path=\"url(#clip5500)\" d=\"M 0 0 M1459.45 1131.66 L1475.77 1131.66 L1475.77 1135.6 L1453.83 1135.6 L1453.83 1131.66 Q1456.49 1128.91 1461.07 1124.28 Q1465.68 1119.63 1466.86 1118.29 Q1469.1 1115.76 1469.98 1114.03 Q1470.89 1112.27 1470.89 1110.58 Q1470.89 1107.82 1468.94 1106.09 Q1467.02 1104.35 1463.92 1104.35 Q1461.72 1104.35 1459.27 1105.11 Q1456.84 1105.88 1454.06 1107.43 L1454.06 1102.71 Q1456.88 1101.57 1459.34 1100.99 Q1461.79 1100.41 1463.83 1100.41 Q1469.2 1100.41 1472.39 1103.1 Q1475.59 1105.79 1475.59 1110.28 Q1475.59 1112.41 1474.78 1114.33 Q1473.99 1116.22 1471.88 1118.82 Q1471.3 1119.49 1468.2 1122.71 Q1465.1 1125.9 1459.45 1131.66 Z\" fill=\"#000000\" fill-rule=\"evenodd\" fill-opacity=\"1\" /><path clip-path=\"url(#clip5500)\" d=\"M 0 0 M94.7512 985.751 L111.071 985.751 L111.071 989.686 L89.1262 989.686 L89.1262 985.751 Q91.7883 982.996 96.3716 978.366 Q100.978 973.714 102.159 972.371 Q104.404 969.848 105.284 968.112 Q106.186 966.353 106.186 964.663 Q106.186 961.908 104.242 960.172 Q102.321 958.436 99.2188 958.436 Q97.0197 958.436 94.566 959.2 Q92.1355 959.964 89.3577 961.515 L89.3577 956.792 Q92.1818 955.658 94.6355 955.079 Q97.0892 954.501 99.1262 954.501 Q104.497 954.501 107.691 957.186 Q110.885 959.871 110.885 964.362 Q110.885 966.491 110.075 968.413 Q109.288 970.311 107.182 972.903 Q106.603 973.575 103.501 976.792 Q100.399 979.987 94.7512 985.751 Z\" fill=\"#000000\" fill-rule=\"evenodd\" fill-opacity=\"1\" /><path clip-path=\"url(#clip5500)\" d=\"M 0 0 M126.14 958.204 Q122.529 958.204 120.7 961.769 Q118.895 965.311 118.895 972.44 Q118.895 979.547 120.7 983.112 Q122.529 986.653 126.14 986.653 Q129.774 986.653 131.58 983.112 Q133.408 979.547 133.408 972.44 Q133.408 965.311 131.58 961.769 Q129.774 958.204 126.14 958.204 M126.14 954.501 Q131.95 954.501 135.006 959.107 Q138.084 963.69 138.084 972.44 Q138.084 981.167 135.006 985.774 Q131.95 990.357 126.14 990.357 Q120.33 990.357 117.251 985.774 Q114.196 981.167 114.196 972.44 Q114.196 963.69 117.251 959.107 Q120.33 954.501 126.14 954.501 Z\" fill=\"#000000\" fill-rule=\"evenodd\" fill-opacity=\"1\" /><path clip-path=\"url(#clip5500)\" d=\"M 0 0 M153.154 958.204 Q149.543 958.204 147.714 961.769 Q145.908 965.311 145.908 972.44 Q145.908 979.547 147.714 983.112 Q149.543 986.653 153.154 986.653 Q156.788 986.653 158.593 983.112 Q160.422 979.547 160.422 972.44 Q160.422 965.311 158.593 961.769 Q156.788 958.204 153.154 958.204 M153.154 954.501 Q158.964 954.501 162.019 959.107 Q165.098 963.69 165.098 972.44 Q165.098 981.167 162.019 985.774 Q158.964 990.357 153.154 990.357 Q147.344 990.357 144.265 985.774 Q141.209 981.167 141.209 972.44 Q141.209 963.69 144.265 959.107 Q147.344 954.501 153.154 954.501 Z\" fill=\"#000000\" fill-rule=\"evenodd\" fill-opacity=\"1\" /><path clip-path=\"url(#clip5500)\" d=\"M 0 0 M101.487 817.991 L89.6818 836.44 L101.487 836.44 L101.487 817.991 M100.26 813.917 L106.14 813.917 L106.14 836.44 L111.071 836.44 L111.071 840.329 L106.14 840.329 L106.14 848.477 L101.487 848.477 L101.487 840.329 L85.8855 840.329 L85.8855 835.815 L100.26 813.917 Z\" fill=\"#000000\" fill-rule=\"evenodd\" fill-opacity=\"1\" /><path clip-path=\"url(#clip5500)\" d=\"M 0 0 M126.14 816.996 Q122.529 816.996 120.7 820.561 Q118.895 824.102 118.895 831.232 Q118.895 838.338 120.7 841.903 Q122.529 845.445 126.14 845.445 Q129.774 845.445 131.58 841.903 Q133.408 838.338 133.408 831.232 Q133.408 824.102 131.58 820.561 Q129.774 816.996 126.14 816.996 M126.14 813.292 Q131.95 813.292 135.006 817.899 Q138.084 822.482 138.084 831.232 Q138.084 839.959 135.006 844.565 Q131.95 849.149 126.14 849.149 Q120.33 849.149 117.251 844.565 Q114.196 839.959 114.196 831.232 Q114.196 822.482 117.251 817.899 Q120.33 813.292 126.14 813.292 Z\" fill=\"#000000\" fill-rule=\"evenodd\" fill-opacity=\"1\" /><path clip-path=\"url(#clip5500)\" d=\"M 0 0 M153.154 816.996 Q149.543 816.996 147.714 820.561 Q145.908 824.102 145.908 831.232 Q145.908 838.338 147.714 841.903 Q149.543 845.445 153.154 845.445 Q156.788 845.445 158.593 841.903 Q160.422 838.338 160.422 831.232 Q160.422 824.102 158.593 820.561 Q156.788 816.996 153.154 816.996 M153.154 813.292 Q158.964 813.292 162.019 817.899 Q165.098 822.482 165.098 831.232 Q165.098 839.959 162.019 844.565 Q158.964 849.149 153.154 849.149 Q147.344 849.149 144.265 844.565 Q141.209 839.959 141.209 831.232 Q141.209 822.482 144.265 817.899 Q147.344 813.292 153.154 813.292 Z\" fill=\"#000000\" fill-rule=\"evenodd\" fill-opacity=\"1\" /><path clip-path=\"url(#clip5500)\" d=\"M 0 0 M99.5429 688.125 Q96.3947 688.125 94.5429 690.278 Q92.7142 692.431 92.7142 696.181 Q92.7142 699.908 94.5429 702.084 Q96.3947 704.236 99.5429 704.236 Q102.691 704.236 104.52 702.084 Q106.372 699.908 106.372 696.181 Q106.372 692.431 104.52 690.278 Q102.691 688.125 99.5429 688.125 M108.825 673.473 L108.825 677.732 Q107.066 676.899 105.26 676.459 Q103.478 676.019 101.719 676.019 Q97.0892 676.019 94.6355 679.144 Q92.2049 682.269 91.8577 688.588 Q93.2234 686.575 95.2836 685.51 Q97.3438 684.422 99.8206 684.422 Q105.029 684.422 108.038 687.593 Q111.071 690.741 111.071 696.181 Q111.071 701.505 107.922 704.723 Q104.774 707.94 99.5429 707.94 Q93.5475 707.94 90.3762 703.357 Q87.205 698.75 87.205 690.024 Q87.205 681.829 91.0938 676.968 Q94.9827 672.084 101.534 672.084 Q103.293 672.084 105.075 672.431 Q106.881 672.778 108.825 673.473 Z\" fill=\"#000000\" fill-rule=\"evenodd\" fill-opacity=\"1\" /><path clip-path=\"url(#clip5500)\" d=\"M 0 0 M126.14 675.788 Q122.529 675.788 120.7 679.352 Q118.895 682.894 118.895 690.024 Q118.895 697.13 120.7 700.695 Q122.529 704.236 126.14 704.236 Q129.774 704.236 131.58 700.695 Q133.408 697.13 133.408 690.024 Q133.408 682.894 131.58 679.352 Q129.774 675.788 126.14 675.788 M126.14 672.084 Q131.95 672.084 135.006 676.69 Q138.084 681.274 138.084 690.024 Q138.084 698.75 135.006 703.357 Q131.95 707.94 126.14 707.94 Q120.33 707.94 117.251 703.357 Q114.196 698.75 114.196 690.024 Q114.196 681.274 117.251 676.69 Q120.33 672.084 126.14 672.084 Z\" fill=\"#000000\" fill-rule=\"evenodd\" fill-opacity=\"1\" /><path clip-path=\"url(#clip5500)\" d=\"M 0 0 M153.154 675.788 Q149.543 675.788 147.714 679.352 Q145.908 682.894 145.908 690.024 Q145.908 697.13 147.714 700.695 Q149.543 704.236 153.154 704.236 Q156.788 704.236 158.593 700.695 Q160.422 697.13 160.422 690.024 Q160.422 682.894 158.593 679.352 Q156.788 675.788 153.154 675.788 M153.154 672.084 Q158.964 672.084 162.019 676.69 Q165.098 681.274 165.098 690.024 Q165.098 698.75 162.019 703.357 Q158.964 707.94 153.154 707.94 Q147.344 707.94 144.265 703.357 Q141.209 698.75 141.209 690.024 Q141.209 681.274 144.265 676.69 Q147.344 672.084 153.154 672.084 Z\" fill=\"#000000\" fill-rule=\"evenodd\" fill-opacity=\"1\" /><path clip-path=\"url(#clip5500)\" d=\"M 0 0 M99.2188 549.648 Q95.8855 549.648 93.9642 551.431 Q92.066 553.213 92.066 556.338 Q92.066 559.463 93.9642 561.246 Q95.8855 563.028 99.2188 563.028 Q102.552 563.028 104.473 561.246 Q106.395 559.44 106.395 556.338 Q106.395 553.213 104.473 551.431 Q102.575 549.648 99.2188 549.648 M94.5429 547.658 Q91.5336 546.917 89.8438 544.857 Q88.1772 542.797 88.1772 539.834 Q88.1772 535.69 91.117 533.283 Q94.0799 530.875 99.2188 530.875 Q104.381 530.875 107.321 533.283 Q110.26 535.69 110.26 539.834 Q110.26 542.797 108.571 544.857 Q106.904 546.917 103.918 547.658 Q107.297 548.445 109.172 550.736 Q111.071 553.028 111.071 556.338 Q111.071 561.361 107.992 564.047 Q104.936 566.732 99.2188 566.732 Q93.5012 566.732 90.4225 564.047 Q87.367 561.361 87.367 556.338 Q87.367 553.028 89.2651 550.736 Q91.1633 548.445 94.5429 547.658 M92.8299 540.274 Q92.8299 542.959 94.4966 544.463 Q96.1864 545.968 99.2188 545.968 Q102.228 545.968 103.918 544.463 Q105.631 542.959 105.631 540.274 Q105.631 537.588 103.918 536.084 Q102.228 534.579 99.2188 534.579 Q96.1864 534.579 94.4966 536.084 Q92.8299 537.588 92.8299 540.274 Z\" fill=\"#000000\" fill-rule=\"evenodd\" fill-opacity=\"1\" /><path clip-path=\"url(#clip5500)\" d=\"M 0 0 M126.14 534.579 Q122.529 534.579 120.7 538.144 Q118.895 541.686 118.895 548.815 Q118.895 555.922 120.7 559.486 Q122.529 563.028 126.14 563.028 Q129.774 563.028 131.58 559.486 Q133.408 555.922 133.408 548.815 Q133.408 541.686 131.58 538.144 Q129.774 534.579 126.14 534.579 M126.14 530.875 Q131.95 530.875 135.006 535.482 Q138.084 540.065 138.084 548.815 Q138.084 557.542 135.006 562.148 Q131.95 566.732 126.14 566.732 Q120.33 566.732 117.251 562.148 Q114.196 557.542 114.196 548.815 Q114.196 540.065 117.251 535.482 Q120.33 530.875 126.14 530.875 Z\" fill=\"#000000\" fill-rule=\"evenodd\" fill-opacity=\"1\" /><path clip-path=\"url(#clip5500)\" d=\"M 0 0 M153.154 534.579 Q149.543 534.579 147.714 538.144 Q145.908 541.686 145.908 548.815 Q145.908 555.922 147.714 559.486 Q149.543 563.028 153.154 563.028 Q156.788 563.028 158.593 559.486 Q160.422 555.922 160.422 548.815 Q160.422 541.686 158.593 538.144 Q156.788 534.579 153.154 534.579 M153.154 530.875 Q158.964 530.875 162.019 535.482 Q165.098 540.065 165.098 548.815 Q165.098 557.542 162.019 562.148 Q158.964 566.732 153.154 566.732 Q147.344 566.732 144.265 562.148 Q141.209 557.542 141.209 548.815 Q141.209 540.065 144.265 535.482 Q147.344 530.875 153.154 530.875 Z\" fill=\"#000000\" fill-rule=\"evenodd\" fill-opacity=\"1\" /><path clip-path=\"url(#clip5500)\" d=\"M 0 0 M64.1495 420.917 L71.7884 420.917 L71.7884 394.551 L63.4782 396.218 L63.4782 391.959 L71.7421 390.292 L76.418 390.292 L76.418 420.917 L84.0568 420.917 L84.0568 424.852 L64.1495 424.852 L64.1495 420.917 Z\" fill=\"#000000\" fill-rule=\"evenodd\" fill-opacity=\"1\" /><path clip-path=\"url(#clip5500)\" d=\"M 0 0 M99.1262 393.371 Q95.5151 393.371 93.6864 396.935 Q91.8809 400.477 91.8809 407.607 Q91.8809 414.713 93.6864 418.278 Q95.5151 421.82 99.1262 421.82 Q102.76 421.82 104.566 418.278 Q106.395 414.713 106.395 407.607 Q106.395 400.477 104.566 396.935 Q102.76 393.371 99.1262 393.371 M99.1262 389.667 Q104.936 389.667 107.992 394.273 Q111.071 398.857 111.071 407.607 Q111.071 416.333 107.992 420.94 Q104.936 425.523 99.1262 425.523 Q93.316 425.523 90.2374 420.94 Q87.1818 416.333 87.1818 407.607 Q87.1818 398.857 90.2374 394.273 Q93.316 389.667 99.1262 389.667 Z\" fill=\"#000000\" fill-rule=\"evenodd\" fill-opacity=\"1\" /><path clip-path=\"url(#clip5500)\" d=\"M 0 0 M126.14 393.371 Q122.529 393.371 120.7 396.935 Q118.895 400.477 118.895 407.607 Q118.895 414.713 120.7 418.278 Q122.529 421.82 126.14 421.82 Q129.774 421.82 131.58 418.278 Q133.408 414.713 133.408 407.607 Q133.408 400.477 131.58 396.935 Q129.774 393.371 126.14 393.371 M126.14 389.667 Q131.95 389.667 135.006 394.273 Q138.084 398.857 138.084 407.607 Q138.084 416.333 135.006 420.94 Q131.95 425.523 126.14 425.523 Q120.33 425.523 117.251 420.94 Q114.196 416.333 114.196 407.607 Q114.196 398.857 117.251 394.273 Q120.33 389.667 126.14 389.667 Z\" fill=\"#000000\" fill-rule=\"evenodd\" fill-opacity=\"1\" /><path clip-path=\"url(#clip5500)\" d=\"M 0 0 M153.154 393.371 Q149.543 393.371 147.714 396.935 Q145.908 400.477 145.908 407.607 Q145.908 414.713 147.714 418.278 Q149.543 421.82 153.154 421.82 Q156.788 421.82 158.593 418.278 Q160.422 414.713 160.422 407.607 Q160.422 400.477 158.593 396.935 Q156.788 393.371 153.154 393.371 M153.154 389.667 Q158.964 389.667 162.019 394.273 Q165.098 398.857 165.098 407.607 Q165.098 416.333 162.019 420.94 Q158.964 425.523 153.154 425.523 Q147.344 425.523 144.265 420.94 Q141.209 416.333 141.209 407.607 Q141.209 398.857 144.265 394.273 Q147.344 389.667 153.154 389.667 Z\" fill=\"#000000\" fill-rule=\"evenodd\" fill-opacity=\"1\" /><path clip-path=\"url(#clip5500)\" d=\"M 0 0 M65.7467 279.708 L73.3856 279.708 L73.3856 253.343 L65.0754 255.009 L65.0754 250.75 L73.3393 249.084 L78.0152 249.084 L78.0152 279.708 L85.654 279.708 L85.654 283.644 L65.7467 283.644 L65.7467 279.708 Z\" fill=\"#000000\" fill-rule=\"evenodd\" fill-opacity=\"1\" /><path clip-path=\"url(#clip5500)\" d=\"M 0 0 M94.7512 279.708 L111.071 279.708 L111.071 283.644 L89.1262 283.644 L89.1262 279.708 Q91.7883 276.954 96.3716 272.324 Q100.978 267.671 102.159 266.329 Q104.404 263.806 105.284 262.07 Q106.186 260.31 106.186 258.621 Q106.186 255.866 104.242 254.13 Q102.321 252.394 99.2188 252.394 Q97.0197 252.394 94.566 253.158 Q92.1355 253.921 89.3577 255.472 L89.3577 250.75 Q92.1818 249.616 94.6355 249.037 Q97.0892 248.459 99.1262 248.459 Q104.497 248.459 107.691 251.144 Q110.885 253.829 110.885 258.32 Q110.885 260.449 110.075 262.37 Q109.288 264.269 107.182 266.861 Q106.603 267.533 103.501 270.75 Q100.399 273.945 94.7512 279.708 Z\" fill=\"#000000\" fill-rule=\"evenodd\" fill-opacity=\"1\" /><path clip-path=\"url(#clip5500)\" d=\"M 0 0 M126.14 252.162 Q122.529 252.162 120.7 255.727 Q118.895 259.269 118.895 266.398 Q118.895 273.505 120.7 277.069 Q122.529 280.611 126.14 280.611 Q129.774 280.611 131.58 277.069 Q133.408 273.505 133.408 266.398 Q133.408 259.269 131.58 255.727 Q129.774 252.162 126.14 252.162 M126.14 248.459 Q131.95 248.459 135.006 253.065 Q138.084 257.648 138.084 266.398 Q138.084 275.125 135.006 279.732 Q131.95 284.315 126.14 284.315 Q120.33 284.315 117.251 279.732 Q114.196 275.125 114.196 266.398 Q114.196 257.648 117.251 253.065 Q120.33 248.459 126.14 248.459 Z\" fill=\"#000000\" fill-rule=\"evenodd\" fill-opacity=\"1\" /><path clip-path=\"url(#clip5500)\" d=\"M 0 0 M153.154 252.162 Q149.543 252.162 147.714 255.727 Q145.908 259.269 145.908 266.398 Q145.908 273.505 147.714 277.069 Q149.543 280.611 153.154 280.611 Q156.788 280.611 158.593 277.069 Q160.422 273.505 160.422 266.398 Q160.422 259.269 158.593 255.727 Q156.788 252.162 153.154 252.162 M153.154 248.459 Q158.964 248.459 162.019 253.065 Q165.098 257.648 165.098 266.398 Q165.098 275.125 162.019 279.732 Q158.964 284.315 153.154 284.315 Q147.344 284.315 144.265 279.732 Q141.209 275.125 141.209 266.398 Q141.209 257.648 144.265 253.065 Q147.344 248.459 153.154 248.459 Z\" fill=\"#000000\" fill-rule=\"evenodd\" fill-opacity=\"1\" /><path clip-path=\"url(#clip5500)\" d=\"M 0 0 M63.6634 138.5 L71.3023 138.5 L71.3023 112.134 L62.9921 113.801 L62.9921 109.542 L71.256 107.875 L75.9319 107.875 L75.9319 138.5 L83.5707 138.5 L83.5707 142.435 L63.6634 142.435 L63.6634 138.5 Z\" fill=\"#000000\" fill-rule=\"evenodd\" fill-opacity=\"1\" /><path clip-path=\"url(#clip5500)\" d=\"M 0 0 M101.487 111.949 L89.6818 130.398 L101.487 130.398 L101.487 111.949 M100.26 107.875 L106.14 107.875 L106.14 130.398 L111.071 130.398 L111.071 134.287 L106.14 134.287 L106.14 142.435 L101.487 142.435 L101.487 134.287 L85.8855 134.287 L85.8855 129.773 L100.26 107.875 Z\" fill=\"#000000\" fill-rule=\"evenodd\" fill-opacity=\"1\" /><path clip-path=\"url(#clip5500)\" d=\"M 0 0 M126.14 110.954 Q122.529 110.954 120.7 114.519 Q118.895 118.06 118.895 125.19 Q118.895 132.296 120.7 135.861 Q122.529 139.403 126.14 139.403 Q129.774 139.403 131.58 135.861 Q133.408 132.296 133.408 125.19 Q133.408 118.06 131.58 114.519 Q129.774 110.954 126.14 110.954 M126.14 107.25 Q131.95 107.25 135.006 111.857 Q138.084 116.44 138.084 125.19 Q138.084 133.917 135.006 138.523 Q131.95 143.106 126.14 143.106 Q120.33 143.106 117.251 138.523 Q114.196 133.917 114.196 125.19 Q114.196 116.44 117.251 111.857 Q120.33 107.25 126.14 107.25 Z\" fill=\"#000000\" fill-rule=\"evenodd\" fill-opacity=\"1\" /><path clip-path=\"url(#clip5500)\" d=\"M 0 0 M153.154 110.954 Q149.543 110.954 147.714 114.519 Q145.908 118.06 145.908 125.19 Q145.908 132.296 147.714 135.861 Q149.543 139.403 153.154 139.403 Q156.788 139.403 158.593 135.861 Q160.422 132.296 160.422 125.19 Q160.422 118.06 158.593 114.519 Q156.788 110.954 153.154 110.954 M153.154 107.25 Q158.964 107.25 162.019 111.857 Q165.098 116.44 165.098 125.19 Q165.098 133.917 162.019 138.523 Q158.964 143.106 153.154 143.106 Q147.344 143.106 144.265 138.523 Q141.209 133.917 141.209 125.19 Q141.209 116.44 144.265 111.857 Q147.344 107.25 153.154 107.25 Z\" fill=\"#000000\" fill-rule=\"evenodd\" fill-opacity=\"1\" /><circle clip-path=\"url(#clip5502)\" cx=\"219.919\" cy=\"1056.73\" r=\"14\" fill=\"#009af9\" fill-rule=\"evenodd\" fill-opacity=\"1\" stroke=\"#000000\" stroke-opacity=\"1\" stroke-width=\"2.4\"/>\n",
       "<circle clip-path=\"url(#clip5502)\" cx=\"241.047\" cy=\"1054.13\" r=\"14\" fill=\"#009af9\" fill-rule=\"evenodd\" fill-opacity=\"1\" stroke=\"#000000\" stroke-opacity=\"1\" stroke-width=\"2.4\"/>\n",
       "<circle clip-path=\"url(#clip5502)\" cx=\"255.788\" cy=\"1052\" r=\"14\" fill=\"#009af9\" fill-rule=\"evenodd\" fill-opacity=\"1\" stroke=\"#000000\" stroke-opacity=\"1\" stroke-width=\"2.4\"/>\n",
       "<circle clip-path=\"url(#clip5502)\" cx=\"258\" cy=\"1052.05\" r=\"14\" fill=\"#009af9\" fill-rule=\"evenodd\" fill-opacity=\"1\" stroke=\"#000000\" stroke-opacity=\"1\" stroke-width=\"2.4\"/>\n",
       "<circle clip-path=\"url(#clip5502)\" cx=\"275.689\" cy=\"1050.72\" r=\"14\" fill=\"#009af9\" fill-rule=\"evenodd\" fill-opacity=\"1\" stroke=\"#000000\" stroke-opacity=\"1\" stroke-width=\"2.4\"/>\n",
       "<circle clip-path=\"url(#clip5502)\" cx=\"286.253\" cy=\"1050.35\" r=\"14\" fill=\"#009af9\" fill-rule=\"evenodd\" fill-opacity=\"1\" stroke=\"#000000\" stroke-opacity=\"1\" stroke-width=\"2.4\"/>\n",
       "<circle clip-path=\"url(#clip5502)\" cx=\"309.593\" cy=\"1050.16\" r=\"14\" fill=\"#009af9\" fill-rule=\"evenodd\" fill-opacity=\"1\" stroke=\"#000000\" stroke-opacity=\"1\" stroke-width=\"2.4\"/>\n",
       "<circle clip-path=\"url(#clip5502)\" cx=\"310.33\" cy=\"1050\" r=\"14\" fill=\"#009af9\" fill-rule=\"evenodd\" fill-opacity=\"1\" stroke=\"#000000\" stroke-opacity=\"1\" stroke-width=\"2.4\"/>\n",
       "<circle clip-path=\"url(#clip5502)\" cx=\"326.545\" cy=\"1048.37\" r=\"14\" fill=\"#009af9\" fill-rule=\"evenodd\" fill-opacity=\"1\" stroke=\"#000000\" stroke-opacity=\"1\" stroke-width=\"2.4\"/>\n",
       "<circle clip-path=\"url(#clip5502)\" cx=\"363.889\" cy=\"1045.94\" r=\"14\" fill=\"#009af9\" fill-rule=\"evenodd\" fill-opacity=\"1\" stroke=\"#000000\" stroke-opacity=\"1\" stroke-width=\"2.4\"/>\n",
       "<circle clip-path=\"url(#clip5502)\" cx=\"392.88\" cy=\"1042.52\" r=\"14\" fill=\"#009af9\" fill-rule=\"evenodd\" fill-opacity=\"1\" stroke=\"#000000\" stroke-opacity=\"1\" stroke-width=\"2.4\"/>\n",
       "<circle clip-path=\"url(#clip5502)\" cx=\"402.953\" cy=\"1042.26\" r=\"14\" fill=\"#009af9\" fill-rule=\"evenodd\" fill-opacity=\"1\" stroke=\"#000000\" stroke-opacity=\"1\" stroke-width=\"2.4\"/>\n",
       "<circle clip-path=\"url(#clip5502)\" cx=\"604.659\" cy=\"830.017\" r=\"14\" fill=\"#009af9\" fill-rule=\"evenodd\" fill-opacity=\"1\" stroke=\"#000000\" stroke-opacity=\"1\" stroke-width=\"2.4\"/>\n",
       "<circle clip-path=\"url(#clip5502)\" cx=\"614.733\" cy=\"837.747\" r=\"14\" fill=\"#009af9\" fill-rule=\"evenodd\" fill-opacity=\"1\" stroke=\"#000000\" stroke-opacity=\"1\" stroke-width=\"2.4\"/>\n",
       "<circle clip-path=\"url(#clip5502)\" cx=\"660.43\" cy=\"712.911\" r=\"14\" fill=\"#009af9\" fill-rule=\"evenodd\" fill-opacity=\"1\" stroke=\"#000000\" stroke-opacity=\"1\" stroke-width=\"2.4\"/>\n",
       "<circle clip-path=\"url(#clip5502)\" cx=\"675.662\" cy=\"665.054\" r=\"14\" fill=\"#009af9\" fill-rule=\"evenodd\" fill-opacity=\"1\" stroke=\"#000000\" stroke-opacity=\"1\" stroke-width=\"2.4\"/>\n",
       "<circle clip-path=\"url(#clip5502)\" cx=\"703.179\" cy=\"596.047\" r=\"14\" fill=\"#009af9\" fill-rule=\"evenodd\" fill-opacity=\"1\" stroke=\"#000000\" stroke-opacity=\"1\" stroke-width=\"2.4\"/>\n",
       "<circle clip-path=\"url(#clip5502)\" cx=\"716.446\" cy=\"577.667\" r=\"14\" fill=\"#009af9\" fill-rule=\"evenodd\" fill-opacity=\"1\" stroke=\"#000000\" stroke-opacity=\"1\" stroke-width=\"2.4\"/>\n",
       "<circle clip-path=\"url(#clip5502)\" cx=\"748.63\" cy=\"482.267\" r=\"14\" fill=\"#009af9\" fill-rule=\"evenodd\" fill-opacity=\"1\" stroke=\"#000000\" stroke-opacity=\"1\" stroke-width=\"2.4\"/>\n",
       "<circle clip-path=\"url(#clip5502)\" cx=\"798.013\" cy=\"414.078\" r=\"14\" fill=\"#009af9\" fill-rule=\"evenodd\" fill-opacity=\"1\" stroke=\"#000000\" stroke-opacity=\"1\" stroke-width=\"2.4\"/>\n",
       "<circle clip-path=\"url(#clip5502)\" cx=\"834.374\" cy=\"343.951\" r=\"14\" fill=\"#009af9\" fill-rule=\"evenodd\" fill-opacity=\"1\" stroke=\"#000000\" stroke-opacity=\"1\" stroke-width=\"2.4\"/>\n",
       "<circle clip-path=\"url(#clip5502)\" cx=\"839.533\" cy=\"350.443\" r=\"14\" fill=\"#009af9\" fill-rule=\"evenodd\" fill-opacity=\"1\" stroke=\"#000000\" stroke-opacity=\"1\" stroke-width=\"2.4\"/>\n",
       "<circle clip-path=\"url(#clip5502)\" cx=\"875.157\" cy=\"320.981\" r=\"14\" fill=\"#009af9\" fill-rule=\"evenodd\" fill-opacity=\"1\" stroke=\"#000000\" stroke-opacity=\"1\" stroke-width=\"2.4\"/>\n",
       "<circle clip-path=\"url(#clip5502)\" cx=\"897.515\" cy=\"281.649\" r=\"14\" fill=\"#009af9\" fill-rule=\"evenodd\" fill-opacity=\"1\" stroke=\"#000000\" stroke-opacity=\"1\" stroke-width=\"2.4\"/>\n",
       "<circle clip-path=\"url(#clip5502)\" cx=\"946.651\" cy=\"223.626\" r=\"14\" fill=\"#009af9\" fill-rule=\"evenodd\" fill-opacity=\"1\" stroke=\"#000000\" stroke-opacity=\"1\" stroke-width=\"2.4\"/>\n",
       "<circle clip-path=\"url(#clip5502)\" cx=\"948.125\" cy=\"214.46\" r=\"14\" fill=\"#009af9\" fill-rule=\"evenodd\" fill-opacity=\"1\" stroke=\"#000000\" stroke-opacity=\"1\" stroke-width=\"2.4\"/>\n",
       "<circle clip-path=\"url(#clip5502)\" cx=\"975.888\" cy=\"203.992\" r=\"14\" fill=\"#009af9\" fill-rule=\"evenodd\" fill-opacity=\"1\" stroke=\"#000000\" stroke-opacity=\"1\" stroke-width=\"2.4\"/>\n",
       "<circle clip-path=\"url(#clip5502)\" cx=\"1002.67\" cy=\"176.313\" r=\"14\" fill=\"#009af9\" fill-rule=\"evenodd\" fill-opacity=\"1\" stroke=\"#000000\" stroke-opacity=\"1\" stroke-width=\"2.4\"/>\n",
       "<circle clip-path=\"url(#clip5502)\" cx=\"1066.05\" cy=\"157.73\" r=\"14\" fill=\"#009af9\" fill-rule=\"evenodd\" fill-opacity=\"1\" stroke=\"#000000\" stroke-opacity=\"1\" stroke-width=\"2.4\"/>\n",
       "<circle clip-path=\"url(#clip5502)\" cx=\"1167.52\" cy=\"114.911\" r=\"14\" fill=\"#009af9\" fill-rule=\"evenodd\" fill-opacity=\"1\" stroke=\"#000000\" stroke-opacity=\"1\" stroke-width=\"2.4\"/>\n",
       "<circle clip-path=\"url(#clip5502)\" cx=\"1210.02\" cy=\"107.357\" r=\"14\" fill=\"#009af9\" fill-rule=\"evenodd\" fill-opacity=\"1\" stroke=\"#000000\" stroke-opacity=\"1\" stroke-width=\"2.4\"/>\n",
       "<circle clip-path=\"url(#clip5502)\" cx=\"1220.59\" cy=\"110.057\" r=\"14\" fill=\"#009af9\" fill-rule=\"evenodd\" fill-opacity=\"1\" stroke=\"#000000\" stroke-opacity=\"1\" stroke-width=\"2.4\"/>\n",
       "<circle clip-path=\"url(#clip5502)\" cx=\"1247.37\" cy=\"94.8221\" r=\"14\" fill=\"#009af9\" fill-rule=\"evenodd\" fill-opacity=\"1\" stroke=\"#000000\" stroke-opacity=\"1\" stroke-width=\"2.4\"/>\n",
       "<circle clip-path=\"url(#clip5502)\" cx=\"1359.65\" cy=\"79.7213\" r=\"14\" fill=\"#009af9\" fill-rule=\"evenodd\" fill-opacity=\"1\" stroke=\"#000000\" stroke-opacity=\"1\" stroke-width=\"2.4\"/>\n",
       "<circle clip-path=\"url(#clip5502)\" cx=\"1425.73\" cy=\"76.6465\" r=\"14\" fill=\"#009af9\" fill-rule=\"evenodd\" fill-opacity=\"1\" stroke=\"#000000\" stroke-opacity=\"1\" stroke-width=\"2.4\"/>\n",
       "<circle clip-path=\"url(#clip5502)\" cx=\"1476.35\" cy=\"91.3399\" r=\"14\" fill=\"#009af9\" fill-rule=\"evenodd\" fill-opacity=\"1\" stroke=\"#000000\" stroke-opacity=\"1\" stroke-width=\"2.4\"/>\n",
       "<circle clip-path=\"url(#clip5502)\" cx=\"1513.94\" cy=\"84.4673\" r=\"14\" fill=\"#009af9\" fill-rule=\"evenodd\" fill-opacity=\"1\" stroke=\"#000000\" stroke-opacity=\"1\" stroke-width=\"2.4\"/>\n",
       "</svg>\n"
      ]
     },
     "execution_count": 110,
     "metadata": {},
     "output_type": "execute_result"
    }
   ],
   "source": [
    "data = CSV.read(\"thurber.csv\")\n",
    "x = data.x\n",
    "y = data.y\n",
    "\n",
    "scatter(x, y, leg=false)"
   ]
  },
  {
   "cell_type": "code",
   "execution_count": 114,
   "metadata": {},
   "outputs": [
    {
     "data": {
      "text/plain": [
       "MathOptNLSModel(Minimization problem thurber\n",
       "nvar = 7, ncon = 0 (0 linear)\n",
       ", NLSMeta(30, 7, [0.0, 0.0, 0.0, 0.0, 0.0, 0.0, 0.0], 210, 840), \"A JuMP.NLPEvaluator\", \"A JuMP.NLPEvaluator\", NLPModelsJuMP.LinearConstraints(Int64[], Int64[], Float64[]), NLSCounters(Counters(0, 0, 0, 0, 0, 0, 0, 0, 0, 0, 0), 0, 0, 0, 0, 0, 0, 0))"
      ]
     },
     "execution_count": 114,
     "metadata": {},
     "output_type": "execute_result"
    }
   ],
   "source": [
    "model = Model()\n",
    "\n",
    "β0 = [1000; 1000; 400; 40; 0.7; 0.3; 0.03]\n",
    "@variable(model, β[i=1:7], start=β0[i])\n",
    "\n",
    "@NLexpression(model, res[i=1:n], (β[1] + β[2] * x[i] + β[3] * x[i]^2 + β[4] * x[i]^3) / (1 + β[5] * x[i] + β[6] * x[i]^2 + β[7] * x[i]^3) - y[i])\n",
    "\n",
    "nls = MathOptNLSModel(model, res, name=\"thurber\")"
   ]
  },
  {
   "cell_type": "code",
   "execution_count": 132,
   "metadata": {},
   "outputs": [
    {
     "data": {
      "text/plain": [
       "\"Execution stats: maximum elapsed time\""
      ]
     },
     "execution_count": 132,
     "metadata": {},
     "output_type": "execute_result"
    }
   ],
   "source": [
    "output = with_logger(NullLogger()) do\n",
    "    trunk(nls, max_time=3.0, atol=1e-4, rtol=0.0)\n",
    "end"
   ]
  },
  {
   "cell_type": "code",
   "execution_count": 133,
   "metadata": {},
   "outputs": [
    {
     "name": "stdout",
     "output_type": "stream",
     "text": [
      "Generic Execution stats\n",
      "  status: maximum elapsed time\n",
      "  objective value: 2128.396250687807\n",
      "  primal feasibility: 0.0\n",
      "  dual feasibility: 0.018444610822101366\n",
      "  solution: [1282.1621204430292  1493.6039640072445  587.6314358427045  75.5731446503069 ⋯ 0.03222886234390123]\n",
      "  iterations: 16508\n",
      "  elapsed time: 3.0001580715179443\n"
     ]
    }
   ],
   "source": [
    "print(output)"
   ]
  },
  {
   "cell_type": "code",
   "execution_count": 134,
   "metadata": {},
   "outputs": [
    {
     "data": {
      "image/svg+xml": [
       "<?xml version=\"1.0\" encoding=\"utf-8\"?>\n",
       "<svg xmlns=\"http://www.w3.org/2000/svg\" xmlns:xlink=\"http://www.w3.org/1999/xlink\" width=\"400\" height=\"300\" viewBox=\"0 0 1600 1200\">\n",
       "<defs>\n",
       "  <clipPath id=\"clip8300\">\n",
       "    <rect x=\"0\" y=\"0\" width=\"1600\" height=\"1200\"/>\n",
       "  </clipPath>\n",
       "</defs>\n",
       "<path clip-path=\"url(#clip8300)\" d=\"\n",
       "M0 1200 L1600 1200 L1600 0 L0 0  Z\n",
       "  \" fill=\"#ffffff\" fill-rule=\"evenodd\" fill-opacity=\"1\"/>\n",
       "<defs>\n",
       "  <clipPath id=\"clip8301\">\n",
       "    <rect x=\"320\" y=\"0\" width=\"1121\" height=\"1121\"/>\n",
       "  </clipPath>\n",
       "</defs>\n",
       "<path clip-path=\"url(#clip8300)\" d=\"\n",
       "M181.098 1086.13 L1552.76 1086.13 L1552.76 47.2441 L181.098 47.2441  Z\n",
       "  \" fill=\"#ffffff\" fill-rule=\"evenodd\" fill-opacity=\"1\"/>\n",
       "<defs>\n",
       "  <clipPath id=\"clip8302\">\n",
       "    <rect x=\"181\" y=\"47\" width=\"1373\" height=\"1040\"/>\n",
       "  </clipPath>\n",
       "</defs>\n",
       "<polyline clip-path=\"url(#clip8302)\" style=\"stroke:#000000; stroke-width:2; stroke-opacity:0.1; fill:none\" points=\"\n",
       "  236.379,1086.13 236.379,47.2441 \n",
       "  \"/>\n",
       "<polyline clip-path=\"url(#clip8302)\" style=\"stroke:#000000; stroke-width:2; stroke-opacity:0.1; fill:none\" points=\"\n",
       "  482.063,1086.13 482.063,47.2441 \n",
       "  \"/>\n",
       "<polyline clip-path=\"url(#clip8302)\" style=\"stroke:#000000; stroke-width:2; stroke-opacity:0.1; fill:none\" points=\"\n",
       "  727.747,1086.13 727.747,47.2441 \n",
       "  \"/>\n",
       "<polyline clip-path=\"url(#clip8302)\" style=\"stroke:#000000; stroke-width:2; stroke-opacity:0.1; fill:none\" points=\"\n",
       "  973.431,1086.13 973.431,47.2441 \n",
       "  \"/>\n",
       "<polyline clip-path=\"url(#clip8302)\" style=\"stroke:#000000; stroke-width:2; stroke-opacity:0.1; fill:none\" points=\"\n",
       "  1219.11,1086.13 1219.11,47.2441 \n",
       "  \"/>\n",
       "<polyline clip-path=\"url(#clip8302)\" style=\"stroke:#000000; stroke-width:2; stroke-opacity:0.1; fill:none\" points=\"\n",
       "  1464.8,1086.13 1464.8,47.2441 \n",
       "  \"/>\n",
       "<polyline clip-path=\"url(#clip8302)\" style=\"stroke:#000000; stroke-width:2; stroke-opacity:0.1; fill:none\" points=\"\n",
       "  181.098,974.772 1552.76,974.772 \n",
       "  \"/>\n",
       "<polyline clip-path=\"url(#clip8302)\" style=\"stroke:#000000; stroke-width:2; stroke-opacity:0.1; fill:none\" points=\"\n",
       "  181.098,841.817 1552.76,841.817 \n",
       "  \"/>\n",
       "<polyline clip-path=\"url(#clip8302)\" style=\"stroke:#000000; stroke-width:2; stroke-opacity:0.1; fill:none\" points=\"\n",
       "  181.098,708.861 1552.76,708.861 \n",
       "  \"/>\n",
       "<polyline clip-path=\"url(#clip8302)\" style=\"stroke:#000000; stroke-width:2; stroke-opacity:0.1; fill:none\" points=\"\n",
       "  181.098,575.906 1552.76,575.906 \n",
       "  \"/>\n",
       "<polyline clip-path=\"url(#clip8302)\" style=\"stroke:#000000; stroke-width:2; stroke-opacity:0.1; fill:none\" points=\"\n",
       "  181.098,442.95 1552.76,442.95 \n",
       "  \"/>\n",
       "<polyline clip-path=\"url(#clip8302)\" style=\"stroke:#000000; stroke-width:2; stroke-opacity:0.1; fill:none\" points=\"\n",
       "  181.098,309.995 1552.76,309.995 \n",
       "  \"/>\n",
       "<polyline clip-path=\"url(#clip8302)\" style=\"stroke:#000000; stroke-width:2; stroke-opacity:0.1; fill:none\" points=\"\n",
       "  181.098,177.039 1552.76,177.039 \n",
       "  \"/>\n",
       "<polyline clip-path=\"url(#clip8300)\" style=\"stroke:#000000; stroke-width:4; stroke-opacity:1; fill:none\" points=\"\n",
       "  181.098,1086.13 1552.76,1086.13 \n",
       "  \"/>\n",
       "<polyline clip-path=\"url(#clip8300)\" style=\"stroke:#000000; stroke-width:4; stroke-opacity:1; fill:none\" points=\"\n",
       "  181.098,1086.13 181.098,47.2441 \n",
       "  \"/>\n",
       "<polyline clip-path=\"url(#clip8300)\" style=\"stroke:#000000; stroke-width:4; stroke-opacity:1; fill:none\" points=\"\n",
       "  236.379,1086.13 236.379,1073.66 \n",
       "  \"/>\n",
       "<polyline clip-path=\"url(#clip8300)\" style=\"stroke:#000000; stroke-width:4; stroke-opacity:1; fill:none\" points=\"\n",
       "  482.063,1086.13 482.063,1073.66 \n",
       "  \"/>\n",
       "<polyline clip-path=\"url(#clip8300)\" style=\"stroke:#000000; stroke-width:4; stroke-opacity:1; fill:none\" points=\"\n",
       "  727.747,1086.13 727.747,1073.66 \n",
       "  \"/>\n",
       "<polyline clip-path=\"url(#clip8300)\" style=\"stroke:#000000; stroke-width:4; stroke-opacity:1; fill:none\" points=\"\n",
       "  973.431,1086.13 973.431,1073.66 \n",
       "  \"/>\n",
       "<polyline clip-path=\"url(#clip8300)\" style=\"stroke:#000000; stroke-width:4; stroke-opacity:1; fill:none\" points=\"\n",
       "  1219.11,1086.13 1219.11,1073.66 \n",
       "  \"/>\n",
       "<polyline clip-path=\"url(#clip8300)\" style=\"stroke:#000000; stroke-width:4; stroke-opacity:1; fill:none\" points=\"\n",
       "  1464.8,1086.13 1464.8,1073.66 \n",
       "  \"/>\n",
       "<polyline clip-path=\"url(#clip8300)\" style=\"stroke:#000000; stroke-width:4; stroke-opacity:1; fill:none\" points=\"\n",
       "  181.098,974.772 197.558,974.772 \n",
       "  \"/>\n",
       "<polyline clip-path=\"url(#clip8300)\" style=\"stroke:#000000; stroke-width:4; stroke-opacity:1; fill:none\" points=\"\n",
       "  181.098,841.817 197.558,841.817 \n",
       "  \"/>\n",
       "<polyline clip-path=\"url(#clip8300)\" style=\"stroke:#000000; stroke-width:4; stroke-opacity:1; fill:none\" points=\"\n",
       "  181.098,708.861 197.558,708.861 \n",
       "  \"/>\n",
       "<polyline clip-path=\"url(#clip8300)\" style=\"stroke:#000000; stroke-width:4; stroke-opacity:1; fill:none\" points=\"\n",
       "  181.098,575.906 197.558,575.906 \n",
       "  \"/>\n",
       "<polyline clip-path=\"url(#clip8300)\" style=\"stroke:#000000; stroke-width:4; stroke-opacity:1; fill:none\" points=\"\n",
       "  181.098,442.95 197.558,442.95 \n",
       "  \"/>\n",
       "<polyline clip-path=\"url(#clip8300)\" style=\"stroke:#000000; stroke-width:4; stroke-opacity:1; fill:none\" points=\"\n",
       "  181.098,309.995 197.558,309.995 \n",
       "  \"/>\n",
       "<polyline clip-path=\"url(#clip8300)\" style=\"stroke:#000000; stroke-width:4; stroke-opacity:1; fill:none\" points=\"\n",
       "  181.098,177.039 197.558,177.039 \n",
       "  \"/>\n",
       "<path clip-path=\"url(#clip8300)\" d=\"M 0 0 M216.958 1120.72 L229.435 1120.72 L229.435 1124.51 L216.958 1124.51 L216.958 1120.72 Z\" fill=\"#000000\" fill-rule=\"evenodd\" fill-opacity=\"1\" /><path clip-path=\"url(#clip8300)\" d=\"M 0 0 M248.671 1116.97 Q252.027 1117.68 253.902 1119.95 Q255.801 1122.22 255.801 1125.55 Q255.801 1130.67 252.282 1133.47 Q248.764 1136.27 242.282 1136.27 Q240.106 1136.27 237.791 1135.83 Q235.5 1135.41 233.046 1134.56 L233.046 1130.04 Q234.991 1131.18 237.305 1131.76 Q239.62 1132.34 242.143 1132.34 Q246.541 1132.34 248.833 1130.6 Q251.148 1128.86 251.148 1125.55 Q251.148 1122.5 248.995 1120.79 Q246.865 1119.05 243.046 1119.05 L239.018 1119.05 L239.018 1115.21 L243.231 1115.21 Q246.68 1115.21 248.509 1113.84 Q250.338 1112.45 250.338 1109.86 Q250.338 1107.2 248.44 1105.79 Q246.565 1104.35 243.046 1104.35 Q241.125 1104.35 238.926 1104.77 Q236.727 1105.18 234.088 1106.06 L234.088 1101.9 Q236.75 1101.16 239.065 1100.79 Q241.403 1100.41 243.463 1100.41 Q248.787 1100.41 251.889 1102.85 Q254.99 1105.25 254.99 1109.37 Q254.99 1112.24 253.347 1114.23 Q251.703 1116.2 248.671 1116.97 Z\" fill=\"#000000\" fill-rule=\"evenodd\" fill-opacity=\"1\" /><path clip-path=\"url(#clip8300)\" d=\"M 0 0 M463.117 1120.72 L475.593 1120.72 L475.593 1124.51 L463.117 1124.51 L463.117 1120.72 Z\" fill=\"#000000\" fill-rule=\"evenodd\" fill-opacity=\"1\" /><path clip-path=\"url(#clip8300)\" d=\"M 0 0 M484.691 1131.66 L501.01 1131.66 L501.01 1135.6 L479.066 1135.6 L479.066 1131.66 Q481.728 1128.91 486.311 1124.28 Q490.917 1119.63 492.098 1118.29 Q494.343 1115.76 495.223 1114.03 Q496.126 1112.27 496.126 1110.58 Q496.126 1107.82 494.181 1106.09 Q492.26 1104.35 489.158 1104.35 Q486.959 1104.35 484.505 1105.11 Q482.075 1105.88 479.297 1107.43 L479.297 1102.71 Q482.121 1101.57 484.575 1100.99 Q487.028 1100.41 489.066 1100.41 Q494.436 1100.41 497.63 1103.1 Q500.825 1105.79 500.825 1110.28 Q500.825 1112.41 500.015 1114.33 Q499.227 1116.22 497.121 1118.82 Q496.542 1119.49 493.44 1122.71 Q490.339 1125.9 484.691 1131.66 Z\" fill=\"#000000\" fill-rule=\"evenodd\" fill-opacity=\"1\" /><path clip-path=\"url(#clip8300)\" d=\"M 0 0 M708.615 1120.72 L721.092 1120.72 L721.092 1124.51 L708.615 1124.51 L708.615 1120.72 Z\" fill=\"#000000\" fill-rule=\"evenodd\" fill-opacity=\"1\" /><path clip-path=\"url(#clip8300)\" d=\"M 0 0 M726.972 1131.66 L734.61 1131.66 L734.61 1105.3 L726.3 1106.97 L726.3 1102.71 L734.564 1101.04 L739.24 1101.04 L739.24 1131.66 L746.879 1131.66 L746.879 1135.6 L726.972 1135.6 L726.972 1131.66 Z\" fill=\"#000000\" fill-rule=\"evenodd\" fill-opacity=\"1\" /><path clip-path=\"url(#clip8300)\" d=\"M 0 0 M973.431 1104.12 Q969.82 1104.12 967.991 1107.68 Q966.186 1111.23 966.186 1118.35 Q966.186 1125.46 967.991 1129.03 Q969.82 1132.57 973.431 1132.57 Q977.065 1132.57 978.871 1129.03 Q980.699 1125.46 980.699 1118.35 Q980.699 1111.23 978.871 1107.68 Q977.065 1104.12 973.431 1104.12 M973.431 1100.41 Q979.241 1100.41 982.297 1105.02 Q985.375 1109.6 985.375 1118.35 Q985.375 1127.08 982.297 1131.69 Q979.241 1136.27 973.431 1136.27 Q967.621 1136.27 964.542 1131.69 Q961.487 1127.08 961.487 1118.35 Q961.487 1109.6 964.542 1105.02 Q967.621 1100.41 973.431 1100.41 Z\" fill=\"#000000\" fill-rule=\"evenodd\" fill-opacity=\"1\" /><path clip-path=\"url(#clip8300)\" d=\"M 0 0 M1209.5 1131.66 L1217.14 1131.66 L1217.14 1105.3 L1208.83 1106.97 L1208.83 1102.71 L1217.09 1101.04 L1221.77 1101.04 L1221.77 1131.66 L1229.4 1131.66 L1229.4 1135.6 L1209.5 1135.6 L1209.5 1131.66 Z\" fill=\"#000000\" fill-rule=\"evenodd\" fill-opacity=\"1\" /><path clip-path=\"url(#clip8300)\" d=\"M 0 0 M1459.45 1131.66 L1475.77 1131.66 L1475.77 1135.6 L1453.83 1135.6 L1453.83 1131.66 Q1456.49 1128.91 1461.07 1124.28 Q1465.68 1119.63 1466.86 1118.29 Q1469.1 1115.76 1469.98 1114.03 Q1470.89 1112.27 1470.89 1110.58 Q1470.89 1107.82 1468.94 1106.09 Q1467.02 1104.35 1463.92 1104.35 Q1461.72 1104.35 1459.27 1105.11 Q1456.84 1105.88 1454.06 1107.43 L1454.06 1102.71 Q1456.88 1101.57 1459.34 1100.99 Q1461.79 1100.41 1463.83 1100.41 Q1469.2 1100.41 1472.39 1103.1 Q1475.59 1105.79 1475.59 1110.28 Q1475.59 1112.41 1474.78 1114.33 Q1473.99 1116.22 1471.88 1118.82 Q1471.3 1119.49 1468.2 1122.71 Q1465.1 1125.9 1459.45 1131.66 Z\" fill=\"#000000\" fill-rule=\"evenodd\" fill-opacity=\"1\" /><path clip-path=\"url(#clip8300)\" d=\"M 0 0 M94.7512 988.117 L111.071 988.117 L111.071 992.052 L89.1262 992.052 L89.1262 988.117 Q91.7883 985.363 96.3716 980.733 Q100.978 976.08 102.159 974.738 Q104.404 972.215 105.284 970.478 Q106.186 968.719 106.186 967.029 Q106.186 964.275 104.242 962.539 Q102.321 960.803 99.2188 960.803 Q97.0197 960.803 94.566 961.566 Q92.1355 962.33 89.3577 963.881 L89.3577 959.159 Q92.1818 958.025 94.6355 957.446 Q97.0892 956.867 99.1262 956.867 Q104.497 956.867 107.691 959.553 Q110.885 962.238 110.885 966.728 Q110.885 968.858 110.075 970.779 Q109.288 972.678 107.182 975.27 Q106.603 975.941 103.501 979.159 Q100.399 982.353 94.7512 988.117 Z\" fill=\"#000000\" fill-rule=\"evenodd\" fill-opacity=\"1\" /><path clip-path=\"url(#clip8300)\" d=\"M 0 0 M126.14 960.571 Q122.529 960.571 120.7 964.136 Q118.895 967.678 118.895 974.807 Q118.895 981.914 120.7 985.478 Q122.529 989.02 126.14 989.02 Q129.774 989.02 131.58 985.478 Q133.408 981.914 133.408 974.807 Q133.408 967.678 131.58 964.136 Q129.774 960.571 126.14 960.571 M126.14 956.867 Q131.95 956.867 135.006 961.474 Q138.084 966.057 138.084 974.807 Q138.084 983.534 135.006 988.14 Q131.95 992.724 126.14 992.724 Q120.33 992.724 117.251 988.14 Q114.196 983.534 114.196 974.807 Q114.196 966.057 117.251 961.474 Q120.33 956.867 126.14 956.867 Z\" fill=\"#000000\" fill-rule=\"evenodd\" fill-opacity=\"1\" /><path clip-path=\"url(#clip8300)\" d=\"M 0 0 M153.154 960.571 Q149.543 960.571 147.714 964.136 Q145.908 967.678 145.908 974.807 Q145.908 981.914 147.714 985.478 Q149.543 989.02 153.154 989.02 Q156.788 989.02 158.593 985.478 Q160.422 981.914 160.422 974.807 Q160.422 967.678 158.593 964.136 Q156.788 960.571 153.154 960.571 M153.154 956.867 Q158.964 956.867 162.019 961.474 Q165.098 966.057 165.098 974.807 Q165.098 983.534 162.019 988.14 Q158.964 992.724 153.154 992.724 Q147.344 992.724 144.265 988.14 Q141.209 983.534 141.209 974.807 Q141.209 966.057 144.265 961.474 Q147.344 956.867 153.154 956.867 Z\" fill=\"#000000\" fill-rule=\"evenodd\" fill-opacity=\"1\" /><path clip-path=\"url(#clip8300)\" d=\"M 0 0 M101.487 828.611 L89.6818 847.06 L101.487 847.06 L101.487 828.611 M100.26 824.537 L106.14 824.537 L106.14 847.06 L111.071 847.06 L111.071 850.949 L106.14 850.949 L106.14 859.097 L101.487 859.097 L101.487 850.949 L85.8855 850.949 L85.8855 846.435 L100.26 824.537 Z\" fill=\"#000000\" fill-rule=\"evenodd\" fill-opacity=\"1\" /><path clip-path=\"url(#clip8300)\" d=\"M 0 0 M126.14 827.616 Q122.529 827.616 120.7 831.18 Q118.895 834.722 118.895 841.852 Q118.895 848.958 120.7 852.523 Q122.529 856.064 126.14 856.064 Q129.774 856.064 131.58 852.523 Q133.408 848.958 133.408 841.852 Q133.408 834.722 131.58 831.18 Q129.774 827.616 126.14 827.616 M126.14 823.912 Q131.95 823.912 135.006 828.518 Q138.084 833.102 138.084 841.852 Q138.084 850.578 135.006 855.185 Q131.95 859.768 126.14 859.768 Q120.33 859.768 117.251 855.185 Q114.196 850.578 114.196 841.852 Q114.196 833.102 117.251 828.518 Q120.33 823.912 126.14 823.912 Z\" fill=\"#000000\" fill-rule=\"evenodd\" fill-opacity=\"1\" /><path clip-path=\"url(#clip8300)\" d=\"M 0 0 M153.154 827.616 Q149.543 827.616 147.714 831.18 Q145.908 834.722 145.908 841.852 Q145.908 848.958 147.714 852.523 Q149.543 856.064 153.154 856.064 Q156.788 856.064 158.593 852.523 Q160.422 848.958 160.422 841.852 Q160.422 834.722 158.593 831.18 Q156.788 827.616 153.154 827.616 M153.154 823.912 Q158.964 823.912 162.019 828.518 Q165.098 833.102 165.098 841.852 Q165.098 850.578 162.019 855.185 Q158.964 859.768 153.154 859.768 Q147.344 859.768 144.265 855.185 Q141.209 850.578 141.209 841.852 Q141.209 833.102 144.265 828.518 Q147.344 823.912 153.154 823.912 Z\" fill=\"#000000\" fill-rule=\"evenodd\" fill-opacity=\"1\" /><path clip-path=\"url(#clip8300)\" d=\"M 0 0 M99.5429 706.998 Q96.3947 706.998 94.5429 709.151 Q92.7142 711.303 92.7142 715.053 Q92.7142 718.78 94.5429 720.956 Q96.3947 723.109 99.5429 723.109 Q102.691 723.109 104.52 720.956 Q106.372 718.78 106.372 715.053 Q106.372 711.303 104.52 709.151 Q102.691 706.998 99.5429 706.998 M108.825 692.345 L108.825 696.604 Q107.066 695.771 105.26 695.331 Q103.478 694.891 101.719 694.891 Q97.0892 694.891 94.6355 698.016 Q92.2049 701.141 91.8577 707.461 Q93.2234 705.447 95.2836 704.382 Q97.3438 703.294 99.8206 703.294 Q105.029 703.294 108.038 706.465 Q111.071 709.614 111.071 715.053 Q111.071 720.377 107.922 723.595 Q104.774 726.813 99.5429 726.813 Q93.5475 726.813 90.3762 722.229 Q87.205 717.623 87.205 708.896 Q87.205 700.702 91.0938 695.841 Q94.9827 690.956 101.534 690.956 Q103.293 690.956 105.075 691.304 Q106.881 691.651 108.825 692.345 Z\" fill=\"#000000\" fill-rule=\"evenodd\" fill-opacity=\"1\" /><path clip-path=\"url(#clip8300)\" d=\"M 0 0 M126.14 694.66 Q122.529 694.66 120.7 698.225 Q118.895 701.766 118.895 708.896 Q118.895 716.002 120.7 719.567 Q122.529 723.109 126.14 723.109 Q129.774 723.109 131.58 719.567 Q133.408 716.002 133.408 708.896 Q133.408 701.766 131.58 698.225 Q129.774 694.66 126.14 694.66 M126.14 690.956 Q131.95 690.956 135.006 695.563 Q138.084 700.146 138.084 708.896 Q138.084 717.623 135.006 722.229 Q131.95 726.813 126.14 726.813 Q120.33 726.813 117.251 722.229 Q114.196 717.623 114.196 708.896 Q114.196 700.146 117.251 695.563 Q120.33 690.956 126.14 690.956 Z\" fill=\"#000000\" fill-rule=\"evenodd\" fill-opacity=\"1\" /><path clip-path=\"url(#clip8300)\" d=\"M 0 0 M153.154 694.66 Q149.543 694.66 147.714 698.225 Q145.908 701.766 145.908 708.896 Q145.908 716.002 147.714 719.567 Q149.543 723.109 153.154 723.109 Q156.788 723.109 158.593 719.567 Q160.422 716.002 160.422 708.896 Q160.422 701.766 158.593 698.225 Q156.788 694.66 153.154 694.66 M153.154 690.956 Q158.964 690.956 162.019 695.563 Q165.098 700.146 165.098 708.896 Q165.098 717.623 162.019 722.229 Q158.964 726.813 153.154 726.813 Q147.344 726.813 144.265 722.229 Q141.209 717.623 141.209 708.896 Q141.209 700.146 144.265 695.563 Q147.344 690.956 153.154 690.956 Z\" fill=\"#000000\" fill-rule=\"evenodd\" fill-opacity=\"1\" /><path clip-path=\"url(#clip8300)\" d=\"M 0 0 M99.2188 576.774 Q95.8855 576.774 93.9642 578.556 Q92.066 580.339 92.066 583.464 Q92.066 586.589 93.9642 588.371 Q95.8855 590.153 99.2188 590.153 Q102.552 590.153 104.473 588.371 Q106.395 586.565 106.395 583.464 Q106.395 580.339 104.473 578.556 Q102.575 576.774 99.2188 576.774 M94.5429 574.783 Q91.5336 574.042 89.8438 571.982 Q88.1772 569.922 88.1772 566.959 Q88.1772 562.816 91.117 560.408 Q94.0799 558.001 99.2188 558.001 Q104.381 558.001 107.321 560.408 Q110.26 562.816 110.26 566.959 Q110.26 569.922 108.571 571.982 Q106.904 574.042 103.918 574.783 Q107.297 575.57 109.172 577.862 Q111.071 580.153 111.071 583.464 Q111.071 588.487 107.992 591.172 Q104.936 593.857 99.2188 593.857 Q93.5012 593.857 90.4225 591.172 Q87.367 588.487 87.367 583.464 Q87.367 580.153 89.2651 577.862 Q91.1633 575.57 94.5429 574.783 M92.8299 567.399 Q92.8299 570.084 94.4966 571.589 Q96.1864 573.093 99.2188 573.093 Q102.228 573.093 103.918 571.589 Q105.631 570.084 105.631 567.399 Q105.631 564.714 103.918 563.209 Q102.228 561.704 99.2188 561.704 Q96.1864 561.704 94.4966 563.209 Q92.8299 564.714 92.8299 567.399 Z\" fill=\"#000000\" fill-rule=\"evenodd\" fill-opacity=\"1\" /><path clip-path=\"url(#clip8300)\" d=\"M 0 0 M126.14 561.704 Q122.529 561.704 120.7 565.269 Q118.895 568.811 118.895 575.94 Q118.895 583.047 120.7 586.612 Q122.529 590.153 126.14 590.153 Q129.774 590.153 131.58 586.612 Q133.408 583.047 133.408 575.94 Q133.408 568.811 131.58 565.269 Q129.774 561.704 126.14 561.704 M126.14 558.001 Q131.95 558.001 135.006 562.607 Q138.084 567.191 138.084 575.94 Q138.084 584.667 135.006 589.274 Q131.95 593.857 126.14 593.857 Q120.33 593.857 117.251 589.274 Q114.196 584.667 114.196 575.94 Q114.196 567.191 117.251 562.607 Q120.33 558.001 126.14 558.001 Z\" fill=\"#000000\" fill-rule=\"evenodd\" fill-opacity=\"1\" /><path clip-path=\"url(#clip8300)\" d=\"M 0 0 M153.154 561.704 Q149.543 561.704 147.714 565.269 Q145.908 568.811 145.908 575.94 Q145.908 583.047 147.714 586.612 Q149.543 590.153 153.154 590.153 Q156.788 590.153 158.593 586.612 Q160.422 583.047 160.422 575.94 Q160.422 568.811 158.593 565.269 Q156.788 561.704 153.154 561.704 M153.154 558.001 Q158.964 558.001 162.019 562.607 Q165.098 567.191 165.098 575.94 Q165.098 584.667 162.019 589.274 Q158.964 593.857 153.154 593.857 Q147.344 593.857 144.265 589.274 Q141.209 584.667 141.209 575.94 Q141.209 567.191 144.265 562.607 Q147.344 558.001 153.154 558.001 Z\" fill=\"#000000\" fill-rule=\"evenodd\" fill-opacity=\"1\" /><path clip-path=\"url(#clip8300)\" d=\"M 0 0 M64.1495 456.295 L71.7884 456.295 L71.7884 429.929 L63.4782 431.596 L63.4782 427.337 L71.7421 425.67 L76.418 425.67 L76.418 456.295 L84.0568 456.295 L84.0568 460.23 L64.1495 460.23 L64.1495 456.295 Z\" fill=\"#000000\" fill-rule=\"evenodd\" fill-opacity=\"1\" /><path clip-path=\"url(#clip8300)\" d=\"M 0 0 M99.1262 428.749 Q95.5151 428.749 93.6864 432.314 Q91.8809 435.855 91.8809 442.985 Q91.8809 450.091 93.6864 453.656 Q95.5151 457.198 99.1262 457.198 Q102.76 457.198 104.566 453.656 Q106.395 450.091 106.395 442.985 Q106.395 435.855 104.566 432.314 Q102.76 428.749 99.1262 428.749 M99.1262 425.045 Q104.936 425.045 107.992 429.652 Q111.071 434.235 111.071 442.985 Q111.071 451.712 107.992 456.318 Q104.936 460.901 99.1262 460.901 Q93.316 460.901 90.2374 456.318 Q87.1818 451.712 87.1818 442.985 Q87.1818 434.235 90.2374 429.652 Q93.316 425.045 99.1262 425.045 Z\" fill=\"#000000\" fill-rule=\"evenodd\" fill-opacity=\"1\" /><path clip-path=\"url(#clip8300)\" d=\"M 0 0 M126.14 428.749 Q122.529 428.749 120.7 432.314 Q118.895 435.855 118.895 442.985 Q118.895 450.091 120.7 453.656 Q122.529 457.198 126.14 457.198 Q129.774 457.198 131.58 453.656 Q133.408 450.091 133.408 442.985 Q133.408 435.855 131.58 432.314 Q129.774 428.749 126.14 428.749 M126.14 425.045 Q131.95 425.045 135.006 429.652 Q138.084 434.235 138.084 442.985 Q138.084 451.712 135.006 456.318 Q131.95 460.901 126.14 460.901 Q120.33 460.901 117.251 456.318 Q114.196 451.712 114.196 442.985 Q114.196 434.235 117.251 429.652 Q120.33 425.045 126.14 425.045 Z\" fill=\"#000000\" fill-rule=\"evenodd\" fill-opacity=\"1\" /><path clip-path=\"url(#clip8300)\" d=\"M 0 0 M153.154 428.749 Q149.543 428.749 147.714 432.314 Q145.908 435.855 145.908 442.985 Q145.908 450.091 147.714 453.656 Q149.543 457.198 153.154 457.198 Q156.788 457.198 158.593 453.656 Q160.422 450.091 160.422 442.985 Q160.422 435.855 158.593 432.314 Q156.788 428.749 153.154 428.749 M153.154 425.045 Q158.964 425.045 162.019 429.652 Q165.098 434.235 165.098 442.985 Q165.098 451.712 162.019 456.318 Q158.964 460.901 153.154 460.901 Q147.344 460.901 144.265 456.318 Q141.209 451.712 141.209 442.985 Q141.209 434.235 144.265 429.652 Q147.344 425.045 153.154 425.045 Z\" fill=\"#000000\" fill-rule=\"evenodd\" fill-opacity=\"1\" /><path clip-path=\"url(#clip8300)\" d=\"M 0 0 M65.7467 323.339 L73.3856 323.339 L73.3856 296.974 L65.0754 298.641 L65.0754 294.381 L73.3393 292.715 L78.0152 292.715 L78.0152 323.339 L85.654 323.339 L85.654 327.275 L65.7467 327.275 L65.7467 323.339 Z\" fill=\"#000000\" fill-rule=\"evenodd\" fill-opacity=\"1\" /><path clip-path=\"url(#clip8300)\" d=\"M 0 0 M94.7512 323.339 L111.071 323.339 L111.071 327.275 L89.1262 327.275 L89.1262 323.339 Q91.7883 320.585 96.3716 315.955 Q100.978 311.303 102.159 309.96 Q104.404 307.437 105.284 305.701 Q106.186 303.941 106.186 302.252 Q106.186 299.497 104.242 297.761 Q102.321 296.025 99.2188 296.025 Q97.0197 296.025 94.566 296.789 Q92.1355 297.553 89.3577 299.103 L89.3577 294.381 Q92.1818 293.247 94.6355 292.668 Q97.0892 292.09 99.1262 292.09 Q104.497 292.09 107.691 294.775 Q110.885 297.46 110.885 301.951 Q110.885 304.08 110.075 306.002 Q109.288 307.9 107.182 310.492 Q106.603 311.164 103.501 314.381 Q100.399 317.576 94.7512 323.339 Z\" fill=\"#000000\" fill-rule=\"evenodd\" fill-opacity=\"1\" /><path clip-path=\"url(#clip8300)\" d=\"M 0 0 M126.14 295.793 Q122.529 295.793 120.7 299.358 Q118.895 302.9 118.895 310.029 Q118.895 317.136 120.7 320.701 Q122.529 324.242 126.14 324.242 Q129.774 324.242 131.58 320.701 Q133.408 317.136 133.408 310.029 Q133.408 302.9 131.58 299.358 Q129.774 295.793 126.14 295.793 M126.14 292.09 Q131.95 292.09 135.006 296.696 Q138.084 301.279 138.084 310.029 Q138.084 318.756 135.006 323.363 Q131.95 327.946 126.14 327.946 Q120.33 327.946 117.251 323.363 Q114.196 318.756 114.196 310.029 Q114.196 301.279 117.251 296.696 Q120.33 292.09 126.14 292.09 Z\" fill=\"#000000\" fill-rule=\"evenodd\" fill-opacity=\"1\" /><path clip-path=\"url(#clip8300)\" d=\"M 0 0 M153.154 295.793 Q149.543 295.793 147.714 299.358 Q145.908 302.9 145.908 310.029 Q145.908 317.136 147.714 320.701 Q149.543 324.242 153.154 324.242 Q156.788 324.242 158.593 320.701 Q160.422 317.136 160.422 310.029 Q160.422 302.9 158.593 299.358 Q156.788 295.793 153.154 295.793 M153.154 292.09 Q158.964 292.09 162.019 296.696 Q165.098 301.279 165.098 310.029 Q165.098 318.756 162.019 323.363 Q158.964 327.946 153.154 327.946 Q147.344 327.946 144.265 323.363 Q141.209 318.756 141.209 310.029 Q141.209 301.279 144.265 296.696 Q147.344 292.09 153.154 292.09 Z\" fill=\"#000000\" fill-rule=\"evenodd\" fill-opacity=\"1\" /><path clip-path=\"url(#clip8300)\" d=\"M 0 0 M63.6634 190.384 L71.3023 190.384 L71.3023 164.018 L62.9921 165.685 L62.9921 161.426 L71.256 159.759 L75.9319 159.759 L75.9319 190.384 L83.5707 190.384 L83.5707 194.319 L63.6634 194.319 L63.6634 190.384 Z\" fill=\"#000000\" fill-rule=\"evenodd\" fill-opacity=\"1\" /><path clip-path=\"url(#clip8300)\" d=\"M 0 0 M101.487 163.833 L89.6818 182.282 L101.487 182.282 L101.487 163.833 M100.26 159.759 L106.14 159.759 L106.14 182.282 L111.071 182.282 L111.071 186.171 L106.14 186.171 L106.14 194.319 L101.487 194.319 L101.487 186.171 L85.8855 186.171 L85.8855 181.657 L100.26 159.759 Z\" fill=\"#000000\" fill-rule=\"evenodd\" fill-opacity=\"1\" /><path clip-path=\"url(#clip8300)\" d=\"M 0 0 M126.14 162.838 Q122.529 162.838 120.7 166.403 Q118.895 169.944 118.895 177.074 Q118.895 184.18 120.7 187.745 Q122.529 191.287 126.14 191.287 Q129.774 191.287 131.58 187.745 Q133.408 184.18 133.408 177.074 Q133.408 169.944 131.58 166.403 Q129.774 162.838 126.14 162.838 M126.14 159.134 Q131.95 159.134 135.006 163.741 Q138.084 168.324 138.084 177.074 Q138.084 185.801 135.006 190.407 Q131.95 194.99 126.14 194.99 Q120.33 194.99 117.251 190.407 Q114.196 185.801 114.196 177.074 Q114.196 168.324 117.251 163.741 Q120.33 159.134 126.14 159.134 Z\" fill=\"#000000\" fill-rule=\"evenodd\" fill-opacity=\"1\" /><path clip-path=\"url(#clip8300)\" d=\"M 0 0 M153.154 162.838 Q149.543 162.838 147.714 166.403 Q145.908 169.944 145.908 177.074 Q145.908 184.18 147.714 187.745 Q149.543 191.287 153.154 191.287 Q156.788 191.287 158.593 187.745 Q160.422 184.18 160.422 177.074 Q160.422 169.944 158.593 166.403 Q156.788 162.838 153.154 162.838 M153.154 159.134 Q158.964 159.134 162.019 163.741 Q165.098 168.324 165.098 177.074 Q165.098 185.801 162.019 190.407 Q158.964 194.99 153.154 194.99 Q147.344 194.99 144.265 190.407 Q141.209 185.801 141.209 177.074 Q141.209 168.324 144.265 163.741 Q147.344 159.134 153.154 159.134 Z\" fill=\"#000000\" fill-rule=\"evenodd\" fill-opacity=\"1\" /><circle clip-path=\"url(#clip8302)\" cx=\"219.919\" cy=\"1054.16\" r=\"14\" fill=\"#009af9\" fill-rule=\"evenodd\" fill-opacity=\"1\" stroke=\"#000000\" stroke-opacity=\"1\" stroke-width=\"2.4\"/>\n",
       "<circle clip-path=\"url(#clip8302)\" cx=\"241.047\" cy=\"1051.72\" r=\"14\" fill=\"#009af9\" fill-rule=\"evenodd\" fill-opacity=\"1\" stroke=\"#000000\" stroke-opacity=\"1\" stroke-width=\"2.4\"/>\n",
       "<circle clip-path=\"url(#clip8302)\" cx=\"255.788\" cy=\"1049.72\" r=\"14\" fill=\"#009af9\" fill-rule=\"evenodd\" fill-opacity=\"1\" stroke=\"#000000\" stroke-opacity=\"1\" stroke-width=\"2.4\"/>\n",
       "<circle clip-path=\"url(#clip8302)\" cx=\"258\" cy=\"1049.76\" r=\"14\" fill=\"#009af9\" fill-rule=\"evenodd\" fill-opacity=\"1\" stroke=\"#000000\" stroke-opacity=\"1\" stroke-width=\"2.4\"/>\n",
       "<circle clip-path=\"url(#clip8302)\" cx=\"275.689\" cy=\"1048.51\" r=\"14\" fill=\"#009af9\" fill-rule=\"evenodd\" fill-opacity=\"1\" stroke=\"#000000\" stroke-opacity=\"1\" stroke-width=\"2.4\"/>\n",
       "<circle clip-path=\"url(#clip8302)\" cx=\"286.253\" cy=\"1048.16\" r=\"14\" fill=\"#009af9\" fill-rule=\"evenodd\" fill-opacity=\"1\" stroke=\"#000000\" stroke-opacity=\"1\" stroke-width=\"2.4\"/>\n",
       "<circle clip-path=\"url(#clip8302)\" cx=\"309.593\" cy=\"1047.99\" r=\"14\" fill=\"#009af9\" fill-rule=\"evenodd\" fill-opacity=\"1\" stroke=\"#000000\" stroke-opacity=\"1\" stroke-width=\"2.4\"/>\n",
       "<circle clip-path=\"url(#clip8302)\" cx=\"310.33\" cy=\"1047.83\" r=\"14\" fill=\"#009af9\" fill-rule=\"evenodd\" fill-opacity=\"1\" stroke=\"#000000\" stroke-opacity=\"1\" stroke-width=\"2.4\"/>\n",
       "<circle clip-path=\"url(#clip8302)\" cx=\"326.545\" cy=\"1046.3\" r=\"14\" fill=\"#009af9\" fill-rule=\"evenodd\" fill-opacity=\"1\" stroke=\"#000000\" stroke-opacity=\"1\" stroke-width=\"2.4\"/>\n",
       "<circle clip-path=\"url(#clip8302)\" cx=\"363.889\" cy=\"1044.01\" r=\"14\" fill=\"#009af9\" fill-rule=\"evenodd\" fill-opacity=\"1\" stroke=\"#000000\" stroke-opacity=\"1\" stroke-width=\"2.4\"/>\n",
       "<circle clip-path=\"url(#clip8302)\" cx=\"392.88\" cy=\"1040.79\" r=\"14\" fill=\"#009af9\" fill-rule=\"evenodd\" fill-opacity=\"1\" stroke=\"#000000\" stroke-opacity=\"1\" stroke-width=\"2.4\"/>\n",
       "<circle clip-path=\"url(#clip8302)\" cx=\"402.953\" cy=\"1040.55\" r=\"14\" fill=\"#009af9\" fill-rule=\"evenodd\" fill-opacity=\"1\" stroke=\"#000000\" stroke-opacity=\"1\" stroke-width=\"2.4\"/>\n",
       "<circle clip-path=\"url(#clip8302)\" cx=\"604.659\" cy=\"840.705\" r=\"14\" fill=\"#009af9\" fill-rule=\"evenodd\" fill-opacity=\"1\" stroke=\"#000000\" stroke-opacity=\"1\" stroke-width=\"2.4\"/>\n",
       "<circle clip-path=\"url(#clip8302)\" cx=\"614.733\" cy=\"847.983\" r=\"14\" fill=\"#009af9\" fill-rule=\"evenodd\" fill-opacity=\"1\" stroke=\"#000000\" stroke-opacity=\"1\" stroke-width=\"2.4\"/>\n",
       "<circle clip-path=\"url(#clip8302)\" cx=\"660.43\" cy=\"730.444\" r=\"14\" fill=\"#009af9\" fill-rule=\"evenodd\" fill-opacity=\"1\" stroke=\"#000000\" stroke-opacity=\"1\" stroke-width=\"2.4\"/>\n",
       "<circle clip-path=\"url(#clip8302)\" cx=\"675.662\" cy=\"685.384\" r=\"14\" fill=\"#009af9\" fill-rule=\"evenodd\" fill-opacity=\"1\" stroke=\"#000000\" stroke-opacity=\"1\" stroke-width=\"2.4\"/>\n",
       "<circle clip-path=\"url(#clip8302)\" cx=\"703.179\" cy=\"620.41\" r=\"14\" fill=\"#009af9\" fill-rule=\"evenodd\" fill-opacity=\"1\" stroke=\"#000000\" stroke-opacity=\"1\" stroke-width=\"2.4\"/>\n",
       "<circle clip-path=\"url(#clip8302)\" cx=\"716.446\" cy=\"603.104\" r=\"14\" fill=\"#009af9\" fill-rule=\"evenodd\" fill-opacity=\"1\" stroke=\"#000000\" stroke-opacity=\"1\" stroke-width=\"2.4\"/>\n",
       "<circle clip-path=\"url(#clip8302)\" cx=\"748.63\" cy=\"513.28\" r=\"14\" fill=\"#009af9\" fill-rule=\"evenodd\" fill-opacity=\"1\" stroke=\"#000000\" stroke-opacity=\"1\" stroke-width=\"2.4\"/>\n",
       "<circle clip-path=\"url(#clip8302)\" cx=\"798.013\" cy=\"449.076\" r=\"14\" fill=\"#009af9\" fill-rule=\"evenodd\" fill-opacity=\"1\" stroke=\"#000000\" stroke-opacity=\"1\" stroke-width=\"2.4\"/>\n",
       "<circle clip-path=\"url(#clip8302)\" cx=\"834.374\" cy=\"383.048\" r=\"14\" fill=\"#009af9\" fill-rule=\"evenodd\" fill-opacity=\"1\" stroke=\"#000000\" stroke-opacity=\"1\" stroke-width=\"2.4\"/>\n",
       "<circle clip-path=\"url(#clip8302)\" cx=\"839.533\" cy=\"389.16\" r=\"14\" fill=\"#009af9\" fill-rule=\"evenodd\" fill-opacity=\"1\" stroke=\"#000000\" stroke-opacity=\"1\" stroke-width=\"2.4\"/>\n",
       "<circle clip-path=\"url(#clip8302)\" cx=\"875.157\" cy=\"361.42\" r=\"14\" fill=\"#009af9\" fill-rule=\"evenodd\" fill-opacity=\"1\" stroke=\"#000000\" stroke-opacity=\"1\" stroke-width=\"2.4\"/>\n",
       "<circle clip-path=\"url(#clip8302)\" cx=\"897.515\" cy=\"324.386\" r=\"14\" fill=\"#009af9\" fill-rule=\"evenodd\" fill-opacity=\"1\" stroke=\"#000000\" stroke-opacity=\"1\" stroke-width=\"2.4\"/>\n",
       "<circle clip-path=\"url(#clip8302)\" cx=\"946.651\" cy=\"269.755\" r=\"14\" fill=\"#009af9\" fill-rule=\"evenodd\" fill-opacity=\"1\" stroke=\"#000000\" stroke-opacity=\"1\" stroke-width=\"2.4\"/>\n",
       "<circle clip-path=\"url(#clip8302)\" cx=\"948.125\" cy=\"261.124\" r=\"14\" fill=\"#009af9\" fill-rule=\"evenodd\" fill-opacity=\"1\" stroke=\"#000000\" stroke-opacity=\"1\" stroke-width=\"2.4\"/>\n",
       "<circle clip-path=\"url(#clip8302)\" cx=\"975.888\" cy=\"251.269\" r=\"14\" fill=\"#009af9\" fill-rule=\"evenodd\" fill-opacity=\"1\" stroke=\"#000000\" stroke-opacity=\"1\" stroke-width=\"2.4\"/>\n",
       "<circle clip-path=\"url(#clip8302)\" cx=\"1002.67\" cy=\"225.207\" r=\"14\" fill=\"#009af9\" fill-rule=\"evenodd\" fill-opacity=\"1\" stroke=\"#000000\" stroke-opacity=\"1\" stroke-width=\"2.4\"/>\n",
       "<circle clip-path=\"url(#clip8302)\" cx=\"1066.05\" cy=\"207.71\" r=\"14\" fill=\"#009af9\" fill-rule=\"evenodd\" fill-opacity=\"1\" stroke=\"#000000\" stroke-opacity=\"1\" stroke-width=\"2.4\"/>\n",
       "<circle clip-path=\"url(#clip8302)\" cx=\"1167.52\" cy=\"167.394\" r=\"14\" fill=\"#009af9\" fill-rule=\"evenodd\" fill-opacity=\"1\" stroke=\"#000000\" stroke-opacity=\"1\" stroke-width=\"2.4\"/>\n",
       "<circle clip-path=\"url(#clip8302)\" cx=\"1210.02\" cy=\"160.281\" r=\"14\" fill=\"#009af9\" fill-rule=\"evenodd\" fill-opacity=\"1\" stroke=\"#000000\" stroke-opacity=\"1\" stroke-width=\"2.4\"/>\n",
       "<circle clip-path=\"url(#clip8302)\" cx=\"1220.59\" cy=\"162.823\" r=\"14\" fill=\"#009af9\" fill-rule=\"evenodd\" fill-opacity=\"1\" stroke=\"#000000\" stroke-opacity=\"1\" stroke-width=\"2.4\"/>\n",
       "<circle clip-path=\"url(#clip8302)\" cx=\"1247.37\" cy=\"148.479\" r=\"14\" fill=\"#009af9\" fill-rule=\"evenodd\" fill-opacity=\"1\" stroke=\"#000000\" stroke-opacity=\"1\" stroke-width=\"2.4\"/>\n",
       "<circle clip-path=\"url(#clip8302)\" cx=\"1359.65\" cy=\"134.261\" r=\"14\" fill=\"#009af9\" fill-rule=\"evenodd\" fill-opacity=\"1\" stroke=\"#000000\" stroke-opacity=\"1\" stroke-width=\"2.4\"/>\n",
       "<circle clip-path=\"url(#clip8302)\" cx=\"1425.73\" cy=\"131.366\" r=\"14\" fill=\"#009af9\" fill-rule=\"evenodd\" fill-opacity=\"1\" stroke=\"#000000\" stroke-opacity=\"1\" stroke-width=\"2.4\"/>\n",
       "<circle clip-path=\"url(#clip8302)\" cx=\"1476.35\" cy=\"145.2\" r=\"14\" fill=\"#009af9\" fill-rule=\"evenodd\" fill-opacity=\"1\" stroke=\"#000000\" stroke-opacity=\"1\" stroke-width=\"2.4\"/>\n",
       "<circle clip-path=\"url(#clip8302)\" cx=\"1513.94\" cy=\"138.729\" r=\"14\" fill=\"#009af9\" fill-rule=\"evenodd\" fill-opacity=\"1\" stroke=\"#000000\" stroke-opacity=\"1\" stroke-width=\"2.4\"/>\n",
       "<polyline clip-path=\"url(#clip8302)\" style=\"stroke:#ff0000; stroke-width:8; stroke-opacity:1; fill:none\" points=\"\n",
       "  219.919,1056.73 226.237,1055.31 232.556,1053.99 290.98,1046.42 349.404,1044.77 384.515,1044.15 419.625,1041.08 449.311,1034.18 478.996,1020.87 511.243,996.372 \n",
       "  543.49,959.071 573.219,912.584 602.947,855.522 634.82,785.662 666.692,711.338 703.619,625.887 740.546,546.617 773.363,484.027 806.179,429.612 834.957,388.41 \n",
       "  863.734,352.735 895.109,319.338 926.483,290.798 958.045,266.145 989.606,244.823 1059.4,206.588 1125.8,178.196 1194.84,154.06 1252.96,136.662 1323.92,117.97 \n",
       "  1390.63,102.277 1497.49,79.8596 1513.94,76.6465 \n",
       "  \"/>\n",
       "</svg>\n"
      ]
     },
     "execution_count": 134,
     "metadata": {},
     "output_type": "execute_result"
    }
   ],
   "source": [
    "scatter(x, y, leg=false)\n",
    "h(β, x) = (β[1] + β[2] * x + β[3] * x^2 + β[4] * x^3) / (1 + β[5] * x + β[6] * x^2 + β[7] * x^3)\n",
    "β = output.solution\n",
    "plot!(x -> h(β, x), extrema(x)..., lw=2, c=:red)"
   ]
  },
  {
   "cell_type": "code",
   "execution_count": null,
   "metadata": {},
   "outputs": [],
   "source": []
  }
 ],
 "metadata": {
  "kernelspec": {
   "display_name": "Julia 1.4.0",
   "language": "julia",
   "name": "julia-1.4"
  },
  "language_info": {
   "file_extension": ".jl",
   "mimetype": "application/julia",
   "name": "julia",
   "version": "1.4.0"
  }
 },
 "nbformat": 4,
 "nbformat_minor": 2
}
